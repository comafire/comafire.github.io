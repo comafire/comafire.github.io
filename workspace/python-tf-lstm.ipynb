{
 "cells": [
  {
   "cell_type": "code",
   "execution_count": 1,
   "metadata": {
    "collapsed": true,
    "deletable": true,
    "editable": true
   },
   "outputs": [],
   "source": [
    "import numpy as np\n",
    "import tensorflow as tf"
   ]
  },
  {
   "cell_type": "code",
   "execution_count": 2,
   "metadata": {
    "collapsed": false,
    "deletable": true,
    "editable": true
   },
   "outputs": [
    {
     "name": "stdout",
     "output_type": "stream",
     "text": [
      "['h', 'e', 'l', 'o']\n",
      "{'e': 1, 'h': 0, 'l': 2, 'o': 3}\n",
      "[[ 1.  0.  0.  0.]\n",
      " [ 0.  1.  0.  0.]\n",
      " [ 0.  0.  1.  0.]\n",
      " [ 0.  0.  1.  0.]]\n",
      "[0, 1, 2, 2, 3]\n"
     ]
    }
   ],
   "source": [
    "char_rdic = list('helo')\n",
    "print(char_rdic)\n",
    "char_dic = {w: i for i, w in enumerate(char_rdic)}\n",
    "print(char_dic)\n",
    "x_data = np.array([\n",
    "    [1, 0, 0, 0],  # h\n",
    "    [0, 1, 0, 0],  # e\n",
    "    [0, 0, 1, 0],  # l\n",
    "    [0, 0, 1, 0],  # l\n",
    "], dtype='f')\n",
    "print(x_data)\n",
    "sample = [char_dic[c] for c in \"hello\"]\n",
    "print(sample)"
   ]
  },
  {
   "cell_type": "code",
   "execution_count": 4,
   "metadata": {
    "collapsed": false,
    "deletable": true,
    "editable": true
   },
   "outputs": [
    {
     "name": "stdout",
     "output_type": "stream",
     "text": [
      "4\n"
     ]
    }
   ],
   "source": [
    "print(len(char_dic))"
   ]
  },
  {
   "cell_type": "code",
   "execution_count": 5,
   "metadata": {
    "collapsed": false,
    "deletable": true,
    "editable": true
   },
   "outputs": [
    {
     "ename": "SyntaxError",
     "evalue": "Missing parentheses in call to 'print' (<ipython-input-5-5015b0ac1b5f>, line 10)",
     "output_type": "error",
     "traceback": [
      "\u001b[0;36m  File \u001b[0;32m\"<ipython-input-5-5015b0ac1b5f>\"\u001b[0;36m, line \u001b[0;32m10\u001b[0m\n\u001b[0;31m    print rnn_cell.state_size\u001b[0m\n\u001b[0m                 ^\u001b[0m\n\u001b[0;31mSyntaxError\u001b[0m\u001b[0;31m:\u001b[0m Missing parentheses in call to 'print'\n"
     ]
    }
   ],
   "source": [
    "# Configuration\n",
    "char_vocab_size = len(char_dic)\n",
    "rnn_size = char_vocab_size  # 1 hot coding (one of 4)\n",
    "time_step_size = 4  # 'hell' -> predict 'ello'\n",
    "batch_size = 1  # one sample\n",
    "\n",
    "# RNN model\n",
    "rnn_cell = tf.nn.rnn_cell.BasicRNNCell(rnn_size)\n",
    "state = tf.zeros([batch_size, rnn_cell.state_size])\n",
    "print rnn_cell.state_size \n",
    "X_split = tf.split(0, time_step_size, x_data)\n",
    "print X_split\n",
    "outputs, state = tf.nn.rnn(rnn_cell, X_split, state)\n",
    "\n",
    "# logits: list of 2D Tensors of shape [batch_size x num_decoder_symbols]\n",
    "# targets: list of 1D batch-sized int32 Tensors of the same length as logits.\n",
    "# weights: list of 1D batch-sized float-Tensors of the same length as logits.\n",
    "logits = tf.reshape(tf.concat(1, outputs), [-1, rnn_size])\n",
    "targets = tf.reshape(sample[1:], [-1])\n",
    "weights = tf.ones([time_step_size * batch_size])\n",
    "\n",
    "loss = tf.nn.seq2seq.sequence_loss_by_example([logits], [targets], [weights])\n",
    "cost = tf.reduce_sum(loss) / batch_size\n",
    "train_op = tf.train.RMSPropOptimizer(0.01, 0.9).minimize(cost)"
   ]
  },
  {
   "cell_type": "code",
   "execution_count": 6,
   "metadata": {
    "collapsed": false,
    "deletable": true,
    "editable": true
   },
   "outputs": [
    {
     "ename": "AttributeError",
     "evalue": "module 'tensorflow.python.ops.nn' has no attribute 'rnn_cell'",
     "output_type": "error",
     "traceback": [
      "\u001b[0;31m---------------------------------------------------------------------------\u001b[0m",
      "\u001b[0;31mAttributeError\u001b[0m                            Traceback (most recent call last)",
      "\u001b[0;32m<ipython-input-6-0f96d17f9b5f>\u001b[0m in \u001b[0;36m<module>\u001b[0;34m()\u001b[0m\n\u001b[1;32m      9\u001b[0m \u001b[0;31m# LSTM\u001b[0m\u001b[0;34m\u001b[0m\u001b[0;34m\u001b[0m\u001b[0m\n\u001b[1;32m     10\u001b[0m \u001b[0mlstm_cells\u001b[0m \u001b[0;34m=\u001b[0m \u001b[0;34m[\u001b[0m\u001b[0;34m]\u001b[0m\u001b[0;34m\u001b[0m\u001b[0m\n\u001b[0;32m---> 11\u001b[0;31m \u001b[0mlstm_cell1\u001b[0m \u001b[0;34m=\u001b[0m \u001b[0mtf\u001b[0m\u001b[0;34m.\u001b[0m\u001b[0mnn\u001b[0m\u001b[0;34m.\u001b[0m\u001b[0mrnn_cell\u001b[0m\u001b[0;34m.\u001b[0m\u001b[0mBasicLSTMCell\u001b[0m\u001b[0;34m(\u001b[0m\u001b[0mlstm_size\u001b[0m\u001b[0;34m,\u001b[0m \u001b[0mstate_is_tuple\u001b[0m\u001b[0;34m=\u001b[0m\u001b[0;32mTrue\u001b[0m\u001b[0;34m)\u001b[0m\u001b[0;34m\u001b[0m\u001b[0m\n\u001b[0m\u001b[1;32m     12\u001b[0m \u001b[0mlstm_cell2\u001b[0m \u001b[0;34m=\u001b[0m \u001b[0mtf\u001b[0m\u001b[0;34m.\u001b[0m\u001b[0mnn\u001b[0m\u001b[0;34m.\u001b[0m\u001b[0mrnn_cell\u001b[0m\u001b[0;34m.\u001b[0m\u001b[0mBasicLSTMCell\u001b[0m\u001b[0;34m(\u001b[0m\u001b[0mlstm_size\u001b[0m\u001b[0;34m,\u001b[0m \u001b[0mstate_is_tuple\u001b[0m\u001b[0;34m=\u001b[0m\u001b[0;32mTrue\u001b[0m\u001b[0;34m)\u001b[0m\u001b[0;34m\u001b[0m\u001b[0m\n\u001b[1;32m     13\u001b[0m \u001b[0mlstm_cells\u001b[0m\u001b[0;34m.\u001b[0m\u001b[0mappend\u001b[0m\u001b[0;34m(\u001b[0m\u001b[0mlstm_cell1\u001b[0m\u001b[0;34m)\u001b[0m\u001b[0;34m\u001b[0m\u001b[0m\n",
      "\u001b[0;31mAttributeError\u001b[0m: module 'tensorflow.python.ops.nn' has no attribute 'rnn_cell'"
     ]
    }
   ],
   "source": [
    "from tensorflow.python.framework import dtypes\n",
    "\n",
    "# Configuration\n",
    "char_vocab_size = len(char_dic)\n",
    "lstm_size = char_vocab_size  # 1 hot coding (one of 4)\n",
    "time_step_size = 4  # 'hell' -> predict 'ello'\n",
    "batch_size = 1  # one sample\n",
    "\n",
    "# LSTM\n",
    "lstm_cells = []\n",
    "lstm_cell1 = tf.nn.rnn_cell.BasicLSTMCell(lstm_size, state_is_tuple=True)\n",
    "lstm_cell2 = tf.nn.rnn_cell.BasicLSTMCell(lstm_size, state_is_tuple=True)\n",
    "lstm_cells.append(lstm_cell1)\n",
    "lstm_cells.append(lstm_cell2)\n",
    "stacked_lstm = tf.nn.rnn_cell.MultiRNNCell(lstm_cells, state_is_tuple=True)\n",
    "\n",
    "X_split = tf.split(0, time_step_size, x_data)\n",
    "print(X_split)\n",
    "outputs, states = tf.nn.rnn(stacked_lstm, X_split, dtype=dtypes.float32)\n",
    "print(outputs)\n",
    "\n",
    "logits = tf.reshape(tf.concat(1, outputs), [-1, lstm_size])\n",
    "print(logits)\n",
    "targets = tf.reshape(sample[1:], [-1])\n",
    "print(targets)\n",
    "weights = tf.ones([time_step_size * batch_size])\n",
    "\n",
    "loss = tf.nn.seq2seq.sequence_loss_by_example([logits], [targets], [weights])\n",
    "cost = tf.reduce_sum(loss) / batch_size\n",
    "train_op = tf.train.AdamOptimizer(0.01).minimize(cost)"
   ]
  },
  {
   "cell_type": "code",
   "execution_count": 14,
   "metadata": {
    "collapsed": false,
    "deletable": true,
    "editable": true
   },
   "outputs": [
    {
     "name": "stdout",
     "output_type": "stream",
     "text": [
      "Tensor(\"Shape_15:0\", shape=(3,), dtype=int32)\n",
      "Tensor(\"Shape_16:0\", shape=(2,), dtype=int32)\n",
      "Tensor(\"Shape_17:0\", shape=(1,), dtype=int32)\n",
      "Tensor(\"Shape_18:0\", shape=(1,), dtype=int32)\n",
      "[1, 2, 2, 3]\n"
     ]
    }
   ],
   "source": [
    "# print(X_split)\n",
    "print(tf.shape(outputs))\n",
    "print tf.shape(logits)\n",
    "print tf.shape(weights)\n",
    "print tf.shape(targets)\n"
   ]
  },
  {
   "cell_type": "code",
   "execution_count": 5,
   "metadata": {
    "collapsed": false,
    "deletable": true,
    "editable": true
   },
   "outputs": [
    {
     "name": "stdout",
     "output_type": "stream",
     "text": [
      "WARNING:tensorflow:From <ipython-input-5-9ca40c4392e6>:4 in <module>.: initialize_all_variables (from tensorflow.python.ops.variables) is deprecated and will be removed after 2017-03-02.\n",
      "Instructions for updating:\n",
      "Use `tf.global_variables_initializer` instead.\n",
      "array([2, 2, 2, 2]), ['l', 'l', 'l', 'l']\n",
      "array([2, 2, 2, 2]), ['l', 'l', 'l', 'l']\n",
      "array([2, 2, 2, 2]), ['l', 'l', 'l', 'l']\n",
      "array([2, 2, 2, 2]), ['l', 'l', 'l', 'l']\n",
      "array([2, 2, 2, 2]), ['l', 'l', 'l', 'l']\n",
      "array([2, 2, 2, 2]), ['l', 'l', 'l', 'l']\n",
      "array([2, 2, 2, 2]), ['l', 'l', 'l', 'l']\n",
      "array([2, 2, 2, 2]), ['l', 'l', 'l', 'l']\n",
      "array([2, 2, 2, 2]), ['l', 'l', 'l', 'l']\n",
      "array([2, 2, 2, 2]), ['l', 'l', 'l', 'l']\n",
      "array([2, 2, 2, 2]), ['l', 'l', 'l', 'l']\n",
      "array([2, 2, 2, 2]), ['l', 'l', 'l', 'l']\n",
      "array([2, 2, 2, 2]), ['l', 'l', 'l', 'l']\n",
      "array([2, 2, 2, 2]), ['l', 'l', 'l', 'l']\n",
      "array([2, 2, 2, 2]), ['l', 'l', 'l', 'l']\n",
      "array([2, 2, 2, 2]), ['l', 'l', 'l', 'l']\n",
      "array([2, 2, 2, 2]), ['l', 'l', 'l', 'l']\n",
      "array([2, 2, 2, 2]), ['l', 'l', 'l', 'l']\n",
      "array([2, 2, 2, 2]), ['l', 'l', 'l', 'l']\n",
      "array([2, 2, 2, 2]), ['l', 'l', 'l', 'l']\n",
      "array([2, 2, 2, 2]), ['l', 'l', 'l', 'l']\n",
      "array([2, 2, 2, 2]), ['l', 'l', 'l', 'l']\n",
      "array([2, 2, 2, 3]), ['l', 'l', 'l', 'o']\n",
      "array([2, 2, 2, 3]), ['l', 'l', 'l', 'o']\n",
      "array([2, 2, 2, 3]), ['l', 'l', 'l', 'o']\n",
      "array([2, 2, 2, 3]), ['l', 'l', 'l', 'o']\n",
      "array([2, 2, 2, 3]), ['l', 'l', 'l', 'o']\n",
      "array([2, 2, 2, 3]), ['l', 'l', 'l', 'o']\n",
      "array([2, 2, 2, 3]), ['l', 'l', 'l', 'o']\n",
      "array([2, 2, 2, 2]), ['l', 'l', 'l', 'l']\n",
      "array([2, 2, 2, 2]), ['l', 'l', 'l', 'l']\n",
      "array([2, 2, 2, 2]), ['l', 'l', 'l', 'l']\n",
      "array([2, 2, 2, 2]), ['l', 'l', 'l', 'l']\n",
      "array([2, 2, 2, 2]), ['l', 'l', 'l', 'l']\n",
      "array([2, 2, 2, 2]), ['l', 'l', 'l', 'l']\n",
      "array([2, 2, 2, 2]), ['l', 'l', 'l', 'l']\n",
      "array([2, 2, 2, 2]), ['l', 'l', 'l', 'l']\n",
      "array([2, 2, 2, 2]), ['l', 'l', 'l', 'l']\n",
      "array([2, 2, 2, 2]), ['l', 'l', 'l', 'l']\n",
      "array([2, 2, 2, 2]), ['l', 'l', 'l', 'l']\n",
      "array([2, 2, 2, 2]), ['l', 'l', 'l', 'l']\n",
      "array([2, 2, 2, 2]), ['l', 'l', 'l', 'l']\n",
      "array([2, 2, 2, 2]), ['l', 'l', 'l', 'l']\n",
      "array([2, 2, 2, 2]), ['l', 'l', 'l', 'l']\n",
      "array([2, 2, 2, 2]), ['l', 'l', 'l', 'l']\n",
      "array([2, 2, 2, 2]), ['l', 'l', 'l', 'l']\n",
      "array([2, 2, 2, 2]), ['l', 'l', 'l', 'l']\n",
      "array([2, 2, 2, 2]), ['l', 'l', 'l', 'l']\n",
      "array([2, 2, 2, 2]), ['l', 'l', 'l', 'l']\n",
      "array([2, 2, 2, 2]), ['l', 'l', 'l', 'l']\n",
      "array([2, 2, 2, 2]), ['l', 'l', 'l', 'l']\n",
      "array([2, 2, 2, 2]), ['l', 'l', 'l', 'l']\n",
      "array([2, 2, 2, 2]), ['l', 'l', 'l', 'l']\n",
      "array([2, 2, 2, 2]), ['l', 'l', 'l', 'l']\n",
      "array([2, 2, 2, 2]), ['l', 'l', 'l', 'l']\n",
      "array([2, 2, 2, 2]), ['l', 'l', 'l', 'l']\n",
      "array([2, 2, 2, 2]), ['l', 'l', 'l', 'l']\n",
      "array([2, 2, 2, 2]), ['l', 'l', 'l', 'l']\n",
      "array([2, 2, 2, 2]), ['l', 'l', 'l', 'l']\n",
      "array([2, 2, 2, 2]), ['l', 'l', 'l', 'l']\n",
      "array([2, 2, 2, 2]), ['l', 'l', 'l', 'l']\n",
      "array([2, 2, 2, 2]), ['l', 'l', 'l', 'l']\n",
      "array([2, 2, 2, 2]), ['l', 'l', 'l', 'l']\n",
      "array([2, 2, 2, 2]), ['l', 'l', 'l', 'l']\n",
      "array([2, 2, 2, 2]), ['l', 'l', 'l', 'l']\n",
      "array([2, 2, 2, 2]), ['l', 'l', 'l', 'l']\n",
      "array([2, 2, 2, 2]), ['l', 'l', 'l', 'l']\n",
      "array([2, 2, 2, 2]), ['l', 'l', 'l', 'l']\n",
      "array([2, 2, 2, 2]), ['l', 'l', 'l', 'l']\n",
      "array([2, 2, 2, 2]), ['l', 'l', 'l', 'l']\n",
      "array([2, 2, 2, 2]), ['l', 'l', 'l', 'l']\n",
      "array([2, 2, 2, 2]), ['l', 'l', 'l', 'l']\n",
      "array([2, 2, 2, 2]), ['l', 'l', 'l', 'l']\n",
      "array([2, 2, 2, 3]), ['l', 'l', 'l', 'o']\n",
      "array([2, 2, 2, 3]), ['l', 'l', 'l', 'o']\n",
      "array([2, 2, 2, 3]), ['l', 'l', 'l', 'o']\n",
      "array([2, 2, 2, 3]), ['l', 'l', 'l', 'o']\n",
      "array([2, 2, 2, 3]), ['l', 'l', 'l', 'o']\n",
      "array([2, 2, 2, 3]), ['l', 'l', 'l', 'o']\n",
      "array([2, 2, 2, 3]), ['l', 'l', 'l', 'o']\n",
      "array([2, 2, 2, 3]), ['l', 'l', 'l', 'o']\n",
      "array([2, 2, 2, 3]), ['l', 'l', 'l', 'o']\n",
      "array([2, 2, 2, 3]), ['l', 'l', 'l', 'o']\n",
      "array([2, 2, 2, 3]), ['l', 'l', 'l', 'o']\n",
      "array([2, 2, 2, 3]), ['l', 'l', 'l', 'o']\n",
      "array([2, 2, 2, 3]), ['l', 'l', 'l', 'o']\n",
      "array([2, 2, 2, 3]), ['l', 'l', 'l', 'o']\n",
      "array([2, 2, 2, 3]), ['l', 'l', 'l', 'o']\n",
      "array([2, 2, 2, 3]), ['l', 'l', 'l', 'o']\n",
      "array([2, 2, 2, 3]), ['l', 'l', 'l', 'o']\n",
      "array([2, 2, 2, 3]), ['l', 'l', 'l', 'o']\n",
      "array([2, 2, 2, 3]), ['l', 'l', 'l', 'o']\n",
      "array([2, 2, 2, 3]), ['l', 'l', 'l', 'o']\n",
      "array([2, 2, 2, 3]), ['l', 'l', 'l', 'o']\n",
      "array([2, 2, 2, 3]), ['l', 'l', 'l', 'o']\n",
      "array([2, 2, 2, 3]), ['l', 'l', 'l', 'o']\n",
      "array([2, 2, 2, 3]), ['l', 'l', 'l', 'o']\n",
      "array([2, 2, 2, 3]), ['l', 'l', 'l', 'o']\n",
      "array([2, 2, 2, 3]), ['l', 'l', 'l', 'o']\n",
      "array([2, 2, 2, 3]), ['l', 'l', 'l', 'o']\n",
      "array([2, 2, 2, 3]), ['l', 'l', 'l', 'o']\n",
      "array([2, 2, 2, 3]), ['l', 'l', 'l', 'o']\n",
      "array([2, 2, 2, 3]), ['l', 'l', 'l', 'o']\n",
      "array([2, 2, 2, 3]), ['l', 'l', 'l', 'o']\n",
      "array([2, 2, 2, 3]), ['l', 'l', 'l', 'o']\n",
      "array([2, 2, 2, 3]), ['l', 'l', 'l', 'o']\n",
      "array([2, 2, 2, 3]), ['l', 'l', 'l', 'o']\n",
      "array([2, 2, 2, 3]), ['l', 'l', 'l', 'o']\n",
      "array([1, 2, 2, 3]), ['e', 'l', 'l', 'o']\n",
      "array([1, 2, 2, 3]), ['e', 'l', 'l', 'o']\n",
      "array([1, 2, 2, 3]), ['e', 'l', 'l', 'o']\n",
      "array([1, 2, 2, 3]), ['e', 'l', 'l', 'o']\n",
      "array([1, 2, 2, 3]), ['e', 'l', 'l', 'o']\n",
      "array([1, 2, 2, 3]), ['e', 'l', 'l', 'o']\n",
      "array([1, 2, 2, 3]), ['e', 'l', 'l', 'o']\n",
      "array([1, 2, 2, 3]), ['e', 'l', 'l', 'o']\n",
      "array([1, 2, 2, 3]), ['e', 'l', 'l', 'o']\n",
      "array([1, 2, 2, 3]), ['e', 'l', 'l', 'o']\n",
      "array([1, 2, 2, 3]), ['e', 'l', 'l', 'o']\n",
      "array([1, 2, 2, 3]), ['e', 'l', 'l', 'o']\n",
      "array([1, 2, 2, 3]), ['e', 'l', 'l', 'o']\n",
      "array([1, 2, 2, 3]), ['e', 'l', 'l', 'o']\n",
      "array([1, 2, 2, 3]), ['e', 'l', 'l', 'o']\n",
      "array([1, 2, 2, 3]), ['e', 'l', 'l', 'o']\n",
      "array([1, 2, 2, 3]), ['e', 'l', 'l', 'o']\n",
      "array([1, 2, 2, 3]), ['e', 'l', 'l', 'o']\n",
      "array([1, 2, 2, 3]), ['e', 'l', 'l', 'o']\n",
      "array([1, 2, 2, 3]), ['e', 'l', 'l', 'o']\n",
      "array([1, 2, 2, 3]), ['e', 'l', 'l', 'o']\n",
      "array([1, 2, 2, 3]), ['e', 'l', 'l', 'o']\n",
      "array([1, 2, 2, 3]), ['e', 'l', 'l', 'o']\n",
      "array([1, 2, 2, 3]), ['e', 'l', 'l', 'o']\n",
      "array([1, 2, 2, 3]), ['e', 'l', 'l', 'o']\n",
      "array([1, 2, 2, 3]), ['e', 'l', 'l', 'o']\n",
      "array([1, 2, 2, 3]), ['e', 'l', 'l', 'o']\n",
      "array([1, 2, 2, 3]), ['e', 'l', 'l', 'o']\n",
      "array([1, 2, 2, 3]), ['e', 'l', 'l', 'o']\n",
      "array([1, 2, 2, 3]), ['e', 'l', 'l', 'o']\n",
      "array([1, 2, 2, 3]), ['e', 'l', 'l', 'o']\n",
      "array([1, 2, 2, 3]), ['e', 'l', 'l', 'o']\n",
      "array([1, 2, 2, 3]), ['e', 'l', 'l', 'o']\n",
      "array([1, 2, 2, 3]), ['e', 'l', 'l', 'o']\n",
      "array([1, 2, 2, 3]), ['e', 'l', 'l', 'o']\n",
      "array([1, 2, 2, 3]), ['e', 'l', 'l', 'o']\n",
      "array([1, 2, 2, 3]), ['e', 'l', 'l', 'o']\n",
      "array([1, 2, 2, 3]), ['e', 'l', 'l', 'o']\n",
      "array([1, 2, 2, 3]), ['e', 'l', 'l', 'o']\n",
      "array([1, 2, 2, 3]), ['e', 'l', 'l', 'o']\n",
      "array([1, 2, 2, 3]), ['e', 'l', 'l', 'o']\n",
      "array([1, 2, 2, 3]), ['e', 'l', 'l', 'o']\n",
      "array([1, 2, 2, 3]), ['e', 'l', 'l', 'o']\n",
      "array([1, 2, 2, 3]), ['e', 'l', 'l', 'o']\n",
      "array([1, 2, 2, 3]), ['e', 'l', 'l', 'o']\n",
      "array([1, 2, 2, 3]), ['e', 'l', 'l', 'o']\n",
      "array([1, 2, 2, 3]), ['e', 'l', 'l', 'o']\n",
      "array([1, 2, 2, 3]), ['e', 'l', 'l', 'o']\n",
      "array([1, 2, 2, 3]), ['e', 'l', 'l', 'o']\n",
      "array([1, 2, 2, 3]), ['e', 'l', 'l', 'o']\n",
      "array([1, 2, 2, 3]), ['e', 'l', 'l', 'o']\n",
      "array([1, 2, 2, 3]), ['e', 'l', 'l', 'o']\n",
      "array([1, 2, 2, 3]), ['e', 'l', 'l', 'o']\n",
      "array([1, 2, 2, 3]), ['e', 'l', 'l', 'o']\n",
      "array([1, 2, 2, 3]), ['e', 'l', 'l', 'o']\n",
      "array([1, 2, 2, 3]), ['e', 'l', 'l', 'o']\n",
      "array([1, 2, 2, 3]), ['e', 'l', 'l', 'o']\n",
      "array([1, 2, 2, 3]), ['e', 'l', 'l', 'o']\n",
      "array([1, 2, 2, 3]), ['e', 'l', 'l', 'o']\n",
      "array([1, 2, 2, 3]), ['e', 'l', 'l', 'o']\n",
      "array([1, 2, 2, 3]), ['e', 'l', 'l', 'o']\n",
      "array([1, 2, 2, 3]), ['e', 'l', 'l', 'o']\n",
      "array([1, 2, 2, 3]), ['e', 'l', 'l', 'o']\n",
      "array([1, 2, 2, 3]), ['e', 'l', 'l', 'o']\n",
      "array([1, 2, 2, 3]), ['e', 'l', 'l', 'o']\n",
      "array([1, 2, 2, 3]), ['e', 'l', 'l', 'o']\n",
      "array([1, 2, 2, 3]), ['e', 'l', 'l', 'o']\n",
      "array([1, 2, 2, 3]), ['e', 'l', 'l', 'o']\n",
      "array([1, 2, 2, 3]), ['e', 'l', 'l', 'o']\n",
      "array([1, 2, 2, 3]), ['e', 'l', 'l', 'o']\n",
      "array([1, 2, 2, 3]), ['e', 'l', 'l', 'o']\n",
      "array([1, 2, 2, 3]), ['e', 'l', 'l', 'o']\n",
      "array([1, 2, 2, 3]), ['e', 'l', 'l', 'o']\n",
      "array([1, 2, 2, 3]), ['e', 'l', 'l', 'o']\n",
      "array([1, 2, 2, 3]), ['e', 'l', 'l', 'o']\n",
      "array([1, 2, 2, 3]), ['e', 'l', 'l', 'o']\n",
      "array([1, 2, 2, 3]), ['e', 'l', 'l', 'o']\n",
      "array([1, 2, 2, 3]), ['e', 'l', 'l', 'o']\n",
      "array([1, 2, 2, 3]), ['e', 'l', 'l', 'o']\n",
      "array([1, 2, 2, 3]), ['e', 'l', 'l', 'o']\n",
      "array([1, 2, 2, 3]), ['e', 'l', 'l', 'o']\n",
      "array([1, 2, 2, 3]), ['e', 'l', 'l', 'o']\n",
      "array([1, 2, 2, 3]), ['e', 'l', 'l', 'o']\n",
      "array([1, 2, 2, 3]), ['e', 'l', 'l', 'o']\n",
      "array([1, 2, 2, 3]), ['e', 'l', 'l', 'o']\n",
      "array([1, 2, 2, 3]), ['e', 'l', 'l', 'o']\n",
      "array([1, 2, 2, 3]), ['e', 'l', 'l', 'o']\n",
      "array([1, 2, 2, 3]), ['e', 'l', 'l', 'o']\n",
      "array([1, 2, 2, 3]), ['e', 'l', 'l', 'o']\n",
      "array([1, 2, 2, 3]), ['e', 'l', 'l', 'o']\n",
      "array([1, 2, 2, 3]), ['e', 'l', 'l', 'o']\n",
      "array([1, 2, 2, 3]), ['e', 'l', 'l', 'o']\n"
     ]
    }
   ],
   "source": [
    "# Launch the graph in a session\n",
    "with tf.Session() as sess:\n",
    "    # you need to initialize all variables\n",
    "    tf.initialize_all_variables().run()\n",
    "    for i in range(200):\n",
    "        sess.run(train_op)\n",
    "        result = sess.run(tf.arg_max(logits, 1))\n",
    "        print(\"%r, %r\" % (result, [char_rdic[t] for t in result]))"
   ]
  }
 ],
 "metadata": {
  "kernelspec": {
   "display_name": "Python 3",
   "language": "python",
   "name": "python3"
  },
  "language_info": {
   "codemirror_mode": {
    "name": "ipython",
    "version": 3
   },
   "file_extension": ".py",
   "mimetype": "text/x-python",
   "name": "python",
   "nbconvert_exporter": "python",
   "pygments_lexer": "ipython3",
   "version": "3.5.2"
  }
 },
 "nbformat": 4,
 "nbformat_minor": 0
}
