{
 "cells": [
  {
   "cell_type": "markdown",
   "metadata": {
    "deletable": true,
    "editable": true
   },
   "source": [
    "## Torch\n",
    "\n",
    "Torch는 폭 넓은 Machine Learning 알고리즘을 지원하는 scientific computing framework 입니다.\n",
    "Torch는 스크립트 언어인 Lua로 작성되었으며 빠른 연산이 필요한 부분은 C/CUDA로 작성되어 있습니다.\n",
    "\n",
    "특징\n",
    "\n",
    "* a powerful N-dimensional array\n",
    "* lots of routines for indexing, slicing, transposing, ...\n",
    "* amazing interface to C, via LuaJIT\n",
    "* linear algebra routines\n",
    "* neural network, and energy-based models\n",
    "* numeric optimization routines\n",
    "* Fast and efficient GPU support\n",
    "* Embeddable, with ports to iOS, Android and FPGA backends\n",
    "\n",
    "현재 Facebook, Google, Twitter, NYU, IDIAP, Purdue 등 많은 곳에서 사용되어지고 있습니다.\n",
    "\n",
    "공식 홈페이지: http://torch.ch/\n",
    "\n",
    "Tutorials:\n",
    "\n",
    "* [Machine Learning with Torch7] (http://code.madbits.com/wiki/doku.php)\n",
    "* [Torch7 Cheat Sheet] (https://github.com/torch/torch7/wiki/Cheatsheet)\n",
    "\n",
    "\n",
    "### Lua\n",
    "\n",
    "스크립트 언어로 유용한 최소한의 기능만을 담아 빠르고 많은 플랫폼에 이식 가능하며 배우기 쉽습니다.\n",
    "\n",
    "특징\n",
    "\n",
    "* C 코드와 바인딩하기 쉽다.\n",
    "* 스크립트 언어 중에서 크기가 작고 수행속도가 빠르다. ([Lua vs Python3](http://benchmarksgame.alioth.debian.org/u64/compare.php?lang=lua&lang2=python3))\n",
    "* Table 이라는 강략한 연관배열을 지원한다.\n",
    "* 문법이 간단하고 배우기 쉽다.\n",
    "\n",
    "현재 WoW, 앵그리버스 등 많은 상업적 게임프로그램에서 사용되고 있습니다.\n",
    "\n",
    "공식 홈페이지: http://www.lua.org/\n",
    "\n",
    "Tutorials:\n",
    "\n",
    "* [Tutorial Points Lua] (http://www.tutorialspoint.com/lua/)\n",
    "* [Learn Lua in 15 Minutes] (http://tylerneylon.com/a/learn-lua/)\n"
   ]
  }
 ],
 "metadata": {
  "kernelspec": {
   "display_name": "Python 3",
   "language": "python",
   "name": "python3"
  },
  "language_info": {
   "codemirror_mode": {
    "name": "ipython",
    "version": 3
   },
   "file_extension": ".py",
   "mimetype": "text/x-python",
   "name": "python",
   "nbconvert_exporter": "python",
   "pygments_lexer": "ipython3",
   "version": "3.6.0"
  },
  "nikola": {
   "category": "",
   "date": "2015-06-26 00:00:00 UTC+09:00",
   "description": "",
   "link": "",
   "slug": "2015-06-26-Torch",
   "tags": "",
   "title": "2015-06-26-Torch",
   "type": "text"
  }
 },
 "nbformat": 4,
 "nbformat_minor": 0
}
