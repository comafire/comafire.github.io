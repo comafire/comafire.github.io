{
 "cells": [
  {
   "cell_type": "markdown",
   "metadata": {},
   "source": [
    "# SGD Regression\n",
    "\n",
    "SGD(Stochastic Gradient Descent) Regression\n",
    "\n",
    "Stochastic Gradient Descent (SGD) 은 convex 형태의 loss 함수를 통한 최적화 문제에 매우 효율적인 접근방법입니다. SGD는 큰 규모이면서 희소한 형태의 데이터(예로, 10^5 이상의 Feature를 가진 10^5 개 이상의 학습 데이터)에서도 좋은 성과를 나타냅니다. \n",
    "\n",
    "장점:\n",
    "* 효율적이며, 구현이 쉬움\n",
    "\n",
    "\n",
    "단점:\n",
    "* 효율적 학습을 위해 hyperparameters 에 대한 tunning 이 필요\n",
    "* Feature scaling 에 민감\n",
    "\n",
    "\n",
    "SGDRegression 은 loss 함수 및 penalty 설정에 따라 다른 Linear 모델이 수행됩니다.\n",
    "\n",
    "\n",
    "loss\n",
    "* loss=\"squared_loss\": Ordinary least squares, default\n",
    "* loss=\"huber\": Huber loss for robust regression,\n",
    "* loss=\"epsilon_insensitive\": linear Support Vector Regression.\n",
    "\n",
    "penalty\n",
    "* ‘l2’, ‘l1’, or ‘elasticnet’\n",
    "* The penalty (aka regularization term) to be used. Defaults to ‘l2’ which is the standard regularizer for linear SVM models. ‘l1’ and ‘elasticnet’ might bring sparsity to the model (feature selection) not achievable with ‘l2’.\n",
    "\n",
    "l1_ratio\n",
    "* The Elastic Net mixing parameter, with 0 <= l1_ratio <= 1. l1_ratio=0 corresponds to L2 penalty, l1_ratio=1 to L1. Defaults to 0.15.\n"
   ]
  },
  {
   "cell_type": "code",
   "execution_count": 1,
   "metadata": {},
   "outputs": [
    {
     "name": "stdout",
     "output_type": "stream",
     "text": [
      "python ver=3.8.9 (default, Jun 12 2021, 23:47:44) \n",
      "[Clang 12.0.5 (clang-1205.0.22.9)]\n",
      "pandas ver=1.2.4\n",
      "numpy ver=1.19.5\n",
      "sklearn ver=0.24.2\n"
     ]
    }
   ],
   "source": [
    "# 경고 메시지 출력 끄기\n",
    "import warnings \n",
    "warnings.filterwarnings(action='ignore')\n",
    "\n",
    "%matplotlib inline\n",
    "import matplotlib.pyplot as plt\n",
    "import IPython\n",
    "\n",
    "import sys\n",
    "\n",
    "rseed = 22\n",
    "import random\n",
    "random.seed(rseed)\n",
    "\n",
    "import numpy as np\n",
    "np.random.seed(rseed)\n",
    "np.set_printoptions(precision=3)\n",
    "np.set_printoptions(formatter={'float_kind': \"{:.3f}\".format})\n",
    "\n",
    "import pandas as pd\n",
    "pd.set_option('display.max_rows', None) \n",
    "pd.set_option('display.max_columns', None) \n",
    "pd.set_option('display.max_colwidth', None)\n",
    "pd.options.display.float_format = '{:,.5f}'.format\n",
    "\n",
    "import sklearn\n",
    "\n",
    "print(f\"python ver={sys.version}\")\n",
    "print(f\"pandas ver={pd.__version__}\")\n",
    "print(f\"numpy ver={np.__version__}\")\n",
    "print(f\"sklearn ver={sklearn.__version__}\")"
   ]
  },
  {
   "cell_type": "code",
   "execution_count": 4,
   "metadata": {},
   "outputs": [
    {
     "name": "stdout",
     "output_type": "stream",
     "text": [
      "data shape: xs=(1000, 1), ys=(1000,)\n",
      "train shape: train_xs=(700, 1), train_ys=(700,)\n",
      "test shape: test_xs=(300, 1), test_ys=(300,)\n"
     ]
    },
    {
     "data": {
      "image/png": "[encoded data removed]",
      "text/plain": [
       "<Figure size 432x288 with 1 Axes>"
      ]
     },
     "metadata": {
      "needs_background": "light"
     },
     "output_type": "display_data"
    },
    {
     "name": "stdout",
     "output_type": "stream",
     "text": [
      "\n",
      "model=SGDRegressor()\n",
      "coefficient=[32.876]\n",
      "intercept=[0.990]\n",
      "r_square=0.99992\n"
     ]
    },
    {
     "data": {
      "image/png": "[encoded data removed]",
      "text/plain": [
       "<Figure size 432x288 with 1 Axes>"
      ]
     },
     "metadata": {
      "needs_background": "light"
     },
     "output_type": "display_data"
    }
   ],
   "source": [
    "from sklearn import datasets, model_selection, linear_model, metrics\n",
    "\n",
    "# 데이터\n",
    "n_samples = 1000\n",
    "xs, ys = datasets.make_regression(\n",
    "    n_samples=n_samples, # 데이터 수\n",
    "    n_features=1, # X feature 수\n",
    "    bias=1.0, # Y 절편\n",
    "    noise=0.3, # X 변수들에 더해지는 잡음의 표준 편차\n",
    "    random_state=rseed) # 난수 발생용 Seed 값\n",
    "print(f\"data shape: xs={xs.shape}, ys={ys.shape}\")\n",
    "train_xs, test_xs, train_ys, test_ys = model_selection.train_test_split(\n",
    "    xs, ys, test_size=0.3, shuffle=True, random_state=rseed)\n",
    "print(f\"train shape: train_xs={train_xs.shape}, train_ys={train_ys.shape}\")\n",
    "print(f\"test shape: test_xs={test_xs.shape}, test_ys={test_ys.shape}\")\n",
    "plt.scatter(train_xs, train_ys, label='train', c='b')\n",
    "plt.scatter(test_xs, test_ys, label='test', c='g')\n",
    "plt.legend()\n",
    "plt.show()\n",
    "\n",
    "# 모델\n",
    "models = [\n",
    "    linear_model.SGDRegressor()\n",
    "]\n",
    "\n",
    "for model in models:\n",
    "    # 학습\n",
    "    print(f\"\\nmodel={model}\")\n",
    "    model.fit(train_xs, train_ys)\n",
    "\n",
    "    # 평가\n",
    "    pred_ys = model.predict(test_xs)\n",
    "\n",
    "    # 선형 회귀 모델링을 통해 얻은 coefficient, intercept 입니다.\n",
    "    print(f\"coefficient={model.coef_}\")\n",
    "    print(f\"intercept={model.intercept_}\")\n",
    "    \n",
    "    # 평가: 테스트 데이터에 대해서 R2 값을 구합니다. R2 는 1.0 에 가까울 수록 선형 회귀 모델이 데이터를 잘 설명하고 있다는 것입니다.\n",
    "    r_square = metrics.r2_score(test_ys, pred_ys)\n",
    "    print(f\"r_square={r_square:.5f}\")\n",
    "    \n",
    "    plt.scatter(test_xs, test_ys, label='test', c='g')\n",
    "    plt.scatter(test_xs, pred_ys, label='predict', c='r', alpha=0.5)\n",
    "    plt.legend()\n",
    "    plt.show()"
   ]
  },
  {
   "cell_type": "code",
   "execution_count": null,
   "metadata": {},
   "outputs": [],
   "source": []
  }
 ],
 "metadata": {
  "kernelspec": {
   "display_name": "Python 3",
   "language": "python",
   "name": "python3"
  },
  "language_info": {
   "codemirror_mode": {
    "name": "ipython",
    "version": 3
   },
   "file_extension": ".py",
   "mimetype": "text/x-python",
   "name": "python",
   "nbconvert_exporter": "python",
   "pygments_lexer": "ipython3",
   "version": "3.8.9"
  },
  "nikola": {
   "category": "",
   "date": "2020-03-07",
   "description": "",
   "link": "",
   "slug": "ml-sgd-regressor",
   "tags": "",
   "title": "Machine Learning - SGD Regressor",
   "type": "text"
  },
  "toc": {
   "base_numbering": 1,
   "nav_menu": {},
   "number_sections": true,
   "sideBar": true,
   "skip_h1_title": false,
   "title_cell": "Table of Contents",
   "title_sidebar": "Contents",
   "toc_cell": false,
   "toc_position": {},
   "toc_section_display": true,
   "toc_window_display": false
  }
 },
 "nbformat": 4,
 "nbformat_minor": 4
}
