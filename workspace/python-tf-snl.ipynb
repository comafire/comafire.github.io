{
 "cells": [
  {
   "cell_type": "code",
   "execution_count": 2,
   "metadata": {
    "collapsed": true
   },
   "outputs": [],
   "source": [
    "from tensorflow.examples.tutorials.mnist import input_data"
   ]
  },
  {
   "cell_type": "code",
   "execution_count": 3,
   "metadata": {
    "collapsed": false
   },
   "outputs": [
    {
     "name": "stdout",
     "output_type": "stream",
     "text": [
      "Extracting MNIST_data/train-images-idx3-ubyte.gz\n",
      "Extracting MNIST_data/train-labels-idx1-ubyte.gz\n",
      "Extracting MNIST_data/t10k-images-idx3-ubyte.gz\n",
      "Extracting MNIST_data/t10k-labels-idx1-ubyte.gz\n"
     ]
    }
   ],
   "source": [
    "mnist = input_data.read_data_sets(\"MNIST_data/\", one_hot=True)"
   ]
  },
  {
   "cell_type": "code",
   "execution_count": 4,
   "metadata": {
    "collapsed": false
   },
   "outputs": [],
   "source": [
    "import tensorflow as tf"
   ]
  },
  {
   "cell_type": "code",
   "execution_count": 5,
   "metadata": {
    "collapsed": false
   },
   "outputs": [
    {
     "name": "stdout",
     "output_type": "stream",
     "text": [
      "[[ 0.  0.  0. ...,  0.  0.  0.]\n",
      " [ 0.  0.  0. ...,  0.  0.  0.]\n",
      " [ 0.  0.  0. ...,  0.  0.  0.]\n",
      " ..., \n",
      " [ 0.  0.  0. ...,  0.  0.  0.]\n",
      " [ 0.  0.  0. ...,  0.  0.  0.]\n",
      " [ 0.  0.  0. ...,  0.  0.  0.]]\n",
      "[[ 0.  0.  0. ...,  1.  0.  0.]\n",
      " [ 0.  0.  0. ...,  0.  0.  0.]\n",
      " [ 0.  0.  0. ...,  0.  0.  0.]\n",
      " ..., \n",
      " [ 0.  0.  0. ...,  0.  0.  0.]\n",
      " [ 0.  0.  0. ...,  0.  0.  0.]\n",
      " [ 0.  0.  0. ...,  0.  1.  0.]]\n"
     ]
    }
   ],
   "source": [
    "print mnist.train.images\n",
    "print mnist.train.labels"
   ]
  },
  {
   "cell_type": "code",
   "execution_count": 6,
   "metadata": {
    "collapsed": true
   },
   "outputs": [],
   "source": [
    "x = tf.placeholder(\"float\", [None, 784])\n",
    "W = tf.Variable(tf.zeros([784, 10]))\n",
    "b = tf.Variable(tf.zeros([10]))"
   ]
  },
  {
   "cell_type": "code",
   "execution_count": 7,
   "metadata": {
    "collapsed": true
   },
   "outputs": [],
   "source": [
    "matm=tf.matmul(x,W)\n",
    "y = tf.nn.softmax(tf.matmul(x, W) + b)\n",
    "y_ = tf.placeholder(\"float\", [None, 10])"
   ]
  },
  {
   "cell_type": "code",
   "execution_count": 8,
   "metadata": {
    "collapsed": true
   },
   "outputs": [],
   "source": [
    "cross_entropy = -tf.reduce_sum(y_ * tf.log(y))"
   ]
  },
  {
   "cell_type": "code",
   "execution_count": 9,
   "metadata": {
    "collapsed": true
   },
   "outputs": [],
   "source": [
    "train_step = tf.train.GradientDescentOptimizer(0.01).minimize(cross_entropy)"
   ]
  },
  {
   "cell_type": "code",
   "execution_count": 10,
   "metadata": {
    "collapsed": false
   },
   "outputs": [],
   "source": [
    "sess = tf.Session()\n",
    "# sess = tf.Session(config=tf.ConfigProto(log_device_placement=True))"
   ]
  },
  {
   "cell_type": "code",
   "execution_count": 11,
   "metadata": {
    "collapsed": true
   },
   "outputs": [],
   "source": [
    "sess.run(tf.initialize_all_variables())"
   ]
  },
  {
   "cell_type": "code",
   "execution_count": 12,
   "metadata": {
    "collapsed": false,
    "scrolled": false
   },
   "outputs": [
    {
     "name": "stdout",
     "output_type": "stream",
     "text": [
      "0 0.4075\n",
      "1 0.3573\n",
      "2 0.5091\n",
      "3 0.4416\n",
      "4 0.5773\n",
      "5 0.519\n",
      "6 0.613\n",
      "7 0.6506\n",
      "8 0.7404\n",
      "9 0.8002\n",
      "10 0.8245\n",
      "11 0.7839\n",
      "12 0.692\n",
      "13 0.7013\n",
      "14 0.7577\n",
      "15 0.789\n",
      "16 0.7871\n",
      "17 0.8041\n",
      "18 0.8135\n",
      "19 0.7161\n",
      "20 0.6986\n",
      "21 0.7697\n",
      "22 0.7746\n",
      "23 0.7776\n",
      "24 0.8541\n",
      "25 0.825\n",
      "26 0.814\n",
      "27 0.8054\n",
      "28 0.7779\n",
      "29 0.8358\n",
      "30 0.8402\n",
      "31 0.8028\n",
      "32 0.8399\n",
      "33 0.8404\n",
      "34 0.8309\n",
      "35 0.8421\n",
      "36 0.8549\n",
      "37 0.8157\n",
      "38 0.7435\n",
      "39 0.8559\n",
      "40 0.8656\n",
      "41 0.8628\n",
      "42 0.8554\n",
      "43 0.8338\n",
      "44 0.8381\n",
      "45 0.8484\n",
      "46 0.8503\n",
      "47 0.8619\n",
      "48 0.8646\n",
      "49 0.8435\n",
      "50 0.8545\n",
      "51 0.8758\n",
      "52 0.7996\n",
      "53 0.8518\n",
      "54 0.8405\n",
      "55 0.8553\n",
      "56 0.8642\n",
      "57 0.8737\n",
      "58 0.8841\n",
      "59 0.8848\n",
      "60 0.8795\n",
      "61 0.8732\n",
      "62 0.8403\n",
      "63 0.8724\n",
      "64 0.8751\n",
      "65 0.8606\n",
      "66 0.8729\n",
      "67 0.8573\n",
      "68 0.8545\n",
      "69 0.8261\n",
      "70 0.8494\n",
      "71 0.8066\n",
      "72 0.868\n",
      "73 0.8388\n",
      "74 0.8787\n",
      "75 0.826\n",
      "76 0.8556\n",
      "77 0.8805\n",
      "78 0.8821\n",
      "79 0.8888\n",
      "80 0.8624\n",
      "81 0.8667\n",
      "82 0.8747\n",
      "83 0.8852\n",
      "84 0.8875\n",
      "85 0.8876\n",
      "86 0.8818\n",
      "87 0.8885\n",
      "88 0.8817\n",
      "89 0.871\n",
      "90 0.8047\n",
      "91 0.8312\n",
      "92 0.845\n",
      "93 0.8578\n",
      "94 0.8671\n",
      "95 0.8565\n",
      "96 0.7704\n",
      "97 0.8124\n",
      "98 0.8864\n",
      "99 0.892\n"
     ]
    }
   ],
   "source": [
    "for i in range(100):\n",
    "    batch_xs, batch_ys = mnist.train.next_batch(100)\n",
    "    sess.run(train_step, feed_dict={x: batch_xs, y_: batch_ys})\n",
    "    correct_prediction = tf.equal(tf.argmax(y, 1), tf.argmax(y_, 1))\n",
    "    accuracy = tf.reduce_mean(tf.cast(correct_prediction, \"float\"))\n",
    "    print i, sess.run(accuracy, feed_dict={x: mnist.test.images, y_: mnist.test.labels})\n"
   ]
  },
  {
   "cell_type": "code",
   "execution_count": 1,
   "metadata": {
    "collapsed": false
   },
   "outputs": [
    {
     "name": "stdout",
     "output_type": "stream",
     "text": [
      "[[ 22.  28.]\n",
      " [ 49.  64.]]\n"
     ]
    }
   ],
   "source": [
    "import tensorflow as tf\n",
    "# Creates a graph.\n",
    "a = tf.constant([1.0, 2.0, 3.0, 4.0, 5.0, 6.0], shape=[2, 3], name='a')\n",
    "b = tf.constant([1.0, 2.0, 3.0, 4.0, 5.0, 6.0], shape=[3, 2], name='b')\n",
    "c = tf.matmul(a, b)\n",
    "# Creates a session with log_device_placement set to True.\n",
    "sess = tf.Session(config=tf.ConfigProto(log_device_placement=True))\n",
    "# Runs the op.\n",
    "print sess.run(c)"
   ]
  }
 ],
 "metadata": {
  "kernelspec": {
   "display_name": "Python 2",
   "language": "python",
   "name": "python2"
  },
  "language_info": {
   "codemirror_mode": {
    "name": "ipython",
    "version": 2
   },
   "file_extension": ".py",
   "mimetype": "text/x-python",
   "name": "python",
   "nbconvert_exporter": "python",
   "pygments_lexer": "ipython2",
   "version": "2.7.12"
  }
 },
 "nbformat": 4,
 "nbformat_minor": 0
}
