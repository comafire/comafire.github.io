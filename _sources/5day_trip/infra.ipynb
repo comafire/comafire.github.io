{
 "cells": [
  {
   "cell_type": "markdown",
   "metadata": {},
   "source": [
    "# 인프라\n",
    "\n",
    "## 네트워크 \n",
    "\n",
    "요즘 개인이 사용하고 있는 인터넷 서비스는 속도면에서는 개인적 목적으로 데이터 프로젝트를 통해 데이터 서비스를 제공하기에 충분합니다. 다만 개인에게 제공되는 인터넷 서비스는 공유기의 공인 IP가 언제든지 바뀔수 있기 때문에 외부에서도 자유롭게 쓸수 있는 서비스를 제공하기 위해서 이를 고정하는 서비스 정도만 사용한다면 어느 곳에서든 편리하게 개발하면서 서비스를 제공 할 수 있습니다.\n",
    "\n",
    "인터넷 서비스는 통신 3사 모두 속도 면에서는 차이가 없지만, 네트워크를 구성하기 위해 제공되는 인터넷 모뎀(무선 공유기 아님)의 포트 갯수 및 IP 제공 방식은 확인해 볼 필요가 있습니다.\n",
    "\n",
    "보통 사용하는 인터넷 서비스는 아래와 같은 네트워크 구조를 가지고 있습니다. \n",
    "\n",
    "```\n",
    "인터넷 <---> 인터넷 모뎀 <---> 무선 공유기 <--> 컴퓨터\n",
    "```\n",
    "\n",
    "인터넷 모뎀이 허브 방식이라면 인터넷 모뎀은 IP를 가지지 않고 모뎀의 포트 갯수가 개인이 사용할 수 있는 공인 유동 IP 갯수가 됩니다. 그 뒤에 연결된 무선 공유기는 유동 공인 IP를 가지고 됩니다. 여기서 만약 인터넷 모뎀이 없이 바로 무선 공유기가 인터넷에 붙는 구조이거나 모뎀이 공유기 타입이라면 인터넷 모뎀 자체가 유동 공인 IP 1개를 가지게 되고 나머지는 모두 사설 IP를 가지게 되므로 인터넷으로 서비스를 하기에는 좀 불편한 구조가 됩니다.   \n",
    "\n",
    "인터넷 회사에서 기본 제공해주는 인터넷 공유기도 홈 네트워크를 구축하기 위한 기본적인 기능을 제공하지만, 조금 여유가 있다면 홈 네트워크 기능이 강화된 인터넷 공유기를 구입하여 사용하는 것이 보안 및 많은 시간을 절약하는 방법 중에 하나가 될 수 있습니다.\n",
    "\n",
    "여기서는 제가 구축했던 홈 네트워크 방식을 공유합니다. 이것은 개인적인 경험에 기반한 최선책으로 더 낳은 방식이 존재할 수 있음을 미리 이야기 드립니다.\n",
    "\n",
    "```\n",
    "인터넷 <--> 인터넷 모뎀 포트 1 <---> 무선 공유기 1 (Synology 라우터 RT2600ac 유무선공유기 or IPTIME 공유기) <--> 서버\n",
    "                   포트 2 <---> 무선 공유기 2 (기본 제공 공유기) <--> 노트북\n",
    "```\n",
    "\n",
    "## 컴퓨터\n",
    "\n",
    "데이터 프로젝트의 데이터 규모 및 분석 방법에 따라 컴퓨터의 사양은 다양하게 구성할 수 있을 것입니다.  \n",
    "\n",
    "**운영체제**\n",
    "\n",
    "운영체제의 경우에도 호불호가 갈리지만 E2EDS 를 위해서는 리눅스 사용을 추천합니다. 데이터 프로젝트 진행시에는 많은 오픈소스 기반의 소프트웨어를 조합해서 사용하게 되는데, 대부분 오픈소스 소프트웨어들이 리눅스에 기반하기 때문입니다. \n",
    "\n",
    "**하드웨어**\n",
    "\n",
    "진행하려고 하는 데이터 프로젝트가 지속적인 서비스를 제공해야 한다면, 24시간 켜놓을 서버 용도로 따로 컴퓨터를 마련하는 것이 좋습니다. \n",
    "\n",
    "좀 더 머신러닝에 특화된 제품을 찾으신다면 개인 레벨에서는 아래 장비를 고려해 볼만 합니다.\n",
    "\n",
    "* Lambda Lab (https://lambdalabs.com/)\n",
    "  * 요즘 딥러닝 노트북을 검색하면 많이 회자되는 회사입니다. 선택할 수 있는 하드웨어 사양은 System76보다 적습니다. A/S 는 단점입니다.\n",
    "* System76 (https://system76.com/)\n",
    "  * Linux용 기기를 전문으로 제작하는 회사입니다. 고사양 CPU/RAM/GPU(nVidia) 모두 지원하며 Linux와 하드웨어 호환성 걱정은 없지만, A/S는 단점입니다. \n",
    "\n",
    "가격대비 성능을 위해서 조립 컴퓨터를 고려하는 것도 하나의 방법입니다.\n",
    "\n",
    "* 추후 업데이트"
   ]
  },
  {
   "cell_type": "code",
   "execution_count": 37,
   "metadata": {},
   "outputs": [],
   "source": []
  }
 ],
 "metadata": {
  "kernelspec": {
   "display_name": "Python 3",
   "language": "python",
   "name": "python3"
  },
  "language_info": {
   "codemirror_mode": {
    "name": "ipython",
    "version": 3
   },
   "file_extension": ".py",
   "mimetype": "text/x-python",
   "name": "python",
   "nbconvert_exporter": "python",
   "pygments_lexer": "ipython3",
   "version": "3.7.6"
  },
  "nikola": {
   "category": "",
   "date": "2019-03-01",
   "description": "",
   "link": "",
   "slug": "de-pandas-10mins",
   "tags": "",
   "title": "Data Engineering - Pandas 10분만에 훑어보기",
   "type": "text"
  },
  "notebookId": 2469278771832403,
  "toc": {
   "base_numbering": 1,
   "nav_menu": {},
   "number_sections": true,
   "sideBar": true,
   "skip_h1_title": false,
   "title_cell": "Table of Contents",
   "title_sidebar": "Contents",
   "toc_cell": false,
   "toc_position": {},
   "toc_section_display": true,
   "toc_window_display": false
  }
 },
 "nbformat": 4,
 "nbformat_minor": 4
}
