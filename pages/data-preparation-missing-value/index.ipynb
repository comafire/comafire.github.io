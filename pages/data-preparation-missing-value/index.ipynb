{
 "cells": [
  {
   "cell_type": "markdown",
   "metadata": {},
   "source": [
    "# Missing Value\n",
    "\n",
    "데이터를 수집해서 처리하다보면 결측치를 만나게 됩니다. 결측치가 포함된 모델은 성능에 안 좋은 영향을 미칠 수 있기 때문에 전처리시에 처리하게 됩니다. 보통은 프로젝트내 도메인 전문가의 조언대로 처리되지만, 없을 경우는 결측치의 원인과 종류에 따라 그 처리 방법을 각기 달리 해서 처리합니다. \n",
    "\n",
    "## Missing Value의 종류\n",
    "Missing Completely at Random (MCAR)\n",
    "* 완전하게 랜덤으로 결측치가 나타나는 경우입니다.\n",
    "* 완전하게 랜덤으로 나타난다면, 데이터가 큰 경우 랜덤 샘플링을 통해 완전한 데이터를 만들수 있게 됩니다.\n",
    "\n",
    "\n",
    "Missing at Random (MAR)\n",
    "* 결측치가 특정 변수와 관련되어 일어나지만 그 변수의 값과는 관계가 없는 경우입니다.\n",
    "* 예: 결측치가 발견되었는데, 데이터 수집 과정에서 설문 응답자가 다음 페이지가 있는지 모르고 응답을 종료한 경우 \n",
    "\n",
    "\n",
    "Missing not at Random (MNAR)\n",
    "* 결측치의 값과 결측 이유가 관련이 있는 경우입니다. \n",
    "* 예: 결측치가 발견되었는데, 데이터 수집 과정에서 설문 응답자가 해당 수집 변수에 대해 응답을 꺼려하여 응답하지 않은 경우\n",
    "\n",
    "## Missing Value 처리 기준\n",
    "\n",
    "'Multivariate Data Analysis' Pearson Education 책에서는 아래 방법을 추천하고 있습니다.\n",
    "\n",
    "* 결측치 비율 10% 이하: 어떤 Imputation 방법도 상관 없음\n",
    "* 결측치 비율 10% ~ 20%: MCAR일 경우 Replace, Regression 방법 추천, MAR 일 경우 모델기반 방법 추천\n",
    "* 결측치 비율 20% 이상: MCAR일 경우 Regression 방법 추천, MAR 일 경우 모델기반 방법 추천\n",
    "\n",
    "추가적으로 결측치 비율 10% 이하이고, 데이터가 빅데이터인 경우는 Deletion 방법도 고려해 볼 수 있습니다."
   ]
  },
  {
   "cell_type": "code",
   "execution_count": 54,
   "metadata": {},
   "outputs": [
    {
     "name": "stdout",
     "output_type": "stream",
     "text": [
      "        one       two     three\n",
      "0 -1.951405 -0.202758  0.803260\n",
      "1  0.196079 -1.185378  0.043634\n",
      "2  0.941370       NaN -2.141942\n",
      "3  0.093330       NaN  0.784660\n",
      "4       NaN       NaN  1.177910\n",
      "       missing  percent\n",
      "one          1     20.0\n",
      "two          3     60.0\n",
      "three        0      0.0\n"
     ]
    }
   ],
   "source": [
    "import pandas as pd \n",
    "import numpy as np\n",
    "\n",
    "df = pd.DataFrame(np.random.randn(5, 3), index=range(5), columns=['one', 'two', 'three'])\n",
    "df.iloc[2:, 1] = np.nan\n",
    "df.iat[-1, 0] = np.nan\n",
    "print(df)\n",
    "\n",
    "# 결측치 비율 구하기\n",
    "df_missing = pd.DataFrame(df.isnull().sum(), columns=['missing'])\n",
    "df_missing[\"percent\"] = df_missing['missing'] / float(len(df.index)) * 100\n",
    "print(df_missing)"
   ]
  },
  {
   "cell_type": "markdown",
   "metadata": {},
   "source": [
    "## Missing Value 처리 방법\n",
    "\n",
    "### Deletion\n",
    "#### Listwise Deletion\n",
    "결측치가 발생된 행 전체 삭제"
   ]
  },
  {
   "cell_type": "code",
   "execution_count": 55,
   "metadata": {},
   "outputs": [
    {
     "name": "stdout",
     "output_type": "stream",
     "text": [
      "        one       two     three\n",
      "0 -0.757771 -0.487931 -0.408137\n",
      "1 -1.836704  0.027993 -0.627672\n",
      "2  0.714692       NaN  0.220564\n",
      "3  0.210239       NaN -1.240897\n",
      "4       NaN       NaN       NaN\n",
      "        one       two     three\n",
      "0 -0.757771 -0.487931 -0.408137\n",
      "1 -1.836704  0.027993 -0.627672\n"
     ]
    }
   ],
   "source": [
    "import pandas as pd \n",
    "import numpy as np\n",
    "\n",
    "df = pd.DataFrame(np.random.randn(5, 3), index=range(5), columns=['one', 'two', 'three'])\n",
    "df.iloc[2:, 1] = np.nan\n",
    "df.iat[-1, 0] = np.nan\n",
    "df.iat[-1, 2] = np.nan\n",
    "print(df)\n",
    "\n",
    "print(df.dropna(how='any'))"
   ]
  },
  {
   "cell_type": "markdown",
   "metadata": {},
   "source": [
    "#### Pairwise Deletion\n",
    "통계에 따라 선택된 결측치만 삭제, 통계적 지식이 필요하고, 주의하지 않으면 오류를 포함할수 있어 잘 사용되지 않음\n",
    "\n",
    "#### Deleting Columns\n",
    "결측치가 발생된 열 전체 삭제, 해당 열이 종속 변수와 상관 관계가 없는 경우만 사용"
   ]
  },
  {
   "cell_type": "code",
   "execution_count": 57,
   "metadata": {},
   "outputs": [
    {
     "name": "stdout",
     "output_type": "stream",
     "text": [
      "        one  two     three\n",
      "0  2.960500  NaN  0.996960\n",
      "1 -0.672128  NaN  0.985775\n",
      "2 -1.338470  NaN -0.010889\n",
      "3  0.237134  NaN -0.497537\n",
      "4       NaN  NaN       NaN\n",
      "        one     three\n",
      "0  2.960500  0.996960\n",
      "1 -0.672128  0.985775\n",
      "2 -1.338470 -0.010889\n",
      "3  0.237134 -0.497537\n",
      "4       NaN       NaN\n"
     ]
    }
   ],
   "source": [
    "import pandas as pd \n",
    "import numpy as np\n",
    "\n",
    "df = pd.DataFrame(np.random.randn(5, 3), index=range(5), columns=['one', 'two', 'three'])\n",
    "df.iloc[:, 1] = np.nan\n",
    "df.iat[-1, 0] = np.nan\n",
    "df.iat[-1, 2] = np.nan\n",
    "print(df)\n",
    "\n",
    "print(df.dropna(how='all', axis=1))"
   ]
  },
  {
   "cell_type": "markdown",
   "metadata": {},
   "source": [
    "### Imputation\n",
    "#### Record Data\n",
    "##### Continuous Data"
   ]
  },
  {
   "cell_type": "code",
   "execution_count": 116,
   "metadata": {},
   "outputs": [
    {
     "name": "stdout",
     "output_type": "stream",
     "text": [
      "        one       two     three\n",
      "0  0.342316  2.135612 -0.510639\n",
      "1 -0.890561  0.067181 -0.208658\n",
      "2  0.379179 -0.456647       NaN\n",
      "3 -1.870534 -0.364213       NaN\n",
      "4       NaN       NaN       NaN\n",
      "-0.5099002655528244\n",
      "        one       two     three\n",
      "0  0.342316  2.135612 -0.510639\n",
      "1 -0.890561  0.067181 -0.208658\n",
      "2  0.379179 -0.456647       NaN\n",
      "3 -1.870534 -0.364213       NaN\n",
      "4 -0.509900       NaN       NaN\n",
      "-0.14851643836664008\n",
      "        one       two     three\n",
      "0  0.342316  2.135612 -0.510639\n",
      "1 -0.890561  0.067181 -0.208658\n",
      "2  0.379179 -0.456647       NaN\n",
      "3 -1.870534 -0.364213       NaN\n",
      "4 -0.509900 -0.148516       NaN\n",
      "        one       two     three\n",
      "0  0.342316  2.135612 -0.510639\n",
      "1 -0.890561  0.067181 -0.208658\n",
      "2  0.379179 -0.456647  0.000000\n",
      "3 -1.870534 -0.364213  0.000000\n",
      "4 -0.509900 -0.148516  0.000000\n"
     ]
    }
   ],
   "source": [
    "import pandas as pd \n",
    "import numpy as np\n",
    "\n",
    "df = pd.DataFrame(np.random.randn(5, 3), index=range(5), columns=['one', 'two', 'three'])\n",
    "df.iat[-1, 0] = np.nan\n",
    "df.iat[-1, 1] = np.nan\n",
    "df.iloc[2:, 2] = np.nan\n",
    "print(df)\n",
    "\n",
    "# Mean(평균값)으로 채우기\n",
    "mean = df['one'].mean()\n",
    "print(mean)\n",
    "df['one'].fillna(mean, inplace=True)\n",
    "print(df)\n",
    "\n",
    "# Median(중앙값)으로 채우기\n",
    "median = df['two'].median()\n",
    "print(median)\n",
    "df['two'].fillna(median, inplace=True)\n",
    "print(df)\n",
    "\n",
    "# Constant(상수값)으로 채우기\n",
    "df['three'].fillna(0, inplace=True)\n",
    "print(df)"
   ]
  },
  {
   "cell_type": "code",
   "execution_count": 120,
   "metadata": {},
   "outputs": [
    {
     "name": "stdout",
     "output_type": "stream",
     "text": [
      "        one       two     three\n",
      "0  1.169398 -0.534434 -1.237900\n",
      "1 -0.072794  0.427945 -0.789082\n",
      "2 -0.354999 -0.503522       NaN\n",
      "3 -1.448406 -0.095995       NaN\n",
      "4       NaN       NaN       NaN\n",
      "        one       two     three\n",
      "0  1.169398 -0.534434 -1.237900\n",
      "1 -0.072794  0.427945 -0.789082\n",
      "2 -0.354999 -0.503522 -1.013491\n",
      "3 -1.448406 -0.095995 -1.013491\n",
      "4 -0.176700 -0.176502 -1.013491\n",
      "        one       two     three\n",
      "0  1.169398 -0.534434 -1.237900\n",
      "1 -0.072794  0.427945 -0.789082\n",
      "2 -0.354999 -0.503522 -0.999734\n",
      "3 -1.448406 -0.095995 -0.964769\n",
      "4 -0.176700 -0.176502 -0.997871\n",
      "Imputing row 1/5 with 0 missing, elapsed time: 0.000\n",
      "[KNN] Warning: 3/15 still missing after imputation, replacing with 0\n",
      "        one       two     three\n",
      "0  1.169398 -0.534434 -1.237900\n",
      "1 -0.072794  0.427945 -0.789082\n",
      "2 -0.354999 -0.503522 -0.919018\n",
      "3 -1.448406 -0.095995 -0.894652\n",
      "4  0.000000  0.000000  0.000000\n"
     ]
    }
   ],
   "source": [
    "import pandas as pd \n",
    "import numpy as np\n",
    "\n",
    "df = pd.DataFrame(np.random.randn(5, 3), index=range(5), columns=['one', 'two', 'three'])\n",
    "df.iat[-1, 0] = np.nan\n",
    "df.iat[-1, 1] = np.nan\n",
    "df.iloc[2:, 2] = np.nan\n",
    "print(df)\n",
    "\n",
    "# 모델로 채우기 - MICE\n",
    "# Multiple Imputation by Chained Equations\n",
    "# 결측치가 포함된 데이터 입력 받아 몬테카를로 시뮬레이션을 반복하여 결측치를 채워넣는 방법 \n",
    "# pip install impyute\n",
    "# https://impyute.readthedocs.io/en/master/\n",
    "import impyute as impy\n",
    "\n",
    "df2 = pd.DataFrame(impy.mice(df.values))\n",
    "df2.columns = df.columns\n",
    "print(df2)\n",
    "\n",
    "# 모델로 채우기 - IterativeImputer \n",
    "# pip install fancyimpute\n",
    "# https://github.com/iskandr/fancyimpute\n",
    "from fancyimpute import KNN\n",
    "\n",
    "df2 = pd.DataFrame(IterativeImputer().fit_transform(df.values))\n",
    "df2.columns = df.columns\n",
    "print(df2)\n",
    "\n",
    "# 모델로 채우기 - KNN\n",
    "from fancyimpute import KNN\n",
    "\n",
    "df2 = pd.DataFrame(KNN(k=3).fit_transform(df.values))\n",
    "df2.columns = df.columns\n",
    "print(df2)\n"
   ]
  },
  {
   "cell_type": "markdown",
   "metadata": {},
   "source": [
    "##### Categorical Data"
   ]
  },
  {
   "cell_type": "code",
   "execution_count": 137,
   "metadata": {},
   "outputs": [
    {
     "name": "stdout",
     "output_type": "stream",
     "text": [
      "   one  two three\n",
      "0    2    6     8\n",
      "1    8    9     7\n",
      "2    3    3   NaN\n",
      "3    0    0   NaN\n",
      "4  NaN  NaN   NaN\n",
      "  one  two three\n",
      "0   2    6     8\n",
      "1   8    9     7\n",
      "2   3    3   NaN\n",
      "3   0    0   NaN\n",
      "4  11  NaN   NaN\n",
      "mode=0\n",
      "  one two three\n",
      "0   2   6     8\n",
      "1   8   9     7\n",
      "2   3   3   NaN\n",
      "3   0   0   NaN\n",
      "4  11   0   NaN\n"
     ]
    }
   ],
   "source": [
    "import pandas as pd \n",
    "import numpy as np\n",
    "\n",
    "df = pd.DataFrame(np.random.randint(0, 10, size=(5, 3)), index=range(5), columns=['one', 'two', 'three'])\n",
    "df = df.astype(str)\n",
    "df.iat[-1, 0] = np.nan\n",
    "df.iat[-1, 1] = np.nan\n",
    "df.iloc[2:, 2] = np.nan\n",
    "print(df)\n",
    "\n",
    "# NaN 자체를 하나의 Label 로 다루기\n",
    "df['one'].fillna(11, inplace=True)\n",
    "print(df)\n",
    "\n",
    "# 최빈도 값으로 채우기\n",
    "mode = df['two'].mode()[0]\n",
    "print(\"mode={}\".format(mode))\n",
    "df['two'].fillna(mode, inplace=True)\n",
    "print(df)"
   ]
  },
  {
   "cell_type": "markdown",
   "metadata": {},
   "source": [
    "#### Sequence Data\n",
    "##### No Trend, No Seasonality\n",
    "이 경우는 기존의 Record Data 와 같은 데이터형태 이므로 Imputation 방법을 활용하면 됩니다.\n",
    "\n",
    "##### Trend, No Seasonality\n",
    "데이터에 경향성은 있지만 주기성은 없는 경우는 interpolate(보간법)을 이용합니다. "
   ]
  },
  {
   "cell_type": "code",
   "execution_count": 142,
   "metadata": {},
   "outputs": [
    {
     "name": "stdout",
     "output_type": "stream",
     "text": [
      "0    0.0\n",
      "1    1.0\n",
      "2    NaN\n",
      "3    3.0\n",
      "dtype: float64\n",
      "0    0.0\n",
      "1    1.0\n",
      "2    2.0\n",
      "3    3.0\n",
      "dtype: float64\n"
     ]
    }
   ],
   "source": [
    "s = pd.Series([0, 1, np.nan, 3])\n",
    "print(s)\n",
    "print(s.interpolate())"
   ]
  },
  {
   "cell_type": "markdown",
   "metadata": {},
   "source": [
    "##### Trend, Seasionality\n",
    "\n",
    "TBD.."
   ]
  },
  {
   "cell_type": "code",
   "execution_count": null,
   "metadata": {},
   "outputs": [],
   "source": []
  }
 ],
 "metadata": {
  "kernelspec": {
   "display_name": "Python 3",
   "language": "python",
   "name": "python3"
  },
  "language_info": {
   "codemirror_mode": {
    "name": "ipython",
    "version": 3
   },
   "file_extension": ".py",
   "mimetype": "text/x-python",
   "name": "python",
   "nbconvert_exporter": "python",
   "pygments_lexer": "ipython3",
   "version": "3.5.2"
  },
  "nikola": {
   "category": "",
   "date": "2019-03-01",
   "description": "",
   "link": "",
   "slug": "data-preparation-missing-value",
   "tags": "",
   "title": "Missing Value",
   "type": "text"
  },
  "toc": {
   "base_numbering": 1,
   "nav_menu": {},
   "number_sections": true,
   "sideBar": true,
   "skip_h1_title": false,
   "title_cell": "Table of Contents",
   "title_sidebar": "Contents",
   "toc_cell": false,
   "toc_position": {},
   "toc_section_display": true,
   "toc_window_display": false
  }
 },
 "nbformat": 4,
 "nbformat_minor": 2
}
