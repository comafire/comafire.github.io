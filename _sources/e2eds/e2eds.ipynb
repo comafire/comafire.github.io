{
 "cells": [
  {
   "cell_type": "markdown",
   "metadata": {},
   "source": [
    "# End to End Data Science \n",
    "\n",
    "**End to End Data Science(E2EDS)** \\\n",
    "데이터 사이언스 프로젝트의 성공 확률을 높이기 위해서 빠르게 다양한 분석을 수행하기 위한  \n",
    "\n",
    "* 수행범위: 데이터 사이언스 프로젝트의 처음부터 끝까지\n",
    "* 수행방식: 데이터 사이언스 방법론을 다양한 분석 기법을 이용하여 빠르게 반복 수행\n",
    "* 수행조직: 프로젝트 수행을 위한 이해관계자들이 하나의 조직(권한, 책임, 성과를 가진)으로 수행\n",
    "\n",
    "을 통해 프로젝트를 진행하는 방식을 이야기 합니다.\n",
    "\n",
    "빅데이터 및 인공지능 시대가 도래함에 따라 많은 도메인에서 데이터를 활용하여 도메인 문제들을 해결하는 사례들이 점점 보편화 되어 가고 있습니다. \\\n",
    "이에 도메인의 문제를 데이터 기반으로 해결하려는 데이터 사이언스 프로젝트들이 우후죽순 생겨나고 있지만, 달콤한 열매를 맛보는 프로젝트는 소수에 지나지 않습니다.\n",
    "\n",
    "데이터 사이언스의 정의에서도 유추할 수 있듯 문제의 정의부터 데이터를 통해 인사이트를 성공적으로 추출하기까지는 다양한 분야의 융합이 필요하기 때문에 프로젝트는 상당히 자유도가 높고 프로젝의 성공은 많은 실패를 동반하게 됩니다. \\\n",
    "프로젝트 실패의 주요 원인이 성공하기 위해 실패할 시간이 부족했기 때문이라는 우스게 소리가 나올 정도니까요.\n",
    "\n",
    "다양한 방법을 융합하여 빠르게 시도하고 배움으로써 누적된 역량은 데이터 사이언스 프로젝트의 성공률을 조금이나마 상승시키게 됩니다. \\\n",
    "이러한 특성으로 인해 다양한 조직으로 구성된 통합 프로젝트 진행은 커뮤니케이션 오버헤드와 각 조직의 이해관계로 인해 진행 속도가 제한되며, 이는 마치 프로젝트에 데이터 사일로와 같은 영향을 주게 됩니다.\n",
    "\n",
    "E2EDS 형태의 프로젝트 진행은 조직이 제약 없이 프로젝트 핵심에 집중하게 되며, 빠르게 누적된 데이터 사이언스 역량을 통해 높은 성공 확률을 가지게 합니다.\n",
    "\n",
    "저와 비슷한 생각을 제시하는 블로그 글이 있어 링크를 남깁니다.\n",
    "* https://applyingml.com/resources/end-to-end/\n",
    "* https://eugeneyan.com/writing/end-to-end-data-science/\n",
    "\n"
   ]
  },
  {
   "cell_type": "markdown",
   "metadata": {},
   "source": [
    "## Data Science Methodlogy \n",
    "\n",
    "데이터 사이언스를 효율적으로 진행하기 위해 다양한 방법론들이 존재 합니다. \n",
    "\n",
    "[Data Science Process Alliance](https://www.datascience-pm.com) 사이트에서는 CRIS-DM 뿐 아니라 KDD and Data Minig, SEMMA, Microsoft TDSP, 등등 다양한 방법론에 대해서 소개하고 있습니다.\n",
    "\n",
    "1999년에 만들어졌지만, 큰 흐름상에서 현재까지 데이터 사이언스 방법론을 잘 설명해주고 있으며 제일 잘 알려져 있고 사용되는 프로세스는 CRISP-DM 입니다. \n",
    "\n",
    "[What is CRISP DM?](https://www.datascience-pm.com/crisp-dm-2/)\n",
    "\n",
    "위 기사에서도 언급하고 있듯이 히는 여러 설문을 통해서도 나타납니다.\n",
    "\n",
    "![](https://www.datascience-pm.com/wp-content/uploads/2020/10/process-google-search-volume-2019-2020.png)\n",
    "\n",
    "### CRoss Industry Standard Process for Data Mining (CRISP-DM)\n",
    "\n",
    "CRISP-DM 은 크게 6 단계로 이루어져 있으며, 아래 도시된 흐름으로 진행됩니다.\n",
    "\n",
    "![](https://www.datascience-pm.com/wp-content/uploads/2021/02/CRISP-DM.png)\n",
    "\n",
    "* Business understanding\n",
    "  * 비즈니스 목표 정의: 비즈니스 이해를 통해 기업 관점에서 성공 목표 및 평가 방식을 정량적으로 정의합니다.\n",
    "  * 프로젝트 목표 정의: 비즈니스 목표를 만족시키기 위한 프로젝트의 목표 및 평가 방식을 정략적으로 정의합니다.\n",
    "  * 프로젝트 상황 평가: 프로젝트의 요구 사항 및 자원 가용성 그리고 비용 분석을 통해 비용대비 성과의 생각하여 비즈니스 목표 및 프로젝트 목표를 조정합니다.\n",
    "  * 프로젝트 계획 생성: 기술과 도구를 선택하고 각 프로젝트 단계에 대한 자세한 계획을 정의하십시오.\n",
    "* Data understanding\n",
    "  * 데이터 수집: 필요한 데이터를 정의하고 수집합니다. \n",
    "  * 데이터 메타: 데이터 형식, 레코드 수 또는 필드 ID와 같은 속성을 문서화합니다.\n",
    "  * 데이터 탐색: 데이터를 쿼리하고, 시각화하고, 데이터 간의 관계를 탐색합니다. \n",
    "  * 데이터 품질: 데이터가 얼마나 깨끗하고 더러운지 품질 문제를 문서화합니다.\n",
    "* Data preparation: 선택된 모델링 알고리즘들에 필요한 데이터를 선택하고 준비합니다.\n",
    "* Modeling: 각 모델링 알고리즘을 통해 생성된 모델들 중에 평가를 통해 최적 모델을 선택합니다.\n",
    "* Evaluation: 최적화된 모델링들 중에 비즈니스 목표를 가장 잘 만족하는 모델링을 선택합니다.\n",
    "* Deployment: 프로덕트 환경에 적용/운영하면서 A/B 테스트 등을 통해 비즈니스 영향도를 측정하고 이를 기반으로 각 단계로 분기하여 반복수행하면서 개선합니다.\n",
    "\n",
    "위 기사에서도 다루고 있듯이 E2EDS 에서 CRIS-DM 뿐 아니라 다른 방법론 수행에서도 지켜야 할 키포인트는 문제를 수직적으로 분해하여 빠르게 진행하면서 역량 또한 키워내는 것입니다.\n",
    "\n",
    "![](https://www.datascience-pm.com/wp-content/uploads/2020/08/crisp-dm-vertical-agile-600px.gif)\n",
    "\n",
    "항상 대량 생산체제에서 우리가 익숙해져 왔던 아래와 같은 수평적 문제 분해 진행은 프로젝트의 흐름을 더디게만 할 뿐임을 자각해야 합니다.\n",
    "\n",
    "![](https://www.datascience-pm.com/wp-content/uploads/2020/08/crisp-dm-horizontal-waterfall-600x.gif)"
   ]
  },
  {
   "cell_type": "markdown",
   "metadata": {},
   "source": [
    "CRIS-DM 을 기반으로 좀 더 개량된 방법론들도 많이 생겨나고 있습니다. 프로젝트 계획 및 진행 시 많은 영감과 도움을 주기에 자신의 상황에 맞는지 평가해보고 적용해 볼 수 있습니다. \\\n",
    "하지만, 키포인트는 방법론적 프로세스가 아니라 위에서 언급한 E2EDS 를 하기 위한 3가지 포인트 임을 명심해야 합니다.   \n",
    "\n",
    "### Data Driven Scrum\n",
    "\n",
    "https://www.datascience-pm.com/data-driven-scrum/\n",
    "![](https://www.datascience-pm.com/wp-content/uploads/2022/02/Data-Driven-Scrum-detailedFlow.jpg)\n",
    "\n",
    "### Data Science Methodology 101\n",
    "\n",
    "Coursera 에서는 정리한 Data Science Methodology 와 Question 입니다. \n",
    "\n",
    "![](https://miro.medium.com/max/1400/1*QaDjoT2jbziHwuUVdeWSbw.jpeg)\n",
    "\n",
    "* Business Understanding: 비지니스의 이해를 통해 풀어야 할 문제에 대한 정의와 프로젝트의 목표 및 결과를 설정.\n",
    "* Analytic Approach: 통계, 머신러닝 기술을 이용하여 프로젝트 결과를 위한 접근방법 정의.\n",
    "* Data Requirements: 데이터 모델링에 사용될 알고리즘에 따라 필요한 데이터의 요구 사항정의.\n",
    "* Data Collection: 데이터 모델링에 사용될 데이터 Raw Data 수집 방법 정의.\n",
    "* Data Understanding: 제공된 데이터에 대한 통계적, 시각적 방법을 통해 초기 데이터를 이해.\n",
    "* Data Preparation: Data Collection 을 통해 수집된 Raw Data 를 각 모델에서 필요한 입력 데이터 형태에 맞게 변형.\n",
    "* Data Modeling: Data Preparation 을 통해 제공된 훈련용 입력 데이터를 이용해 데이터 모델 훈련.\n",
    "* Model Evaluation: Data Modeling 을 통해 훈련된 모델을 이용해 테스트 데이터에 대한 모델 성능을 평가.\n",
    "* Build Data Product: 최종 선택된 데이터 모델을 이용하여 Data Product 을 구축.\n",
    "* Feedback: Data Product 사용자들의 Feedback 을 받아 전체 프로세스를 순환하면서 발전 시킴.\n",
    "  \n",
    "코세라 강의: https://www.coursera.org/learn/data-science-methodology\n",
    "\n",
    "블로그에 올라온 강좌 서머리 들\n",
    "* Data Science Methodology — How to design your data science project\n",
    "  * [Overview of Data Science Methodology](https://medium.com/ml-research-lab/data-science-methodology-101-2fa9b7cf2ffe)\n",
    "  * [Part-1 Data Science Methodology- From Problem to Approach](https://medium.com/ml-research-lab/part-1-data-science-methodology-from-problem-to-approach-e2d05e7afc6b)\n",
    "  * [Part-2 Data Science Methodology From Requirement to Collection](https://medium.com/ml-research-lab/part-2-data-science-methodology-from-requirement-to-collection-4964e1f31058)\n",
    "  * [Part-3 Data Science Methodology From Understanding to Preparation](https://medium.com/ml-research-lab/part-3-data-science-methodology-from-understanding-to-preparation-a666a8203179)\n",
    "  * [Part-4 Data Science Methodology From Modelling to Evaluation](https://medium.com/ml-research-lab/part-4-data-science-methodology-from-modelling-to-evaluation-3fb3c0cdf805)\n",
    "  * [Part-5 Data Science Methodology From Deployment to Feedback](https://medium.com/ml-research-lab/part-5-data-science-methodology-from-deployment-to-feedback-d37f5e0ec479)\n",
    "* [Data Science Methodology-101 - Steps to follow while being a Data Scientist to solve any specific problem](https://medium.com/@umaruninawab321/data-science-methodology-101-81a9aedcb9dc)\n"
   ]
  },
  {
   "cell_type": "markdown",
   "metadata": {},
   "source": []
  }
 ],
 "metadata": {
  "kernelspec": {
   "display_name": "Python 3.8.9 64-bit ('3.8.9')",
   "language": "python",
   "name": "python3"
  },
  "language_info": {
   "codemirror_mode": {
    "name": "ipython",
    "version": 3
   },
   "file_extension": ".py",
   "mimetype": "text/x-python",
   "name": "python",
   "nbconvert_exporter": "python",
   "pygments_lexer": "ipython3",
   "version": "3.8.9"
  },
  "vscode": {
   "interpreter": {
    "hash": "81b98c941daad6509d4c89342869ca88f891260205139ff875cb30be518b42c4"
   }
  }
 },
 "nbformat": 4,
 "nbformat_minor": 4
}
