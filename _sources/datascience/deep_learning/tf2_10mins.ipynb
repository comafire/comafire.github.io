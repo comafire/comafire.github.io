{
 "cells": [
  {
   "cell_type": "markdown",
   "metadata": {},
   "source": [
    "# TF2 10mins\n",
    "\n",
    "Tensorflow2 학습은 Tensorflow2 공식 홈페이지의 내용이 좋기때문에 해당 내용 기반으로 수행해 가면서 익혀봅니다.\n",
    "\n",
    "https://www.tensorflow.org/overview?hl=ko\n",
    "\n",
    "**초보자를 위한 빠른 시작**에서는 Keras의 Sequential Model을 기반으로 간단하게 모델을 설계하는 것을 보여 줍니다.\n",
    "* [Sequential Model](https://keras.io/getting-started/sequential-model-guide/)\n",
    "  * 스택처럼 쌓아서 만드는 단일 구조의 딥러닝 모델을 간편하게 설계할 수 있습니다.\n",
    "\n",
    "**전문가를 위한 빠른 시작**에서는 Keras의 Function API 및 tf.function 을 이용하는 방식을 보여줍니다.\n",
    "* [Function API](https://keras.io/getting-started/functional-api-guide/)\n",
    "  * 다양한 모델을 엮어 만드는 복잡한 구조의 딥러닝 모델을 설계할 수 있습니다.\n",
    "  * multi-output models, directed acyclic graphs, 또는 shared layers를 가지는 모델들의 설계가 가능합니다.\n",
    "  \n",
    "Tensorflow2 로 넘어 오면서 \n",
    "* API 정리: 기존에 복잡했던 API 들에 대한 정리가 이루어지고, Keras 가 High Level Core API 로 포함되었습니다.\n",
    "* Eager execution: Pytorch 처럼 즉시 실행이 기본 동작이 되었습니다. \n",
    "* @tf.function: 데코레이터를 이용하면 편리하게 데이터의 비동기 프리페치(Prefetch)/스트리밍(Streaming) 기능 및 오토그래프(Autograph)를 적용 시켜 성능 향상됩니다.\n",
    "\n",
    "Tensorflow2 에 대한 상세 소개는 아래 동영상을 참고하세요\n",
    "\n",
    "[![youtube](https://img.youtube.com/vi/FvAsdZwavpA/0.jpg)](https://www.youtube.com/watch?v=FvAsdZwavpA)\n"
   ]
  },
  {
   "cell_type": "code",
   "execution_count": 1,
   "metadata": {},
   "outputs": [
    {
     "name": "stdout",
     "output_type": "stream",
     "text": [
      "python ver=3.7.6 (default, Nov 21 2020, 22:51:13) \n",
      "[Clang 12.0.0 (clang-1200.0.32.27)]\n",
      "pandas ver=1.0.5\n",
      "numpy ver=1.19.5\n",
      "tensorflow ver=2.4.1\n"
     ]
    }
   ],
   "source": [
    "# 경고 메시지 출력 끄기\n",
    "import warnings \n",
    "warnings.filterwarnings(action='ignore')\n",
    "\n",
    "%matplotlib inline\n",
    "import matplotlib.pyplot as plt\n",
    "import IPython\n",
    "\n",
    "import sys\n",
    "\n",
    "rseed = 22\n",
    "import random\n",
    "random.seed(rseed)\n",
    "\n",
    "import numpy as np\n",
    "np.random.seed(rseed)\n",
    "np.set_printoptions(precision=3)\n",
    "np.set_printoptions(formatter={'float_kind': \"{:.3f}\".format})\n",
    "\n",
    "import pandas as pd\n",
    "pd.set_option('display.max_rows', None) \n",
    "pd.set_option('display.max_columns', None) \n",
    "pd.set_option('display.max_colwidth', None)\n",
    "pd.options.display.float_format = '{:,.5f}'.format\n",
    "\n",
    "import tensorflow as tf\n",
    "tf.random.set_seed(rseed)\n",
    "tf.keras.backend.set_floatx('float32') # keras default float type 설정\n",
    "\n",
    "print(f\"python ver={sys.version}\")\n",
    "print(f\"pandas ver={pd.__version__}\")\n",
    "print(f\"numpy ver={np.__version__}\")\n",
    "print(f\"tensorflow ver={tf.__version__}\")"
   ]
  },
  {
   "cell_type": "markdown",
   "metadata": {},
   "source": [
    "## 초보자를 위한 빠른 시작"
   ]
  },
  {
   "cell_type": "code",
   "execution_count": 2,
   "metadata": {},
   "outputs": [
    {
     "name": "stdout",
     "output_type": "stream",
     "text": [
      "n=60000, w=28, h=28\n",
      "type: xs_train=uint8\n",
      "type: ys_train=uint8\n",
      "sample: xs_train[0]=\n"
     ]
    },
    {
     "data": {
      "image/png": "[encoded data removed]",
      "text/plain": [
       "<Figure size 432x288 with 2 Axes>"
      ]
     },
     "metadata": {
      "needs_background": "light"
     },
     "output_type": "display_data"
    },
    {
     "name": "stdout",
     "output_type": "stream",
     "text": [
      "sample: ys_train[0]=5\n",
      "type: x_train=float64\n"
     ]
    }
   ],
   "source": [
    "# MNIST 샘플 데이터\n",
    "mnist = tf.keras.datasets.mnist\n",
    "\n",
    "(xs_train, ys_train), (xs_test, ys_test) = mnist.load_data()\n",
    "\n",
    "# 학습할 이미지는 28x28 사이즈의 0~255 사이 값을 가지는 패션 이미지 입니다.\n",
    "n, w, h = xs_train.shape\n",
    "print(f\"n={n}, w={w}, h={h}\")\n",
    "print(f\"type: xs_train={xs_train.dtype}\")\n",
    "print(f\"type: ys_train={ys_train.dtype}\")\n",
    "\n",
    "idx = 0\n",
    "print(f\"sample: xs_train[{idx}]=\")\n",
    "plt.figure()\n",
    "plt.imshow(xs_train[idx])\n",
    "plt.colorbar()\n",
    "plt.grid(False)\n",
    "plt.show()\n",
    "print(f\"sample: ys_train[{idx}]={ys_train[idx]}\")\n",
    "\n",
    "# Data를 0 ~ 1 사이 float 값으로 Scaling 을 변환 합니다.\n",
    "xs_train, xs_test = xs_train / 255.0, xs_test / 255.0\n",
    "print(f\"type: x_train={xs_train.dtype}\")"
   ]
  },
  {
   "cell_type": "code",
   "execution_count": 3,
   "metadata": {},
   "outputs": [
    {
     "name": "stdout",
     "output_type": "stream",
     "text": [
      "Model: \"sequential\"\n",
      "_________________________________________________________________\n",
      "Layer (type)                 Output Shape              Param #   \n",
      "=================================================================\n",
      "flatten (Flatten)            (None, 784)               0         \n",
      "_________________________________________________________________\n",
      "dense (Dense)                (None, 128)               100480    \n",
      "_________________________________________________________________\n",
      "dropout (Dropout)            (None, 128)               0         \n",
      "_________________________________________________________________\n",
      "dense_1 (Dense)              (None, 10)                1290      \n",
      "=================================================================\n",
      "Total params: 101,770\n",
      "Trainable params: 101,770\n",
      "Non-trainable params: 0\n",
      "_________________________________________________________________\n"
     ]
    }
   ],
   "source": [
    "# Sequential 방식으로 모델 설계\n",
    "model = tf.keras.models.Sequential([\n",
    "  tf.keras.layers.Flatten(input_shape=(28, 28)), # 28x28 형태로 데이터를 입력 받아 1차원 형태로 변환\n",
    "  tf.keras.layers.Dense(128, activation='relu'), # 활성화 함수로 relu 사용\n",
    "  tf.keras.layers.Dropout(0.2), # 과적합 방지를 위해 dropout 적용\n",
    "  tf.keras.layers.Dense(10, activation='softmax') # 출력에서 logit 값을 softmax 를 통해 각 클래스의 확률 값으로 변환 \n",
    "])\n",
    "\n",
    "# 모델 출력 / 컴파일\n",
    "model.summary()\n",
    "model.compile(optimizer='adam',\n",
    "              loss='sparse_categorical_crossentropy', # sparse_categorical_crossentropy 손실 함수를 사용하면 학습/평가시 y 값을 one hot 인코딩 해주지 않아도 되어 편리\n",
    "              metrics=['accuracy'])"
   ]
  },
  {
   "cell_type": "code",
   "execution_count": 4,
   "metadata": {},
   "outputs": [
    {
     "name": "stdout",
     "output_type": "stream",
     "text": [
      "Epoch 1/5\n",
      "1875/1875 [==============================] - 2s 714us/step - loss: 0.4874 - accuracy: 0.8576\n",
      "Epoch 2/5\n",
      "1875/1875 [==============================] - 1s 696us/step - loss: 0.1566 - accuracy: 0.9533\n",
      "Epoch 3/5\n",
      "1875/1875 [==============================] - 1s 700us/step - loss: 0.1137 - accuracy: 0.9647\n",
      "Epoch 4/5\n",
      "1875/1875 [==============================] - 1s 697us/step - loss: 0.0889 - accuracy: 0.9737\n",
      "Epoch 5/5\n",
      "1875/1875 [==============================] - 1s 695us/step - loss: 0.0733 - accuracy: 0.9771\n",
      "313/313 - 0s - loss: 0.0753 - accuracy: 0.9779\n"
     ]
    },
    {
     "data": {
      "text/plain": [
       "[0.07531022280454636, 0.9779000282287598]"
      ]
     },
     "execution_count": 4,
     "metadata": {},
     "output_type": "execute_result"
    }
   ],
   "source": [
    "model.fit(xs_train, ys_train, epochs=5)\n",
    "model.evaluate(xs_test,  ys_test, verbose=2)"
   ]
  },
  {
   "cell_type": "code",
   "execution_count": 5,
   "metadata": {},
   "outputs": [
    {
     "name": "stdout",
     "output_type": "stream",
     "text": [
      "(1, 28, 28)\n",
      "y_prob=[[0.000 0.000 0.000 0.000 0.000 0.000 0.000 1.000 0.000 0.000]]\n",
      "y_pred=7, y_test=7\n"
     ]
    }
   ],
   "source": [
    "# 예측을 위해 데이터의 shape을 맞춰 줍니다.\n",
    "x_test = (np.expand_dims(xs_test[0], 0))\n",
    "y_test = ys_test[0]\n",
    "print(x_test.shape)\n",
    "\n",
    "y_prob = model.predict(x_test) # 모델의 출력이 softmax 이기때문에 각 클래스의 확률값이 반환됨\n",
    "y_pred = np.argmax(y_prob) # 확률 값 중 가장 큰 값의 인덱스 값을 레이블 값으로 선택\n",
    "print(f\"y_prob={y_prob}\")\n",
    "print(f\"y_pred={y_pred}, y_test={y_test}\")"
   ]
  },
  {
   "cell_type": "markdown",
   "metadata": {},
   "source": [
    "## 전문가를 위한 빠른 시작"
   ]
  },
  {
   "cell_type": "code",
   "execution_count": 6,
   "metadata": {},
   "outputs": [],
   "source": [
    "# Dataset 을 통해 미니 배치 학습을 위한 데이터 셋을 쉽게 만들 수 있습니다. \n",
    "train_ds = tf.data.Dataset.from_tensor_slices((xs_train, ys_train)).shuffle(10000).batch(32) # 버퍼사이즈(10000)만큼씩 데이터를 랜덤하게 가져와서 배치사이즈(32)만큼씩 제공합니다.  \n",
    "test_ds = tf.data.Dataset.from_tensor_slices((xs_test, ys_test)).batch(32)"
   ]
  },
  {
   "cell_type": "code",
   "execution_count": 7,
   "metadata": {},
   "outputs": [],
   "source": [
    "class DNN(tf.keras.Model):\n",
    "    # 모델에 필요한 각 레이어를 선언합니다.\n",
    "    def __init__(self):\n",
    "        super(DNN, self).__init__()\n",
    "        self.flatten = tf.keras.layers.Flatten(input_shape=(28, 28), dtype='float64') # 28x28 형태로 데이터를 입력 받아 1차원 형태로 변환\n",
    "        self.dense = tf.keras.layers.Dense(128, activation='relu')\n",
    "        self.dropout = tf.keras.layers.Dropout(0.2)\n",
    "        self.softmax = tf.keras.layers.Dense(10, activation='softmax')\n",
    "\n",
    "    # 각 레이어를 연결합니다.\n",
    "    def call(self, x):\n",
    "        x = self.flatten(x)\n",
    "        x = self.dense(x)\n",
    "        x = self.dropout(x)\n",
    "        return self.softmax(x)\n",
    "\n",
    "model = DNN()"
   ]
  },
  {
   "cell_type": "code",
   "execution_count": 8,
   "metadata": {},
   "outputs": [],
   "source": [
    "# Loss 함수와 Optimizer를 선언합니다.\n",
    "loss_object = tf.keras.losses.SparseCategoricalCrossentropy() # SparseCategoricalCrossentropy()를 사용하면 학습/평가시 y 값을 one hot 인코딩 해주지 않아도 되어 편리\n",
    "optimizer = tf.keras.optimizers.Adam()"
   ]
  },
  {
   "cell_type": "code",
   "execution_count": 9,
   "metadata": {},
   "outputs": [],
   "source": [
    "# 학습 결과를 저장할 변수를 선언합니다.\n",
    "train_loss = tf.keras.metrics.Mean(name='train_loss')\n",
    "train_accuracy = tf.keras.metrics.SparseCategoricalAccuracy(name='train_accuracy')\n",
    "\n",
    "test_loss = tf.keras.metrics.Mean(name='test_loss')\n",
    "test_accuracy = tf.keras.metrics.SparseCategoricalAccuracy(name='test_accuracy')"
   ]
  },
  {
   "cell_type": "code",
   "execution_count": 10,
   "metadata": {},
   "outputs": [],
   "source": [
    "# GradientTape()을 통해 Loss 를 학습시킵니다. \n",
    "@tf.function # tf.function 을 통해 성능을 향상합니다.\n",
    "def train_step(images, labels):\n",
    "    with tf.GradientTape() as tape:\n",
    "        predictions = model(images)\n",
    "        loss = loss_object(labels, predictions)\n",
    "    gradients = tape.gradient(loss, model.trainable_variables)\n",
    "    optimizer.apply_gradients(zip(gradients, model.trainable_variables))\n",
    "\n",
    "    train_loss(loss)\n",
    "    train_accuracy(labels, predictions)"
   ]
  },
  {
   "cell_type": "code",
   "execution_count": 11,
   "metadata": {},
   "outputs": [],
   "source": [
    "@tf.function\n",
    "def test_step(images, labels):\n",
    "    predictions = model(images)\n",
    "    t_loss = loss_object(labels, predictions)\n",
    "\n",
    "    test_loss(t_loss)\n",
    "    test_accuracy(labels, predictions)"
   ]
  },
  {
   "cell_type": "code",
   "execution_count": 12,
   "metadata": {},
   "outputs": [
    {
     "name": "stdout",
     "output_type": "stream",
     "text": [
      "에포크: 1, 손실: 0.251775324344635, 정확도: 92.80166625976562, 테스트 손실: 0.1288292109966278, 테스트 정확도: 96.24000549316406\n",
      "에포크: 2, 손실: 0.18197131156921387, 정확도: 94.73416900634766, 테스트 손실: 0.11977911740541458, 테스트 정확도: 96.37000274658203\n",
      "에포크: 3, 손실: 0.14691072702407837, 정확도: 95.71221923828125, 테스트 손실: 0.10805168747901917, 테스트 정확도: 96.73332977294922\n",
      "에포크: 4, 손실: 0.12449602037668228, 정확도: 96.34833526611328, 테스트 손실: 0.10113336890935898, 테스트 정확도: 96.9425048828125\n",
      "에포크: 5, 손실: 0.10851043462753296, 정확도: 96.79766845703125, 테스트 손실: 0.09583290666341782, 테스트 정확도: 97.09400177001953\n"
     ]
    }
   ],
   "source": [
    "EPOCHS = 5\n",
    "\n",
    "for epoch in range(EPOCHS):\n",
    "    for images, labels in train_ds:\n",
    "        train_step(images, labels)\n",
    "\n",
    "    for test_images, test_labels in test_ds:\n",
    "        test_step(test_images, test_labels)\n",
    "\n",
    "    template = '에포크: {}, 손실: {}, 정확도: {}, 테스트 손실: {}, 테스트 정확도: {}'\n",
    "    print (template.format(epoch+1,\n",
    "                           train_loss.result(), train_accuracy.result()*100,\n",
    "                           test_loss.result(), test_accuracy.result()*100))"
   ]
  },
  {
   "cell_type": "code",
   "execution_count": 13,
   "metadata": {},
   "outputs": [
    {
     "name": "stdout",
     "output_type": "stream",
     "text": [
      "(1, 28, 28)\n",
      "y_prob=[[0.000 0.000 0.000 0.000 0.000 0.000 0.000 1.000 0.000 0.000]]\n",
      "y_pred=7, y_test=7\n"
     ]
    }
   ],
   "source": [
    "# 예측을 위해 데이터의 shape을 맞춰 줍니다.\n",
    "x_test = (np.expand_dims(xs_test[0], 0))\n",
    "y_test = ys_test[0]\n",
    "print(x_test.shape)\n",
    "\n",
    "y_prob = model.predict(x_test)\n",
    "y_pred = np.argmax(y_prob)\n",
    "print(f\"y_prob={y_prob}\")\n",
    "print(f\"y_pred={y_pred}, y_test={y_test}\")"
   ]
  },
  {
   "cell_type": "code",
   "execution_count": 14,
   "metadata": {},
   "outputs": [],
   "source": [
    "# MIT License\n",
    "#\n",
    "# Copyright (c) 2017 François Chollet\n",
    "#\n",
    "# Permission is hereby granted, free of charge, to any person obtaining a\n",
    "# copy of this software and associated documentation files (the \"Software\"),\n",
    "# to deal in the Software without restriction, including without limitation\n",
    "# the rights to use, copy, modify, merge, publish, distribute, sublicense,\n",
    "# and/or sell copies of the Software, and to permit persons to whom the\n",
    "# Software is furnished to do so, subject to the following conditions:\n",
    "#\n",
    "# The above copyright notice and this permission notice shall be included in\n",
    "# all copies or substantial portions of the Software.\n",
    "#\n",
    "# THE SOFTWARE IS PROVIDED \"AS IS\", WITHOUT WARRANTY OF ANY KIND, EXPRESS OR\n",
    "# IMPLIED, INCLUDING BUT NOT LIMITED TO THE WARRANTIES OF MERCHANTABILITY,\n",
    "# FITNESS FOR A PARTICULAR PURPOSE AND NONINFRINGEMENT. IN NO EVENT SHALL\n",
    "# THE AUTHORS OR COPYRIGHT HOLDERS BE LIABLE FOR ANY CLAIM, DAMAGES OR OTHER\n",
    "# LIABILITY, WHETHER IN AN ACTION OF CONTRACT, TORT OR OTHERWISE, ARISING\n",
    "# FROM, OUT OF OR IN CONNECTION WITH THE SOFTWARE OR THE USE OR OTHER\n",
    "# DEALINGS IN THE SOFTWARE."
   ]
  },
  {
   "cell_type": "code",
   "execution_count": null,
   "metadata": {},
   "outputs": [],
   "source": []
  }
 ],
 "metadata": {
  "kernelspec": {
   "display_name": "Python 3",
   "language": "python",
   "name": "python3"
  },
  "language_info": {
   "codemirror_mode": {
    "name": "ipython",
    "version": 3
   },
   "file_extension": ".py",
   "mimetype": "text/x-python",
   "name": "python",
   "nbconvert_exporter": "python",
   "pygments_lexer": "ipython3",
   "version": "3.8.9"
  },
  "nikola": {
   "category": "",
   "date": "2019-03-09",
   "description": "",
   "link": "",
   "slug": "ml-keras-10mins",
   "tags": "",
   "title": "Machine Learning - Keras 10분만에 훑어보기",
   "type": "text"
  },
  "notebookId": 2469278771832403,
  "toc": {
   "base_numbering": 1,
   "nav_menu": {},
   "number_sections": true,
   "sideBar": true,
   "skip_h1_title": false,
   "title_cell": "Table of Contents",
   "title_sidebar": "Contents",
   "toc_cell": false,
   "toc_position": {},
   "toc_section_display": true,
   "toc_window_display": false
  }
 },
 "nbformat": 4,
 "nbformat_minor": 4
}
