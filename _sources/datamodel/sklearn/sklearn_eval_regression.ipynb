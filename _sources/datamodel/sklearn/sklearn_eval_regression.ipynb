{
 "cells": [
  {
   "cell_type": "markdown",
   "metadata": {},
   "source": [
    "# Regression Evaluation (Sklearn)\n",
    "\n",
    "회귀 문제에서 데이터를 통해 생성한 모델이 좋은지 판단하기 위해 자주사용하는 평가 함수에 대해서 알아봅니다."
   ]
  },
  {
   "cell_type": "markdown",
   "metadata": {},
   "source": [
    "## Mean absolute error(MAE)\n",
    "\n",
    "MAE 값은 예측 값과 실제 값의 차이의 절대값의 평균을 나타냅니다. \n",
    "\n",
    "\\\\[\n",
    "\\text{MAE}(y, \\hat{y}) = \\frac{1}{n_{\\text{samples}}} \\sum_{i=0}^{n_{\\text{samples}}-1} \\left| y_i - \\hat{y}_i \\right|.\n",
    "\\\\]\n",
    "\n",
    "예측 값이 배열 형태인 경우는 multioutput 옵션을 이용해서 MAE 값의 계산 방법을 조정할 수 있습니다. 기본적으로는 MAE 들의 평균 값을 리턴하며, 'raw_values' 값을 통해 변경 없이 리턴하거나, [0.3, 0.7] 가중치 배열를 통해 적용 비율을 달리 할 수 있습니다. "
   ]
  },
  {
   "cell_type": "code",
   "execution_count": 1,
   "metadata": {},
   "outputs": [
    {
     "name": "stdout",
     "output_type": "stream",
     "text": [
      "MAE=0.5\n",
      "MAE=0.75\n",
      "MAE=[0.5 1. ]\n",
      "MAE=0.85\n"
     ]
    }
   ],
   "source": [
    "from sklearn.metrics import mean_absolute_error\n",
    "\n",
    "y_true = [3, -0.5, 2, 7]\n",
    "y_pred = [2.5, 0.0, 2, 8]\n",
    "mae = mean_absolute_error(y_true, y_pred)\n",
    "print(\"MAE={}\".format(mae))\n",
    "\n",
    "# Multioutput\n",
    "y_true = [[0.5, 1], [-1, 1], [7, -6]]\n",
    "y_pred = [[0, 2], [-1, 2], [8, -5]]\n",
    "mae = mean_absolute_error(y_true, y_pred) \n",
    "print(\"MAE={}\".format(mae))\n",
    "\n",
    "mae = mean_absolute_error(y_true, y_pred, multioutput='raw_values') \n",
    "print(\"MAE={}\".format(mae))\n",
    "\n",
    "mae = mean_absolute_error(y_true, y_pred, multioutput=[0.3, 0.7]) \n",
    "print(\"MAE={}\".format(mae))"
   ]
  },
  {
   "cell_type": "markdown",
   "metadata": {},
   "source": [
    "## Mean squared error(MSE)\n",
    "\n",
    "MSE 값은 예측 값과 실제 값의 차이의 제곱 값의 평균을 나타냅니다. \n",
    "\n",
    "\\\\[\n",
    "\\text{MSE}(y, \\hat{y}) = \\frac{1}{n_\\text{samples}} \\sum_{i=0}^{n_\\text{samples} - 1} (y_i - \\hat{y}_i)^2.\n",
    "\\\\]\n"
   ]
  },
  {
   "cell_type": "code",
   "execution_count": 2,
   "metadata": {},
   "outputs": [
    {
     "name": "stdout",
     "output_type": "stream",
     "text": [
      "MSE=0.375\n",
      "MSE=0.7083333333333334\n",
      "MSE=[0.41666667 1.        ]\n",
      "MSE=0.825\n"
     ]
    }
   ],
   "source": [
    "from sklearn.metrics import mean_squared_error\n",
    "\n",
    "y_true = [3, -0.5, 2, 7]\n",
    "y_pred = [2.5, 0.0, 2, 8]\n",
    "mse = mean_squared_error(y_true, y_pred)\n",
    "print(\"MSE={}\".format(mse))\n",
    "\n",
    "y_true = [[0.5, 1], [-1, 1], [7, -6]]\n",
    "y_pred = [[0, 2], [-1, 2], [8, -5]]\n",
    "mse = mean_squared_error(y_true, y_pred) \n",
    "print(\"MSE={}\".format(mse))\n",
    "\n",
    "mse = mean_squared_error(y_true, y_pred, multioutput='raw_values') \n",
    "print(\"MSE={}\".format(mse))\n",
    "\n",
    "mse = mean_squared_error(y_true, y_pred, multioutput=[0.3, 0.7]) \n",
    "print(\"MSE={}\".format(mse))"
   ]
  },
  {
   "cell_type": "markdown",
   "metadata": {},
   "source": [
    "## Median absolute error(MedAE)\n",
    "\n",
    "MedAE는 모든 예측 값과 실제 값의 차이의 절대 값 중에 중앙 값을 구합니다. 중앙 값을 사용하기 때문에 에러 이상치에 민감하지 않게 됩니다. \n",
    "\n",
    "\\\\[\n",
    "\\text{MedAE}(y, \\hat{y}) = \\text{median}(\\mid y_1 - \\hat{y}_1 \\mid, \\ldots, \\mid y_n - \\hat{y}_n \\mid).\n",
    "\\\\]\n",
    "\n",
    "이 평가 함수는 multioutput 조건을 제공하지 않습니다."
   ]
  },
  {
   "cell_type": "code",
   "execution_count": 3,
   "metadata": {},
   "outputs": [
    {
     "name": "stdout",
     "output_type": "stream",
     "text": [
      "MedAE=0.5\n"
     ]
    }
   ],
   "source": [
    "from sklearn.metrics import median_absolute_error\n",
    "\n",
    "y_true = [3, -0.5, 2, 7]\n",
    "y_pred = [2.5, 0.0, 2, 8]\n",
    "medae = median_absolute_error(y_true, y_pred)\n",
    "print(\"MedAE={}\".format(medae))"
   ]
  },
  {
   "cell_type": "markdown",
   "metadata": {},
   "source": [
    "## R² score\n",
    "\n",
    "R2 Score 함수는 the coefficient of determination 를 계산합니다. 이 값은 모델이 독립변수를 이용하여 종속변수를 얼마나 잘 설명할 수 있는지는 나타내는 척도입니다. 1.0 에 가까울 수록 모델의 설명력이 좋음을 나타냅니다. \n",
    "\n",
    "\\\\[\n",
    "R^2(y, \\hat{y}) = 1 - \\frac{\\sum_{i=1}^{n} (y_i - \\hat{y}_i)^2}{\\sum_{i=1}^{n} (y_i - \\bar{y})^2}\n",
    "\\\\]\n",
    "\n",
    "multioutput 은 아래 옵션들을 지원합니다.\n",
    "\n",
    "* ‘raw_values’ : 변형 없이 그대로 반환\n",
    "* ‘uniform_average’ : uniform 가중치 평균\n",
    "* ‘variance_weighted’ : variance 가중치 평균\n",
    "* array type: 지정 가중치\n"
   ]
  },
  {
   "cell_type": "code",
   "execution_count": 4,
   "metadata": {},
   "outputs": [
    {
     "name": "stdout",
     "output_type": "stream",
     "text": [
      "R2=0.9486081370449679\n",
      "R2=0.9382566585956417\n",
      "R2=0.9368005266622779\n",
      "R2=[0.96543779 0.90816327]\n",
      "R2=[0.96543779 0.90816327]\n"
     ]
    }
   ],
   "source": [
    "from sklearn.metrics import r2_score\n",
    "\n",
    "y_true = [3, -0.5, 2, 7]\n",
    "y_pred = [2.5, 0.0, 2, 8]\n",
    "r2 = r2_score(y_true, y_pred)  \n",
    "print(\"R2={}\".format(r2))\n",
    "\n",
    "y_true = [[0.5, 1], [-1, 1], [7, -6]]\n",
    "y_pred = [[0, 2], [-1, 2], [8, -5]]\n",
    "r2 = r2_score(y_true, y_pred, multioutput='variance_weighted')\n",
    "print(\"R2={}\".format(r2))\n",
    "\n",
    "y_true = [[0.5, 1], [-1, 1], [7, -6]]\n",
    "y_pred = [[0, 2], [-1, 2], [8, -5]]\n",
    "r2 = r2_score(y_true, y_pred, multioutput='uniform_average')\n",
    "print(\"R2={}\".format(r2))\n",
    "\n",
    "r2 = r2_score(y_true, y_pred, multioutput='raw_values')\n",
    "print(\"R2={}\".format(r2))\n",
    "\n",
    "r2_score(y_true, y_pred, multioutput=[0.3, 0.7])\n",
    "print(\"R2={}\".format(r2))"
   ]
  },
  {
   "cell_type": "code",
   "execution_count": null,
   "metadata": {},
   "outputs": [],
   "source": []
  }
 ],
 "metadata": {
  "kernelspec": {
   "display_name": "Python 3",
   "language": "python",
   "name": "python3"
  },
  "language_info": {
   "codemirror_mode": {
    "name": "ipython",
    "version": 3
   },
   "file_extension": ".py",
   "mimetype": "text/x-python",
   "name": "python",
   "nbconvert_exporter": "python",
   "pygments_lexer": "ipython3",
   "version": "3.7.6"
  },
  "nikola": {
   "category": "",
   "date": "2019-05-25",
   "description": "",
   "link": "",
   "slug": "ml-eval-regression",
   "tags": "",
   "title": "Machine Learning - Evaluation - Regression",
   "type": "text"
  },
  "toc": {
   "base_numbering": 1,
   "nav_menu": {},
   "number_sections": true,
   "sideBar": true,
   "skip_h1_title": false,
   "title_cell": "Table of Contents",
   "title_sidebar": "Contents",
   "toc_cell": false,
   "toc_position": {},
   "toc_section_display": true,
   "toc_window_display": false
  }
 },
 "nbformat": 4,
 "nbformat_minor": 4
}
