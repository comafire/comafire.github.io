{
 "cells": [
  {
   "cell_type": "markdown",
   "metadata": {},
   "source": [
    "**데이터 사이언스 견문록 (Data Science Travelog, 견문록: 보고 들은 지식을 기록하여 놓은 글)**\n",
    "\n",
    "End to End Data Science를 위한 데이터 사이언스 관련 지식들의 개인적 정리 공간입니다.\n",
    "\n",
    "따라서, 틀린 내용 및 견해가 있을 수 있으며, 제가 직접 작성한 내용 외에 인용한 모든 내용의 저작권은 저작권자에게 있음을 밝힙니다."
   ]
  },
  {
   "cell_type": "markdown",
   "metadata": {},
   "source": []
  }
 ],
 "metadata": {
  "kernelspec": {
   "display_name": "Python 3.8.9 64-bit ('3.8.9')",
   "language": "python",
   "name": "python3"
  },
  "language_info": {
   "codemirror_mode": {
    "name": "ipython",
    "version": 3
   },
   "file_extension": ".py",
   "mimetype": "text/x-python",
   "name": "python",
   "nbconvert_exporter": "python",
   "pygments_lexer": "ipython3",
   "version": "3.8.9"
  },
  "vscode": {
   "interpreter": {
    "hash": "81b98c941daad6509d4c89342869ca88f891260205139ff875cb30be518b42c4"
   }
  }
 },
 "nbformat": 4,
 "nbformat_minor": 4
}
