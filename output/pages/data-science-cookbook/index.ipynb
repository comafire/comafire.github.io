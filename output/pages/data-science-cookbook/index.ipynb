{
 "cells": [
  {
   "cell_type": "markdown",
   "metadata": {},
   "source": [
    "# Data Science Cookbook\n",
    "\n",
    "데이터 사이언스관련 주요 예제들을 공유하는 공간입니다.\n",
    "\n",
    "* Data Collection\n",
    "  * Web Crawling\n",
    "* Data Preparation (EDA)\n",
    "  * [Data Description(데이터 서술)](https://comafire.github.io/pages/data-preparation-data-description)\n",
    "  * [Descriptive Statistics(기술적 통계)](https://comafire.github.io/pages/data-preparation-descriptive-statistics)\n",
    "  * Missing Value\n",
    "  * Outlier\n",
    "  * Dimensionality Reduction\n",
    "* Model\n",
    "  * \n",
    "  * Supervised Learning\n",
    "    * Regression\n",
    "    * Classificaion\n",
    "  * Unsupervised Learning\n",
    "    * Clustering\n",
    "* Evaluation\n",
    "  * RMSE(Root Mean Squared Error)"
   ]
  }
 ],
 "metadata": {
  "kernelspec": {
   "display_name": "Python 3",
   "language": "python",
   "name": "python3"
  },
  "language_info": {
   "codemirror_mode": {
    "name": "ipython",
    "version": 3
   },
   "file_extension": ".py",
   "mimetype": "text/x-python",
   "name": "python",
   "nbconvert_exporter": "python",
   "pygments_lexer": "ipython3",
   "version": "3.5.2"
  },
  "nikola": {
   "category": "",
   "date": "2019-02-10",
   "description": "",
   "link": "",
   "slug": "data-science-cookbook",
   "tags": "",
   "title": "Data Science Cookbook",
   "type": "text"
  },
  "toc": {
   "base_numbering": 1,
   "nav_menu": {},
   "number_sections": true,
   "sideBar": true,
   "skip_h1_title": false,
   "title_cell": "Table of Contents",
   "title_sidebar": "Contents",
   "toc_cell": false,
   "toc_position": {},
   "toc_section_display": true,
   "toc_window_display": false
  }
 },
 "nbformat": 4,
 "nbformat_minor": 2
}
