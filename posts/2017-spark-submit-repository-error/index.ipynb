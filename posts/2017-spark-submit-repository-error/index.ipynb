{
 "cells": [
  {
   "cell_type": "markdown",
   "metadata": {},
   "source": [
    "가끔 새로 설정한 클러스터에서 spark submit 시에 아래와 같은 에러를 만날때가 있습니다.\n",
    "\n",
    "```\n",
    ":: problems summary ::\n",
    ":::: WARNINGS\n",
    "\t\tmodule not found: org.restlet.jee#org.restlet;2.3.0\n",
    "\n",
    "\t==== local-m2-cache: tried\n",
    "\n",
    "\t  file:/home/bdpuser/.m2/repository/org/restlet/jee/org.restlet/2.3.0/org.restlet-2.3.0.pom\n",
    "\n",
    "\t  -- artifact org.restlet.jee#org.restlet;2.3.0!org.restlet.jar:\n",
    "\n",
    "\t  file:/home/bdpuser/.m2/repository/org/restlet/jee/org.restlet/2.3.0/org.restlet-2.3.0.jar\n",
    "\n",
    "```"
   ]
  },
  {
   "cell_type": "markdown",
   "metadata": {},
   "source": [
    "이 문제는 해당 jar 의 maven 레퍼지 토리를 찾지 못해 일어나는 현상입니다.\n",
    "\n",
    "이럴때는 당황하지 말고 spark-submit시에 repositories 옵션을 이용해 레퍼지토리 설정을 하게 되면 해결 가능합니다.\n",
    "\n",
    "```bash\n",
    "spark-shell --num-executors 5 --executor-cores 2 --packages com.databricks:spark-csv_2.10:1.4.0,com.databricks:spark-avro_2.10:2.0.1,com.lucidworks.spark:spark-solr:2.0.1 --repositories http://maven.restlet.org --jars jars/sqljdbc4.jar\n",
    "```"
   ]
  },
  {
   "cell_type": "code",
   "execution_count": null,
   "metadata": {
    "collapsed": true
   },
   "outputs": [],
   "source": []
  }
 ],
 "metadata": {
  "kernelspec": {
   "display_name": "Python 2",
   "language": "python",
   "name": "python2"
  },
  "language_info": {
   "codemirror_mode": {
    "name": "ipython",
    "version": 2
   },
   "file_extension": ".py",
   "mimetype": "text/x-python",
   "name": "python",
   "nbconvert_exporter": "python",
   "pygments_lexer": "ipython2",
   "version": "2.7.12"
  },
  "nikola": {
   "category": "",
   "date": "2017-07-15",
   "description": "",
   "link": "",
   "slug": "2017-spark-submit-repository-error",
   "tags": "",
   "title": "2017-spark-submit-repository-error",
   "type": "text"
  }
 },
 "nbformat": 4,
 "nbformat_minor": 1
}
