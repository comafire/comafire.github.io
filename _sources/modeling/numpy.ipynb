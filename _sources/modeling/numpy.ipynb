{
 "cells": [
  {
   "cell_type": "markdown",
   "metadata": {},
   "source": [
    "# Numpy Cheatsheet\n",
    "\n",
    "Numpy는 행렬이나 일반적으로 대규모 다차원 배열을 쉽게 처리 할 수 있도록 지원하는 파이썬 라이브러리입니다. NumPy는 데이터 구조 외에도 수치 계산을 위해 효율적으로 구현된 기능을 제공합니다.\n",
    "\n",
    "참조\n",
    "* [NumPy quickstart](https://numpy.org/doc/stable/user/quickstart.html)\n",
    "* [NumPy Cheat Sheet: Data Analysis in Python](https://www.datacamp.com/cheat-sheet/numpy-cheat-sheet-data-analysis-in-python)\n"
   ]
  },
  {
   "cell_type": "code",
   "execution_count": 1,
   "metadata": {},
   "outputs": [
    {
     "name": "stdout",
     "output_type": "stream",
     "text": [
      "numpy ver=1.23.1\n"
     ]
    }
   ],
   "source": [
    "import numpy as np\n",
    "import matplotlib.pyplot as plt\n",
    "\n",
    "print(\"numpy ver={}\".format(np.__version__))"
   ]
  },
  {
   "cell_type": "markdown",
   "metadata": {},
   "source": [
    "## Array\n",
    "\n",
    "### 생성\n",
    "단일 데이터 타입만 허용"
   ]
  },
  {
   "cell_type": "code",
   "execution_count": 27,
   "metadata": {},
   "outputs": [
    {
     "name": "stdout",
     "output_type": "stream",
     "text": [
      "arr=[1.  2.  3.1 4.1]\n",
      "dtype=float64, shape=(4,)\n",
      "\n",
      "arr=[[1 2]\n",
      " [3 4]]\n",
      "dtype=int64, shape=(2, 2)\n",
      "\n",
      "arr=[[[1 2]\n",
      "  [3 4]]\n",
      "\n",
      " [[1 2]\n",
      "  [3 4]]]\n",
      "dtype=int64, shape=(2, 2, 2)\n",
      "\n"
     ]
    }
   ],
   "source": [
    "# 1차원 배열 생성 - int, float 혼용시 float\n",
    "data = [1, 2, 3.1, 4.1]\n",
    "arr = np.array(data)\n",
    "print(f\"arr={arr}\\ndtype={arr.dtype}, shape={arr.shape}\\n\")\n",
    "\n",
    "# Int 형 2차원 배열 생성\n",
    "data = [[1, 2], [3.1, 4.1]]\n",
    "arr = np.array(data, dtype=int)\n",
    "print(f\"arr={arr}\\ndtype={arr.dtype}, shape={arr.shape}\\n\")\n",
    "\n",
    "# Int 형 3차원 배열 생성\n",
    "data = [[[1, 2], [3, 4]], [[1, 2], [3, 4]]]\n",
    "arr = np.array(data, dtype=int)\n",
    "print(f\"arr={arr}\\ndtype={arr.dtype}, shape={arr.shape}\\n\")\n"
   ]
  },
  {
   "cell_type": "code",
   "execution_count": 57,
   "metadata": {},
   "outputs": [
    {
     "name": "stdout",
     "output_type": "stream",
     "text": [
      "arr=[0. 0. 0. 0.]\n",
      "dtype=float64, shape=(4,)\n",
      "\n",
      "arr=[0. 0. 0. 0.]\n",
      "dtype=float64, shape=(4,)\n",
      "\n",
      "arr=[0 1 2 3]\n",
      "dtype=int64, shape=(4,)\n",
      "\n",
      "arr=[1. 4. 7.]\n",
      "dtype=float64, shape=(3,)\n",
      "\n",
      "arr=[[1. 1.]\n",
      " [1. 1.]]\n",
      "dtype=float64, shape=(2, 2)\n",
      "\n",
      "arr=[[1. 1.]\n",
      " [1. 1.]]\n",
      "dtype=float64, shape=(2, 2)\n",
      "\n",
      "arr=[[[4.9e-324 9.9e-324]\n",
      "  [1.5e-323 2.0e-323]]\n",
      "\n",
      " [[4.9e-324 9.9e-324]\n",
      "  [1.5e-323 2.0e-323]]]\n",
      "dtype=float64, shape=(2, 2, 2)\n",
      "\n",
      "arr=[[[4.9e-324 9.9e-324]\n",
      "  [1.5e-323 2.0e-323]]\n",
      "\n",
      " [[4.9e-324 9.9e-324]\n",
      "  [1.5e-323 2.0e-323]]]\n",
      "dtype=float64, shape=(2, 2, 2)\n",
      "\n"
     ]
    }
   ],
   "source": [
    "# 초기화된 array 생성\n",
    "arr = np.zeros(4)\n",
    "print(f\"arr={arr}\\ndtype={arr.dtype}, shape={arr.shape}\\n\")\n",
    "\n",
    "arr = np.zeros_like(arr) # 기존 array 형태를 유지한채 초기화\n",
    "print(f\"arr={arr}\\ndtype={arr.dtype}, shape={arr.shape}\\n\")\n",
    "\n",
    "arr = np.arange(4) # python range 와 유사\n",
    "print(f\"arr={arr}\\ndtype={arr.dtype}, shape={arr.shape}\\n\")\n",
    "\n",
    "arr = np.arange(start=1, stop=10, step=3, dtype=float) # python range 와 유사\n",
    "print(f\"arr={arr}\\ndtype={arr.dtype}, shape={arr.shape}\\n\")\n",
    "\n",
    "arr = np.ones((2, 2))\n",
    "print(f\"arr={arr}\\ndtype={arr.dtype}, shape={arr.shape}\\n\")\n",
    "\n",
    "arr = np.ones_like(arr)\n",
    "print(f\"arr={arr}\\ndtype={arr.dtype}, shape={arr.shape}\\n\")\n",
    "\n",
    "arr = np.empty((2, 2, 2))\n",
    "print(f\"arr={arr}\\ndtype={arr.dtype}, shape={arr.shape}\\n\")\n",
    "\n",
    "arr = np.empty_like(arr)\n",
    "print(f\"arr={arr}\\ndtype={arr.dtype}, shape={arr.shape}\\n\")"
   ]
  },
  {
   "cell_type": "code",
   "execution_count": 29,
   "metadata": {},
   "outputs": [
    {
     "name": "stdout",
     "output_type": "stream",
     "text": [
      "arr=[4.9e-324 9.9e-324 1.5e-323 2.0e-323 4.9e-324 9.9e-324 1.5e-323 2.0e-323]\n",
      "dtype=float64, shape=(8,)\n",
      "\n",
      "arr=[[4.9e-324 9.9e-324 1.5e-323 2.0e-323]\n",
      " [4.9e-324 9.9e-324 1.5e-323 2.0e-323]]\n",
      "dtype=float64, shape=(2, 4)\n",
      "\n",
      "arr1 == arr?: True\n"
     ]
    }
   ],
   "source": [
    "# reshape: array의 형태를 변경\n",
    "arr = arr.reshape(arr.size)\n",
    "print(f\"arr={arr}\\ndtype={arr.dtype}, shape={arr.shape}\\n\")\n",
    "\n",
    "arr = arr.reshape((2, -1)) # -1 값을 넣으면 자동으로 계산\n",
    "print(f\"arr={arr}\\ndtype={arr.dtype}, shape={arr.shape}\\n\")\n",
    "\n",
    "# asarray: array 를 복사하지 않고 생성\n",
    "arr1 = np.asarray(arr)\n",
    "print(f\"arr1 == arr?: {arr1 is arr}\")"
   ]
  },
  {
   "cell_type": "markdown",
   "metadata": {},
   "source": [
    "### 인덱싱 및 슬라이싱"
   ]
  },
  {
   "cell_type": "code",
   "execution_count": 55,
   "metadata": {},
   "outputs": [
    {
     "name": "stdout",
     "output_type": "stream",
     "text": [
      "arr=[0 1 2 3 4]\n",
      "dtype=int64, shape=(5,)\n",
      "arr[0]=0, arr[-1]=4\n",
      "arr[:3]=[0 1 2], arr[7:]=[3 4]\n",
      "arr[[1, 3]]=[1 3]\n",
      "arr[[False, True, True, True, True]]=[1 2 3 4]\n",
      "\n",
      "arr=[[ 0  1  2  3  4]\n",
      " [ 5  6  7  8  9]\n",
      " [10 11 12 13 14]]\n",
      "dtype=int64, shape=(3, 5)\n",
      "arr[0, 1]=1, arr[1, -1]=9\n",
      "arr[0, :3]=[0 1 2], arr[-1, :]=[10 11 12 13 14]\n",
      "arr[:, :]=[[ 0  1  2  3  4]\n",
      " [ 5  6  7  8  9]\n",
      " [10 11 12 13 14]]\n",
      "arr[[1, 1], [1, -1]]=[6 9]\n",
      "arr > 2=[[False False False  True  True]\n",
      " [ True  True  True  True  True]\n",
      " [ True  True  True  True  True]], arr[arr > 2]]=[ 3  4  5  6  7  8  9 10 11 12 13 14]\n"
     ]
    }
   ],
   "source": [
    "# 1차원 array \n",
    "arr = np.arange(5) # python range 와 유사\n",
    "print(f\"arr={arr}\\ndtype={arr.dtype}, shape={arr.shape}\")\n",
    "print(f\"arr[0]={arr[0]}, arr[-1]={arr[-1]}\")\n",
    "print(f\"arr[:3]={arr[:3]}, arr[7:]={arr[3:]}\") # 범위 인덱싱\n",
    "print(f\"arr[[1, 3]]={arr[[1, 3]]}\") # Fancy 인덱싱: 특정 인덱스의 집합의 값을 선택하여 추출\n",
    "print(f\"arr[[False, True, True, True, True]]={arr[[False, True, True, True, True]]}\") # Boolean 인덱싱: 조건 값이 True 인 값들만 선택하여 추출\n",
    "print()\n",
    "\n",
    "# 2차원 array: arr2d[행, 열]\n",
    "arr = np.arange(15).reshape((3, -1)) # python range 와 유사\n",
    "print(f\"arr={arr}\\ndtype={arr.dtype}, shape={arr.shape}\")\n",
    "print(f\"arr[0, 1]={arr[0, 1]}, arr[1, -1]={arr[1, -1]}\")\n",
    "print(f\"arr[0, :3]={arr[0, :3]}, arr[-1, :]={arr[-1, :]}\") # 범위\n",
    "print(f\"arr[:, :]={arr[:, :]}\") # 범위\n",
    "print(f\"arr[[1, 1], [1, -1]]={arr[[1, 1], [1, -1]]}\") # Fancy 인덱싱: 특정 인덱스의 집합의 값을 선택하여 추출\n",
    "print(f\"arr > 2={arr > 2}, arr[arr > 2]]={arr[arr > 2]}\") # Boolean 인덱싱: 조건 값이 True 인 값들만 선택하여 추출\n"
   ]
  },
  {
   "cell_type": "markdown",
   "metadata": {},
   "source": [
    "### 정렬"
   ]
  },
  {
   "cell_type": "code",
   "execution_count": 63,
   "metadata": {},
   "outputs": [
    {
     "name": "stdout",
     "output_type": "stream",
     "text": [
      "arr=[0 1 2 3 4 5 6 7 8 9]\n",
      "dtype=int64, shape=(10,)\n",
      "arr=[9 8 7 6 5 4 3 2 1 0]\n",
      "dtype=int64, shape=(10,)\n",
      "\n",
      "arr=[[ 0  1  2  3  4]\n",
      " [ 5  6  7  8  9]\n",
      " [10 11 12 13 14]]\n",
      "dtype=int64, shape=(3, 5)\n",
      "arr=[[ 0  1  2  3  4]\n",
      " [ 5  6  7  8  9]\n",
      " [10 11 12 13 14]]\n",
      "dtype=int64, shape=(3, 5)\n",
      "arr=[[10 11 12 13 14]\n",
      " [ 5  6  7  8  9]\n",
      " [ 0  1  2  3  4]]\n",
      "dtype=int64, shape=(3, 5)\n"
     ]
    }
   ],
   "source": [
    "# 1차원\n",
    "arr = np.arange(10)\n",
    "arr = np.sort(arr) # 오름차순\n",
    "print(f\"arr={arr}\\ndtype={arr.dtype}, shape={arr.shape}\")\n",
    "arr = np.sort(arr)[::-1] # 내림차순\n",
    "print(f\"arr={arr}\\ndtype={arr.dtype}, shape={arr.shape}\")\n",
    "print()\n",
    "\n",
    "# N차원\n",
    "# Int 형 3차원 배열 생성\n",
    "arr = np.arange(15).reshape((3, -1))\n",
    "print(f\"arr={arr}\\ndtype={arr.dtype}, shape={arr.shape}\")\n",
    "arr = np.sort(arr, axis=0) # 오름차순: Column 기준\n",
    "print(f\"arr={arr}\\ndtype={arr.dtype}, shape={arr.shape}\")\n",
    "arr = np.sort(arr, axis=1)[::-1] # 내림차순: Row 기준 \n",
    "print(f\"arr={arr}\\ndtype={arr.dtype}, shape={arr.shape}\")\n",
    "\n"
   ]
  },
  {
   "cell_type": "code",
   "execution_count": 64,
   "metadata": {},
   "outputs": [
    {
     "name": "stdout",
     "output_type": "stream",
     "text": [
      "arr=[[ 0  1  2  3  4]\n",
      " [ 5  6  7  8  9]\n",
      " [10 11 12 13 14]]\n",
      "dtype=int64, shape=(3, 5)\n",
      "arr=[[0 0 0 0 0]\n",
      " [1 1 1 1 1]\n",
      " [2 2 2 2 2]]\n",
      "dtype=int64, shape=(3, 5)\n",
      "arr=[[0 1 2 3 4]\n",
      " [0 1 2 3 4]\n",
      " [0 1 2 3 4]]\n",
      "dtype=int64, shape=(3, 5)\n"
     ]
    }
   ],
   "source": [
    "# N차원: 정렬 인덱스 출력\n",
    "# Int 형 3차원 배열 생성\n",
    "arr = np.arange(15).reshape((3, -1))\n",
    "print(f\"arr={arr}\\ndtype={arr.dtype}, shape={arr.shape}\")\n",
    "arr = np.argsort(arr, axis=0) # 오름차순: Column 기준\n",
    "print(f\"arr={arr}\\ndtype={arr.dtype}, shape={arr.shape}\")\n",
    "arr = np.argsort(arr, axis=1)[::-1] # 내림차순: Row 기준 \n",
    "print(f\"arr={arr}\\ndtype={arr.dtype}, shape={arr.shape}\")\n"
   ]
  },
  {
   "cell_type": "markdown",
   "metadata": {},
   "source": [
    "### 행렬 연산"
   ]
  },
  {
   "cell_type": "code",
   "execution_count": 79,
   "metadata": {},
   "outputs": [
    {
     "name": "stdout",
     "output_type": "stream",
     "text": [
      "a=[[0 1 2 3 4]\n",
      " [5 6 7 8 9]]\n",
      "b=[[0 1 2 3 4]\n",
      " [5 6 7 8 9]]\n",
      "a+b=[[ 0  2  4  6  8]\n",
      " [10 12 14 16 18]]\n",
      "a-b=[[0 0 0 0 0]\n",
      " [0 0 0 0 0]]\n",
      "column sum=[ 5  7  9 11 13]\n",
      "row sum=[10 35]\n"
     ]
    }
   ],
   "source": [
    "# 행렬 덧셈, 뺄셈\n",
    "a = np.arange(10).reshape((2, -1))\n",
    "b = np.arange(10).reshape((2, -1))\n",
    "print(f\"a={a}\\nb={b}\")\n",
    "print(f\"a+b={a+b}\")\n",
    "print(f\"a-b={a-b}\")\n",
    "print(f\"column sum={np.sum(a, axis=0)}\")\n",
    "print(f\"row sum={np.sum(a, axis=1)}\")"
   ]
  },
  {
   "cell_type": "code",
   "execution_count": 80,
   "metadata": {},
   "outputs": [
    {
     "name": "stdout",
     "output_type": "stream",
     "text": [
      "a=[[ 1  2  3  4  5]\n",
      " [ 6  7  8  9 10]]\n",
      "b=[[ 1  2  3  4  5]\n",
      " [ 6  7  8  9 10]]\n",
      "a*b=[[  1   4   9  16  25]\n",
      " [ 36  49  64  81 100]]\n",
      "a/b=[[1. 1. 1. 1. 1.]\n",
      " [1. 1. 1. 1. 1.]]\n"
     ]
    }
   ],
   "source": [
    "# 행렬 곱셈, 나눗셈\n",
    "a = np.arange(1, 11).reshape((2, -1))\n",
    "b = np.arange(1, 11).reshape((2, -1))\n",
    "print(f\"a={a}\\nb={b}\")\n",
    "print(f\"a*b={a*b}\")\n",
    "print(f\"a/b={a/b}\")"
   ]
  },
  {
   "cell_type": "code",
   "execution_count": 81,
   "metadata": {},
   "outputs": [
    {
     "name": "stdout",
     "output_type": "stream",
     "text": [
      "a=[[ 1  2  3  4  5]\n",
      " [ 6  7  8  9 10]]\n",
      "b=[[ 1  2]\n",
      " [ 3  4]\n",
      " [ 5  6]\n",
      " [ 7  8]\n",
      " [ 9 10]]\n",
      "a.b=[[ 95 110]\n",
      " [220 260]]\n"
     ]
    }
   ],
   "source": [
    "# 행렬 내적\n",
    "a = np.arange(1, 11).reshape((2, -1))\n",
    "b = np.arange(1, 11).reshape((-1, 2))\n",
    "print(f\"a={a}\\nb={b}\")\n",
    "print(f\"a.b={np.dot(a, b)}\")"
   ]
  },
  {
   "cell_type": "code",
   "execution_count": 84,
   "metadata": {},
   "outputs": [
    {
     "name": "stdout",
     "output_type": "stream",
     "text": [
      "a+3=[[ 3  4  5]\n",
      " [ 6  7  8]\n",
      " [ 9 10 11]]\n",
      "a-3=[[-3 -2 -1]\n",
      " [ 0  1  2]\n",
      " [ 3  4  5]]\n",
      "a*3=[[ 0  3  6]\n",
      " [ 9 12 15]\n",
      " [18 21 24]]\n",
      "a/3=[[0.         0.33333333 0.66666667]\n",
      " [1.         1.33333333 1.66666667]\n",
      " [2.         2.33333333 2.66666667]]\n",
      "\n",
      "a+b=[[1 2 3]\n",
      " [4 5 6]\n",
      " [7 8 9]]\n",
      "a+b=[[1 2 3]\n",
      " [4 5 6]\n",
      " [7 8 9]]\n",
      "a+b=[[1. 1. 1.]\n",
      " [2. 2. 2.]\n",
      " [3. 3. 3.]]\n"
     ]
    }
   ],
   "source": [
    "# Broadcasting: 행렬 연산시 Shape 이 다른 행렬도 조건이 맞을 경우 연산 가능\n",
    "# https://numpy.org/doc/stable/user/basics.broadcasting.html\n",
    "a = np.arange(9).reshape((3, -1))\n",
    "\n",
    "# 행렬 + 상수\n",
    "print(f\"a+3={a+3}\")\n",
    "print(f\"a-3={a-3}\")\n",
    "print(f\"a*3={a*3}\")\n",
    "print(f\"a/3={a/3}\")\n",
    "print()\n",
    "\n",
    "# 행렬 + 행렬: 맴버가 하나인 배열, ex) 3x3 + 1 = 3x3\n",
    "b = [1]\n",
    "print(f\"a+b={a+b}\")\n",
    "\n",
    "# 행렬 + 행렬: 하나의 배열의 차원이 1인 경우, ex) 3x3 + 1x3 = 3x3\n",
    "b = [1, 1, 1]\n",
    "print(f\"a+b={a+b}\")\n",
    "\n",
    "# 행렬 + 행렬: 차원의 짝이 맞을 때, ex) 3x1 + 1x3 = 3x3\n",
    "a = np.arange(3).reshape((3, -1))\n",
    "b = np.ones((1, 3))\n",
    "print(f\"a+b={a+b}\")\n"
   ]
  },
  {
   "cell_type": "code",
   "execution_count": null,
   "metadata": {},
   "outputs": [],
   "source": []
  }
 ],
 "metadata": {
  "kernelspec": {
   "display_name": "Python 3.8.9 64-bit ('skp-n4e-jupyter-sts')",
   "language": "python",
   "name": "python3"
  },
  "language_info": {
   "codemirror_mode": {
    "name": "ipython",
    "version": 3
   },
   "file_extension": ".py",
   "mimetype": "text/x-python",
   "name": "python",
   "nbconvert_exporter": "python",
   "pygments_lexer": "ipython3",
   "version": "3.8.9"
  },
  "nikola": {
   "category": "",
   "date": "2019-03-01",
   "description": "",
   "link": "",
   "slug": "de-pandas-10mins",
   "tags": "",
   "title": "Data Engineering - Pandas 10분만에 훑어보기",
   "type": "text"
  },
  "notebookId": 2469278771832403,
  "toc": {
   "base_numbering": 1,
   "nav_menu": {},
   "number_sections": true,
   "sideBar": true,
   "skip_h1_title": false,
   "title_cell": "Table of Contents",
   "title_sidebar": "Contents",
   "toc_cell": false,
   "toc_position": {},
   "toc_section_display": true,
   "toc_window_display": false
  },
  "vscode": {
   "interpreter": {
    "hash": "074780be484a97690bb59ec71f684629e06fa9a846f324f8f10540b41bb15945"
   }
  }
 },
 "nbformat": 4,
 "nbformat_minor": 4
}
