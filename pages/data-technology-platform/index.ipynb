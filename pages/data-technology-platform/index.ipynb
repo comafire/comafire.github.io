{
 "cells": [
  {
   "cell_type": "markdown",
   "metadata": {},
   "source": [
    "# Data Technology Platform\n",
    "\n",
    "Data Technology 를 위한 Cloud 및 On Premise 형태의 개발환경 및 Platform 기술들을 소개합니다.\n",
    "\n",
    "DT를 수행하기 위해서는 다양한 많은 기능들을 하는 많은 IT 도구 들에 대해서 학습 및 설치를 해야 합니다. 처음부터 플랫폼을 직접 설치 할 경우 많은 시간이 소비될수 있기 때문에 처음에는 Cloud 에서 시작하시는 것을 권장합니다. 간단히 학습하기에는 충분한 공짜 인스턴스를 제공하는 Cloud 플랫폼이 많이 있습니다.\n",
    "\n",
    "하지만, 좀더 고급 분석 및 많은 리소스를 사용해야 한다면 사용량 단위로 과금하는 Cloud 플랫폼은 아무래도 금액적으로 부담이 될 수 밖에 없습니다. Cloud 플랫폼 및 명령들에 많이 익숙해지셨다면, On Premise 환경을 구축하여 사용하는 것을 고려해 볼만 합니다.\n",
    "\n",
    "## Architecture\n",
    "\n",
    "* [Data Lake](https://comafire.github.io/pages/platform-data-lake)\n",
    "\n",
    "## Cloud\n",
    "\n",
    "* [Microsoft Azure Cloud Platfom](https://comafire.github.io/pages/platform-azure-cloud)\n",
    "* [Google Cloud Platform](https://comafire.github.io/pages/platform-google-cloud-platform)\n",
    "* [Amazon Web Service](https://comafire.github.io/pages/platform-amazon-web-service)\n",
    "\n",
    "## On Premise\n",
    "\n",
    "* Docker based Cluster\n",
    "  * [St.Kilda Pier(Docker Cluster based Data Science Platform for Big Data)](https://comafire.github.io/pages/platform-st-kilda-pier)\n",
    "\n",
    "* Docker based Single\n",
    "  * [Docker Jupyter(Docker based Data Science Jupyter Notebook)](https://github.com/comafire/docker-jupyter)\n",
    "  * [Jupyter Docker Stacks](https://jupyter-docker-stacks.readthedocs.io/en/latest/index.html)\n"
   ]
  },
  {
   "cell_type": "code",
   "execution_count": null,
   "metadata": {},
   "outputs": [],
   "source": []
  }
 ],
 "metadata": {
  "kernelspec": {
   "display_name": "Python 3",
   "language": "python",
   "name": "python3"
  },
  "language_info": {
   "codemirror_mode": {
    "name": "ipython",
    "version": 3
   },
   "file_extension": ".py",
   "mimetype": "text/x-python",
   "name": "python",
   "nbconvert_exporter": "python",
   "pygments_lexer": "ipython3",
   "version": "3.5.2"
  },
  "nikola": {
   "category": "",
   "date": "2018-07-01",
   "description": "",
   "link": "",
   "slug": "data-technology-platform",
   "tags": "",
   "title": "Data Technology Platform",
   "type": "text"
  },
  "toc": {
   "base_numbering": 1,
   "nav_menu": {},
   "number_sections": true,
   "sideBar": true,
   "skip_h1_title": false,
   "title_cell": "Table of Contents",
   "title_sidebar": "Contents",
   "toc_cell": false,
   "toc_position": {},
   "toc_section_display": true,
   "toc_window_display": false
  }
 },
 "nbformat": 4,
 "nbformat_minor": 2
}
