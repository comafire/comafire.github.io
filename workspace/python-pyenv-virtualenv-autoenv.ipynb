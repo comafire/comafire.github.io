{
 "cells": [
  {
   "cell_type": "code",
   "execution_count": null,
   "metadata": {
    "collapsed": true
   },
   "outputs": [],
   "source": []
  },
  {
   "cell_type": "markdown",
   "metadata": {},
   "source": [
    "* pyenv: 로컬에 멀티 버전의 파이썬을 설치/사용, 파이썬 버전에 대한 의존성을 해결\n",
    "* virtualenv: 로컬에 멀티 파이썬 환경을 설치/사용, 프로젝트별 패키지에 대한 의존성을 해결\n",
    "* autoenv: 프로젝트 디렉토리에 들어갈때 마다 자동 환경 셋팅, .bash_profile 과 비슷한 역활\n",
    "\n",
    "설치 및 기본 설정\n",
    "```bash\n",
    "brew update\n",
    "brew install pyenv\n",
    "brew install pyenv-virtualenv\n",
    "brew install autoenv\n",
    "echo 'eval \"$(pyenv init -)\"' >> ~/.bash_profile \n",
    "echo 'eval \"$(pyenv virtualenv-init -)\"' >> ~/.bash_profile\n",
    "echo 'source /usr/local/opt/autoenv/activate.sh' >> ~/.bash_profile\n",
    "```\n",
    "\n",
    "pyenv를 이용해 파이썬 버전별 설치하기\n",
    "\n",
    "```bash\n",
    "pyenv install 2.7.13\n",
    "pyenv install 3.6.0\n",
    "pyenv versions\n",
    "* system (set by /Users/daehongseo/.pyenv/version)\n",
    "  2.7.13\n",
    "  3.6.0\n",
    "```\n",
    "\n",
    "pyenv-virtualenv를 이용해 특정 버전의 파이썬 가상환경 만들기\n",
    "\n",
    "```bash\n",
    "pyenv virtualenv 2.7.13 pyenv-2.7.13\n",
    "pyenv virtualenv 3.6.0 pyenv-3.6.0\n",
    "pyenv virtualenvs\n",
    "  ...\n",
    "  pyenv-2.7.13 (created from /Users/comafire/.pyenv/versions/2.7.13)\n",
    "  pyenv-3.6.0 (created from /Users/comafire/.pyenv/versions/3.6.0)\n",
    "```\n",
    "\n",
    "autoenv를 이용해 프로젝트 폴더에 들어갈때 자동으로 특정 버전의 파이썬 가상환경 활성화 하기\n",
    "\n",
    "프로젝트 폴더에 들어가서 .env 파일에 아래 내용을 적어주면, 프로젝트 폴더에 들어갈때 자동으로 해당 가상환경을 활성화 시켜주게 됩니다.\n",
    "\n",
    "```bash\n",
    "pyenv activate pyenv-3.6.0\n",
    "```\n",
    "\n",
    "해당 작업환경에서 나오기\n",
    "\n",
    "```bash\n",
    "pyenv deactivate\n",
    "```"
   ]
  },
  {
   "cell_type": "code",
   "execution_count": null,
   "metadata": {
    "collapsed": true
   },
   "outputs": [],
   "source": []
  },
  {
   "cell_type": "markdown",
   "metadata": {},
   "source": [
    "jupyter 노트북으로 블로깅을 위해서 nikola 를 사용해 봅니다.\n",
    "\n",
    "```bash\n",
    "> pip install nikola requests markdown webassets\n",
    "```\n",
    "\n"
   ]
  },
  {
   "cell_type": "code",
   "execution_count": null,
   "metadata": {
    "collapsed": true
   },
   "outputs": [],
   "source": []
  }
 ],
 "metadata": {
  "kernelspec": {
   "display_name": "Python 2",
   "language": "python",
   "name": "python2"
  },
  "language_info": {
   "codemirror_mode": {
    "name": "ipython",
    "version": 2
   },
   "file_extension": ".py",
   "mimetype": "text/x-python",
   "name": "python",
   "nbconvert_exporter": "python",
   "pygments_lexer": "ipython2",
   "version": "2.7.12"
  }
 },
 "nbformat": 4,
 "nbformat_minor": 1
}
