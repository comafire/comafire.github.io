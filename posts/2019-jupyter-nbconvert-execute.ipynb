{
 "cells": [
  {
   "cell_type": "markdown",
   "metadata": {},
   "source": [
    "# Jupyter 에서 Notebook 을 Shell 상에서 수행하기\n",
    "\n",
    "Jupyter를 서버에 설치해 놓고 사용하다보면 트레이닝 중 일때 갑자기 자리를 옮겨야 할 때가 생기면 중간에 멈추고 다시 트레이닝 해야 할때가 종종 있습니다. 이럴때는 Jupyter의 Terminal 상에서 바로 nbconvert를 통해서 Notebook을 끊김 없이 수행할 수 있습니다.\n",
    "\n",
    "<!-- TEASER_END -->"
   ]
  },
  {
   "cell_type": "markdown",
   "metadata": {},
   "source": [
    "테스트를 위해서 1초마다 i 값을 파일에 추가하는 Notebook 파일을 만듭니다."
   ]
  },
  {
   "cell_type": "code",
   "execution_count": 1,
   "metadata": {},
   "outputs": [
    {
     "name": "stdout",
     "output_type": "stream",
     "text": [
      "0\n",
      "1\n",
      "2\n",
      "3\n",
      "4\n",
      "5\n",
      "6\n",
      "7\n",
      "8\n",
      "9\n"
     ]
    }
   ],
   "source": [
    "import time\n",
    "\n",
    "i = 0\n",
    "for i in range(10):\n",
    "    time.sleep(1)\n",
    "    with open(\"test.log\", \"a\") as f:\n",
    "        f.write(\"{}\\n\".format(i))\n",
    "    print(i)\n",
    "    i += 1"
   ]
  },
  {
   "cell_type": "markdown",
   "metadata": {},
   "source": [
    "Jupyter Nbconvert 는 노트북 셀의 응답이 기본 30초가 넘어가면 에러를 일으킵니다. 이것을 방지하기 위해서 nbconvert의 설정 파일에 timeout 값을 아래와 같이 -1 로 설정하여 무제한으로 늘립니다. (파일이 없다면 아래 내용으로 만들어 주면 됩니다, https://nbconvert.readthedocs.io/en/latest/config_options.html)\n",
    "\n",
    "```\n",
    "> cat /root/.jupyter/jupyter_nbconvert_config.py\n",
    "\n",
    "# Configuration file for jupyter nbconvert.\n",
    "import os\n",
    "from IPython.lib import passwd\n",
    "\n",
    "c = get_config()\n",
    "c.ExecutePreprocessor.timeout = -1\n",
    "print(c)\n",
    "```\n",
    "\n",
    "이제 Notebook 파일을 Jupyter Terminal 을 열고 아래 명령으로 수행하면 됩니다. \n",
    "\n",
    "서버의 Docker 위에 Jupyter 가 올라가 있기 때문에 Terminal 창을 닫더라도 서버 또는 Docker 데몬전체가 죽지 않는 이상 다시 같은 Terminal 창에 접속하면 이전 화면을 이어서 다시 보실수 있습니다.\n",
    "\n",
    "```bash\n",
    "-rw-r--r-- 1 test.ipynb\n",
    "\n",
    "> jupyter nbconvert --to notebook --execute test.ipynb\n",
    "```\n",
    "\n",
    "* --to notebook: 수행후 결과를 Notebook 파일 형태로 저장\n",
    "* --execute test.ipynb: 수행하고자 하는 Notebook 파일\n",
    "\n",
    "이제 Terminal 을 닫고 10초 정도 지난 뒤에 파일이 제대로 생성되었는지 확인해 보겠습니다.\n",
    "\n",
    "```bash\n",
    "-rw-r--r-- 1 test.ipynb\n",
    "-rw-r--r-- 1 test.log\n",
    "-rw-r--r-- 1 test.nbconvert.ipynb\n",
    "> cat test.log\n",
    "1\n",
    "2\n",
    "3\n",
    "4\n",
    "5\n",
    "6\n",
    "7\n",
    "8\n",
    "9\n",
    "```\n",
    "\n",
    "test.log 파일을 보면 노트북 파일이 제대로 수행되었음을 알 수 있습니다. 그리고 test.nbconvert.ipynb 파일을 Jupyter 상에서 열어보면 test.ipynb 파일의 결과 셀이 포함되어 있는 것을 확인하실 수 있습니다."
   ]
  }
 ],
 "metadata": {
  "kernelspec": {
   "display_name": "Python 3",
   "language": "python",
   "name": "python3"
  },
  "language_info": {
   "codemirror_mode": {
    "name": "ipython",
    "version": 3
   },
   "file_extension": ".py",
   "mimetype": "text/x-python",
   "name": "python",
   "nbconvert_exporter": "python",
   "pygments_lexer": "ipython3",
   "version": "3.5.2"
  },
  "nikola": {
   "category": "",
   "date": "2019-03-16",
   "description": "",
   "link": "",
   "slug": "2019-jupyter-nbconvert-execute",
   "tags": "",
   "title": "Jupyter Notebook을 Shell 에서 수행하기",
   "type": "text"
  },
  "toc": {
   "base_numbering": 1,
   "nav_menu": {},
   "number_sections": true,
   "sideBar": true,
   "skip_h1_title": false,
   "title_cell": "Table of Contents",
   "title_sidebar": "Contents",
   "toc_cell": false,
   "toc_position": {},
   "toc_section_display": true,
   "toc_window_display": false
  }
 },
 "nbformat": 4,
 "nbformat_minor": 2
}
