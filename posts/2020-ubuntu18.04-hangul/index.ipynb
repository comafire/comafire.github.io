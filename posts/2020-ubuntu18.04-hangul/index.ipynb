{
 "cells": [
  {
   "cell_type": "markdown",
   "metadata": {},
   "source": [
    "# Ubuntu 18.04 한글 입력 설정\n",
    "\n",
    "Ubuntu 18.04 Gnome 에서 한글 입력기 설정입니다.\n",
    "\n",
    "<!-- TEASER_END -->\n",
    "\n",
    "* Setting --> Region & Language --> Language Settings --> Manage Installed Language 선택하여 Korean 언어팩 설치\n",
    "* Reboot \n",
    "* Setting --> Region & Language --> Language Settings --> Input Sources 에서 + 버튼으로 Korean (Hangul) 추가 / English 는 제거 (남겨두면 Desktop 메뉴바에서 En / Ko 2개의 입력기가 생겨 항상 Ko 가 선택 되었는지 확인해야 해서 불편)\n",
    "* 좌상단 iBusHangulSetup 에서 Keyboard Shortcut 지정 가능\n"
   ]
  }
 ],
 "metadata": {
  "kernelspec": {
   "display_name": "Python 3",
   "language": "python",
   "name": "python3"
  },
  "language_info": {
   "codemirror_mode": {
    "name": "ipython",
    "version": 3
   },
   "file_extension": ".py",
   "mimetype": "text/x-python",
   "name": "python",
   "nbconvert_exporter": "python",
   "pygments_lexer": "ipython3",
   "version": "3.7.6"
  },
  "nikola": {
   "category": "",
   "date": "2020-09-05",
   "description": "",
   "link": "",
   "slug": "2020-ubuntu18.04-hangul",
   "tags": "",
   "title": "Ubuntu 18.04 한글 입력 설정",
   "type": "text"
  },
  "toc": {
   "base_numbering": 1,
   "nav_menu": {},
   "number_sections": true,
   "sideBar": true,
   "skip_h1_title": false,
   "title_cell": "Table of Contents",
   "title_sidebar": "Contents",
   "toc_cell": false,
   "toc_position": {},
   "toc_section_display": true,
   "toc_window_display": false
  }
 },
 "nbformat": 4,
 "nbformat_minor": 4
}
