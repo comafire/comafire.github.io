{
 "cells": [
  {
   "cell_type": "markdown",
   "metadata": {},
   "source": [
    "# DNN Classification\n",
    "\n",
    "Deep Neural Network\n",
    "\n",
    "DNN 은 Logistic Regression 모델을 깊게 쌓아서, 선형/비선형 데이터셋 및 분류/회귀 문제 모두에 사용할수 있습니다. 하지만, DNN은 최적화를 위한 학습시간이 오래 걸리기때문에 정말 고차원 모델이 필요하고 데이터의 양이 많은 경우를 제외하고는 다른 전통적인 알고리즘 시도 후, 시도 하는 것을 추천합니다.\n",
    "\n",
    "Hidden Layer내의 노드 갯수와 Hidden Layer 의 층수 사이의 표현력 관계는 아래 그림에서 볼수 있습니다. \n",
    "\n",
    "Hidden Layer내의 노드 갯수가 많아지면 저차원의 다양한 결정 경계를 그릴 수 있습니다.\n",
    "\n",
    "![Hidden Unit Effect](https://cdn-images-1.medium.com/max/1600/1*RT-R9WeLjR_mn1irANbWfA.png)\n",
    "\n",
    "![Hidden Unit Effect](https://cdn-images-1.medium.com/max/1600/1*vtWZRVA0vIm6XR-LLoz0aQ.png)\n",
    "\n",
    "Hidden Layer의 층 수가 깊어지면 저차원으로는 표현할 수 없는 저차원을 조합한 고차원의 다양한 결정 경계를 그릴 수 있게 됩니다. \n",
    "\n",
    "![Hidden Layer Effect](https://cdn-images-1.medium.com/max/1600/1*mqTfsRjBrdjY2FsEuqqpaA.png)\n",
    "\n",
    "![Hidden Layer Effect](https://cdn-images-1.medium.com/max/1600/1*eAw564GuxOlRMySM93dw7A.png)\n"
   ]
  },
  {
   "cell_type": "code",
   "execution_count": 1,
   "metadata": {},
   "outputs": [
    {
     "name": "stderr",
     "output_type": "stream",
     "text": [
      "Using TensorFlow backend.\n"
     ]
    },
    {
     "name": "stdout",
     "output_type": "stream",
     "text": [
      "data shape: np_data_xs=(10000, 10), np_data_ys=(10000,)\n",
      "train shape: np_train_xs=(7000, 10), np_train_ys=(7000,)\n",
      "test shape: np_test_xs=(3000, 10), np_test_ys=(3000,)\n",
      "\n",
      "model\n",
      "Model: \"dnnclassifier_1\"\n",
      "_________________________________________________________________\n",
      "Layer (type)                 Output Shape              Param #   \n",
      "=================================================================\n",
      "dense_1 (Dense)              (None, 10)                110       \n",
      "_________________________________________________________________\n",
      "dense_2 (Dense)              (None, 16)                176       \n",
      "_________________________________________________________________\n",
      "dense_3 (Dense)              (None, 16)                272       \n",
      "_________________________________________________________________\n",
      "dense_4 (Dense)              (None, 3)                 51        \n",
      "=================================================================\n",
      "Total params: 609\n",
      "Trainable params: 609\n",
      "Non-trainable params: 0\n",
      "_________________________________________________________________\n"
     ]
    },
    {
     "data": {
      "image/png": "[encoded data removed]",
      "text/plain": [
       "<Figure size 432x288 with 1 Axes>"
      ]
     },
     "metadata": {
      "needs_background": "light"
     },
     "output_type": "display_data"
    },
    {
     "name": "stdout",
     "output_type": "stream",
     "text": [
      "acc=0.93433\n",
      "classification_report\n",
      "               precision    recall  f1-score   support\n",
      "\n",
      "           0       0.92      0.91      0.92      1021\n",
      "           1       0.94      0.92      0.93      1011\n",
      "           2       0.94      0.98      0.96       968\n",
      "\n",
      "    accuracy                           0.93      3000\n",
      "   macro avg       0.93      0.94      0.93      3000\n",
      "weighted avg       0.93      0.93      0.93      3000\n",
      "\n"
     ]
    }
   ],
   "source": [
    "%matplotlib inline\n",
    "import matplotlib.pyplot as plt\n",
    "import warnings\n",
    "warnings.filterwarnings(\"ignore\")\n",
    "\n",
    "import numpy as np\n",
    "from sklearn import datasets, preprocessing, model_selection, metrics\n",
    "from keras import models, layers, optimizers, utils\n",
    "\n",
    "# 데이터\n",
    "np.random.seed(0)\n",
    "n_samples = 10000\n",
    "n_features = 10\n",
    "n_class = 3\n",
    "np_data_xs, np_data_ys = datasets.make_classification(\n",
    "    n_samples=n_samples, # 데이터 수\n",
    "    n_features=n_features, # X feature 수\n",
    "    n_informative=n_class,\n",
    "    n_classes=3, # Y class 수\n",
    "    random_state=0) # 난수 발생용 Seed 값\n",
    "print(\"data shape: np_data_xs={}, np_data_ys={}\".format(np_data_xs.shape, np_data_ys.shape))\n",
    "np_train_xs, np_test_xs, np_train_ys, np_test_ys = model_selection.train_test_split(\n",
    "    np_data_xs, np_data_ys, \n",
    "    test_size=0.3, shuffle=True, random_state=2)\n",
    "print(\"train shape: np_train_xs={}, np_train_ys={}\".format(np_train_xs.shape, np_train_ys.shape))\n",
    "print(\"test shape: np_test_xs={}, np_test_ys={}\".format(np_test_xs.shape, np_test_ys.shape))\n",
    "\n",
    "# 전처리\n",
    "scaler_xs = preprocessing.StandardScaler()\n",
    "np_train_scale_xs = scaler_xs.fit_transform(np_train_xs)\n",
    "np_test_scale_xs = scaler_xs.transform(np_test_xs)\n",
    "\n",
    "np_train_onehot_ys = utils.np_utils.to_categorical(np_train_ys, n_class)\n",
    "np_test_onehot_ys = utils.np_utils.to_categorical(np_test_ys, n_class)\n",
    "\n",
    "# 모델\n",
    "class DnnClassifier(models.Sequential):\n",
    "    def __init__(self, n_i, n_hs, n_o):\n",
    "        super().__init__()\n",
    "        self.add(layers.Dense(n_i, activation='relu', input_shape=(n_i,)))\n",
    "        for l, n_h in enumerate(n_hs):\n",
    "            self.add(layers.Dense(n_h, activation='relu'))\n",
    "        self.add(layers.Dense(n_o, activation = 'softmax'))\n",
    "        sgd = optimizers.SGD(lr=0.01, decay=1e-6, momentum=0.9, nesterov=True)\n",
    "        self.compile(optimizer=sgd, loss='categorical_crossentropy', metrics=['accuracy'])\n",
    "\n",
    "models = [\n",
    "    DnnClassifier(n_i = n_features, n_hs = [16, 16], n_o = n_class)\n",
    "]\n",
    "\n",
    "for model in models:\n",
    "    # 학습\n",
    "    print(\"\\nmodel\")\n",
    "    model.summary()\n",
    "    history = model.fit(np_train_scale_xs, np_train_onehot_ys, epochs=100, batch_size=10, verbose=0)\n",
    "    plt.plot(history.history['loss'], label='loss')\n",
    "    plt.plot(history.history['accuracy'], label='accuracy')    \n",
    "    plt.legend()\n",
    "    plt.show()    \n",
    "\n",
    "    # 평가\n",
    "    np_pred_ys = model.predict_classes(np_test_scale_xs)\n",
    "\n",
    "    acc = metrics.accuracy_score(np_test_ys, np_pred_ys)\n",
    "    print(\"acc={:.5f}\".format(acc))\n",
    "\n",
    "    cr = metrics.classification_report(np_test_ys, np_pred_ys)\n",
    "    print(\"classification_report\\n\", cr)"
   ]
  },
  {
   "cell_type": "code",
   "execution_count": null,
   "metadata": {},
   "outputs": [],
   "source": []
  }
 ],
 "metadata": {
  "kernelspec": {
   "display_name": "Python 3",
   "language": "python",
   "name": "python3"
  },
  "language_info": {
   "codemirror_mode": {
    "name": "ipython",
    "version": 3
   },
   "file_extension": ".py",
   "mimetype": "text/x-python",
   "name": "python",
   "nbconvert_exporter": "python",
   "pygments_lexer": "ipython3",
   "version": "3.8.9"
  },
  "nikola": {
   "category": "",
   "date": "2019-04-06",
   "description": "",
   "link": "",
   "slug": "ml-dnn-classification",
   "tags": "",
   "title": "Machine Learning - DNN Classification",
   "type": "text"
  },
  "toc": {
   "base_numbering": 1,
   "nav_menu": {},
   "number_sections": true,
   "sideBar": true,
   "skip_h1_title": false,
   "title_cell": "Table of Contents",
   "title_sidebar": "Contents",
   "toc_cell": false,
   "toc_position": {},
   "toc_section_display": true,
   "toc_window_display": false
  }
 },
 "nbformat": 4,
 "nbformat_minor": 4
}
