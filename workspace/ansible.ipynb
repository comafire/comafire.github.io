{
 "cells": [
  {
   "cell_type": "markdown",
   "metadata": {
    "deletable": true,
    "editable": true
   },
   "source": [
    "hosts 파일\n",
    "```\n",
    "192.168.10.1    c01\n",
    "192.168.10.2    c02\n",
    "192.168.10.3    c03\n",
    "192.168.10.4    c04\n",
    "192.168.10.5    c05\n",
    "192.168.10.6    c06\n",
    "192.168.10.7    c07\n",
    "```"
   ]
  },
  {
   "cell_type": "markdown",
   "metadata": {
    "deletable": true,
    "editable": true
   },
   "source": [
    "absible (http://docs.ansible.com/ansible/)\n",
    "\n",
    "설치\n",
    "\n",
    "```\n",
    "sudo apt-get install software-properties-common\n",
    "sudo apt-add-repository ppa:ansible/ansible\n",
    "sudo apt-get update\n",
    "sudo apt-get install ansible\n",
    "```\n",
    "\n",
    "초기 SSH 접속시 Key 등록 여부 묻지 않도록 설정\n",
    "\n",
    "```\n",
    "/etc/ansible/ansible.cfg\n",
    "\n",
    "...\n",
    "# uncomment this to disable SSH key host checking\n",
    "host_key_checking = False\n",
    "...\n",
    "\n",
    "```\n",
    "\n",
    "초기 root 계정으로 암호 자동입력하기 위한 설정\n",
    "\n",
    "```\n",
    "/etc/ansible/hosts\n",
    "\n",
    "[cluster]\n",
    "192.168.10.1\n",
    "192.168.10.2\n",
    "192.168.10.3\n",
    "192.168.10.4\n",
    "192.168.10.5\n",
    "192.168.10.6\n",
    "192.168.10.7\n",
    "\n",
    "[cluster:vars]\n",
    "ansible_connection=ssh \n",
    "ansible_ssh_user=root     \n",
    "ansible_ssh_pass=password\n",
    "```\n",
    "\n"
   ]
  },
  {
   "cell_type": "markdown",
   "metadata": {
    "deletable": true,
    "editable": true
   },
   "source": [
    "SSH Key 등록\n",
    "\n",
    "클러스터안의 각 서버끼리 암호 없이 SSH로 접속하기 위하여 Master의 SSH 키를 클러스터 서버들에 등록합니다.\n",
    "\n",
    "1. SSH 키 만들기\n",
    "\n",
    "```\n",
    "ssh-keygen -t rsa\n",
    "\n",
    "Generating public/private rsa key pair.\n",
    "Enter file in which to save the key (/home/comafire/.ssh/id_rsa): <return>\n",
    "Enter passphrase (empty for no passphrase): <Type the passphrase>\n",
    "\n",
    "...(생략)\n",
    "```\n",
    "\n",
    "Master 서버의 .ssh 디렉토리 안에 id_rsa(개인키), id_rsa.pub(공개키) 가 생성됩니다.\n",
    "\n",
    "2. SSH 키 교환\n",
    "클러스터의 각 서버에 생성한 공개키를 복사해 줍니다.\n",
    "\n",
    "```\n",
    "scp $HOME/.ssh/id_rsa.pub root@c01:\n",
    "scp $HOME/.ssh/id_rsa.pub root@c02:\n",
    "\n",
    "...(생략)\n",
    "```\n",
    "\n",
    "3. SSH 키 등록\n",
    "암호 없이 서버의 접속을 받아들이기 위해 복사된 공개키를 authorized_keys(인증키) 파일에 추가해 줍니다.\n",
    "\n",
    "```\n",
    "ssh c01\n",
    "ehg@c01's password:\n",
    "cat $HOME/id_rsa.pub >> $HOME/.ssh/authorized_keys\n",
    "\n",
    "ssh c02\n",
    "ehg@c02's password:\n",
    "cat $HOME/id_rsa.pub >> $HOME/.ssh/authorized_keys\n",
    "\n",
    "...(생략)\n",
    "```\n"
   ]
  },
  {
   "cell_type": "markdown",
   "metadata": {},
   "source": [
    "docker swarm\n",
    "\n",
    "```\n",
    "root@c01:~/bdaas/bdaas-spark# docker swarm init --advertise-addr 192.168.10.1\n",
    "Swarm initialized: current node (hffh10j16mkf2lz96ttf6zvii) is now a manager.\n",
    "\n",
    "To add a worker to this swarm, run the following command:\n",
    "\n",
    "    docker swarm join \\\n",
    "    --token SWMTKN-1-1z86kig96a3uu1ii7hjjjjgft981z5zhjx1zaexdwwuhqle5o4-1qla9ov4mx2ij49u8sg2wik75 \\\n",
    "    192.168.10.1:2377\n",
    "\n",
    "To add a manager to this swarm, run 'docker swarm join-token manager' and follow the instructions.\n",
    "\n",
    "root@c01:~/bdaas/bdaas-spark# \n",
    "```\n",
    "\n",
    "docker service create --name spark-master --network spark -p 8070:8080 bdaas/spark:2.1.0 /usr/local/spark/bin/spark-class org.apache.spark.deploy.master.Master\n",
    "\n",
    "docker service create --name spark-worker --replicas 5 --network spark bdaas/spark:2.1.0 /usr/local/spark/bin/spark-class org.apache.spark.deploy.worker.Worker spark://spark-master:7077\n",
    "\n",
    "root@c01:~/bdaas/bdaas-spark# docker service create --name spark-worker --replicas 5 --network spark bdaas/spark:2.1.0 /usr/local/spark/bin/spark-class org.apache.spark.deploy.worker.Worker spark://10.0.0.3:7077"
   ]
  }
 ],
 "metadata": {
  "kernelspec": {
   "display_name": "Python 3",
   "language": "python",
   "name": "python3"
  },
  "language_info": {
   "codemirror_mode": {
    "name": "ipython",
    "version": 3
   },
   "file_extension": ".py",
   "mimetype": "text/x-python",
   "name": "python",
   "nbconvert_exporter": "python",
   "pygments_lexer": "ipython3",
   "version": "3.5.2"
  }
 },
 "nbformat": 4,
 "nbformat_minor": 2
}
