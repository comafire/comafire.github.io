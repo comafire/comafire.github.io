{
 "cells": [
  {
   "cell_type": "markdown",
   "metadata": {},
   "source": [
    "# Testing Hypothesis\n",
    "\n",
    "가설 검증 "
   ]
  },
  {
   "cell_type": "code",
   "execution_count": 2,
   "metadata": {},
   "outputs": [
    {
     "data": {
      "text/html": [
       "<style>.container { width:100% !important; }</style>"
      ],
      "text/plain": [
       "<IPython.core.display.HTML object>"
      ]
     },
     "metadata": {},
     "output_type": "display_data"
    },
    {
     "name": "stdout",
     "output_type": "stream",
     "text": [
      "python ver=3.8.9 (default, Jun 27 2021, 02:41:12) \n",
      "[GCC 7.5.0]\n",
      "pandas ver=1.2.5\n",
      "numpy ver=1.19.5\n",
      "scipy ver=1.6.3\n"
     ]
    }
   ],
   "source": [
    "# 경고 메시지 출력 끄기\n",
    "import warnings \n",
    "warnings.filterwarnings(action='ignore')\n",
    "\n",
    "# 노트북 셀 표시를 브라우저 전체 폭 사용하기\n",
    "from IPython.core.display import display, HTML\n",
    "display(HTML(\"<style>.container { width:100% !important; }</style>\"))\n",
    "from IPython.display import clear_output\n",
    "\n",
    "%matplotlib inline\n",
    "import matplotlib.pyplot as plt\n",
    "\n",
    "import os, sys, shutil, functools\n",
    "import collections, pathlib, re, string\n",
    "\n",
    "rseed = 22\n",
    "import random\n",
    "random.seed(rseed)\n",
    "\n",
    "import numpy as np\n",
    "np.random.seed(rseed)\n",
    "np.set_printoptions(precision=5)\n",
    "np.set_printoptions(formatter={'float_kind': \"{:.5f}\".format})\n",
    "\n",
    "import pandas as pd\n",
    "pd.set_option('display.max_rows', None) \n",
    "pd.set_option('display.max_columns', None) \n",
    "pd.set_option('display.max_colwidth', None)\n",
    "pd.options.display.float_format = '{:,.5f}'.format\n",
    "\n",
    "import scipy as sp\n",
    "\n",
    "import seaborn as sns\n",
    "\n",
    "from pydataset import data\n",
    "\n",
    "print(f\"python ver={sys.version}\")\n",
    "print(f\"pandas ver={pd.__version__}\")\n",
    "print(f\"numpy ver={np.__version__}\")\n",
    "print(f\"scipy ver={sp.__version__}\")"
   ]
  },
  {
   "cell_type": "code",
   "execution_count": 3,
   "metadata": {},
   "outputs": [
    {
     "name": "stdout",
     "output_type": "stream",
     "text": [
      "<class 'pandas.core.frame.DataFrame'>\n",
      "Int64Index: 150 entries, 1 to 150\n",
      "Data columns (total 5 columns):\n",
      " #   Column        Non-Null Count  Dtype  \n",
      "---  ------        --------------  -----  \n",
      " 0   Sepal.Length  150 non-null    float64\n",
      " 1   Sepal.Width   150 non-null    float64\n",
      " 2   Petal.Length  150 non-null    float64\n",
      " 3   Petal.Width   150 non-null    float64\n",
      " 4   Species       150 non-null    object \n",
      "dtypes: float64(4), object(1)\n",
      "memory usage: 7.0+ KB\n"
     ]
    }
   ],
   "source": [
    "# Iris 데이터 셋의 컬럼 정보 살피기\n",
    "df_iris = data('iris')\n",
    "df_iris.info()"
   ]
  },
  {
   "cell_type": "markdown",
   "metadata": {},
   "source": [
    "## 가설검정 (Testing Hypothesis)\n",
    "\n",
    "가설검정이란 모집단의 통계량에 대해 두가지 가설을 세우고 표본의 통계량을 이용하여 어느 가설이 옳은지 판단하는 통계적 기법입니다. 모집단 통계량에 대해 귀무가설(H0, Null hypothesis, 기각하고 싶은 가설)을 세우고 이에 대한 표본을 수집하여 계산한 표본통계량(검정통계량)이 확률적으로 거의 일어나지 않을 일임을 증명하여 귀무가설을 기각하고, 대립가설(H1, Alternative hypothesis, 채택하고 싶은 가설)을 채택하는 방식입니다. 이를 위해 중심극한정리와 구간추정이 사용됩니다.\n",
    "\n",
    "먼저 가설검정에 사용되는 용어를 정리합니다.\n",
    "\n",
    "* 귀무가설(H0, Null hypothesis): 기각하고 싶은 가설\n",
    "* 대립가설(H1, Alternative hypothesis): 채택하고 싶은 가설\n",
    "* 기각역(Rejection region): 귀무가설이 기각되는 구간\n",
    "* 채택역(Acceptance region): 귀무가설이 채택되는 구간\n",
    "* 유의수준(Significance level): 기각역 구간에 들어가는 확률\n",
    "* 임계값(Critical value): 기각역 구간의 경계선 상의 값\n",
    "* 검정통계량(Test statistic): 검정에 사용되는 통계량\n",
    "* p값(p-value): 검정통계량의 확률 값\n",
    "\n",
    "이제 가설 검증의 단계에 대해서 알아봅니다.\n",
    "\n",
    "**가설검증 단계**\n",
    "\n",
    "![](https://storage.ning.com/topology/rest/1.0/file/get/4345192898?profile=original)"
   ]
  },
  {
   "cell_type": "markdown",
   "metadata": {},
   "source": [
    "예) 모평균과 표본평균 검정\n",
    "\n",
    "매일 사먹는 감자칩에 표기된 무게 150g인데 사먹을 때마다 왠지 부족하다는 생각이 들어 검증을 하고 싶어졌다.\n",
    "\n",
    "* Step1: 귀무가설 정의\n",
    "  * H0: $\\mu = \\mu_0$, 감자칩의 평균 무게가 150g 이다.\n",
    "* Step2: 대립가설 정의\n",
    "  * H1: $\\mu \\neq \\mu_0$, 감자칩의 평균 무게가 150g이 아니다.\n",
    "\n",
    "귀무가설과 대립가설의 정의에 따라 양측검정(Two-tailed Test), 단측검정(One-tailed Test) 실시 여부가 결정 됩니다.\n",
    "\n",
    "![](https://ars.els-cdn.com/content/image/3-s2.0-B9780128008522000092-f09-06-9780128008522.jpg)"
   ]
  },
  {
   "cell_type": "markdown",
   "metadata": {},
   "source": [
    "* Step3: 유의수준 정의\n",
    "  * 유의 수준: 0.05, 귀무가설 기각을 위한 기각역의 확률   \n",
    "* Step4: 검증 데이터 선택\n",
    "  * 랜덤하게 5개의 감자칩을 구매하여 무게 측정\n",
    "* Step5: 검정 통계량 또는 p-value 계산\n",
    "  * 보통 모분산을 알수 없고, 소표본에서도 사용할 수 있는 t-score 를 이용하여 검정 통계량을 계산 또는 p-value 계산 (One Sample T-Test)\n",
    "\n",
    "$$t = \\frac{\\bar{x} - \\mu}{s/\\sqrt{n}}$$\n",
    "\n",
    "![](http://scu2.anu.edu.au/core/HtestMean/images/twoTailedT.gif)\n",
    "* Step6: 임계값 계산 \n",
    "  * 자유도가 4인 t 분포에서 임계값 계산"
   ]
  },
  {
   "cell_type": "code",
   "execution_count": 60,
   "metadata": {},
   "outputs": [
    {
     "name": "stdout",
     "output_type": "stream",
     "text": [
      "cl=0.95, sl=0.025, dof=4, ddof=1\n",
      "t_score=-3.12669\n",
      "c_value:-2.77645, 2.77645\n",
      "p_value=0.03530\n"
     ]
    }
   ],
   "source": [
    "# 표본(Sample): 5개의 데이터를 가지는 표본을 랜덤 샘플링\n",
    "samples = [134, 125, 150, 145, 134]\n",
    "size = len(samples)\n",
    "\n",
    "# 신뢰구간 (confidence level), 유의수준 (significance level), 자유도 (Degree of Freedom)\n",
    "cl = .95\n",
    "sl = (1.-cl)/2 # for Two-Tailed (양측검정) \n",
    "dof = size - 1 # Degree of Freedom\n",
    "ddof = 1 # Delta Degrees of Freedom (dof = n - ddof)\n",
    "print(f\"cl={cl}, sl={sl:.3f}, dof={dof}, ddof={ddof}\")\n",
    "\n",
    "# 표본평균(Sample Mean), 표본편차(Sample Standard Deviation) , 표준오차 (Standard Error)\n",
    "s_mean = np.mean(samples)\n",
    "s_std = np.std(samples) \n",
    "s_ste = s_std / np.sqrt(size)\n",
    "t_score = (s_mean - 150)/s_ste\n",
    "print(f\"t_score={t_score:.5f}\")\n",
    "\n",
    "# c_value: Critical value계산, interval 함수 이용 \n",
    "c_value = sp.stats.t.interval(alpha=cl, df=dof) \n",
    "print(f\"c_value:{c_value[0]:.5f}, {c_value[1]:.5f}\")\n",
    "\n",
    "# p-value: 양측 검정이기 때문에 면적x2\n",
    "p_value = sp.stats.t.cdf(t_score, dof)*2\n",
    "# p_value = sp.stats.t.sf(abs(t_score), dof)*2\n",
    "print(f\"p_value={p_value:.5f}\")"
   ]
  },
  {
   "cell_type": "markdown",
   "metadata": {},
   "source": [
    "* Step7: 귀무가설 채택/기각 결정\n",
    "  * 검정 통계량이 임계값보다 작거나 크면 기각역이므로 귀무가설을 기각하고 대립가설을 채택합니다.\n",
    "  * p-value 가 유의수준보다 작으면 기각역이므로 귀무가설을 기각하고 대립가설을 채택합니다.\n",
    "\n",
    "검정 통계량인 표본평균의 t-score 가 t분포의 유의수준 임계값 범위를 벗어나기 때문에 귀무가설을 기각하고 대립가설을 채택합니다.\n",
    "\n",
    "t-score의 p-value 값이 유의수준인 0.05 보다 작아 귀무가설을 기가하고 대립가설을 채택합니다."
   ]
  },
  {
   "cell_type": "code",
   "execution_count": null,
   "metadata": {},
   "outputs": [],
   "source": []
  }
 ],
 "metadata": {
  "kernelspec": {
   "display_name": "Python 3",
   "language": "python",
   "name": "python3"
  },
  "language_info": {
   "codemirror_mode": {
    "name": "ipython",
    "version": 3
   },
   "file_extension": ".py",
   "mimetype": "text/x-python",
   "name": "python",
   "nbconvert_exporter": "python",
   "pygments_lexer": "ipython3",
   "version": "3.8.9"
  },
  "nikola": {
   "category": "",
   "date": "2019-02-24",
   "description": "",
   "link": "",
   "slug": "ml-descriptive-statistics",
   "tags": "",
   "title": "Machine Learning - Descriptive Statistics",
   "type": "text"
  },
  "toc": {
   "base_numbering": 1,
   "nav_menu": {},
   "number_sections": true,
   "sideBar": true,
   "skip_h1_title": false,
   "title_cell": "Table of Contents",
   "title_sidebar": "Contents",
   "toc_cell": false,
   "toc_position": {},
   "toc_section_display": true,
   "toc_window_display": false
  }
 },
 "nbformat": 4,
 "nbformat_minor": 4
}
