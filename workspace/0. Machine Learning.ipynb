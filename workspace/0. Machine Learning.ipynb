{
 "cells": [
  {
   "cell_type": "markdown",
   "metadata": {},
   "source": [
    "# Info\n",
    "강의\n",
    "* 모두를 위한 딥러닝: https://hunkim.github.io/ml/\n",
    "* fast.ai mooc: http://course.fast.ai/start.html\n",
    "\n",
    "데이터셋\n",
    "* ImageNet: http://www.image-net.org/"
   ]
  },
  {
   "cell_type": "markdown",
   "metadata": {
    "deletable": true,
    "editable": true
   },
   "source": [
    "# TODO\n",
    "* System76 Notebook 구입"
   ]
  },
  {
   "cell_type": "markdown",
   "metadata": {},
   "source": [
    "# Doing\n",
    "* fast.ai mooc\n",
    " * 2017-02-15~19: lession 1: 완료\n",
    " * 2017-02-19~: lession 2\n",
    "* 모두를위한 딥러닝-RL\n",
    " * \n",
    " "
   ]
  },
  {
   "cell_type": "markdown",
   "metadata": {},
   "source": [
    "# Done\n",
    "* 2016-12-10: 모두를 위한 딥러닝-Basic 완료"
   ]
  },
  {
   "cell_type": "code",
   "execution_count": null,
   "metadata": {
    "collapsed": true
   },
   "outputs": [],
   "source": []
  },
  {
   "cell_type": "code",
   "execution_count": null,
   "metadata": {
    "collapsed": true
   },
   "outputs": [],
   "source": []
  }
 ],
 "metadata": {
  "kernelspec": {
   "display_name": "Python 3",
   "language": "python",
   "name": "python3"
  },
  "language_info": {
   "codemirror_mode": {
    "name": "ipython",
    "version": 3
   },
   "file_extension": ".py",
   "mimetype": "text/x-python",
   "name": "python",
   "nbconvert_exporter": "python",
   "pygments_lexer": "ipython3",
   "version": "3.5.2"
  }
 },
 "nbformat": 4,
 "nbformat_minor": 2
}
