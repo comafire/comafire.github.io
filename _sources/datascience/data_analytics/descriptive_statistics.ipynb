{
 "cells": [
  {
   "cell_type": "markdown",
   "metadata": {},
   "source": [
    "# Descriptive Statistcs\n",
    "\n",
    "기술 통계 "
   ]
  },
  {
   "cell_type": "code",
   "execution_count": 21,
   "metadata": {},
   "outputs": [
    {
     "data": {
      "text/html": [
       "<style>.container { width:100% !important; }</style>"
      ],
      "text/plain": [
       "<IPython.core.display.HTML object>"
      ]
     },
     "metadata": {},
     "output_type": "display_data"
    },
    {
     "name": "stdout",
     "output_type": "stream",
     "text": [
      "python ver=3.8.9 (default, Jun 27 2021, 02:41:12) \n",
      "[GCC 7.5.0]\n",
      "pandas ver=1.2.5\n",
      "numpy ver=1.19.5\n"
     ]
    }
   ],
   "source": [
    "# 경고 메시지 출력 끄기\n",
    "import warnings \n",
    "warnings.filterwarnings(action='ignore')\n",
    "\n",
    "# 노트북 셀 표시를 브라우저 전체 폭 사용하기\n",
    "from IPython.core.display import display, HTML\n",
    "display(HTML(\"<style>.container { width:100% !important; }</style>\"))\n",
    "from IPython.display import clear_output\n",
    "\n",
    "%matplotlib inline\n",
    "import matplotlib.pyplot as plt\n",
    "\n",
    "import os, sys, shutil, functools\n",
    "import collections, pathlib, re, string\n",
    "\n",
    "rseed = 22\n",
    "import random\n",
    "random.seed(rseed)\n",
    "\n",
    "import numpy as np\n",
    "np.random.seed(rseed)\n",
    "np.set_printoptions(precision=5)\n",
    "np.set_printoptions(formatter={'float_kind': \"{:.5f}\".format})\n",
    "\n",
    "import pandas as pd\n",
    "pd.set_option('display.max_rows', None) \n",
    "pd.set_option('display.max_columns', None) \n",
    "pd.set_option('display.max_colwidth', None)\n",
    "pd.options.display.float_format = '{:,.5f}'.format\n",
    "\n",
    "import seaborn as sns\n",
    "\n",
    "from pydataset import data\n",
    "\n",
    "print(f\"python ver={sys.version}\")\n",
    "print(f\"pandas ver={pd.__version__}\")\n",
    "print(f\"numpy ver={np.__version__}\")"
   ]
  },
  {
   "cell_type": "code",
   "execution_count": 3,
   "metadata": {},
   "outputs": [
    {
     "name": "stdout",
     "output_type": "stream",
     "text": [
      "<class 'pandas.core.frame.DataFrame'>\n",
      "Int64Index: 150 entries, 1 to 150\n",
      "Data columns (total 5 columns):\n",
      " #   Column        Non-Null Count  Dtype  \n",
      "---  ------        --------------  -----  \n",
      " 0   Sepal.Length  150 non-null    float64\n",
      " 1   Sepal.Width   150 non-null    float64\n",
      " 2   Petal.Length  150 non-null    float64\n",
      " 3   Petal.Width   150 non-null    float64\n",
      " 4   Species       150 non-null    object \n",
      "dtypes: float64(4), object(1)\n",
      "memory usage: 7.0+ KB\n"
     ]
    }
   ],
   "source": [
    "# Iris 데이터 셋의 컬럼 정보 살피기\n",
    "df_iris = data('iris')\n",
    "df_iris.info()"
   ]
  },
  {
   "cell_type": "code",
   "execution_count": 11,
   "metadata": {},
   "outputs": [
    {
     "data": {
      "text/html": [
       "<div>\n",
       "<style scoped>\n",
       "    .dataframe tbody tr th:only-of-type {\n",
       "        vertical-align: middle;\n",
       "    }\n",
       "\n",
       "    .dataframe tbody tr th {\n",
       "        vertical-align: top;\n",
       "    }\n",
       "\n",
       "    .dataframe thead th {\n",
       "        text-align: right;\n",
       "    }\n",
       "</style>\n",
       "<table border=\"1\" class=\"dataframe\">\n",
       "  <thead>\n",
       "    <tr style=\"text-align: right;\">\n",
       "      <th></th>\n",
       "      <th>Sepal.Length</th>\n",
       "      <th>Sepal.Width</th>\n",
       "      <th>Petal.Length</th>\n",
       "      <th>Petal.Width</th>\n",
       "      <th>Species</th>\n",
       "    </tr>\n",
       "  </thead>\n",
       "  <tbody>\n",
       "    <tr>\n",
       "      <th>1</th>\n",
       "      <td>5.10000</td>\n",
       "      <td>3.50000</td>\n",
       "      <td>1.40000</td>\n",
       "      <td>0.20000</td>\n",
       "      <td>setosa</td>\n",
       "    </tr>\n",
       "    <tr>\n",
       "      <th>2</th>\n",
       "      <td>4.90000</td>\n",
       "      <td>3.00000</td>\n",
       "      <td>1.40000</td>\n",
       "      <td>0.20000</td>\n",
       "      <td>setosa</td>\n",
       "    </tr>\n",
       "    <tr>\n",
       "      <th>3</th>\n",
       "      <td>4.70000</td>\n",
       "      <td>3.20000</td>\n",
       "      <td>1.30000</td>\n",
       "      <td>0.20000</td>\n",
       "      <td>setosa</td>\n",
       "    </tr>\n",
       "    <tr>\n",
       "      <th>4</th>\n",
       "      <td>4.60000</td>\n",
       "      <td>3.10000</td>\n",
       "      <td>1.50000</td>\n",
       "      <td>0.20000</td>\n",
       "      <td>setosa</td>\n",
       "    </tr>\n",
       "    <tr>\n",
       "      <th>5</th>\n",
       "      <td>5.00000</td>\n",
       "      <td>3.60000</td>\n",
       "      <td>1.40000</td>\n",
       "      <td>0.20000</td>\n",
       "      <td>setosa</td>\n",
       "    </tr>\n",
       "  </tbody>\n",
       "</table>\n",
       "</div>"
      ],
      "text/plain": [
       "   Sepal.Length  Sepal.Width  Petal.Length  Petal.Width Species\n",
       "1       5.10000      3.50000       1.40000      0.20000  setosa\n",
       "2       4.90000      3.00000       1.40000      0.20000  setosa\n",
       "3       4.70000      3.20000       1.30000      0.20000  setosa\n",
       "4       4.60000      3.10000       1.50000      0.20000  setosa\n",
       "5       5.00000      3.60000       1.40000      0.20000  setosa"
      ]
     },
     "execution_count": 11,
     "metadata": {},
     "output_type": "execute_result"
    }
   ],
   "source": [
    "df_iris.head()"
   ]
  },
  {
   "cell_type": "code",
   "execution_count": 96,
   "metadata": {},
   "outputs": [
    {
     "data": {
      "text/html": [
       "<div>\n",
       "<style scoped>\n",
       "    .dataframe tbody tr th:only-of-type {\n",
       "        vertical-align: middle;\n",
       "    }\n",
       "\n",
       "    .dataframe tbody tr th {\n",
       "        vertical-align: top;\n",
       "    }\n",
       "\n",
       "    .dataframe thead th {\n",
       "        text-align: right;\n",
       "    }\n",
       "</style>\n",
       "<table border=\"1\" class=\"dataframe\">\n",
       "  <thead>\n",
       "    <tr style=\"text-align: right;\">\n",
       "      <th></th>\n",
       "      <th>Sepal.Length</th>\n",
       "      <th>Sepal.Width</th>\n",
       "      <th>Petal.Length</th>\n",
       "      <th>Petal.Width</th>\n",
       "      <th>Species</th>\n",
       "    </tr>\n",
       "  </thead>\n",
       "  <tbody>\n",
       "    <tr>\n",
       "      <th>count</th>\n",
       "      <td>150.00000</td>\n",
       "      <td>150.00000</td>\n",
       "      <td>150.00000</td>\n",
       "      <td>150.00000</td>\n",
       "      <td>150</td>\n",
       "    </tr>\n",
       "    <tr>\n",
       "      <th>unique</th>\n",
       "      <td>NaN</td>\n",
       "      <td>NaN</td>\n",
       "      <td>NaN</td>\n",
       "      <td>NaN</td>\n",
       "      <td>3</td>\n",
       "    </tr>\n",
       "    <tr>\n",
       "      <th>top</th>\n",
       "      <td>NaN</td>\n",
       "      <td>NaN</td>\n",
       "      <td>NaN</td>\n",
       "      <td>NaN</td>\n",
       "      <td>virginica</td>\n",
       "    </tr>\n",
       "    <tr>\n",
       "      <th>freq</th>\n",
       "      <td>NaN</td>\n",
       "      <td>NaN</td>\n",
       "      <td>NaN</td>\n",
       "      <td>NaN</td>\n",
       "      <td>50</td>\n",
       "    </tr>\n",
       "    <tr>\n",
       "      <th>mean</th>\n",
       "      <td>5.84333</td>\n",
       "      <td>3.05733</td>\n",
       "      <td>3.75800</td>\n",
       "      <td>1.19933</td>\n",
       "      <td>NaN</td>\n",
       "    </tr>\n",
       "    <tr>\n",
       "      <th>std</th>\n",
       "      <td>0.82807</td>\n",
       "      <td>0.43587</td>\n",
       "      <td>1.76530</td>\n",
       "      <td>0.76224</td>\n",
       "      <td>NaN</td>\n",
       "    </tr>\n",
       "    <tr>\n",
       "      <th>min</th>\n",
       "      <td>4.30000</td>\n",
       "      <td>2.00000</td>\n",
       "      <td>1.00000</td>\n",
       "      <td>0.10000</td>\n",
       "      <td>NaN</td>\n",
       "    </tr>\n",
       "    <tr>\n",
       "      <th>25%</th>\n",
       "      <td>5.10000</td>\n",
       "      <td>2.80000</td>\n",
       "      <td>1.60000</td>\n",
       "      <td>0.30000</td>\n",
       "      <td>NaN</td>\n",
       "    </tr>\n",
       "    <tr>\n",
       "      <th>50%</th>\n",
       "      <td>5.80000</td>\n",
       "      <td>3.00000</td>\n",
       "      <td>4.35000</td>\n",
       "      <td>1.30000</td>\n",
       "      <td>NaN</td>\n",
       "    </tr>\n",
       "    <tr>\n",
       "      <th>75%</th>\n",
       "      <td>6.40000</td>\n",
       "      <td>3.30000</td>\n",
       "      <td>5.10000</td>\n",
       "      <td>1.80000</td>\n",
       "      <td>NaN</td>\n",
       "    </tr>\n",
       "    <tr>\n",
       "      <th>max</th>\n",
       "      <td>7.90000</td>\n",
       "      <td>4.40000</td>\n",
       "      <td>6.90000</td>\n",
       "      <td>2.50000</td>\n",
       "      <td>NaN</td>\n",
       "    </tr>\n",
       "  </tbody>\n",
       "</table>\n",
       "</div>"
      ],
      "text/plain": [
       "        Sepal.Length  Sepal.Width  Petal.Length  Petal.Width    Species\n",
       "count      150.00000    150.00000     150.00000    150.00000        150\n",
       "unique           NaN          NaN           NaN          NaN          3\n",
       "top              NaN          NaN           NaN          NaN  virginica\n",
       "freq             NaN          NaN           NaN          NaN         50\n",
       "mean         5.84333      3.05733       3.75800      1.19933        NaN\n",
       "std          0.82807      0.43587       1.76530      0.76224        NaN\n",
       "min          4.30000      2.00000       1.00000      0.10000        NaN\n",
       "25%          5.10000      2.80000       1.60000      0.30000        NaN\n",
       "50%          5.80000      3.00000       4.35000      1.30000        NaN\n",
       "75%          6.40000      3.30000       5.10000      1.80000        NaN\n",
       "max          7.90000      4.40000       6.90000      2.50000        NaN"
      ]
     },
     "execution_count": 96,
     "metadata": {},
     "output_type": "execute_result"
    }
   ],
   "source": [
    "# describe()을 통한 대략적인 데이터의 통계량 알아보기\n",
    "df_iris.describe(include='all')"
   ]
  },
  {
   "cell_type": "markdown",
   "metadata": {},
   "source": [
    "## 대표값\n",
    "\n",
    "데이터 분석을 위해서 데이터 특성을 이해하기 위해서는 데이터의 특성을 나타내는 몇몇 통계량을 구해봄으로써 데이터를 전체적으로 빠르게 파악해 볼수 있습니다.\n",
    "\n",
    "일반적으로 많이 쓰이는 대표값은 평균값(Average), 중앙값(Median), 최빈값(Mode) 입니다.\n",
    "\n",
    "* 평균값: 평균의 데이터의 중심을 나타내는 대표값으로 사용됩니다. 평균의 종류에는 산술평균, 가중평균, 조화평균, 기하평균 등 많은 평균의 종류가 있지만 간단하게 산술평균을 많이 사용합니다.\n",
    "* 중앙값: 중앙값은 데이터를 작은 순서로 나열했을때 중앙에 위치하는 값입니다. 데이터에 이상치(큰 값)가 포함되어 있더라도 강건(Robust, 값이 크게 흔들리지 않음)합니다. 데이터의 갯수가 짝수일 경우 중앙 값은 중앙 두 데이터의 평균을 사용합니다.  \n",
    "* 최빈값: 데이터를 계층으로 나누어 빈도수를 측정하였을때 그 빈도수가 가장 많은 값입니다. \n",
    "\n",
    "만약, 데이터의 분포가 거의 정규분포와 가깝다면, 평균값, 중앙값, 최빈값 모두는 비슷한 위치에 존재하게 됩니다. 이때는 통계적으로 다루기 쉬운 평균값을 대표값으로 사용하는 것이 일반 적입니다.\n",
    "\n",
    "데이터가 이상치를 포함하고 있다면 평균값은 이상치에 민감하기 때문에 3가지 대표값이 서로 다룬 위치에 존재하게 됩니다. 이 경우 데이터의 도메인 특성에 따라 이상치를 제거하는 등의 방법을 통해 평균을 대표값으로 사용할 수 있습니다.\n",
    "\n",
    "@최빈값의 활용: 과거 대칭방식의 암호해독시에 문서상에서 나타나는 알파벳의 최빈값과 암호화된 알파멧의 최빈값을 비교하여 해독의 기준점으로 많이 사용하였다고 합니다.  "
   ]
  },
  {
   "cell_type": "code",
   "execution_count": 73,
   "metadata": {},
   "outputs": [
    {
     "data": {
      "text/plain": [
       "Sepal.Length   5.84333\n",
       "Sepal.Width    3.05733\n",
       "Petal.Length   3.75800\n",
       "Petal.Width    1.19933\n",
       "dtype: float64"
      ]
     },
     "execution_count": 73,
     "metadata": {},
     "output_type": "execute_result"
    }
   ],
   "source": [
    "# 평균값\n",
    "df_iris.mean()"
   ]
  },
  {
   "cell_type": "code",
   "execution_count": 74,
   "metadata": {},
   "outputs": [
    {
     "data": {
      "text/plain": [
       "Sepal.Length   5.80000\n",
       "Sepal.Width    3.00000\n",
       "Petal.Length   4.35000\n",
       "Petal.Width    1.30000\n",
       "dtype: float64"
      ]
     },
     "execution_count": 74,
     "metadata": {},
     "output_type": "execute_result"
    }
   ],
   "source": [
    "# 중앙값\n",
    "df_iris.median()"
   ]
  },
  {
   "cell_type": "code",
   "execution_count": 75,
   "metadata": {},
   "outputs": [
    {
     "data": {
      "text/html": [
       "<div>\n",
       "<style scoped>\n",
       "    .dataframe tbody tr th:only-of-type {\n",
       "        vertical-align: middle;\n",
       "    }\n",
       "\n",
       "    .dataframe tbody tr th {\n",
       "        vertical-align: top;\n",
       "    }\n",
       "\n",
       "    .dataframe thead th {\n",
       "        text-align: right;\n",
       "    }\n",
       "</style>\n",
       "<table border=\"1\" class=\"dataframe\">\n",
       "  <thead>\n",
       "    <tr style=\"text-align: right;\">\n",
       "      <th></th>\n",
       "      <th>Sepal.Length</th>\n",
       "      <th>Sepal.Width</th>\n",
       "      <th>Petal.Length</th>\n",
       "      <th>Petal.Width</th>\n",
       "      <th>Species</th>\n",
       "    </tr>\n",
       "  </thead>\n",
       "  <tbody>\n",
       "    <tr>\n",
       "      <th>0</th>\n",
       "      <td>5.00000</td>\n",
       "      <td>3.00000</td>\n",
       "      <td>1.40000</td>\n",
       "      <td>0.20000</td>\n",
       "      <td>setosa</td>\n",
       "    </tr>\n",
       "    <tr>\n",
       "      <th>1</th>\n",
       "      <td>NaN</td>\n",
       "      <td>NaN</td>\n",
       "      <td>1.50000</td>\n",
       "      <td>NaN</td>\n",
       "      <td>versicolor</td>\n",
       "    </tr>\n",
       "    <tr>\n",
       "      <th>2</th>\n",
       "      <td>NaN</td>\n",
       "      <td>NaN</td>\n",
       "      <td>NaN</td>\n",
       "      <td>NaN</td>\n",
       "      <td>virginica</td>\n",
       "    </tr>\n",
       "  </tbody>\n",
       "</table>\n",
       "</div>"
      ],
      "text/plain": [
       "   Sepal.Length  Sepal.Width  Petal.Length  Petal.Width     Species\n",
       "0       5.00000      3.00000       1.40000      0.20000      setosa\n",
       "1           NaN          NaN       1.50000          NaN  versicolor\n",
       "2           NaN          NaN           NaN          NaN   virginica"
      ]
     },
     "execution_count": 75,
     "metadata": {},
     "output_type": "execute_result"
    }
   ],
   "source": [
    "# 최빈값\n",
    "df_iris.mode()"
   ]
  },
  {
   "cell_type": "markdown",
   "metadata": {},
   "source": [
    "## 산포도(Dispersion)\n",
    "\n",
    "산포도는 데이터의 흩어짐 정도를 나타냅니다. 같은 데이터의 대표값을 가지더라도 데이터의 산포도는 다를 수 있기 때문에 대표값과 더불어 데이터의 특성을 파악하는데 중요하게 사용됩니다. \n",
    "\n",
    "### 사분위수(Quartile)\n",
    "\n",
    "데이터를 정렬하면 최소값(Min), 최대값(Max), 범위(Range)를 알 수 있으면 대표 값 중에 하나인 중앙값(Median)을 통해 데이터 범위내에 주요 데이터들의 위치를 알 수 있습니다.\n",
    "\n",
    "데이터의 분포 상 데이터를 4등분하여 보는 것은 의미가 있기 때문에 데이터를 4등분하여 나타낸 것을 사분위수(Quartile)라고 합니다. 여기서 각 4등분 위치를 1사분위수(Q1), 2사분위수(Q2=중앙값), 3사분위수(Q3)로 나타내며 1사분위수에서 3사분위수까지를 사분범위(Interquairile Range)라고 합니다. \n",
    "\n",
    "이를 좀더 시각화하여 나타내기 위해 아래와 같이 상자수염그림(Boxplot)을 사용합니다. Boxplot에서는 이상치(Outlier)에 민감하지 않은 분위수를 사용하기 때문에 이를 이용하여 통계적으로 이상치를 잘 검출할 수 있습니다. Boxplot 에서 이상치는 통계적 최소값인 Q1 - 1.5 x IQR 보다 작거나 최대값인 Q3 + 1.5 x IQR 보다 큰 값들을 가르킵니다. 이는 아래 그림에서처럼 데이터의 확률분포적 특성과 연관하여 생각한다면 쉽게 이해가 되는 부분입니다. \n",
    "\n",
    "![](https://miro.medium.com/max/700/1*NRlqiZGQdsIyAu0KzP7LaQ.png)\n",
    "\n",
    "질적변수에 속하는 명목척도, 서열척도의 경우 평균을 구할 수 없기 때문에 사분위수를 통한 데이터 탐색은 더욱 의미가 큽니다."
   ]
  },
  {
   "cell_type": "code",
   "execution_count": 76,
   "metadata": {},
   "outputs": [
    {
     "name": "stdout",
     "output_type": "stream",
     "text": [
      "Q1: 2.8, Q2: 3.0, Q3: 3.3, IQR: 0.50\n"
     ]
    }
   ],
   "source": [
    "# 사분위수 \n",
    "q1 = df_iris['Sepal.Width'].quantile(.25)\n",
    "q2 = df_iris['Sepal.Width'].quantile(.5)\n",
    "q3 = df_iris['Sepal.Width'].quantile(.75)\n",
    "iqr = q3 - q1\n",
    "print(f\"Q1: {q1}, Q2: {q2}, Q3: {q3}, IQR: {iqr:.2f}\")"
   ]
  },
  {
   "cell_type": "code",
   "execution_count": 77,
   "metadata": {},
   "outputs": [
    {
     "data": {
      "text/plain": [
       "Text(0.5, 1.0, '')"
      ]
     },
     "execution_count": 77,
     "metadata": {},
     "output_type": "execute_result"
    },
    {
     "data": {
      "image/png": "[encoded data removed]",
      "text/plain": [
       "<Figure size 432x288 with 1 Axes>"
      ]
     },
     "metadata": {
      "needs_background": "light"
     },
     "output_type": "display_data"
    }
   ],
   "source": [
    "# Boxplot를 이용한 시각화 \n",
    "df_iris.boxplot(column='Sepal.Width')\n",
    "plt.title('')"
   ]
  },
  {
   "cell_type": "code",
   "execution_count": 78,
   "metadata": {},
   "outputs": [
    {
     "data": {
      "text/plain": [
       "<AxesSubplot:ylabel='Sepal.Width'>"
      ]
     },
     "execution_count": 78,
     "metadata": {},
     "output_type": "execute_result"
    },
    {
     "data": {
      "image/png": "[encoded data removed]",
      "text/plain": [
       "<Figure size 432x288 with 1 Axes>"
      ]
     },
     "metadata": {
      "needs_background": "light"
     },
     "output_type": "display_data"
    }
   ],
   "source": [
    "# Seaborn를 이용한 Boxplot 시각화\n",
    "sns.boxplot(y='Sepal.Width', data=df_iris)"
   ]
  },
  {
   "cell_type": "code",
   "execution_count": 79,
   "metadata": {},
   "outputs": [
    {
     "data": {
      "text/plain": [
       "Text(0.5, 1.0, '')"
      ]
     },
     "execution_count": 79,
     "metadata": {},
     "output_type": "execute_result"
    },
    {
     "data": {
      "image/png": "[encoded data removed]",
      "text/plain": [
       "<Figure size 432x288 with 1 Axes>"
      ]
     },
     "metadata": {
      "needs_background": "light"
     },
     "output_type": "display_data"
    }
   ],
   "source": [
    "# Boxplot를 이용한 시각화 \n",
    "df_iris.boxplot(column='Petal.Length', by='Species')\n",
    "plt.title('')"
   ]
  },
  {
   "cell_type": "code",
   "execution_count": 80,
   "metadata": {},
   "outputs": [
    {
     "data": {
      "text/plain": [
       "<AxesSubplot:xlabel='Species', ylabel='Petal.Length'>"
      ]
     },
     "execution_count": 80,
     "metadata": {},
     "output_type": "execute_result"
    },
    {
     "data": {
      "image/png": "[encoded data removed]",
      "text/plain": [
       "<Figure size 432x288 with 1 Axes>"
      ]
     },
     "metadata": {
      "needs_background": "light"
     },
     "output_type": "display_data"
    }
   ],
   "source": [
    "# Seaborn를 이용한 Boxplot 시각화\n",
    "sns.boxplot(x='Species', y='Petal.Length', data=df_iris)"
   ]
  },
  {
   "cell_type": "markdown",
   "metadata": {},
   "source": [
    "### 분산(Variance), 표준편차(Standard Deviation)\n",
    "\n",
    "분산과 표준편차는 평균값을 이용해 산포도를 수치화 할 수 있으며, 통계 계산시에도 평균값과 함께 사용하기 유용합니다.\n",
    "\n",
    "* 편차(Deviation): 데이터가 평균으로부터 떨어진 정도, 데이터 - 평균\n",
    "* 분산(Variance): 편차 제곱의 평균, 편차의 평균은 항상 0 이 되기 때문에 분산을 이용함\n",
    "* 표준편차(Standard Deviation): 분산의 제곱근, 분산은 제곱값으로 수가 너무 크고, 단위가 변하기(예, m -> m2)때문에 표준편차를 이용함\n",
    "\n",
    "![](https://mechanicalbase.com/wp-content/uploads/2020/11/image.png)\n"
   ]
  },
  {
   "cell_type": "code",
   "execution_count": 81,
   "metadata": {},
   "outputs": [
    {
     "data": {
      "text/plain": [
       "Sepal.Length   0.68569\n",
       "Sepal.Width    0.18998\n",
       "Petal.Length   3.11628\n",
       "Petal.Width    0.58101\n",
       "dtype: float64"
      ]
     },
     "execution_count": 81,
     "metadata": {},
     "output_type": "execute_result"
    }
   ],
   "source": [
    "# 분산\n",
    "df_iris.var()"
   ]
  },
  {
   "cell_type": "code",
   "execution_count": 82,
   "metadata": {},
   "outputs": [
    {
     "data": {
      "text/plain": [
       "Sepal.Length   0.82807\n",
       "Sepal.Width    0.43587\n",
       "Petal.Length   1.76530\n",
       "Petal.Width    0.76224\n",
       "dtype: float64"
      ]
     },
     "execution_count": 82,
     "metadata": {},
     "output_type": "execute_result"
    }
   ],
   "source": [
    "# 표준편차\n",
    "df_iris.std()"
   ]
  },
  {
   "cell_type": "markdown",
   "metadata": {},
   "source": [
    "### 변동계수(Coefficient of Variation)\n",
    "\n",
    "변동계수(CV)는 표준편차를 평균으로 나눈 값으로 두 집단에서 데이터의 흩어짐 정도를 비교하는데 사용합니다.  \n",
    "\n",
    "![](https://toptipbio.com/wp-content/uploads/2017/04/Coefficient-of-variation-CV-formula.jpg)\n",
    "\n",
    "예를 들어 두 회사의 연도별 수익률에 대하여 어느 회사가 변동폭이 큰지를 비교할때 사용해볼 수 있습니다.\n",
    "\n",
    "![](https://exceltable.com/en/analyses-reports/images/analyses-reports11-1.png)\n",
    "![](https://exceltable.com/en/analyses-reports/images/analyses-reports11-2.png)\n",
    "\n",
    "https://exceltable.com/en/analyses-reports/coefficient-variation-in-excel"
   ]
  },
  {
   "cell_type": "code",
   "execution_count": 95,
   "metadata": {},
   "outputs": [
    {
     "name": "stdout",
     "output_type": "stream",
     "text": [
      "mean1: 5.84, mean2: 3.76\n",
      "cv1: 0.14, cv2: 0.47\n"
     ]
    }
   ],
   "source": [
    "from scipy.stats import variation \n",
    "\n",
    "# Scipy 를 통한 CV 계산\n",
    "# https://docs.scipy.org/doc/scipy/reference/generated/scipy.stats.variation.html\n",
    "mean1 = df_iris['Sepal.Length'].mean()\n",
    "mean2 = df_iris['Petal.Length'].mean()\n",
    "cv1 = variation(df_iris['Sepal.Length'])\n",
    "cv2 = variation(df_iris['Petal.Length'])\n",
    "print(f\"mean1: {mean1:.2f}, mean2: {mean2:.2f}\")\n",
    "print(f\"cv1: {cv1:.2f}, cv2: {cv2:.2f}\")"
   ]
  },
  {
   "cell_type": "markdown",
   "metadata": {},
   "source": [
    "## 데이터의 표준화\n",
    "\n",
    "데이터의 정규분포를 확인하려면 도수분포표 및 히스토그램 (or Q-Q Plot)을 통한 데이터 시각화를 통해 어느정도 확인이 가능합니다. 많은 통계적 계산들이 데이터의 정규분포를 가정하는 부분이 많기 때문에 데이터의 정규성을 검증하는 것은 중요합니다.\n",
    "\n",
    "### 도수분포표 (Frequency Distribution Table)\n",
    "\n",
    "도수분포표는 데이터를 계급으로 나누고 계급에 대한 빈도를 세어 표시하는 테이블입니다. 범주형 변수의 경우는 간단하게 구할 수 있지만, 연속형 변수의 경우에는 어떻게 계급을 나누어 표시해야 하는지에 대한 어려운 부분이 존재합니다. \n",
    "\n",
    "연속형 변수의 적장한 계급 수를 구하는 방법은 주로 Sturge’s rule 또는 Freedman-Diaconis rule 을 사용합니다.\n",
    "\n",
    "**Sturge's rule**\n",
    "\n",
    "![](https://miro.medium.com/max/324/1*E2cFPT9fMhdF74FVANGchQ.png)\n",
    "\n",
    "**Freedman-Diaconis rule**\n",
    "\n",
    "![](https://miro.medium.com/max/409/1*K04B59josTwu3Yp2acpfmA.png)\n",
    "\n",
    "https://medium.datadriveninvestor.com/how-to-decide-on-the-number-of-bins-of-a-histogram-3c36dc5b1cd8\n",
    "\n"
   ]
  },
  {
   "cell_type": "code",
   "execution_count": 128,
   "metadata": {},
   "outputs": [
    {
     "data": {
      "text/html": [
       "<div>\n",
       "<style scoped>\n",
       "    .dataframe tbody tr th:only-of-type {\n",
       "        vertical-align: middle;\n",
       "    }\n",
       "\n",
       "    .dataframe tbody tr th {\n",
       "        vertical-align: top;\n",
       "    }\n",
       "\n",
       "    .dataframe thead th {\n",
       "        text-align: right;\n",
       "    }\n",
       "</style>\n",
       "<table border=\"1\" class=\"dataframe\">\n",
       "  <thead>\n",
       "    <tr style=\"text-align: right;\">\n",
       "      <th>col_0</th>\n",
       "      <th>frequency</th>\n",
       "      <th>cumulative_frequency</th>\n",
       "      <th>relative_frequency</th>\n",
       "    </tr>\n",
       "    <tr>\n",
       "      <th>Species</th>\n",
       "      <th></th>\n",
       "      <th></th>\n",
       "      <th></th>\n",
       "    </tr>\n",
       "  </thead>\n",
       "  <tbody>\n",
       "    <tr>\n",
       "      <th>setosa</th>\n",
       "      <td>50</td>\n",
       "      <td>50</td>\n",
       "      <td>0.33333</td>\n",
       "    </tr>\n",
       "    <tr>\n",
       "      <th>versicolor</th>\n",
       "      <td>50</td>\n",
       "      <td>100</td>\n",
       "      <td>0.33333</td>\n",
       "    </tr>\n",
       "    <tr>\n",
       "      <th>virginica</th>\n",
       "      <td>50</td>\n",
       "      <td>150</td>\n",
       "      <td>0.33333</td>\n",
       "    </tr>\n",
       "  </tbody>\n",
       "</table>\n",
       "</div>"
      ],
      "text/plain": [
       "col_0       frequency  cumulative_frequency  relative_frequency\n",
       "Species                                                        \n",
       "setosa             50                    50             0.33333\n",
       "versicolor         50                   100             0.33333\n",
       "virginica          50                   150             0.33333"
      ]
     },
     "execution_count": 128,
     "metadata": {},
     "output_type": "execute_result"
    }
   ],
   "source": [
    "# 범주형 변수의 도수 분포표\n",
    "fdt = pd.crosstab(index=df_iris['Species'], columns='frequency')\n",
    "fdt['cumulative_frequency'] = fdt['frequency'].cumsum() # 누적도수\n",
    "fdt['relative_frequency'] = fdt['frequency'] / fdt['frequency'].sum() # 상대도수\n",
    "fdt"
   ]
  },
  {
   "cell_type": "code",
   "execution_count": 147,
   "metadata": {},
   "outputs": [
    {
     "data": {
      "text/html": [
       "<div>\n",
       "<style scoped>\n",
       "    .dataframe tbody tr th:only-of-type {\n",
       "        vertical-align: middle;\n",
       "    }\n",
       "\n",
       "    .dataframe tbody tr th {\n",
       "        vertical-align: top;\n",
       "    }\n",
       "\n",
       "    .dataframe thead th {\n",
       "        text-align: right;\n",
       "    }\n",
       "</style>\n",
       "<table border=\"1\" class=\"dataframe\">\n",
       "  <thead>\n",
       "    <tr style=\"text-align: right;\">\n",
       "      <th>col_0</th>\n",
       "      <th>frequency</th>\n",
       "      <th>cumulative_frequency</th>\n",
       "      <th>relative_frequency</th>\n",
       "      <th>cumulative_relative_frequency</th>\n",
       "    </tr>\n",
       "    <tr>\n",
       "      <th>Sepal.Length</th>\n",
       "      <th></th>\n",
       "      <th></th>\n",
       "      <th></th>\n",
       "      <th></th>\n",
       "    </tr>\n",
       "  </thead>\n",
       "  <tbody>\n",
       "    <tr>\n",
       "      <th>[4.3, 4.7)</th>\n",
       "      <td>9</td>\n",
       "      <td>9</td>\n",
       "      <td>0.06000</td>\n",
       "      <td>0.06000</td>\n",
       "    </tr>\n",
       "    <tr>\n",
       "      <th>[4.7, 5.1)</th>\n",
       "      <td>23</td>\n",
       "      <td>32</td>\n",
       "      <td>0.15333</td>\n",
       "      <td>0.21333</td>\n",
       "    </tr>\n",
       "    <tr>\n",
       "      <th>[5.1, 5.5)</th>\n",
       "      <td>20</td>\n",
       "      <td>52</td>\n",
       "      <td>0.13333</td>\n",
       "      <td>0.34667</td>\n",
       "    </tr>\n",
       "    <tr>\n",
       "      <th>[5.5, 5.9)</th>\n",
       "      <td>28</td>\n",
       "      <td>80</td>\n",
       "      <td>0.18667</td>\n",
       "      <td>0.53333</td>\n",
       "    </tr>\n",
       "    <tr>\n",
       "      <th>[5.9, 6.3)</th>\n",
       "      <td>28</td>\n",
       "      <td>108</td>\n",
       "      <td>0.18667</td>\n",
       "      <td>0.72000</td>\n",
       "    </tr>\n",
       "    <tr>\n",
       "      <th>[6.3, 6.7)</th>\n",
       "      <td>14</td>\n",
       "      <td>122</td>\n",
       "      <td>0.09333</td>\n",
       "      <td>0.81333</td>\n",
       "    </tr>\n",
       "    <tr>\n",
       "      <th>[6.7, 7.1)</th>\n",
       "      <td>17</td>\n",
       "      <td>139</td>\n",
       "      <td>0.11333</td>\n",
       "      <td>0.92667</td>\n",
       "    </tr>\n",
       "    <tr>\n",
       "      <th>[7.1, 7.5)</th>\n",
       "      <td>5</td>\n",
       "      <td>144</td>\n",
       "      <td>0.03333</td>\n",
       "      <td>0.96000</td>\n",
       "    </tr>\n",
       "    <tr>\n",
       "      <th>[7.5, 7.904)</th>\n",
       "      <td>6</td>\n",
       "      <td>150</td>\n",
       "      <td>0.04000</td>\n",
       "      <td>1.00000</td>\n",
       "    </tr>\n",
       "  </tbody>\n",
       "</table>\n",
       "</div>"
      ],
      "text/plain": [
       "col_0         frequency  cumulative_frequency  relative_frequency  \\\n",
       "Sepal.Length                                                        \n",
       "[4.3, 4.7)            9                     9             0.06000   \n",
       "[4.7, 5.1)           23                    32             0.15333   \n",
       "[5.1, 5.5)           20                    52             0.13333   \n",
       "[5.5, 5.9)           28                    80             0.18667   \n",
       "[5.9, 6.3)           28                   108             0.18667   \n",
       "[6.3, 6.7)           14                   122             0.09333   \n",
       "[6.7, 7.1)           17                   139             0.11333   \n",
       "[7.1, 7.5)            5                   144             0.03333   \n",
       "[7.5, 7.904)          6                   150             0.04000   \n",
       "\n",
       "col_0         cumulative_relative_frequency  \n",
       "Sepal.Length                                 \n",
       "[4.3, 4.7)                          0.06000  \n",
       "[4.7, 5.1)                          0.21333  \n",
       "[5.1, 5.5)                          0.34667  \n",
       "[5.5, 5.9)                          0.53333  \n",
       "[5.9, 6.3)                          0.72000  \n",
       "[6.3, 6.7)                          0.81333  \n",
       "[6.7, 7.1)                          0.92667  \n",
       "[7.1, 7.5)                          0.96000  \n",
       "[7.5, 7.904)                        1.00000  "
      ]
     },
     "execution_count": 147,
     "metadata": {},
     "output_type": "execute_result"
    }
   ],
   "source": [
    "# 연속형 변수의 도수 분포표\n",
    "# Sturges's Rule 에 따른 Binning \n",
    "n_data = df_iris['Sepal.Length'].count()\n",
    "n_bins = int(np.ceil(np.log2(n_data) + 1))\n",
    "bins = pd.cut(x=df_iris['Sepal.Length'], bins=n_bins, right=False)\n",
    "fdt = pd.crosstab(index=bins, columns='frequency')\n",
    "fdt['cumulative_frequency'] = fdt['frequency'].cumsum() # 누적도수\n",
    "fdt['relative_frequency'] = fdt['frequency'] / fdt['frequency'].sum() # 상대도수\n",
    "fdt['cumulative_relative_frequency'] = fdt['relative_frequency'].cumsum() # 누적상대도수\n",
    "fdt"
   ]
  },
  {
   "cell_type": "markdown",
   "metadata": {},
   "source": [
    "### 히스토그램 (Histogram) 및 Q-Q Plot (Quantile-Quantile Plot)\n",
    "\n",
    "도수분포표를 통해 구한 계급 구간을 이용하여 히스토그램으로 데이터를 시각화 하여 살펴 봅니다. 히스토그램을 통한 데이터 시각화를 통해 얻고자 하는 것은 데이터의 분포가 정규 분포를 따르는지에 대한 판단을 위해서 입니다. 히스토그램을 보았을때 종형의 분포를 나타낸다면 해당 데이터는 정규분포일 가능성이 높습니다. \n",
    "\n",
    "정규분포인지를 살펴보기 위한 다른 시각화 방식은 Q-Q Plot 입니다. Q-Q Plot 은 정규분포와 실제 데이터의 같은 Quantile 상의 데이터를 샘플링해 point를 찍어 봄으로써 두 분포가 유사한지를 시각화하여 판단하는 방식입니다. point 들이 직선을 이룬다면 두 분포는 같은 정규분포일 가능성이 높습니다.\n",
    "\n",
    "정규성 검증에 대한 부분은 이 외에도 Normality Test를 통한 통계적 검정을 통해서 좀더 정확하게 판단이 가능합니다. 이 부분은 추론 통계쪽에서 다루어 집니다."
   ]
  },
  {
   "cell_type": "code",
   "execution_count": 156,
   "metadata": {},
   "outputs": [
    {
     "data": {
      "text/plain": [
       "<AxesSubplot:>"
      ]
     },
     "execution_count": 156,
     "metadata": {},
     "output_type": "execute_result"
    },
    {
     "data": {
      "image/png": "[encoded data removed]",
      "text/plain": [
       "<Figure size 432x288 with 1 Axes>"
      ]
     },
     "metadata": {
      "needs_background": "light"
     },
     "output_type": "display_data"
    }
   ],
   "source": [
    "# Pandas를 이용한 시각화\n",
    "df_iris['Sepal.Length'].hist(bins=n_bins, grid=False, edgecolor='black')"
   ]
  },
  {
   "cell_type": "code",
   "execution_count": 157,
   "metadata": {},
   "outputs": [
    {
     "data": {
      "text/plain": [
       "Text(0.5, 1.0, 'bins = 9')"
      ]
     },
     "execution_count": 157,
     "metadata": {},
     "output_type": "execute_result"
    },
    {
     "data": {
      "image/png": "[encoded data removed]",
      "text/plain": [
       "<Figure size 432x288 with 1 Axes>"
      ]
     },
     "metadata": {
      "needs_background": "light"
     },
     "output_type": "display_data"
    }
   ],
   "source": [
    "# Seaborn을 이용한 시각화\n",
    "sns.histplot(x=df_iris['Sepal.Length'],bins=n_bins)\n",
    "plt.title(f'bins = {n_bins}')"
   ]
  },
  {
   "cell_type": "code",
   "execution_count": 161,
   "metadata": {},
   "outputs": [
    {
     "data": {
      "image/png": "[encoded data removed]",
      "text/plain": [
       "<Figure size 432x288 with 1 Axes>"
      ]
     },
     "metadata": {
      "needs_background": "light"
     },
     "output_type": "display_data"
    }
   ],
   "source": [
    "from statsmodels.graphics.gofplots import qqplot\n",
    "\n",
    "# q-q plot\n",
    "qqplot(df_iris['Sepal.Length'], line='s')\n",
    "plt.show()"
   ]
  },
  {
   "cell_type": "markdown",
   "metadata": {},
   "source": [
    "### Z-Score\n",
    "\n",
    "히스토그램을 통해 정규분포임을 확인하였다면, 표준 정규 분포를 이용하여 데이터가 분포상 어느 지점에 확률을 가지고 존재하는지를 Z-score를 이용한 표준화를 통해 확인할 수 있습니다.\n",
    "\n",
    "Z-score를 이용하면 평균과 표준편차가 다른 두 집단에 속한 데이터가 표준 정규 분포 상의 어느 확률 지점에 존재하는지 같은 기준을 통해 비교해 볼수 있게 됩니다. 예를 들면, 사내 어학연수 선발에서 토익성적만 있는 지원자와 토플성적만 있는 지원자 중 선발이 필요할 경우 직접적 비교가 어렵지만, 두 지원자의 점수를 Z-score로 표준화하여 같은 분포상에서 비교한다면 선발이 가능하게 됩니다.\n",
    "\n",
    "![](https://mathbitsnotebook.com/Algebra2/Statistics/zscorefule.png)\n",
    "![](https://mathbitsnotebook.com/Algebra2/Statistics/zscore3.png)\n",
    "\n",
    "https://mathbitsnotebook.com/Algebra2/Statistics/STzScores.html"
   ]
  },
  {
   "cell_type": "code",
   "execution_count": 169,
   "metadata": {},
   "outputs": [
    {
     "data": {
      "text/plain": [
       "array([-0.90068, -1.14302, -1.38535, -1.50652, -1.02185, -0.53718,\n",
       "       -1.50652, -1.02185, -1.74886, -1.14302, -0.53718, -1.26418,\n",
       "       -1.26418, -1.87002, -0.05251, -0.17367, -0.53718, -0.90068,\n",
       "       -0.17367, -0.90068, -0.53718, -0.90068, -1.50652, -0.90068,\n",
       "       -1.26418, -1.02185, -1.02185, -0.77951, -0.77951, -1.38535,\n",
       "       -1.26418, -0.53718, -0.77951, -0.41601, -1.14302, -1.02185,\n",
       "       -0.41601, -1.14302, -1.74886, -0.90068, -1.02185, -1.62769,\n",
       "       -1.74886, -1.02185, -0.90068, -1.26418, -0.90068, -1.50652,\n",
       "       -0.65835, -1.02185, 1.40151, 0.67450, 1.28034, -0.41601, 0.79567,\n",
       "       -0.17367, 0.55333, -1.14302, 0.91684, -0.77951, -1.02185, 0.06866,\n",
       "       0.18983, 0.31100, -0.29484, 1.03800, -0.29484, -0.05251, 0.43217,\n",
       "       -0.29484, 0.06866, 0.31100, 0.55333, 0.31100, 0.67450, 0.91684,\n",
       "       1.15917, 1.03800, 0.18983, -0.17367, -0.41601, -0.41601, -0.05251,\n",
       "       0.18983, -0.53718, 0.18983, 1.03800, 0.55333, -0.29484, -0.41601,\n",
       "       -0.41601, 0.31100, -0.05251, -1.02185, -0.29484, -0.17367,\n",
       "       -0.17367, 0.43217, -0.90068, -0.17367, 0.55333, -0.05251, 1.52268,\n",
       "       0.55333, 0.79567, 2.12852, -1.14302, 1.76501, 1.03800, 1.64384,\n",
       "       0.79567, 0.67450, 1.15917, -0.17367, -0.05251, 0.67450, 0.79567,\n",
       "       2.24968, 2.24968, 0.18983, 1.28034, -0.29484, 2.24968, 0.55333,\n",
       "       1.03800, 1.64384, 0.43217, 0.31100, 0.67450, 1.64384, 1.88618,\n",
       "       2.49202, 0.67450, 0.55333, 0.31100, 2.24968, 0.55333, 0.67450,\n",
       "       0.18983, 1.28034, 1.03800, 1.28034, -0.05251, 1.15917, 1.03800,\n",
       "       1.03800, 0.55333, 0.79567, 0.43217, 0.06866])"
      ]
     },
     "execution_count": 169,
     "metadata": {},
     "output_type": "execute_result"
    }
   ],
   "source": [
    "from scipy import stats\n",
    "\n",
    "stats.zscore(df_iris['Sepal.Length'])"
   ]
  },
  {
   "cell_type": "markdown",
   "metadata": {},
   "source": []
  }
 ],
 "metadata": {
  "kernelspec": {
   "display_name": "Python 3",
   "language": "python",
   "name": "python3"
  },
  "language_info": {
   "codemirror_mode": {
    "name": "ipython",
    "version": 3
   },
   "file_extension": ".py",
   "mimetype": "text/x-python",
   "name": "python",
   "nbconvert_exporter": "python",
   "pygments_lexer": "ipython3",
   "version": "3.8.9"
  },
  "nikola": {
   "category": "",
   "date": "2019-02-24",
   "description": "",
   "link": "",
   "slug": "ml-descriptive-statistics",
   "tags": "",
   "title": "Machine Learning - Descriptive Statistics",
   "type": "text"
  },
  "toc": {
   "base_numbering": 1,
   "nav_menu": {},
   "number_sections": true,
   "sideBar": true,
   "skip_h1_title": false,
   "title_cell": "Table of Contents",
   "title_sidebar": "Contents",
   "toc_cell": false,
   "toc_position": {},
   "toc_section_display": true,
   "toc_window_display": false
  }
 },
 "nbformat": 4,
 "nbformat_minor": 4
}
