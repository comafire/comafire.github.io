{
 "cells": [
  {
   "cell_type": "markdown",
   "metadata": {},
   "source": [
    "# Microsoft Azure Cloud Platform \n",
    "\n",
    "## Azure Notebooks\n",
    "\n",
    "소개\n",
    "* https://notebooks.azure.com/\n",
    "* 친숙한 Jupyter Notebook 환경을 제공하여 이질감 없이 사용 가능합니다.\n",
    "* 공짜 인스턴스(4GB 메모리/1GB 데이터 공간)를 계속 제공해주기 때문에 교육/학습용으로 추천합니다.\n",
    "* 개인적으로 프로젝트를 만들고 Github와도 연동이 가능합니다.\n",
    "\n",
    "메뉴얼\n",
    "* [빠른 시작: 로그인 및 사용자 ID 설정](https://docs.microsoft.com/ko-kr/azure/notebooks/quickstart-sign-in-azure-notebooks)\n",
    "* [빠른 시작: Notebook 만들기 및 공유](https://docs.microsoft.com/ko-kr/azure/notebooks/quickstart-create-share-jupyter-notebook)\n",
    "* [빠른 시작: Notebook 복제](https://docs.microsoft.com/ko-kr/azure/notebooks/quickstart-clone-jupyter-notebook)\n",
    "* [빠른 시작: 로컬 Jupyter Notebook 마이그레이션](https://docs.microsoft.com/ko-kr/azure/notebooks/quickstart-migrate-local-jupyter-notebook)\n",
    "* [빠른 시작: 사용자 지정 환경을 사용하여 프로젝트 만들기](https://docs.microsoft.com/ko-kr/azure/notebooks/quickstart-create-jupyter-notebook-project-environment)\n",
    "\n",
    "## Azure Databricks\n"
   ]
  },
  {
   "cell_type": "code",
   "execution_count": null,
   "metadata": {},
   "outputs": [],
   "source": []
  }
 ],
 "metadata": {
  "kernelspec": {
   "display_name": "Python 3",
   "language": "python",
   "name": "python3"
  },
  "language_info": {
   "codemirror_mode": {
    "name": "ipython",
    "version": 3
   },
   "file_extension": ".py",
   "mimetype": "text/x-python",
   "name": "python",
   "nbconvert_exporter": "python",
   "pygments_lexer": "ipython3",
   "version": "3.5.2"
  },
  "nikola": {
   "category": "",
   "date": "2018-07-01",
   "description": "",
   "link": "",
   "slug": "platform-azure-cloud",
   "tags": "",
   "title": "Data Technology Platform - Azure Cloud",
   "type": "text"
  },
  "toc": {
   "base_numbering": 1,
   "nav_menu": {},
   "number_sections": true,
   "sideBar": true,
   "skip_h1_title": false,
   "title_cell": "Table of Contents",
   "title_sidebar": "Contents",
   "toc_cell": false,
   "toc_position": {},
   "toc_section_display": true,
   "toc_window_display": false
  }
 },
 "nbformat": 4,
 "nbformat_minor": 2
}
