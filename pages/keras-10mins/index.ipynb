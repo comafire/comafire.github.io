{
 "cells": [
  {
   "cell_type": "markdown",
   "metadata": {},
   "source": [
    "# Keras\n",
    "\n",
    "TBD.."
   ]
  },
  {
   "cell_type": "code",
   "execution_count": 1,
   "metadata": {},
   "outputs": [
    {
     "data": {
      "text/html": [
       "<style>.container { width:100% !important; }</style>"
      ],
      "text/plain": [
       "<IPython.core.display.HTML object>"
      ]
     },
     "metadata": {},
     "output_type": "display_data"
    },
    {
     "name": "stdout",
     "output_type": "stream",
     "text": [
      "pandas ver=0.24.1\n",
      "numpy ver=1.16.2\n"
     ]
    }
   ],
   "source": [
    "from IPython.core.display import display, HTML\n",
    "display(HTML(\"<style>.container { width:100% !important; }</style>\"))\n",
    "\n",
    "%matplotlib inline\n",
    "import matplotlib.pyplot as plt\n",
    "\n",
    "import numpy as np\n",
    "np.set_printoptions(precision=5)\n",
    "\n",
    "import pandas as pd\n",
    "pd.set_option('display.max_rows', None) \n",
    "pd.set_option('display.max_columns', None) \n",
    "pd.set_option('display.max_colwidth', -1)\n",
    "pd.options.display.float_format = '{:,.5f}'.format\n",
    "\n",
    "print(\"pandas ver={}\".format(pd.__version__))\n",
    "print(\"numpy ver={}\".format(np.__version__))"
   ]
  },
  {
   "cell_type": "code",
   "execution_count": 27,
   "metadata": {},
   "outputs": [],
   "source": [
    "from keras import layers, models\n",
    "\n",
    "# Function API를 사용\n",
    "def dnn(n_i, n_hs, n_o):\n",
    "    i = layers.Input(shape = (n_i,))\n",
    "    for l, n_h in enumerate(n_hs):\n",
    "        if l == 0:\n",
    "            h = layers.Dense(n_h, activation = 'relu')(i)            \n",
    "        else:\n",
    "            h = layers.Dense(n_h, activation = 'relu')(h)    \n",
    "    o = layers.Dense(n_o, activation = 'softmax')(h)\n",
    "    m = models.Model(i, o)\n",
    "    m.compile(optimizer='rmsprop', loss='categorical_crossentropy', metrics=['accuracy'])\n",
    "    return m\n",
    "\n",
    "def dnn(n_i, n_hs, n_o):\n",
    "    m = models.Sequential()\n",
    "    m.add(layers.Dense(n_i, activation='relu', input_shape=(n_i,)))\n",
    "    for l, n_h in enumerate(n_hs):\n",
    "        if l == 0:\n",
    "            m.add(layers.Dense(n_h, activation='relu', input_shape=(n_i,)))\n",
    "        else:            \n",
    "            m.add(layers.Dense(n_h, activation='relu'))\n",
    "    m.add(layers.Dense(n_o, activation = 'softmax'))\n",
    "    m.compile(optimizer='rmsprop', loss='categorical_crossentropy', metrics=['accuracy'])\n",
    "    return m\n"
   ]
  },
  {
   "cell_type": "code",
   "execution_count": 11,
   "metadata": {},
   "outputs": [],
   "source": [
    "from keras.datasets import mnist\n",
    "\n",
    "# MNIST 샘플 데이터\n",
    "(np_train_xs, np_train_ys), (np_test_xs, np_test_ys) = mnist.load_data()"
   ]
  },
  {
   "cell_type": "code",
   "execution_count": 12,
   "metadata": {},
   "outputs": [
    {
     "name": "stdout",
     "output_type": "stream",
     "text": [
      "r=60000, w=28, h=28\n",
      "(60000, 784)\n",
      "(10000, 784)\n"
     ]
    }
   ],
   "source": [
    "r, w, h = np_train_xs.shape\n",
    "print(\"r={}, w={}, h={}\".format(r, w, h))\n",
    "\n",
    "# 전처리 - 28x28 2D 이미지를 DNN 모델링을 위해 784 1D 로 변환합니다. \n",
    "dim_x = w * h\n",
    "np_train_xs = np_train_xs.reshape(-1, dim_x).astype('float32')\n",
    "np_test_xs = np_test_xs.reshape(-1, dim_x).astype('float32')\n",
    "print(np_train_xs.shape)\n",
    "print(np_test_xs.shape)"
   ]
  },
  {
   "cell_type": "code",
   "execution_count": 13,
   "metadata": {},
   "outputs": [],
   "source": [
    "# 전처리 - 0~1 사이로 데이터 Min Max Scaling\n",
    "from sklearn import preprocessing\n",
    "\n",
    "scaler = preprocessing.MinMaxScaler(feature_range=(0, 1))\n",
    "np_train_xs = scaler.fit_transform(np_train_xs)\n",
    "np_test_xs = scaler.transform(np_test_xs)"
   ]
  },
  {
   "cell_type": "code",
   "execution_count": 14,
   "metadata": {},
   "outputs": [
    {
     "name": "stdout",
     "output_type": "stream",
     "text": [
      "(60000, 10)\n",
      "[[0. 0. 0. 0. 0. 1. 0. 0. 0. 0.]\n",
      " [1. 0. 0. 0. 0. 0. 0. 0. 0. 0.]\n",
      " [0. 0. 0. 0. 1. 0. 0. 0. 0. 0.]]\n"
     ]
    }
   ],
   "source": [
    "# 전처리 - 레이블을 Ont Hot 인코팅 \n",
    "from keras.utils import np_utils\n",
    "\n",
    "n_class = 10\n",
    "np_train_ys = np_utils.to_categorical(np_train_ys, n_class)\n",
    "np_test_ys = np_utils.to_categorical(np_test_ys, n_class)\n",
    "print(np_train_ys.shape)\n",
    "print(np_train_ys[:3])"
   ]
  },
  {
   "cell_type": "code",
   "execution_count": 26,
   "metadata": {},
   "outputs": [
    {
     "name": "stdout",
     "output_type": "stream",
     "text": [
      "_________________________________________________________________\n",
      "Layer (type)                 Output Shape              Param #   \n",
      "=================================================================\n",
      "input_2 (InputLayer)         (None, 784)               0         \n",
      "_________________________________________________________________\n",
      "dense_19 (Dense)             (None, 384)               301440    \n",
      "_________________________________________________________________\n",
      "dense_20 (Dense)             (None, 128)               49280     \n",
      "_________________________________________________________________\n",
      "dense_21 (Dense)             (None, 64)                8256      \n",
      "_________________________________________________________________\n",
      "dense_22 (Dense)             (None, 10)                650       \n",
      "=================================================================\n",
      "Total params: 359,626\n",
      "Trainable params: 359,626\n",
      "Non-trainable params: 0\n",
      "_________________________________________________________________\n"
     ]
    }
   ],
   "source": [
    "model = dnn(n_i = dim_x, n_hs = [384, 128, 64], n_o = n_class)\n",
    "model.summary()"
   ]
  },
  {
   "cell_type": "code",
   "execution_count": 28,
   "metadata": {},
   "outputs": [
    {
     "name": "stdout",
     "output_type": "stream",
     "text": [
      "_________________________________________________________________\n",
      "Layer (type)                 Output Shape              Param #   \n",
      "=================================================================\n",
      "dense_23 (Dense)             (None, 784)               615440    \n",
      "_________________________________________________________________\n",
      "dense_24 (Dense)             (None, 384)               301440    \n",
      "_________________________________________________________________\n",
      "dense_25 (Dense)             (None, 128)               49280     \n",
      "_________________________________________________________________\n",
      "dense_26 (Dense)             (None, 64)                8256      \n",
      "_________________________________________________________________\n",
      "dense_27 (Dense)             (None, 10)                650       \n",
      "=================================================================\n",
      "Total params: 975,066\n",
      "Trainable params: 975,066\n",
      "Non-trainable params: 0\n",
      "_________________________________________________________________\n"
     ]
    }
   ],
   "source": [
    "model = dnn(n_i = dim_x, n_hs = [384, 128, 64], n_o = n_class)\n",
    "model.summary()"
   ]
  },
  {
   "cell_type": "code",
   "execution_count": 29,
   "metadata": {},
   "outputs": [
    {
     "name": "stdout",
     "output_type": "stream",
     "text": [
      "Train on 48000 samples, validate on 12000 samples\n",
      "Epoch 1/10\n",
      "48000/48000 [==============================] - 4s 78us/step - loss: 0.2714 - acc: 0.9153 - val_loss: 0.1277 - val_acc: 0.9613\n",
      "Epoch 2/10\n",
      "48000/48000 [==============================] - 3s 72us/step - loss: 0.0984 - acc: 0.9699 - val_loss: 0.1098 - val_acc: 0.9699\n",
      "Epoch 3/10\n",
      "48000/48000 [==============================] - 3s 72us/step - loss: 0.0697 - acc: 0.9798 - val_loss: 0.1064 - val_acc: 0.9724\n",
      "Epoch 4/10\n",
      "48000/48000 [==============================] - 3s 72us/step - loss: 0.0511 - acc: 0.9849 - val_loss: 0.1040 - val_acc: 0.9757\n",
      "Epoch 5/10\n",
      "48000/48000 [==============================] - 3s 72us/step - loss: 0.0431 - acc: 0.9878 - val_loss: 0.1122 - val_acc: 0.9767\n",
      "Epoch 6/10\n",
      "48000/48000 [==============================] - 3s 72us/step - loss: 0.0339 - acc: 0.9903 - val_loss: 0.1240 - val_acc: 0.9745\n",
      "Epoch 7/10\n",
      "48000/48000 [==============================] - 3s 72us/step - loss: 0.0289 - acc: 0.9916 - val_loss: 0.1205 - val_acc: 0.9778\n",
      "Epoch 8/10\n",
      "48000/48000 [==============================] - 3s 72us/step - loss: 0.0253 - acc: 0.9931 - val_loss: 0.1440 - val_acc: 0.9736\n",
      "Epoch 9/10\n",
      "48000/48000 [==============================] - 3s 72us/step - loss: 0.0215 - acc: 0.9944 - val_loss: 0.1560 - val_acc: 0.9758\n",
      "Epoch 10/10\n",
      "48000/48000 [==============================] - 3s 72us/step - loss: 0.0219 - acc: 0.9943 - val_loss: 0.1457 - val_acc: 0.9793\n",
      "10000/10000 [==============================] - 0s 19us/step\n",
      "[0.13776039661262415, 0.9804000073671341]\n"
     ]
    }
   ],
   "source": [
    "history = model.fit(np_train_xs, np_train_ys, epochs=10, batch_size=100, validation_split=0.2)\n",
    "eval = model.evaluate(np_test_xs, np_test_ys, batch_size=100)\n",
    "print(eval)"
   ]
  }
 ],
 "metadata": {
  "kernelspec": {
   "display_name": "Python 3",
   "language": "python",
   "name": "python3"
  },
  "language_info": {
   "codemirror_mode": {
    "name": "ipython",
    "version": 3
   },
   "file_extension": ".py",
   "mimetype": "text/x-python",
   "name": "python",
   "nbconvert_exporter": "python",
   "pygments_lexer": "ipython3",
   "version": "3.5.2"
  },
  "nikola": {
   "category": "",
   "date": "2019-03-09",
   "description": "",
   "link": "",
   "slug": "keras-10mins",
   "tags": "",
   "title": "Keras 10분만에 훑어보기",
   "type": "text"
  },
  "notebookId": 2469278771832403,
  "toc": {
   "base_numbering": 1,
   "nav_menu": {},
   "number_sections": true,
   "sideBar": true,
   "skip_h1_title": false,
   "title_cell": "Table of Contents",
   "title_sidebar": "Contents",
   "toc_cell": false,
   "toc_position": {},
   "toc_section_display": true,
   "toc_window_display": false
  }
 },
 "nbformat": 4,
 "nbformat_minor": 2
}
