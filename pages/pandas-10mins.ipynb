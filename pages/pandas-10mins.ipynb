{
 "cells": [
  {
   "cell_type": "markdown",
   "metadata": {},
   "source": [
    "# Pandas\n",
    "\n",
    "참조: https://pandas.pydata.org/pandas-docs/stable/getting_started/10min.html"
   ]
  },
  {
   "cell_type": "code",
   "execution_count": 1,
   "metadata": {},
   "outputs": [
    {
     "name": "stdout",
     "output_type": "stream",
     "text": [
      "pandas ver=0.24.1\n",
      "numpy ver=1.16.1\n"
     ]
    }
   ],
   "source": [
    "import pandas as pd\n",
    "import numpy as np\n",
    "import matplotlib.pyplot as plt\n",
    "\n",
    "print(\"pandas ver={}\".format(pd.__version__))\n",
    "print(\"numpy ver={}\".format(np.__version__))"
   ]
  },
  {
   "cell_type": "markdown",
   "metadata": {},
   "source": [
    "# Series, DataFrame\n",
    "\n",
    "* Series: 1차원 데이터(리스트 형태)를 표현하는 구조\n",
    "* DataFrame: 2차원 데이터(테이블 형태)를 표현하는 구조"
   ]
  },
  {
   "cell_type": "code",
   "execution_count": 2,
   "metadata": {},
   "outputs": [
    {
     "name": "stdout",
     "output_type": "stream",
     "text": [
      "0    1.0\n",
      "1    3.0\n",
      "2    5.0\n",
      "3    NaN\n",
      "4    6.0\n",
      "5    8.0\n",
      "dtype: float64\n",
      "DatetimeIndex(['2013-01-01', '2013-01-02', '2013-01-03', '2013-01-04',\n",
      "               '2013-01-05', '2013-01-06'],\n",
      "              dtype='datetime64[ns]', freq='D')\n",
      "['A', 'B', 'C', 'D']\n",
      "[[-1.37416915 -2.27666159 -1.92710789  0.39225219]\n",
      " [-1.43430714 -1.17877381 -0.43712799 -0.15658588]\n",
      " [-0.14737309 -0.07075856  0.74947336  0.00773585]\n",
      " [-0.32495741 -1.10050982 -0.42845456 -0.37720834]\n",
      " [ 0.35053715 -1.09262979  1.52373942 -0.07198803]\n",
      " [ 0.05565495  0.28766312 -0.9130464   0.87188832]]\n",
      "                   A         B         C         D\n",
      "2013-01-01 -1.374169 -2.276662 -1.927108  0.392252\n",
      "2013-01-02 -1.434307 -1.178774 -0.437128 -0.156586\n",
      "2013-01-03 -0.147373 -0.070759  0.749473  0.007736\n",
      "2013-01-04 -0.324957 -1.100510 -0.428455 -0.377208\n",
      "2013-01-05  0.350537 -1.092630  1.523739 -0.071988\n",
      "2013-01-06  0.055655  0.287663 -0.913046  0.871888\n",
      "     A          B    C  D      E    F\n",
      "0  1.0 2013-01-02  1.0  3   test  foo\n",
      "1  1.0 2013-01-02  1.0  3  train  foo\n",
      "2  1.0 2013-01-02  1.0  3   test  foo\n",
      "3  1.0 2013-01-02  1.0  3  train  foo\n"
     ]
    }
   ],
   "source": [
    "# Series\n",
    "s = pd.Series([1,3,5,np.nan,6,8])\n",
    "print(s)\n",
    "\n",
    "# DataFrame by Numpy Array\n",
    "index = pd.date_range('20130101', periods=6)\n",
    "print(index)\n",
    "\n",
    "columns = list('ABCD')\n",
    "print(columns)\n",
    "\n",
    "data = np.random.randn(6, 4)\n",
    "print(data)\n",
    "\n",
    "df = pd.DataFrame(data, index=index, columns=columns)\n",
    "print(df)\n",
    "\n",
    "# DataFrome by Dictonary\n",
    "df2 = pd.DataFrame({\n",
    "  'A': 1.,\n",
    "  'B': pd.Timestamp('20130102'),\n",
    "  'C': pd.Series(1, index=list(range(4)), dtype='float32'),\n",
    "  'D': np.array([3] * 4, dtype='int32'),\n",
    "  'E': pd.Categorical([\"test\", \"train\", \"test\", \"train\"]),\n",
    "  'F': 'foo'\n",
    "})\n",
    "print(df2)"
   ]
  },
  {
   "cell_type": "markdown",
   "metadata": {},
   "source": [
    "# DataFrame 살펴보기"
   ]
  },
  {
   "cell_type": "code",
   "execution_count": 3,
   "metadata": {},
   "outputs": [
    {
     "name": "stdout",
     "output_type": "stream",
     "text": [
      "A           float64\n",
      "B    datetime64[ns]\n",
      "C           float32\n",
      "D             int32\n",
      "E          category\n",
      "F            object\n",
      "dtype: object\n",
      "<class 'pandas.core.frame.DataFrame'>\n",
      "Int64Index: 4 entries, 0 to 3\n",
      "Data columns (total 6 columns):\n",
      "A    4 non-null float64\n",
      "B    4 non-null datetime64[ns]\n",
      "C    4 non-null float32\n",
      "D    4 non-null int32\n",
      "E    4 non-null category\n",
      "F    4 non-null object\n",
      "dtypes: category(1), datetime64[ns](1), float32(1), float64(1), int32(1), object(1)\n",
      "memory usage: 260.0+ bytes\n",
      "None\n"
     ]
    }
   ],
   "source": [
    "# # DataFrame 컬럼 정보\n",
    "print(df2.dtypes)\n",
    "print(df2.info())"
   ]
  },
  {
   "cell_type": "code",
   "execution_count": 4,
   "metadata": {},
   "outputs": [
    {
     "name": "stdout",
     "output_type": "stream",
     "text": [
      "                   A         B         C         D\n",
      "2013-01-01 -1.374169 -2.276662 -1.927108  0.392252\n",
      "2013-01-02 -1.434307 -1.178774 -0.437128 -0.156586\n",
      "2013-01-03 -0.147373 -0.070759  0.749473  0.007736\n",
      "2013-01-04 -0.324957 -1.100510 -0.428455 -0.377208\n",
      "2013-01-05  0.350537 -1.092630  1.523739 -0.071988\n",
      "                   A         B         C         D\n",
      "2013-01-04 -0.324957 -1.100510 -0.428455 -0.377208\n",
      "2013-01-05  0.350537 -1.092630  1.523739 -0.071988\n",
      "2013-01-06  0.055655  0.287663 -0.913046  0.871888\n",
      "DatetimeIndex(['2013-01-01', '2013-01-02', '2013-01-03', '2013-01-04',\n",
      "               '2013-01-05', '2013-01-06'],\n",
      "              dtype='datetime64[ns]', freq='D')\n",
      "Index(['A', 'B', 'C', 'D'], dtype='object')\n",
      "[[-1.37416915 -2.27666159 -1.92710789  0.39225219]\n",
      " [-1.43430714 -1.17877381 -0.43712799 -0.15658588]\n",
      " [-0.14737309 -0.07075856  0.74947336  0.00773585]\n",
      " [-0.32495741 -1.10050982 -0.42845456 -0.37720834]\n",
      " [ 0.35053715 -1.09262979  1.52373942 -0.07198803]\n",
      " [ 0.05565495  0.28766312 -0.9130464   0.87188832]]\n",
      "<class 'numpy.ndarray'>\n"
     ]
    }
   ],
   "source": [
    "# 데이터 살펴보기\n",
    "print(df.head())\n",
    "print(df.tail(3))\n",
    "\n",
    "# DataFrame 요소 살펴보기\n",
    "print(df.index)\n",
    "print(df.columns)\n",
    "print(df.values)\n",
    "print(type(df.values))"
   ]
  },
  {
   "cell_type": "markdown",
   "metadata": {},
   "source": [
    "# DataFrame 조작하기\n",
    "\n",
    "## Selection"
   ]
  },
  {
   "cell_type": "code",
   "execution_count": 5,
   "metadata": {},
   "outputs": [
    {
     "name": "stdout",
     "output_type": "stream",
     "text": [
      "                   A         B         C         D\n",
      "2013-01-01 -1.374169 -2.276662 -1.927108  0.392252\n",
      "2013-01-02 -1.434307 -1.178774 -0.437128 -0.156586\n",
      "2013-01-01   -1.374169\n",
      "2013-01-02   -1.434307\n",
      "2013-01-03   -0.147373\n",
      "2013-01-04   -0.324957\n",
      "2013-01-05    0.350537\n",
      "Freq: D, Name: A, dtype: float64\n",
      "                   A         B\n",
      "2013-01-01 -1.374169 -2.276662\n",
      "2013-01-02 -1.434307 -1.178774\n",
      "2013-01-03 -0.147373 -0.070759\n",
      "2013-01-04 -0.324957 -1.100510\n",
      "2013-01-05  0.350537 -1.092630\n"
     ]
    }
   ],
   "source": [
    "# 행 슬라이싱\n",
    "print(df[0:2])\n",
    "\n",
    "# 열 선택\n",
    "print(df['A'].head())\n",
    "\n",
    "# 열 다중선택\n",
    "print(df[['A', 'B']].head())"
   ]
  },
  {
   "cell_type": "code",
   "execution_count": 6,
   "metadata": {},
   "outputs": [
    {
     "name": "stdout",
     "output_type": "stream",
     "text": [
      "-1.3741691506673388\n",
      "A   -1.374169\n",
      "B   -2.276662\n",
      "C   -1.927108\n",
      "D    0.392252\n",
      "Name: 2013-01-01 00:00:00, dtype: float64\n",
      "                   A         B         C         D\n",
      "2013-01-01 -1.374169 -2.276662 -1.927108  0.392252\n",
      "2013-01-02 -1.434307 -1.178774 -0.437128 -0.156586\n",
      "2013-01-03 -0.147373 -0.070759  0.749473  0.007736\n",
      "2013-01-01   -1.374169\n",
      "2013-01-02   -1.434307\n",
      "2013-01-03   -0.147373\n",
      "2013-01-04   -0.324957\n",
      "2013-01-05    0.350537\n",
      "Freq: D, Name: A, dtype: float64\n",
      "                   A         B\n",
      "2013-01-01 -1.374169 -2.276662\n",
      "2013-01-02 -1.434307 -1.178774\n",
      "2013-01-03 -0.147373 -0.070759\n",
      "2013-01-04 -0.324957 -1.100510\n",
      "2013-01-05  0.350537 -1.092630\n",
      "                   A         B\n",
      "2013-01-01 -1.374169 -2.276662\n",
      "2013-01-02 -1.434307 -1.178774\n",
      "2013-01-03 -0.147373 -0.070759\n"
     ]
    }
   ],
   "source": [
    "# Label 을 이용한 선택 .loc()\n",
    "\n",
    "# 셀 선택\n",
    "print(df.loc['2013-01-01', 'A'])\n",
    "\n",
    "# 행 선택\n",
    "print(df.loc['2013-01-01'])\n",
    "\n",
    "# 행 슬라이싱\n",
    "print(df.loc['2013-01-01':'2013-01-03'])\n",
    "\n",
    "# 열 선택\n",
    "print(df.loc[:, 'A'].head())\n",
    "\n",
    "# 열 다중 선택\n",
    "print(df.loc[:, ['A', 'B']].head())\n",
    "\n",
    "# 행, 열 다중 선택\n",
    "print(df.loc['2013-01-01':'2013-01-03', ['A', 'B']])"
   ]
  },
  {
   "cell_type": "code",
   "execution_count": 7,
   "metadata": {},
   "outputs": [
    {
     "name": "stdout",
     "output_type": "stream",
     "text": [
      "-1.3741691506673388\n",
      "A   -1.374169\n",
      "B   -2.276662\n",
      "C   -1.927108\n",
      "D    0.392252\n",
      "Name: 2013-01-01 00:00:00, dtype: float64\n",
      "                   A         B         C         D\n",
      "2013-01-01 -1.374169 -2.276662 -1.927108  0.392252\n",
      "2013-01-02 -1.434307 -1.178774 -0.437128 -0.156586\n",
      "2013-01-03 -0.147373 -0.070759  0.749473  0.007736\n",
      "2013-01-01   -1.374169\n",
      "2013-01-02   -1.434307\n",
      "2013-01-03   -0.147373\n",
      "2013-01-04   -0.324957\n",
      "2013-01-05    0.350537\n",
      "Freq: D, Name: A, dtype: float64\n",
      "                   A         B\n",
      "2013-01-01 -1.374169 -2.276662\n",
      "2013-01-02 -1.434307 -1.178774\n",
      "2013-01-03 -0.147373 -0.070759\n",
      "2013-01-04 -0.324957 -1.100510\n",
      "2013-01-05  0.350537 -1.092630\n",
      "                   A         B\n",
      "2013-01-01 -1.374169 -2.276662\n",
      "2013-01-02 -1.434307 -1.178774\n",
      "2013-01-03 -0.147373 -0.070759\n",
      "                   A         B\n",
      "2013-01-02 -1.434307 -1.178774\n",
      "2013-01-04 -0.324957 -1.100510\n"
     ]
    }
   ],
   "source": [
    "# Position을 이용한 선택 .iloc()\n",
    "\n",
    "# 셀 선택\n",
    "print(df.iloc[0, 0])\n",
    "\n",
    "# 행 선택\n",
    "print(df.iloc[0])\n",
    "\n",
    "# 행 슬라이싱\n",
    "print(df.iloc[0:3])\n",
    "\n",
    "# 열 선택\n",
    "print(df.iloc[:, 0].head())\n",
    "\n",
    "# 열 다중 선택\n",
    "print(df.iloc[:, 0:2].head())\n",
    "\n",
    "# 행, 열 다중 선택\n",
    "print(df.iloc[0:3, 0:2])\n",
    "\n",
    "print(df.iloc[[1, 3], [0, 1]])"
   ]
  },
  {
   "cell_type": "code",
   "execution_count": 8,
   "metadata": {},
   "outputs": [
    {
     "name": "stdout",
     "output_type": "stream",
     "text": [
      "                   A         B         C         D\n",
      "2013-01-05  0.350537 -1.092630  1.523739 -0.071988\n",
      "2013-01-06  0.055655  0.287663 -0.913046  0.871888\n",
      "                   A         B         C         D\n",
      "2013-01-01       NaN       NaN       NaN  0.392252\n",
      "2013-01-02       NaN       NaN       NaN       NaN\n",
      "2013-01-03       NaN       NaN  0.749473  0.007736\n",
      "2013-01-04       NaN       NaN       NaN       NaN\n",
      "2013-01-05  0.350537       NaN  1.523739       NaN\n",
      "2013-01-06  0.055655  0.287663       NaN  0.871888\n",
      "2013-01-01    False\n",
      "2013-01-02    False\n",
      "2013-01-03     True\n",
      "2013-01-04    False\n",
      "2013-01-05     True\n",
      "2013-01-06    False\n",
      "Freq: D, Name: E, dtype: bool\n",
      "                   A         B         C         D     E\n",
      "2013-01-03 -0.147373 -0.070759  0.749473  0.007736   two\n",
      "2013-01-05  0.350537 -1.092630  1.523739 -0.071988  four\n"
     ]
    }
   ],
   "source": [
    "# 조건을 이용한 선택\n",
    "\n",
    "# 열 단위\n",
    "print(df[df['A'] > 0])\n",
    "\n",
    "# DataFrame 단위\n",
    "print(df[df > 0])\n",
    "\n",
    "# Boolean 리스트를 이용\n",
    "df2 = df.copy()\n",
    "df2['E'] = ['one', 'one', 'two', 'three', 'four', 'three']\n",
    "index = df2['E'].isin(['two','four'])\n",
    "print(index)\n",
    "print(df2[df2['E'].isin(['two','four'])])"
   ]
  },
  {
   "cell_type": "markdown",
   "metadata": {},
   "source": [
    "## Setting"
   ]
  },
  {
   "cell_type": "code",
   "execution_count": 9,
   "metadata": {},
   "outputs": [
    {
     "name": "stdout",
     "output_type": "stream",
     "text": [
      "                   A         B         C         D    F\n",
      "2013-01-01 -1.374169 -2.276662 -1.927108  0.392252  NaN\n",
      "2013-01-02 -1.434307 -1.178774 -0.437128 -0.156586  1.0\n",
      "2013-01-03 -0.147373 -0.070759  0.749473  0.007736  2.0\n",
      "2013-01-04 -0.324957 -1.100510 -0.428455 -0.377208  3.0\n",
      "2013-01-05  0.350537 -1.092630  1.523739 -0.071988  4.0\n",
      "2013-01-06  0.055655  0.287663 -0.913046  0.871888  5.0\n",
      "                   A         B         C         D    F\n",
      "2013-01-01 -1.374169 -2.276662 -1.927108  0.392252  NaN\n",
      "2013-01-02 -1.434307 -1.178774 -0.437128 -0.156586  0.0\n",
      "2013-01-03 -0.147373 -0.070759  0.749473  0.007736  1.0\n",
      "2013-01-04 -0.324957 -1.100510 -0.428455 -0.377208  3.0\n",
      "2013-01-05  0.350537 -1.092630  1.523739 -0.071988  4.0\n",
      "2013-01-06  0.055655  0.287663 -0.913046  0.871888  5.0\n",
      "                   A         B         C         D    F\n",
      "2013-01-01 -1.374169 -2.276662 -1.927108  0.392252  NaN\n",
      "2013-01-02 -1.434307 -1.178774 -0.437128 -0.156586  5.0\n",
      "2013-01-03 -0.147373 -0.070759  0.749473  0.007736  5.0\n",
      "2013-01-04 -0.324957 -1.100510 -0.428455 -0.377208  5.0\n",
      "2013-01-05  0.350537 -1.092630  1.523739 -0.071988  5.0\n",
      "2013-01-06  0.055655  0.287663 -0.913046  0.871888  5.0\n",
      "                   A         B         C         D    F\n",
      "2013-01-01 -1.374169 -2.276662 -1.927108 -0.392252  NaN\n",
      "2013-01-02 -1.434307 -1.178774 -0.437128 -0.156586 -5.0\n",
      "2013-01-03 -0.147373 -0.070759 -0.749473 -0.007736 -5.0\n",
      "2013-01-04 -0.324957 -1.100510 -0.428455 -0.377208 -5.0\n",
      "2013-01-05 -0.350537 -1.092630 -1.523739 -0.071988 -5.0\n",
      "2013-01-06 -0.055655 -0.287663 -0.913046 -0.871888 -5.0\n"
     ]
    }
   ],
   "source": [
    "# 값 설정\n",
    "s1 = pd.Series([1,2,3,4,5,6], index=pd.date_range('20130102', periods=6))\n",
    "df['F'] = s1\n",
    "print(df)\n",
    "\n",
    "# Label에 의한 값 설정\n",
    "df.at['2013-01-02', 'F'] = 0\n",
    "\n",
    "# Position에 의한 값 설정\n",
    "df.iat[2,-1] = 1\n",
    "\n",
    "print(df)\n",
    "\n",
    "# 배열을 이용한 값 설정\n",
    "df.loc[1:, 'F'] = np.array([5] * (len(df) - 1))\n",
    "print(df)\n",
    "\n",
    "# 조건을 통한 값 설정\n",
    "df2 = df.copy()\n",
    "df2[df2 > 0] = -df2\n",
    "print(df2)"
   ]
  },
  {
   "cell_type": "markdown",
   "metadata": {},
   "source": [
    "## Missing Value"
   ]
  },
  {
   "cell_type": "code",
   "execution_count": 10,
   "metadata": {},
   "outputs": [
    {
     "name": "stdout",
     "output_type": "stream",
     "text": [
      "                   A         B         C         D    F    E\n",
      "2013-01-01 -1.374169 -2.276662 -1.927108  0.392252  NaN  1.0\n",
      "2013-01-02 -1.434307 -1.178774 -0.437128 -0.156586  5.0  1.0\n",
      "2013-01-03 -0.147373 -0.070759  0.749473  0.007736  5.0  NaN\n",
      "2013-01-04 -0.324957 -1.100510 -0.428455 -0.377208  5.0  NaN\n",
      "                   A         B         C         D    F    E\n",
      "2013-01-02 -1.434307 -1.178774 -0.437128 -0.156586  5.0  1.0\n",
      "                   A         B         C         D    F    E\n",
      "2013-01-01 -1.374169 -2.276662 -1.927108  0.392252  5.0  1.0\n",
      "2013-01-02 -1.434307 -1.178774 -0.437128 -0.156586  5.0  1.0\n",
      "2013-01-03 -0.147373 -0.070759  0.749473  0.007736  5.0  5.0\n",
      "2013-01-04 -0.324957 -1.100510 -0.428455 -0.377208  5.0  5.0\n",
      "                A      B      C      D      F      E\n",
      "2013-01-01  False  False  False  False   True  False\n",
      "2013-01-02  False  False  False  False  False  False\n",
      "2013-01-03  False  False  False  False  False   True\n",
      "2013-01-04  False  False  False  False  False   True\n"
     ]
    }
   ],
   "source": [
    "index = pd.date_range('20130101', periods=6)\n",
    "df1 = df.reindex(index=index[0:4], columns=list(df.columns) + ['E'])\n",
    "df1.loc[index[0]:index[1],'E'] = 1\n",
    "print(df1)\n",
    "\n",
    "# 결측치 제거하기\n",
    "print(df1.dropna(how='any'))\n",
    "\n",
    "# 결측치 채워넣기\n",
    "print(df1.fillna(value=5))\n",
    "\n",
    "# 결측치 위치보기\n",
    "print(df1.isnull())"
   ]
  },
  {
   "cell_type": "markdown",
   "metadata": {},
   "source": [
    "## Operation"
   ]
  },
  {
   "cell_type": "code",
   "execution_count": 11,
   "metadata": {},
   "outputs": [
    {
     "name": "stdout",
     "output_type": "stream",
     "text": [
      "              A         B         C         D    F\n",
      "count  6.000000  6.000000  6.000000  6.000000  5.0\n",
      "mean  -0.479102 -0.905278 -0.238754  0.111016  5.0\n",
      "std    0.751217  0.910850  1.221763  0.449923  0.0\n",
      "min   -1.434307 -2.276662 -1.927108 -0.377208  5.0\n",
      "25%   -1.111866 -1.159208 -0.794067 -0.135436  5.0\n",
      "50%   -0.236165 -1.096570 -0.432791 -0.032126  5.0\n",
      "75%    0.004898 -0.326226  0.454991  0.296123  5.0\n",
      "max    0.350537  0.287663  1.523739  0.871888  5.0\n",
      "A   -0.479102\n",
      "B   -0.905278\n",
      "C   -0.238754\n",
      "D    0.111016\n",
      "F    5.000000\n",
      "dtype: float64\n",
      "2013-01-01   -1.296422\n",
      "2013-01-02    0.358641\n",
      "2013-01-03    1.107816\n",
      "2013-01-04    0.553774\n",
      "2013-01-05    1.141932\n",
      "2013-01-06    1.060432\n",
      "Freq: D, dtype: float64\n",
      "2013-01-01    NaN\n",
      "2013-01-02    NaN\n",
      "2013-01-03    1.0\n",
      "2013-01-04    3.0\n",
      "2013-01-05    5.0\n",
      "2013-01-06    NaN\n",
      "Freq: D, dtype: float64\n",
      "                   A         B         C         D    F\n",
      "2013-01-01       NaN       NaN       NaN       NaN  NaN\n",
      "2013-01-02       NaN       NaN       NaN       NaN  NaN\n",
      "2013-01-03 -1.147373 -1.070759 -0.250527 -0.992264  4.0\n",
      "2013-01-04 -3.324957 -4.100510 -3.428455 -3.377208  2.0\n",
      "2013-01-05 -4.649463 -6.092630 -3.476261 -5.071988  0.0\n",
      "2013-01-06       NaN       NaN       NaN       NaN  NaN\n"
     ]
    }
   ],
   "source": [
    "# DataFrame 통계확인\n",
    "print(df.describe())\n",
    "\n",
    "# 열 별 통계\n",
    "print(df.mean())\n",
    "\n",
    "# 행 별 통계\n",
    "print(df.mean(1))\n",
    "\n",
    "# DataFrame 연산\n",
    "s = pd.Series([1,3,5,np.nan,6,8], index=index).shift(2)\n",
    "print(s)\n",
    "print(df.sub(s, axis='index'))"
   ]
  },
  {
   "cell_type": "code",
   "execution_count": 12,
   "metadata": {},
   "outputs": [
    {
     "name": "stdout",
     "output_type": "stream",
     "text": [
      "   2013-01-01  2013-01-02  2013-01-03  2013-01-04  2013-01-05  2013-01-06\n",
      "A   -1.374169   -1.434307   -0.147373   -0.324957    0.350537    0.055655\n",
      "B   -2.276662   -1.178774   -0.070759   -1.100510   -1.092630    0.287663\n",
      "C   -1.927108   -0.437128    0.749473   -0.428455    1.523739   -0.913046\n",
      "D    0.392252   -0.156586    0.007736   -0.377208   -0.071988    0.871888\n",
      "F         NaN    5.000000    5.000000    5.000000    5.000000    5.000000\n"
     ]
    }
   ],
   "source": [
    "# DataFrame Transpose(전치, 열과행치환)\n",
    "print(df.T)"
   ]
  },
  {
   "cell_type": "code",
   "execution_count": 13,
   "metadata": {},
   "outputs": [
    {
     "name": "stdout",
     "output_type": "stream",
     "text": [
      "              F         D         C         B         A\n",
      "2013-01-01  NaN  0.392252 -1.927108 -2.276662 -1.374169\n",
      "2013-01-02  5.0 -0.156586 -0.437128 -1.178774 -1.434307\n",
      "2013-01-03  5.0  0.007736  0.749473 -0.070759 -0.147373\n",
      "2013-01-04  5.0 -0.377208 -0.428455 -1.100510 -0.324957\n",
      "2013-01-05  5.0 -0.071988  1.523739 -1.092630  0.350537\n",
      "2013-01-06  5.0  0.871888 -0.913046  0.287663  0.055655\n",
      "                   A         B         C         D    F\n",
      "2013-01-01 -1.374169 -2.276662 -1.927108  0.392252  NaN\n",
      "2013-01-02 -1.434307 -1.178774 -0.437128 -0.156586  5.0\n",
      "2013-01-04 -0.324957 -1.100510 -0.428455 -0.377208  5.0\n",
      "2013-01-05  0.350537 -1.092630  1.523739 -0.071988  5.0\n",
      "2013-01-03 -0.147373 -0.070759  0.749473  0.007736  5.0\n",
      "2013-01-06  0.055655  0.287663 -0.913046  0.871888  5.0\n"
     ]
    }
   ],
   "source": [
    "# 축별로 정렬\n",
    "print(df.sort_index(axis=1, ascending=False))\n",
    "\n",
    "# 값별로 정렬\n",
    "print(df.sort_values(by='B'))"
   ]
  },
  {
   "cell_type": "code",
   "execution_count": 14,
   "metadata": {},
   "outputs": [
    {
     "name": "stdout",
     "output_type": "stream",
     "text": [
      "                   A         B         C         D     F\n",
      "2013-01-01 -1.374169 -2.276662 -1.927108  0.392252   NaN\n",
      "2013-01-02 -2.808476 -3.455435 -2.364236  0.235666   5.0\n",
      "2013-01-03 -2.955849 -3.526194 -1.614763  0.243402  10.0\n",
      "2013-01-04 -3.280807 -4.626704 -2.043217 -0.133806  15.0\n",
      "2013-01-05 -2.930270 -5.719334 -0.519478 -0.205794  20.0\n",
      "2013-01-06 -2.874615 -5.431670 -1.432524  0.666094  25.0\n",
      "A    1.784844\n",
      "B    2.564325\n",
      "C    3.450847\n",
      "D    1.249097\n",
      "F    0.000000\n",
      "dtype: float64\n",
      "                   A         B         C         D         F\n",
      "2013-01-01 -1.374169 -3.650831 -5.577939 -5.185686       NaN\n",
      "2013-01-02 -1.434307 -2.613081 -3.050209 -3.206795  1.793205\n",
      "2013-01-03 -0.147373 -0.218132  0.531342  0.539078  5.539078\n",
      "2013-01-04 -0.324957 -1.425467 -1.853922 -2.231130  2.768870\n",
      "2013-01-05  0.350537 -0.742093  0.781647  0.709659  5.709659\n",
      "2013-01-06  0.055655  0.343318 -0.569728  0.302160  5.302160\n",
      "2013-01-01    2.668914\n",
      "2013-01-02    6.434307\n",
      "2013-01-03    5.147373\n",
      "2013-01-04    6.100510\n",
      "2013-01-05    6.092630\n",
      "2013-01-06    5.913046\n",
      "Freq: D, dtype: float64\n"
     ]
    }
   ],
   "source": [
    "# apply: 데이터에 함수 적용\n",
    "\n",
    "# 열별 적용\n",
    "print(df.apply(np.cumsum))\n",
    "print(df.apply(lambda x: x.max() - x.min()))\n",
    "\n",
    "# 행별 적용\n",
    "print(df.apply(np.cumsum, axis=1))\n",
    "print(df.apply(lambda x: x.max() - x.min(), axis=1))"
   ]
  },
  {
   "cell_type": "code",
   "execution_count": 15,
   "metadata": {},
   "outputs": [
    {
     "name": "stdout",
     "output_type": "stream",
     "text": [
      "0    5\n",
      "1    4\n",
      "2    4\n",
      "3    1\n",
      "4    5\n",
      "5    2\n",
      "6    3\n",
      "7    3\n",
      "8    4\n",
      "9    2\n",
      "dtype: int64\n",
      "4    3\n",
      "5    2\n",
      "3    2\n",
      "2    2\n",
      "1    1\n",
      "dtype: int64\n"
     ]
    }
   ],
   "source": [
    "# Histogramming: 데이터 값 세기\n",
    "s = pd.Series(np.random.randint(0, 7, size=10))\n",
    "print(s)\n",
    "print(s.value_counts())"
   ]
  },
  {
   "cell_type": "code",
   "execution_count": 16,
   "metadata": {},
   "outputs": [
    {
     "name": "stdout",
     "output_type": "stream",
     "text": [
      "0       a\n",
      "1       b\n",
      "2       c\n",
      "3    aaba\n",
      "4    baca\n",
      "5     NaN\n",
      "6    caba\n",
      "7     dog\n",
      "8     cat\n",
      "dtype: object\n"
     ]
    }
   ],
   "source": [
    "# 문자열 함수\n",
    "s = pd.Series(['A', 'B', 'C', 'Aaba', 'Baca', np.nan, 'CABA', 'dog', 'cat'])\n",
    "print(s.str.lower())"
   ]
  },
  {
   "cell_type": "markdown",
   "metadata": {},
   "source": [
    "## Merge\n",
    "\n",
    "상세 참조자료: https://pandas.pydata.org/pandas-docs/stable/user_guide/merging.html"
   ]
  },
  {
   "cell_type": "code",
   "execution_count": 17,
   "metadata": {},
   "outputs": [
    {
     "name": "stdout",
     "output_type": "stream",
     "text": [
      "          0         1         2\n",
      "0  0.745094 -0.290568 -0.027353\n",
      "1  0.746181 -1.307533  0.182484\n",
      "          0         1         2\n",
      "3  0.130199 -0.219391  0.132051\n",
      "4  0.240965 -0.313058  0.663209\n",
      "          0         1         2\n",
      "0  0.745094 -0.290568 -0.027353\n",
      "1  0.746181 -1.307533  0.182484\n",
      "3  0.130199 -0.219391  0.132051\n",
      "4  0.240965 -0.313058  0.663209\n",
      "          0         1         2\n",
      "0  0.745094 -0.290568 -0.027353\n",
      "1  0.746181 -1.307533  0.182484\n",
      "2  0.130199 -0.219391  0.132051\n",
      "3  0.240965 -0.313058  0.663209\n",
      "          0         1         2         3         4         5\n",
      "0  0.745094 -0.290568 -0.027353  0.130199 -0.219391  0.132051\n",
      "1  0.746181 -1.307533  0.182484  0.240965 -0.313058  0.663209\n"
     ]
    }
   ],
   "source": [
    "# Concat: 단순히 두 DataFrame을 연결만 하기 때문에 의도한 결과와 같은지 확인이 필요합니다.\n",
    "df = pd.DataFrame(np.random.randn(10, 3))\n",
    "a = df[:2]\n",
    "b = df[3:5]\n",
    "print(a)\n",
    "print(b)\n",
    "\n",
    "# 행 기반 연결\n",
    "print(pd.concat([a, b]))\n",
    "print(pd.concat([a, b], ignore_index=True))\n",
    "\n",
    "# 열 기반 연결\n",
    "b.columns = [3, 4, 5]\n",
    "b.reset_index(inplace=True, drop=True)\n",
    "print(pd.concat([a, b], axis=1))"
   ]
  },
  {
   "cell_type": "code",
   "execution_count": 18,
   "metadata": {},
   "outputs": [
    {
     "name": "stdout",
     "output_type": "stream",
     "text": [
      "          A         B         C\n",
      "0 -0.210185 -0.717555 -1.561112\n",
      "1  2.265995 -1.367731  0.442846\n",
      "2  0.380776 -1.993455  1.143662\n",
      "          A         B         C\n",
      "0 -0.210185 -0.717555 -1.561112\n",
      "1  2.265995 -1.367731  0.442846\n",
      "2  0.380776 -1.993455  1.143662\n",
      "3  2.265995 -1.367731  0.442846\n"
     ]
    }
   ],
   "source": [
    "# Append: 행 기반 concat 과 같습니다.\n",
    "df = pd.DataFrame(np.random.randn(3, 3), columns=['A', 'B', 'C'])\n",
    "print(df)\n",
    "\n",
    "s = df.iloc[1]\n",
    "print(df.append(s, ignore_index=True))"
   ]
  },
  {
   "cell_type": "code",
   "execution_count": 19,
   "metadata": {},
   "outputs": [
    {
     "name": "stdout",
     "output_type": "stream",
     "text": [
      "   key  lval\n",
      "0  foo     1\n",
      "1  bar     2\n",
      "   key  rval\n",
      "0  foo     4\n",
      "1  bar     5\n",
      "   key  lval  rval\n",
      "0  foo     1     4\n",
      "1  bar     2     5\n"
     ]
    }
   ],
   "source": [
    "# Join: SQL 에서 지원하는 방식과 유사\n",
    "left = pd.DataFrame({'key': ['foo', 'bar'], 'lval': [1, 2]})\n",
    "right = pd.DataFrame({'key': ['foo', 'bar'], 'rval': [4, 5]})\n",
    "print(left)\n",
    "print(right)\n",
    "print(pd.merge(left, right, on= 'key'))"
   ]
  },
  {
   "cell_type": "code",
   "execution_count": 20,
   "metadata": {},
   "outputs": [
    {
     "name": "stdout",
     "output_type": "stream",
     "text": [
      "     A      B         C         D\n",
      "0  foo    one  2.310304 -1.602232\n",
      "1  bar    one -1.181152  1.301205\n",
      "2  foo    two  0.237871 -0.351101\n",
      "3  bar  three -0.065693 -1.019618\n",
      "            C         D\n",
      "A                      \n",
      "bar -1.246845  0.281587\n",
      "foo  2.548176 -1.953334\n",
      "                  C         D\n",
      "A   B                        \n",
      "bar one   -1.181152  1.301205\n",
      "    three -0.065693 -1.019618\n",
      "foo one    2.310304 -1.602232\n",
      "    two    0.237871 -0.351101\n"
     ]
    }
   ],
   "source": [
    "# GroupBy: SQL 에서 지원되는 방식과 유사\n",
    "df = pd.DataFrame({\n",
    "  'A' : ['foo', 'bar', 'foo', 'bar'],\n",
    "  'B' : ['one', 'one', 'two', 'three'],\n",
    "  'C' : np.random.randn(4),\n",
    "  'D' : np.random.randn(4)\n",
    "})\n",
    "print(df)\n",
    "\n",
    "print(df.groupby('A').sum())\n",
    "print(df.groupby(['A','B']).sum())"
   ]
  },
  {
   "cell_type": "markdown",
   "metadata": {},
   "source": [
    "## Reshaping"
   ]
  },
  {
   "cell_type": "code",
   "execution_count": 21,
   "metadata": {},
   "outputs": [
    {
     "name": "stdout",
     "output_type": "stream",
     "text": [
      "one  a    1.0\n",
      "     b    2.0\n",
      "two  a    3.0\n",
      "     b    4.0\n",
      "dtype: float64\n",
      "       a    b\n",
      "one  1.0  2.0\n",
      "two  3.0  4.0\n",
      "one  a    1.0\n",
      "     b    2.0\n",
      "two  a    3.0\n",
      "     b    4.0\n",
      "dtype: float64\n",
      "        A  B    C         D         E\n",
      "0     one  A  foo -0.406878 -0.950462\n",
      "1     one  B  foo  0.030918 -2.100638\n",
      "2     two  C  foo -0.721355  1.415724\n",
      "3   three  A  bar -0.927376 -0.818047\n",
      "4     one  B  bar  0.207421 -0.698892\n",
      "5     one  C  bar  0.215073  1.833818\n",
      "6     two  A  foo -0.713368  0.106301\n",
      "7   three  B  foo  1.537568 -3.130458\n",
      "8     one  C  foo  0.090697 -0.944782\n",
      "9     one  A  bar  1.570254  0.224201\n",
      "10    two  B  bar  1.701008  0.086360\n",
      "11  three  C  bar  0.144171  0.287091\n",
      "C             bar       foo\n",
      "A     B                    \n",
      "one   A  1.570254 -0.406878\n",
      "      B  0.207421  0.030918\n",
      "      C  0.215073  0.090697\n",
      "three A -0.927376       NaN\n",
      "      B       NaN  1.537568\n",
      "      C  0.144171       NaN\n",
      "two   A       NaN -0.713368\n",
      "      B  1.701008       NaN\n",
      "      C       NaN -0.721355\n"
     ]
    }
   ],
   "source": [
    "# Stack\n",
    "index = pd.MultiIndex.from_tuples([('one', 'a'), ('one', 'b'),\n",
    "                                   ('two', 'a'), ('two', 'b')])\n",
    "s = pd.Series(np.arange(1.0, 5.0), index=index)\n",
    "print(s)\n",
    "df = s.unstack()\n",
    "print(df)\n",
    "print(df.stack())\n",
    "\n",
    "# Pivot\n",
    "df = pd.DataFrame({'A' : ['one', 'one', 'two', 'three'] * 3,\n",
    "                   'B' : ['A', 'B', 'C'] * 4,\n",
    "                   'C' : ['foo', 'foo', 'foo', 'bar', 'bar', 'bar'] * 2,\n",
    "                   'D' : np.random.randn(12),\n",
    "                   'E' : np.random.randn(12)})\n",
    "print(df)\n",
    "print(pd.pivot_table(df, values='D', index=['A', 'B'], columns=['C']))"
   ]
  },
  {
   "cell_type": "markdown",
   "metadata": {},
   "source": [
    "## Time Series\n",
    "\n",
    "Time Series 데이터를 다룰 때 필요한 편리한 기능을 제공합니다.\n",
    "\n",
    "상세참조자료: https://pandas.pydata.org/pandas-docs/stable/user_guide/timeseries.html"
   ]
  },
  {
   "cell_type": "code",
   "execution_count": 23,
   "metadata": {},
   "outputs": [
    {
     "name": "stdout",
     "output_type": "stream",
     "text": [
      "DatetimeIndex(['2018-01-01', '2018-01-01', '2018-01-01'], dtype='datetime64[ns]', freq=None)\n",
      "DatetimeIndex(['2018-01-01 00:00:00', '2018-01-01 01:00:00'], dtype='datetime64[ns]', freq='H')\n",
      "0   2009-07-31\n",
      "1   2010-01-10\n",
      "2          NaT\n",
      "dtype: datetime64[ns]\n",
      "DatetimeIndex(['2005-11-23', '2010-12-31'], dtype='datetime64[ns]', freq=None)\n",
      "DatetimeIndex(['2012-10-08 18:15:05', '2012-10-09 18:15:05'], dtype='datetime64[ns]', freq=None)\n",
      "DatetimeIndex(['2012-10-08 18:15:05.100000', '2012-10-08 18:15:05.200000'], dtype='datetime64[ns]', freq=None)\n",
      "ERROR: ('Unknown string format:', 'asd')\n",
      "DatetimeIndex(['2018-01-01 00:00:00+00:00', '2018-01-01 01:00:00+00:00'], dtype='datetime64[ns, UTC]', freq='H')\n",
      "DatetimeIndex(['2018-01-01 09:00:00+09:00', '2018-01-01 10:00:00+09:00'], dtype='datetime64[ns, Asia/Seoul]', freq='H')\n"
     ]
    }
   ],
   "source": [
    "import datetime\n",
    "\n",
    "# 다양한 방법으로 DatetimeIndex 생성\n",
    "dti = pd.to_datetime(['1/1/2018', np.datetime64('2018-01-01'), datetime.datetime(2018, 1, 1)])\n",
    "print(dti)\n",
    "\n",
    "dti = pd.date_range('2018-01-01', periods=2, freq='H')\n",
    "print(dti)\n",
    "\n",
    "# DateTimeIndex 로 변환\n",
    "print(pd.to_datetime(pd.Series(['Jul 31, 2009', '2010-01-10', None])))\n",
    "print(pd.to_datetime(['2005/11/23', '2010.12.31']))\n",
    "print(pd.to_datetime([1349720105, 1349806505], unit='s')) # Epoch Timestamp Sec\n",
    "print(pd.to_datetime([1349720105100, 1349720105200], unit='ms')) # Epoch Timestamp Millisec\n",
    "\n",
    "# DateTimeIndex 로 변환시 에러 처리\n",
    "try:\n",
    "    pd.to_datetime(['2009/07/31', 'asd'], errors='raise')\n",
    "except Exception as e:\n",
    "    print(\"ERROR: {}\".format(e))\n",
    "pd.to_datetime(['2009/07/31', 'asd'], errors='ignore')\n",
    "  \n",
    "# Timezone 설정\n",
    "dti = dti.tz_localize('UTC')\n",
    "print(dti)\n",
    "\n",
    "# Timezone 변경\n",
    "dti = dti.tz_convert('Asia/Seoul')\n",
    "print(dti)"
   ]
  },
  {
   "cell_type": "code",
   "execution_count": 24,
   "metadata": {},
   "outputs": [
    {
     "name": "stdout",
     "output_type": "stream",
     "text": [
      "2018-01-01    0\n",
      "2018-01-02    1\n",
      "2018-01-03    2\n",
      "2018-01-04    3\n",
      "2018-01-05    4\n",
      "Freq: D, dtype: int64\n",
      "2018-01-01 00:00:00    0.0\n",
      "2018-01-01 08:00:00    NaN\n",
      "2018-01-01 16:00:00    NaN\n",
      "2018-01-02 00:00:00    1.0\n",
      "2018-01-02 08:00:00    NaN\n",
      "2018-01-02 16:00:00    NaN\n",
      "2018-01-03 00:00:00    2.0\n",
      "2018-01-03 08:00:00    NaN\n",
      "2018-01-03 16:00:00    NaN\n",
      "2018-01-04 00:00:00    3.0\n",
      "2018-01-04 08:00:00    NaN\n",
      "2018-01-04 16:00:00    NaN\n",
      "2018-01-05 00:00:00    4.0\n",
      "Freq: 8H, dtype: float64\n",
      "2018-01-01    0.5\n",
      "2018-01-03    2.5\n",
      "2018-01-05    4.0\n",
      "Freq: 2D, dtype: float64\n"
     ]
    }
   ],
   "source": [
    "# 시간단위 샘플링\n",
    "idx = pd.date_range('2018-01-01', periods=5, freq='D')\n",
    "ts = pd.Series(range(len(idx)), index=idx)\n",
    "print(ts)\n",
    "print(ts.resample('8H').mean())\n",
    "print(ts.resample('2D').mean())"
   ]
  },
  {
   "cell_type": "code",
   "execution_count": 26,
   "metadata": {},
   "outputs": [
    {
     "name": "stdout",
     "output_type": "stream",
     "text": [
      "0.24.1\n",
      "Friday\n",
      "Saturday\n",
      "Monday\n"
     ]
    }
   ],
   "source": [
    "## Version 0.24.1 이상\n",
    "print(pd.__version__)\n",
    "if pd.__version__ >= \"0.24.1\":\n",
    "    # 시간 계산\n",
    "    friday = pd.Timestamp('2018-01-05')\n",
    "    print(friday.day_name())\n",
    "\n",
    "    # Add 1 day\n",
    "    saturday = friday + pd.Timedelta('1 day')\n",
    "    print(saturday.day_name())\n",
    "\n",
    "    # Add 1 business day (Friday --> Monday)\n",
    "    monday = friday + pd.offsets.BDay()\n",
    "    print(monday.day_name())"
   ]
  },
  {
   "cell_type": "markdown",
   "metadata": {},
   "source": [
    "# Read/Write"
   ]
  },
  {
   "cell_type": "code",
   "execution_count": 27,
   "metadata": {},
   "outputs": [
    {
     "name": "stdout",
     "output_type": "stream",
     "text": [
      "     A          B    C  D      E    F\n",
      "0  1.0 2013-01-02  1.0  3   test  foo\n",
      "1  1.0 2013-01-02  1.0  3  train  foo\n",
      "2  1.0 2013-01-02  1.0  3   test  foo\n",
      "3  1.0 2013-01-02  1.0  3  train  foo\n",
      "     A           B    C  D      E    F\n",
      "0  1.0  2013-01-02  1.0  3   test  foo\n",
      "1  1.0  2013-01-02  1.0  3  train  foo\n",
      "2  1.0  2013-01-02  1.0  3   test  foo\n",
      "3  1.0  2013-01-02  1.0  3  train  foo\n"
     ]
    }
   ],
   "source": [
    "# CSV\n",
    "df = pd.DataFrame({\n",
    "  'A': 1.,\n",
    "  'B': pd.Timestamp('20130102'),\n",
    "  'C': pd.Series(1, index=list(range(4)), dtype='float32'),\n",
    "  'D': np.array([3] * 4, dtype='int32'),\n",
    "  'E': pd.Categorical([\"test\", \"train\", \"test\", \"train\"]),\n",
    "  'F': 'foo'\n",
    "})\n",
    "print(df)\n",
    "path_csv = \"/tmp/foo.csv\"\n",
    "df.to_csv(path_csv, index=False)\n",
    "\n",
    "df = pd.read_csv(path_csv, header=0)\n",
    "print(df)"
   ]
  },
  {
   "cell_type": "code",
   "execution_count": 37,
   "metadata": {},
   "outputs": [],
   "source": []
  }
 ],
 "metadata": {
  "kernelspec": {
   "display_name": "Python 3",
   "language": "python",
   "name": "python3"
  },
  "language_info": {
   "codemirror_mode": {
    "name": "ipython",
    "version": 3
   },
   "file_extension": ".py",
   "mimetype": "text/x-python",
   "name": "python",
   "nbconvert_exporter": "python",
   "pygments_lexer": "ipython3",
   "version": "3.5.2"
  },
  "name": "03_de_pandas",
  "nikola": {
   "category": "",
   "date": "2019-03-01",
   "description": "",
   "link": "",
   "slug": "pandas-10mins",
   "tags": "",
   "title": "Pandas 10분만에 훍어보기",
   "type": "text"
  },
  "notebookId": 2469278771832403,
  "toc": {
   "base_numbering": 1,
   "nav_menu": {},
   "number_sections": true,
   "sideBar": true,
   "skip_h1_title": false,
   "title_cell": "Table of Contents",
   "title_sidebar": "Contents",
   "toc_cell": false,
   "toc_position": {},
   "toc_section_display": true,
   "toc_window_display": false
  }
 },
 "nbformat": 4,
 "nbformat_minor": 1
}
