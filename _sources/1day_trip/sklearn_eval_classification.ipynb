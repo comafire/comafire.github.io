{
 "cells": [
  {
   "cell_type": "markdown",
   "metadata": {},
   "source": [
    "# Classification Evaluation (Sklearn)\n",
    "\n",
    "분류 문제(binary/multi-class/multi-label)에서 데이터를 통해 생성한 모델이 좋은지 판단하기 위해 자주사용하는 평가 함수에 대해서 알아봅니다. \n",
    "\n",
    "## Accuracy score\n",
    "\n",
    "Accuracy score 는 실제 값과 예측 값이 일치하는 비율 또는 갯수를 나타냅니다.\n",
    "\n",
    "\\\\[\n",
    "\\texttt{accuracy}(y, \\hat{y}) = \\frac{1}{n_\\text{samples}} \\sum_{i=0}^{n_\\text{samples}-1} 1(\\hat{y}_i = y_i)\n",
    "\\\\]\n",
    "\n",
    "이는 multi-label 분류 문제에서도 동일하게 사용됩니다."
   ]
  },
  {
   "cell_type": "code",
   "execution_count": 1,
   "metadata": {},
   "outputs": [
    {
     "name": "stdout",
     "output_type": "stream",
     "text": [
      "Accuracy=0.5\n",
      "Accuracy(normalize=False)=2\n",
      "Accuracy=0.5\n"
     ]
    }
   ],
   "source": [
    "import numpy as np\n",
    "from sklearn.metrics import accuracy_score\n",
    "\n",
    "# Multi-class\n",
    "y_pred = [0, 2, 1, 3]\n",
    "y_true = [0, 1, 2, 3]\n",
    "\n",
    "acc = accuracy_score(y_true, y_pred)\n",
    "print(\"Accuracy={}\".format(acc))\n",
    "\n",
    "acc = accuracy_score(y_true, y_pred, normalize=False)\n",
    "print(\"Accuracy(normalize=False)={}\".format(acc))\n",
    "\n",
    "# Multi-label\n",
    "y_pred = np.array([[0, 1, 1], [1, 1, 0]])\n",
    "y_true = np.array([[1, 1, 0], [1, 1, 0]])\n",
    "\n",
    "acc = accuracy_score(y_true, y_pred)\n",
    "print(\"Accuracy={}\".format(acc))"
   ]
  },
  {
   "cell_type": "markdown",
   "metadata": {},
   "source": [
    "## Balanced accuracy score\n",
    "\n",
    "Balanced accuracy score 는 imblanced dataset 에서 성능을 측정할때 사용합니다. 이는 accuracy를 클래스의 비율에 따라 조절한 accuracy를 뜻하며 classification_report 결과에서 recall score 의 macro avg 값과 같습니다."
   ]
  },
  {
   "cell_type": "code",
   "execution_count": 2,
   "metadata": {},
   "outputs": [
    {
     "name": "stdout",
     "output_type": "stream",
     "text": [
      "Accuracy=0.6666666666666666\n",
      "Balanced Accuracy=0.625\n",
      "\n",
      "Classification Report\n",
      "              precision    recall  f1-score   support\n",
      "\n",
      "           0       0.75      0.75      0.75         4\n",
      "           1       0.50      0.50      0.50         2\n",
      "\n",
      "    accuracy                           0.67         6\n",
      "   macro avg       0.62      0.62      0.62         6\n",
      "weighted avg       0.67      0.67      0.67         6\n",
      "\n"
     ]
    }
   ],
   "source": [
    "from sklearn.metrics import balanced_accuracy_score, classification_report\n",
    "y_true = [0, 1, 0, 0, 1, 0]\n",
    "y_pred = [0, 1, 0, 0, 0, 1]\n",
    "\n",
    "acc = accuracy_score(y_true, y_pred)\n",
    "print(\"Accuracy={}\".format(acc))\n",
    "\n",
    "bacc = balanced_accuracy_score(y_true, y_pred)\n",
    "print(\"Balanced Accuracy={}\".format(bacc))\n",
    "\n",
    "report = classification_report(y_true, y_pred)\n",
    "print(\"\\nClassification Report\\n{}\".format(report))"
   ]
  },
  {
   "cell_type": "markdown",
   "metadata": {},
   "source": [
    "## Confusion matrix\n",
    "\n",
    "Confusion matrix는 Predicted Class/Label 대비 True Class/Label 의 Count를 matrix 형태로 나타낸 것입니다. \n",
    "\n",
    "Multi-class 의 경우 Column Index 가 Predicted Class이고, Row Index 가 True Class를 나타내고 Correct Count 값이 채워집니다. \n",
    "\n",
    "Multi-label 의 경우는 Row 기준으로 각 Label 의 tp, tn, fp, fn 값이 채워집니다.\n",
    "\n",
    "|Actual/Predicted  |Predicted Negative |Predicted Positive  |\n",
    "|:----------------:|:-----------------:|:------------------:|\n",
    "|Actual Negative   |tn (true negative) |fp (false positive) |\n",
    "|Actual Positive   |fn (false negative)|tp (true positive)  |\n",
    "\n",
    "이는 각 경우에 대해서 Evaluation 함수를 계산하기 위한 값이 됩니다."
   ]
  },
  {
   "cell_type": "code",
   "execution_count": 3,
   "metadata": {},
   "outputs": [
    {
     "name": "stdout",
     "output_type": "stream",
     "text": [
      "Multi-class Confusion Matrix\n",
      "[[1 0 0 0]\n",
      " [0 1 2 0]\n",
      " [0 1 0 0]\n",
      " [0 0 0 2]]\n",
      "Multi-label Confusion Matrix\n",
      "[[[0 0]\n",
      "  [1 2]]\n",
      "\n",
      " [[0 0]\n",
      "  [0 3]]\n",
      "\n",
      " [[2 1]\n",
      "  [0 0]]]\n"
     ]
    }
   ],
   "source": [
    "import numpy as np\n",
    "from sklearn.metrics import confusion_matrix\n",
    "from sklearn.metrics import multilabel_confusion_matrix\n",
    "\n",
    "# Multi-class\n",
    "y_pred = [0, 2, 1, 3, 2, 3, 1]\n",
    "y_true = [0, 1, 2, 3, 1, 3, 1]\n",
    "\n",
    "cm = confusion_matrix(y_true, y_pred)\n",
    "print(\"Multi-class Confusion Matrix\\n{}\".format(cm))\n",
    "\n",
    "# Multi-label\n",
    "y_pred = np.array([[0, 1, 1], [1, 1, 0], [1, 1, 0]])\n",
    "y_true = np.array([[1, 1, 0], [1, 1, 0], [1, 1, 0]])\n",
    "\n",
    "mcm = multilabel_confusion_matrix(y_true, y_pred)\n",
    "print(\"Multi-label Confusion Matrix\\n{}\".format(mcm))"
   ]
  },
  {
   "cell_type": "markdown",
   "metadata": {},
   "source": [
    "Multi-class 경우의 Confusion Matrix를 아래와 같이 시각화하여 나타내기도 합니다."
   ]
  },
  {
   "cell_type": "code",
   "execution_count": 4,
   "metadata": {},
   "outputs": [
    {
     "name": "stdout",
     "output_type": "stream",
     "text": [
      "Confusion matrix, without normalization\n",
      "[[13  0  0]\n",
      " [ 0 10  6]\n",
      " [ 0  0  9]]\n",
      "Normalized confusion matrix\n",
      "[[1.   0.   0.  ]\n",
      " [0.   0.62 0.38]\n",
      " [0.   0.   1.  ]]\n"
     ]
    },
    {
     "data": {
      "image/png": "[encoded data removed]",
      "text/plain": [
       "<Figure size 432x288 with 2 Axes>"
      ]
     },
     "metadata": {
      "needs_background": "light"
     },
     "output_type": "display_data"
    },
    {
     "data": {
      "image/png": "[encoded data removed]",
      "text/plain": [
       "<Figure size 432x288 with 2 Axes>"
      ]
     },
     "metadata": {
      "needs_background": "light"
     },
     "output_type": "display_data"
    }
   ],
   "source": [
    "# 참조: https://scikit-learn.org/stable/auto_examples/model_selection/plot_confusion_matrix.html#sphx-glr-auto-examples-model-selection-plot-confusion-matrix-py\n",
    "%matplotlib inline\n",
    "import numpy as np\n",
    "import matplotlib.pyplot as plt\n",
    "\n",
    "from sklearn import svm, datasets\n",
    "from sklearn.model_selection import train_test_split\n",
    "from sklearn.metrics import confusion_matrix\n",
    "from sklearn.utils.multiclass import unique_labels\n",
    "\n",
    "# import some data to play with\n",
    "iris = datasets.load_iris()\n",
    "X = iris.data\n",
    "y = iris.target\n",
    "class_names = iris.target_names\n",
    "\n",
    "# Split the data into a training set and a test set\n",
    "X_train, X_test, y_train, y_test = train_test_split(X, y, random_state=0)\n",
    "\n",
    "# Run classifier, using a model that is too regularized (C too low) to see\n",
    "# the impact on the results\n",
    "classifier = svm.SVC(kernel='linear', C=0.01)\n",
    "y_pred = classifier.fit(X_train, y_train).predict(X_test)\n",
    "\n",
    "\n",
    "def plot_confusion_matrix(y_true, y_pred, classes,\n",
    "                          normalize=False,\n",
    "                          title=None,\n",
    "                          cmap=plt.cm.Blues):\n",
    "    \"\"\"\n",
    "    This function prints and plots the confusion matrix.\n",
    "    Normalization can be applied by setting `normalize=True`.\n",
    "    \"\"\"\n",
    "    if not title:\n",
    "        if normalize:\n",
    "            title = 'Normalized confusion matrix'\n",
    "        else:\n",
    "            title = 'Confusion matrix, without normalization'\n",
    "\n",
    "    # Compute confusion matrix\n",
    "    cm = confusion_matrix(y_true, y_pred)\n",
    "    # Only use the labels that appear in the data\n",
    "    classes = classes[unique_labels(y_true, y_pred)]\n",
    "    if normalize:\n",
    "        cm = cm.astype('float') / cm.sum(axis=1)[:, np.newaxis]\n",
    "        print(\"Normalized confusion matrix\")\n",
    "    else:\n",
    "        print('Confusion matrix, without normalization')\n",
    "\n",
    "    print(cm)\n",
    "\n",
    "    fig, ax = plt.subplots()\n",
    "    im = ax.imshow(cm, interpolation='nearest', cmap=cmap)\n",
    "    ax.figure.colorbar(im, ax=ax)\n",
    "    # We want to show all ticks...\n",
    "    ax.set(xticks=np.arange(cm.shape[1]),\n",
    "           yticks=np.arange(cm.shape[0]),\n",
    "           # ... and label them with the respective list entries\n",
    "           xticklabels=classes, yticklabels=classes,\n",
    "           title=title,\n",
    "           ylabel='True label',\n",
    "           xlabel='Predicted label')\n",
    "\n",
    "    # Rotate the tick labels and set their alignment.\n",
    "    plt.setp(ax.get_xticklabels(), rotation=45, ha=\"right\",\n",
    "             rotation_mode=\"anchor\")\n",
    "\n",
    "    # Loop over data dimensions and create text annotations.\n",
    "    fmt = '.2f' if normalize else 'd'\n",
    "    thresh = cm.max() / 2.\n",
    "    for i in range(cm.shape[0]):\n",
    "        for j in range(cm.shape[1]):\n",
    "            ax.text(j, i, format(cm[i, j], fmt),\n",
    "                    ha=\"center\", va=\"center\",\n",
    "                    color=\"white\" if cm[i, j] > thresh else \"black\")\n",
    "    fig.tight_layout()\n",
    "    return ax\n",
    "\n",
    "\n",
    "np.set_printoptions(precision=2)\n",
    "\n",
    "# Plot non-normalized confusion matrix\n",
    "plot_confusion_matrix(y_test, y_pred, classes=class_names,\n",
    "                      title='Confusion matrix, without normalization')\n",
    "\n",
    "# Plot normalized confusion matrix\n",
    "plot_confusion_matrix(y_test, y_pred, classes=class_names, normalize=True,\n",
    "                      title='Normalized confusion matrix')\n",
    "\n",
    "plt.show()"
   ]
  },
  {
   "cell_type": "markdown",
   "metadata": {},
   "source": [
    "## Classification report\n",
    "\n",
    "Classification Report 에서는 Classification의 주요 성능 지표에 대한 결과를 테이블 형태로 출력해줍니다. "
   ]
  },
  {
   "cell_type": "code",
   "execution_count": 5,
   "metadata": {},
   "outputs": [
    {
     "name": "stdout",
     "output_type": "stream",
     "text": [
      "              precision    recall  f1-score   support\n",
      "\n",
      "     class 0       0.67      1.00      0.80         2\n",
      "     class 1       0.67      0.67      0.67         3\n",
      "     class 2       1.00      0.50      0.67         2\n",
      "\n",
      "    accuracy                           0.71         7\n",
      "   macro avg       0.78      0.72      0.71         7\n",
      "weighted avg       0.76      0.71      0.70         7\n",
      "\n"
     ]
    }
   ],
   "source": [
    "from sklearn.metrics import classification_report\n",
    "\n",
    "y_true = [0, 1, 2, 2, 0, 1, 1]\n",
    "y_pred = [0, 0, 2, 1, 0, 1, 1]\n",
    "target_names = ['class 0', 'class 1', 'class 2']\n",
    "\n",
    "print(classification_report(y_true, y_pred, target_names=target_names))"
   ]
  },
  {
   "cell_type": "markdown",
   "metadata": {},
   "source": [
    "#### Precision, recall and F-measures\n",
    "\n",
    "**Binary Classification** 에서는 Precision, Recall, F-Measure 를 계산하기 위해 tp, fp, fn, tn 을 아래와 같이 정의하고 각 Metric을 계산합니다.\n",
    "\n",
    "|Predicted/Actual  |Actual Positive    |Actual Negative     |\n",
    "|:----------------:|:-----------------:|:------------------:|\n",
    "|Predicted Positive|tp (true positive) |fp (false positive) |\n",
    "|Predicted Negative|fn (false negative)|tn (true negative)  |\n",
    "\n",
    "* tp (true positive): Positive로 예측한 것이 True인 경우 (실제도 Positive 인 경우)\n",
    "* tn (true negative): Negative로 예측한 것이 True인 경우 (실제도 Negative 인 경우)\n",
    "* fp (false positive): Positive로 예측한 것이 False인 경우 (실제는 Negative 인 경우) \n",
    "* fn (false negative): Negative로 예측한 것이 False인 경우 (실제는 Positive 인 경우)\n",
    "\n",
    "**Precision**\n",
    "\n",
    "Positive로 예측한 것중에 실제 Positive 인 경우의 비율입니다. \n",
    "\n",
    "\\\\[\n",
    "\\text{precision} = \\frac{tp}{tp + fp}\n",
    "\\\\]\n",
    "\n",
    "**Recall**\n",
    "\n",
    "실제 Positive 인 경우 중 Positive 로 예측한 것이 True 인 경우의 비율입니다.\n",
    "\n",
    "\\\\[\n",
    "\\text{recall} = \\frac{tp}{tp + fn}\n",
    "\\\\]\n",
    "\n",
    "**F-measures**\n",
    "\n",
    "Precision과 Recall의 가중 조화 평균으로 모델의 성능을 평가합니다. 데이터에 따라 모델의 성능이 Precision이 더욱 중요한 케이스도 있고, Recall이 더욱 중요한 케이스도 있습니다. F-measure 에서는 F-beta 함수의 beta 값을 이용하여 각 케이스에 따라 Precision 과 Recall 의 중요도에 가중치를 적용하여 전체적 성능을 평가할 수 있습니다. \n",
    "\n",
    "\\\\[\n",
    "F_\\beta = (1 + \\beta^2) \\frac{\\text{precision} \\times \\text{recall}}{\\beta^2 \\text{precision} + \\text{recall}}\n",
    "\\\\]\n",
    "\n",
    "예)\n",
    "* beta = 1: Precision과 Recall 의 중요도가 같음\n",
    "* beta = 2: Recall 이 Precision 보다 중요\n",
    "* beta = 0.5: Precision 이 Recall 보다 중요  "
   ]
  },
  {
   "cell_type": "code",
   "execution_count": 6,
   "metadata": {},
   "outputs": [
    {
     "name": "stdout",
     "output_type": "stream",
     "text": [
      "precision=1.0\n",
      "recall=0.5\n",
      "f1_score=0.6666666666666666\n",
      "f0.5_score=0.8333333333333334\n",
      "f1_score=0.6666666666666666\n",
      "f2_score=1.0\n"
     ]
    }
   ],
   "source": [
    "from sklearn import metrics\n",
    "\n",
    "y_pred = [0, 1, 0, 0]\n",
    "y_true = [0, 1, 0, 1]\n",
    "\n",
    "precision = metrics.precision_score(y_true, y_pred)\n",
    "print(\"precision={}\".format(precision))\n",
    "recall = metrics.recall_score(y_true, y_pred)\n",
    "print(\"recall={}\".format(recall))\n",
    "f1_score = metrics.f1_score(y_true, y_pred)  \n",
    "print(\"f1_score={}\".format(f1_score))\n",
    "f05_score = metrics.fbeta_score(y_true, y_pred, beta=0.5)  \n",
    "print(\"f0.5_score={}\".format(f05_score))\n",
    "f1_score = metrics.fbeta_score(y_true, y_pred, beta=1)  \n",
    "print(\"f1_score={}\".format(f1_score))\n",
    "f2_score = metrics.fbeta_score(y_true, y_pred, beta=2) \n",
    "print(\"f2_score={}\".format(precision, recall, f1_score,))"
   ]
  },
  {
   "cell_type": "markdown",
   "metadata": {},
   "source": [
    "**Multi-Class/Label Classification** 에서는 One vs the Rest 방식으로 각 Class의 Precision, Recall, F-Measure 값을 계산합니다. 그리고 각 Class 에 대한 Metric 의 Average 값은 주어진 옵션에 따라 아래 공식과 같이 계산됩니다.\n",
    "\n",
    "* \"micro\": 전제 metric 에 대해서 sample-class pair 가 동등한 기여를 기반으로 계산됩니다. (sample-weight 의 결과는 제외)\n",
    "* \"samples\": multi-label 문제에서만 사용되며, 각 sample를 위한 true(actual)/predicted class의 metric을 대신 사용합니다. \n",
    "* \"macro\": 단순히 각 class의 가중치를 동등하게 binary metric의 평균으로 계산합니다. \n",
    "* \"weighted\": mtuli-label 또는 class imbalance를 위해 각 class가 true data sample 내에 나타나는 비율로 가중된 binary metric의 평균을 계산합니다.\n",
    "* Selecting average=None: 각 class를 위한 score 배열이 반환됩니다.\n",
    "\n",
    "각 Class/Label 의 Measure를 계산할때는 Average를 계산하여 산출하며, Average 계산방식은 아래 방식중 지정하여 계산이 가능합니다.\n",
    "\n",
    "\\\\[y \\text{: the set of predicted } (sample, label) \\text{ pairs } \\\\]\n",
    "\\\\[\\hat{y} \\text{: the set of true } (sample, label) \\text{ pairs } \\\\]\n",
    "\\\\[L \\text{: the set of labels} \\\\]\n",
    "\\\\[S \\text{: the set of samples}\\\\]\n",
    "\\\\[y_s \\text{: the subset of} y \\text{with sample } s, \\text{ i.e. } y_s := \\left\\{(s', l) \\in y | s' = s\\right\\} \\\\]\n",
    "\\\\[y_l \\text{:the subset of } y \\text{with label } l \\\\]\n",
    "\\\\[\\text{similarly, } \\hat{y}_s \\text{and} \\hat{y}_l \\text{are subsets of } \\hat{y} \\\\]\n",
    "\\\\[P(A, B) := \\frac{\\left| A \\cap B \\right|}{\\left|A\\right|} \\text{for some sets } A \\text{ and } B \\\\]\n",
    "\\\\[R(A, B) := \\frac{\\left| A \\cap B \\right|}{\\left|B\\right|} \\text{ (Conventions vary on handling } B = \\emptyset \\text{; this implementation uses } R(A, B):=0 \\text{, and similar for } P \\\\]\n",
    "\\\\[F_\\beta(A, B) := \\left(1 + \\beta^2\\right) \\frac{P(A, B) \\times R(A, B)}{\\beta^2 P(A, B) + R(A, B)}\\\\]\n",
    "\n",
    "\n",
    "\n",
    "|average      |Precision            |Recall             |F_beta                   |\n",
    "|:-----------:|:-------------------:|:-----------------:|:-----------------------:|\n",
    "|\"micro\"      |\\\\[ P(y, \\hat{y}) \\\\]|\\\\[R(y, \\hat{y})\\\\]|\\\\[F_\\beta(y, \\hat{y})\\\\]|\n",
    "|\"samples\"    |\\\\[\\frac{1}{\\left|S\\right|} \\sum_{s \\in S} P(y_s, \\hat{y}_s)\\\\]|\\\\[\\frac{1}{\\left|S\\right|} \\sum_{s \\in S} R(y_s, \\hat{y}_s)\\\\]|\\\\[\\frac{1}{\\left|S\\right|} \\sum_{s \\in S} F_\\beta(y_s, \\hat{y}_s)\\\\]|\n",
    "|\"macro\"      |\\\\[\\frac{1}{\\left|L\\right|} \\sum_{l \\in L} P(y_l, \\hat{y}_l)\\\\]|\\\\[\\frac{1}{\\left|L\\right|} \\sum_{l \\in L} R(y_l, \\hat{y}_l)\\\\]|\\\\[\\frac{1}{\\left|L\\right|} \\sum_{l \\in L} F_\\beta(y_l, \\hat{y}_l)\\\\]|\n",
    "|\"weighted\"   |\\\\[\\frac{1}{\\sum_{l \\in L} \\left|\\hat{y}_l\\right|} \\sum_{l \\in L} \\left|\\hat{y}_l\\right| P(y_l, \\hat{y}_l)\\\\]|\\\\[\\frac{1}{\\sum_{l \\in L} \\left|\\hat{y}_l\\right|} \\sum_{l \\in L} \\left|\\hat{y}_l\\right| R(y_l, \\hat{y}_l)\\\\]|\\\\[\\frac{1}{\\sum_{l \\in L} \\left|\\hat{y}_l\\right|} \\sum_{l \\in L} \\left|\\hat{y}_l\\right| F_\\beta(y_l, \\hat{y}_l)\\\\]|\n",
    "|\"None\"       |\\\\[\\langle P(y_l, \\hat{y}_l) | l \\in L \\rangle\\\\]|\\\\[\\langle R(y_l, \\hat{y}_l) | l \\in L \\rangle\\\\]|\\\\[\\langle F_\\beta(y_l, \\hat{y}_l) | l \\in L \\rangle\\\\]|\n"
   ]
  },
  {
   "cell_type": "code",
   "execution_count": 7,
   "metadata": {},
   "outputs": [
    {
     "name": "stdout",
     "output_type": "stream",
     "text": [
      "macro_precision=0.2222222222222222\n",
      "micro_precision=0.3333333333333333\n",
      "weighted_f1=0.26666666666666666\n",
      "macro_fbeta=0.23809523809523805\n",
      "none_fbeta=(array([0.67, 0.  , 0.  ]), array([1., 0., 0.]), array([0.71, 0.  , 0.  ]), array([2, 2, 2]))\n"
     ]
    }
   ],
   "source": [
    "from sklearn import metrics\n",
    "\n",
    "y_true = [0, 1, 2, 0, 1, 2]\n",
    "y_pred = [0, 2, 1, 0, 0, 1]\n",
    "\n",
    "macro_precision = metrics.precision_score(y_true, y_pred, average='macro')  \n",
    "print(\"macro_precision={}\".format(macro_precision))\n",
    "\n",
    "micro_precision = metrics.recall_score(y_true, y_pred, average='micro')\n",
    "print(\"micro_precision={}\".format(micro_precision))\n",
    "\n",
    "weighted_f1 = metrics.f1_score(y_true, y_pred, average='weighted')  \n",
    "print(\"weighted_f1={}\".format(weighted_f1))\n",
    "\n",
    "macro_fbeta = metrics.fbeta_score(y_true, y_pred, average='macro', beta=0.5)  \n",
    "print(\"macro_fbeta={}\".format(macro_fbeta))\n",
    "\n",
    "none_fbeta = metrics.precision_recall_fscore_support(y_true, y_pred, beta=0.5, average=None)\n",
    "print(\"none_fbeta={}\".format(none_fbeta))"
   ]
  },
  {
   "cell_type": "markdown",
   "metadata": {},
   "source": [
    "## Receiver operating characteristic (ROC)\n",
    "\n",
    "ROC 커브는 이진 분류 시스템의 성능을 Positive 와 Negative 를 판별하는 Threshold 값을 다양하게 변화 시키면서 TPR(True Positive Rate)대 FPR(False Positive Rate)의 비율의 시각화하여 보여줌으로써 성능 차이를 판단할 수 있게 하는 방법입니다.\n",
    "\n",
    "예를 들어, 두 이진 분류 모델 A, B가 존재할 경우 A 모델이 모든 Threshold 에서 ROC 의 값이 B보다 크다면 A 모델은 B 모델보다 성능이 좋다고 판단할 수 있습니다.\n",
    "\n",
    "아래는 Multi-Class 를 Over vs the Rest 방식으로 이진 분류 모델로 학습하고 각 Class 에 대해서 테스트 데이터에 대하여 decision_function() 과 roc_curve() 함수를 이용하여 TPR, FPR, Threshold 값을 구하고 ROC Curve를 시각화화는 예제입니다."
   ]
  },
  {
   "cell_type": "code",
   "execution_count": 9,
   "metadata": {},
   "outputs": [],
   "source": [
    "# 참조: https://scikit-learn.org/stable/auto_examples/model_selection/plot_roc.html\n",
    "import numpy as np\n",
    "import matplotlib.pyplot as plt\n",
    "from itertools import cycle\n",
    "\n",
    "from sklearn import svm, datasets\n",
    "from sklearn.metrics import roc_curve, auc\n",
    "from sklearn.model_selection import train_test_split\n",
    "from sklearn.preprocessing import label_binarize\n",
    "from sklearn.multiclass import OneVsRestClassifier\n",
    "from scipy import interp\n",
    "\n",
    "# Import some data to play with\n",
    "iris = datasets.load_iris()\n",
    "X = iris.data\n",
    "y = iris.target\n",
    "\n",
    "# Binarize the output\n",
    "y = label_binarize(y, classes=[0, 1, 2])\n",
    "n_classes = y.shape[1]\n",
    "\n",
    "# Add noisy features to make the problem harder\n",
    "random_state = np.random.RandomState(0)\n",
    "n_samples, n_features = X.shape\n",
    "X = np.c_[X, random_state.randn(n_samples, 200 * n_features)]\n",
    "\n",
    "# shuffle and split training and test sets\n",
    "X_train, X_test, y_train, y_test = train_test_split(X, y, test_size=.5,\n",
    "                                                    random_state=0)\n",
    "\n",
    "# Learn to predict each class against the other\n",
    "classifier = OneVsRestClassifier(svm.SVC(kernel='linear', probability=True,\n",
    "                                 random_state=random_state))\n",
    "y_score = classifier.fit(X_train, y_train).decision_function(X_test)\n",
    "\n",
    "# Compute ROC curve and ROC area for each class\n",
    "fpr = dict()\n",
    "tpr = dict()\n",
    "roc_auc = dict()\n",
    "for i in range(n_classes):\n",
    "    fpr[i], tpr[i], _ = roc_curve(y_test[:, i], y_score[:, i])\n",
    "    roc_auc[i] = auc(fpr[i], tpr[i])\n",
    "\n",
    "# Compute micro-average ROC curve and ROC area\n",
    "fpr[\"micro\"], tpr[\"micro\"], _ = roc_curve(y_test.ravel(), y_score.ravel())\n",
    "roc_auc[\"micro\"] = auc(fpr[\"micro\"], tpr[\"micro\"])"
   ]
  },
  {
   "cell_type": "markdown",
   "metadata": {},
   "source": [
    "각 Class의 ROC Curve를 볼 수 있으며, Curve의 차이가 시각적으로 미비하다면, auc() 함수를 통해 구한 AUC (Area Under the Curve) 면적 값을 통해 하나의 값으로 비교 가능합니다."
   ]
  },
  {
   "cell_type": "code",
   "execution_count": 15,
   "metadata": {},
   "outputs": [
    {
     "data": {
      "image/png": "[encoded data removed]",
      "text/plain": [
       "<Figure size 432x288 with 1 Axes>"
      ]
     },
     "metadata": {
      "needs_background": "light"
     },
     "output_type": "display_data"
    }
   ],
   "source": [
    "plt.figure()\n",
    "lw = 2\n",
    "\n",
    "plt.plot(fpr[0], tpr[0], color='aqua',\n",
    "         lw=lw, label='ROC curve (area = %0.2f)' % roc_auc[0])\n",
    "\n",
    "plt.plot(fpr[1], tpr[1], color='darkorange',\n",
    "         lw=lw, label='ROC curve (area = %0.2f)' % roc_auc[1])\n",
    "\n",
    "plt.plot(fpr[2], tpr[2], color='cornflowerblue',\n",
    "         lw=lw, label='ROC curve (area = %0.2f)' % roc_auc[2])\n",
    "plt.plot([0, 1], [0, 1], color='navy', lw=lw, linestyle='--')\n",
    "plt.xlim([0.0, 1.0])\n",
    "plt.ylim([0.0, 1.05])\n",
    "plt.xlabel('False Positive Rate')\n",
    "plt.ylabel('True Positive Rate')\n",
    "plt.title('Receiver operating characteristic example')\n",
    "plt.legend(loc=\"lower right\")\n",
    "plt.show()"
   ]
  },
  {
   "cell_type": "markdown",
   "metadata": {},
   "source": [
    "Multi-Class 분류 모델의 전체적인 성능을 비교하기 위해서는 각 Class 의 TPR과 FPR 값의 다양한 평균을 구하는 방식을 통해 하나의 값으로 비교가 가능하게 됩니다."
   ]
  },
  {
   "cell_type": "code",
   "execution_count": 11,
   "metadata": {},
   "outputs": [
    {
     "data": {
      "image/png": "[encoded data removed]",
      "text/plain": [
       "<Figure size 432x288 with 1 Axes>"
      ]
     },
     "metadata": {
      "needs_background": "light"
     },
     "output_type": "display_data"
    }
   ],
   "source": [
    "# Compute macro-average ROC curve and ROC area\n",
    "\n",
    "# First aggregate all false positive rates\n",
    "all_fpr = np.unique(np.concatenate([fpr[i] for i in range(n_classes)]))\n",
    "\n",
    "# Then interpolate all ROC curves at this points\n",
    "mean_tpr = np.zeros_like(all_fpr)\n",
    "for i in range(n_classes):\n",
    "    mean_tpr += interp(all_fpr, fpr[i], tpr[i])\n",
    "\n",
    "# Finally average it and compute AUC\n",
    "mean_tpr /= n_classes\n",
    "\n",
    "fpr[\"macro\"] = all_fpr\n",
    "tpr[\"macro\"] = mean_tpr\n",
    "roc_auc[\"macro\"] = auc(fpr[\"macro\"], tpr[\"macro\"])\n",
    "\n",
    "# Plot all ROC curves\n",
    "plt.figure()\n",
    "plt.plot(fpr[\"micro\"], tpr[\"micro\"],\n",
    "         label='micro-average ROC curve (area = {0:0.2f})'\n",
    "               ''.format(roc_auc[\"micro\"]),\n",
    "         color='deeppink', linestyle=':', linewidth=4)\n",
    "\n",
    "plt.plot(fpr[\"macro\"], tpr[\"macro\"],\n",
    "         label='macro-average ROC curve (area = {0:0.2f})'\n",
    "               ''.format(roc_auc[\"macro\"]),\n",
    "         color='navy', linestyle=':', linewidth=4)\n",
    "\n",
    "colors = cycle(['aqua', 'darkorange', 'cornflowerblue'])\n",
    "for i, color in zip(range(n_classes), colors):\n",
    "    plt.plot(fpr[i], tpr[i], color=color, lw=lw,\n",
    "             label='ROC curve of class {0} (area = {1:0.2f})'\n",
    "             ''.format(i, roc_auc[i]))\n",
    "\n",
    "plt.plot([0, 1], [0, 1], 'k--', lw=lw)\n",
    "plt.xlim([0.0, 1.0])\n",
    "plt.ylim([0.0, 1.05])\n",
    "plt.xlabel('False Positive Rate')\n",
    "plt.ylabel('True Positive Rate')\n",
    "plt.title('Some extension of Receiver operating characteristic to multi-class')\n",
    "plt.legend(loc=\"lower right\")\n",
    "plt.show()"
   ]
  },
  {
   "cell_type": "code",
   "execution_count": null,
   "metadata": {},
   "outputs": [],
   "source": []
  }
 ],
 "metadata": {
  "kernelspec": {
   "display_name": "Python 3",
   "language": "python",
   "name": "python3"
  },
  "language_info": {
   "codemirror_mode": {
    "name": "ipython",
    "version": 3
   },
   "file_extension": ".py",
   "mimetype": "text/x-python",
   "name": "python",
   "nbconvert_exporter": "python",
   "pygments_lexer": "ipython3",
   "version": "3.7.6"
  },
  "nikola": {
   "category": "",
   "date": "2019-05-25",
   "description": "",
   "link": "",
   "slug": "ml-eval-classification",
   "tags": "",
   "title": "Machine Learning - Evaluation - Classification",
   "type": "text"
  },
  "toc": {
   "base_numbering": 1,
   "nav_menu": {},
   "number_sections": true,
   "sideBar": true,
   "skip_h1_title": false,
   "title_cell": "Table of Contents",
   "title_sidebar": "Contents",
   "toc_cell": false,
   "toc_position": {},
   "toc_section_display": true,
   "toc_window_display": false
  }
 },
 "nbformat": 4,
 "nbformat_minor": 4
}
