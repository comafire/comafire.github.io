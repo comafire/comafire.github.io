{
 "cells": [
  {
   "cell_type": "code",
   "execution_count": 1,
   "metadata": {
    "collapsed": false,
    "deletable": true,
    "editable": true,
    "scrolled": true
   },
   "outputs": [
    {
     "name": "stdout",
     "output_type": "stream",
     "text": [
      " - PkgDev                        0.1.2\n"
     ]
    }
   ],
   "source": [
    "# 현재 설치된 라이브러리 상태 체크\n",
    "Pkg.status(\"PkgDev\")"
   ]
  },
  {
   "cell_type": "code",
   "execution_count": 2,
   "metadata": {
    "collapsed": false,
    "deletable": true,
    "editable": true
   },
   "outputs": [
    {
     "data": {
      "text/plain": [
       "v\"0.1.2\""
      ]
     },
     "execution_count": 2,
     "metadata": {},
     "output_type": "execute_result"
    }
   ],
   "source": [
    "# 설치된 라이브러리를 Dictonary 상태로 받아 볼 수 있습니다.\n",
    "# 라이브러리 설치를 자동으로 진행하도록 만들 수 있습니다.\n",
    "Pkg.installed(\"PkgDev\")"
   ]
  },
  {
   "cell_type": "code",
   "execution_count": 3,
   "metadata": {
    "collapsed": false,
    "deletable": true,
    "editable": true
   },
   "outputs": [
    {
     "name": "stderr",
     "output_type": "stream",
     "text": [
      "INFO: Updating METADATA...\n",
      "INFO: Updating cache of DataFrames...\n",
      "INFO: Computing changes...\n",
      "INFO: No packages to install, update or remove\n"
     ]
    }
   ],
   "source": [
    "# 설치된 패키지를 업데이트 합니다.\n",
    "Pkg.update(\"PkgDev\")"
   ]
  },
  {
   "cell_type": "code",
   "execution_count": 4,
   "metadata": {
    "collapsed": false,
    "deletable": true,
    "editable": true
   },
   "outputs": [
    {
     "name": "stderr",
     "output_type": "stream",
     "text": [
      "INFO: Removing PkgDev v0.1.2\n",
      "INFO: Package database updated\n"
     ]
    }
   ],
   "source": [
    "# 패키지 삭제\n",
    "Pkg.rm(\"PkgDev\")"
   ]
  },
  {
   "cell_type": "code",
   "execution_count": 5,
   "metadata": {
    "collapsed": false,
    "deletable": true,
    "editable": true
   },
   "outputs": [
    {
     "name": "stderr",
     "output_type": "stream",
     "text": [
      "INFO: Installing PkgDev v0.1.2\n",
      "INFO: Package database updated\n"
     ]
    }
   ],
   "source": [
    "# 패키지 설치\n",
    "Pkg.add(\"PkgDev\")"
   ]
  },
  {
   "cell_type": "code",
   "execution_count": 6,
   "metadata": {
    "collapsed": false,
    "deletable": true,
    "editable": true
   },
   "outputs": [
    {
     "name": "stdout",
     "output_type": "stream",
     "text": [
      " - PkgDev                        0.1.2\n"
     ]
    },
    {
     "name": "stderr",
     "output_type": "stream",
     "text": [
      "INFO: Checking out PkgDev master...\n",
      "INFO: Pulling PkgDev latest master...\n"
     ]
    },
    {
     "name": "stdout",
     "output_type": "stream",
     "text": [
      " - PkgDev                        0.1.2+             master\n"
     ]
    },
    {
     "name": "stderr",
     "output_type": "stream",
     "text": [
      "INFO: No packages to install, update or remove\n"
     ]
    },
    {
     "name": "stdout",
     "output_type": "stream",
     "text": [
      " - PkgDev                        0.1.2\n"
     ]
    },
    {
     "name": "stderr",
     "output_type": "stream",
     "text": [
      "INFO: Freeing PkgDev\n",
      "INFO: No packages to install, update or remove\n"
     ]
    }
   ],
   "source": [
    "# 패키지 Git Master 버전 설치\n",
    "Pkg.status(\"PkgDev\")\n",
    "Pkg.checkout(\"PkgDev\")\n",
    "Pkg.status(\"PkgDev\")\n",
    "Pkg.free(\"PkgDev\")\n",
    "Pkg.status(\"PkgDev\")"
   ]
  },
  {
   "cell_type": "code",
   "execution_count": 7,
   "metadata": {
    "collapsed": false,
    "deletable": true,
    "editable": true
   },
   "outputs": [
    {
     "name": "stdout",
     "output_type": "stream",
     "text": [
      " - PkgDev                        0.1.2\n"
     ]
    },
    {
     "name": "stderr",
     "output_type": "stream",
     "text": [
      "INFO: Package PkgDev: checking out existing branch pinned.e242d965.tmp\n",
      "INFO: No packages to install, update or remove\n"
     ]
    },
    {
     "name": "stdout",
     "output_type": "stream",
     "text": [
      " - PkgDev                        0.1.1              pinned.e242d965.tmp\n"
     ]
    },
    {
     "name": "stderr",
     "output_type": "stream",
     "text": [
      "INFO: Freeing PkgDev\n",
      "INFO: No packages to install, update or remove\n"
     ]
    },
    {
     "name": "stdout",
     "output_type": "stream",
     "text": [
      " - PkgDev                        0.1.2\n"
     ]
    }
   ],
   "source": [
    "# 패키지 특정 버전 설치\n",
    "Pkg.status(\"PkgDev\")\n",
    "Pkg.pin(\"PkgDev\", v\"0.1.1\")\n",
    "Pkg.status(\"PkgDev\")\n",
    "Pkg.free(\"PkgDev\")\n",
    "Pkg.status(\"PkgDev\")"
   ]
  },
  {
   "cell_type": "markdown",
   "metadata": {
    "deletable": true,
    "editable": true
   },
   "source": [
    "## Packge 개발\n",
    "\n",
    "패키지 개발시에는 PkgDev 를 통해 편리하게 패키지 개발이 가능합니다."
   ]
  },
  {
   "cell_type": "code",
   "execution_count": 8,
   "metadata": {
    "collapsed": false,
    "deletable": true,
    "editable": true
   },
   "outputs": [],
   "source": [
    "# git과의 연동을 위해 git config 를 이용해 개발자 이름과 메일정보를 설정합니다.\n",
    "run(`git config --global user.name \"comafire\"`)\n",
    "run(`git config --global user.email \"comafire@gmail.com\"`)"
   ]
  },
  {
   "cell_type": "code",
   "execution_count": 9,
   "metadata": {
    "collapsed": true,
    "deletable": true,
    "editable": true
   },
   "outputs": [],
   "source": [
    "# github와 연동을 위해 github.user 정보를 설정합니다.\n",
    "run(`git config --global github.user \"comafire\"`)"
   ]
  },
  {
   "cell_type": "code",
   "execution_count": null,
   "metadata": {
    "collapsed": false,
    "deletable": true,
    "editable": true
   },
   "outputs": [],
   "source": [
    "# PkgDev 를 설치하고 사용 선언을 합니다.\n",
    "Pkg.add(\"PkgDev\")\n",
    "using PkgDev"
   ]
  },
  {
   "cell_type": "code",
   "execution_count": null,
   "metadata": {
    "collapsed": false,
    "deletable": true,
    "editable": true
   },
   "outputs": [],
   "source": [
    "# PkgDev로 개발할 패키지의 이름과 라이센스를 명시하여 생성합니다.\n",
    "PkgDev.generate(\"FooBar\", \"MIT\")"
   ]
  },
  {
   "cell_type": "code",
   "execution_count": 12,
   "metadata": {
    "collapsed": false,
    "deletable": true,
    "editable": true
   },
   "outputs": [
    {
     "name": "stdout",
     "output_type": "stream",
     "text": [
      " - FooBar                        0.0.0-             master (unregistered)\n"
     ]
    }
   ],
   "source": [
    "# FooBar 패키지가 생성된것을 확인할 수 있습니다.\n",
    "Pkg.status(\"FooBar\")"
   ]
  },
  {
   "cell_type": "code",
   "execution_count": 13,
   "metadata": {
    "collapsed": false,
    "deletable": true,
    "editable": true
   },
   "outputs": [
    {
     "name": "stdout",
     "output_type": "stream",
     "text": [
      ".\n",
      "..\n",
      ".git\n",
      ".gitignore\n",
      ".travis.yml\n",
      "LICENSE.md\n",
      "README.md\n",
      "REQUIRE\n",
      "appveyor.yml\n",
      "src\n",
      "test\n"
     ]
    }
   ],
   "source": [
    "# 패키지 디렉토리는 아래와 같이 생성됩니다. src 디렉토리 내에서 패키지 개발을 시작하면 됩니다.\n",
    "run(`ls -a /Users/comafire/.julia/v0.5/FooBar`)"
   ]
  },
  {
   "cell_type": "markdown",
   "metadata": {
    "deletable": true,
    "editable": true
   },
   "source": [
    "FooBar.jl 파일에 아래와 같이 hello() 함수를 추가해 보겠습니다.\n",
    "```julia\n",
    "module FooBar\n",
    "\n",
    "# package code goes here\n",
    "export hello\n",
    "\n",
    "function hello()\n",
    "  print(\"Hello Julia!!\")\n",
    "end\n",
    "\n",
    "end # module\n",
    "```"
   ]
  },
  {
   "cell_type": "code",
   "execution_count": 14,
   "metadata": {
    "collapsed": false,
    "deletable": true,
    "editable": true
   },
   "outputs": [
    {
     "name": "stdout",
     "output_type": "stream",
     "text": [
      "Hello Julia!!"
     ]
    }
   ],
   "source": [
    "# 이제 FooBar 모듈 사용이 가능합니다.\n",
    "using FooBar\n",
    "FooBar.hello()"
   ]
  },
  {
   "cell_type": "markdown",
   "metadata": {
    "deletable": true,
    "editable": true
   },
   "source": [
    "Github에 작성한 패키지를 올려서 관리가 가능합니다.  \n",
    "Github에서 FooBar 저장소를 생성하였다는 가정하에 초기 커밋을 해보도록 하겠습니다."
   ]
  },
  {
   "cell_type": "code",
   "execution_count": 15,
   "metadata": {
    "collapsed": true,
    "deletable": true,
    "editable": true
   },
   "outputs": [],
   "source": [
    "# FooBar 패키지 디렉토리로 이동합니다.\n",
    "cd(Pkg.dir(\"FooBar\"))"
   ]
  },
  {
   "cell_type": "code",
   "execution_count": 16,
   "metadata": {
    "collapsed": false,
    "deletable": true,
    "editable": true
   },
   "outputs": [
    {
     "name": "stdout",
     "output_type": "stream",
     "text": [
      "[master d934e75] first commit\n",
      " 1 file changed, 5 insertions(+)\n"
     ]
    }
   ],
   "source": [
    "# 작성한 모듈을 로컬 저장소에 커밋합니다.\n",
    "run(`git add .`)\n",
    "run(`git commit -m \"first commit\"`)"
   ]
  },
  {
   "cell_type": "code",
   "execution_count": null,
   "metadata": {
    "collapsed": false,
    "deletable": true,
    "editable": true
   },
   "outputs": [],
   "source": [
    "# Github에 생성된 저장소를 리모트 저장소로 등록한 뒤 push 합니다.\n",
    "run(`git remote add origin https://github.com/comafire/FooBar.git`)\n",
    "run(`git push -u origin master`)"
   ]
  },
  {
   "cell_type": "code",
   "execution_count": 18,
   "metadata": {
    "collapsed": false,
    "deletable": true,
    "editable": true
   },
   "outputs": [
    {
     "name": "stderr",
     "output_type": "stream",
     "text": [
      "INFO: Removing FooBar (unregistered)\n",
      "INFO: Cloning FooBar from git://github.com/comafire/FooBar.git\n",
      "INFO: Computing changes...\n",
      "INFO: No packages to install, update or remove\n"
     ]
    }
   ],
   "source": [
    "# 이제 Github를 통해 패키지 개발과 버전관리가 가능합니다.\n",
    "# 패키지 삭제 후 Github를 통해 Pkg.clone()로 재설치해 보겠습니다.\n",
    "Pkg.rm(\"FooBar\")\n",
    "Pkg.clone(\"git://github.com/comafire/FooBar.git\")"
   ]
  },
  {
   "cell_type": "code",
   "execution_count": 19,
   "metadata": {
    "collapsed": false,
    "deletable": true,
    "editable": true
   },
   "outputs": [
    {
     "name": "stdout",
     "output_type": "stream",
     "text": [
      " - FooBar                        0.0.0-             master (unregistered)\n"
     ]
    }
   ],
   "source": [
    "Pkg.status(\"FooBar\")"
   ]
  }
 ],
 "metadata": {
  "kernelspec": {
   "display_name": "Julia 0.5.0",
   "language": "julia",
   "name": "julia-0.5"
  },
  "language_info": {
   "file_extension": ".jl",
   "mimetype": "application/julia",
   "name": "julia",
   "version": "0.5.0"
  },
  "nikola": {
   "category": "",
   "date": "2016-10-13 00:00:00 UTC+09:00",
   "description": "",
   "link": "",
   "slug": "2016-10-13-Julia-Package",
   "tags": "",
   "title": "2016-10-13-Julia-Package",
   "type": "text"
  }
 },
 "nbformat": 4,
 "nbformat_minor": 0
}
