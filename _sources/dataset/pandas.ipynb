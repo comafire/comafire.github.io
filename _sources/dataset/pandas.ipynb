{
 "cells": [
  {
   "cell_type": "markdown",
   "metadata": {},
   "source": [
    "# Pandas Cheatsheet\n",
    "\n",
    "Pandas 는 테이블 형태의 자료를 쉽고 직관적으로 다룰 수 있는 Python 라이브러리 입니다. R, Spark 과 마찬가지로 DataFrame 형태의 데이터 조작 방식을 제공하기 때문에 기존에 다른 언어에서의 DataFrame 형태의 API를 사용했던 사람이라면 쉽게 적응하여 사용할 수 있습니다.\n",
    "\n",
    "참조\n",
    "* [10 Minutes to pandas](https://pandas.pydata.org/pandas-docs/stable/getting_started/10min.html)\n",
    "* [Pandas Basics Cheat Sheet](https://www.datacamp.com/community/blog/python-pandas-cheat-sheet)\n",
    "* [Pandas Cheat Sheet: Data Wrangling in Python](https://www.datacamp.com/community/blog/pandas-cheat-sheet-python)\n",
    "* [Pandas 10분 완성](https://dataitgirls2.github.io/10minutes2pandas/)"
   ]
  },
  {
   "cell_type": "code",
   "execution_count": 3,
   "metadata": {},
   "outputs": [
    {
     "name": "stdout",
     "output_type": "stream",
     "text": [
      "numpy ver=1.23.1\n",
      "pandas ver=1.2.4\n"
     ]
    }
   ],
   "source": [
    "import pandas as pd\n",
    "import numpy as np\n",
    "import matplotlib.pyplot as plt\n",
    "\n",
    "print(\"numpy ver={}\".format(np.__version__))\n",
    "print(\"pandas ver={}\".format(pd.__version__))"
   ]
  },
  {
   "cell_type": "markdown",
   "metadata": {},
   "source": [
    "## Series, DataFrame\n",
    "\n",
    "* Series: 1차원 데이터(리스트 형태)를 표현하는 구조\n",
    "* DataFrame: 2차원 데이터(테이블 형태)를 표현하는 구조"
   ]
  },
  {
   "cell_type": "code",
   "execution_count": 4,
   "metadata": {},
   "outputs": [
    {
     "name": "stdout",
     "output_type": "stream",
     "text": [
      "0    1.0\n",
      "1    3.0\n",
      "2    5.0\n",
      "3    NaN\n",
      "4    6.0\n",
      "5    8.0\n",
      "dtype: float64\n",
      "DatetimeIndex(['2013-01-01', '2013-01-02', '2013-01-03', '2013-01-04',\n",
      "               '2013-01-05', '2013-01-06'],\n",
      "              dtype='datetime64[ns]', freq='D')\n",
      "['A', 'B', 'C', 'D']\n",
      "[[-1.71938116  1.28631837  0.24284392 -0.93244523]\n",
      " [-1.19110208 -0.35500583  0.82614074 -0.08154429]\n",
      " [-0.24377431  0.63717415 -0.63062627 -0.08026694]\n",
      " [-0.70823093  1.7716175   0.1022816   1.04184055]\n",
      " [-1.04917555 -0.43138715 -0.75327522  0.31933443]\n",
      " [-0.81170268 -1.28165698  1.15325045 -0.43975833]]\n",
      "                   A         B         C         D\n",
      "2013-01-01 -1.719381  1.286318  0.242844 -0.932445\n",
      "2013-01-02 -1.191102 -0.355006  0.826141 -0.081544\n",
      "2013-01-03 -0.243774  0.637174 -0.630626 -0.080267\n",
      "2013-01-04 -0.708231  1.771618  0.102282  1.041841\n",
      "2013-01-05 -1.049176 -0.431387 -0.753275  0.319334\n",
      "2013-01-06 -0.811703 -1.281657  1.153250 -0.439758\n",
      "     A          B    C  D      E    F\n",
      "0  1.0 2013-01-02  1.0  3   test  foo\n",
      "1  1.0 2013-01-02  1.0  3  train  foo\n",
      "2  1.0 2013-01-02  1.0  3   test  foo\n",
      "3  1.0 2013-01-02  1.0  3  train  foo\n"
     ]
    }
   ],
   "source": [
    "# Series\n",
    "s = pd.Series([1,3,5,np.nan,6,8])\n",
    "print(s)\n",
    "\n",
    "# DataFrame by Numpy Array\n",
    "index = pd.date_range('20130101', periods=6)\n",
    "print(index)\n",
    "\n",
    "columns = ['A','B','C','D']\n",
    "print(columns)\n",
    "\n",
    "data = np.random.randn(6, 4)\n",
    "print(data)\n",
    "\n",
    "df = pd.DataFrame(data, index=index, columns=columns)\n",
    "print(df)\n",
    "\n",
    "# DataFrome by Dictonary\n",
    "df2 = pd.DataFrame({\n",
    "  'A': 1.,\n",
    "  'B': pd.Timestamp('20130102'),\n",
    "  'C': pd.Series(1, index=list(range(4)), dtype='float32'),\n",
    "  'D': np.array([3] * 4, dtype='int32'),\n",
    "  'E': pd.Categorical([\"test\", \"train\", \"test\", \"train\"]),\n",
    "  'F': 'foo'\n",
    "})\n",
    "print(df2)"
   ]
  },
  {
   "cell_type": "markdown",
   "metadata": {},
   "source": [
    "### CSV Read/Write"
   ]
  },
  {
   "cell_type": "code",
   "execution_count": 5,
   "metadata": {},
   "outputs": [
    {
     "name": "stdout",
     "output_type": "stream",
     "text": [
      "     A          B    C  D      E    F\n",
      "0  1.0 2013-01-02  1.0  3   test  foo\n",
      "1  1.0 2013-01-02  1.0  3  train  foo\n",
      "2  1.0 2013-01-02  1.0  3   test  foo\n",
      "3  1.0 2013-01-02  1.0  3  train  foo\n",
      "     A           B    C  D      E    F\n",
      "0  1.0  2013-01-02  1.0  3   test  foo\n",
      "1  1.0  2013-01-02  1.0  3  train  foo\n",
      "2  1.0  2013-01-02  1.0  3   test  foo\n",
      "3  1.0  2013-01-02  1.0  3  train  foo\n"
     ]
    }
   ],
   "source": [
    "# CSV\n",
    "df = pd.DataFrame({\n",
    "  'A': 1.,\n",
    "  'B': pd.Timestamp('20130102'),\n",
    "  'C': pd.Series(1, index=list(range(4)), dtype='float32'),\n",
    "  'D': np.array([3] * 4, dtype='int32'),\n",
    "  'E': pd.Categorical([\"test\", \"train\", \"test\", \"train\"]),\n",
    "  'F': 'foo'\n",
    "})\n",
    "print(df)\n",
    "path_csv = \"/tmp/foo.csv\"\n",
    "df.to_csv(path_csv, index=False)\n",
    "\n",
    "df = pd.read_csv(path_csv, header=0)\n",
    "print(df)"
   ]
  },
  {
   "cell_type": "markdown",
   "metadata": {},
   "source": [
    "### Excel Read/Write"
   ]
  },
  {
   "cell_type": "code",
   "execution_count": 6,
   "metadata": {},
   "outputs": [
    {
     "name": "stdout",
     "output_type": "stream",
     "text": [
      "     A          B    C  D      E    F\n",
      "0  1.0 2013-01-02  1.0  3   test  foo\n",
      "1  1.0 2013-01-02  1.0  3  train  foo\n",
      "2  1.0 2013-01-02  1.0  3   test  foo\n",
      "3  1.0 2013-01-02  1.0  3  train  foo\n",
      "   A          B  C  D      E    F\n",
      "0  1 2013-01-02  1  3   test  foo\n",
      "1  1 2013-01-02  1  3  train  foo\n",
      "2  1 2013-01-02  1  3   test  foo\n",
      "3  1 2013-01-02  1  3  train  foo\n"
     ]
    }
   ],
   "source": [
    "# Excel\n",
    "# openpyxl 패키지 설치 필요\n",
    "# pip install openpyxl \n",
    "df = pd.DataFrame({\n",
    "  'A': 1.,\n",
    "  'B': pd.Timestamp('20130102'),\n",
    "  'C': pd.Series(1, index=list(range(4)), dtype='float32'),\n",
    "  'D': np.array([3] * 4, dtype='int32'),\n",
    "  'E': pd.Categorical([\"test\", \"train\", \"test\", \"train\"]),\n",
    "  'F': 'foo'\n",
    "})\n",
    "print(df)\n",
    "path_csv = \"/tmp/foo.xlsx\"\n",
    "df.to_excel(path_csv, index=False)\n",
    "\n",
    "df = pd.read_excel(path_csv, header=0)\n",
    "print(df)"
   ]
  },
  {
   "cell_type": "markdown",
   "metadata": {},
   "source": [
    "### JSON Read/Write "
   ]
  },
  {
   "cell_type": "code",
   "execution_count": 7,
   "metadata": {},
   "outputs": [
    {
     "name": "stdout",
     "output_type": "stream",
     "text": [
      "      col 1 col 2\n",
      "row 1     a     b\n",
      "row 2     c     d\n",
      "  col 1 col 2\n",
      "0     a     b\n",
      "1     c     d\n"
     ]
    }
   ],
   "source": [
    "df = pd.DataFrame([['a', 'b'], ['c', 'd']], index=['row 1', 'row 2'], columns=['col 1', 'col 2'])\n",
    "print(df)\n",
    "\n",
    "path_json = \"/tmp/foo.json\"\n",
    "# '{\"row 1\":{\"col 1\":\"a\",\"col 2\":\"b\"},\"row 2\":{\"col 1\":\"c\",\"col 2\":\"d\"}}'\n",
    "#df.to_json(path_json, orient='index')\n",
    "# '[{\"col 1\":\"a\",\"col 2\":\"b\"},{\"col 1\":\"c\",\"col 2\":\"d\"}]'\n",
    "df.to_json(path_json, orient='records')\n",
    "\n",
    "#df = pd.read_json(path_json, orient='index')\n",
    "df = pd.read_json(path_json, orient='records')\n",
    "print(df)"
   ]
  },
  {
   "cell_type": "markdown",
   "metadata": {},
   "source": [
    "## DataFrame 정보보기"
   ]
  },
  {
   "cell_type": "code",
   "execution_count": 8,
   "metadata": {},
   "outputs": [
    {
     "name": "stdout",
     "output_type": "stream",
     "text": [
      "                   A         B         C         D\n",
      "2013-01-01 -1.719381  1.286318  0.242844 -0.932445\n",
      "2013-01-02 -1.191102 -0.355006  0.826141 -0.081544\n",
      "2013-01-03 -0.243774  0.637174 -0.630626 -0.080267\n",
      "2013-01-04 -0.708231  1.771618  0.102282  1.041841\n",
      "2013-01-05 -1.049176 -0.431387 -0.753275  0.319334\n",
      "2013-01-06 -0.811703 -1.281657  1.153250 -0.439758\n",
      "A           float64\n",
      "B    datetime64[ns]\n",
      "C           float32\n",
      "D             int32\n",
      "E          category\n",
      "F            object\n",
      "dtype: object\n",
      "<class 'pandas.core.frame.DataFrame'>\n",
      "Int64Index: 4 entries, 0 to 3\n",
      "Data columns (total 6 columns):\n",
      " #   Column  Non-Null Count  Dtype         \n",
      "---  ------  --------------  -----         \n",
      " 0   A       4 non-null      float64       \n",
      " 1   B       4 non-null      datetime64[ns]\n",
      " 2   C       4 non-null      float32       \n",
      " 3   D       4 non-null      int32         \n",
      " 4   E       4 non-null      category      \n",
      " 5   F       4 non-null      object        \n",
      "dtypes: category(1), datetime64[ns](1), float32(1), float64(1), int32(1), object(1)\n",
      "memory usage: 288.0+ bytes\n",
      "None\n"
     ]
    }
   ],
   "source": [
    "df = pd.DataFrame(data, index=index, columns=columns)\n",
    "print(df)\n",
    "\n",
    "# DataFrame 컬럼 정보\n",
    "print(df2.dtypes)\n",
    "print(df2.info())"
   ]
  },
  {
   "cell_type": "code",
   "execution_count": 9,
   "metadata": {},
   "outputs": [
    {
     "name": "stdout",
     "output_type": "stream",
     "text": [
      "                   A         B         C         D\n",
      "2013-01-01 -1.719381  1.286318  0.242844 -0.932445\n",
      "2013-01-02 -1.191102 -0.355006  0.826141 -0.081544\n",
      "2013-01-03 -0.243774  0.637174 -0.630626 -0.080267\n",
      "2013-01-04 -0.708231  1.771618  0.102282  1.041841\n",
      "2013-01-05 -1.049176 -0.431387 -0.753275  0.319334\n",
      "                   A         B         C         D\n",
      "2013-01-04 -0.708231  1.771618  0.102282  1.041841\n",
      "2013-01-05 -1.049176 -0.431387 -0.753275  0.319334\n",
      "2013-01-06 -0.811703 -1.281657  1.153250 -0.439758\n",
      "(6, 4)\n",
      "DatetimeIndex(['2013-01-01', '2013-01-02', '2013-01-03', '2013-01-04',\n",
      "               '2013-01-05', '2013-01-06'],\n",
      "              dtype='datetime64[ns]', freq='D')\n",
      "Index(['A', 'B', 'C', 'D'], dtype='object')\n",
      "[[-1.71938116  1.28631837  0.24284392 -0.93244523]\n",
      " [-1.19110208 -0.35500583  0.82614074 -0.08154429]\n",
      " [-0.24377431  0.63717415 -0.63062627 -0.08026694]\n",
      " [-0.70823093  1.7716175   0.1022816   1.04184055]\n",
      " [-1.04917555 -0.43138715 -0.75327522  0.31933443]\n",
      " [-0.81170268 -1.28165698  1.15325045 -0.43975833]]\n",
      "<class 'numpy.ndarray'>\n"
     ]
    }
   ],
   "source": [
    "# 데이터 살펴보기\n",
    "print(df.head())\n",
    "print(df.tail(3))\n",
    "\n",
    "# DataFrame 요소 살펴보기\n",
    "print(df.shape)\n",
    "print(df.index)\n",
    "print(df.columns)\n",
    "print(df.values)\n",
    "print(type(df.values))"
   ]
  },
  {
   "cell_type": "markdown",
   "metadata": {},
   "source": [
    "## DataFrame 조작하기\n",
    "\n",
    "### Copy"
   ]
  },
  {
   "cell_type": "code",
   "execution_count": 10,
   "metadata": {},
   "outputs": [
    {
     "name": "stdout",
     "output_type": "stream",
     "text": [
      "df addr=0x125e17820, df2 addr=0x125dbf9d0\n"
     ]
    }
   ],
   "source": [
    "# Dataframe 은 주소 참조를 하기 때문에 원본 데이터가 수정되지 않기를 바란다면\n",
    "# copy() 함수를 통해 명시적 복사를 진행해야 함\n",
    "df2 = df.copy()\n",
    "\n",
    "# 복사 후 달라진 주소 확인\n",
    "print(f\"df addr={hex(id(df))}, df2 addr={hex(id(df2))}\")"
   ]
  },
  {
   "cell_type": "markdown",
   "metadata": {},
   "source": [
    "### Selection"
   ]
  },
  {
   "cell_type": "code",
   "execution_count": 14,
   "metadata": {},
   "outputs": [
    {
     "name": "stdout",
     "output_type": "stream",
     "text": [
      "                   A         B         C         D\n",
      "2013-01-01 -1.719381  1.286318  0.242844 -0.932445\n",
      "2013-01-02 -1.191102 -0.355006  0.826141 -0.081544\n",
      "2013-01-01   -1.719381\n",
      "2013-01-02   -1.191102\n",
      "2013-01-03   -0.243774\n",
      "2013-01-04   -0.708231\n",
      "2013-01-05   -1.049176\n",
      "Freq: D, Name: A, dtype: float64\n",
      "                   A         B\n",
      "2013-01-01 -1.719381  1.286318\n",
      "2013-01-02 -1.191102 -0.355006\n",
      "2013-01-03 -0.243774  0.637174\n",
      "2013-01-04 -0.708231  1.771618\n",
      "2013-01-05 -1.049176 -0.431387\n",
      "       b\n",
      "0   True\n",
      "1  False\n",
      "2   True\n",
      "3  False\n",
      "4   True\n",
      "5  False\n",
      "     c\n",
      "0  1.0\n",
      "1  2.0\n",
      "2  1.0\n",
      "3  2.0\n",
      "4  1.0\n",
      "5  2.0\n",
      "   a\n",
      "0  1\n",
      "1  2\n",
      "2  1\n",
      "3  2\n",
      "4  1\n",
      "5  2\n"
     ]
    }
   ],
   "source": [
    "# 행 슬라이싱\n",
    "print(df[0:2])\n",
    "\n",
    "# 열 선택\n",
    "print(df['A'].head())\n",
    "\n",
    "# 열 다중선택\n",
    "print(df[['A', 'B']].head())\n",
    "\n",
    "# 데이터 타입으로 열 선택\n",
    "df3 = pd.DataFrame({'a': [1, 2] * 3,\n",
    "                   'b': [True, False] * 3,\n",
    "                   'c': [1.0, 2.0] * 3})\n",
    "print(df3.select_dtypes(include=['bool']))\n",
    "print(df3.select_dtypes(include=['float64']))\n",
    "print(df3.select_dtypes(include=['int64']))"
   ]
  },
  {
   "cell_type": "code",
   "execution_count": 76,
   "metadata": {},
   "outputs": [
    {
     "name": "stdout",
     "output_type": "stream",
     "text": [
      "-0.4065751958736635\n",
      "A   -0.406575\n",
      "B    1.154904\n",
      "C    0.283025\n",
      "D   -0.533548\n",
      "Name: 2013-01-01 00:00:00, dtype: float64\n",
      "                   A         B         C         D\n",
      "2013-01-01 -0.406575  1.154904  0.283025 -0.533548\n",
      "2013-01-02  0.310146 -0.977560  0.045798  1.600883\n",
      "2013-01-03 -1.454818 -0.212861  1.080810 -0.198280\n",
      "2013-01-01   -0.406575\n",
      "2013-01-02    0.310146\n",
      "2013-01-03   -1.454818\n",
      "2013-01-04   -1.109016\n",
      "2013-01-05   -0.183504\n",
      "Freq: D, Name: A, dtype: float64\n",
      "                   A         B\n",
      "2013-01-01 -0.406575  1.154904\n",
      "2013-01-02  0.310146 -0.977560\n",
      "2013-01-03 -1.454818 -0.212861\n",
      "2013-01-04 -1.109016 -1.420387\n",
      "2013-01-05 -0.183504 -0.079999\n",
      "                   A         B\n",
      "2013-01-01 -0.406575  1.154904\n",
      "2013-01-02  0.310146 -0.977560\n",
      "2013-01-03 -1.454818 -0.212861\n"
     ]
    }
   ],
   "source": [
    "# Label 을 이용한 선택 .loc()\n",
    "\n",
    "# 셀 선택\n",
    "print(df.loc['2013-01-01', 'A'])\n",
    "\n",
    "# 행 선택\n",
    "print(df.loc['2013-01-01'])\n",
    "\n",
    "# 행 슬라이싱\n",
    "print(df.loc['2013-01-01':'2013-01-03'])\n",
    "\n",
    "# 열 선택\n",
    "print(df.loc[:, 'A'].head())\n",
    "\n",
    "# 열 다중 선택\n",
    "print(df.loc[:, ['A', 'B']].head())\n",
    "\n",
    "# 행, 열 다중 선택\n",
    "print(df.loc['2013-01-01':'2013-01-03', ['A', 'B']])"
   ]
  },
  {
   "cell_type": "code",
   "execution_count": 77,
   "metadata": {},
   "outputs": [
    {
     "name": "stdout",
     "output_type": "stream",
     "text": [
      "-0.4065751958736635\n",
      "A   -0.406575\n",
      "B    1.154904\n",
      "C    0.283025\n",
      "D   -0.533548\n",
      "Name: 2013-01-01 00:00:00, dtype: float64\n",
      "                   A         B         C         D\n",
      "2013-01-01 -0.406575  1.154904  0.283025 -0.533548\n",
      "2013-01-02  0.310146 -0.977560  0.045798  1.600883\n",
      "2013-01-03 -1.454818 -0.212861  1.080810 -0.198280\n",
      "2013-01-01   -0.406575\n",
      "2013-01-02    0.310146\n",
      "2013-01-03   -1.454818\n",
      "2013-01-04   -1.109016\n",
      "2013-01-05   -0.183504\n",
      "Freq: D, Name: A, dtype: float64\n",
      "                   A         B\n",
      "2013-01-01 -0.406575  1.154904\n",
      "2013-01-02  0.310146 -0.977560\n",
      "2013-01-03 -1.454818 -0.212861\n",
      "2013-01-04 -1.109016 -1.420387\n",
      "2013-01-05 -0.183504 -0.079999\n",
      "                   A         B\n",
      "2013-01-01 -0.406575  1.154904\n",
      "2013-01-02  0.310146 -0.977560\n",
      "2013-01-03 -1.454818 -0.212861\n",
      "                   A         B\n",
      "2013-01-02  0.310146 -0.977560\n",
      "2013-01-04 -1.109016 -1.420387\n"
     ]
    }
   ],
   "source": [
    "# Position을 이용한 선택 .iloc()\n",
    "\n",
    "# 셀 선택\n",
    "print(df.iloc[0, 0])\n",
    "\n",
    "# 행 선택\n",
    "print(df.iloc[0])\n",
    "\n",
    "# 행 슬라이싱\n",
    "print(df.iloc[0:3])\n",
    "\n",
    "# 열 선택\n",
    "print(df.iloc[:, 0].head())\n",
    "\n",
    "# 열 다중 선택\n",
    "print(df.iloc[:, 0:2].head())\n",
    "\n",
    "# 행, 열 다중 선택\n",
    "print(df.iloc[0:3, 0:2])\n",
    "\n",
    "print(df.iloc[[1, 3], [0, 1]])"
   ]
  },
  {
   "cell_type": "code",
   "execution_count": 78,
   "metadata": {},
   "outputs": [
    {
     "name": "stdout",
     "output_type": "stream",
     "text": [
      "                  B         C\n",
      "2013-01-02 -0.97756  0.045798\n",
      "                  B         C\n",
      "2013-01-02 -0.97756  0.045798\n",
      "                   A         B         C         D\n",
      "2013-01-01       NaN  1.154904  0.283025       NaN\n",
      "2013-01-02  0.310146       NaN  0.045798  1.600883\n",
      "2013-01-03       NaN       NaN  1.080810       NaN\n",
      "2013-01-04       NaN       NaN       NaN       NaN\n",
      "2013-01-05       NaN       NaN       NaN       NaN\n",
      "2013-01-06       NaN       NaN       NaN  0.090299\n",
      "2013-01-01    False\n",
      "2013-01-02    False\n",
      "2013-01-03     True\n",
      "2013-01-04    False\n",
      "2013-01-05     True\n",
      "2013-01-06    False\n",
      "Freq: D, Name: E, dtype: bool\n",
      "                   A         B         C         D     E\n",
      "2013-01-03 -1.454818 -0.212861  1.080810 -0.198280   two\n",
      "2013-01-05 -0.183504 -0.079999 -0.992413 -0.213163  four\n",
      "                   A         B         C         D     E\n",
      "2013-01-03 -1.454818 -0.212861  1.080810 -0.198280   two\n",
      "2013-01-05 -0.183504 -0.079999 -0.992413 -0.213163  four\n"
     ]
    }
   ],
   "source": [
    "# 조건을 이용한 선택\n",
    "\n",
    "# 열 단위\n",
    "print(df[df['A'] > 0][['B', 'C']])\n",
    "print(df.loc[df['A'] > 0, ['B', 'C']])\n",
    "\n",
    "# DataFrame 단위\n",
    "print(df[df > 0])\n",
    "\n",
    "# Boolean 리스트를 이용\n",
    "df2 = df.copy()\n",
    "df2['E'] = ['one', 'one', 'two', 'three', 'four', 'three']\n",
    "index = df2['E'].isin(['two','four'])\n",
    "print(index)\n",
    "print(df2[df2['E'].isin(['two','four'])])\n",
    "print(df2.loc[df2['E'].isin(['two','four'])])"
   ]
  },
  {
   "cell_type": "markdown",
   "metadata": {},
   "source": [
    "### Setting"
   ]
  },
  {
   "cell_type": "code",
   "execution_count": 94,
   "metadata": {},
   "outputs": [
    {
     "name": "stdout",
     "output_type": "stream",
     "text": [
      "                   A         B         C         D    F    G\n",
      "2013-01-01 -0.406575  1.154904  0.283025 -0.533548  NaN  NaN\n",
      "2013-01-02  0.310146 -0.977560  0.045798  1.600883  1.0  1.0\n",
      "2013-01-03 -1.454818 -0.212861  1.080810 -0.198280  2.0  2.0\n",
      "2013-01-04 -1.109016 -1.420387 -0.340734 -0.438138  3.0  3.0\n",
      "2013-01-05 -0.183504 -0.079999 -0.992413 -0.213163  4.0  4.0\n",
      "2013-01-06 -0.133029 -0.770604 -2.005459  0.090299  5.0  5.0\n",
      "                   A         B         C         D    F    G\n",
      "2013-01-01 -0.406575  1.154904  0.283025 -0.533548  NaN  NaN\n",
      "2013-01-02  0.310146 -0.977560  0.045798  1.600883  1.0  1.0\n",
      "2013-01-03 -1.454818 -0.212861  1.080810 -0.198280  2.0  2.0\n",
      "2013-01-05 -0.183504 -0.079999 -0.992413 -0.213163  4.0  4.0\n",
      "2013-01-06 -0.133029 -0.770604 -2.005459  0.090299  5.0  5.0\n",
      "                   A         B         C         D    F\n",
      "2013-01-01 -0.406575  1.154904  0.283025 -0.533548  NaN\n",
      "2013-01-02  0.310146 -0.977560  0.045798  1.600883  1.0\n",
      "2013-01-03 -1.454818 -0.212861  1.080810 -0.198280  2.0\n",
      "2013-01-05 -0.183504 -0.079999 -0.992413 -0.213163  4.0\n",
      "2013-01-06 -0.133029 -0.770604 -2.005459  0.090299  5.0\n",
      "                   A         B         C         D    F\n",
      "2013-01-01 -0.406575  1.154904  0.283025 -0.533548  NaN\n",
      "2013-01-02  0.310146 -0.977560  0.045798  1.600883  0.0\n",
      "2013-01-03 -1.454818 -0.212861  1.080810 -0.198280  1.0\n",
      "2013-01-05 -0.183504 -0.079999 -0.992413 -0.213163  4.0\n",
      "2013-01-06 -0.133029 -0.770604 -2.005459  0.090299  5.0\n",
      "                   A         B         C         D    F\n",
      "2013-01-01 -0.406575  1.154904  0.283025 -0.533548  NaN\n",
      "2013-01-02  0.310146 -0.977560  0.045798  1.600883  5.0\n",
      "2013-01-03 -1.454818 -0.212861  1.080810 -0.198280  5.0\n",
      "2013-01-05 -0.183504 -0.079999 -0.992413 -0.213163  5.0\n",
      "2013-01-06 -0.133029 -0.770604 -2.005459  0.090299  5.0\n",
      "                   A         B         C         D    F\n",
      "2013-01-01 -0.406575 -1.154904 -0.283025 -0.533548  NaN\n",
      "2013-01-02 -0.310146 -0.977560 -0.045798 -1.600883 -5.0\n",
      "2013-01-03 -1.454818 -0.212861 -1.080810 -0.198280 -5.0\n",
      "2013-01-05 -0.183504 -0.079999 -0.992413 -0.213163 -5.0\n",
      "2013-01-06 -0.133029 -0.770604 -2.005459 -0.090299 -5.0\n"
     ]
    }
   ],
   "source": [
    "# 값 설정\n",
    "s1 = pd.Series([1,2,3,4,5,6], index=pd.date_range('20130102', periods=6))\n",
    "df['F'] = s1\n",
    "df['G'] = s1\n",
    "print(df)\n",
    "\n",
    "# 행 삭제: index 기준\n",
    "df = df.drop([pd.to_datetime('2013-01-04')], axis=0) \n",
    "print(df)\n",
    "\n",
    "# # 열 삭제: 열 이름기준\n",
    "df = df.drop(['G'], axis=1)\n",
    "print(df)\n",
    "\n",
    "\n",
    "# Label에 의한 값 설정\n",
    "df.at['2013-01-02', 'F'] = 0\n",
    "\n",
    "\n",
    "# Position에 의한 값 설정\n",
    "df.iat[2,-1] = 1\n",
    "\n",
    "print(df)\n",
    "\n",
    "# 배열을 이용한 값 설정\n",
    "df.loc['2013-01-02':, 'F'] = np.array([5] * (len(df) - 1))\n",
    "print(df)\n",
    "\n",
    "# 조건을 통한 값 설정\n",
    "df2 = df.copy()\n",
    "df2[df2 > 0] = -df2\n",
    "print(df2)"
   ]
  },
  {
   "cell_type": "markdown",
   "metadata": {},
   "source": [
    "### Missing Value"
   ]
  },
  {
   "cell_type": "code",
   "execution_count": 38,
   "metadata": {},
   "outputs": [
    {
     "name": "stdout",
     "output_type": "stream",
     "text": [
      "                   A         B         C         D    F    E\n",
      "2013-01-01  0.523658  0.548980 -0.968327  0.487522  NaN  1.0\n",
      "2013-01-02  1.086258  0.904897 -0.446926 -0.504047  5.0  1.0\n",
      "2013-01-03  0.236893 -0.094955 -0.280539 -0.162157  5.0  NaN\n",
      "2013-01-04  0.438455  0.918198 -0.338696 -0.565120  5.0  NaN\n",
      "                   A         B         C         D    F    E\n",
      "2013-01-02  1.086258  0.904897 -0.446926 -0.504047  5.0  1.0\n",
      "                   A         B         C         D    F    E\n",
      "2013-01-01  0.523658  0.548980 -0.968327  0.487522  5.0  1.0\n",
      "2013-01-02  1.086258  0.904897 -0.446926 -0.504047  5.0  1.0\n",
      "2013-01-03  0.236893 -0.094955 -0.280539 -0.162157  5.0  5.0\n",
      "2013-01-04  0.438455  0.918198 -0.338696 -0.565120  5.0  5.0\n",
      "                A      B      C      D      F      E\n",
      "2013-01-01  False  False  False  False   True  False\n",
      "2013-01-02  False  False  False  False  False  False\n",
      "2013-01-03  False  False  False  False  False   True\n",
      "2013-01-04  False  False  False  False  False   True\n",
      "                A      B      C      D      F      E\n",
      "2013-01-01  False  False  False  False   True  False\n",
      "2013-01-02  False  False  False  False  False  False\n",
      "2013-01-03  False  False  False  False  False   True\n",
      "2013-01-04  False  False  False  False  False   True\n",
      "               A     B     C     D      F      E\n",
      "2013-01-01  True  True  True  True  False   True\n",
      "2013-01-02  True  True  True  True   True   True\n",
      "2013-01-03  True  True  True  True   True  False\n",
      "2013-01-04  True  True  True  True   True  False\n",
      "               A     B     C     D      F      E\n",
      "2013-01-01  True  True  True  True  False   True\n",
      "2013-01-02  True  True  True  True   True   True\n",
      "2013-01-03  True  True  True  True   True  False\n",
      "2013-01-04  True  True  True  True   True  False\n"
     ]
    }
   ],
   "source": [
    "index = pd.date_range('20130101', periods=6)\n",
    "df1 = df.reindex(index=index[0:4], columns=list(df.columns) + ['E'])\n",
    "df1.loc[index[0]:index[1],'E'] = 1\n",
    "print(df1)\n",
    "\n",
    "# 결측치 제거하기\n",
    "print(df1.dropna(how='any'))\n",
    "\n",
    "# 결측치 채워넣기\n",
    "print(df1.fillna(value=5))\n",
    "\n",
    "# 결측치 위치보기\n",
    "print(df1.isna())\n",
    "print(df1.isnull()) # isna() 와 같음\n",
    "\n",
    "# 결측치는 제외한 위치보기\n",
    "print(df1.notna())\n",
    "print(df1.notnull())"
   ]
  },
  {
   "cell_type": "markdown",
   "metadata": {},
   "source": [
    "### Operation"
   ]
  },
  {
   "cell_type": "code",
   "execution_count": 39,
   "metadata": {},
   "outputs": [
    {
     "name": "stdout",
     "output_type": "stream",
     "text": [
      "              A         B         C         D    F\n",
      "count  6.000000  6.000000  6.000000  6.000000  5.0\n",
      "mean   0.332269  0.574651 -0.414428 -0.299727  5.0\n",
      "std    0.507378  0.623868  0.296350  0.425299  0.0\n",
      "min   -0.465602 -0.211383 -0.968327 -0.685344  5.0\n",
      "25%    0.189688  0.066029 -0.425532 -0.549852  5.0\n",
      "50%    0.337674  0.726939 -0.350023 -0.436632  5.0\n",
      "75%    0.502357  0.914873 -0.295078 -0.213922  5.0\n",
      "max    1.086258  1.382171 -0.090733  0.487522  5.0\n",
      "A    0.332269\n",
      "B    0.574651\n",
      "C   -0.414428\n",
      "D   -0.299727\n",
      "F    5.000000\n",
      "dtype: float64\n",
      "2013-01-01    0.147958\n",
      "2013-01-02    1.208036\n",
      "2013-01-03    0.939848\n",
      "2013-01-04    1.090567\n",
      "2013-01-05    1.165111\n",
      "2013-01-06    0.709387\n",
      "Freq: D, dtype: float64\n",
      "2013-01-01    NaN\n",
      "2013-01-02    NaN\n",
      "2013-01-03    1.0\n",
      "2013-01-04    3.0\n",
      "2013-01-05    5.0\n",
      "2013-01-06    NaN\n",
      "Freq: D, dtype: float64\n",
      "                   A         B         C         D    F\n",
      "2013-01-01       NaN       NaN       NaN       NaN  NaN\n",
      "2013-01-02       NaN       NaN       NaN       NaN  NaN\n",
      "2013-01-03 -0.763107 -1.094955 -1.280539 -1.162157  4.0\n",
      "2013-01-04 -2.561545 -2.081802 -3.338696 -3.565120  2.0\n",
      "2013-01-05 -4.826047 -3.617829 -5.361350 -5.369217  0.0\n",
      "2013-01-06       NaN       NaN       NaN       NaN  NaN\n"
     ]
    }
   ],
   "source": [
    "# DataFrame 통계확인\n",
    "print(df.describe())\n",
    "\n",
    "# 열 별 통계\n",
    "print(df.mean())\n",
    "\n",
    "# 행 별 통계\n",
    "print(df.mean(1))\n",
    "\n",
    "# DataFrame 연산\n",
    "s = pd.Series([1,3,5,np.nan,6,8], index=index).shift(2)\n",
    "print(s)\n",
    "print(df.sub(s, axis='index'))"
   ]
  },
  {
   "cell_type": "code",
   "execution_count": 40,
   "metadata": {},
   "outputs": [
    {
     "name": "stdout",
     "output_type": "stream",
     "text": [
      "   2013-01-01  2013-01-02  2013-01-03  2013-01-04  2013-01-05  2013-01-06\n",
      "A    0.523658    1.086258    0.236893    0.438455    0.173953   -0.465602\n",
      "B    0.548980    0.904897   -0.094955    0.918198    1.382171   -0.211383\n",
      "C   -0.968327   -0.446926   -0.280539   -0.338696   -0.361350   -0.090733\n",
      "D    0.487522   -0.504047   -0.162157   -0.565120   -0.369217   -0.685344\n",
      "F         NaN    5.000000    5.000000    5.000000    5.000000    5.000000\n"
     ]
    }
   ],
   "source": [
    "# DataFrame Transpose(전치, 열과행치환)\n",
    "print(df.T)"
   ]
  },
  {
   "cell_type": "code",
   "execution_count": 41,
   "metadata": {},
   "outputs": [
    {
     "name": "stdout",
     "output_type": "stream",
     "text": [
      "                   A         B         C         D    F\n",
      "2013-01-01  0.523658  0.548980 -0.968327  0.487522  NaN\n",
      "2013-01-02  1.086258  0.904897 -0.446926 -0.504047  5.0\n",
      "2013-01-03  0.236893 -0.094955 -0.280539 -0.162157  5.0\n",
      "2013-01-04  0.438455  0.918198 -0.338696 -0.565120  5.0\n",
      "2013-01-05  0.173953  1.382171 -0.361350 -0.369217  5.0\n",
      "2013-01-06 -0.465602 -0.211383 -0.090733 -0.685344  5.0\n",
      "              F         D         C         B         A\n",
      "2013-01-01  NaN  0.487522 -0.968327  0.548980  0.523658\n",
      "2013-01-02  5.0 -0.504047 -0.446926  0.904897  1.086258\n",
      "2013-01-03  5.0 -0.162157 -0.280539 -0.094955  0.236893\n",
      "2013-01-04  5.0 -0.565120 -0.338696  0.918198  0.438455\n",
      "2013-01-05  5.0 -0.369217 -0.361350  1.382171  0.173953\n",
      "2013-01-06  5.0 -0.685344 -0.090733 -0.211383 -0.465602\n",
      "                   A         B         C         D    F\n",
      "2013-01-06 -0.465602 -0.211383 -0.090733 -0.685344  5.0\n",
      "2013-01-03  0.236893 -0.094955 -0.280539 -0.162157  5.0\n",
      "2013-01-01  0.523658  0.548980 -0.968327  0.487522  NaN\n",
      "2013-01-02  1.086258  0.904897 -0.446926 -0.504047  5.0\n",
      "2013-01-04  0.438455  0.918198 -0.338696 -0.565120  5.0\n",
      "2013-01-05  0.173953  1.382171 -0.361350 -0.369217  5.0\n",
      "                   A         B         C         D    F\n",
      "2013-01-06 -0.465602 -0.211383 -0.090733 -0.685344  5.0\n",
      "2013-01-03  0.236893 -0.094955 -0.280539 -0.162157  5.0\n",
      "2013-01-01  0.523658  0.548980 -0.968327  0.487522  NaN\n",
      "2013-01-02  1.086258  0.904897 -0.446926 -0.504047  5.0\n",
      "2013-01-04  0.438455  0.918198 -0.338696 -0.565120  5.0\n",
      "2013-01-05  0.173953  1.382171 -0.361350 -0.369217  5.0\n"
     ]
    }
   ],
   "source": [
    "# 축별로 정렬\n",
    "print(df.sort_index()) # 오름차순\n",
    "print(df.sort_index(axis=1, ascending=False)) #내림차순\n",
    "\n",
    "# 값별로 정렬\n",
    "print(df.sort_values(by='B'))\n",
    "print(df.sort_values(by=['B', 'C'])) # 복수 컬럼"
   ]
  },
  {
   "cell_type": "code",
   "execution_count": 42,
   "metadata": {},
   "outputs": [
    {
     "name": "stdout",
     "output_type": "stream",
     "text": [
      "                   A         B         C         D     F\n",
      "2013-01-01  0.523658  0.548980 -0.968327  0.487522   NaN\n",
      "2013-01-02  1.609916  1.453877 -1.415253 -0.016525   5.0\n",
      "2013-01-03  1.846809  1.358922 -1.695792 -0.178682  10.0\n",
      "2013-01-04  2.285264  2.277120 -2.034487 -0.743803  15.0\n",
      "2013-01-05  2.459216  3.659291 -2.395837 -1.113020  20.0\n",
      "2013-01-06  1.993614  3.447907 -2.486570 -1.798364  25.0\n",
      "A    1.551860\n",
      "B    1.593554\n",
      "C    0.877594\n",
      "D    1.172866\n",
      "F    0.000000\n",
      "dtype: float64\n",
      "                   A         B         C         D         F\n",
      "2013-01-01  0.523658  1.072638  0.104311  0.591833       NaN\n",
      "2013-01-02  1.086258  1.991155  1.544229  1.040182  6.040182\n",
      "2013-01-03  0.236893  0.141937 -0.138601 -0.300759  4.699241\n",
      "2013-01-04  0.438455  1.356653  1.017957  0.452837  5.452837\n",
      "2013-01-05  0.173953  1.556124  1.194774  0.825556  5.825556\n",
      "2013-01-06 -0.465602 -0.676985 -0.767718 -1.453063  3.546937\n",
      "2013-01-01    1.517308\n",
      "2013-01-02    5.504047\n",
      "2013-01-03    5.280539\n",
      "2013-01-04    5.565120\n",
      "2013-01-05    5.369217\n",
      "2013-01-06    5.685344\n",
      "Freq: D, dtype: float64\n"
     ]
    }
   ],
   "source": [
    "# apply: 데이터에 함수 적용\n",
    "\n",
    "# 열별 적용\n",
    "print(df.apply(np.cumsum))\n",
    "print(df.apply(lambda x: x.max() - x.min()))\n",
    "\n",
    "# 행별 적용\n",
    "print(df.apply(np.cumsum, axis=1))\n",
    "print(df.apply(lambda x: x.max() - x.min(), axis=1))"
   ]
  },
  {
   "cell_type": "code",
   "execution_count": 43,
   "metadata": {},
   "outputs": [
    {
     "name": "stdout",
     "output_type": "stream",
     "text": [
      "0    6\n",
      "1    6\n",
      "2    3\n",
      "3    5\n",
      "4    3\n",
      "5    6\n",
      "6    3\n",
      "7    6\n",
      "8    0\n",
      "9    2\n",
      "dtype: int64\n",
      "6    4\n",
      "3    3\n",
      "0    1\n",
      "2    1\n",
      "5    1\n",
      "dtype: int64\n"
     ]
    }
   ],
   "source": [
    "# Histogramming: 데이터 값 세기\n",
    "s = pd.Series(np.random.randint(0, 7, size=10))\n",
    "print(s)\n",
    "print(s.value_counts())"
   ]
  },
  {
   "cell_type": "code",
   "execution_count": 44,
   "metadata": {},
   "outputs": [
    {
     "name": "stdout",
     "output_type": "stream",
     "text": [
      "0       a\n",
      "1       b\n",
      "2       c\n",
      "3    aaba\n",
      "4    baca\n",
      "5     NaN\n",
      "6    caba\n",
      "7     dog\n",
      "8     cat\n",
      "dtype: object\n"
     ]
    }
   ],
   "source": [
    "# 문자열 함수\n",
    "s = pd.Series(['A', 'B', 'C', 'Aaba', 'Baca', np.nan, 'CABA', 'dog', 'cat'])\n",
    "print(s.str.lower())"
   ]
  },
  {
   "cell_type": "markdown",
   "metadata": {},
   "source": [
    "### Merge\n",
    "\n",
    "상세 참조자료: https://pandas.pydata.org/pandas-docs/stable/user_guide/merging.html"
   ]
  },
  {
   "cell_type": "code",
   "execution_count": 45,
   "metadata": {},
   "outputs": [
    {
     "name": "stdout",
     "output_type": "stream",
     "text": [
      "          0         1         2\n",
      "0  1.312877  0.573515 -0.834520\n",
      "1 -0.695523 -0.110469  0.302099\n",
      "          0         1         2\n",
      "3 -0.264594 -1.256058 -0.873582\n",
      "4  0.836012  1.234542  0.567087\n",
      "          0         1         2\n",
      "0  1.312877  0.573515 -0.834520\n",
      "1 -0.695523 -0.110469  0.302099\n",
      "3 -0.264594 -1.256058 -0.873582\n",
      "4  0.836012  1.234542  0.567087\n",
      "          0         1         2\n",
      "0  1.312877  0.573515 -0.834520\n",
      "1 -0.695523 -0.110469  0.302099\n",
      "2 -0.264594 -1.256058 -0.873582\n",
      "3  0.836012  1.234542  0.567087\n",
      "          0         1         2         3         4         5\n",
      "0  1.312877  0.573515 -0.834520 -0.264594 -1.256058 -0.873582\n",
      "1 -0.695523 -0.110469  0.302099  0.836012  1.234542  0.567087\n"
     ]
    }
   ],
   "source": [
    "# Concat: 단순히 두 DataFrame을 연결만 하기 때문에 의도한 결과와 같은지 확인이 필요합니다.\n",
    "df = pd.DataFrame(np.random.randn(10, 3))\n",
    "a = df[:2]\n",
    "b = df[3:5]\n",
    "print(a)\n",
    "print(b)\n",
    "\n",
    "# 행 기반 연결\n",
    "print(pd.concat([a, b]))\n",
    "print(pd.concat([a, b], ignore_index=True))\n",
    "\n",
    "# 열 기반 연결\n",
    "b.columns = [3, 4, 5]\n",
    "b.reset_index(inplace=True, drop=True)\n",
    "print(pd.concat([a, b], axis=1))"
   ]
  },
  {
   "cell_type": "code",
   "execution_count": 46,
   "metadata": {},
   "outputs": [
    {
     "name": "stdout",
     "output_type": "stream",
     "text": [
      "          A         B         C\n",
      "0  0.645724 -0.023637  0.529198\n",
      "1 -1.660055 -0.120990 -0.693897\n",
      "2 -0.368514  0.095203  0.262218\n",
      "          A         B         C\n",
      "0  0.645724 -0.023637  0.529198\n",
      "1 -1.660055 -0.120990 -0.693897\n",
      "2 -0.368514  0.095203  0.262218\n",
      "3 -1.660055 -0.120990 -0.693897\n"
     ]
    }
   ],
   "source": [
    "# Append: 행 기반 concat 과 같습니다.\n",
    "df = pd.DataFrame(np.random.randn(3, 3), columns=['A', 'B', 'C'])\n",
    "print(df)\n",
    "\n",
    "s = df.iloc[1]\n",
    "print(df.append(s, ignore_index=True))"
   ]
  },
  {
   "cell_type": "code",
   "execution_count": 47,
   "metadata": {},
   "outputs": [
    {
     "name": "stdout",
     "output_type": "stream",
     "text": [
      "   key  lval\n",
      "0  foo     1\n",
      "1  bar     2\n",
      "   key  rval\n",
      "0  foo     4\n",
      "1  bar     5\n",
      "   key  lval  rval\n",
      "0  foo     1     4\n",
      "1  bar     2     5\n"
     ]
    }
   ],
   "source": [
    "# Join: SQL 에서 지원하는 방식과 유사\n",
    "left = pd.DataFrame({'key': ['foo', 'bar'], 'lval': [1, 2]})\n",
    "right = pd.DataFrame({'key': ['foo', 'bar'], 'rval': [4, 5]})\n",
    "print(left)\n",
    "print(right)\n",
    "print(pd.merge(left, right, on= 'key'))"
   ]
  },
  {
   "cell_type": "code",
   "execution_count": 48,
   "metadata": {},
   "outputs": [
    {
     "name": "stdout",
     "output_type": "stream",
     "text": [
      "     A      B         C         D\n",
      "0  foo    one -0.630498 -0.304689\n",
      "1  bar    one  0.374077 -0.940406\n",
      "2  foo    two -1.610434  0.304611\n",
      "3  bar  three -0.281375 -0.808427\n",
      "            C         D\n",
      "A                      \n",
      "bar  0.092702 -1.748833\n",
      "foo -2.240932 -0.000078\n",
      "                  C         D\n",
      "A   B                        \n",
      "bar one    0.374077 -0.940406\n",
      "    three -0.281375 -0.808427\n",
      "foo one   -0.630498 -0.304689\n",
      "    two   -1.610434  0.304611\n"
     ]
    }
   ],
   "source": [
    "# GroupBy: SQL 에서 지원되는 방식과 유사\n",
    "df = pd.DataFrame({\n",
    "  'A' : ['foo', 'bar', 'foo', 'bar'],\n",
    "  'B' : ['one', 'one', 'two', 'three'],\n",
    "  'C' : np.random.randn(4),\n",
    "  'D' : np.random.randn(4)\n",
    "})\n",
    "print(df)\n",
    "\n",
    "print(df.groupby('A').sum())\n",
    "print(df.groupby(['A','B']).sum())"
   ]
  },
  {
   "cell_type": "markdown",
   "metadata": {},
   "source": [
    "### Reshaping"
   ]
  },
  {
   "cell_type": "code",
   "execution_count": 49,
   "metadata": {},
   "outputs": [
    {
     "name": "stdout",
     "output_type": "stream",
     "text": [
      "one  a    1.0\n",
      "     b    2.0\n",
      "two  a    3.0\n",
      "     b    4.0\n",
      "dtype: float64\n",
      "       a    b\n",
      "one  1.0  2.0\n",
      "two  3.0  4.0\n",
      "one  a    1.0\n",
      "     b    2.0\n",
      "two  a    3.0\n",
      "     b    4.0\n",
      "dtype: float64\n",
      "        A  B    C         D         E\n",
      "0     one  A  foo -0.680790 -0.787647\n",
      "1     one  B  foo  0.602496  0.539262\n",
      "2     two  C  foo  0.370922  2.524820\n",
      "3   three  A  bar  0.574524  0.245856\n",
      "4     one  B  bar  0.829092  0.172843\n",
      "5     one  C  bar  1.191064 -0.697159\n",
      "6     two  A  foo  1.270573  0.385478\n",
      "7   three  B  foo -1.950049  1.068935\n",
      "8     one  C  foo -0.617827  0.609768\n",
      "9     one  A  bar -0.684763  0.722808\n",
      "10    two  B  bar  2.060348  2.418646\n",
      "11  three  C  bar -1.293355  1.708552\n",
      "C             bar       foo\n",
      "A     B                    \n",
      "one   A -0.684763 -0.680790\n",
      "      B  0.829092  0.602496\n",
      "      C  1.191064 -0.617827\n",
      "three A  0.574524       NaN\n",
      "      B       NaN -1.950049\n",
      "      C -1.293355       NaN\n",
      "two   A       NaN  1.270573\n",
      "      B  2.060348       NaN\n",
      "      C       NaN  0.370922\n"
     ]
    }
   ],
   "source": [
    "# Stack\n",
    "index = pd.MultiIndex.from_tuples([('one', 'a'), ('one', 'b'),\n",
    "                                   ('two', 'a'), ('two', 'b')])\n",
    "s = pd.Series(np.arange(1.0, 5.0), index=index)\n",
    "print(s)\n",
    "df = s.unstack()\n",
    "print(df)\n",
    "print(df.stack())\n",
    "\n",
    "# Pivot\n",
    "df = pd.DataFrame({'A' : ['one', 'one', 'two', 'three'] * 3,\n",
    "                   'B' : ['A', 'B', 'C'] * 4,\n",
    "                   'C' : ['foo', 'foo', 'foo', 'bar', 'bar', 'bar'] * 2,\n",
    "                   'D' : np.random.randn(12),\n",
    "                   'E' : np.random.randn(12)})\n",
    "print(df)\n",
    "print(pd.pivot_table(df, values='D', index=['A', 'B'], columns=['C']))"
   ]
  },
  {
   "cell_type": "markdown",
   "metadata": {},
   "source": [
    "### Time Series\n",
    "\n",
    "Time Series 데이터를 다룰 때 필요한 편리한 기능을 제공합니다.\n",
    "\n",
    "상세참조자료: https://pandas.pydata.org/pandas-docs/stable/user_guide/timeseries.html"
   ]
  },
  {
   "cell_type": "code",
   "execution_count": 50,
   "metadata": {},
   "outputs": [
    {
     "name": "stdout",
     "output_type": "stream",
     "text": [
      "DatetimeIndex(['2018-01-01', '2018-01-01', '2018-01-01'], dtype='datetime64[ns]', freq=None)\n",
      "DatetimeIndex(['2018-01-01 00:00:00', '2018-01-01 01:00:00'], dtype='datetime64[ns]', freq='H')\n",
      "0   2009-07-31\n",
      "1   2010-01-10\n",
      "2          NaT\n",
      "dtype: datetime64[ns]\n",
      "DatetimeIndex(['2005-11-23', '2010-12-31'], dtype='datetime64[ns]', freq=None)\n",
      "DatetimeIndex(['2012-10-08 18:15:05', '2012-10-09 18:15:05'], dtype='datetime64[ns]', freq=None)\n",
      "DatetimeIndex(['2012-10-08 18:15:05.100000', '2012-10-08 18:15:05.200000'], dtype='datetime64[ns]', freq=None)\n",
      "ERROR: Unknown string format: asd\n",
      "DatetimeIndex(['2018-01-01 00:00:00+00:00', '2018-01-01 01:00:00+00:00'], dtype='datetime64[ns, UTC]', freq='H')\n",
      "DatetimeIndex(['2018-01-01 09:00:00+09:00', '2018-01-01 10:00:00+09:00'], dtype='datetime64[ns, Asia/Seoul]', freq='H')\n"
     ]
    }
   ],
   "source": [
    "import datetime\n",
    "\n",
    "# 다양한 방법으로 DatetimeIndex 생성\n",
    "dti = pd.to_datetime(['1/1/2018', np.datetime64('2018-01-01'), datetime.datetime(2018, 1, 1)])\n",
    "print(dti)\n",
    "\n",
    "dti = pd.date_range('2018-01-01', periods=2, freq='H')\n",
    "print(dti)\n",
    "\n",
    "# DateTimeIndex 로 변환\n",
    "print(pd.to_datetime(pd.Series(['Jul 31, 2009', '2010-01-10', None])))\n",
    "print(pd.to_datetime(['2005/11/23', '2010.12.31']))\n",
    "print(pd.to_datetime([1349720105, 1349806505], unit='s')) # Epoch Timestamp Sec\n",
    "print(pd.to_datetime([1349720105100, 1349720105200], unit='ms')) # Epoch Timestamp Millisec\n",
    "\n",
    "# DateTimeIndex 로 변환시 에러 처리\n",
    "try:\n",
    "    pd.to_datetime(['2009/07/31', 'asd'], errors='raise')\n",
    "except Exception as e:\n",
    "    print(\"ERROR: {}\".format(e))\n",
    "pd.to_datetime(['2009/07/31', 'asd'], errors='ignore')\n",
    "  \n",
    "# Timezone 설정\n",
    "dti = dti.tz_localize('UTC')\n",
    "print(dti)\n",
    "\n",
    "# Timezone 변경\n",
    "dti = dti.tz_convert('Asia/Seoul')\n",
    "print(dti)"
   ]
  },
  {
   "cell_type": "code",
   "execution_count": 51,
   "metadata": {},
   "outputs": [
    {
     "name": "stdout",
     "output_type": "stream",
     "text": [
      "2018-01-01    0\n",
      "2018-01-02    1\n",
      "2018-01-03    2\n",
      "2018-01-04    3\n",
      "2018-01-05    4\n",
      "Freq: D, dtype: int64\n",
      "2018-01-01 00:00:00    0.0\n",
      "2018-01-01 08:00:00    NaN\n",
      "2018-01-01 16:00:00    NaN\n",
      "2018-01-02 00:00:00    1.0\n",
      "2018-01-02 08:00:00    NaN\n",
      "2018-01-02 16:00:00    NaN\n",
      "2018-01-03 00:00:00    2.0\n",
      "2018-01-03 08:00:00    NaN\n",
      "2018-01-03 16:00:00    NaN\n",
      "2018-01-04 00:00:00    3.0\n",
      "2018-01-04 08:00:00    NaN\n",
      "2018-01-04 16:00:00    NaN\n",
      "2018-01-05 00:00:00    4.0\n",
      "Freq: 8H, dtype: float64\n",
      "2018-01-01    0.5\n",
      "2018-01-03    2.5\n",
      "2018-01-05    4.0\n",
      "Freq: 2D, dtype: float64\n"
     ]
    }
   ],
   "source": [
    "# 시간단위 샘플링\n",
    "idx = pd.date_range('2018-01-01', periods=5, freq='D')\n",
    "ts = pd.Series(range(len(idx)), index=idx)\n",
    "print(ts)\n",
    "print(ts.resample('8H').mean())\n",
    "print(ts.resample('2D').mean())"
   ]
  },
  {
   "cell_type": "code",
   "execution_count": 26,
   "metadata": {},
   "outputs": [
    {
     "name": "stdout",
     "output_type": "stream",
     "text": [
      "0.24.1\n",
      "Friday\n",
      "Saturday\n",
      "Monday\n"
     ]
    }
   ],
   "source": [
    "## Version 0.24.1 이상\n",
    "print(pd.__version__)\n",
    "if pd.__version__ >= \"0.24.1\":\n",
    "    # 시간 계산\n",
    "    friday = pd.Timestamp('2018-01-05')\n",
    "    print(friday.day_name())\n",
    "\n",
    "    # Add 1 day\n",
    "    saturday = friday + pd.Timedelta('1 day')\n",
    "    print(saturday.day_name())\n",
    "\n",
    "    # Add 1 business day (Friday --> Monday)\n",
    "    monday = friday + pd.offsets.BDay()\n",
    "    print(monday.day_name())"
   ]
  },
  {
   "cell_type": "code",
   "execution_count": 37,
   "metadata": {},
   "outputs": [],
   "source": []
  }
 ],
 "metadata": {
  "kernelspec": {
   "display_name": "Python 3.8.9 64-bit ('skp-n4e-jupyter-sts')",
   "language": "python",
   "name": "python3"
  },
  "language_info": {
   "codemirror_mode": {
    "name": "ipython",
    "version": 3
   },
   "file_extension": ".py",
   "mimetype": "text/x-python",
   "name": "python",
   "nbconvert_exporter": "python",
   "pygments_lexer": "ipython3",
   "version": "3.8.9"
  },
  "nikola": {
   "category": "",
   "date": "2019-03-01",
   "description": "",
   "link": "",
   "slug": "de-pandas-10mins",
   "tags": "",
   "title": "Data Engineering - Pandas 10분만에 훑어보기",
   "type": "text"
  },
  "notebookId": 2469278771832403,
  "toc": {
   "base_numbering": 1,
   "nav_menu": {},
   "number_sections": true,
   "sideBar": true,
   "skip_h1_title": false,
   "title_cell": "Table of Contents",
   "title_sidebar": "Contents",
   "toc_cell": false,
   "toc_position": {},
   "toc_section_display": true,
   "toc_window_display": false
  },
  "vscode": {
   "interpreter": {
    "hash": "074780be484a97690bb59ec71f684629e06fa9a846f324f8f10540b41bb15945"
   }
  }
 },
 "nbformat": 4,
 "nbformat_minor": 4
}
