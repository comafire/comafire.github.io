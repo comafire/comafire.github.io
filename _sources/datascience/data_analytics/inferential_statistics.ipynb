{
 "cells": [
  {
   "cell_type": "markdown",
   "metadata": {},
   "source": [
    "# Inferential Statistcs\n",
    "\n",
    "추측 통계 "
   ]
  },
  {
   "cell_type": "code",
   "execution_count": 1,
   "metadata": {},
   "outputs": [
    {
     "data": {
      "text/html": [
       "<style>.container { width:100% !important; }</style>"
      ],
      "text/plain": [
       "<IPython.core.display.HTML object>"
      ]
     },
     "metadata": {},
     "output_type": "display_data"
    },
    {
     "name": "stdout",
     "output_type": "stream",
     "text": [
      "python ver=3.8.9 (default, Jun 27 2021, 02:41:12) \n",
      "[GCC 7.5.0]\n",
      "pandas ver=1.2.5\n",
      "numpy ver=1.19.5\n"
     ]
    }
   ],
   "source": [
    "# 경고 메시지 출력 끄기\n",
    "import warnings \n",
    "warnings.filterwarnings(action='ignore')\n",
    "\n",
    "# 노트북 셀 표시를 브라우저 전체 폭 사용하기\n",
    "from IPython.core.display import display, HTML\n",
    "display(HTML(\"<style>.container { width:100% !important; }</style>\"))\n",
    "from IPython.display import clear_output\n",
    "\n",
    "%matplotlib inline\n",
    "import matplotlib.pyplot as plt\n",
    "\n",
    "import os, sys, shutil, functools\n",
    "import collections, pathlib, re, string\n",
    "\n",
    "rseed = 22\n",
    "import random\n",
    "random.seed(rseed)\n",
    "\n",
    "import numpy as np\n",
    "np.random.seed(rseed)\n",
    "np.set_printoptions(precision=5)\n",
    "np.set_printoptions(formatter={'float_kind': \"{:.5f}\".format})\n",
    "\n",
    "import pandas as pd\n",
    "pd.set_option('display.max_rows', None) \n",
    "pd.set_option('display.max_columns', None) \n",
    "pd.set_option('display.max_colwidth', None)\n",
    "pd.options.display.float_format = '{:,.5f}'.format\n",
    "\n",
    "import seaborn as sns\n",
    "\n",
    "from pydataset import data\n",
    "\n",
    "print(f\"python ver={sys.version}\")\n",
    "print(f\"pandas ver={pd.__version__}\")\n",
    "print(f\"numpy ver={np.__version__}\")"
   ]
  },
  {
   "cell_type": "markdown",
   "metadata": {},
   "source": [
    "## 추정 (Estimation)\n",
    "\n",
    "기술 통계학에서는 분석 하고자 하는 모든 데이터의 통계적 특성을 통해 데이터를 분석하였습니다. 하지만, 현실에서는 시간/비용 등의 문제로 인하여 원하는 모든 데이터를 수집하여 분석할 수 없는 경우가 종종 발생합니다. 추정에서는 표본 데이터를 수집하여 해당 데이터를 통해 모집단의 통계적 특성을 추론함으로써 이런 문제점을 극복할 수 있습니다.\n",
    "\n",
    "표본의 평균에서 모집단의 평균을 추정하는 것은 중심극한정리에 이론적 근간을 두고 있습니다. \n",
    "\n",
    "**중심극한정리(Central Limit Throrem)**\n",
    "\n",
    "모집단(Population)이 정규분포하지 않아도 거기서 추출(sampling)한 표본(Sample)이 충분히(30 이상)크면 표본평균의 분포는 정규분포 한다.\n",
    "\n",
    "표본 수: $n$, 모평균: $\\mu$, 모분산: $\\sigma^2$, 모표준편차: $\\sigma$, 표본평균: $\\bar{X}$, 표본분산: $s^2$, 표본표준편차: $s$\n",
    "\n",
    "* 표본평균 $\\bar{X}$ 의 분포 평균은 모집단의 평균 $\\mu$ 과 일치\n",
    "* 표본평균 $\\bar{X}$ 의 분포 분산은 $\\frac{\\sigma^2}{n}$ (표준편차: $\\frac{\\sigma}{\\sqrt{n}}$)\n",
    "* 모집단의 분포가 어떠하든 표본 수 $n$ 가 커질수록 표본평균 $\\bar{X}$ 의 분포는 정규분포\n",
    "\n",
    "![](https://i.ibb.co/ZdZYZxW/central-limit-theorem.jpg)\n",
    "\n",
    "https://www.youtube.com/watch?v=3SKwerKHbRk"
   ]
  },
  {
   "cell_type": "markdown",
   "metadata": {},
   "source": [
    "### 점추정 (Point Estimation)\n",
    "\n",
    "중심극한정리에 따라 모평균이나 모분산을 하나의 수치로 불편추정(unbiased estimation)합니다.  \n",
    "\n",
    "* 모평균 점추정을 위한 불편평균(unbiased mean): $\\hat{\\mu} = \\frac{1}{n}\\sum{\\bar{X}}$\n",
    "* 모분산 점추정을 위한 불편분산(unbiased variance): $\\hat{\\sigma^2} = \\frac{1}{n-1}\\sum{(X-\\bar{X})^2}$\n"
   ]
  },
  {
   "cell_type": "code",
   "execution_count": 73,
   "metadata": {},
   "outputs": [
    {
     "name": "stdout",
     "output_type": "stream",
     "text": [
      "population: p_mean=1.0, p_var=2.0\n",
      "sample: n=30, n_samples=10000\n",
      "sample: samples.shape=(30, 10000)\n",
      "estimation: sample_means.shape=(10000,), sample_vars.shape=(10000,)\n",
      "estimation: p_mean=1.0, p_var=2.0\n",
      "estimation: s_mean=1.00, s_var=2.00\n"
     ]
    }
   ],
   "source": [
    "from scipy import stats\n",
    "\n",
    "# 모집단(Population): 평균 1.0 과 분산 2.0 의 정규분포\n",
    "p_mean = 1.0\n",
    "p_var = 2.0\n",
    "# 정규분포 연속 확률 변수 (Normal continuous random variable)\n",
    "rv = stats.norm(loc=p_mean, scale=np.sqrt(p_var))\n",
    "print(f\"population: p_mean={p_mean}, p_var={p_var}\")\n",
    "\n",
    "# 표본: 30개의 데이터를 가지는 표본을 10000개 랜덤 샘플링\n",
    "n = 30\n",
    "n_samples = 10000\n",
    "# 무작위 표본, 랜덤 변량 (Random variates)\n",
    "samples = rv.rvs((n, n_samples))\n",
    "print(f\"sample: n={n}, n_samples={n_samples}\")\n",
    "print(f\"sample: samples.shape={samples.shape}\")\n",
    "\n",
    "# 모평균, 모분산의 불편 추정(unbiased estimation)\n",
    "sample_means = np.mean(samples, axis=0)\n",
    "# 모분산의 불편추정(unbiased estimation)을 위해서는 분산 계산시 자유도가 1 (n-1)이어야 함\n",
    "ddof = 1 # Delta Degrees of Freedom (dof = n - ddof)\n",
    "sample_vars = np.var(samples, axis=0, ddof=ddof) \n",
    "print(f\"estimation: sample_means.shape={sample_means.shape}, sample_vars.shape={sample_vars.shape}\")\n",
    "s_mean = np.mean(sample_means)\n",
    "s_var = np.mean(sample_vars)\n",
    "print(f\"estimation: p_mean={p_mean}, p_var={p_var}\")\n",
    "print(f\"estimation: s_mean={s_mean:.2f}, s_var={s_var:.2f}\")"
   ]
  },
  {
   "cell_type": "markdown",
   "metadata": {},
   "source": [
    "### 구간추정 (Interval Estimation)\n",
    "\n",
    "모집단이 정규본포를 따른다는 가정하에 점추정도 좋은 추정량으로 의미가 있습니다만, 확률 변수이기 때문에 예상되는 오차를 표시해주는 것이 좀 더 정확한 추정이라고 할수 있습니다. \n",
    "\n",
    "중심극한 정리에 따라 표본평균의 분포는 정규분포를 따르기때문에 정규분포를 이용하면 모평균이 어느정도의 신뢰 구간(Confidence Interval)을 가지는지 추정이 가능하게 됩니다. \n",
    "\n",
    "![](https://www.spss-tutorials.com/img/confidence-interval-mean.png)\n",
    "\n",
    "https://www.spss-tutorials.com/confidence-intervals/\n",
    "\n",
    "95% 모평균의 신뢰 구간을 추청한다는 의미는 여러 표본을 만들경우 그 표본 중 95% 정도는 모평균을 포함한다는 의미입니다.\n",
    "\n",
    "#### 모평균의 구간추정 \n",
    "\n",
    "**모분산을 알고 있는 경우** \n",
    "\n",
    "신뢰 구간을 추청하는 방식을 이용하면 모분산($\\sigma^2$)을 알고 있을 경우, 모평균의 95% 신뢰 레벨(Confidence Level) 또는 5% 유의 수준(Significance Level, $\\alpha$)을 가지는 신뢰 구간(Confidence Interval)을 아래와 추정 할 수 있게 됩니다. \n",
    "\n",
    "$\\mathsf{\\text{Confidence Interval (z-score)} = \\left[ \\bar{x} - z_{\\alpha/2} \\times \\frac{\\sigma}{\\sqrt{n}}, \\bar{x}+z_{\\alpha/2} \\times \\frac{\\sigma}{\\sqrt{n}} \\right]}$\n",
    "\n",
    "$\\alpha/2$: Significance level for two-tailed, $\\frac{\\sigma}{\\sqrt{n}}$: Standard error for population\n",
    "\n",
    "$\\bar{X} - z_{0.025} \\times \\frac{\\sigma}{\\sqrt{n}} \\leq \\mu \\leq \\bar{X} + z_{0.025} \\times \\frac{\\sigma}{\\sqrt{n}}$\n",
    "\n",
    "$\\bar{X} - 1.96 \\times \\frac{\\sigma}{\\sqrt{n}} \\leq \\mu \\leq \\bar{X} + 1.96 \\times \\frac{\\sigma}{\\sqrt{n}}$"
   ]
  },
  {
   "cell_type": "code",
   "execution_count": 74,
   "metadata": {},
   "outputs": [
    {
     "name": "stdout",
     "output_type": "stream",
     "text": [
      "population: p_mean=1.0, p_var=2.0\n",
      "sample: n=30, n_samples=10000\n",
      "sample: samples.shape=(30, 10000)\n",
      "estimation: cl=0.95, sl=0.025\n",
      "estimation: lcl=0.49349 <= p_mean=1.0 <= ucl=1.50561\n",
      "estimation: lcl=0.49349 <= p_mean=1.0 <= ucl=1.50561\n"
     ]
    }
   ],
   "source": [
    "from scipy import stats\n",
    "\n",
    "# 모집단(Population): 평균 1.0 과 분산 2.0 의 정규분포\n",
    "p_mean = 1.0\n",
    "p_var = 2.0\n",
    "p_std = np.sqrt(p_var)\n",
    "# 정규분포 연속 확률 변수 (Normal continuous random variable)\n",
    "rv = stats.norm(loc=p_mean, scale=np.sqrt(p_var))\n",
    "print(f\"population: p_mean={p_mean}, p_var={p_var}\")\n",
    "\n",
    "# 표본: 30개의 데이터를 가지는 표본을 10000개 랜덤 샘플링\n",
    "n = 30\n",
    "n_samples = 10000\n",
    "# 무작위 표본, 랜덤 변량 (Random variates)\n",
    "samples = rv.rvs((n, n_samples))\n",
    "print(f\"sample: n={n}, n_samples={n_samples}\")\n",
    "print(f\"sample: samples.shape={samples.shape}\")\n",
    "\n",
    "# 신뢰구간 (confidence level), 유의수준 (significance level)\n",
    "cl = .95\n",
    "sl = (1.-cl)/2 # for Two-Tailed (양측검정) \n",
    "print(f\"estimation: cl={cl}, sl={sl:.3f}\")\n",
    "\n",
    "# 표본평균(Sample Mean), 표본편차(Sample Standard Deviation) , 표준오차 (Standard Error)\n",
    "sample_means = np.mean(samples, axis=0)\n",
    "s_mean = np.mean(sample_means)\n",
    "p_ste = p_std / np.sqrt(n)\n",
    "# 신뢰구간 하한 (Lower confidence limit), 신뢰구간 상한 (Upper confidence limit)\n",
    "# 경계값 (Critical Value)\n",
    "z_cv = stats.norm.ppf(1.-sl)\n",
    "lcl = s_mean - z_cv * p_ste\n",
    "ucl = s_mean + z_cv * p_ste\n",
    "print(f\"estimation: lcl={lcl:.5f} <= p_mean={p_mean} <= ucl={ucl:.5f}\")\n",
    "\n",
    "# interval 함수 이용 \n",
    "lcl, ucl = stats.norm.interval(alpha=cl, loc=s_mean, scale=p_ste) \n",
    "print(f\"estimation: lcl={lcl:.5f} <= p_mean={p_mean} <= ucl={ucl:.5f}\")"
   ]
  },
  {
   "cell_type": "markdown",
   "metadata": {},
   "source": [
    "**모분산을 모르는 경우**\n",
    "\n",
    "하지만, 일반적으로 모집단의 분산을 모르기때문에, 모집단이 정규분포를 따른다른 가정하에 t 분포 및 표본분산($s^2$)를 이용하여 모평균의 신뢰 구간을 추정할 수 있습니다. t 분포는 표본 수가 적어도 사용 가능하며, 표본 수가 충분히(30 이상) 크면 정규 분포와 거의 같아지므로 작은 표본에서도 사용할 수 있습니다. t 분포에서 95% 신뢰 구간은 아래와 같이 추정할 수 있게 됩니다.\n",
    "\n",
    "$\\mathsf{\\text{Confidence Interval (t-score)} = \\left[ \\bar{x} - t_{\\alpha/2}(n-1) \\times \\frac{s}{\\sqrt{n}}, \\bar{x}+t_{\\alpha/2}(n-1) \\times \\frac{s}{\\sqrt{n}} \\right]}$\n",
    "\n",
    "$\\alpha/2$: Significance level for two-tailed, $\\frac{s}{\\sqrt{n}}$: Standard error for sample\n",
    "\n",
    "$\\bar{X} - t_{0.025}(n-1) \\times \\frac{s}{\\sqrt{n}} \\leq \\mu \\leq \\bar{X} + t_{0.025}(n-1) \\times \\frac{s}{\\sqrt{n}}$\n",
    "\n",
    "t 분포의 경우 표본 수가 확률에 영향을 미치므로, 예로 n = 10 이라고 한다면, 아래와 같습니다. \n",
    "\n",
    "$\\bar{X} - 2.26 \\times \\frac{s}{\\sqrt{n}} \\leq \\mu \\leq \\bar{X} + 2.26 \\times \\frac{s}{\\sqrt{n}}$"
   ]
  },
  {
   "cell_type": "code",
   "execution_count": 80,
   "metadata": {},
   "outputs": [
    {
     "name": "stdout",
     "output_type": "stream",
     "text": [
      "population: p_mean=1.0, p_var=2.0\n",
      "sample: n=10, n_samples=10000\n",
      "sample: samples.shape=(10, 10000)\n",
      "estimation: cl=0.95, sl=0.025, ddof=1\n",
      "estimation: lcl=0.68179 <= p_mean=1.0 <= ucl=1.32304\n",
      "estimation: lcl=0.68179 <= p_mean=1.0 <= ucl=1.32304\n"
     ]
    }
   ],
   "source": [
    "from scipy import stats\n",
    "\n",
    "# 모집단(Population): 평균 1.0 과 분산 2.0 의 정규분포\n",
    "p_mean = 1.0\n",
    "p_var = 2.0\n",
    "# 정규분포 연속 확률 변수 (Normal continuous random variable)\n",
    "rv = stats.norm(loc=p_mean, scale=np.sqrt(p_var))\n",
    "print(f\"population: p_mean={p_mean}, p_var={p_var}\")\n",
    "\n",
    "# 표본: 10개의 데이터를 가지는 표본을 10000개 랜덤 샘플링\n",
    "n = 10\n",
    "n_samples = 10000\n",
    "# 무작위 표본, 랜덤 변량 (Random variates)\n",
    "samples = rv.rvs((n, n_samples))\n",
    "print(f\"sample: n={n}, n_samples={n_samples}\")\n",
    "print(f\"sample: samples.shape={samples.shape}\")\n",
    "\n",
    "# 신뢰구간 (confidence level), 유의수준 (significance level), 자유도 (Degree of Freedom)\n",
    "cl = .95\n",
    "sl = (1.-cl)/2 # for Two-Tailed (양측검정) \n",
    "dof = n - 1 # Degree of Freedom\n",
    "ddof = 1 # Delta Degrees of Freedom (dof = n - ddof)\n",
    "print(f\"estimation: cl={cl}, sl={sl:.3f}, ddof={ddof}\")\n",
    "\n",
    "# 표본평균(Sample Mean), 표본편차(Sample Standard Deviation) , 표준오차 (Standard Error)\n",
    "sample_means = np.mean(samples, axis=0)\n",
    "s_mean = np.mean(sample_means)\n",
    "s_std = np.std(sample_means) \n",
    "s_ste = s_std / np.sqrt(n)\n",
    "# 신뢰구간 하한 (Lower confidence limit), 신뢰구간 상한 (Upper confidence limit)\n",
    "# 경계값 (Critical Value)\n",
    "t_cv = abs(stats.t.ppf(sl, dof))\n",
    "lcl = s_mean - t_cv * s_ste\n",
    "ucl = s_mean + t_cv * s_ste\n",
    "print(f\"estimation: lcl={lcl:.5f} <= p_mean={p_mean} <= ucl={ucl:.5f}\")\n",
    "\n",
    "# interval 함수 이용 \n",
    "lcl, ucl = stats.t.interval(alpha=cl, df=dof, loc=s_mean, scale=s_ste) \n",
    "print(f\"estimation: lcl={lcl:.5f} <= p_mean={p_mean} <= ucl={ucl:.5f}\")"
   ]
  },
  {
   "cell_type": "markdown",
   "metadata": {},
   "source": [
    "## 가설검정 (Testing Hypothesis)\n",
    "\n",
    "가설검정이란 모집단의 통계량에 대해 두가지 가설을 세우고 표본의 통계량을 이용하여 어느 가설이 옳은지 판단하는 통계적 기법입니다. 모집단 통계량에 대해 귀무가설(H0, Null hypothesis, 기각하고 싶은 가설)을 세우고 이에 대한 표본을 수집하여 계산한 표본통계량(검정통계량)이 확률적으로 거의 일어나지 않을 일임을 증명하여 귀무가설을 기각하고, 대립가설(H1, Alternative hypothesis, 채택하고 싶은 가설)을 채택하는 방식입니다.\n",
    "\n"
   ]
  },
  {
   "cell_type": "code",
   "execution_count": null,
   "metadata": {},
   "outputs": [],
   "source": []
  }
 ],
 "metadata": {
  "kernelspec": {
   "display_name": "Python 3",
   "language": "python",
   "name": "python3"
  },
  "language_info": {
   "codemirror_mode": {
    "name": "ipython",
    "version": 3
   },
   "file_extension": ".py",
   "mimetype": "text/x-python",
   "name": "python",
   "nbconvert_exporter": "python",
   "pygments_lexer": "ipython3",
   "version": "3.8.9"
  },
  "nikola": {
   "category": "",
   "date": "2019-02-24",
   "description": "",
   "link": "",
   "slug": "ml-descriptive-statistics",
   "tags": "",
   "title": "Machine Learning - Descriptive Statistics",
   "type": "text"
  },
  "toc": {
   "base_numbering": 1,
   "nav_menu": {},
   "number_sections": true,
   "sideBar": true,
   "skip_h1_title": false,
   "title_cell": "Table of Contents",
   "title_sidebar": "Contents",
   "toc_cell": false,
   "toc_position": {},
   "toc_section_display": true,
   "toc_window_display": false
  }
 },
 "nbformat": 4,
 "nbformat_minor": 4
}
