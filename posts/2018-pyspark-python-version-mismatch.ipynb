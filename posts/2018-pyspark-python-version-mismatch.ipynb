{
 "cells": [
  {
   "cell_type": "markdown",
   "metadata": {},
   "source": [
    "Jupyter Python3 Kernel 을 이용해서 Pyspark으로 Spark Cluster를 통해 Job 을 수행 할때, 아래와 같이 Driver 와 Worker 들간에 Python 버전 충돌이 일어 날 때가 있습니다.\n",
    "\n",
    "```\n",
    "Exception: Python in worker has different version 2.7 than that in driver 3.5, PySpark cannot run with different minor versions.Please check environment variables PYSPARK_PYTHON and PYSPARK_DRIVER_PYTHON are correctly set.\n",
    "```\n",
    "\n",
    "이때는 아래와 같이 PYSPARK_PYTHON 환경 변수를 명시적으로 설정하여 해결할 수 있습니다.\n",
    "\n",
    "```\n",
    "import os\n",
    "os.environ[\"PYSPARK_PYTHON\"]=\"/usr/bin/python3\"\n",
    "\n",
    "spark = SparkSession.builder.master(\"spark://spark-skp-master:7077\").appName(\"pysprk\")\n",
    "spark = spark.config(\"spark.cores.max\", \"48\")\n",
    "spark = spark.config(\"spark.driver.memory\", \"32g\")\n",
    "spark = spark.config(\"spark.executor.memory\", \"32g\")\n",
    "spark = spark.config(\"spark.python.worker.memory\", \"32g\")\n",
    "spark = spark.getOrCreate()\n",
    "```\n"
   ]
  },
  {
   "cell_type": "code",
   "execution_count": null,
   "metadata": {},
   "outputs": [],
   "source": []
  }
 ],
 "metadata": {
  "kernelspec": {
   "display_name": "Python 3",
   "language": "python",
   "name": "python3"
  },
  "language_info": {
   "codemirror_mode": {
    "name": "ipython",
    "version": 3
   },
   "file_extension": ".py",
   "mimetype": "text/x-python",
   "name": "python",
   "nbconvert_exporter": "python",
   "pygments_lexer": "ipython3",
   "version": "3.5.2"
  },
  "nikola": {
   "category": "",
   "date": "2018-05-26",
   "description": "",
   "link": "",
   "slug": "2018-pyspark-python-version-mismatch",
   "tags": "",
   "title": "Jupyter 에서 PySpark 수행시 Python 버전 충돌날때",
   "type": "text"
  },
  "toc": {
   "base_numbering": 1,
   "nav_menu": {},
   "number_sections": true,
   "sideBar": true,
   "skip_h1_title": false,
   "title_cell": "Table of Contents",
   "title_sidebar": "Contents",
   "toc_cell": false,
   "toc_position": {},
   "toc_section_display": true,
   "toc_window_display": false
  }
 },
 "nbformat": 4,
 "nbformat_minor": 2
}
