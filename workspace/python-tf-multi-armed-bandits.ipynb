{
 "cells": [
  {
   "cell_type": "code",
   "execution_count": 1,
   "metadata": {
    "collapsed": true
   },
   "outputs": [],
   "source": [
    "import tensorflow as tf\n",
    "import numpy as np"
   ]
  },
  {
   "cell_type": "code",
   "execution_count": 30,
   "metadata": {
    "collapsed": true
   },
   "outputs": [],
   "source": [
    "#List out our bandits. Currently bandit 4 (index#3) is set to most often provide a positive reward.\n",
    "bandits = [0.2,0,-0.2,-5]\n",
    "num_bandits = len(bandits)\n",
    "def pullBandit(bandit):\n",
    "    #Get a random number.\n",
    "    result = np.random.randn(1)\n",
    "    if result > bandit:\n",
    "        #return a positive reward.\n",
    "        return 1\n",
    "    else:\n",
    "        #return a negative reward.\n",
    "        return -1"
   ]
  },
  {
   "cell_type": "code",
   "execution_count": 3,
   "metadata": {
    "collapsed": false
   },
   "outputs": [],
   "source": [
    "tf.reset_default_graph()\n",
    "\n",
    "#These two lines established the feed-forward part of the network. This does the actual choosing.\n",
    "weights = tf.Variable(tf.ones([num_bandits]))\n",
    "chosen_action = tf.argmax(weights,0)\n",
    "\n",
    "#The next six lines establish the training proceedure. We feed the reward and chosen action into the network\n",
    "#to compute the loss, and use it to update the network.\n",
    "reward_holder = tf.placeholder(shape=[1],dtype=tf.float32)\n",
    "action_holder = tf.placeholder(shape=[1],dtype=tf.int32)\n",
    "responsible_weight = tf.slice(weights,action_holder,[1])\n",
    "loss = -(tf.log(responsible_weight)*reward_holder)\n",
    "optimizer = tf.train.GradientDescentOptimizer(learning_rate=0.001)\n",
    "update = optimizer.minimize(loss)"
   ]
  },
  {
   "cell_type": "code",
   "execution_count": 8,
   "metadata": {
    "collapsed": false
   },
   "outputs": [
    {
     "name": "stdout",
     "output_type": "stream",
     "text": [
      "[ 1.43618107]\n",
      "[-0.50469244  1.43618107 -0.95909572  0.03621461]\n"
     ]
    }
   ],
   "source": [
    "init = tf.initialize_all_variables()\n",
    "weights = tf.random_normal([4])\n",
    "responsible_weight = tf.slice(weights,[1],[1])\n",
    "\n",
    "# Launch the tensorflow graph\n",
    "with tf.Session() as sess:\n",
    "    sess.run(init)\n",
    "    #print(sess.run(weights))\n",
    "    ww, resp = sess.run([weights, responsible_weight])\n",
    "    print(resp)\n",
    "    print(ww)\n",
    "    #print(ww)"
   ]
  },
  {
   "cell_type": "code",
   "execution_count": 218,
   "metadata": {
    "collapsed": false
   },
   "outputs": [
    {
     "name": "stdout",
     "output_type": "stream",
     "text": [
      "None [ 1.] [ 1.00100005  1.          1.          1.        ]\n",
      "Running reward for the 4 bandits: [ 1.  0.  0.  0.]\n",
      "None [ 1.03828609] [ 0.99900109  0.99900103  0.99900204  1.03924918]\n",
      "Running reward for the 4 bandits: [ -1.  -1.  -1.  40.]\n",
      "None [ 1.08447266] [ 0.99800009  0.99900103  0.99900204  1.08539474]\n",
      "Running reward for the 4 bandits: [ -2.  -1.  -1.  89.]\n",
      "None [ 1.12699616] [ 0.99699807  0.99900103  1.00100303  1.12788343]\n",
      "Running reward for the 4 bandits: [  -3.   -1.    1.  136.]\n",
      "None [ 1.16882682] [ 0.99599504  1.00000203  1.00100303  1.16968238]\n",
      "Running reward for the 4 bandits: [  -4.    0.    1.  184.]\n",
      "None [ 1.20838273] [ 0.99599606  1.00100207  1.00100303  1.20921028]\n",
      "Running reward for the 4 bandits: [  -4.    1.    1.  231.]\n",
      "None [ 1.24668372] [ 0.99499202  1.00200105  1.00000405  1.24748588]\n",
      "Running reward for the 4 bandits: [  -5.    2.    0.  278.]\n",
      "None [ 1.28539896] [ 0.99499202  1.00200105  0.99900407  1.28617692]\n",
      "Running reward for the 4 bandits: [  -5.    2.   -1.  327.]\n",
      "None [ 1.3199532] [ 0.99499303  1.002002    1.00000501  1.32071078]\n",
      "Running reward for the 4 bandits: [  -5.    2.    0.  372.]\n",
      "None [ 1.35657787] [ 0.99398798  1.002002    1.00000501  1.35731506]\n",
      "Running reward for the 4 bandits: [  -6.    2.    0.  421.]\n",
      "None [ 1.39080155] [ 0.99298191  1.00100398  1.00100505  1.3915205 ]\n",
      "Running reward for the 4 bandits: [  -7.    1.    1.  468.]\n",
      "None [ 1.42420208] [ 0.99197483  1.00200295  1.00000608  1.42490423]\n",
      "Running reward for the 4 bandits: [  -8.    2.    0.  515.]\n",
      "None [ 0.99197584] [ 0.99298394  1.00100493  0.99900609  1.45615017]\n",
      "Running reward for the 4 bandits: [  -7.    1.   -1.  560.]\n",
      "None [ 1.48606658] [ 0.99399203  1.00300193  0.99900609  1.48673952]\n",
      "Running reward for the 4 bandits: [  -6.    3.   -1.  605.]\n",
      "None [ 1.51737082] [ 0.9949981   1.00200486  1.00000703  1.51802981]\n",
      "Running reward for the 4 bandits: [  -5.    2.    0.  652.]\n",
      "None [ 1.54545534] [ 0.99499911  1.00100684  0.99800712  1.5461024 ]\n",
      "Running reward for the 4 bandits: [  -5.    1.   -2.  695.]\n",
      "None [ 1.57430971] [ 0.9970082   1.00100684  0.99499804  1.57494485]\n",
      "Running reward for the 4 bandits: [  -3.    1.   -5.  740.]\n",
      "None [ 1.60326815] [ 0.99901325  1.00100684  0.99700713  1.60389185]\n",
      "Running reward for the 4 bandits: [  -1.    1.   -3.  786.]\n",
      "None [ 1.63048625] [ 0.99801224  1.00300384  0.99600512  1.63109958]\n",
      "Running reward for the 4 bandits: [  -2.    3.   -4.  830.]\n",
      "None [ 1.65966952] [ 0.99701023  1.00400078  0.99600512  1.660272  ]\n",
      "Running reward for the 4 bandits: [  -3.    4.   -4.  878.]\n",
      "The agent thinks bandit 4 is the most promising....\n",
      "...and it was right!\n"
     ]
    }
   ],
   "source": [
    "total_episodes = 1000 #Set total number of episodes to train agent on.\n",
    "total_reward = np.zeros(num_bandits) #Set scoreboard for bandits to 0.\n",
    "e = 0.1 #Set the chance of taking a random action.\n",
    "\n",
    "init = tf.initialize_all_variables()\n",
    "\n",
    "# Launch the tensorflow graph\n",
    "with tf.Session() as sess:\n",
    "    sess.run(init)\n",
    "    i = 0\n",
    "    while i < total_episodes:\n",
    "        \n",
    "        #Choose either a random action or one from our network.\n",
    "        if np.random.rand(1) < e:\n",
    "            action = np.random.randint(num_bandits)\n",
    "        else:\n",
    "            action = sess.run(chosen_action)\n",
    "        \n",
    "        reward = pullBandit(bandits[action]) #Get our reward from picking one of the bandits.\n",
    "        \n",
    "        #Update the network.\n",
    "        cost,resp,ww = sess.run([update,responsible_weight,weights], feed_dict={reward_holder:[reward],action_holder:[action]})\n",
    "        \n",
    "        #Update our running tally of scores.\n",
    "        total_reward[action] += reward\n",
    "        if i % 50 == 0:\n",
    "            print cost, resp, ww\n",
    "            print \"Running reward for the \" + str(num_bandits) + \" bandits: \" + str(total_reward)\n",
    "        i+=1\n",
    "        \n",
    "print \"The agent thinks bandit \" + str(np.argmax(ww)+1) + \" is the most promising....\"\n",
    "if np.argmax(ww) == np.argmax(-np.array(bandits)):\n",
    "    print \"...and it was right!\"\n",
    "else:\n",
    "    print \"...and it was wrong!\""
   ]
  },
  {
   "cell_type": "code",
   "execution_count": 109,
   "metadata": {
    "collapsed": false
   },
   "outputs": [
    {
     "data": {
      "text/plain": [
       "3"
      ]
     },
     "execution_count": 109,
     "metadata": {},
     "output_type": "execute_result"
    }
   ],
   "source": [
    "np.argmax(ww)"
   ]
  },
  {
   "cell_type": "code",
   "execution_count": 110,
   "metadata": {
    "collapsed": false
   },
   "outputs": [
    {
     "data": {
      "text/plain": [
       "3"
      ]
     },
     "execution_count": 110,
     "metadata": {},
     "output_type": "execute_result"
    }
   ],
   "source": [
    "np.argmax(-np.array(bandits))"
   ]
  },
  {
   "cell_type": "code",
   "execution_count": 112,
   "metadata": {
    "collapsed": false
   },
   "outputs": [
    {
     "data": {
      "text/plain": [
       "array([-0.2, -0. ,  0.2,  5. ])"
      ]
     },
     "execution_count": 112,
     "metadata": {},
     "output_type": "execute_result"
    }
   ],
   "source": [
    "-np.array(bandits)"
   ]
  }
 ],
 "metadata": {
  "kernelspec": {
   "display_name": "Python 2",
   "language": "python",
   "name": "python2"
  },
  "language_info": {
   "codemirror_mode": {
    "name": "ipython",
    "version": 2
   },
   "file_extension": ".py",
   "mimetype": "text/x-python",
   "name": "python",
   "nbconvert_exporter": "python",
   "pygments_lexer": "ipython2",
   "version": "2.7.11"
  }
 },
 "nbformat": 4,
 "nbformat_minor": 0
}
