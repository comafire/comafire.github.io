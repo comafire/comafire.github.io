{
 "cells": [
  {
   "cell_type": "markdown",
   "metadata": {},
   "source": [
    "Data를 효율적으로 다루기 위한 패키지인 Dataframes 를 사용해 봅니다."
   ]
  },
  {
   "cell_type": "code",
   "execution_count": 1,
   "metadata": {},
   "outputs": [
    {
     "name": "stderr",
     "output_type": "stream",
     "text": [
      "INFO: Nothing to be done\n"
     ]
    }
   ],
   "source": [
    "# Dataframes 패키지를 설치합니다.\n",
    "Pkg.add(\"Dataframes\")\n",
    "using DataArrays, DataFrames"
   ]
  },
  {
   "cell_type": "code",
   "execution_count": 2,
   "metadata": {},
   "outputs": [
    {
     "name": "stdout",
     "output_type": "stream",
     "text": [
      "DataArrays.DataArray{Int64,1}\n",
      "[NA,1,2,3]\n",
      "DataArrays.DataArray{Int64,1}\n",
      "[NA,1,2,3]\n",
      "DataFrames.DataFrame\n",
      "4×2 DataFrames.DataFrame\n",
      "│ Row │ A  │ B  │\n",
      "├─────┼────┼────┤\n",
      "│ 1   │ NA │ NA │\n",
      "│ 2   │ 1  │ 1  │\n",
      "│ 3   │ 2  │ 2  │\n",
      "│ 4   │ 3  │ 3  │\n",
      "4×2 DataFrames.DataFrame\n",
      "│ Row │ A  │ B1 │\n",
      "├─────┼────┼────┤\n",
      "│ 1   │ NA │ NA │\n",
      "│ 2   │ 1  │ 1  │\n",
      "│ 3   │ 2  │ 2  │\n",
      "│ 4   │ 3  │ 3  │\n",
      "4×2 DataFrames.DataFrame\n",
      "│ Row │ A  │ B2 │\n",
      "├─────┼────┼────┤\n",
      "│ 1   │ NA │ NA │\n",
      "│ 2   │ 1  │ 1  │\n",
      "│ 3   │ 2  │ 2  │\n",
      "│ 4   │ 3  │ 3  │\n"
     ]
    }
   ],
   "source": [
    "# Dataframe 은 DataArray를 컬럼으로 가지는 테이블 형태의 데이터 셋입니다.\n",
    "# DataArray 는 Julia의 기본 Array 와 비슷하지만, \n",
    "# Missing Value를 뜻하는 NA 타입을 가질 수 있습니다. \n",
    "da1 = DataArray([1, 1, 2, 3], [true, false, false, false])\n",
    "println(typeof(da1))\n",
    "println(da1)\n",
    "\n",
    "# DataArray 생성을 위한 간편한 @data 매크로를 제공합니다.\n",
    "da2 = @data([NA, 1, 2, 3])\n",
    "println(typeof(da2))\n",
    "println(da2)\n",
    "\n",
    "df = DataFrame(A = da1, B = da2)\n",
    "println(typeof(df))\n",
    "println(df)\n",
    "\n",
    "# rename() 를 통해 컬럼이름 변경이 가능합니다.\n",
    "println(rename!(df, :B, :B1))\n",
    "println(rename(df, :B1, :B2))"
   ]
  },
  {
   "cell_type": "code",
   "execution_count": 3,
   "metadata": {},
   "outputs": [
    {
     "name": "stderr",
     "output_type": "stream",
     "text": [
      "INFO: Nothing to be done\n"
     ]
    }
   ],
   "source": [
    "# 연습을 위해 사용할 R 언어에서 제공하는 클래식 데이터셋 패키지를 설치합니다.\n",
    "Pkg.add(\"RDatasets\")\n",
    "using RDatasets"
   ]
  },
  {
   "cell_type": "code",
   "execution_count": 4,
   "metadata": {},
   "outputs": [
    {
     "name": "stdout",
     "output_type": "stream",
     "text": [
      "6×8 DataFrames.DataFrame\n",
      "│ Row │ X1 │ X2 │ X3 │ X4 │ Y1   │ Y2   │ Y3    │ Y4   │\n",
      "├─────┼────┼────┼────┼────┼──────┼──────┼───────┼──────┤\n",
      "│ 1   │ 10 │ 10 │ 10 │ 8  │ 8.04 │ 9.14 │ 7.46  │ 6.58 │\n",
      "│ 2   │ 8  │ 8  │ 8  │ 8  │ 6.95 │ 8.14 │ 6.77  │ 5.76 │\n",
      "│ 3   │ 13 │ 13 │ 13 │ 8  │ 7.58 │ 8.74 │ 12.74 │ 7.71 │\n",
      "│ 4   │ 9  │ 9  │ 9  │ 8  │ 8.81 │ 8.77 │ 7.11  │ 8.84 │\n",
      "│ 5   │ 11 │ 11 │ 11 │ 8  │ 8.33 │ 9.26 │ 7.81  │ 8.47 │\n",
      "│ 6   │ 14 │ 14 │ 14 │ 8  │ 9.96 │ 8.1  │ 8.84  │ 7.04 │"
     ]
    }
   ],
   "source": [
    "# DataFrame 타입은 테이블 형태이며 각 열은 DataArray 타입을 가집니다.\n",
    "# 사용할 수 없는 값은 NA 로 표시합니다.\n",
    "anscombe = dataset(\"datasets\", \"anscombe\")\n",
    "\n",
    "# head() 와 tail() 를 이용해서 데이터의 샘플을 확인할 수 있습니다.\n",
    "print(head(anscombe))"
   ]
  },
  {
   "cell_type": "code",
   "execution_count": 5,
   "metadata": {},
   "outputs": [
    {
     "name": "stdout",
     "output_type": "stream",
     "text": [
      "6×8 DataFrames.DataFrame\n",
      "│ Row │ X1 │ X2 │ X3 │ X4 │ Y1    │ Y2   │ Y3   │ Y4   │\n",
      "├─────┼────┼────┼────┼────┼───────┼──────┼──────┼──────┤\n",
      "│ 1   │ 14 │ 14 │ 14 │ 8  │ 9.96  │ 8.1  │ 8.84 │ 7.04 │\n",
      "│ 2   │ 6  │ 6  │ 6  │ 8  │ 7.24  │ 6.13 │ 6.08 │ 5.25 │\n",
      "│ 3   │ 4  │ 4  │ 4  │ 19 │ 4.26  │ 3.1  │ 5.39 │ 12.5 │\n",
      "│ 4   │ 12 │ 12 │ 12 │ 8  │ 10.84 │ 9.13 │ 8.15 │ 5.56 │\n",
      "│ 5   │ 7  │ 7  │ 7  │ 8  │ 4.82  │ 7.26 │ 6.42 │ 7.91 │\n",
      "│ 6   │ 5  │ 5  │ 5  │ 8  │ 5.68  │ 4.74 │ 5.73 │ 6.89 │"
     ]
    }
   ],
   "source": [
    "print(tail(anscombe))"
   ]
  },
  {
   "cell_type": "code",
   "execution_count": 6,
   "metadata": {},
   "outputs": [
    {
     "name": "stdout",
     "output_type": "stream",
     "text": [
      "11×8 DataFrames.DataFrame\n",
      "│ Col # │ Name │ Eltype  │ Missing │\n",
      "├───────┼──────┼─────────┼─────────┤\n",
      "│ 1     │ X1   │ Int64   │ 0       │\n",
      "│ 2     │ X2   │ Int64   │ 0       │\n",
      "│ 3     │ X3   │ Int64   │ 0       │\n",
      "│ 4     │ X4   │ Int64   │ 0       │\n",
      "│ 5     │ Y1   │ Float64 │ 0       │\n",
      "│ 6     │ Y2   │ Float64 │ 0       │\n",
      "│ 7     │ Y3   │ Float64 │ 0       │\n",
      "│ 8     │ Y4   │ Float64 │ 0       │nothing"
     ]
    }
   ],
   "source": [
    "# showcols 함수로 각 컬럼의 정보와 Missing value 의 양을 알 수 있습니다.\n",
    "print(showcols(anscombe))"
   ]
  },
  {
   "cell_type": "code",
   "execution_count": 7,
   "metadata": {},
   "outputs": [
    {
     "name": "stdout",
     "output_type": "stream",
     "text": [
      "size: (11,8)\n",
      "length: 8\n"
     ]
    }
   ],
   "source": [
    "# 데이터 프레임의 사이즈와 길이를 알 수 있습니다.\n",
    "println(\"size: $(size(anscombe))\")\n",
    "println(\"length: $(length(anscombe))\")"
   ]
  },
  {
   "cell_type": "code",
   "execution_count": 8,
   "metadata": {},
   "outputs": [
    {
     "data": {
      "text/plain": [
       "11-element DataArrays.DataArray{Int64,1}:\n",
       " 10\n",
       "  8\n",
       " 13\n",
       "  9\n",
       " 11\n",
       " 14\n",
       "  6\n",
       "  4\n",
       " 12\n",
       "  7\n",
       "  5"
      ]
     },
     "execution_count": 8,
     "metadata": {},
     "output_type": "execute_result"
    }
   ],
   "source": [
    "# 데이터 프레임내에서 [:컬럼] 형태로 컬럼 선택이 가능합니다.\n",
    "anscombe[:X1]"
   ]
  },
  {
   "cell_type": "code",
   "execution_count": 9,
   "metadata": {},
   "outputs": [
    {
     "data": {
      "text/plain": [
       "11-element DataArrays.DataArray{Int64,1}:\n",
       " 10\n",
       "  8\n",
       " 13\n",
       "  9\n",
       " 11\n",
       " 14\n",
       "  6\n",
       "  4\n",
       " 12\n",
       "  7\n",
       "  5"
      ]
     },
     "execution_count": 9,
     "metadata": {},
     "output_type": "execute_result"
    }
   ],
   "source": [
    "# 데이터 프레임내에서 [인덱스] 형태로 컬럼 선택이 가능합니다.\n",
    "anscombe[1]"
   ]
  },
  {
   "cell_type": "code",
   "execution_count": 10,
   "metadata": {},
   "outputs": [
    {
     "name": "stdout",
     "output_type": "stream",
     "text": [
      "3×2 DataFrames.DataFrame\n",
      "│ Row │ X1 │ Y1   │\n",
      "├─────┼────┼──────┤\n",
      "│ 1   │ 10 │ 8.04 │\n",
      "│ 2   │ 8  │ 6.95 │\n",
      "│ 3   │ 13 │ 7.58 │"
     ]
    }
   ],
   "source": [
    "# 위 방식을 응용해서 데이터 프레임에 대하여 다양한 슬라이싱이 가능합니다.\n",
    "print(anscombe[1:3, [:X1, :Y1]])"
   ]
  },
  {
   "cell_type": "code",
   "execution_count": 11,
   "metadata": {},
   "outputs": [
    {
     "name": "stdout",
     "output_type": "stream",
     "text": [
      "3×2 DataFrames.DataFrame\n",
      "│ Row │ X1 │ Y1   │\n",
      "├─────┼────┼──────┤\n",
      "│ 1   │ 10 │ 8.04 │\n",
      "│ 2   │ 8  │ 6.95 │\n",
      "│ 3   │ 13 │ 7.58 │"
     ]
    }
   ],
   "source": [
    "print(anscombe[[1, 2, 3], [:X1, :Y1]])"
   ]
  },
  {
   "cell_type": "code",
   "execution_count": 12,
   "metadata": {},
   "outputs": [
    {
     "name": "stdout",
     "output_type": "stream",
     "text": [
      "11×2 DataFrames.DataFrame\n",
      "│ Row │ X1 │ Y1    │\n",
      "├─────┼────┼───────┤\n",
      "│ 1   │ 10 │ 8.04  │\n",
      "│ 2   │ 8  │ 6.95  │\n",
      "│ 3   │ 13 │ 7.58  │\n",
      "│ 4   │ 9  │ 8.81  │\n",
      "│ 5   │ 11 │ 8.33  │\n",
      "│ 6   │ 14 │ 9.96  │\n",
      "│ 7   │ 6  │ 7.24  │\n",
      "│ 8   │ 4  │ 4.26  │\n",
      "│ 9   │ 12 │ 10.84 │\n",
      "│ 10  │ 7  │ 4.82  │\n",
      "│ 11  │ 5  │ 5.68  │"
     ]
    }
   ],
   "source": [
    "print(anscombe[:, [:X1, :Y1]]) "
   ]
  },
  {
   "cell_type": "code",
   "execution_count": 13,
   "metadata": {},
   "outputs": [
    {
     "name": "stdout",
     "output_type": "stream",
     "text": [
      "2×2 DataFrames.DataFrame\n",
      "│ Row │ X1 │ Y1   │\n",
      "├─────┼────┼──────┤\n",
      "│ 1   │ 8  │ 6.95 │\n",
      "│ 2   │ 5  │ 5.68 │"
     ]
    }
   ],
   "source": [
    "# 데이터 프레임 내에서 값을 통한 row 필터링이 가능합니다.\n",
    "print(anscombe[(anscombe[:Y1] .> 5.0) & (anscombe[:Y1] .< 7.0), [:X1, :Y1]])"
   ]
  },
  {
   "cell_type": "code",
   "execution_count": 14,
   "metadata": {},
   "outputs": [
    {
     "name": "stdout",
     "output_type": "stream",
     "text": [
      "sum of Y1, Y2: 82.51000000000002 82.51\n",
      "sum of Y1, Y2: Any[[82.51],[82.51]]\n"
     ]
    }
   ],
   "source": [
    "# 컬럼 단위로 적용할 수 있는 함수가 존재한다면 \n",
    "# colwise() 를 통해 데이터 프레임 전체에 편리하게 적용 가능합니다.\n",
    "println(\"sum of Y1, Y2: $(sum(anscombe[:Y1])) $(sum(anscombe[:Y2]))\")\n",
    "println(\"sum of Y1, Y2: $(colwise(sum, anscombe[[:Y1, :Y2]]))\")"
   ]
  },
  {
   "cell_type": "code",
   "execution_count": 15,
   "metadata": {},
   "outputs": [
    {
     "name": "stdout",
     "output_type": "stream",
     "text": [
      "DataFrameRow (row 1)\n",
      "X1  10\n",
      "Y1  8.04\n",
      "type: DataFrames.DataFrameRow{DataFrames.DataFrame}\n",
      "row mean: 9.02\n",
      "DataFrameRow (row 2)\n",
      "X1  8\n",
      "Y1  6.95\n",
      "type: DataFrames.DataFrameRow{DataFrames.DataFrame}\n",
      "row mean: 7.475\n",
      "DataFrameRow (row 3)\n",
      "X1  13\n",
      "Y1  7.58\n",
      "type: DataFrames.DataFrameRow{DataFrames.DataFrame}\n",
      "row mean: 10.29\n",
      "\n",
      "(:X1,[10,8,13])\n",
      "type: Tuple{Symbol,DataArrays.DataArray{Int64,1}}\n",
      "col mean: 10.333333333333334\n",
      "(:Y1,[8.04,6.95,7.58])\n",
      "type: Tuple{Symbol,DataArrays.DataArray{Float64,1}}\n",
      "col mean: 7.523333333333333\n"
     ]
    }
   ],
   "source": [
    "# eachrow(), eachcol() 를 통해 row, column 단위 iteration 이 가능합니다.\n",
    "for row in eachrow(anscombe[1:3, [:X1, :Y1]])\n",
    "    print(row)\n",
    "    println(\"type: $(typeof(row))\")\n",
    "    println(\"row mean: $(mean(convert(Array, row)))\")\n",
    "end\n",
    "println()\n",
    "for col in eachcol(anscombe[1:3, [:X1, :Y1]])\n",
    "    println(col)\n",
    "    println(\"type: $(typeof(col))\")\n",
    "    println(\"col mean: $(mean(col[2]))\")\n",
    "end"
   ]
  },
  {
   "cell_type": "code",
   "execution_count": 16,
   "metadata": {},
   "outputs": [
    {
     "name": "stdout",
     "output_type": "stream",
     "text": [
      "X1\n",
      "Min      4.0\n",
      "1st Qu.  6.5\n",
      "Median   9.0\n",
      "Mean     9.0\n",
      "3rd Qu.  11.5\n",
      "Max      14.0\n",
      "NAs      0\n",
      "NA%      0.0%\n",
      "\n",
      "Y1\n",
      "Min      4.26\n",
      "1st Qu.  6.3149999999999995\n",
      "Median   7.58\n",
      "Mean     7.500909090909093\n",
      "3rd Qu.  8.57\n",
      "Max      10.84\n",
      "NAs      0\n",
      "NA%      0.0%\n",
      "\n"
     ]
    }
   ],
   "source": [
    "# describe() 를 통해 데이터 프레임의 기술적 통계를 확인할 수 있습니다.\n",
    "describe(anscombe[[:X1, :Y1]])"
   ]
  },
  {
   "cell_type": "code",
   "execution_count": 17,
   "metadata": {},
   "outputs": [
    {
     "name": "stdout",
     "output_type": "stream",
     "text": [
      "inner join: 1×3 DataFrames.DataFrame\n",
      "│ Row │ ID │ Name │ Job      │\n",
      "├─────┼────┼──────┼──────────┤\n",
      "│ 1   │ 1  │ \"A\"  │ \"Doctor\" │\n",
      "left join: 2×3 DataFrames.DataFrame\n",
      "│ Row │ ID │ Name │ Job      │\n",
      "├─────┼────┼──────┼──────────┤\n",
      "│ 1   │ 1  │ \"A\"  │ \"Doctor\" │\n",
      "│ 2   │ 2  │ \"B\"  │ NA       │\n",
      "right join: 2×3 DataFrames.DataFrame\n",
      "│ Row │ Name │ ID │ Job      │\n",
      "├─────┼──────┼────┼──────────┤\n",
      "│ 1   │ \"A\"  │ 1  │ \"Doctor\" │\n",
      "│ 2   │ NA   │ 3  │ \"Lawyer\" │\n",
      "outer join: 3×3 DataFrames.DataFrame\n",
      "│ Row │ ID │ Name │ Job      │\n",
      "├─────┼────┼──────┼──────────┤\n",
      "│ 1   │ 1  │ \"A\"  │ \"Doctor\" │\n",
      "│ 2   │ 2  │ \"B\"  │ NA       │\n",
      "│ 3   │ 3  │ NA   │ \"Lawyer\" │\n",
      "semi join: 1×2 DataFrames.DataFrame\n",
      "│ Row │ ID │ Name │\n",
      "├─────┼────┼──────┤\n",
      "│ 1   │ 1  │ \"A\"  │\n",
      "anti join: 1×2 DataFrames.DataFrame\n",
      "│ Row │ ID │ Name │\n",
      "├─────┼────┼──────┤\n",
      "│ 1   │ 2  │ \"B\"  │\n",
      "cross join: 4×4 DataFrames.DataFrame\n",
      "│ Row │ ID │ Name │ ID_1 │ Job      │\n",
      "├─────┼────┼──────┼──────┼──────────┤\n",
      "│ 1   │ 1  │ \"A\"  │ 1    │ \"Doctor\" │\n",
      "│ 2   │ 1  │ \"A\"  │ 3    │ \"Lawyer\" │\n",
      "│ 3   │ 2  │ \"B\"  │ 1    │ \"Doctor\" │\n",
      "│ 4   │ 2  │ \"B\"  │ 3    │ \"Lawyer\" │\n"
     ]
    }
   ],
   "source": [
    "# join() 를 통해 두 데이터 프레임을 통합 가능합니다.\n",
    "# inner, left, right, outer, semi, anti, cross join을 지원합니다.\n",
    "a = DataFrame(ID = [1, 2], Name = [\"A\", \"B\"])\n",
    "b = DataFrame(ID = [1, 3], Job = [\"Doctor\", \"Lawyer\"])\n",
    "\n",
    "println(\"inner join: $(join(a, b, on = :ID, kind = :inner))\")\n",
    "println(\"left join: $(join(a, b, on = :ID, kind = :left))\")\n",
    "println(\"right join: $(join(a, b, on = :ID, kind = :right))\")\n",
    "println(\"outer join: $(join(a, b, on = :ID, kind = :outer))\")\n",
    "println(\"semi join: $(join(a, b, on = :ID, kind = :semi))\")\n",
    "println(\"anti join: $(join(a, b, on = :ID, kind = :anti))\")\n",
    "println(\"cross join: $(join(a, b, kind = :cross))\")"
   ]
  },
  {
   "cell_type": "code",
   "execution_count": 18,
   "metadata": {},
   "outputs": [
    {
     "name": "stderr",
     "output_type": "stream",
     "text": [
      "INFO: Recompiling stale cache file /Users/daehongseo/.julia/lib/v0.5/RData.ji for module RData.\n"
     ]
    },
    {
     "name": "stdout",
     "output_type": "stream",
     "text": [
      "6×5 DataFrames.DataFrame\n",
      "│ Row │ SepalLength │ SepalWidth │ PetalLength │ PetalWidth │ Species  │\n",
      "├─────┼─────────────┼────────────┼─────────────┼────────────┼──────────┤\n",
      "│ 1   │ 5.1         │ 3.5        │ 1.4         │ 0.2        │ \"setosa\" │\n",
      "│ 2   │ 4.9         │ 3.0        │ 1.4         │ 0.2        │ \"setosa\" │\n",
      "│ 3   │ 4.7         │ 3.2        │ 1.3         │ 0.2        │ \"setosa\" │\n",
      "│ 4   │ 4.6         │ 3.1        │ 1.5         │ 0.2        │ \"setosa\" │\n",
      "│ 5   │ 5.0         │ 3.6        │ 1.4         │ 0.2        │ \"setosa\" │\n",
      "│ 6   │ 5.4         │ 3.9        │ 1.7         │ 0.4        │ \"setosa\" │\n",
      "3×2 DataFrames.DataFrame\n",
      "│ Row │ Species      │ x1 │\n",
      "├─────┼──────────────┼────┤\n",
      "│ 1   │ \"setosa\"     │ 5  │\n",
      "│ 2   │ \"versicolor\" │ 5  │\n",
      "│ 3   │ \"virginica\"  │ 5  │\n",
      "3×2 DataFrames.DataFrame\n",
      "│ Row │ Species      │ x1    │\n",
      "├─────┼──────────────┼───────┤\n",
      "│ 1   │ \"setosa\"     │ 73.1  │\n",
      "│ 2   │ \"versicolor\" │ 213.0 │\n",
      "│ 3   │ \"virginica\"  │ 277.6 │\n",
      "3×2 DataFrames.DataFrame\n",
      "│ Row │ Species      │ N  │\n",
      "├─────┼──────────────┼────┤\n",
      "│ 1   │ \"setosa\"     │ 50 │\n",
      "│ 2   │ \"versicolor\" │ 50 │\n",
      "│ 3   │ \"virginica\"  │ 50 │\n",
      "3×3 DataFrames.DataFrame\n",
      "│ Row │ Species      │ M     │ V         │\n",
      "├─────┼──────────────┼───────┼───────────┤\n",
      "│ 1   │ \"setosa\"     │ 1.462 │ 0.0301592 │\n",
      "│ 2   │ \"versicolor\" │ 4.26  │ 0.220816  │\n",
      "│ 3   │ \"virginica\"  │ 5.552 │ 0.304588  │\n",
      "3×3 DataFrames.DataFrame\n",
      "│ Row │ Species      │ PetalLength_sum │ PetalLength_mean │\n",
      "├─────┼──────────────┼─────────────────┼──────────────────┤\n",
      "│ 1   │ \"setosa\"     │ 73.1            │ 1.462            │\n",
      "│ 2   │ \"versicolor\" │ 213.0           │ 4.26             │\n",
      "│ 3   │ \"virginica\"  │ 277.6           │ 5.552            │\n",
      "group: setosa, mean: 1.462\n",
      "group: versicolor, mean: 4.260000000000001\n",
      "group: virginica, mean: 5.5520000000000005\n"
     ]
    }
   ],
   "source": [
    "iris = dataset(\"datasets\", \"iris\")\n",
    "println(head(iris))\n",
    "\n",
    "# by() 를 통해 지정 컬럼 값을 기반으로 그룹화해 함수 적용이 가능합니다.\n",
    "println(by(iris, :Species, length))\n",
    "println(by(iris, :Species, df -> sum(df[:PetalLength])))\n",
    "println(by(iris, :Species, df -> DataFrame(N = size(df, 1))))\n",
    "\n",
    "# do() 를 통해 그룹화 후 복잡한 함수 적용도 가능합니다.\n",
    "mv = by(iris, :Species) do df\n",
    "    DataFrame(M = mean(df[:PetalLength]), V = var(df[:PetalLength]))\n",
    "end\n",
    "println(mv)\n",
    "\n",
    "# aggregate() 를 통해 그룹화 후 나머지 컬럼에 대해 여러 함수를 일괄 적용 가능합니다. \n",
    "println(aggregate(iris[[:Species, :PetalLength]], :Species, [sum, mean]))\n",
    "\n",
    "# 그룹으로 분리된 sub dataframe 을 원한다면 groupby() 를 이용하면 됩니다.\n",
    "for subdf in groupby(iris, :Species)\n",
    "    println(\"group: $(subdf[1, :Species]), mean: $(mean(subdf[:PetalLength]))\")\n",
    "end"
   ]
  },
  {
   "cell_type": "code",
   "execution_count": 19,
   "metadata": {},
   "outputs": [
    {
     "name": "stdout",
     "output_type": "stream",
     "text": [
      "6×5 DataFrames.DataFrame\n",
      "│ Row │ SepalLength │ SepalWidth │ PetalLength │ PetalWidth │ Species  │\n",
      "├─────┼─────────────┼────────────┼─────────────┼────────────┼──────────┤\n",
      "│ 1   │ 5.1         │ 3.5        │ 1.4         │ 0.2        │ \"setosa\" │\n",
      "│ 2   │ 4.9         │ 3.0        │ 1.4         │ 0.2        │ \"setosa\" │\n",
      "│ 3   │ 4.7         │ 3.2        │ 1.3         │ 0.2        │ \"setosa\" │\n",
      "│ 4   │ 4.6         │ 3.1        │ 1.5         │ 0.2        │ \"setosa\" │\n",
      "│ 5   │ 5.0         │ 3.6        │ 1.4         │ 0.2        │ \"setosa\" │\n",
      "│ 6   │ 5.4         │ 3.9        │ 1.7         │ 0.4        │ \"setosa\" │6×5 DataFrames.DataFrame\n",
      "│ Row │ SepalLength │ SepalWidth │ PetalLength │ PetalWidth │ Species  │\n",
      "├─────┼─────────────┼────────────┼─────────────┼────────────┼──────────┤\n",
      "│ 1   │ 4.3         │ 3.0        │ 1.1         │ 0.1        │ \"setosa\" │\n",
      "│ 2   │ 4.4         │ 2.9        │ 1.4         │ 0.2        │ \"setosa\" │\n",
      "│ 3   │ 4.4         │ 3.0        │ 1.3         │ 0.2        │ \"setosa\" │\n",
      "│ 4   │ 4.4         │ 3.2        │ 1.3         │ 0.2        │ \"setosa\" │\n",
      "│ 5   │ 4.5         │ 2.3        │ 1.3         │ 0.3        │ \"setosa\" │\n",
      "│ 6   │ 4.6         │ 3.1        │ 1.5         │ 0.2        │ \"setosa\" │"
     ]
    }
   ],
   "source": [
    "# sort!() 를 통해 데이터를 컬럼 단위로 정렬할 수 있습니다.\n",
    "iris = dataset(\"datasets\", \"iris\")\n",
    "print(head(iris))\n",
    "print(head(sort!(iris)))"
   ]
  },
  {
   "cell_type": "code",
   "execution_count": 20,
   "metadata": {},
   "outputs": [
    {
     "name": "stdout",
     "output_type": "stream",
     "text": [
      "6×5 DataFrames.DataFrame\n",
      "│ Row │ SepalLength │ SepalWidth │ PetalLength │ PetalWidth │ Species     │\n",
      "├─────┼─────────────┼────────────┼─────────────┼────────────┼─────────────┤\n",
      "│ 1   │ 7.9         │ 3.8        │ 6.4         │ 2.0        │ \"virginica\" │\n",
      "│ 2   │ 7.7         │ 3.8        │ 6.7         │ 2.2        │ \"virginica\" │\n",
      "│ 3   │ 7.7         │ 3.0        │ 6.1         │ 2.3        │ \"virginica\" │\n",
      "│ 4   │ 7.7         │ 2.8        │ 6.7         │ 2.0        │ \"virginica\" │\n",
      "│ 5   │ 7.7         │ 2.6        │ 6.9         │ 2.3        │ \"virginica\" │\n",
      "│ 6   │ 7.6         │ 3.0        │ 6.6         │ 2.1        │ \"virginica\" │"
     ]
    }
   ],
   "source": [
    "# reverse 옵션을 제공합니다.\n",
    "print(head(sort!(iris, rev = true)))"
   ]
  },
  {
   "cell_type": "code",
   "execution_count": 21,
   "metadata": {},
   "outputs": [
    {
     "name": "stdout",
     "output_type": "stream",
     "text": [
      "6×5 DataFrames.DataFrame\n",
      "│ Row │ SepalLength │ SepalWidth │ PetalLength │ PetalWidth │ Species      │\n",
      "├─────┼─────────────┼────────────┼─────────────┼────────────┼──────────────┤\n",
      "│ 1   │ 5.0         │ 2.0        │ 3.5         │ 1.0        │ \"versicolor\" │\n",
      "│ 2   │ 6.0         │ 2.2        │ 5.0         │ 1.5        │ \"virginica\"  │\n",
      "│ 3   │ 6.0         │ 2.2        │ 4.0         │ 1.0        │ \"versicolor\" │\n",
      "│ 4   │ 6.2         │ 2.2        │ 4.5         │ 1.5        │ \"versicolor\" │\n",
      "│ 5   │ 4.5         │ 2.3        │ 1.3         │ 0.3        │ \"setosa\"     │\n",
      "│ 6   │ 5.0         │ 2.3        │ 3.3         │ 1.0        │ \"versicolor\" │"
     ]
    }
   ],
   "source": [
    "# 필요한 컬럼만 지정할 수 있습니다.\n",
    "print(head(sort!(iris, cols = [:SepalWidth, :SepalLength])))"
   ]
  },
  {
   "cell_type": "code",
   "execution_count": 22,
   "metadata": {},
   "outputs": [
    {
     "name": "stdout",
     "output_type": "stream",
     "text": [
      "6×5 DataFrames.DataFrame\n",
      "│ Row │ SepalLength │ SepalWidth │ PetalLength │ PetalWidth │ Species  │\n",
      "├─────┼─────────────┼────────────┼─────────────┼────────────┼──────────┤\n",
      "│ 1   │ 5.8         │ 4.0        │ 1.2         │ 0.2        │ \"setosa\" │\n",
      "│ 2   │ 5.7         │ 3.8        │ 1.7         │ 0.3        │ \"setosa\" │\n",
      "│ 3   │ 5.7         │ 4.4        │ 1.5         │ 0.4        │ \"setosa\" │\n",
      "│ 4   │ 5.5         │ 3.5        │ 1.3         │ 0.2        │ \"setosa\" │\n",
      "│ 5   │ 5.5         │ 4.2        │ 1.4         │ 0.2        │ \"setosa\" │\n",
      "│ 6   │ 5.4         │ 3.4        │ 1.7         │ 0.2        │ \"setosa\" │"
     ]
    }
   ],
   "source": [
    "# 컬럼에 필요한 order 함수를 지정할 수 있습니다.\n",
    "print(head(sort!(iris, cols = [order(:Species, by = uppercase), order(:SepalLength, rev = true)])))"
   ]
  },
  {
   "cell_type": "code",
   "execution_count": 23,
   "metadata": {},
   "outputs": [
    {
     "name": "stdout",
     "output_type": "stream",
     "text": [
      "6×9 DataFrames.DataFrame\n",
      "│ Row │ mpg  │ cylinders │ engine │ horsepower │ weight │ acceleration │ year │\n",
      "├─────┼──────┼───────────┼────────┼────────────┼────────┼──────────────┼──────┤\n",
      "│ 1   │ 18.0 │ 8         │ 307.0  │ 130.0      │ 3504   │ 12.0         │ 70   │\n",
      "│ 2   │ 15.0 │ 8         │ 350.0  │ 165.0      │ 3693   │ 11.5         │ 70   │\n",
      "│ 3   │ 18.0 │ 8         │ 318.0  │ 150.0      │ 3436   │ 11.0         │ 70   │\n",
      "│ 4   │ 16.0 │ 8         │ 304.0  │ 150.0      │ 3433   │ 12.0         │ 70   │\n",
      "│ 5   │ 17.0 │ 8         │ 302.0  │ 140.0      │ 3449   │ 10.5         │ 70   │\n",
      "│ 6   │ 15.0 │ 8         │ 429.0  │ 198.0      │ 4341   │ 10.0         │ 70   │\n",
      "\n",
      "│ Row │ origin     │ name                        │\n",
      "├─────┼────────────┼─────────────────────────────┤\n",
      "│ 1   │ \"American\" │ \"chevrolet chevelle malibu\" │\n",
      "│ 2   │ \"American\" │ \"buick skylark 320\"         │\n",
      "│ 3   │ \"American\" │ \"plymouth satellite\"        │\n",
      "│ 4   │ \"American\" │ \"amc rebel sst\"             │\n",
      "│ 5   │ \"American\" │ \"ford torino\"               │\n",
      "│ 6   │ \"American\" │ \"ford galaxie 500\"          │"
     ]
    }
   ],
   "source": [
    "# CSV 형식의 파일 I/O를 제공합니다.\n",
    "dfCars = readtable(\"./cars.csv\")\n",
    "print(head(dfCars))"
   ]
  },
  {
   "cell_type": "code",
   "execution_count": null,
   "metadata": {
    "collapsed": true
   },
   "outputs": [],
   "source": []
  }
 ],
 "metadata": {
  "kernelspec": {
   "display_name": "Julia 0.5.0",
   "language": "julia",
   "name": "julia-0.5"
  },
  "language_info": {
   "file_extension": ".jl",
   "mimetype": "application/julia",
   "name": "julia",
   "version": "0.5.0"
  },
  "nikola": {
   "category": "",
   "date": "2016-01-01 00:00:00 UTC+09:00",
   "description": "",
   "link": "",
   "slug": "2016-Julia-Dataframes",
   "tags": "",
   "title": "2016-Julia-Dataframes",
   "type": "text"
  }
 },
 "nbformat": 4,
 "nbformat_minor": 1
}
