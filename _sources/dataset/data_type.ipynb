{
 "cells": [
  {
   "cell_type": "markdown",
   "metadata": {},
   "source": [
    "# Data Type\n",
    "\n",
    "## Structured Data Vs Unstructured Data Vs Semi-Structured Data\n",
    "\n",
    "![](https://894532.smushcdn.com/2098219/wp-content/uploads/2019/04/structuredVsUnstructuredIgneos-1024x797.png?lossy=0&strip=1&webp=1)\n",
    "\n",
    "**Structed Data**\n",
    "\n",
    "* Column 과 Row로 표현되는 Table 형태의 데이터\n",
    "\n",
    "![](https://eadn-wc03-4064062.nxedge.io/cdn/wp-content/uploads/2020/10/structured-data-1.png) \n",
    "\n",
    "**Semi-Structed Data**\n",
    "\n",
    "* Structed Data는 아니지만 나름 구조화되어 있는 데이터: ex) JSON \n",
    "\n",
    "![](https://eadn-wc03-4064062.nxedge.io/cdn/wp-content/uploads/2020/10/semi-structured-data.png)\n",
    "\n",
    "**Unstructed Data**\n",
    "\n",
    "* 사전에 정의된 방식으로 구성되지 않거나 사전에 정의된 데이터 모델이 없는 데이터: ex) Text, Video, Image, Audio, 등\n",
    "\n",
    "![](https://eadn-wc03-4064062.nxedge.io/cdn/wp-content/uploads/2020/10/unstructured.png) \n",
    "\n",
    "Refernce\n",
    "* [Data Types: Structured Data Vs Unstructured Data Vs Semi-Structured Data\n",
    "](https://k21academy.com/microsoft-azure/dp-900/structured-data-vs-unstructured-data-vs-semi-structured-data/)\n"
   ]
  },
  {
   "cell_type": "markdown",
   "metadata": {},
   "source": [
    "## Data Set\n",
    "\n",
    "**Record Data**\n",
    "\n",
    "* Record Data: 고정된 수의 속성으로 구성된 레코드의 모음으로 구성된 데이터 \n",
    "* Transaction Data: 구매자와 구매물품 목록, 장바구니 데이터\n",
    "* Data Matrix: Pattern Matrix, 속성이 수치 형태의 값을 가지는 데이터\n",
    "* Sparse Data Matrix: Document-term Matrix, 속성의 수치 값이 대부분 0 을 가지는 데이터\n",
    "\n",
    "![](https://miro.medium.com/max/2000/1*yYV016vKIBM_R2iSNaLufQ.png)\n",
    "\n",
    "**Graph-based Data**\n",
    "\n",
    "![](https://miro.medium.com/max/2000/1*7bFifqQEKKLCfbJFVmEYgQ.png)\n",
    "\n",
    "**Ordered Data**\n",
    "\n",
    "* Sequential Data (연속데이터)\n",
    "* Sequence Data (서열데이터)\n",
    "* Time series Data (시계열 데이터)\n",
    "* Spatial Data (공간 데이터)\n",
    "\n",
    "![](https://miro.medium.com/max/2000/1*yVFaD-VveR8n2FmkKP7i0A.png)\n",
    "\n",
    "Reference\n",
    "* [Types of Data Sets in Data Science, Data Mining & Machine Learning](https://towardsdatascience.com/types-of-data-sets-in-data-science-data-mining-machine-learning-eb47c80af7a)"
   ]
  },
  {
   "cell_type": "code",
   "execution_count": null,
   "metadata": {},
   "outputs": [],
   "source": []
  }
 ],
 "metadata": {
  "kernelspec": {
   "display_name": "Python 3.8.9 64-bit ('3.8.9')",
   "language": "python",
   "name": "python3"
  },
  "language_info": {
   "codemirror_mode": {
    "name": "ipython",
    "version": 3
   },
   "file_extension": ".py",
   "mimetype": "text/x-python",
   "name": "python",
   "nbconvert_exporter": "python",
   "pygments_lexer": "ipython3",
   "version": "3.8.9"
  },
  "nikola": {
   "category": "",
   "date": "2019-12-22",
   "description": "",
   "link": "",
   "slug": "platform-native-env-for-data-science-on-macos",
   "tags": "",
   "title": "macOS에서 Data Science를 위한 Native 환경 설정",
   "type": "text"
  },
  "toc": {
   "base_numbering": 1,
   "nav_menu": {},
   "number_sections": true,
   "sideBar": true,
   "skip_h1_title": false,
   "title_cell": "Table of Contents",
   "title_sidebar": "Contents",
   "toc_cell": false,
   "toc_position": {},
   "toc_section_display": true,
   "toc_window_display": false
  },
  "vscode": {
   "interpreter": {
    "hash": "81b98c941daad6509d4c89342869ca88f891260205139ff875cb30be518b42c4"
   }
  }
 },
 "nbformat": 4,
 "nbformat_minor": 4
}
