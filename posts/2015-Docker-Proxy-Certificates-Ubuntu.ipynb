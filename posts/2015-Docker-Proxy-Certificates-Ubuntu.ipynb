{
 "cells": [
  {
   "cell_type": "markdown",
   "metadata": {},
   "source": [
    "Docker 사용시 네트워크에 Proxy 및 Self Signed SSL Certification 을 사용하도록 되어 있는 곳에서는 Docker Hub에서 Docker 이미지를 검색하고 내려받을때 접속 에러와 'x509: certificate signed by unknown authority' 에러를 만나게 됩니다.\n",
    "\n",
    "이럴때는 proxy 및 SSL Certification 아래와 같이 설정합니다.\n",
    "\n",
    "## Proxy 설정\n",
    "/etc/default/docker.io 파일에서 proxy 설정 후에 docker service 를 재실행합니다.\n",
    "\n",
    "```\n",
    "> sudo vi /etc/default/docker.io\n",
    "...\n",
    "export http_proxy=\"http://<proxy_ip>:<proxy_port>\"\n",
    "export https_proxy=\"https://<proxy_ip>:<proxy_port>\"\n",
    "...\n",
    "> sudo service docker.io restart\n",
    "```\n",
    "\n",
    "## SSL Certification 설정\n",
    "Self Signed Certification 파일을 예를 들어 Self.crt 라고 한다면, 해당 파일을 /usr/local/share/ca-certificates 에 복사하고 update-ca-certificates 명령으로 업데이트 해줍니다.\n",
    "\n",
    "```\n",
    "> sudo cp ./Self.crt /usr/local/share/ca-certificates/\n",
    "> sudo update-ca-certificates\n",
    "> sudo service docker.io restart\n",
    "```\n"
   ]
  }
 ],
 "metadata": {
  "kernelspec": {
   "display_name": "Python 3",
   "language": "python",
   "name": "python3"
  },
  "language_info": {
   "codemirror_mode": {
    "name": "ipython",
    "version": 3
   },
   "file_extension": ".py",
   "mimetype": "text/x-python",
   "name": "python",
   "nbconvert_exporter": "python",
   "pygments_lexer": "ipython3",
   "version": "3.6.8"
  },
  "nikola": {
   "category": "",
   "date": "2015-01-01 00:00:00 UTC+09:00",
   "description": "",
   "link": "",
   "slug": "2015-Docker-Proxy-Certificates-Ubuntu",
   "tags": "",
   "title": "2015-Docker-Proxy-Certificates-Ubuntu",
   "type": "text"
  }
 },
 "nbformat": 4,
 "nbformat_minor": 4
}
