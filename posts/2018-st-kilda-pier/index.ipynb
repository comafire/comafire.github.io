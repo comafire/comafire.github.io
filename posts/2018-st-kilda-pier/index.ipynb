{
 "cells": [
  {
   "cell_type": "markdown",
   "metadata": {},
   "source": [
    "# Docker Cluster based Data Science Platform for Big Data\n",
    "\n",
    "데이터 사이언스를 하면서 그동안 필요한 많은 도구들을 설치하고 설정하는 작업을 진행해 오다가, 개인적으로 시작때 마다 하는 삽질의 양을 줄이기 위해 사용해보고 좋은 도구들은 Docker 에 넣어서 정형화 하는 작업들을 해왔습니다.\n",
    "\n",
    "많은 상용 플랫폼들이 존재하지만, 개인적인 중/소규모 데이터 사이언스 프로젝트를 진행하는데, 클라우드에 분석 클러스터를 올려놓고 쓰기에는 비용이 부담스러운 면이 없지 않아 있습니다. \n",
    "\n",
    "그래서, **St. Kilda Pier**(리틀 펭귄이 서식하는 호주 멜버른의 작은 부두, 이하 SKP)라는 이름으로 데이터 사이언스 전반에 필요한 좋은 도구들을 좀 편하게 설치하고 사용할 수 있도록, 부족하지만 그동안 작업했었던 결과들을 정리해서 오픈합니다. 아직은 사용자 친화적이지 않은 명령어 기반이지만, 공감하시는 분들의 참여와 잉여시간을 지속적으로 투자하다보면 더욱 좋아지리라 생각합니다. \n",
    "\n",
    "* st-kilda-pier: https://github.com/comafire/st-kilda-pier\n",
    "* notebooks-skp: https://github.com/comafire/notebooks-skp\n",
    "\n",
    "저장소는 2군데로 나뉘어져 있습니다. 하나는 SKP 프로젝트를 위한 저장소이고, 하나는 SKP 활용성 검증을 위한 SKP 위에서 데이터 사이언스를 진행해보는 프로젝트을 위한 저장소입니다. \n",
    "\n",
    "현재 st-kilda-pier 에서 제공되는 도구들은 아래와 같습니다.\n",
    "\n",
    "* Jupyter\n",
    "  * Jupyter Kernel: Python2/3, Scala, R, Julia, Go\n",
    "  * Jupyter Kernel Gateway\n",
    "  * Machine Learning\n",
    "    * Python2/3 Lib: tensorflow CPU/GPU, pytorch CPU/GPU, keras, pandas, scikit-learn, .. etc\n",
    "* Spark\n",
    "* Airflow\n",
    "* Portainer\n",
    "* Kafka\n",
    "* Zookeeper\n",
    "* Nginx\n",
    "* Flask\n",
    "\n",
    "현재 notebooks-skp 에서는 SKP 상에서 mnist 데이터 셋을 기반으로 가상의 데이터 사이언스 프로젝트를 만들어 데이터 수집/처리/분석/제공 까지의 진행 단계를 볼수 있는 예제 성격의 프로젝트가 처음으로 올려져있습니다. \n",
    "\n",
    "앞으로 SKP 관련된 이야기들은 SKP를 포함한 제목으로 지속적으로 이곳에 블로깅될 예정입니다. "
   ]
  },
  {
   "cell_type": "code",
   "execution_count": null,
   "metadata": {},
   "outputs": [],
   "source": []
  }
 ],
 "metadata": {
  "kernelspec": {
   "display_name": "Python 3",
   "language": "python",
   "name": "python3"
  },
  "language_info": {
   "codemirror_mode": {
    "name": "ipython",
    "version": 3
   },
   "file_extension": ".py",
   "mimetype": "text/x-python",
   "name": "python",
   "nbconvert_exporter": "python",
   "pygments_lexer": "ipython3",
   "version": "3.5.2"
  },
  "nikola": {
   "category": "",
   "date": "2018-07-01",
   "description": "",
   "link": "",
   "slug": "2018-st-kilda-pier",
   "tags": "",
   "title": "2018-st-kilda-pier",
   "type": "text"
  },
  "toc": {
   "base_numbering": 1,
   "nav_menu": {},
   "number_sections": true,
   "sideBar": true,
   "skip_h1_title": false,
   "title_cell": "Table of Contents",
   "title_sidebar": "Contents",
   "toc_cell": false,
   "toc_position": {},
   "toc_section_display": true,
   "toc_window_display": false
  }
 },
 "nbformat": 4,
 "nbformat_minor": 2
}
