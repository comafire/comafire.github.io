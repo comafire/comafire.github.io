{
 "cells": [
  {
   "cell_type": "markdown",
   "metadata": {},
   "source": [
    "# Data Technology Platform\n",
    "\n",
    "Data Technology 를 수행하기 위해서는 다양한 IT 도구들이 필요합니다. 따라서, IT 도구들에 대한 특성을 학습하고, 잘 조합하여 사용할 수 있는 능력이 중요합니다. 처음부터 플랫폼들을 처음부터 직접 설치하면서 익힐 경우 많은 시간이 소비될 수 있기 때문에 처음에는 Cloud 에서 DT 에 필요한 다양한 IT 도구들의 사용법을 익히고 필요시 점점 더 낮은 레벨로 영역을 넓여 가는 것을 권장합니다."
   ]
  },
  {
   "cell_type": "markdown",
   "metadata": {},
   "source": [
    "## Architecture\n",
    "\n",
    "* [Data Lake](https://comafire.github.io/pages/platform-data-lake)\n",
    "* [Uber’s Big Data Platform: 100+ Petabytes with Minute Latency](https://eng.uber.com/uber-big-data-platform/)\n",
    "\n",
    "DT 플랫폼은 제공되는 주체에 따라 크게 Cloud, On-premise 로 나누어 볼 수 있습니다.\n",
    "\n",
    "* Cloud: 플랫폼을 제공하기 위해 인프라 및 기술 스택을 모두 외부 클라우드 벤더의 서비스를 이용\n",
    "* On-premise: 플랫폼을 제공하기 위해 내부적으로 인프라 및 기술 스택등 직접 모든 것을 해결\n",
    "\n",
    "그리고 서비스 제공 레벨에 따라 IaaS, PaaS, SaaS 로 나뉘어 볼 수 있습니다.\n",
    "\n",
    "* SaaS (Software as a Service): IaaS + PaaS + 개발된 소프트웨어까지 서비스로 제공\n",
    "* PaaS (Platform as a Service): IaaS + 개발을 위한 플랫폼까지 서비스로 제공 \n",
    "* IaaS (Infra as a Service): 인프라(서버, 네트워크, 스토리지 등)까지 서비스로 제공\n",
    "\n",
    "DT를 비용/시간 효율적으로 수행하기 위해서는 다양한 전략, 아키텍처, 환경을 복합적으로 조합하여 자신의 환경에 최적화하는 것이 필요합니다. "
   ]
  },
  {
   "cell_type": "markdown",
   "metadata": {},
   "source": [
    "## Cloud\n",
    "\n",
    "### GCP (Google Cloud Platform) - SaaS\n",
    "* Google Colab: https://colab.research.google.com/\n",
    "* AI Platform Notebooks (Beta): https://cloud.google.com/ai-platform-notebooks/?hl=ko\n",
    " \n",
    "### GCP - PasS\n",
    "* Cloud DataLab: https://cloud.google.com/datalab/\n",
    "\n",
    "### GCP - IaaS\n",
    "* Google Computer Engine\n",
    " * [Google Compute Engine 에서 nested vm 사용하기](https://comafire.github.io/pages/platform-gce-nested-vm)"
   ]
  },
  {
   "cell_type": "markdown",
   "metadata": {},
   "source": [
    "### Azure - SaaS\n",
    "#### Azure Notebooks\n",
    "\n",
    "소개\n",
    "* https://notebooks.azure.com/\n",
    "* 친숙한 Jupyter Notebook 환경을 제공하여 이질감 없이 사용 가능합니다.\n",
    "* 공짜 인스턴스(4GB 메모리/1GB 데이터 공간)를 계속 제공해주기 때문에 교육/학습용으로 추천합니다.\n",
    "* 개인적으로 프로젝트를 만들고 Github와도 연동이 가능합니다.\n",
    "\n",
    "메뉴얼\n",
    "* [빠른 시작: 로그인 및 사용자 ID 설정](https://docs.microsoft.com/ko-kr/azure/notebooks/quickstart-sign-in-azure-notebooks)\n",
    "* [빠른 시작: Notebook 만들기 및 공유](https://docs.microsoft.com/ko-kr/azure/notebooks/quickstart-create-share-jupyter-notebook)\n",
    "* [빠른 시작: Notebook 복제](https://docs.microsoft.com/ko-kr/azure/notebooks/quickstart-clone-jupyter-notebook)\n",
    "* [빠른 시작: 로컬 Jupyter Notebook 마이그레이션](https://docs.microsoft.com/ko-kr/azure/notebooks/quickstart-migrate-local-jupyter-notebook)\n",
    "* [빠른 시작: 사용자 지정 환경을 사용하여 프로젝트 만들기](https://docs.microsoft.com/ko-kr/azure/notebooks/quickstart-create-jupyter-notebook-project-environment)\n",
    "\n",
    "#### Azure Databricks\n",
    "\n",
    "소개\n",
    "* https://docs.microsoft.com/ko-kr/azure/azure-databricks/what-is-azure-databricks\n",
    "* Jupyter Notebook 과 유사한 대화형 분석 환경을 제공합니다.\n",
    "* 웹 기반으로 손쉽게 클러스터 구성, 외부 패키지 설치, 코드 버전닝, 코드 커맨트 기능을 제공합니다.\n",
    "* 14일 까지는 무료로 사용할 수 있는 옵션이 제공됩니다.\n",
    "\n",
    "메뉴얼\n",
    "* [빠른 시작: Azure Portal을 사용하여 Azure Databricks에서 Spark 작업 실행](https://docs.microsoft.com/ko-kr/azure/azure-databricks/quickstart-create-databricks-workspace-portal)\n",
    "* [Databricks 설명서](https://docs.azuredatabricks.net/user-guide/index.html#)\n",
    "\n",
    "### Azure - PasS\n",
    "#### HDInsight\n",
    "\n",
    "### Azure - IaaS"
   ]
  },
  {
   "cell_type": "markdown",
   "metadata": {},
   "source": [
    "### AWS (Amazon Web Service) - SaaS\n",
    "#### AWS Databricks\n",
    "\n",
    "### AWS - PasS\n",
    "#### AWS EMR\n",
    "\n",
    "### AWS - IaaS"
   ]
  },
  {
   "cell_type": "markdown",
   "metadata": {},
   "source": [
    "## On-premise \n",
    "\n",
    "모든 환경을 자신의 장비에서 실험해보고 싶다면 과감한 투자가 필요합니다. 가상화 환경을 위해 다수의 VM 을 띄워야 하기에 많은 수의 CPU 코어와 많은 양의 RAM 이 필요하고, 딥러닝을 위헤 GPU 또한 필요합니다. 하지만, 가성비 면에서는 자신의 예산에 맞는 휴대성 좋은 노트북과 클라우드 자원을 활용하는 것을 더욱 추천합니다.\n",
    "\n",
    "### SaaS\n",
    "### PaaS\n",
    "\n",
    "#### Container Platform\n",
    "\n",
    "* Orchestration Platform\n",
    "  * Kubernetes\n",
    "  * Docker based Cluster\n",
    "    * [St.Kilda Pier(Docker Cluster based Data Science Platform for Big Data)](https://comafire.github.io/pages/platform-st-kilda-pier)\n",
    "\n",
    "* Docker\n",
    "  * [Jupyter Docker Stacks](https://jupyter-docker-stacks.readthedocs.io/en/latest/index.html)\n",
    "  * [Docker Jupyter(데이터 사이언스를 위한 Docker 기반 Jupyter)](https://comafire.github.io/pages/platform-docker-jupyter)\n",
    "\n",
    "#### Native Platform\n",
    "\n",
    "초기 리눅스 배포판처럼 하둡 배포판 또한 많은 업체들이 진출하였다가, 현재는 몇개 업체로 재편된 상황입니다. Cloudera 가 Hortenwork 와 합병하고, 라이선스 정책을 변경하면서 무료 배포판 또한 사라지게 되었습니다. (https://kr.cloudera.com/about/news-and-blogs/our-commitment-to-open-source-software.html)\n",
    "\n",
    "### IaaS\n",
    "\n",
    "* Vagrant & VirtualBox\n",
    "  * [Vagrant와 Virtualbox를 이용한 플랫폼 가상화 개발환경](https://comafire.github.io/pages/platform-vagrant-virtualbox)\n",
    "\n",
    "* Native 개발환경 설정하기\n",
    "  * [macOS에서 Data Science를 위한 Native 개발환경 설정](https://comafire.github.io/pages/platform-native-env-for-data-science-on-macos)\n",
    "\n",
    "#### Hardware\n",
    "\n",
    "* Lambda Lab (https://lambdalabs.com/)\n",
    "  * 요즘 딥러닝 노트북을 검색하면 많이 회자되는 회사입니다. 선택할 수 있는 하드웨어 사양은 System76보다 적습니다. A/S 는 단점입니다.\n",
    "* System76 (https://system76.com/)\n",
    "  * Linux용 기기를 전문으로 제작하는 회사입니다. 고사양 CPU/RAM/GPU(nVidia) 모두 지원하며 Linux와 하드웨어 호환성 걱정은 없지만, A/S는 단점입니다. \n",
    "* Apple - Macbook Pro\n",
    "  * 가격은 비싸지만, 하드웨어 신뢰성 및 개인 활용성이 가장 뛰어난 기기입니다. CTO 버전 사양에서 SSD만 좀 타협해서 구입하면 5년 이상되어도 자기 역활을 톡톡히 해냅니다. \n",
    "  * DT를 하기위한 Docker 환경 및 GPU 환경을 사용하는데 제약이 있기에, iOS 개발자를 위한 다양한 목적의 개발/테스트용 장비로서만 의미가 있습니다. \n",
    "    * Docker 가 Hyperkit 환경위에서 돌기 때문에 성능 저하 및 가상 GPU를 사용할 수 없습니다.\n",
    "    * GPU 가 AMD 라서 Native 환경에서도 딥러닝을 하기에는 쾌적하지 않습니다, AMD 를 지원하는 딥러닝 툴(https://www.intel.ai/plaidml/#gs.moswf2)들이 나오고 있긴 합니다.\n"
   ]
  },
  {
   "cell_type": "markdown",
   "metadata": {},
   "source": []
  }
 ],
 "metadata": {
  "kernelspec": {
   "display_name": "Python 3",
   "language": "python",
   "name": "python3"
  },
  "language_info": {
   "codemirror_mode": {
    "name": "ipython",
    "version": 3
   },
   "file_extension": ".py",
   "mimetype": "text/x-python",
   "name": "python",
   "nbconvert_exporter": "python",
   "pygments_lexer": "ipython3",
   "version": "3.7.6"
  },
  "nikola": {
   "category": "",
   "date": "2018-07-01",
   "description": "",
   "link": "",
   "slug": "data-technology-platform",
   "tags": "",
   "title": "Data Technology Platform",
   "type": "text"
  },
  "toc": {
   "base_numbering": 1,
   "nav_menu": {},
   "number_sections": true,
   "sideBar": true,
   "skip_h1_title": false,
   "title_cell": "Table of Contents",
   "title_sidebar": "Contents",
   "toc_cell": false,
   "toc_position": {},
   "toc_section_display": true,
   "toc_window_display": false
  }
 },
 "nbformat": 4,
 "nbformat_minor": 4
}
