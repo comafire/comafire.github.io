{
 "cells": [
  {
   "cell_type": "markdown",
   "metadata": {},
   "source": [
    "보통 프로젝트를 진행할때, 소스 버전 컨트롤을 위해서 git을 많이 사용합니다. git을 로컬에서 사용하기 보다는 github 또는 gitlab을 주로 이용하게 되는데요.\n",
    "\n",
    "github 및 gitlab 사용시 인증은 간편하게 http 인증을 많이 사용했었는데요.\n",
    "\n",
    "프로젝트가 많아짐에 따라 commit 할때마다 비번을 넣어야 하는 불편함과 한 컴퓨터에서 gitlab, github의 여러 계정이 혼재 할 경우 http 인증이 동작하지 않아 다른 방법을 찾다가 SSH Key를 이용한 인증 방법을 사용하면 해결이 가능하다는 것을 알게 되었습니다."
   ]
  },
  {
   "cell_type": "markdown",
   "metadata": {},
   "source": [
    "먼저 sshkey-gen 명령을 통해서 각 git 계정 마다 사용할 키를 생성해줍니다.\n",
    "A계정은 개인 소스 저장소용이고, B계정은 회사 소스 저장소용이라고 하겠습니다. \n",
    "\n",
    "```bash\n",
    "ssh-keygen -t rsa -b 4096 -C \"A@private.com\"\n",
    "Generating public/private rsa key pair.\n",
    "Enter file in which to save the key (~/.ssh/id_rsa): private_id_rsa\n",
    "\n",
    "ssh-keygen -t rsa -b 4096 -C \"B@company.com\"\n",
    "Generating public/private rsa key pair.\n",
    "Enter file in which to save the key (~/.ssh/id_rsa): company_id_rsa\n",
    "```\n",
    "\n",
    "키를 생성하게 되면 각각 개인키와 공개키가 생성되게 됩니다.\n",
    "\n",
    "* 개인키: private_id_rsa, company_id_rsa\n",
    "* 공개키: private_id_rsa.pub, company_id_rsa.pub"
   ]
  },
  {
   "cell_type": "markdown",
   "metadata": {},
   "source": [
    "이제 생성된 공개키를 각 사이트 계정의 SSH Key 등록하는 곳에 등록해 주면 됩니다.\n",
    "\n",
    "SSH Key를 등록하는 방법은 아래 링크를 참조하세요.\n",
    "\n",
    "* Github: https://help.github.com/articles/adding-a-new-ssh-key-to-your-github-account/\n",
    "* Gitlab: https://about.gitlab.com/2014/03/04/add-ssh-key-screencast/ "
   ]
  },
  {
   "cell_type": "markdown",
   "metadata": {},
   "source": [
    "이제 SSH를 이용한 접속시 자동으로 해당 키를 사용할 수 있도록 설정을 해줘야 합니다.\n",
    "\n",
    "계정의 .ssh 디렉토리에 개인키와 공개키를 복사합니다.\n",
    "\n",
    "그리고 ~/.ssh/config 파일을 생성해서 아래와 같이 설정해 주면 계정 사용시 키 파일을 다르게 사용할 수 있습니다.\n",
    "\n",
    "```bash\n",
    "Host github.com\n",
    "\tUser A@private.com\n",
    "\tIdentityFile ~/.ssh/private_id_rsa\n",
    "Host gitlab.com\n",
    "\tUser B@company.com\n",
    "\tIdentityFile ~/.ssh/company_id_rsa\n",
    "```"
   ]
  },
  {
   "cell_type": "code",
   "execution_count": null,
   "metadata": {
    "collapsed": true
   },
   "outputs": [],
   "source": []
  }
 ],
 "metadata": {
  "kernelspec": {
   "display_name": "Python 2",
   "language": "python",
   "name": "python2"
  },
  "language_info": {
   "codemirror_mode": {
    "name": "ipython",
    "version": 2
   },
   "file_extension": ".py",
   "mimetype": "text/x-python",
   "name": "python",
   "nbconvert_exporter": "python",
   "pygments_lexer": "ipython2",
   "version": "2.7.12"
  },
  "nikola": {
   "category": "",
   "date": "2017-07-15",
   "description": "",
   "link": "",
   "slug": "2017-git-using-ssh-key-auth",
   "tags": "",
   "title": "2017-git-using-ssh-key-auth",
   "type": "text"
  }
 },
 "nbformat": 4,
 "nbformat_minor": 2
}
