{
 "cells": [
  {
   "cell_type": "markdown",
   "metadata": {},
   "source": [
    "빌드한 도커 이미지를 Registry 없이 다른 노드에서 도커 이미지로 등록해서 사용해야 할 경우 도커 이미지를 파일로 쓰고 읽는 방법입니다.\n",
    "\n",
    "<!-- TEASER_END -->"
   ]
  },
  {
   "cell_type": "markdown",
   "metadata": {},
   "source": [
    "```bash\n",
    "> docker images\n",
    "REPOSITORY                                      TAG                             IMAGE ID            CREATED             SIZE\n",
    "comafire/docker-jupyter                         latest                          c3e3fd4c6870        6 weeks ago         13.1GB\n",
    "```\n",
    "\n",
    "docker save 명령을 이용하면 tar 파일로 도커 이미지를 파일로 생성할 수 있습니다.\n",
    "\n",
    "```bash\n",
    "> docker save -o docker-jupyter.tar comafire/docker-jupyter:latest\n",
    "> du -sch docker-jupyter.tar \n",
    " 12G\tdocker-jupyter.tar\n",
    " 12G\ttotal\n",
    "```\n",
    "\n",
    "파일로 생성한 도커 이미지는 docker load 명령으로 도커 이미지로 등록 가능합니다.\n",
    "\n",
    "```bash\n",
    "> docker load -i docker-jupyter.tar\n",
    "```"
   ]
  }
 ],
 "metadata": {
  "kernelspec": {
   "display_name": "Python 3",
   "language": "python",
   "name": "python3"
  },
  "language_info": {
   "codemirror_mode": {
    "name": "ipython",
    "version": 3
   },
   "file_extension": ".py",
   "mimetype": "text/x-python",
   "name": "python",
   "nbconvert_exporter": "python",
   "pygments_lexer": "ipython3",
   "version": "3.6.8"
  },
  "nikola": {
   "category": "",
   "date": "2019-09-01",
   "description": "",
   "link": "",
   "slug": "2019-docker-image-save-load",
   "tags": "",
   "title": "도커 이미지를 파일로 쓰고 읽기",
   "type": "text"
  },
  "toc": {
   "base_numbering": 1,
   "nav_menu": {},
   "number_sections": true,
   "sideBar": true,
   "skip_h1_title": false,
   "title_cell": "Table of Contents",
   "title_sidebar": "Contents",
   "toc_cell": false,
   "toc_position": {},
   "toc_section_display": true,
   "toc_window_display": false
  }
 },
 "nbformat": 4,
 "nbformat_minor": 4
}
