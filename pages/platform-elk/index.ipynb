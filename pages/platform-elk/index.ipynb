{
 "cells": [
  {
   "cell_type": "markdown",
   "metadata": {},
   "source": [
    "# ElasticSearch \n",
    "\n",
    "## Install ElasticSearch with Docker\n",
    "\n",
    "https://www.elastic.co/guide/en/elasticsearch/reference/current/docker.html\n",
    "\n",
    "ElasticSearch 에서 제공하는 Docker 이미지를 다운로드 받습니다.\n",
    "\n",
    "```bash\n",
    "docker pull docker.elastic.co/elasticsearch/elasticsearch:7.3.1\n",
    "\n",
    "```\n",
    "\n",
    "개발모드\n",
    "\n",
    "```\n",
    "docker run -p 9200:9200 -p 9300:9300 -e \"discovery.type=single-node\" docker.elastic.co/elasticsearch/elasticsearch:7.3.1\n",
    "```"
   ]
  },
  {
   "cell_type": "code",
   "execution_count": null,
   "metadata": {},
   "outputs": [],
   "source": []
  }
 ],
 "metadata": {
  "kernelspec": {
   "display_name": "Python 3",
   "language": "python",
   "name": "python3"
  },
  "language_info": {
   "codemirror_mode": {
    "name": "ipython",
    "version": 3
   },
   "file_extension": ".py",
   "mimetype": "text/x-python",
   "name": "python",
   "nbconvert_exporter": "python",
   "pygments_lexer": "ipython3",
   "version": "3.7.6"
  },
  "nikola": {
   "category": "",
   "date": "2019-08-23",
   "description": "",
   "link": "",
   "slug": "platform-elk",
   "tags": "",
   "title": "ELK (ElasticSearch Logstash Kibana) Stack",
   "type": "text"
  },
  "toc": {
   "base_numbering": 1,
   "nav_menu": {},
   "number_sections": true,
   "sideBar": true,
   "skip_h1_title": false,
   "title_cell": "Table of Contents",
   "title_sidebar": "Contents",
   "toc_cell": false,
   "toc_position": {},
   "toc_section_display": true,
   "toc_window_display": false
  }
 },
 "nbformat": 4,
 "nbformat_minor": 4
}
