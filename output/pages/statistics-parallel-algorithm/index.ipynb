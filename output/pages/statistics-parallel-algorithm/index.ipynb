{
 "cells": [
  {
   "cell_type": "markdown",
   "metadata": {
    "nikola": {
     "category": "",
     "date": "2019-02-10",
     "description": "",
     "link": "",
     "slug": "data-science-cookbook",
     "tags": "",
     "title": "Data Science Cookbook",
     "type": "text"
    }
   },
   "source": [
    "# One-Pass/Parallel Algorithm\n",
    "\n",
    "* https://en.wikipedia.org/wiki/Algorithms_for_calculating_variance#Parallel_algorithm\n",
    "* https://prod-ng.sandia.gov/techlib-noauth/access-control.cgi/2008/086212.pdf\n",
    "\n",
    "Scalable and Numerically Stable Descriptive\n",
    "Statistics in SystemML\n",
    "* https://researcher.watson.ibm.com/researcher/files/us-ytian/stability.pdf\n",
    "\n",
    "평균, 분산 계산 및 High Order Statistics를 위한 1 Pass 알고리즘\n",
    "* https://m.blog.naver.com/PostView.nhn?blogId=lonekid&logNo=60026171286&proxyReferer=https%3A%2F%2Fwww.google.com%2F"
   ]
  },
  {
   "cell_type": "code",
   "execution_count": null,
   "metadata": {},
   "outputs": [],
   "source": []
  }
 ],
 "metadata": {
  "kernelspec": {
   "display_name": "Python 3",
   "language": "python",
   "name": "python3"
  },
  "language_info": {
   "codemirror_mode": {
    "name": "ipython",
    "version": 3
   },
   "file_extension": ".py",
   "mimetype": "text/x-python",
   "name": "python",
   "nbconvert_exporter": "python",
   "pygments_lexer": "ipython3",
   "version": "3.5.2"
  },
  "nikola": {
   "category": "",
   "date": "2019-05-05",
   "description": "",
   "link": "",
   "slug": "statistics-parallel-algorithm",
   "tags": "",
   "title": "Statistics - Parallel Algorithm",
   "type": "text"
  },
  "toc": {
   "base_numbering": 1,
   "nav_menu": {},
   "number_sections": true,
   "sideBar": true,
   "skip_h1_title": false,
   "title_cell": "Table of Contents",
   "title_sidebar": "Contents",
   "toc_cell": false,
   "toc_position": {},
   "toc_section_display": true,
   "toc_window_display": false
  }
 },
 "nbformat": 4,
 "nbformat_minor": 2
}
