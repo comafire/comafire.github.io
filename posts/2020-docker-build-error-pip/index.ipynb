{
 "cells": [
  {
   "cell_type": "markdown",
   "metadata": {},
   "source": [
    "# 도커 이미지 빌드시 pip 137 에러\n",
    "\n",
    "macOS 에서 Docker 이미지 빌드시 pip 로 용량이 큰 python 패키지 인스톨을 하면 아래와 같이 137 에러를 내며 죽는 경우가 있는데, 이는 Docker 빌드를 위해 필요한 메모리가 부족해서 나타나는 현상입니다.\n",
    "이럴때는 Docker VM 의 메모리 사이즈를 늘려주시면 됩니다.\n",
    "\n",
    "```bash\n",
    "Collecting tensorflow==2.1.0\n",
    "  Downloading tensorflow-2.1.0-cp36-cp36m-manylinux2010_x86_64.whl (421.8 MB)\n",
    "/bin/sh: line 1:     7 죽었음               pip3 install --cache-dir /tmp/pip3 --timeout 600 tensorflow==$TENSORFLOW_VER\n",
    "The command '/bin/sh -c pip3 install --cache-dir /tmp/pip3 --timeout 600 tensorflow==$TENSORFLOW_VER ; fi' returned a non-zero code: 137\n",
    "```\n",
    "\n",
    "<!-- TEASER_END -->"
   ]
  }
 ],
 "metadata": {
  "kernelspec": {
   "display_name": "Python 3",
   "language": "python",
   "name": "python3"
  },
  "language_info": {
   "codemirror_mode": {
    "name": "ipython",
    "version": 3
   },
   "file_extension": ".py",
   "mimetype": "text/x-python",
   "name": "python",
   "nbconvert_exporter": "python",
   "pygments_lexer": "ipython3",
   "version": "3.7.6"
  },
  "nikola": {
   "category": "",
   "date": "2020-02-29",
   "description": "",
   "link": "",
   "slug": "2020-docker-build-error-pip",
   "tags": "",
   "title": "도커 이미지 빌드시 pip 137 에러",
   "type": "text"
  },
  "toc": {
   "base_numbering": 1,
   "nav_menu": {},
   "number_sections": true,
   "sideBar": true,
   "skip_h1_title": false,
   "title_cell": "Table of Contents",
   "title_sidebar": "Contents",
   "toc_cell": false,
   "toc_position": {},
   "toc_section_display": true,
   "toc_window_display": false
  }
 },
 "nbformat": 4,
 "nbformat_minor": 4
}
