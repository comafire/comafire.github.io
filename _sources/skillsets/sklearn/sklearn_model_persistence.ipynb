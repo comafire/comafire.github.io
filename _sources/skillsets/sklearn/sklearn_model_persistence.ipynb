{
 "cells": [
  {
   "cell_type": "markdown",
   "metadata": {},
   "source": [
    "# Model Persistence\n",
    "\n",
    "머신러닝 모델을 학습시킨 후, 모델 재사용을 위해 저장하고 로드하는 방법을 알아봅니다. "
   ]
  },
  {
   "cell_type": "code",
   "execution_count": 1,
   "metadata": {},
   "outputs": [
    {
     "name": "stdout",
     "output_type": "stream",
     "text": [
      "python ver=3.8.9 (default, Jun 12 2021, 23:47:44) \n",
      "[Clang 12.0.5 (clang-1205.0.22.9)]\n",
      "pandas ver=1.2.4\n",
      "numpy ver=1.19.5\n",
      "sklearn ver=0.24.2\n"
     ]
    }
   ],
   "source": [
    "# 경고 메시지 출력 끄기\n",
    "import warnings \n",
    "warnings.filterwarnings(action='ignore')\n",
    "\n",
    "%matplotlib inline\n",
    "import matplotlib.pyplot as plt\n",
    "import IPython\n",
    "\n",
    "import sys\n",
    "\n",
    "rseed = 22\n",
    "import random\n",
    "random.seed(rseed)\n",
    "\n",
    "import numpy as np\n",
    "np.random.seed(rseed)\n",
    "np.set_printoptions(precision=3)\n",
    "np.set_printoptions(formatter={'float_kind': \"{:.3f}\".format})\n",
    "\n",
    "import pandas as pd\n",
    "pd.set_option('display.max_rows', None) \n",
    "pd.set_option('display.max_columns', None) \n",
    "pd.set_option('display.max_colwidth', None)\n",
    "pd.options.display.float_format = '{:,.5f}'.format\n",
    "\n",
    "import sklearn\n",
    "\n",
    "print(f\"python ver={sys.version}\")\n",
    "print(f\"pandas ver={pd.__version__}\")\n",
    "print(f\"numpy ver={np.__version__}\")\n",
    "print(f\"sklearn ver={sklearn.__version__}\")"
   ]
  },
  {
   "cell_type": "code",
   "execution_count": 2,
   "metadata": {},
   "outputs": [
    {
     "name": "stdout",
     "output_type": "stream",
     "text": [
      "data shape: xs=(100000, 10), ys=(100000,)\n",
      "train shape: train_xs=(70000, 10), train_ys=(70000,)\n",
      "test shape: test_xs=(30000, 10), test_ys=(30000,)\n",
      "model=LogisticRegression(multi_class='multinomial', solver='sag')\n",
      "classification_report\n",
      "              precision    recall  f1-score   support\n",
      "\n",
      "           0       0.69      0.81      0.74      9939\n",
      "           1       0.66      0.58      0.62     10041\n",
      "           2       0.81      0.77      0.79     10020\n",
      "\n",
      "    accuracy                           0.72     30000\n",
      "   macro avg       0.72      0.72      0.72     30000\n",
      "weighted avg       0.72      0.72      0.72     30000\n",
      "\n",
      "classification_report\n",
      "              precision    recall  f1-score   support\n",
      "\n",
      "           0       0.69      0.81      0.74      9939\n",
      "           1       0.66      0.58      0.62     10041\n",
      "           2       0.81      0.77      0.79     10020\n",
      "\n",
      "    accuracy                           0.72     30000\n",
      "   macro avg       0.72      0.72      0.72     30000\n",
      "weighted avg       0.72      0.72      0.72     30000\n",
      "\n"
     ]
    }
   ],
   "source": [
    "from sklearn import datasets, model_selection, linear_model, metrics\n",
    "import os, joblib\n",
    "\n",
    "# 데이터\n",
    "n_samples = 100000\n",
    "xs, ys = datasets.make_classification(\n",
    "    n_samples=n_samples, # 데이터 수\n",
    "    n_features=10, # X feature 수\n",
    "    n_informative=3,\n",
    "    n_classes=3, # Y class 수\n",
    "    random_state=rseed) # 난수 발생용 Seed 값\n",
    "print(f\"data shape: xs={xs.shape}, ys={ys.shape}\")\n",
    "train_xs, test_xs, train_ys, test_ys = model_selection.train_test_split(\n",
    "    xs, ys, test_size=0.3, shuffle=True, random_state=2)\n",
    "print(f\"train shape: train_xs={train_xs.shape}, train_ys={train_ys.shape}\")\n",
    "print(f\"test shape: test_xs={test_xs.shape}, test_ys={test_ys.shape}\")\n",
    "\n",
    "# 모델\n",
    "model = linear_model.LogisticRegression(solver='sag', multi_class='multinomial')\n",
    "\n",
    "# 학습\n",
    "print(f\"model={model}\")\n",
    "model.fit(train_xs, train_ys)\n",
    "\n",
    "# 평가\n",
    "pred_ys = model.predict(test_xs)\n",
    "cr = metrics.classification_report(test_ys, pred_ys)\n",
    "print(f\"classification_report\\n{cr}\")\n",
    "\n",
    "# 모델 저장/로드\n",
    "path_model = \"/tmp/model.joblib\"\n",
    "joblib.dump(model, path_model)\n",
    "model = joblib.load(path_model)\n",
    "\n",
    "# 재평가\n",
    "pred_ys = model.predict(test_xs)\n",
    "cr = metrics.classification_report(test_ys, pred_ys)\n",
    "print(f\"classification_report\\n{cr}\")"
   ]
  },
  {
   "cell_type": "code",
   "execution_count": null,
   "metadata": {},
   "outputs": [],
   "source": []
  }
 ],
 "metadata": {
  "kernelspec": {
   "display_name": "Python 3",
   "language": "python",
   "name": "python3"
  },
  "language_info": {
   "codemirror_mode": {
    "name": "ipython",
    "version": 3
   },
   "file_extension": ".py",
   "mimetype": "text/x-python",
   "name": "python",
   "nbconvert_exporter": "python",
   "pygments_lexer": "ipython3",
   "version": "3.8.9"
  },
  "nikola": {
   "category": "",
   "date": "2019-05-11",
   "description": "",
   "link": "",
   "slug": "ml-model-persistence",
   "tags": "",
   "title": "Machine Learning - Model Persistence",
   "type": "text"
  },
  "toc": {
   "base_numbering": 1,
   "nav_menu": {},
   "number_sections": true,
   "sideBar": true,
   "skip_h1_title": false,
   "title_cell": "Table of Contents",
   "title_sidebar": "Contents",
   "toc_cell": false,
   "toc_position": {},
   "toc_section_display": true,
   "toc_window_display": false
  }
 },
 "nbformat": 4,
 "nbformat_minor": 4
}
