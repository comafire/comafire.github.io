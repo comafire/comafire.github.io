{
 "cells": [
  {
   "cell_type": "markdown",
   "metadata": {},
   "source": [
    "# Machine Learning\n"
   ]
  },
  {
   "cell_type": "markdown",
   "metadata": {},
   "source": [
    "\"기계가 일일이 코드로 명시하지 않은 동작을 데이터로부터 학습하여 실행할 수 있도록 하는 알고리즘을 개발하는 연구 분야\", 1959 by Arthur Samuel\n",
    "\n",
    "* https://en.wikipedia.org/wiki/Machine_learning\n",
    "* https://ischoolonline.berkeley.edu/blog/what-is-machine-learning/\n",
    "\n",
    "## 머신러닝의 정의\n",
    "\n",
    "* Decision process: 모델이 입력된 데이터내의 패턴 종류에 대한 추정을 반환하는 계산 방법 또는 기타 단계\n",
    "* Error function: 모델의 추정과 실 데이터의 비교를 통해 모델의 정확도를 평가\n",
    "* Updating or optimization process스: 모델의 가중치 반복 업데이트를 통해 실 데이터와 모델 추정치 간의 오류를 임계 값이하로 최적화\n",
    "\n",
    "## 머신러닝의 방법\n",
    "\n",
    "* Supervised Learning: 입력/출력이 정해진 데이터를 이용해 입력과 출력의 일반적 룰을 학습하여 출력 데이터를 예측하는 것이 목표\n",
    "* Unsupervised Learning: 정해진 출력 데이터 없이 주어진 입력 데이터 내의 패턴을 찾는 얻는 것이 목표 \n",
    "* Reinforcement learning: 역동적인 환경에서 반복적인 시행착오 상호작용을 통해 누적 보상을 최대화하는 방법을 찾는 것이 목표\n",
    "\n",
    "이 외에도 빅데이터 시대로 접어 들면서 희소한 Labled Data 를 가지고 학습할 수 있는 다양한 종류의 방법론들 (Transfer learning, Semi-supervised learning, Self-supervised learning ...)이 연구 되고 있는 중\n",
    "\n"
   ]
  },
  {
   "cell_type": "markdown",
   "metadata": {},
   "source": []
  }
 ],
 "metadata": {
  "kernelspec": {
   "display_name": "Python 3.8.9 64-bit ('3.8.9')",
   "language": "python",
   "name": "python3"
  },
  "language_info": {
   "codemirror_mode": {
    "name": "ipython",
    "version": 3
   },
   "file_extension": ".py",
   "mimetype": "text/x-python",
   "name": "python",
   "nbconvert_exporter": "python",
   "pygments_lexer": "ipython3",
   "version": "3.8.9"
  },
  "nikola": {
   "category": "",
   "date": "2019-02-24",
   "description": "",
   "link": "",
   "slug": "ml-data-description",
   "tags": "",
   "title": "Machine Learning - Data Description",
   "type": "text"
  },
  "toc": {
   "base_numbering": 1,
   "nav_menu": {},
   "number_sections": true,
   "sideBar": true,
   "skip_h1_title": false,
   "title_cell": "Table of Contents",
   "title_sidebar": "Contents",
   "toc_cell": false,
   "toc_position": {},
   "toc_section_display": true,
   "toc_window_display": false
  },
  "vscode": {
   "interpreter": {
    "hash": "81b98c941daad6509d4c89342869ca88f891260205139ff875cb30be518b42c4"
   }
  }
 },
 "nbformat": 4,
 "nbformat_minor": 4
}
