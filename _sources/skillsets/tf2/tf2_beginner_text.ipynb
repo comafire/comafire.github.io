{
 "cells": [
  {
   "cell_type": "markdown",
   "metadata": {},
   "source": [
    "# Text\n",
    "\n",
    "TensorFlow2 공식 홈페이지에 나와 있는 코드들을 수행해 보면서 빠르게 TensorFlow2를 익혀 봅니다.\n",
    "\n",
    "https://www.tensorflow.org/tutorials/load_data/text"
   ]
  },
  {
   "cell_type": "markdown",
   "metadata": {
    "id": "DweYe9FcbMK_"
   },
   "source": [
    "##### Copyright 2018 The TensorFlow Authors.\n"
   ]
  },
  {
   "cell_type": "code",
   "execution_count": 1,
   "metadata": {
    "cellView": "form",
    "id": "AVV2e0XKbJeX"
   },
   "outputs": [],
   "source": [
    "#@title Licensed under the Apache License, Version 2.0 (the \"License\");\n",
    "# you may not use this file except in compliance with the License.\n",
    "# You may obtain a copy of the License at\n",
    "#\n",
    "# https://www.apache.org/licenses/LICENSE-2.0\n",
    "#\n",
    "# Unless required by applicable law or agreed to in writing, software\n",
    "# distributed under the License is distributed on an \"AS IS\" BASIS,\n",
    "# WITHOUT WARRANTIES OR CONDITIONS OF ANY KIND, either express or implied.\n",
    "# See the License for the specific language governing permissions and\n",
    "# limitations under the License."
   ]
  },
  {
   "cell_type": "code",
   "execution_count": 2,
   "metadata": {},
   "outputs": [],
   "source": [
    "# 설치\n",
    "!pip install -q --upgrade pip\n",
    "# Be sure you're using the stable versions of both tf and tf-text, for binary compatibility.\n",
    "!pip install -q -U tensorflow\n",
    "!pip install -q -U tensorflow-text"
   ]
  },
  {
   "cell_type": "code",
   "execution_count": 3,
   "metadata": {},
   "outputs": [
    {
     "data": {
      "text/html": [
       "<style>.container { width:100% !important; }</style>"
      ],
      "text/plain": [
       "<IPython.core.display.HTML object>"
      ]
     },
     "metadata": {},
     "output_type": "display_data"
    },
    {
     "name": "stdout",
     "output_type": "stream",
     "text": [
      "python ver=3.7.6 (default, Nov 21 2020, 22:51:13) \n",
      "[Clang 12.0.0 (clang-1200.0.32.27)]\n",
      "pandas ver=1.0.5\n",
      "numpy ver=1.19.5\n",
      "tensorflow ver=2.4.1\n",
      "tensorflow execuring eagerly=True\n",
      "tensorflow GPU=False\n",
      "keras tuner ver=1.0.2\n",
      "senborn ver=0.10.0\n",
      "PIL ver=7.1.2\n"
     ]
    }
   ],
   "source": [
    "# 경고 메시지 출력 끄기\n",
    "import warnings \n",
    "warnings.filterwarnings(action='ignore')\n",
    "warnings.simplefilter(action='ignore', category=FutureWarning)\n",
    "\n",
    "# 노트북 셀 표시를 브라우저 전체 폭 사용하기\n",
    "from IPython.core.display import display, HTML\n",
    "display(HTML(\"<style>.container { width:100% !important; }</style>\"))\n",
    "from IPython.display import clear_output\n",
    "\n",
    "# Matplotlib 설정\n",
    "%matplotlib inline\n",
    "%config InlineBackend.figure_format = 'retina' # Macbook Retina Display를 위한 고해상도 설정\n",
    "import matplotlib.pyplot as plt\n",
    "plt.style.use('seaborn') # 스타일 설정\n",
    "plt.rcParams['figure.figsize'] = [16, 9] # 그림 크기\n",
    "plt.rcParams['figure.dpi'] = 300 # 해상도\n",
    "\n",
    "import os, sys, shutil, functools\n",
    "import collections, pathlib, re, string\n",
    "\n",
    "rseed = 22\n",
    "import random\n",
    "random.seed(rseed)\n",
    "\n",
    "import numpy as np\n",
    "np.random.seed(rseed)\n",
    "np.set_printoptions(precision=5)\n",
    "np.set_printoptions(formatter={'float_kind': \"{:.5f}\".format})\n",
    "\n",
    "import pandas as pd\n",
    "pd.set_option('display.max_rows', None) \n",
    "pd.set_option('display.max_columns', None) \n",
    "pd.set_option('display.max_colwidth', None)\n",
    "pd.options.display.float_format = '{:,.5f}'.format\n",
    "\n",
    "import tensorflow as tf\n",
    "tf.random.set_seed(rseed)\n",
    "tf.keras.backend.set_floatx('float32') # keras default float type 설정\n",
    "\n",
    "import tensorflow_hub as tfhub\n",
    "import tensorflow_datasets as tfds\n",
    "import tensorflow_text as tftext\n",
    "\n",
    "import kerastuner as kt\n",
    "\n",
    "import seaborn as sns\n",
    "\n",
    "import PIL\n",
    "import PIL.Image\n",
    "\n",
    "print(f\"python ver={sys.version}\")\n",
    "print(f\"pandas ver={pd.__version__}\")\n",
    "print(f\"numpy ver={np.__version__}\")\n",
    "print(f\"tensorflow ver={tf.__version__}\")\n",
    "print(f\"tensorflow execuring eagerly={tf.executing_eagerly()}\")\n",
    "print(f\"tensorflow GPU={'True' if tf.config.experimental.list_physical_devices('GPU') else 'False'}\")\n",
    "print(f\"keras tuner ver={kt.__version__}\")\n",
    "print(f\"senborn ver={sns.__version__}\")\n",
    "print(f\"PIL ver={PIL.__version__}\")"
   ]
  },
  {
   "cell_type": "markdown",
   "metadata": {
    "id": "sZfSvVcDo6GQ"
   },
   "source": [
    "## Load text"
   ]
  },
  {
   "cell_type": "markdown",
   "metadata": {
    "id": "giK0nMbZFnoR"
   },
   "source": [
    "<table class=\"tfo-notebook-buttons\" align=\"left\">\n",
    "  <td>\n",
    "    <a target=\"_blank\" href=\"https://www.tensorflow.org/tutorials/load_data/text\"><img src=\"https://www.tensorflow.org/images/tf_logo_32px.png\" />View on TensorFlow.org</a>\n",
    "  </td>\n",
    "  <td>\n",
    "    <a target=\"_blank\" href=\"https://colab.research.google.com/github/tensorflow/docs/blob/master/site/en/tutorials/load_data/text.ipynb\"><img src=\"https://www.tensorflow.org/images/colab_logo_32px.png\" />Run in Google Colab</a>\n",
    "  </td>\n",
    "  <td>\n",
    "    <a target=\"_blank\" href=\"https://github.com/tensorflow/docs/blob/master/site/en/tutorials/load_data/text.ipynb\"><img src=\"https://www.tensorflow.org/images/GitHub-Mark-32px.png\" />View source on GitHub</a>\n",
    "  </td>\n",
    "  <td>\n",
    "    <a href=\"https://storage.googleapis.com/tensorflow_docs/docs/site/en/tutorials/load_data/text.ipynb\"><img src=\"https://www.tensorflow.org/images/download_logo_32px.png\" />Download notebook</a>\n",
    "  </td>\n",
    "</table>\n",
    "*"
   ]
  },
  {
   "cell_type": "markdown",
   "metadata": {
    "id": "dwlfPb11GH8J"
   },
   "source": [
    "____\n",
    "This tutorial demonstrates two ways to load and preprocess text.\n",
    "\n",
    "+ First, you will use Keras utilities and layers. If you are new to TensorFlow, you should start with these.\n",
    "\n",
    "+ Next, you will use lower-level utilities like `tf.data.TextLineDataset` to load text files, and `tf.text` to preprocess the data for finer-grain control."
   ]
  },
  {
   "cell_type": "markdown",
   "metadata": {
    "id": "Az-d_K5_HQ5k"
   },
   "source": [
    "## Example 1: Predict the tag for a Stack Overflow question\n",
    "\n",
    "As a first example, you will download a dataset of programming questions from Stack Overflow. Each question (\"How do I sort a dictionary by value?\") is labeled with exactly one tag (`Python`, `CSharp`, `JavaScript`, or `Java`). Your task is to develop a model that predicts the tag for a question. This is an example of multi-class classification, an important and widely applicable kind of machine learning problem."
   ]
  },
  {
   "cell_type": "markdown",
   "metadata": {
    "id": "tjC3yLa5IjP7"
   },
   "source": [
    "### Download and explore the dataset\n",
    "\n",
    "\n",
    "Next, you will download the dataset, and explore the directory structure."
   ]
  },
  {
   "cell_type": "code",
   "execution_count": 4,
   "metadata": {
    "id": "8ELgzA6SHTuV"
   },
   "outputs": [],
   "source": [
    "data_url = 'https://storage.googleapis.com/download.tensorflow.org/data/stack_overflow_16k.tar.gz'\n",
    "dataset = tf.keras.utils.get_file(\n",
    "    '/tmp/stack_overflow_16k.tar.gz',\n",
    "    data_url,\n",
    "    untar=True,\n",
    "    cache_dir='/tmp',\n",
    "    cache_subdir='stack_overflow')\n",
    "dataset_dir = pathlib.Path(dataset).parent.joinpath(\"stack_overflow\")"
   ]
  },
  {
   "cell_type": "code",
   "execution_count": 5,
   "metadata": {
    "id": "jIrPl5fUH2gb"
   },
   "outputs": [
    {
     "data": {
      "text/plain": [
       "[PosixPath('/tmp/stack_overflow/test'),\n",
       " PosixPath('/tmp/stack_overflow/README.md'),\n",
       " PosixPath('/tmp/stack_overflow/train')]"
      ]
     },
     "execution_count": 5,
     "metadata": {},
     "output_type": "execute_result"
    }
   ],
   "source": [
    "list(dataset_dir.iterdir())"
   ]
  },
  {
   "cell_type": "code",
   "execution_count": 6,
   "metadata": {
    "id": "fEoV7YByJoWQ"
   },
   "outputs": [
    {
     "data": {
      "text/plain": [
       "[PosixPath('/tmp/stack_overflow/train/python'),\n",
       " PosixPath('/tmp/stack_overflow/train/java'),\n",
       " PosixPath('/tmp/stack_overflow/train/csharp'),\n",
       " PosixPath('/tmp/stack_overflow/train/javascript')]"
      ]
     },
     "execution_count": 6,
     "metadata": {},
     "output_type": "execute_result"
    }
   ],
   "source": [
    "train_dir = dataset_dir/'train'\n",
    "list(train_dir.iterdir())"
   ]
  },
  {
   "cell_type": "markdown",
   "metadata": {
    "id": "3mxAN17MhEh0"
   },
   "source": [
    "The `train/csharp`, `train/java`, `train/python` and `train/javascript` directories contain many text files, each of which is a Stack Overflow question. Print a file and inspect the data."
   ]
  },
  {
   "cell_type": "code",
   "execution_count": 7,
   "metadata": {
    "id": "Go1vTSGdJu08"
   },
   "outputs": [
    {
     "name": "stdout",
     "output_type": "stream",
     "text": [
      "why does this blank program print true x=true.def stupid():.    x=false.stupid().print x\n",
      "\n"
     ]
    }
   ],
   "source": [
    "sample_file = train_dir/'python/1755.txt'\n",
    "with open(sample_file) as f:\n",
    "    print(f.read())"
   ]
  },
  {
   "cell_type": "markdown",
   "metadata": {
    "id": "deWBTkpJiO7D"
   },
   "source": [
    "### Load the dataset\n",
    "\n",
    "Next, you will load the data off disk and prepare it into a format suitable for training. To do so, you will use [text_dataset_from_directory](https://www.tensorflow.org/api_docs/python/tf/keras/preprocessing/text_dataset_from_directory) utility to create a labeled `tf.data.Dataset`. If you're new to [tf.data](https://www.tensorflow.org/guide/data), it's a powerful collection of tools for building input pipelines.\n",
    "\n",
    "The `preprocessing.text_dataset_from_directory` expects a directory structure as follows.\n",
    "\n",
    "```\n",
    "train/\n",
    "...csharp/\n",
    "......1.txt\n",
    "......2.txt\n",
    "...java/\n",
    "......1.txt\n",
    "......2.txt\n",
    "...javascript/\n",
    "......1.txt\n",
    "......2.txt\n",
    "...python/\n",
    "......1.txt\n",
    "......2.txt\n",
    "```"
   ]
  },
  {
   "cell_type": "markdown",
   "metadata": {
    "id": "Dyl6JTAjlbQV"
   },
   "source": [
    "When running a machine learning experiment, it is a best practice to divide your dataset into three splits: [train](https://developers.google.com/machine-learning/glossary#training_set), [validation](https://developers.google.com/machine-learning/glossary#validation_set), and [test](https://developers.google.com/machine-learning/glossary#test-set). The Stack Overflow dataset has already been divided into train and test, but it lacks a validation set. Create a validation set using an 80:20 split of the training data by using the `validation_split` argument below."
   ]
  },
  {
   "cell_type": "code",
   "execution_count": 8,
   "metadata": {
    "id": "qqyliMw8N-az"
   },
   "outputs": [
    {
     "name": "stdout",
     "output_type": "stream",
     "text": [
      "Found 8000 files belonging to 4 classes.\n",
      "Using 6400 files for training.\n"
     ]
    }
   ],
   "source": [
    "batch_size = 32\n",
    "seed = 42\n",
    "\n",
    "raw_train_ds = tf.keras.preprocessing.text_dataset_from_directory(\n",
    "    train_dir,\n",
    "    batch_size=batch_size,\n",
    "    validation_split=0.2,\n",
    "    subset='training',\n",
    "    seed=seed)"
   ]
  },
  {
   "cell_type": "markdown",
   "metadata": {
    "id": "DMI_gPLfloD7"
   },
   "source": [
    "As you can see above, there are 8,000 examples in the training folder, of which you will use 80% (or 6,400) for training. As you will see in a moment, you can train a model by passing a `tf.data.Dataset` directly to `model.fit`. First, iterate over the dataset and print out a few examples, to get a feel for the data.\n",
    "\n",
    "Note: To increase the difficulty of the classification problem, the dataset author replaced occurrences of the words *Python*, *CSharp*, *JavaScript*, or *Java* in the programming question with the word *blank*."
   ]
  },
  {
   "cell_type": "code",
   "execution_count": 9,
   "metadata": {
    "id": "_JMTyZ6Glt_C"
   },
   "outputs": [
    {
     "name": "stdout",
     "output_type": "stream",
     "text": [
      "Question:  b'\"is it possible to split a xml string into elements in array? suppose i have xml string...string str=\"\"&lt;loan&gt;&lt;account&gt;123456&lt;/account&gt;&lt;name&gt;ramakrishna&lt;/name&gt;&lt;principle&gt;1000&lt;/principle&gt;&lt;issue_date&gt;jan-1-2013&lt;/issue_date&gt;&lt;interest_rate&gt;12%&lt;/interest_rate&gt;&lt;/loan&gt;\"\"...my output should be like..arr = [\"\"&lt;account&gt;123456&lt;/account&gt;\"\",\"\"&lt;name&gt;ramakrishna&lt;/name&gt;\"\",\"\"&lt;principle&gt;1000&lt;/principle&gt;\"\",\"\"&lt;issue_date&gt;jan-1-2013&lt;/issue_date&gt;\"\",\"\"&lt;interest_rate&gt;12%&lt;/interest_rate&gt;\"\"]\"\\n'\n",
      "Label: 1\n",
      "Question:  b'\"fails on encountering null this code is part of a shopify sync utility. never has failed, until we encountered a product with no value in the compareto shopify field, not that we have a product with no compareto value. ..private decimal? getcompareprice(long? productid, long? variantid, list&lt;product&gt; products).{.    var product = products.where(x =&gt; x.id == productid).firstordefault();.    var variantdata = product.variants.where(x =&gt; x.id == variantid).firstordefault();..    return variantdata != null ? variantdata.compareatprice : null;.}...how do i get my function to return null if the compareto value is null?\"\\n'\n",
      "Label: 0\n",
      "Question:  b'\"blank basic function concatenation to avoid using switch i am looking for a smarter way to call functions without using switch. my problem is as below:.i have many function calls that read something like .    this.map.functionapple();.    this.map.functionpeach();.    this.map.functionorange();..i am currently calling a parent function fruit(\"\"orange\"\") which basically is a huge function with switch which selects the function this.map.functionorange().is there a way where i can simply do:..this.map.function+name+();\"\\n'\n",
      "Label: 0\n"
     ]
    }
   ],
   "source": [
    "for text_batch, label_batch in raw_train_ds.take(1):\n",
    "    for i in range(3):\n",
    "        print(\"Question: \", text_batch.numpy()[i])\n",
    "        print(\"Label:\", label_batch.numpy()[i])"
   ]
  },
  {
   "cell_type": "markdown",
   "metadata": {
    "id": "jCZGl4Q5l2sS"
   },
   "source": [
    "The labels are `0`, `1`, `2` or `3`. To see which of these correspond to which string label, you can check the `class_names` property on the dataset.\n"
   ]
  },
  {
   "cell_type": "code",
   "execution_count": 10,
   "metadata": {
    "id": "gIpCS7YjmGkj"
   },
   "outputs": [
    {
     "name": "stdout",
     "output_type": "stream",
     "text": [
      "Label 0 corresponds to csharp\n",
      "Label 1 corresponds to java\n",
      "Label 2 corresponds to javascript\n",
      "Label 3 corresponds to python\n"
     ]
    }
   ],
   "source": [
    "for i, label in enumerate(raw_train_ds.class_names):\n",
    "    print(\"Label\", i, \"corresponds to\", label)"
   ]
  },
  {
   "cell_type": "markdown",
   "metadata": {
    "id": "oUsdn-37qol9"
   },
   "source": [
    "Next, you will create a validation and test dataset. You will use the remaining 1,600 reviews from the training set for validation.\n",
    "\n",
    "Note:  When using the `validation_split` and `subset` arguments, make sure to either specify a random seed, or to pass `shuffle=False`, so that the validation and training splits have no overlap."
   ]
  },
  {
   "cell_type": "code",
   "execution_count": 11,
   "metadata": {
    "id": "x7m6sCWJQuYt"
   },
   "outputs": [
    {
     "name": "stdout",
     "output_type": "stream",
     "text": [
      "Found 8000 files belonging to 4 classes.\n",
      "Using 1600 files for validation.\n"
     ]
    }
   ],
   "source": [
    "raw_val_ds = tf.keras.preprocessing.text_dataset_from_directory(\n",
    "    train_dir,\n",
    "    batch_size=batch_size,\n",
    "    validation_split=0.2,\n",
    "    subset='validation',\n",
    "    seed=seed)"
   ]
  },
  {
   "cell_type": "code",
   "execution_count": 12,
   "metadata": {
    "id": "BXMZc7fMQwKE"
   },
   "outputs": [
    {
     "name": "stdout",
     "output_type": "stream",
     "text": [
      "Found 8000 files belonging to 4 classes.\n"
     ]
    }
   ],
   "source": [
    "test_dir = dataset_dir/'test'\n",
    "raw_test_ds = tf.keras.preprocessing.text_dataset_from_directory(\n",
    "    test_dir, batch_size=batch_size)"
   ]
  },
  {
   "cell_type": "markdown",
   "metadata": {
    "id": "Xdt-ATrGRGDL"
   },
   "source": [
    "### Prepare the dataset for training"
   ]
  },
  {
   "cell_type": "markdown",
   "metadata": {
    "id": "HSDO9JZYrK-O"
   },
   "source": [
    "Note: The Preprocessing APIs used in this section are experimental in TensorFlow 2.3 and subject to change."
   ]
  },
  {
   "cell_type": "markdown",
   "metadata": {
    "id": "N6fRti45Rlj8"
   },
   "source": [
    "Next, you will standardize, tokenize, and vectorize the data using the `preprocessing.TextVectorization` layer.\n",
    "* Standardization refers to preprocessing the text, typically to remove punctuation or HTML elements to simplify the dataset.\n",
    "\n",
    "* Tokenization refers to splitting strings into tokens (for example, splitting a sentence into individual words by splitting on whitespace).\n",
    "\n",
    "* Vectorization refers to converting tokens into numbers so they can be fed into a neural network.\n",
    "\n",
    "All of these tasks can be accomplished with this layer. You can learn more about each of these in the [API doc](https://www.tensorflow.org/api_docs/python/tf/keras/layers/experimental/preprocessing/TextVectorization).\n",
    "\n",
    "* The default standardization converts text to lowercase and removes punctuation.\n",
    "\n",
    "* The default tokenizer splits on whitespace.\n",
    "\n",
    "* The default vectorization mode is `int`. This outputs integer indices (one per token). This mode can be used to build models that take word order into account. You can also use other modes, like `binary`, to build bag-of-word models.\n",
    "\n",
    "\n",
    "You will build two modes to learn more about these. First, you will use the `binary` model to build a bag-of-words model. Next, you will use the `int` mode with a 1D ConvNet."
   ]
  },
  {
   "cell_type": "code",
   "execution_count": 13,
   "metadata": {
    "id": "voaC43rZR0jc"
   },
   "outputs": [],
   "source": [
    "VOCAB_SIZE = 10000\n",
    "\n",
    "binary_vectorize_layer = tf.keras.layers.experimental.preprocessing.TextVectorization(\n",
    "    max_tokens=VOCAB_SIZE,\n",
    "    output_mode='binary')"
   ]
  },
  {
   "cell_type": "markdown",
   "metadata": {
    "id": "ifDPFxuf2Hfz"
   },
   "source": [
    "For `int` mode, in addition to maximum vocabulary size, you need to set an explicit maximum sequence length, which will cause the layer to pad or truncate sequences to exactly sequence_length values."
   ]
  },
  {
   "cell_type": "code",
   "execution_count": 14,
   "metadata": {
    "id": "XWsY01Zl2aRe"
   },
   "outputs": [],
   "source": [
    "MAX_SEQUENCE_LENGTH = 250\n",
    "\n",
    "int_vectorize_layer = tf.keras.layers.experimental.preprocessing.TextVectorization(\n",
    "    max_tokens=VOCAB_SIZE,\n",
    "    output_mode='int',\n",
    "    output_sequence_length=MAX_SEQUENCE_LENGTH)"
   ]
  },
  {
   "cell_type": "markdown",
   "metadata": {
    "id": "ts6h9b5atD-Y"
   },
   "source": [
    "Next, you will call `adapt` to fit the state of the preprocessing layer to the dataset. This will cause the model to build an index of strings to integers.\n",
    "\n",
    "Note: it's important to only use your training data when calling adapt (using the test set would leak information)."
   ]
  },
  {
   "cell_type": "code",
   "execution_count": 15,
   "metadata": {
    "id": "yTXsdDEqSf9e"
   },
   "outputs": [],
   "source": [
    "# Make a text-only dataset (without labels), then call adapt\n",
    "train_text = raw_train_ds.map(lambda text, labels: text)\n",
    "binary_vectorize_layer.adapt(train_text)\n",
    "int_vectorize_layer.adapt(train_text)"
   ]
  },
  {
   "cell_type": "markdown",
   "metadata": {
    "id": "XKVO6Jg7Sls0"
   },
   "source": [
    "See the result of using these layers to preprocess data:"
   ]
  },
  {
   "cell_type": "code",
   "execution_count": 16,
   "metadata": {
    "id": "RngfPyArSsvM"
   },
   "outputs": [],
   "source": [
    "def binary_vectorize_text(text, label):\n",
    "    text = tf.expand_dims(text, -1)\n",
    "    return binary_vectorize_layer(text), label"
   ]
  },
  {
   "cell_type": "code",
   "execution_count": 17,
   "metadata": {
    "id": "_1W54wf0LhQ0"
   },
   "outputs": [],
   "source": [
    "def int_vectorize_text(text, label):\n",
    "    text = tf.expand_dims(text, -1)\n",
    "    return int_vectorize_layer(text), label"
   ]
  },
  {
   "cell_type": "code",
   "execution_count": 18,
   "metadata": {
    "id": "Vi_sElMiSmXe"
   },
   "outputs": [
    {
     "name": "stdout",
     "output_type": "stream",
     "text": [
      "Question tf.Tensor(b'\"what is the difference between these two ways to create an element? var a = document.createelement(\\'div\\');..a.id = \"\"mydiv\"\";...and..var a = document.createelement(\\'div\\').id = \"\"mydiv\"\";...what is the difference between them such that the first one works and the second one doesn\\'t?\"\\n', shape=(), dtype=string)\n",
      "Label tf.Tensor(2, shape=(), dtype=int32)\n"
     ]
    }
   ],
   "source": [
    "# Retrieve a batch (of 32 reviews and labels) from the dataset\n",
    "text_batch, label_batch = next(iter(raw_train_ds))\n",
    "first_question, first_label = text_batch[0], label_batch[0]\n",
    "print(\"Question\", first_question)\n",
    "print(\"Label\", first_label)"
   ]
  },
  {
   "cell_type": "code",
   "execution_count": 19,
   "metadata": {
    "id": "UGukZoYv2v3v"
   },
   "outputs": [
    {
     "name": "stdout",
     "output_type": "stream",
     "text": [
      "'binary' vectorized question: tf.Tensor([[1.00000 1.00000 0.00000 ... 0.00000 0.00000 0.00000]], shape=(1, 10000), dtype=float32)\n"
     ]
    }
   ],
   "source": [
    "print(\"'binary' vectorized question:\", \n",
    "      binary_vectorize_text(first_question, first_label)[0])"
   ]
  },
  {
   "cell_type": "code",
   "execution_count": 20,
   "metadata": {
    "id": "Lu07FsIw2yH5"
   },
   "outputs": [
    {
     "name": "stdout",
     "output_type": "stream",
     "text": [
      "'int' vectorized question: tf.Tensor(\n",
      "[[ 55   6   2 410 211 229 121 895   4 124  32 245  43   5   1   1   5   1\n",
      "    1   6   2 410 211 191 318  14   2  98  71 188   8   2 199  71 178   0\n",
      "    0   0   0   0   0   0   0   0   0   0   0   0   0   0   0   0   0   0\n",
      "    0   0   0   0   0   0   0   0   0   0   0   0   0   0   0   0   0   0\n",
      "    0   0   0   0   0   0   0   0   0   0   0   0   0   0   0   0   0   0\n",
      "    0   0   0   0   0   0   0   0   0   0   0   0   0   0   0   0   0   0\n",
      "    0   0   0   0   0   0   0   0   0   0   0   0   0   0   0   0   0   0\n",
      "    0   0   0   0   0   0   0   0   0   0   0   0   0   0   0   0   0   0\n",
      "    0   0   0   0   0   0   0   0   0   0   0   0   0   0   0   0   0   0\n",
      "    0   0   0   0   0   0   0   0   0   0   0   0   0   0   0   0   0   0\n",
      "    0   0   0   0   0   0   0   0   0   0   0   0   0   0   0   0   0   0\n",
      "    0   0   0   0   0   0   0   0   0   0   0   0   0   0   0   0   0   0\n",
      "    0   0   0   0   0   0   0   0   0   0   0   0   0   0   0   0   0   0\n",
      "    0   0   0   0   0   0   0   0   0   0   0   0   0   0   0   0]], shape=(1, 250), dtype=int64)\n"
     ]
    }
   ],
   "source": [
    "print(\"'int' vectorized question:\",\n",
    "      int_vectorize_text(first_question, first_label)[0])"
   ]
  },
  {
   "cell_type": "markdown",
   "metadata": {
    "id": "wgjeF9PdS7tN"
   },
   "source": [
    "As you can see above, `binary` mode returns an array denoting which tokens exist at least once in the input, while `int` mode replaces each token by an integer, thus preserving their order. You can lookup the token (string) that each integer corresponds to by calling `.get_vocabulary()` on the layer."
   ]
  },
  {
   "cell_type": "code",
   "execution_count": 21,
   "metadata": {
    "id": "WpBnTZilS8wt"
   },
   "outputs": [
    {
     "name": "stdout",
     "output_type": "stream",
     "text": [
      "1289 --->  roman\n",
      "313 --->  source\n",
      "Vocabulary size: 10000\n"
     ]
    }
   ],
   "source": [
    "print(\"1289 ---> \", int_vectorize_layer.get_vocabulary()[1289])\n",
    "print(\"313 ---> \", int_vectorize_layer.get_vocabulary()[313])\n",
    "print(\"Vocabulary size: {}\".format(len(int_vectorize_layer.get_vocabulary())))"
   ]
  },
  {
   "cell_type": "markdown",
   "metadata": {
    "id": "0kHgPE_YwHvp"
   },
   "source": [
    "You are nearly ready to train your model. As a final preprocessing step, you will apply the `TextVectorization` layers you created earlier to the train, validation, and test dataset."
   ]
  },
  {
   "cell_type": "code",
   "execution_count": 22,
   "metadata": {
    "id": "46LeHmnD55wJ"
   },
   "outputs": [],
   "source": [
    "binary_train_ds = raw_train_ds.map(binary_vectorize_text)\n",
    "binary_val_ds = raw_val_ds.map(binary_vectorize_text)\n",
    "binary_test_ds = raw_test_ds.map(binary_vectorize_text)\n",
    "\n",
    "int_train_ds = raw_train_ds.map(int_vectorize_text)\n",
    "int_val_ds = raw_val_ds.map(int_vectorize_text)\n",
    "int_test_ds = raw_test_ds.map(int_vectorize_text)"
   ]
  },
  {
   "cell_type": "markdown",
   "metadata": {
    "id": "NHuAF8hYfP5Z"
   },
   "source": [
    "### Configure the dataset for performance\n",
    "\n",
    "These are two important methods you should use when loading data to make sure that I/O does not become blocking.\n",
    "\n",
    "`.cache()` keeps data in memory after it's loaded off disk. This will ensure the dataset does not become a bottleneck while training your model. If your dataset is too large to fit into memory, you can also use this method to create a performant on-disk cache, which is more efficient to read than many small files.\n",
    "\n",
    "`.prefetch()` overlaps data preprocessing and model execution while training. \n",
    "\n",
    "You can learn more about both methods, as well as how to cache data to disk in the [data performance guide](https://www.tensorflow.org/guide/data_performance)."
   ]
  },
  {
   "cell_type": "code",
   "execution_count": 23,
   "metadata": {
    "id": "PabA9DFIfSz7"
   },
   "outputs": [],
   "source": [
    "AUTOTUNE = tf.data.AUTOTUNE\n",
    "\n",
    "def configure_dataset(dataset):\n",
    "    return dataset.cache().prefetch(buffer_size=AUTOTUNE)"
   ]
  },
  {
   "cell_type": "code",
   "execution_count": 24,
   "metadata": {
    "id": "J8GcJLvb3JH0"
   },
   "outputs": [],
   "source": [
    "binary_train_ds = configure_dataset(binary_train_ds)\n",
    "binary_val_ds = configure_dataset(binary_val_ds)\n",
    "binary_test_ds = configure_dataset(binary_test_ds)\n",
    "\n",
    "int_train_ds = configure_dataset(int_train_ds)\n",
    "int_val_ds = configure_dataset(int_val_ds)\n",
    "int_test_ds = configure_dataset(int_test_ds)"
   ]
  },
  {
   "cell_type": "markdown",
   "metadata": {
    "id": "NYGb7z_bfpGm"
   },
   "source": [
    "### Train the model\n",
    "It's time to create our neural network. For the `binary` vectorized data, train a simple bag-of-words linear model:"
   ]
  },
  {
   "cell_type": "code",
   "execution_count": 25,
   "metadata": {
    "id": "2q8iAU-VMzaN"
   },
   "outputs": [
    {
     "name": "stdout",
     "output_type": "stream",
     "text": [
      "Epoch 1/10\n",
      "200/200 [==============================] - 3s 13ms/step - loss: 1.2369 - accuracy: 0.5275 - val_loss: 0.9143 - val_accuracy: 0.7825\n",
      "Epoch 2/10\n",
      "200/200 [==============================] - 0s 1ms/step - loss: 0.8191 - accuracy: 0.8224 - val_loss: 0.7506 - val_accuracy: 0.7994\n",
      "Epoch 3/10\n",
      "200/200 [==============================] - 0s 1ms/step - loss: 0.6509 - accuracy: 0.8593 - val_loss: 0.6650 - val_accuracy: 0.8106\n",
      "Epoch 4/10\n",
      "200/200 [==============================] - 0s 1ms/step - loss: 0.5508 - accuracy: 0.8869 - val_loss: 0.6116 - val_accuracy: 0.8175\n",
      "Epoch 5/10\n",
      "200/200 [==============================] - 0s 1ms/step - loss: 0.4815 - accuracy: 0.9034 - val_loss: 0.5750 - val_accuracy: 0.8300\n",
      "Epoch 6/10\n",
      "200/200 [==============================] - 0s 1ms/step - loss: 0.4293 - accuracy: 0.9167 - val_loss: 0.5484 - val_accuracy: 0.8325\n",
      "Epoch 7/10\n",
      "200/200 [==============================] - 0s 1ms/step - loss: 0.3879 - accuracy: 0.9266 - val_loss: 0.5284 - val_accuracy: 0.8313\n",
      "Epoch 8/10\n",
      "200/200 [==============================] - 0s 1ms/step - loss: 0.3538 - accuracy: 0.9331 - val_loss: 0.5129 - val_accuracy: 0.8350\n",
      "Epoch 9/10\n",
      "200/200 [==============================] - 0s 1ms/step - loss: 0.3250 - accuracy: 0.9415 - val_loss: 0.5008 - val_accuracy: 0.8388\n",
      "Epoch 10/10\n",
      "200/200 [==============================] - 0s 1ms/step - loss: 0.3002 - accuracy: 0.9459 - val_loss: 0.4911 - val_accuracy: 0.8388\n"
     ]
    }
   ],
   "source": [
    "binary_model = tf.keras.Sequential([tf.keras.layers.Dense(4)])\n",
    "binary_model.compile(\n",
    "    loss=tf.losses.SparseCategoricalCrossentropy(from_logits=True),\n",
    "    optimizer='adam',\n",
    "    metrics=['accuracy'])\n",
    "history = binary_model.fit(\n",
    "    binary_train_ds, validation_data=binary_val_ds, epochs=10)"
   ]
  },
  {
   "cell_type": "markdown",
   "metadata": {
    "id": "EwidD-SwNIkz"
   },
   "source": [
    "Next, you will use the `int` vectorized layer to build a 1D ConvNet."
   ]
  },
  {
   "cell_type": "code",
   "execution_count": 26,
   "metadata": {
    "id": "5ztw2XH_LbVz"
   },
   "outputs": [],
   "source": [
    "def create_model(vocab_size, num_labels):\n",
    "    model = tf.keras.Sequential([\n",
    "        tf.keras.layers.Embedding(vocab_size, 64, mask_zero=True),\n",
    "        tf.keras.layers.Conv1D(64, 5, padding=\"valid\", activation=\"relu\", strides=2),\n",
    "        tf.keras.layers.GlobalMaxPooling1D(),\n",
    "        tf.keras.layers.Dense(num_labels)\n",
    "    ])\n",
    "    return model"
   ]
  },
  {
   "cell_type": "code",
   "execution_count": 27,
   "metadata": {
    "id": "s9rG1cFRL31Z"
   },
   "outputs": [
    {
     "name": "stdout",
     "output_type": "stream",
     "text": [
      "Epoch 1/5\n",
      "200/200 [==============================] - 3s 11ms/step - loss: 1.3076 - accuracy: 0.3882 - val_loss: 0.7758 - val_accuracy: 0.6869\n",
      "Epoch 2/5\n",
      "200/200 [==============================] - 2s 8ms/step - loss: 0.7206 - accuracy: 0.7046 - val_loss: 0.5515 - val_accuracy: 0.7900\n",
      "Epoch 3/5\n",
      "200/200 [==============================] - 2s 8ms/step - loss: 0.4416 - accuracy: 0.8485 - val_loss: 0.4711 - val_accuracy: 0.8263\n",
      "Epoch 4/5\n",
      "200/200 [==============================] - 2s 8ms/step - loss: 0.2530 - accuracy: 0.9443 - val_loss: 0.4595 - val_accuracy: 0.8244\n",
      "Epoch 5/5\n",
      "200/200 [==============================] - 2s 9ms/step - loss: 0.1305 - accuracy: 0.9779 - val_loss: 0.4794 - val_accuracy: 0.8219\n"
     ]
    }
   ],
   "source": [
    "# vocab_size is VOCAB_SIZE + 1 since 0 is used additionally for padding.\n",
    "int_model = create_model(vocab_size=VOCAB_SIZE + 1, num_labels=4)\n",
    "int_model.compile(\n",
    "    loss=tf.losses.SparseCategoricalCrossentropy(from_logits=True),\n",
    "    optimizer='adam',\n",
    "    metrics=['accuracy'])\n",
    "history = int_model.fit(int_train_ds, validation_data=int_val_ds, epochs=5)"
   ]
  },
  {
   "cell_type": "markdown",
   "metadata": {
    "id": "x3J9Eeuv97zE"
   },
   "source": [
    "Compare the two models:"
   ]
  },
  {
   "cell_type": "code",
   "execution_count": 28,
   "metadata": {
    "id": "N8ViDXw99v_u"
   },
   "outputs": [
    {
     "name": "stdout",
     "output_type": "stream",
     "text": [
      "Linear model on binary vectorized data:\n",
      "Model: \"sequential\"\n",
      "_________________________________________________________________\n",
      "Layer (type)                 Output Shape              Param #   \n",
      "=================================================================\n",
      "dense (Dense)                (None, 4)                 40004     \n",
      "=================================================================\n",
      "Total params: 40,004\n",
      "Trainable params: 40,004\n",
      "Non-trainable params: 0\n",
      "_________________________________________________________________\n",
      "None\n"
     ]
    }
   ],
   "source": [
    "print(\"Linear model on binary vectorized data:\")\n",
    "print(binary_model.summary())"
   ]
  },
  {
   "cell_type": "code",
   "execution_count": 29,
   "metadata": {
    "id": "P9BOeoCwborD"
   },
   "outputs": [
    {
     "name": "stdout",
     "output_type": "stream",
     "text": [
      "ConvNet model on int vectorized data:\n",
      "Model: \"sequential_1\"\n",
      "_________________________________________________________________\n",
      "Layer (type)                 Output Shape              Param #   \n",
      "=================================================================\n",
      "embedding (Embedding)        (None, None, 64)          640064    \n",
      "_________________________________________________________________\n",
      "conv1d (Conv1D)              (None, None, 64)          20544     \n",
      "_________________________________________________________________\n",
      "global_max_pooling1d (Global (None, 64)                0         \n",
      "_________________________________________________________________\n",
      "dense_1 (Dense)              (None, 4)                 260       \n",
      "=================================================================\n",
      "Total params: 660,868\n",
      "Trainable params: 660,868\n",
      "Non-trainable params: 0\n",
      "_________________________________________________________________\n",
      "None\n"
     ]
    }
   ],
   "source": [
    "print(\"ConvNet model on int vectorized data:\")\n",
    "print(int_model.summary())"
   ]
  },
  {
   "cell_type": "markdown",
   "metadata": {
    "id": "zYYW9tUdCtTy"
   },
   "source": [
    "Evaluate both models on the test data:"
   ]
  },
  {
   "cell_type": "code",
   "execution_count": 30,
   "metadata": {
    "id": "5dTc4nZqf7fK"
   },
   "outputs": [
    {
     "name": "stdout",
     "output_type": "stream",
     "text": [
      "250/250 [==============================] - 3s 10ms/step - loss: 0.5171 - accuracy: 0.8134\n",
      "250/250 [==============================] - 1s 4ms/step - loss: 0.5068 - accuracy: 0.8106\n",
      "Binary model accuracy: 81.34%\n",
      "Int model accuracy: 81.06%\n"
     ]
    }
   ],
   "source": [
    "binary_loss, binary_accuracy = binary_model.evaluate(binary_test_ds)\n",
    "int_loss, int_accuracy = int_model.evaluate(int_test_ds)\n",
    "\n",
    "print(\"Binary model accuracy: {:2.2%}\".format(binary_accuracy))\n",
    "print(\"Int model accuracy: {:2.2%}\".format(int_accuracy))"
   ]
  },
  {
   "cell_type": "markdown",
   "metadata": {
    "id": "F9dhj8Hey9DS"
   },
   "source": [
    "Note: This example dataset represents a rather simple classification problem. More complex datasets and problems bring out subtle but significant differences in preprocessing strategies and model architectures. Be sure to try out different hyperparameters and epochs to compare various approaches."
   ]
  },
  {
   "cell_type": "markdown",
   "metadata": {
    "id": "h9GaXTsIgP-3"
   },
   "source": [
    "### Export the model\n",
    "\n",
    "In the code above, you applied the `TextVectorization` layer to the dataset before feeding text to the model. If you want to make your model capable of processing raw strings (for example, to simplify deploying it), you can include the `TextVectorization` layer inside your model. To do so, you can create a new model using the weights you just trained."
   ]
  },
  {
   "cell_type": "code",
   "execution_count": 31,
   "metadata": {
    "id": "_bRe3KX8gRCX"
   },
   "outputs": [
    {
     "name": "stdout",
     "output_type": "stream",
     "text": [
      "250/250 [==============================] - 1s 4ms/step - loss: 0.5123 - accuracy: 0.8174\n",
      "Accuracy: 81.34%\n"
     ]
    }
   ],
   "source": [
    "export_model = tf.keras.Sequential([\n",
    "    binary_vectorize_layer, \n",
    "    binary_model,\n",
    "    tf.keras.layers.Activation('sigmoid')\n",
    "])\n",
    "\n",
    "export_model.compile(\n",
    "    loss=tf.losses.SparseCategoricalCrossentropy(from_logits=False),\n",
    "    optimizer='adam',\n",
    "    metrics=['accuracy'])\n",
    "\n",
    "# Test it with `raw_test_ds`, which yields raw strings\n",
    "loss, accuracy = export_model.evaluate(raw_test_ds)\n",
    "print(\"Accuracy: {:2.2%}\".format(binary_accuracy))"
   ]
  },
  {
   "cell_type": "markdown",
   "metadata": {
    "id": "m2eqTVBP4DUN"
   },
   "source": [
    "Now your model can take raw strings as input and predict a score for each label using `model.predict`. Define a function to find the label with the maximum score:"
   ]
  },
  {
   "cell_type": "code",
   "execution_count": 32,
   "metadata": {
    "id": "GU53uRXz45iO"
   },
   "outputs": [],
   "source": [
    "def get_string_labels(predicted_scores_batch):\n",
    "    predicted_int_labels = tf.argmax(predicted_scores_batch, axis=1)\n",
    "    predicted_labels = tf.gather(raw_train_ds.class_names, predicted_int_labels)\n",
    "    return predicted_labels"
   ]
  },
  {
   "cell_type": "markdown",
   "metadata": {
    "id": "yqnWc7Nn5eou"
   },
   "source": [
    "### Run inference on new data"
   ]
  },
  {
   "cell_type": "code",
   "execution_count": 33,
   "metadata": {
    "id": "BOR2MupW1_zS"
   },
   "outputs": [
    {
     "name": "stdout",
     "output_type": "stream",
     "text": [
      "Question:  how do I extract keys from a dict into a list?\n",
      "Predicted label:  b'python'\n",
      "Question:  debug public static void main(string[] args) {...}\n",
      "Predicted label:  b'java'\n"
     ]
    }
   ],
   "source": [
    "inputs = [\n",
    "    \"how do I extract keys from a dict into a list?\",  # python\n",
    "    \"debug public static void main(string[] args) {...}\",  # java\n",
    "]\n",
    "predicted_scores = export_model.predict(inputs)\n",
    "predicted_labels = get_string_labels(predicted_scores)\n",
    "for input, label in zip(inputs, predicted_labels):\n",
    "    print(\"Question: \", input)\n",
    "    print(\"Predicted label: \", label.numpy())"
   ]
  },
  {
   "cell_type": "markdown",
   "metadata": {
    "id": "0QDVfii_4slI"
   },
   "source": [
    "Including the text preprocessing logic inside your model enables you to export a model for production that simplifies deployment, and reduces the potential for [train/test skew](https://developers.google.com/machine-learning/guides/rules-of-ml#training-serving_skew).\n",
    "\n",
    "There is a performance difference to keep in mind when choosing where to apply your `TextVectorization` layer. Using it outside of your model enables you to do asynchronous CPU processing and buffering of your data when training on GPU. So, if you're training your model on the GPU, you probably want to go with this option to get the best performance while developing your model, then switch to including the TextVectorization layer inside your model when you're ready to prepare for deployment.\n",
    "\n",
    "Visit this [tutorial](https://www.tensorflow.org/tutorials/keras/save_and_load) to learn more about saving models."
   ]
  },
  {
   "cell_type": "markdown",
   "metadata": {
    "id": "p4cvuFzavTRy"
   },
   "source": [
    "## Example 2: Predict the author of Illiad translations \n"
   ]
  },
  {
   "cell_type": "markdown",
   "metadata": {
    "id": "fOlJ22508RIe"
   },
   "source": [
    "The following provides an example of using `tf.data.TextLineDataset` to load examples from text files, and `tf.text` to preprocess the data. In this example, you will use three different English translations of the same work, Homer's Illiad, and train a model to identify the translator given a single line of text."
   ]
  },
  {
   "cell_type": "markdown",
   "metadata": {
    "id": "-pCgKbOSk7kU"
   },
   "source": [
    "### Download and explore the dataset\n",
    "\n",
    "The texts of the three translations are by:\n",
    "\n",
    " - [William Cowper](https://en.wikipedia.org/wiki/William_Cowper) — [text](https://storage.googleapis.com/download.tensorflow.org/data/illiad/cowper.txt)\n",
    "\n",
    " - [Edward, Earl of Derby](https://en.wikipedia.org/wiki/Edward_Smith-Stanley,_14th_Earl_of_Derby) — [text](https://storage.googleapis.com/download.tensorflow.org/data/illiad/derby.txt)\n",
    "\n",
    "- [Samuel Butler](https://en.wikipedia.org/wiki/Samuel_Butler_%28novelist%29) — [text](https://storage.googleapis.com/download.tensorflow.org/data/illiad/butler.txt)\n",
    "\n",
    "The text files used in this tutorial have undergone some typical preprocessing tasks like removing document header and footer, line numbers and chapter titles. Download these lightly munged files locally."
   ]
  },
  {
   "cell_type": "code",
   "execution_count": 34,
   "metadata": {
    "id": "4YlKQthEYlFw"
   },
   "outputs": [
    {
     "data": {
      "text/plain": [
       "[PosixPath('/Users/comafire/.keras/datasets/cowper.txt'),\n",
       " PosixPath('/Users/comafire/.keras/datasets/imdb_word_index.json'),\n",
       " PosixPath('/Users/comafire/.keras/datasets/flower_photos.tar.gz'),\n",
       " PosixPath('/Users/comafire/.keras/datasets/mnist.npz'),\n",
       " PosixPath('/Users/comafire/.keras/datasets/fashion-mnist'),\n",
       " PosixPath('/Users/comafire/.keras/datasets/butler.txt'),\n",
       " PosixPath('/Users/comafire/.keras/datasets/imdb.npz'),\n",
       " PosixPath('/Users/comafire/.keras/datasets/derby.txt'),\n",
       " PosixPath('/Users/comafire/.keras/datasets/auto-mpg.data'),\n",
       " PosixPath('/Users/comafire/.keras/datasets/train.csv'),\n",
       " PosixPath('/Users/comafire/.keras/datasets/flower_photos'),\n",
       " PosixPath('/Users/comafire/.keras/datasets/eval.csv')]"
      ]
     },
     "execution_count": 34,
     "metadata": {},
     "output_type": "execute_result"
    }
   ],
   "source": [
    "DIRECTORY_URL = 'https://storage.googleapis.com/download.tensorflow.org/data/illiad/'\n",
    "FILE_NAMES = ['cowper.txt', 'derby.txt', 'butler.txt']\n",
    "\n",
    "for name in FILE_NAMES:\n",
    "    text_dir = tf.keras.utils.get_file(name, origin=DIRECTORY_URL + name)\n",
    "\n",
    "parent_dir = pathlib.Path(text_dir).parent\n",
    "list(parent_dir.iterdir())"
   ]
  },
  {
   "cell_type": "markdown",
   "metadata": {
    "id": "M8PHK5J_cXE5"
   },
   "source": [
    "### Load the dataset\n",
    "\n",
    "You will use `TextLineDataset`, which is designed to create a `tf.data.Dataset` from a text file in which each example is a line of text from the original file, whereas `text_dataset_from_directory` treats all contents of a file as a single example. `TextLineDataset` is useful for text data that is primarily line-based (for example, poetry or error logs). \n",
    "\n",
    "Iterate through these files, loading each one into its own dataset. Each example needs to be individually labeled, so use `tf.data.Dataset.map` to apply a labeler function to each one. This will iterate over every example in the dataset, returning (`example, label`) pairs."
   ]
  },
  {
   "cell_type": "code",
   "execution_count": 35,
   "metadata": {
    "id": "YIIWIdPXgk7I"
   },
   "outputs": [],
   "source": [
    "def labeler(example, index):\n",
    "    return example, tf.cast(index, tf.int64)"
   ]
  },
  {
   "cell_type": "code",
   "execution_count": 36,
   "metadata": {
    "id": "8Ajx7AmZnEg3"
   },
   "outputs": [],
   "source": [
    "labeled_data_sets = []\n",
    "\n",
    "for i, file_name in enumerate(FILE_NAMES):\n",
    "    lines_dataset = tf.data.TextLineDataset(str(parent_dir/file_name))\n",
    "    labeled_dataset = lines_dataset.map(lambda ex: labeler(ex, i))\n",
    "    labeled_data_sets.append(labeled_dataset)"
   ]
  },
  {
   "cell_type": "markdown",
   "metadata": {
    "id": "wPOsVK1e9NGM"
   },
   "source": [
    "Next, you'll combine these labeled datasets into a single dataset, and shuffle it.\n"
   ]
  },
  {
   "cell_type": "code",
   "execution_count": 37,
   "metadata": {
    "id": "6jAeYkTIi9-2"
   },
   "outputs": [],
   "source": [
    "BUFFER_SIZE = 50000\n",
    "BATCH_SIZE = 64\n",
    "VALIDATION_SIZE = 5000"
   ]
  },
  {
   "cell_type": "code",
   "execution_count": 38,
   "metadata": {
    "id": "Qd544E-Sh63L"
   },
   "outputs": [],
   "source": [
    "all_labeled_data = labeled_data_sets[0]\n",
    "for labeled_dataset in labeled_data_sets[1:]:\n",
    "    all_labeled_data = all_labeled_data.concatenate(labeled_dataset)\n",
    "\n",
    "all_labeled_data = all_labeled_data.shuffle(\n",
    "    BUFFER_SIZE, reshuffle_each_iteration=False)"
   ]
  },
  {
   "cell_type": "markdown",
   "metadata": {
    "id": "r4JEHrJXeG5k"
   },
   "source": [
    "Print out a few examples as before. The dataset hasn't been batched yet, hence each entry in `all_labeled_data` corresponds to one data point:"
   ]
  },
  {
   "cell_type": "code",
   "execution_count": 39,
   "metadata": {
    "id": "gywKlN0xh6u5"
   },
   "outputs": [
    {
     "name": "stdout",
     "output_type": "stream",
     "text": [
      "Sentence:  b\"That slackness show'st which in another seen\"\n",
      "Label: 0\n",
      "Sentence:  b'That on the mountain side have hunted down'\n",
      "Label: 1\n",
      "Sentence:  b'By Vulcan for the mighty Sire of all.'\n",
      "Label: 0\n",
      "Sentence:  b'That so thou mayst not fail to gain a prize.'\n",
      "Label: 1\n",
      "Sentence:  b'utterly effaced.\"'\n",
      "Label: 2\n",
      "Sentence:  b'And legs and feet, the arms, and eyes, of all'\n",
      "Label: 1\n",
      "Sentence:  b'Ulysses yet heard not, but, passing, flew'\n",
      "Label: 0\n",
      "Sentence:  b'and help either Trojans or Danaans.'\n",
      "Label: 2\n",
      "Sentence:  b\"The Hero's knees; for longingly he sought\"\n",
      "Label: 1\n",
      "Sentence:  b\"Around a stag, that from an archer's hand\"\n",
      "Label: 1\n"
     ]
    }
   ],
   "source": [
    "for text, label in all_labeled_data.take(10):\n",
    "    print(\"Sentence: \", text.numpy())\n",
    "    print(\"Label:\", label.numpy())"
   ]
  },
  {
   "cell_type": "markdown",
   "metadata": {
    "id": "5rrpU2_sfDh0"
   },
   "source": [
    "### Prepare the dataset for training\n",
    "\n",
    "Instead of using the Keras `TextVectorization` layer to preprocess our text dataset, you will now use the [`tf.text` API](https://www.tensorflow.org/tutorials/tensorflow_text/intro) to standardize and tokenize the data, build a vocabulary and use `StaticVocabularyTable` to map tokens to integers to feed to the model.\n",
    "\n",
    "While tf.text provides various tokenizers, you will use the `UnicodeScriptTokenizer` to tokenize our dataset. Define a function to convert the text to lower-case and tokenize it. You will use `tf.data.Dataset.map` to apply the tokenization to the dataset."
   ]
  },
  {
   "cell_type": "code",
   "execution_count": 40,
   "metadata": {
    "id": "v4DpQW-Y12rm"
   },
   "outputs": [],
   "source": [
    "tokenizer = tftext.UnicodeScriptTokenizer()"
   ]
  },
  {
   "cell_type": "code",
   "execution_count": 41,
   "metadata": {
    "id": "pz8xEj0ugu51"
   },
   "outputs": [],
   "source": [
    "def tokenize(text, unused_label):\n",
    "    lower_case = tftext.case_fold_utf8(text)\n",
    "    return tokenizer.tokenize(lower_case)"
   ]
  },
  {
   "cell_type": "code",
   "execution_count": 42,
   "metadata": {
    "id": "vzUrAzOq31QL"
   },
   "outputs": [
    {
     "name": "stdout",
     "output_type": "stream",
     "text": [
      "WARNING:tensorflow:From /Users/comafire/.pyenv/versions/3.7.6/envs/st-kilda-pier/lib/python3.7/site-packages/tensorflow/python/util/dispatch.py:201: batch_gather (from tensorflow.python.ops.array_ops) is deprecated and will be removed after 2017-10-25.\n",
      "Instructions for updating:\n",
      "`tf.batch_gather` is deprecated, please use `tf.gather` with `batch_dims=-1` instead.\n"
     ]
    }
   ],
   "source": [
    "tokenized_ds = all_labeled_data.map(tokenize)"
   ]
  },
  {
   "cell_type": "markdown",
   "metadata": {
    "id": "jx4Q2i8XLV7o"
   },
   "source": [
    "You can iterate over the dataset and print out a few tokenized examples.\n"
   ]
  },
  {
   "cell_type": "code",
   "execution_count": 43,
   "metadata": {
    "id": "g2mkWri7LiGq"
   },
   "outputs": [
    {
     "name": "stdout",
     "output_type": "stream",
     "text": [
      "Tokens:  [b'that' b'slackness' b'show' b\"'\" b'st' b'which' b'in' b'another' b'seen']\n",
      "Tokens:  [b'that' b'on' b'the' b'mountain' b'side' b'have' b'hunted' b'down']\n",
      "Tokens:  [b'by' b'vulcan' b'for' b'the' b'mighty' b'sire' b'of' b'all' b'.']\n",
      "Tokens:  [b'that' b'so' b'thou' b'mayst' b'not' b'fail' b'to' b'gain' b'a' b'prize'\n",
      " b'.']\n",
      "Tokens:  [b'utterly' b'effaced' b'.\"']\n"
     ]
    }
   ],
   "source": [
    "for text_batch in tokenized_ds.take(5):\n",
    "    print(\"Tokens: \", text_batch.numpy())"
   ]
  },
  {
   "cell_type": "markdown",
   "metadata": {
    "id": "JPd4PsskJ_Xt"
   },
   "source": [
    "Next, you will build a vocabulary by sorting tokens by frequency and keeping the top `VOCAB_SIZE` tokens."
   ]
  },
  {
   "cell_type": "code",
   "execution_count": 44,
   "metadata": {
    "id": "YkHtbGnDh6mg"
   },
   "outputs": [
    {
     "name": "stdout",
     "output_type": "stream",
     "text": [
      "Vocab size:  10000\n",
      "First five vocab entries: [b',', b'the', b'and', b\"'\", b'of']\n"
     ]
    }
   ],
   "source": [
    "tokenized_ds = configure_dataset(tokenized_ds)\n",
    "\n",
    "vocab_dict = collections.defaultdict(lambda: 0)\n",
    "for toks in tokenized_ds.as_numpy_iterator():\n",
    "    for tok in toks:\n",
    "        vocab_dict[tok] += 1\n",
    "\n",
    "vocab = sorted(vocab_dict.items(), key=lambda x: x[1], reverse=True)\n",
    "vocab = [token for token, count in vocab]\n",
    "vocab = vocab[:VOCAB_SIZE]\n",
    "vocab_size = len(vocab)\n",
    "print(\"Vocab size: \", vocab_size)\n",
    "print(\"First five vocab entries:\", vocab[:5])"
   ]
  },
  {
   "cell_type": "markdown",
   "metadata": {
    "id": "PyKSsaNAKi17"
   },
   "source": [
    "To convert the tokens into integers, use the `vocab` set to create a `StaticVocabularyTable`. You will map tokens to integers in the range [`2`, `vocab_size + 2`]. As with the `TextVectorization` layer, `0` is reserved to denote padding and `1` is reserved to denote an out-of-vocabulary (OOV) token."
   ]
  },
  {
   "cell_type": "code",
   "execution_count": 45,
   "metadata": {
    "id": "kCBo2yFHD7y6"
   },
   "outputs": [],
   "source": [
    "keys = vocab\n",
    "values = range(2, len(vocab) + 2)  # reserve 0 for padding, 1 for OOV\n",
    "\n",
    "init = tf.lookup.KeyValueTensorInitializer(\n",
    "    keys, values, key_dtype=tf.string, value_dtype=tf.int64)\n",
    "\n",
    "num_oov_buckets = 1\n",
    "vocab_table = tf.lookup.StaticVocabularyTable(init, num_oov_buckets)"
   ]
  },
  {
   "cell_type": "markdown",
   "metadata": {
    "id": "Z5F-EiBpOADE"
   },
   "source": [
    "Finally, define a fuction to standardize, tokenize and vectorize the dataset using the tokenizer and lookup table:"
   ]
  },
  {
   "cell_type": "code",
   "execution_count": 46,
   "metadata": {
    "id": "HcIQ7LOTh6eT"
   },
   "outputs": [],
   "source": [
    "def preprocess_text(text, label):\n",
    "    standardized = tftext.case_fold_utf8(text)\n",
    "    tokenized = tokenizer.tokenize(standardized)\n",
    "    vectorized = vocab_table.lookup(tokenized)\n",
    "    return vectorized, label"
   ]
  },
  {
   "cell_type": "markdown",
   "metadata": {
    "id": "v6S5Qyabi-vo"
   },
   "source": [
    "You can try this on a single example to see the output:"
   ]
  },
  {
   "cell_type": "code",
   "execution_count": 47,
   "metadata": {
    "id": "jgxPZaxUuTbk"
   },
   "outputs": [
    {
     "name": "stdout",
     "output_type": "stream",
     "text": [
      "Sentence:  b\"That slackness show'st which in another seen\"\n",
      "Vectorized sentence:  [  23 3768  740    5  227   73   13  316  698]\n"
     ]
    }
   ],
   "source": [
    "example_text, example_label = next(iter(all_labeled_data))\n",
    "print(\"Sentence: \", example_text.numpy())\n",
    "vectorized_text, example_label = preprocess_text(example_text, example_label)\n",
    "print(\"Vectorized sentence: \", vectorized_text.numpy())"
   ]
  },
  {
   "cell_type": "markdown",
   "metadata": {
    "id": "p9qHM0v8k_Mg"
   },
   "source": [
    "Now run the preprocess function on the dataset using `tf.data.Dataset.map`."
   ]
  },
  {
   "cell_type": "code",
   "execution_count": 48,
   "metadata": {
    "id": "KmQVsAgJ-RM0"
   },
   "outputs": [],
   "source": [
    "all_encoded_data = all_labeled_data.map(preprocess_text)"
   ]
  },
  {
   "cell_type": "markdown",
   "metadata": {
    "id": "_YZToSXSm0qr"
   },
   "source": [
    "### Split the dataset into train and test\n"
   ]
  },
  {
   "cell_type": "markdown",
   "metadata": {
    "id": "itxIJwkrUXgv"
   },
   "source": [
    "The Keras `TextVectorization` layer also batches and pads the vectorized data. Padding is required because the examples inside of a batch need to be the same size and shape, but the examples in these datasets are not all the same size — each line of text has a different number of words. `tf.data.Dataset` supports splitting and padded-batching datasets: "
   ]
  },
  {
   "cell_type": "code",
   "execution_count": 49,
   "metadata": {
    "id": "r-rmbijQh6bf"
   },
   "outputs": [],
   "source": [
    "train_data = all_encoded_data.skip(VALIDATION_SIZE).shuffle(BUFFER_SIZE)\n",
    "validation_data = all_encoded_data.take(VALIDATION_SIZE)"
   ]
  },
  {
   "cell_type": "code",
   "execution_count": 50,
   "metadata": {
    "id": "qTP0IwHBCn0Q"
   },
   "outputs": [],
   "source": [
    "train_data = train_data.padded_batch(BATCH_SIZE)\n",
    "validation_data = validation_data.padded_batch(BATCH_SIZE)"
   ]
  },
  {
   "cell_type": "markdown",
   "metadata": {
    "id": "m-wmFq8uW1zS"
   },
   "source": [
    "Now, `validation_data` and `train_data` are not collections of (`example, label`) pairs, but collections of batches. Each batch is a pair of (*many examples*, *many labels*) represented as arrays. To illustrate:"
   ]
  },
  {
   "cell_type": "code",
   "execution_count": 51,
   "metadata": {
    "id": "kMslWfuwoqpB"
   },
   "outputs": [
    {
     "name": "stdout",
     "output_type": "stream",
     "text": [
      "Text batch shape:  (64, 16)\n",
      "Label batch shape:  (64,)\n",
      "First text example:  tf.Tensor(\n",
      "[  23 3768  740    5  227   73   13  316  698    0    0    0    0    0\n",
      "    0    0], shape=(16,), dtype=int64)\n",
      "First label example:  tf.Tensor(0, shape=(), dtype=int64)\n"
     ]
    }
   ],
   "source": [
    "sample_text, sample_labels = next(iter(validation_data))\n",
    "print(\"Text batch shape: \", sample_text.shape)\n",
    "print(\"Label batch shape: \", sample_labels.shape)\n",
    "print(\"First text example: \", sample_text[0])\n",
    "print(\"First label example: \", sample_labels[0])"
   ]
  },
  {
   "cell_type": "markdown",
   "metadata": {
    "id": "UI4I6_Sa0vWu"
   },
   "source": [
    "Since we use `0` for padding and `1` for out-of-vocabulary (OOV) tokens, the vocabulary size has increased by two."
   ]
  },
  {
   "cell_type": "code",
   "execution_count": 52,
   "metadata": {
    "id": "u21LlkO8QGRX"
   },
   "outputs": [],
   "source": [
    "vocab_size += 2"
   ]
  },
  {
   "cell_type": "markdown",
   "metadata": {
    "id": "h44Ox11OYLP-"
   },
   "source": [
    "Configure the datasets for better performance as before."
   ]
  },
  {
   "cell_type": "code",
   "execution_count": 53,
   "metadata": {
    "id": "BpT0b_7mYRXV"
   },
   "outputs": [],
   "source": [
    "train_data = configure_dataset(train_data)\n",
    "validation_data = configure_dataset(validation_data)"
   ]
  },
  {
   "cell_type": "markdown",
   "metadata": {
    "id": "K8SUhGFNsmRi"
   },
   "source": [
    "### Train the model\n",
    "You can train a model on this dataset as before."
   ]
  },
  {
   "cell_type": "code",
   "execution_count": 54,
   "metadata": {
    "id": "QJgI1pow2YR9"
   },
   "outputs": [
    {
     "name": "stdout",
     "output_type": "stream",
     "text": [
      "Epoch 1/3\n",
      "697/697 [==============================] - 20s 9ms/step - loss: 0.6960 - accuracy: 0.6690 - val_loss: 0.3855 - val_accuracy: 0.8356\n",
      "Epoch 2/3\n",
      "697/697 [==============================] - 5s 7ms/step - loss: 0.3189 - accuracy: 0.8692 - val_loss: 0.3723 - val_accuracy: 0.8404\n",
      "Epoch 3/3\n",
      "697/697 [==============================] - 5s 7ms/step - loss: 0.2209 - accuracy: 0.9158 - val_loss: 0.4027 - val_accuracy: 0.8402\n"
     ]
    }
   ],
   "source": [
    "model = create_model(vocab_size=vocab_size, num_labels=3)\n",
    "model.compile(\n",
    "    optimizer='adam',\n",
    "    loss=tf.keras.losses.SparseCategoricalCrossentropy(from_logits=True),\n",
    "    metrics=['accuracy'])\n",
    "history = model.fit(train_data, validation_data=validation_data, epochs=3)"
   ]
  },
  {
   "cell_type": "code",
   "execution_count": 55,
   "metadata": {
    "id": "KTPCYf_Jh6TH"
   },
   "outputs": [
    {
     "name": "stdout",
     "output_type": "stream",
     "text": [
      "79/79 [==============================] - 1s 793us/step - loss: 0.4027 - accuracy: 0.8402\n",
      "Loss:  0.4027015268802643\n",
      "Accuracy: 84.02%\n"
     ]
    }
   ],
   "source": [
    "loss, accuracy = model.evaluate(validation_data)\n",
    "\n",
    "print(\"Loss: \", loss)\n",
    "print(\"Accuracy: {:2.2%}\".format(accuracy))"
   ]
  },
  {
   "cell_type": "markdown",
   "metadata": {
    "id": "_knIsO-r4pHb"
   },
   "source": [
    "### Export the model"
   ]
  },
  {
   "cell_type": "markdown",
   "metadata": {
    "id": "FEuMLJA_Xiwo"
   },
   "source": [
    "To make our model capable to taking raw strings as input, you will create a `TextVectorization` layer that performs the same steps as our custom preprocessing function. Since you already trained a vocabulary, you can use `set_vocaublary` instead of `adapt` which trains a new vocabulary."
   ]
  },
  {
   "cell_type": "code",
   "execution_count": 56,
   "metadata": {
    "id": "_ODkRXbk6aHb"
   },
   "outputs": [],
   "source": [
    "preprocess_layer = tf.keras.layers.experimental.preprocessing.TextVectorization(\n",
    "    max_tokens=vocab_size,\n",
    "    standardize=tftext.case_fold_utf8,\n",
    "    split=tokenizer.tokenize,\n",
    "    output_mode='int',\n",
    "    output_sequence_length=MAX_SEQUENCE_LENGTH)\n",
    "preprocess_layer.set_vocabulary(vocab)"
   ]
  },
  {
   "cell_type": "code",
   "execution_count": 57,
   "metadata": {
    "id": "G-Cvd27y4qwt"
   },
   "outputs": [],
   "source": [
    "export_model = tf.keras.Sequential([\n",
    "    preprocess_layer, model,\n",
    "    tf.keras.layers.Activation('sigmoid')\n",
    "])\n",
    "\n",
    "export_model.compile(\n",
    "    loss=tf.losses.SparseCategoricalCrossentropy(from_logits=False),\n",
    "    optimizer='adam',\n",
    "    metrics=['accuracy'])"
   ]
  },
  {
   "cell_type": "code",
   "execution_count": 58,
   "metadata": {
    "id": "Pyg0B4zsc-UD"
   },
   "outputs": [
    {
     "name": "stdout",
     "output_type": "stream",
     "text": [
      "79/79 [==============================] - 5s 3ms/step - loss: 0.5794 - accuracy: 0.7733\n",
      "Loss:  0.587557315826416\n",
      "Accuracy: 77.12%\n"
     ]
    }
   ],
   "source": [
    "# Create a test dataset of raw strings\n",
    "test_ds = all_labeled_data.take(VALIDATION_SIZE).batch(BATCH_SIZE)\n",
    "test_ds = configure_dataset(test_ds)\n",
    "loss, accuracy = export_model.evaluate(test_ds)\n",
    "print(\"Loss: \", loss)\n",
    "print(\"Accuracy: {:2.2%}\".format(accuracy))"
   ]
  },
  {
   "cell_type": "markdown",
   "metadata": {
    "id": "o6Mm0Y9QYQwE"
   },
   "source": [
    "The loss and accuracy for the model on encoded validation set and the exported model on the raw validation set are the same, as expected."
   ]
  },
  {
   "cell_type": "markdown",
   "metadata": {
    "id": "Stk2BP8GE-qo"
   },
   "source": [
    "### Run inference on new data"
   ]
  },
  {
   "cell_type": "code",
   "execution_count": 59,
   "metadata": {
    "id": "-w1fQGJPD2Yh"
   },
   "outputs": [
    {
     "name": "stdout",
     "output_type": "stream",
     "text": [
      "Question:  Join'd to th' Ionians with their flowing robes,\n",
      "Predicted label:  1\n",
      "Question:  the allies, and his armour flashed about him so that he seemed to all\n",
      "Predicted label:  2\n",
      "Question:  And with loud clangor of his arms he fell.\n",
      "Predicted label:  0\n"
     ]
    }
   ],
   "source": [
    "inputs = [\n",
    "    \"Join'd to th' Ionians with their flowing robes,\",  # Label: 1\n",
    "    \"the allies, and his armour flashed about him so that he seemed to all\",  # Label: 2\n",
    "    \"And with loud clangor of his arms he fell.\",  # Label: 0\n",
    "]\n",
    "predicted_scores = export_model.predict(inputs)\n",
    "predicted_labels = tf.argmax(predicted_scores, axis=1)\n",
    "for input, label in zip(inputs, predicted_labels):\n",
    "    print(\"Question: \", input)\n",
    "    print(\"Predicted label: \", label.numpy())"
   ]
  },
  {
   "cell_type": "markdown",
   "metadata": {
    "id": "9eA8TVdnA-3L"
   },
   "source": [
    "## Downloading more datasets using TensorFlow Datasets (TFDS)\n"
   ]
  },
  {
   "cell_type": "markdown",
   "metadata": {
    "id": "2QFSxfZ3Vqsn"
   },
   "source": [
    "You can download many more datasets from [TensorFlow Datasets](https://www.tensorflow.org/datasets/catalog/overview). As an example, you will download the [IMDB Large Movie Review dataset](https://www.tensorflow.org/datasets/catalog/imdb_reviews), and use it to train a model for sentiment classification."
   ]
  },
  {
   "cell_type": "code",
   "execution_count": 60,
   "metadata": {
    "id": "NzC65LOaVw0B"
   },
   "outputs": [],
   "source": [
    "train_ds = tfds.load(\n",
    "    'imdb_reviews',\n",
    "    split='train',\n",
    "    batch_size=BATCH_SIZE,\n",
    "    shuffle_files=True,\n",
    "    as_supervised=True)"
   ]
  },
  {
   "cell_type": "code",
   "execution_count": 61,
   "metadata": {
    "id": "XKGkgPBkFh0k"
   },
   "outputs": [],
   "source": [
    "val_ds = tfds.load(\n",
    "    'imdb_reviews',\n",
    "    split='train',\n",
    "    batch_size=BATCH_SIZE,\n",
    "    shuffle_files=True,\n",
    "    as_supervised=True)"
   ]
  },
  {
   "cell_type": "markdown",
   "metadata": {
    "id": "BQjf3YZAb5Ne"
   },
   "source": [
    "Print a few examples."
   ]
  },
  {
   "cell_type": "code",
   "execution_count": 62,
   "metadata": {
    "id": "Bq1w8MnfWt2C"
   },
   "outputs": [
    {
     "name": "stdout",
     "output_type": "stream",
     "text": [
      "Review:  b'This is the kind of film for a snowy Sunday afternoon when the rest of the world can go ahead with its own business as you descend into a big arm-chair and mellow for a couple of hours. Wonderful performances from Cher and Nicolas Cage (as always) gently row the plot along. There are no rapids to cross, no dangerous waters, just a warm and witty paddle through New York life at its best. A family film in every sense and one that deserves the praise it received.'\n",
      "Label:  1\n",
      "Review:  b\"This is a film which should be seen by anybody interested in, effected by, or suffering from an eating disorder. It is an amazingly accurate and sensitive portrayal of bulimia in a teenage girl, its causes and its symptoms. The girl is played by one of the most brilliant young actresses working in cinema today, Alison Lohman, who was later so spectacular in 'Where the Truth Lies'. I would recommend that this film be shown in all schools, as you will never see a better on this subject. Alison Lohman is absolutely outstanding, and one marvels at her ability to convey the anguish of a girl suffering from this compulsive disorder. If barometers tell us the air pressure, Alison Lohman tells us the emotional pressure with the same degree of accuracy. Her emotional range is so precise, each scene could be measured microscopically for its gradations of trauma, on a scale of rising hysteria and desperation which reaches unbearable intensity. Mare Winningham is the perfect choice to play her mother, and does so with immense sympathy and a range of emotions just as finely tuned as Lohman's. Together, they make a pair of sensitive emotional oscillators vibrating in resonance with one another. This film is really an astonishing achievement, and director Katt Shea should be proud of it. The only reason for not seeing it is if you are not interested in people. But even if you like nature films best, this is after all animal behaviour at the sharp edge. Bulimia is an extreme version of how a tormented soul can destroy her own body in a frenzy of despair. And if we don't sympathise with people suffering from the depths of despair, then we are dead inside.\"\n",
      "Label:  1\n",
      "Review:  b'I really love the sexy action and sci-fi films of the sixties and its because of the actress\\'s that appeared in them. They found the sexiest women to be in these films and it didn\\'t matter if they could act (Remember \"Candy\"?). The reason I was disappointed by this film was because it wasn\\'t nostalgic enough. The story here has a European sci-fi film called \"Dragonfly\" being made and the director is fired. So the producers decide to let a young aspiring filmmaker (Jeremy Davies) to complete the picture. They\\'re is one real beautiful woman in the film who plays Dragonfly but she\\'s barely in it. Film is written and directed by Roman Coppola who uses some of his fathers exploits from his early days and puts it into the script. I wish the film could have been an homage to those early films. They could have lots of cameos by actors who appeared in them. There is one actor in this film who was popular from the sixties and its John Phillip Law (Barbarella). Gerard Depardieu, Giancarlo Giannini and Dean Stockwell appear as well. I guess I\\'m going to have to continue waiting for a director to make a good homage to the films of the sixties. If any are reading this, \"Make it as sexy as you can\"! I\\'ll be waiting!'\n",
      "Label:  0\n",
      "Review:  b'During a sleepless night, I was switching through the channels & found this embarrassment of a movie. What were they thinking?<br /><br />If this is life after \"Remote Control\" for Kari (Wuhrer) Salin, no wonder she\\'s gone nowhere.<br /><br />And why did David Keith take this role? It\\'s pathetic!<br /><br />Anyway, I turned on the movie near the end, so I didn\\'t get much of the plot. But this must\\'ve been the best part. This nerdy college kid brings home this dominatrix-ish girl...this scene is straight out of the comic books -- or the cheap porn movies. She calls the mother anal retentive and kisses the father \"Oh, I didn\\'t expect tongue!\" Great lines!<br /><br />After this, I had to see how it ended..<br /><br />Well, of course, this bitch from hell has a helluva past, so the SWAT team is upstairs. And yes...they surround her! And YES YES! The kid blows her brains out!!!! AHAHHAHAHAHA!!<br /><br />This is must-see TV. <br /><br />'\n",
      "Label:  0\n",
      "Review:  b'Cute film about three lively sisters from Switzerland (often seen running about in matching outfits) who want to get their parents back together (seems mom is still carrying the torch for dad) - so they sail off to New York to stop the dad from marrying a blonde gold-digger he calls \"Precious\". Dad hasn\\'t seen his daughters in ten years, they (oddly enough) don\\'t seem to mind and think he\\'s wonderful, and meanwhile Precious seems to lead a life mainly run by her overbearing mother (Alice Brady), a woman who just wants to see to it her daughter marries a rich man. The sisters get the idea of pushing Precious into the path of a drunken Hungarian count, tricking the two gold-digging women into thinking he is one of the richest men in Europe. But a case of mistaken identity makes the girls think the count is good-looking Ray Milland, who goes along with the scheme \\'cause he has a crush on sister Kay.<br /><br />This film is enjoyable, light fare. Barbara Read as Kay comes across as sweet and pretty, Ray Milland looks oh so young and handsome here (though, unfortunately, is given little to do), Alice Brady is quite good as the scheming mother - but it is Deanna Durbin, a real charmer and cute as a button playing youngest sister Penny, who pretty much steals the show. With absolutely beautiful vocals, she sings several songs throughout the film, though I actually would have liked to have seen them feature her even more in this. The plot in this film is a bit silly, but nevertheless, I found the film to be entertaining and fun.'\n",
      "Label:  1\n"
     ]
    }
   ],
   "source": [
    "for review_batch, label_batch in val_ds.take(1):\n",
    "    for i in range(5):\n",
    "        print(\"Review: \", review_batch[i].numpy())\n",
    "        print(\"Label: \", label_batch[i].numpy())"
   ]
  },
  {
   "cell_type": "markdown",
   "metadata": {
    "id": "q-lVaukyb75k"
   },
   "source": [
    "You can now preprocess the data and train a model as before. \n",
    "\n",
    "Note: You will use `losses.BinaryCrossentropy` instead of `losses.SparseCategoricalCrossentropy` for your model since this is a binary classification problem."
   ]
  },
  {
   "cell_type": "markdown",
   "metadata": {
    "id": "ciz2CxAsZw3Z"
   },
   "source": [
    "### Prepare the dataset for training"
   ]
  },
  {
   "cell_type": "code",
   "execution_count": 63,
   "metadata": {
    "id": "UzT_t9ihZLH4"
   },
   "outputs": [],
   "source": [
    "vectorize_layer = tf.keras.layers.experimental.preprocessing.TextVectorization(\n",
    "    max_tokens=VOCAB_SIZE,\n",
    "    output_mode='int',\n",
    "    output_sequence_length=MAX_SEQUENCE_LENGTH)\n",
    "\n",
    "# Make a text-only dataset (without labels), then call adapt\n",
    "train_text = train_ds.map(lambda text, labels: text)\n",
    "vectorize_layer.adapt(train_text)"
   ]
  },
  {
   "cell_type": "code",
   "execution_count": 64,
   "metadata": {
    "id": "zz-Xrd_ZZ4tB"
   },
   "outputs": [],
   "source": [
    "def vectorize_text(text, label):\n",
    "    text = tf.expand_dims(text, -1)\n",
    "    return vectorize_layer(text), label"
   ]
  },
  {
   "cell_type": "code",
   "execution_count": 65,
   "metadata": {
    "id": "ycn0Itd6g5aF"
   },
   "outputs": [],
   "source": [
    "train_ds = train_ds.map(vectorize_text)\n",
    "val_ds = val_ds.map(vectorize_text)"
   ]
  },
  {
   "cell_type": "code",
   "execution_count": 66,
   "metadata": {
    "id": "jc11jQTlZ5lj"
   },
   "outputs": [],
   "source": [
    "# Configure datasets for performance as before\n",
    "train_ds = configure_dataset(train_ds)\n",
    "val_ds = configure_dataset(val_ds)"
   ]
  },
  {
   "cell_type": "markdown",
   "metadata": {
    "id": "SQzoYkaGZ82Z"
   },
   "source": [
    "### Train the model"
   ]
  },
  {
   "cell_type": "code",
   "execution_count": 67,
   "metadata": {
    "id": "B9IOTLkyZ-a7"
   },
   "outputs": [
    {
     "name": "stdout",
     "output_type": "stream",
     "text": [
      "Model: \"sequential_5\"\n",
      "_________________________________________________________________\n",
      "Layer (type)                 Output Shape              Param #   \n",
      "=================================================================\n",
      "embedding_2 (Embedding)      (None, None, 64)          640064    \n",
      "_________________________________________________________________\n",
      "conv1d_2 (Conv1D)            (None, None, 64)          20544     \n",
      "_________________________________________________________________\n",
      "global_max_pooling1d_2 (Glob (None, 64)                0         \n",
      "_________________________________________________________________\n",
      "dense_3 (Dense)              (None, 1)                 65        \n",
      "=================================================================\n",
      "Total params: 660,673\n",
      "Trainable params: 660,673\n",
      "Non-trainable params: 0\n",
      "_________________________________________________________________\n"
     ]
    }
   ],
   "source": [
    "model = create_model(vocab_size=VOCAB_SIZE + 1, num_labels=1)\n",
    "model.summary()"
   ]
  },
  {
   "cell_type": "code",
   "execution_count": 68,
   "metadata": {
    "id": "xLnDs5dhaBAk"
   },
   "outputs": [],
   "source": [
    "model.compile(\n",
    "    loss=tf.losses.BinaryCrossentropy(from_logits=True),\n",
    "    optimizer='adam',\n",
    "    metrics=['accuracy'])"
   ]
  },
  {
   "cell_type": "code",
   "execution_count": 69,
   "metadata": {
    "id": "rq59QpNzaDMa"
   },
   "outputs": [
    {
     "name": "stdout",
     "output_type": "stream",
     "text": [
      "Epoch 1/3\n",
      "391/391 [==============================] - 6s 15ms/step - loss: 0.6153 - accuracy: 0.5781 - val_loss: 0.3055 - val_accuracy: 0.8793\n",
      "Epoch 2/3\n",
      "391/391 [==============================] - 5s 12ms/step - loss: 0.3183 - accuracy: 0.8591 - val_loss: 0.1750 - val_accuracy: 0.9431\n",
      "Epoch 3/3\n",
      "391/391 [==============================] - 5s 12ms/step - loss: 0.1986 - accuracy: 0.9206 - val_loss: 0.0952 - val_accuracy: 0.9779\n"
     ]
    }
   ],
   "source": [
    "history = model.fit(train_ds, validation_data=val_ds, epochs=3)"
   ]
  },
  {
   "cell_type": "code",
   "execution_count": 70,
   "metadata": {
    "id": "gCMWCEtyaEbR"
   },
   "outputs": [
    {
     "name": "stdout",
     "output_type": "stream",
     "text": [
      "391/391 [==============================] - 1s 2ms/step - loss: 0.0952 - accuracy: 0.9779\n",
      "Loss:  0.09524407982826233\n",
      "Accuracy: 97.79%\n"
     ]
    }
   ],
   "source": [
    "loss, accuracy = model.evaluate(val_ds)\n",
    "\n",
    "print(\"Loss: \", loss)\n",
    "print(\"Accuracy: {:2.2%}\".format(accuracy))"
   ]
  },
  {
   "cell_type": "markdown",
   "metadata": {
    "id": "jGtqLXVnaaFy"
   },
   "source": [
    "### Export the model"
   ]
  },
  {
   "cell_type": "code",
   "execution_count": 71,
   "metadata": {
    "id": "yE9WZARZaZr1"
   },
   "outputs": [],
   "source": [
    "export_model = tf.keras.Sequential([\n",
    "    vectorize_layer, model,\n",
    "    tf.keras.layers.Activation('sigmoid')])\n",
    "\n",
    "export_model.compile(\n",
    "    loss=tf.losses.SparseCategoricalCrossentropy(from_logits=False),\n",
    "    optimizer='adam',\n",
    "    metrics=['accuracy'])"
   ]
  },
  {
   "cell_type": "code",
   "execution_count": 72,
   "metadata": {
    "id": "bhF8tDH-afoC"
   },
   "outputs": [
    {
     "name": "stdout",
     "output_type": "stream",
     "text": [
      "Question:  This is a fantastic movie.\n",
      "Predicted label:  1\n",
      "Question:  This is a bad movie.\n",
      "Predicted label:  0\n",
      "Question:  This movie was so bad that it was good.\n",
      "Predicted label:  0\n",
      "Question:  I will never say yes to watching this movie.\n",
      "Predicted label:  0\n"
     ]
    }
   ],
   "source": [
    "# 0 --> negative review\n",
    "# 1 --> positive review\n",
    "inputs = [\n",
    "    \"This is a fantastic movie.\",\n",
    "    \"This is a bad movie.\",\n",
    "    \"This movie was so bad that it was good.\",\n",
    "    \"I will never say yes to watching this movie.\",\n",
    "]\n",
    "predicted_scores = export_model.predict(inputs)\n",
    "predicted_labels = [int(round(x[0])) for x in predicted_scores]\n",
    "for input, label in zip(inputs, predicted_labels):\n",
    "    print(\"Question: \", input)\n",
    "    print(\"Predicted label: \", label)"
   ]
  },
  {
   "cell_type": "markdown",
   "metadata": {
    "id": "q1KSXDFPWiPN"
   },
   "source": [
    "## Conclusion\n",
    "\n",
    "This tutorial demonstrated several ways to load and preprocess text. As a next step, you can explore additional tutorials on the website, or download new datasets from [TensorFlow Datasets](https://www.tensorflow.org/datasets/catalog/overview)."
   ]
  },
  {
   "cell_type": "code",
   "execution_count": null,
   "metadata": {},
   "outputs": [],
   "source": []
  }
 ],
 "metadata": {
  "accelerator": "GPU",
  "colab": {
   "collapsed_sections": [],
   "name": "text.ipynb",
   "toc_visible": true
  },
  "kernelspec": {
   "display_name": "Python 3",
   "language": "python",
   "name": "python3"
  },
  "language_info": {
   "codemirror_mode": {
    "name": "ipython",
    "version": 3
   },
   "file_extension": ".py",
   "mimetype": "text/x-python",
   "name": "python",
   "nbconvert_exporter": "python",
   "pygments_lexer": "ipython3",
   "version": "3.8.9"
  }
 },
 "nbformat": 4,
 "nbformat_minor": 4
}
