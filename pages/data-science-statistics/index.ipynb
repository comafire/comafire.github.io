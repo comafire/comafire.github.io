{
 "cells": [
  {
   "cell_type": "markdown",
   "metadata": {
    "nikola": {
     "category": "",
     "date": "2019-02-10",
     "description": "",
     "link": "",
     "slug": "data-science-cookbook",
     "tags": "",
     "title": "Data Science Cookbook",
     "type": "text"
    }
   },
   "source": [
    "# Data Science - Statistics\n",
    "\n",
    "데이터 사이언스 - 통계 관련 주요 예제들을 공유하는 공간입니다.\n",
    "\n",
    "* [Normality Test(정규성 검정)](https://comafire.github.io/pages/statistics-normality-test)      \n",
    "* Statistics Test(통계적 검정)\n",
    "  * [Parametric Method(모수적 방식)](https://comafire.github.io/pages/statistics-parametric-method)      \n"
   ]
  },
  {
   "cell_type": "code",
   "execution_count": null,
   "metadata": {},
   "outputs": [],
   "source": []
  }
 ],
 "metadata": {
  "kernelspec": {
   "display_name": "Python 3",
   "language": "python",
   "name": "python3"
  },
  "language_info": {
   "codemirror_mode": {
    "name": "ipython",
    "version": 3
   },
   "file_extension": ".py",
   "mimetype": "text/x-python",
   "name": "python",
   "nbconvert_exporter": "python",
   "pygments_lexer": "ipython3",
   "version": "3.5.2"
  },
  "nikola": {
   "category": "",
   "date": "2019-02-10",
   "description": "",
   "link": "",
   "slug": "data-science-statistics",
   "tags": "",
   "title": "Data Science - Statistics",
   "type": "text"
  },
  "toc": {
   "base_numbering": 1,
   "nav_menu": {},
   "number_sections": true,
   "sideBar": true,
   "skip_h1_title": false,
   "title_cell": "Table of Contents",
   "title_sidebar": "Contents",
   "toc_cell": false,
   "toc_position": {},
   "toc_section_display": true,
   "toc_window_display": false
  }
 },
 "nbformat": 4,
 "nbformat_minor": 2
}
