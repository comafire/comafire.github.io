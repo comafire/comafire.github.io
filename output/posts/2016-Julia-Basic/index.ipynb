{
 "cells": [
  {
   "cell_type": "markdown",
   "metadata": {},
   "source": [
    "Julia 메뉴얼을 보면서 기존의 언어들과 다른 점들 위주로 간단하게 예제 기반으로 살펴봅니다."
   ]
  },
  {
   "cell_type": "markdown",
   "metadata": {},
   "source": [
    "## 변수 \n",
    "Int, Float, String 타입을 제공\n",
    "\n",
    "Double형을 지원하지 않는 대신 Int, Float 형을 bit수에 따라 지정해서 사용가능\n",
    "예를 들면 Int8, Int16 이런 식으로.."
   ]
  },
  {
   "cell_type": "code",
   "execution_count": 1,
   "metadata": {
    "scrolled": false
   },
   "outputs": [
    {
     "data": {
      "text/plain": [
       "1"
      ]
     },
     "execution_count": 1,
     "metadata": {},
     "output_type": "execute_result"
    }
   ],
   "source": [
    "# 변수 타입 선언이 필요할때는 :: 기호를 사용합니다. \n",
    "# 줄리아는 동적 타입언어로 변수 사용시 타입을 지정해 주지않아도 됩니다.\n",
    "# 변수 타입은 함수 선언시 입력과 리턴 파라미터의 타입지정시 많이 사용합니다.\n",
    "# (global 변수에서는 타입 선언이 허용되지 않습니다.)\n",
    "local a::Int64 = 1"
   ]
  },
  {
   "cell_type": "code",
   "execution_count": 2,
   "metadata": {},
   "outputs": [
    {
     "name": "stdout",
     "output_type": "stream",
     "text": [
      "type: Int64\n",
      "typemin: -9223372036854775808, typemax: 9223372036854775807\n",
      "isa: true\n",
      "isa: false\n"
     ]
    }
   ],
   "source": [
    "# typeof() 로 변수의 타입을 알 수 있습니다.\n",
    "a = 1\n",
    "println(\"type: \", typeof(a))\n",
    "println(\"typemin: \", typemin(a), \", typemax: \", typemax(a))\n",
    "\n",
    "# isa() 로 변수의 타입을 체크할 수 있습니다.\n",
    "println(\"isa: $(isa(a, Int64))\")\n",
    "println(\"isa: $(isa(a, Int32))\")"
   ]
  },
  {
   "cell_type": "code",
   "execution_count": 3,
   "metadata": {},
   "outputs": [
    {
     "name": "stdout",
     "output_type": "stream",
     "text": [
      "type: Float64, value: 1.1234\n"
     ]
    }
   ],
   "source": [
    "# typemin(), typemax()로 변수의 최대 최소값 범위 확인 가능합니다.\n",
    "str = \"1.1234\"\n",
    "b = parse(Float64, str)\n",
    "println(\"type: \", typeof(b), \", value: \", b)"
   ]
  },
  {
   "cell_type": "code",
   "execution_count": 4,
   "metadata": {},
   "outputs": [
    {
     "name": "stdout",
     "output_type": "stream",
     "text": [
      "type: Float64, value: 1\n"
     ]
    }
   ],
   "source": [
    "# 타입 변환은 변수 타입함수로 할수 있으며, 문자열을 파싱하며 숫자로 변환하는 함수 제공\n",
    "c = Int(round(b)) # static type 언어이기때문에 형을 맞지 않으면 에러\n",
    "println(\"type: \", typeof(b), \", value: \", c)"
   ]
  },
  {
   "cell_type": "code",
   "execution_count": 5,
   "metadata": {},
   "outputs": [
    {
     "name": "stdout",
     "output_type": "stream",
     "text": [
      "type: String\n"
     ]
    }
   ],
   "source": [
    "# 문자열은 UTF-8을 지원합니다.\n",
    "name = \"쥴리아.\"\n",
    "println(\"type: \", typeof(name))"
   ]
  },
  {
   "cell_type": "code",
   "execution_count": 6,
   "metadata": {},
   "outputs": [
    {
     "name": "stdout",
     "output_type": "stream",
     "text": [
      "slice: 쥴리아\n"
     ]
    }
   ],
   "source": [
    "# slice를 지원합니다.\n",
    "# end를 통해 편리하게 문자열의 마지막 index를 알수 있습니다. \n",
    "# 모든 index 는 1부터 시작합니다.!!\n",
    "println(\"slice: \", name[1:end-1])"
   ]
  },
  {
   "cell_type": "code",
   "execution_count": 8,
   "metadata": {},
   "outputs": [
    {
     "name": "stdout",
     "output_type": "stream",
     "text": [
      "interpolation: hello, how are you? 쥴리아.\n"
     ]
    }
   ],
   "source": [
    "# interpolation을 지원합니다.\n",
    "# $를 통해 shell과 같이 문자열안에서 그 변수를 참조할 수 있습니다.\n",
    "println(\"interpolation: \", string(\"hello, \", \"how are you? $name\"))"
   ]
  },
  {
   "cell_type": "code",
   "execution_count": 9,
   "metadata": {},
   "outputs": [
    {
     "name": "stdout",
     "output_type": "stream",
     "text": [
      "4\n",
      "7\n"
     ]
    }
   ],
   "source": [
    "# search()를 통해 편리하게 문자열에서 문자를 찾을 수 있습니다.\n",
    "println(search(\"xylophone\", 'o'))\n",
    "println(search(\"xylophone\", 'o', 5))"
   ]
  },
  {
   "cell_type": "code",
   "execution_count": 10,
   "metadata": {},
   "outputs": [
    {
     "name": "stdout",
     "output_type": "stream",
     "text": [
      "true\n"
     ]
    }
   ],
   "source": [
    "# contains()를 통해 편리하게 문자열에서 문자열을 찾을 수 있습니다.\n",
    "println(contains(\"xylophone\", \"pho\"))"
   ]
  },
  {
   "cell_type": "code",
   "execution_count": 11,
   "metadata": {},
   "outputs": [
    {
     "name": "stdout",
     "output_type": "stream",
     "text": [
      "true\n",
      "RegexMatch(\"xy1\")\n",
      "xy1\n",
      "Int64[]\n",
      "nothing\n"
     ]
    }
   ],
   "source": [
    "# ismatch(), match()를 통해 문자열에서 정규식을 통해 문자열을 찾을수 있습니다.\n",
    "println(ismatch(r\"xy[0-9]\", \"xy1lophone\"))\n",
    "m = match(r\"xy[0-9]\", \"xy1lophone\")\n",
    "println(m)\n",
    "println(m.match)\n",
    "println(m.offsets)\n",
    "println(match(r\"xy[0-9]\", \"xylophone\"))"
   ]
  },
  {
   "cell_type": "code",
   "execution_count": 12,
   "metadata": {},
   "outputs": [
    {
     "name": "stdout",
     "output_type": "stream",
     "text": [
      "c = 3, type: Int64\n"
     ]
    }
   ],
   "source": [
    "# 변수의 타입 선언은 주로 함수에서 입력/리턴 파라미터의 타입을 선언할때 쓰입니다.\n",
    "function add(a::Int32, b::Int32)::Int64\n",
    "    return (a + b)\n",
    "end\n",
    "\n",
    "a = Int32(1)\n",
    "b = Int32(2)\n",
    "c = add(a, b)\n",
    "println(\"c = $c, type: $(typeof(c))\")"
   ]
  },
  {
   "cell_type": "code",
   "execution_count": 13,
   "metadata": {},
   "outputs": [
    {
     "name": "stdout",
     "output_type": "stream",
     "text": [
      "foo: Hello, world., foo.baz: 23, 1.5\n",
      "typeof: Foo\n",
      "fieldnames: Symbol[:bar,:baz,:qux]\n"
     ]
    }
   ],
   "source": [
    "# Composite Type, 즉 구조체를 지원합니다.\n",
    "type Foo\n",
    "    bar\n",
    "    baz::Int\n",
    "    qux::Float64\n",
    "end\n",
    "\n",
    "foo = Foo(\"Hello, world.\", 23, 1.5)\n",
    "println(\"foo: $(foo.bar), foo.baz: $(foo.baz), $(foo.qux)\")\n",
    "println(\"typeof: $(typeof(foo))\")\n",
    "println(\"fieldnames: $(fieldnames(foo))\")"
   ]
  },
  {
   "cell_type": "code",
   "execution_count": 14,
   "metadata": {},
   "outputs": [
    {
     "name": "stdout",
     "output_type": "stream",
     "text": [
      "foo2.bar: 10\n",
      "foo2.bar: 20\n"
     ]
    }
   ],
   "source": [
    "# 구조체는 외부/내부 생성자를 지원합니다.\n",
    "# 기본적으로 구조체 생성은 외부 생성자를 사용합니다.\n",
    "type Foo1\n",
    "    bar\n",
    "end\n",
    "\n",
    "foo1 = Foo1(1)\n",
    "\n",
    "# 구조체 생성시 로직이 필요할때는 내부 생성자를 사용합니다.\n",
    "type Foo2\n",
    "    bar\n",
    "    \n",
    "    function Foo2(bar)\n",
    "        if bar == 1\n",
    "            return new(10)\n",
    "        else\n",
    "            return new(20)\n",
    "        end\n",
    "    end\n",
    "end\n",
    "foo2 = Foo2(1)\n",
    "println(\"foo2.bar: $(foo2.bar)\")\n",
    "foo2 = Foo2(2)\n",
    "println(\"foo2.bar: $(foo2.bar)\")"
   ]
  },
  {
   "cell_type": "code",
   "execution_count": 15,
   "metadata": {},
   "outputs": [
    {
     "name": "stdout",
     "output_type": "stream",
     "text": [
      "p1 type: Point{Int64}\n",
      "p2 type: Point{Float64}\n"
     ]
    }
   ],
   "source": [
    "# Parametric Type 을 지원합니다.\n",
    "type Point{T<:Real}\n",
    "    x::T\n",
    "    y::T\n",
    "end\n",
    "\n",
    "p1 = Point(1, 2)\n",
    "p2 = Point(3.0, 4.0)\n",
    "println(\"p1 type: $(typeof(p1))\")\n",
    "println(\"p2 type: $(typeof(p2))\")"
   ]
  },
  {
   "cell_type": "code",
   "execution_count": 16,
   "metadata": {},
   "outputs": [
    {
     "name": "stdout",
     "output_type": "stream",
     "text": [
      "bar1.baz: 1\n"
     ]
    },
    {
     "ename": "LoadError",
     "evalue": "LoadError: type Bar1 is immutable\nwhile loading In[16], in expression starting on line 9",
     "output_type": "error",
     "traceback": [
      "LoadError: type Bar1 is immutable\nwhile loading In[16], in expression starting on line 9",
      ""
     ]
    }
   ],
   "source": [
    "# 구조체 자체를 상수처럼 immutable 하게 만들수 있습니다.\n",
    "immutable Bar1\n",
    "    baz::Int\n",
    "end\n",
    "\n",
    "bar1 = Bar1(1)\n",
    "println(\"bar1.baz: $(bar1.baz)\")\n",
    "# immutable 으로 수정시 에러가 발생합니다.\n",
    "bar1.baz = 2"
   ]
  },
  {
   "cell_type": "code",
   "execution_count": 17,
   "metadata": {},
   "outputs": [
    {
     "name": "stdout",
     "output_type": "stream",
     "text": [
      "type a: Int64\n",
      "type b: String\n"
     ]
    }
   ],
   "source": [
    "# Union Type 을 지원합니다.\n",
    "IntOrString = Union{Int, String}\n",
    "a = IntOrString(1)\n",
    "println(\"type a: $(typeof(a))\")\n",
    "b = IntOrString(\"test\")\n",
    "println(\"type b: $(typeof(b))\")"
   ]
  },
  {
   "cell_type": "code",
   "execution_count": 18,
   "metadata": {},
   "outputs": [
    {
     "name": "stdout",
     "output_type": "stream",
     "text": [
      "type t: Tuple{Int64,String,Float64}\n",
      "value t[1]: 1\n",
      "2\n",
      "3\n"
     ]
    }
   ],
   "source": [
    "# Tuple Type 을 지원합니다.\n",
    "# 튜플은 필드네임을 가지지 않고 인덱스를 사용하여 접근합니다.\n",
    "t = (1, \"foo\", 2.5)\n",
    "println(\"type t: $(typeof(t))\")\n",
    "println(\"value t[1]: $(t[1])\")\n",
    "\n",
    "# 함수의 가변인자를 나타낼 때 사용됩니다.\n",
    "function vargs(v1, args...) \n",
    "    return args[end]\n",
    "end\n",
    "\n",
    "println(vargs(1, 2))\n",
    "println(vargs(1, 2, 3))"
   ]
  },
  {
   "cell_type": "markdown",
   "metadata": {},
   "source": [
    "## 함수"
   ]
  },
  {
   "cell_type": "code",
   "execution_count": 19,
   "metadata": {},
   "outputs": [
    {
     "name": "stdout",
     "output_type": "stream",
     "text": [
      "add: 5\n"
     ]
    }
   ],
   "source": [
    "# function 키워드로 시작해서 end 로 끝납니다. \n",
    "function add(v1, v2)\n",
    "    return v1 + v2\n",
    "end\n",
    "println(\"add: \", add(2, 3))"
   ]
  },
  {
   "cell_type": "code",
   "execution_count": 20,
   "metadata": {},
   "outputs": [
    {
     "name": "stdout",
     "output_type": "stream",
     "text": [
      "minus: -1\n",
      "a: 5\n"
     ]
    }
   ],
   "source": [
    "# julia 에서 함수는 first-class objects 입니다.\n",
    "# 편리하게 한줄 함수 및 함수를 변수에 할당 가능합니다. \n",
    "minus(v1, v2) = v1 - v2\n",
    "println(\"minus: \", minus(2, 3))\n",
    "\n",
    "a = add\n",
    "println(\"a: \", a(2, 3))"
   ]
  },
  {
   "cell_type": "code",
   "execution_count": 21,
   "metadata": {},
   "outputs": [
    {
     "name": "stdout",
     "output_type": "stream",
     "text": [
      "x: [1,4,9]\n",
      "y: [1,4,9]\n"
     ]
    },
    {
     "data": {
      "text/plain": [
       "(4,6)"
      ]
     },
     "execution_count": 21,
     "metadata": {},
     "output_type": "execute_result"
    }
   ],
   "source": [
    "# anonymous function 의 대표적 사용 예 map\n",
    "m = x -> x*x\n",
    "x = map(x -> x * x, [1, 2, 3]) \n",
    "y = map(m, [1, 2, 3])\n",
    "println(\"x: \", x)\n",
    "println(\"y: \", y)\n",
    "\n",
    "m1 = map(x -> begin\n",
    "    return x[1] + x[2]\n",
    "    end, [(1,2), (3,4)])\n",
    "m2 = map((x, y) -> x + y, (1,2), (3,4))"
   ]
  },
  {
   "cell_type": "code",
   "execution_count": 22,
   "metadata": {},
   "outputs": [
    {
     "name": "stdout",
     "output_type": "stream",
     "text": [
      "am: 3, 1, 4\n"
     ]
    }
   ],
   "source": [
    "# 멀티 값을 리턴 가능합니다.\n",
    "function am(v1, v2)\n",
    "    return a(v1, v2), m(v1), m(v2)\n",
    "end\n",
    "v1, v2, v3 = am(1, 2)\n",
    "println(\"am: $v1, $v2, $v3\")"
   ]
  },
  {
   "cell_type": "code",
   "execution_count": 23,
   "metadata": {},
   "outputs": [
    {
     "name": "stdout",
     "output_type": "stream",
     "text": [
      "2\n",
      "3\n"
     ]
    }
   ],
   "source": [
    "# 함수에 여러 개의 값을 가변인자로 넘기고 리턴받는 것이 가능합니다.\n",
    "function mvargs(v1, args...) \n",
    "    return args[end]\n",
    "end\n",
    "\n",
    "println(mvargs(1, 2))\n",
    "println(mvargs(1, 2, 3))"
   ]
  },
  {
   "cell_type": "code",
   "execution_count": 24,
   "metadata": {},
   "outputs": [
    {
     "name": "stdout",
     "output_type": "stream",
     "text": [
      "x^2: 4\n",
      "x^3: 8\n"
     ]
    }
   ],
   "source": [
    "# 함수 인자에 대해 기본 값 설정이 가능합니다.\n",
    "function pow(x, y=2) \n",
    "    return x^y\n",
    "end\n",
    "\n",
    "println(\"x^2: \", pow(2))\n",
    "println(\"x^3: \", pow(2, 3))"
   ]
  },
  {
   "cell_type": "code",
   "execution_count": 25,
   "metadata": {},
   "outputs": [
    {
     "name": "stdout",
     "output_type": "stream",
     "text": [
      "3\n",
      "11\n",
      "15\n"
     ]
    }
   ],
   "source": [
    "# 함수에 인자가 많을 경우 인자의 순서가 헷갈리지 않도록 키워드 인자를 지원합니다. \n",
    "function kwargs(;a=1, b=2) \n",
    "    return a + b\n",
    "end\n",
    "\n",
    "println(kwargs()) \n",
    "println(kwargs(b=10))\n",
    "println(kwargs(b=10, a=5))"
   ]
  },
  {
   "cell_type": "code",
   "execution_count": 26,
   "metadata": {},
   "outputs": [
    {
     "name": "stdout",
     "output_type": "stream",
     "text": [
      "a type: Int64, b type: Int64\n",
      "c type: Int64, value: 36\n"
     ]
    },
    {
     "data": {
      "text/html": [
       "2 methods for generic function <b>multiply</b>:<ul><li> multiply(a::<b>Int64</b>, b::<b>Int64</b>) at In[26]:8</li> <li> multiply(a::<b>Int32</b>, b::<b>Int32</b>) at In[26]:4</li> </ul>"
      ],
      "text/plain": [
       "# 2 methods for generic function \"multiply\":\n",
       "multiply(a::Int64, b::Int64) at In[26]:8\n",
       "multiply(a::Int32, b::Int32) at In[26]:4"
      ]
     },
     "execution_count": 26,
     "metadata": {},
     "output_type": "execute_result"
    }
   ],
   "source": [
    "# 객체지향 언어는 객체에 함수가 포함되는 형식의 다형성을 지원하지만\n",
    "# 줄리아는 함수 수준의 multiple dispatch 를 통해 다형성을 지원합니다.\n",
    "function multiply(a::Int32, b::Int32)::Int64\n",
    "    return a * b\n",
    "end\n",
    "\n",
    "function multiply(a::Int64, b::Int64)::Int64\n",
    "    return a * b\n",
    "end\n",
    "\n",
    "a = multiply(Int32(2), Int32(3))\n",
    "b = multiply(Int32(2), Int32(3))\n",
    "println(\"a type: $(typeof(a)), b type: $(typeof(b))\")\n",
    "c = multiply(a, b)\n",
    "println(\"c type: $(typeof(c)), value: $c\")\n",
    "\n",
    "# mothods() 를 통해 함수가 지원하는 타입 종류를 알아볼 수 있습니다. \n",
    "methods(multiply)"
   ]
  },
  {
   "cell_type": "markdown",
   "metadata": {},
   "source": [
    "## 제어문"
   ]
  },
  {
   "cell_type": "code",
   "execution_count": 27,
   "metadata": {},
   "outputs": [
    {
     "name": "stdout",
     "output_type": "stream",
     "text": [
      "a == 1\n"
     ]
    }
   ],
   "source": [
    "# 제어문 조건 확인 부분에 괄호를 쓰지 않습니다.\n",
    "a = 1\n",
    "if a == 1\n",
    "    println(\"a == 1\")\n",
    "elseif a > 1\n",
    "    println(\"a > 1\")\n",
    "else\n",
    "    println(\"a < 1\")\n",
    "end"
   ]
  },
  {
   "cell_type": "code",
   "execution_count": 28,
   "metadata": {},
   "outputs": [
    {
     "name": "stdout",
     "output_type": "stream",
     "text": [
      "a: 1\n"
     ]
    }
   ],
   "source": [
    "# while 문을 지원합니다.\n",
    "while a < 2\n",
    "    println(\"a: \", a)\n",
    "    a += 1\n",
    "end"
   ]
  },
  {
   "cell_type": "code",
   "execution_count": 29,
   "metadata": {},
   "outputs": [
    {
     "name": "stdout",
     "output_type": "stream",
     "text": [
      "i: 1\n",
      "i: 2\n",
      "i: a\n",
      "i: b\n",
      "i: 1, j: 3\n",
      "i: 1, j: 4\n",
      "i: 2, j: 3\n",
      "i: 2, j: 4\n"
     ]
    }
   ],
   "source": [
    "# for 문에서는 편리하게 Range를 지원하며, 멀티 변수도 지원합니다.\n",
    "for i = 1:2\n",
    "    println(\"i: \" , i)\n",
    "end\n",
    "\n",
    "for i in [\"a\", \"b\"]\n",
    "    println(\"i: \" , i)\n",
    "end\n",
    "\n",
    "for i = 1:2, j = 3:4\n",
    "    println(\"i: \", i, \", j: \", j)\n",
    "end"
   ]
  },
  {
   "cell_type": "code",
   "execution_count": 30,
   "metadata": {},
   "outputs": [
    {
     "name": "stdout",
     "output_type": "stream",
     "text": [
      "i: 2\n"
     ]
    }
   ],
   "source": [
    "# contine와 break 문을 지원합니다.\n",
    "for i = 1:5\n",
    "    if i == 1\n",
    "        continue\n",
    "    end\n",
    "    if i == 3\n",
    "        break\n",
    "    end\n",
    "    println(\"i: \", i)\n",
    "end"
   ]
  },
  {
   "cell_type": "code",
   "execution_count": 31,
   "metadata": {},
   "outputs": [
    {
     "name": "stdout",
     "output_type": "stream",
     "text": [
      "Error is UndefVarError\n",
      "Finally\n"
     ]
    }
   ],
   "source": [
    "# try catch finally 문을 지원합니다.\n",
    "try\n",
    "    throw(UndefVarError(:x))\n",
    "catch err\n",
    "    if isa(err, UndefVarError)\n",
    "        println(\"Error is UndefVarError\")\n",
    "    end\n",
    "finally\n",
    "    println(\"Finally\")\n",
    "end"
   ]
  },
  {
   "cell_type": "code",
   "execution_count": 32,
   "metadata": {},
   "outputs": [
    {
     "name": "stdout",
     "output_type": "stream",
     "text": [
      "String[\"1,5\\n\",\"2,3\\n\",\"3,4\\n\",\"4,7\\n\",\"5,4\\n\",\"6,3\\n\",\"7,5\\n\",\"8,7\\n\",\"9,4\\n\",\"10,4\\n\"]\n"
     ]
    }
   ],
   "source": [
    "#do 문을 지원합니다. I/O 프로그래밍시에 편리합니다.\n",
    "open(\"example.txt\") do f\n",
    "    lines = readlines(f)\n",
    "    println(lines)\n",
    "end"
   ]
  },
  {
   "cell_type": "markdown",
   "metadata": {},
   "source": [
    "## 모듈"
   ]
  },
  {
   "cell_type": "code",
   "execution_count": 33,
   "metadata": {},
   "outputs": [
    {
     "data": {
      "text/plain": [
       "MyMoudle"
      ]
     },
     "execution_count": 33,
     "metadata": {},
     "output_type": "execute_result"
    }
   ],
   "source": [
    "# 구조체화 함수들을 묶어서 제공할 수 있도록 모듈을 지원합니다.\n",
    "# module 키워드로 시작해서 end 로 끝납니다.\n",
    "module MyMoudle\n",
    "\n",
    "export f1, f2\n",
    "\n",
    "f1() = \"f1\"\n",
    "f2() = \"f2\"\n",
    "f3() = \"f3\"\n",
    "\n",
    "end"
   ]
  },
  {
   "cell_type": "code",
   "execution_count": 34,
   "metadata": {},
   "outputs": [
    {
     "name": "stdout",
     "output_type": "stream",
     "text": [
      "f1\n",
      "f2\n",
      "f1\n",
      "f2\n",
      "f3\n"
     ]
    }
   ],
   "source": [
    "# 모듈의 사용은 using 과 import 키워드를 사용합니다.\n",
    "# using 키워드 사용은 모듈내 export 로 지정된 함수뿐 아니라 \n",
    "# 모듈이름.함수 형식으로 모듈내 모든 함수에 접근 가능합니다.\n",
    "# using 키워드는 아래 설명할 import와 importall을 함께 쓰는 것과 같은 효과를 나타냅니다.\n",
    "using MyMoudle\n",
    "\n",
    "println(f1())\n",
    "println(f2())\n",
    "println(MyMoudle.f1())\n",
    "println(MyMoudle.f2())\n",
    "println(MyMoudle.f3())"
   ]
  },
  {
   "cell_type": "code",
   "execution_count": 35,
   "metadata": {},
   "outputs": [
    {
     "name": "stdout",
     "output_type": "stream",
     "text": [
      "f1\n",
      "f2\n",
      "f3\n"
     ]
    }
   ],
   "source": [
    "# import 키워드 사용은 모듈이름.함수 형식으로만 모듈내 모든 함수에 접근 가능합니다.\n",
    "import MyMoudle\n",
    "\n",
    "println(MyMoudle.f1())\n",
    "println(MyMoudle.f2())\n",
    "println(MyMoudle.f3())"
   ]
  },
  {
   "cell_type": "code",
   "execution_count": 36,
   "metadata": {},
   "outputs": [
    {
     "name": "stdout",
     "output_type": "stream",
     "text": [
      "f1\n",
      "f2\n"
     ]
    }
   ],
   "source": [
    "# importall 키워드 사용은 모듈내 export 로 지정된 함수에 접근 가능합니다.\n",
    "importall MyMoudle\n",
    "\n",
    "println(f1())\n",
    "println(f2())"
   ]
  },
  {
   "cell_type": "code",
   "execution_count": 37,
   "metadata": {},
   "outputs": [
    {
     "ename": "LoadError",
     "evalue": "LoadError: ArgumentError: Module Module1 not found in current path.\nRun `Pkg.add(\"Module1\")` to install the Module1 package.\nwhile loading In[37], in expression starting on line 6",
     "output_type": "error",
     "traceback": [
      "LoadError: ArgumentError: Module Module1 not found in current path.\nRun `Pkg.add(\"Module1\")` to install the Module1 package.\nwhile loading In[37], in expression starting on line 6",
      "",
      " in require(::Symbol) at ./loading.jl:365",
      " in require(::Symbol) at /usr/local/Cellar/julia/0.5.0/lib/julia/sys.dylib:?"
     ]
    }
   ],
   "source": [
    "# 모듈 내에서 외부 모듈을 사용할 때는 같은 방법으로 using 과 import 를 사용합니다.\n",
    "# 다른 방법으로는 include() 를 통해 모듈 파일 자체를 로드하여 참조하는 것도 가능합니다.\n",
    "# 없는 모듈을 참조하였기에 Pkg.add() 를 통해 설치하라는 에러를 볼수 있습니다.\n",
    "module DevMoudle\n",
    "\n",
    "using Module1\n",
    "import Module2\n",
    "\n",
    "include(\"module3.jl\")\n",
    "\n",
    "end"
   ]
  },
  {
   "cell_type": "code",
   "execution_count": 38,
   "metadata": {},
   "outputs": [
    {
     "name": "stdout",
     "output_type": "stream",
     "text": [
      "String[\"/usr/local/Cellar/julia/0.5.0/local/share/julia/site/v0.5\",\"/usr/local/Cellar/julia/0.5.0/share/julia/site/v0.5\"]\n"
     ]
    },
    {
     "data": {
      "text/plain": [
       "3-element Array{String,1}:\n",
       " \"/usr/local/Cellar/julia/0.5.0/local/share/julia/site/v0.5\"\n",
       " \"/usr/local/Cellar/julia/0.5.0/share/julia/site/v0.5\"      \n",
       " \"/test\"                                                    "
      ]
     },
     "execution_count": 38,
     "metadata": {},
     "output_type": "execute_result"
    }
   ],
   "source": [
    "# 줄리아는 모듈을 로딩시 경로를 LOAD_PATH 변수를 통해 관리합니다.\n",
    "println(LOAD_PATH)\n",
    "\n",
    "# push!() 함수를 통해 추가 경로 설정이 가능합니다.\n",
    "push!(LOAD_PATH, \"/test\")"
   ]
  },
  {
   "cell_type": "code",
   "execution_count": null,
   "metadata": {
    "collapsed": true
   },
   "outputs": [],
   "source": []
  }
 ],
 "metadata": {
  "kernelspec": {
   "display_name": "Julia 0.5.0",
   "language": "julia",
   "name": "julia-0.5"
  },
  "language_info": {
   "file_extension": ".jl",
   "mimetype": "application/julia",
   "name": "julia",
   "version": "0.5.0"
  },
  "nikola": {
   "category": "",
   "date": "2016-01-01 00:00:00 UTC+09:00",
   "description": "",
   "link": "",
   "slug": "2016-Julia-Basic",
   "tags": "",
   "title": "2016-Julia-Basic",
   "type": "text"
  }
 },
 "nbformat": 4,
 "nbformat_minor": 1
}
