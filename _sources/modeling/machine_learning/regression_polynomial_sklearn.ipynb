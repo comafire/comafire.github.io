{
 "cells": [
  {
   "cell_type": "markdown",
   "metadata": {},
   "source": [
    "# Polynomial Regression\n",
    "\n",
    "실생활 데이터들은 선형 보다는 비선형 형태를 띄고 있는 경우가 많습니다. 이럴 경우 선형 모델로는 원하는 성능을 얻을 수 없습니다. 이때는 비선형 데이터를 고차원 함수를 통해 새로운 공간에 맵핑하여 선형 회귀를 이용하는 방법이 많이 쓰입니다.\n",
    "\n",
    "PolynomialFeatures 함수는 주어인 degree 를 이용하여 입력된 데이터를 새로운 차원으로 맵핑한 결과를 돌려 줍니다. "
   ]
  },
  {
   "cell_type": "code",
   "execution_count": 1,
   "metadata": {},
   "outputs": [
    {
     "name": "stdout",
     "output_type": "stream",
     "text": [
      "python ver=3.8.9 (default, Jun 12 2021, 23:47:44) \n",
      "[Clang 12.0.5 (clang-1205.0.22.9)]\n",
      "pandas ver=1.2.4\n",
      "numpy ver=1.19.5\n",
      "sklearn ver=0.24.2\n"
     ]
    }
   ],
   "source": [
    "# 경고 메시지 출력 끄기\n",
    "import warnings \n",
    "warnings.filterwarnings(action='ignore')\n",
    "\n",
    "%matplotlib inline\n",
    "import matplotlib.pyplot as plt\n",
    "import IPython\n",
    "\n",
    "import sys\n",
    "\n",
    "rseed = 22\n",
    "import random\n",
    "random.seed(rseed)\n",
    "\n",
    "import numpy as np\n",
    "np.random.seed(rseed)\n",
    "np.set_printoptions(precision=3)\n",
    "np.set_printoptions(formatter={'float_kind': \"{:.3f}\".format})\n",
    "\n",
    "import pandas as pd\n",
    "pd.set_option('display.max_rows', None) \n",
    "pd.set_option('display.max_columns', None) \n",
    "pd.set_option('display.max_colwidth', None)\n",
    "pd.options.display.float_format = '{:,.5f}'.format\n",
    "\n",
    "import sklearn\n",
    "\n",
    "print(f\"python ver={sys.version}\")\n",
    "print(f\"pandas ver={pd.__version__}\")\n",
    "print(f\"numpy ver={np.__version__}\")\n",
    "print(f\"sklearn ver={sklearn.__version__}\")"
   ]
  },
  {
   "cell_type": "code",
   "execution_count": 2,
   "metadata": {},
   "outputs": [
    {
     "name": "stdout",
     "output_type": "stream",
     "text": [
      "[[0 1]\n",
      " [2 3]\n",
      " [4 5]]\n",
      "[[1.000 0.000 1.000 0.000 0.000 1.000]\n",
      " [1.000 2.000 3.000 4.000 6.000 9.000]\n",
      " [1.000 4.000 5.000 16.000 20.000 25.000]]\n"
     ]
    }
   ],
   "source": [
    "from sklearn import preprocessing\n",
    "\n",
    "X = np.arange(6).reshape(3, 2)\n",
    "print(X)\n",
    "\n",
    "poly = preprocessing.PolynomialFeatures(degree=2)\n",
    "new_X = poly.fit_transform(X)\n",
    "print(new_X)"
   ]
  },
  {
   "cell_type": "markdown",
   "metadata": {},
   "source": [
    "이는 $[x_1, x_2]$ 변수를 $[1, x_1, x_2, x_1^2, x_1 x_2, x_2^2]$ 2차원 공간으로 맵핑한 전처리 결과입니다. 전처리 후에는 다양한 선형 회귀 함수들을 이용하여 모델을 만드는 것이 가능합니다.\n",
    "\n",
    "경우에 따라서 고차원 맵핑이 아닌 교차 특징(intersaction features) $[1, x_1, x_2, x_1 x_2]$ 만 필요한 경우는 interaction_only=True 를 사용할 수 있습니다. 예를 들면 XOR 문제를 이 방식으로 선형 회귀를 통해 풀수 있게 됩니다."
   ]
  },
  {
   "cell_type": "code",
   "execution_count": 3,
   "metadata": {},
   "outputs": [
    {
     "name": "stdout",
     "output_type": "stream",
     "text": [
      "[0 1 1 0]\n",
      "[[1 0 0 0]\n",
      " [1 0 1 0]\n",
      " [1 1 0 0]\n",
      " [1 1 1 1]]\n",
      "1.0\n"
     ]
    }
   ],
   "source": [
    "from sklearn import linear_model, preprocessing\n",
    "\n",
    "X = np.array([[0, 0], [0, 1], [1, 0], [1, 1]])\n",
    "y = X[:, 0] ^ X[:, 1]\n",
    "print(y)\n",
    "\n",
    "X = preprocessing.PolynomialFeatures(interaction_only=True).fit_transform(X).astype(int)\n",
    "print(X)\n",
    "clf = linear_model.Perceptron(fit_intercept=False, max_iter=10, tol=None, shuffle=False).fit(X, y)\n",
    "\n",
    "clf.predict(X)\n",
    "print(clf.score(X, y))"
   ]
  },
  {
   "cell_type": "code",
   "execution_count": 4,
   "metadata": {},
   "outputs": [
    {
     "name": "stdout",
     "output_type": "stream",
     "text": [
      "data shape: xs=(1000, 1), ys=(1000,)\n",
      "train shape: train_xs=(700, 1), train_ys=(700,)\n",
      "test shape: test_xs=(300, 1), test_ys=(300,)\n"
     ]
    },
    {
     "data": {
      "image/png": "[encoded data removed]",
      "text/plain": [
       "<Figure size 432x288 with 1 Axes>"
      ]
     },
     "metadata": {
      "needs_background": "light"
     },
     "output_type": "display_data"
    },
    {
     "name": "stdout",
     "output_type": "stream",
     "text": [
      "\n",
      "model=LinearRegression()\n",
      "r_square=0.99987\n"
     ]
    },
    {
     "data": {
      "image/png": "[encoded data removed]",
      "text/plain": [
       "<Figure size 432x288 with 1 Axes>"
      ]
     },
     "metadata": {
      "needs_background": "light"
     },
     "output_type": "display_data"
    }
   ],
   "source": [
    "from sklearn import datasets, preprocessing, model_selection, linear_model, metrics\n",
    "\n",
    "# 데이터\n",
    "n_samples = 1000\n",
    "# xs = 2 - 3 * np.random.normal(0, 1, n_samples)\n",
    "# ys = xs - 2 * (xs ** 2) + 0.5 * (xs ** 3) + np.random.normal(-3, 3, n_samples)\n",
    "# xs = xs.reshape(-1, 1)\n",
    "# ys = ys.reshape(-1)\n",
    "xs, ys = datasets.make_regression(\n",
    "    n_samples=n_samples, # 데이터 수\n",
    "    n_features=1, # X feature 수\n",
    "    bias=1.0, # Y 절편\n",
    "    noise=0.3, # X 변수들에 더해지는 잡음의 표준 편차\n",
    "    random_state=rseed) # 난수 발생용 Seed 값\n",
    "ys = ys**3 # Y 차원\n",
    "print(f\"data shape: xs={xs.shape}, ys={ys.shape}\")\n",
    "\n",
    "train_xs, test_xs, train_ys, test_ys = model_selection.train_test_split(\n",
    "    xs, ys, test_size=0.3, shuffle=True, random_state=rseed)\n",
    "print(f\"train shape: train_xs={train_xs.shape}, train_ys={train_ys.shape}\")\n",
    "print(f\"test shape: test_xs={test_xs.shape}, test_ys={test_ys.shape}\")\n",
    "plt.scatter(train_xs, train_ys, label='train', c='b')\n",
    "plt.scatter(test_xs, test_ys, label='test', c='g')\n",
    "plt.legend()\n",
    "plt.show()\n",
    "\n",
    "# 전처리\n",
    "# PolynomialFeature 로 변환\n",
    "poly = preprocessing.PolynomialFeatures(degree=3)\n",
    "train_poly_xs = poly.fit_transform(train_xs)\n",
    "test_poly_xs = poly.transform(test_xs)\n",
    "\n",
    "# 모델\n",
    "models = [\n",
    "    linear_model.LinearRegression()\n",
    "]\n",
    "\n",
    "for model in models:\n",
    "    # 학습\n",
    "    print(f\"\\nmodel={model}\")\n",
    "    model.fit(train_poly_xs, train_ys)\n",
    "\n",
    "    # 평가\n",
    "    pred_ys = model.predict(test_poly_xs)\n",
    "\n",
    "    r_square = metrics.r2_score(test_ys, pred_ys)\n",
    "    print(f\"r_square={r_square:.5f}\")\n",
    "    \n",
    "    plt.scatter(test_xs, test_ys, label='test', c='g')\n",
    "    plt.scatter(test_xs, pred_ys, label='predict', c='r', alpha=0.5)\n",
    "    plt.legend()\n",
    "    plt.show()"
   ]
  },
  {
   "cell_type": "code",
   "execution_count": null,
   "metadata": {},
   "outputs": [],
   "source": []
  }
 ],
 "metadata": {
  "kernelspec": {
   "display_name": "Python 3",
   "language": "python",
   "name": "python3"
  },
  "language_info": {
   "codemirror_mode": {
    "name": "ipython",
    "version": 3
   },
   "file_extension": ".py",
   "mimetype": "text/x-python",
   "name": "python",
   "nbconvert_exporter": "python",
   "pygments_lexer": "ipython3",
   "version": "3.8.9"
  },
  "nikola": {
   "category": "",
   "date": "2019-04-06",
   "description": "",
   "link": "",
   "slug": "ml-polynomial-regression",
   "tags": "",
   "title": "Machine Learning - Polynomial Regression",
   "type": "text"
  },
  "toc": {
   "base_numbering": 1,
   "nav_menu": {},
   "number_sections": true,
   "sideBar": true,
   "skip_h1_title": false,
   "title_cell": "Table of Contents",
   "title_sidebar": "Contents",
   "toc_cell": false,
   "toc_position": {},
   "toc_section_display": true,
   "toc_window_display": false
  }
 },
 "nbformat": 4,
 "nbformat_minor": 4
}
