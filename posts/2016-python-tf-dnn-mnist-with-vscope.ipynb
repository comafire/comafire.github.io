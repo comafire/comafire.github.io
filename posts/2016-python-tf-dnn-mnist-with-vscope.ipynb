{
 "cells": [
  {
   "cell_type": "markdown",
   "metadata": {},
   "source": [
    "Tensorflow의 변수 생성에 함수를 이용하기 위해 변수 범위를 한정하는 방법을 알아봅니다.\n",
    "\n",
    "[Tensorflow에서 DNN으로 Mnist 데이터셋 분류하기](https://comafire.github.io/2016-12-06-python-tf-dnn-mnist.html)에서 DNN의 설정 부분을 variable_scope() 를 써서 함수화 해보도록 하겠습니다."
   ]
  },
  {
   "cell_type": "code",
   "execution_count": 1,
   "metadata": {
    "collapsed": true
   },
   "outputs": [],
   "source": [
    "import matplotlib.pyplot as plt\n",
    "import matplotlib.image as img\n",
    "import numpy as np\n",
    "%matplotlib inline\n",
    "\n",
    "import tensorflow as tf\n",
    "from tensorflow.contrib.learn.python.learn import datasets"
   ]
  },
  {
   "cell_type": "code",
   "execution_count": 2,
   "metadata": {},
   "outputs": [
    {
     "name": "stdout",
     "output_type": "stream",
     "text": [
      "Extracting MNIST_data/train-images-idx3-ubyte.gz\n",
      "Extracting MNIST_data/train-labels-idx1-ubyte.gz\n",
      "Extracting MNIST_data/t10k-images-idx3-ubyte.gz\n",
      "Extracting MNIST_data/t10k-labels-idx1-ubyte.gz\n"
     ]
    }
   ],
   "source": [
    "mnist = datasets.mnist.read_data_sets(\"MNIST_data/\", one_hot=True)"
   ]
  },
  {
   "cell_type": "code",
   "execution_count": 3,
   "metadata": {},
   "outputs": [],
   "source": [
    "with tf.name_scope(\"inputs\"):\n",
    "    x = tf.placeholder(tf.float32, shape=[None, 784])\n",
    "    y = tf.placeholder(tf.float32, shape=[None, 10])\n",
    "    keep_prob = tf.placeholder(tf.float32)\n",
    "\n",
    "# 기존의 DNN 의 layer 설계시 weight 와 bias 를 \n",
    "# variable_scope() 와 같이 사용하면 함수로 대체 가능하게 됩니다.\n",
    "def fc_layer(x, shape):\n",
    "    w = tf.get_variable(name=\"weight\", shape=shape, initializer=tf.contrib.layers.xavier_initializer())\n",
    "    b = tf.get_variable(name=\"bias\", shape=[1, shape[1]], initializer=tf.contrib.layers.xavier_initializer())\n",
    "    return tf.add(tf.matmul(x, w), b)\n",
    "\n",
    "with tf.name_scope(\"layers\"):\n",
    "    with tf.variable_scope(\"l1\"):\n",
    "        # 이제 weight 와 bias 의 이름은 l1/weight 와 l1/bias 가 되어\n",
    "        # 변수 이름 중복 오류 없이 함수를 통해 변수 생성이 가능하게 됩니다.\n",
    "        l1 = tf.nn.relu(fc_layer(x, [784, 392]))\n",
    "    with tf.variable_scope(\"l2\"):\n",
    "        l2 = tf.nn.relu(fc_layer(l1, [392, 196]))\n",
    "    with tf.variable_scope(\"l3\"):\n",
    "        l3 = tf.nn.relu(fc_layer(l2, [196, 98]))\n",
    "    with tf.variable_scope(\"l4\"):\n",
    "        l4 = tf.nn.relu(fc_layer(l3, [98, 49]))\n",
    "        l4_dropout = tf.nn.dropout(l4, keep_prob)\n",
    "    with tf.variable_scope(\"l5\"):\n",
    "        l5 = fc_layer(l4_dropout, [49, 10])\n",
    "\n",
    "with tf.name_scope(\"optimize\"):\n",
    "    cost = tf.reduce_mean(tf.nn.softmax_cross_entropy_with_logits(l5, y))\n",
    "    optimizer = tf.train.AdamOptimizer(0.001).minimize(cost)\n",
    "\n",
    "with tf.name_scope(\"evaluate\"):\n",
    "    pred_y = tf.nn.softmax(l5)\n",
    "    corr_ys = tf.equal(tf.argmax(pred_y, 1), tf.argmax(y, 1))\n",
    "    acc = tf.reduce_mean(tf.cast(corr_ys, tf.float32))    "
   ]
  },
  {
   "cell_type": "code",
   "execution_count": 4,
   "metadata": {},
   "outputs": [
    {
     "name": "stdout",
     "output_type": "stream",
     "text": [
      "epoch: 0, train_cost: 0.0974743, train_acc: 0.969964\n",
      "epoch: 0, valid_cost: 0.113474, valid_acc: 0.9662\n",
      "epoch: 1, train_cost: 0.0513796, train_acc: 0.984527\n",
      "epoch: 1, valid_cost: 0.0932428, valid_acc: 0.9754\n",
      "epoch: 2, train_cost: 0.0301231, train_acc: 0.990855\n",
      "epoch: 2, valid_cost: 0.0859358, valid_acc: 0.9792\n",
      "epoch: 3, train_cost: 0.0330162, train_acc: 0.990909\n",
      "epoch: 3, valid_cost: 0.12209, valid_acc: 0.978\n",
      "epoch: 4, train_cost: 0.0166366, train_acc: 0.994782\n",
      "epoch: 4, valid_cost: 0.0930478, valid_acc: 0.981\n",
      "epoch: 5, train_cost: 0.0122785, train_acc: 0.996145\n",
      "epoch: 5, valid_cost: 0.0982721, valid_acc: 0.981\n",
      "epoch: 6, train_cost: 0.0119618, train_acc: 0.996218\n",
      "epoch: 6, valid_cost: 0.107501, valid_acc: 0.9806\n",
      "epoch: 7, train_cost: 0.00621274, train_acc: 0.998036\n",
      "epoch: 7, valid_cost: 0.113027, valid_acc: 0.9812\n",
      "epoch: 8, train_cost: 0.00983125, train_acc: 0.997055\n",
      "epoch: 8, valid_cost: 0.113927, valid_acc: 0.9816\n",
      "epoch: 9, train_cost: 0.0143301, train_acc: 0.996927\n",
      "epoch: 9, valid_cost: 0.132186, valid_acc: 0.9814\n"
     ]
    }
   ],
   "source": [
    "tb_cost = tf.summary.scalar(\"cost\", cost)\n",
    "tb_acc = tf.summary.scalar(\"acc\", acc)\n",
    "tb_merge = tf.summary.merge_all()\n",
    "\n",
    "def mkdir(dir_path):\n",
    "    if tf.gfile.Exists(dir_path):\n",
    "        tf.gfile.DeleteRecursively(dir_path)\n",
    "    tf.gfile.MakeDirs(dir_path)\n",
    "        \n",
    "with tf.Session() as sess:\n",
    "    train_path = \"../logs/tf-dnn-mnist-train\"\n",
    "    valid_path = \"../logs/tf-dnn-mnist-valid\"\n",
    "    mkdir(train_path)\n",
    "    mkdir(valid_path)\n",
    "\n",
    "    train_writer = tf.train.SummaryWriter(train_path, sess.graph)\n",
    "    valid_writer = tf.train.SummaryWriter(valid_path, sess.graph)\n",
    "\n",
    "    for epoch in range(0, 10):    \n",
    "        init = tf.global_variables_initializer()\n",
    "        sess.run(init)    \n",
    "        saver = tf.train.Saver()\n",
    "        path_format = \"../models/tf-dnn-mnist-%03d/\"\n",
    "        prev_model_path = path_format % (epoch - 1)\n",
    "        prev_model_file = \"%s%s\" % (prev_model_path, \"model\")\n",
    "        if tf.gfile.Exists(prev_model_path):\n",
    "            saver.restore(sess, prev_model_file)\n",
    "\n",
    "        for step in range(1000):\n",
    "            train_batch_xs, train_batch_ys = mnist.train.next_batch(100)\n",
    "            sess.run(optimizer, feed_dict={x: train_batch_xs, y: train_batch_ys, keep_prob: 0.5})\n",
    "\n",
    "        train_cost, train_acc, train_summary = sess.run([cost, acc, tb_merge], feed_dict={x: mnist.train.images, y: mnist.train.labels, keep_prob: 1.0})\n",
    "        train_writer.add_summary(train_summary, epoch)\n",
    "        valid_cost, valid_acc, valid_summary = sess.run([cost, acc, tb_merge], feed_dict={x: mnist.validation.images, y: mnist.validation.labels, keep_prob: 1.0})\n",
    "        valid_writer.add_summary(valid_summary, epoch)\n",
    "        print \"epoch: %d, train_cost: %s, train_acc: %s\" % (epoch, train_cost, train_acc)\n",
    "        print \"epoch: %d, valid_cost: %s, valid_acc: %s\" % (epoch, valid_cost, valid_acc)\n",
    "\n",
    "        curr_model_path = path_format % epoch\n",
    "        curr_model_file = \"%s%s\" % (curr_model_path, \"model\")\n",
    "        mkdir(curr_model_path)\n",
    "        saver.save(sess, curr_model_file)\n",
    "\n",
    "    train_writer.close()\n",
    "    valid_writer.close()"
   ]
  },
  {
   "cell_type": "code",
   "execution_count": 5,
   "metadata": {},
   "outputs": [
    {
     "name": "stdout",
     "output_type": "stream",
     "text": [
      "epoch: 0, test acc: 0.9641\n",
      "epoch: 1, test acc: 0.9718\n",
      "epoch: 2, test acc: 0.9785\n",
      "epoch: 3, test acc: 0.9765\n",
      "epoch: 4, test acc: 0.9791\n",
      "epoch: 5, test acc: 0.9811\n",
      "epoch: 6, test acc: 0.9807\n",
      "epoch: 7, test acc: 0.9814\n",
      "epoch: 8, test acc: 0.9803\n",
      "epoch: 9, test acc: 0.9812\n"
     ]
    }
   ],
   "source": [
    "with tf.Session() as sess:\n",
    "    for epoch in range(10):\n",
    "        init = tf.global_variables_initializer()\n",
    "        sess.run(init)\n",
    "\n",
    "        saver = tf.train.Saver()\n",
    "        \n",
    "        path_format = \"../models/tf-dnn-mnist-%03d/\"\n",
    "        curr_model_path = path_format % epoch\n",
    "        curr_model_file = \"%s%s\" % (curr_model_path, \"model\")\n",
    "        saver.restore(sess, curr_model_file)\n",
    "\n",
    "        test_acc = sess.run(acc, feed_dict={x: mnist.test.images, y: mnist.test.labels, keep_prob: 1.0})\n",
    "        print \"epoch: %d, test acc: %s\" % (epoch, test_acc)"
   ]
  },
  {
   "cell_type": "code",
   "execution_count": null,
   "metadata": {
    "collapsed": true
   },
   "outputs": [],
   "source": []
  }
 ],
 "metadata": {
  "kernelspec": {
   "display_name": "Python 3",
   "language": "python",
   "name": "python3"
  },
  "language_info": {
   "codemirror_mode": {
    "name": "ipython",
    "version": 3
   },
   "file_extension": ".py",
   "mimetype": "text/x-python",
   "name": "python",
   "nbconvert_exporter": "python",
   "pygments_lexer": "ipython3",
   "version": "3.5.2"
  },
  "nikola": {
   "category": "",
   "date": "2016-12-08 00:00:00 UTC+09:00",
   "description": "",
   "link": "",
   "slug": "2016-12-08-python-tf-dnn-mnist-with-vscope",
   "tags": "",
   "title": "2016-12-08-python-tf-dnn-mnist-with-vscope",
   "type": "text"
  }
 },
 "nbformat": 4,
 "nbformat_minor": 1
}
