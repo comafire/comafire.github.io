{
 "cells": [
  {
   "cell_type": "markdown",
   "metadata": {},
   "source": [
    "# Data Analytics\n"
   ]
  },
  {
   "cell_type": "markdown",
   "metadata": {},
   "source": [
    "Reference\n",
    "* [Statistical Testing: How to select the best test for your data?](https://towardsdatascience.com/statistical-testing-understanding-how-to-select-the-best-test-for-your-data-52141c305168)\n",
    "* [10 Normality Tests in Python (Step-By-Step Guide 2020)](https://towardsdatascience.com/normality-tests-in-python-31e04aa4f411)\n",
    "* [Confidence Intervals with z-score and t-score](https://www.kaggle.com/asimislam/confidence-intervals-with-z-score-and-t-score)\n",
    "* [How to Calculate Confidence Intervals in Python](https://www.statology.org/confidence-intervals-python/)"
   ]
  },
  {
   "cell_type": "code",
   "execution_count": null,
   "metadata": {},
   "outputs": [],
   "source": []
  }
 ],
 "metadata": {
  "kernelspec": {
   "display_name": "Python 3",
   "language": "python",
   "name": "python3"
  },
  "language_info": {
   "codemirror_mode": {
    "name": "ipython",
    "version": 3
   },
   "file_extension": ".py",
   "mimetype": "text/x-python",
   "name": "python",
   "nbconvert_exporter": "python",
   "pygments_lexer": "ipython3",
   "version": "3.8.9"
  },
  "nikola": {
   "category": "",
   "date": "2019-12-22",
   "description": "",
   "link": "",
   "slug": "platform-native-env-for-data-science-on-macos",
   "tags": "",
   "title": "macOS에서 Data Science를 위한 Native 환경 설정",
   "type": "text"
  },
  "toc": {
   "base_numbering": 1,
   "nav_menu": {},
   "number_sections": true,
   "sideBar": true,
   "skip_h1_title": false,
   "title_cell": "Table of Contents",
   "title_sidebar": "Contents",
   "toc_cell": false,
   "toc_position": {},
   "toc_section_display": true,
   "toc_window_display": false
  }
 },
 "nbformat": 4,
 "nbformat_minor": 4
}
