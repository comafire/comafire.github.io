{
 "cells": [
  {
   "cell_type": "markdown",
   "metadata": {},
   "source": [
    "<!-- TEASER_END -->"
   ]
  },
  {
   "cell_type": "code",
   "execution_count": 1,
   "metadata": {},
   "outputs": [
    {
     "data": {
      "text/html": [
       "<style>.container { width:100% !important; }</style>"
      ],
      "text/plain": [
       "<IPython.core.display.HTML object>"
      ]
     },
     "metadata": {},
     "output_type": "display_data"
    }
   ],
   "source": [
    "from IPython.core.interactiveshell import InteractiveShell\n",
    "InteractiveShell.ast_node_interactivity = \"all\"\n",
    "\n",
    "from IPython.core.display import display, HTML\n",
    "display(HTML(\"<style>.container { width:100% !important; }</style>\"))\n",
    "\n",
    "import matplotlib.pyplot as plt\n",
    "%matplotlib inline\n",
    "\n",
    "import numpy as np\n",
    "np.set_printoptions(precision=4)\n",
    "\n",
    "import pandas as pd\n",
    "pd.set_option('display.max_rows', None) \n",
    "pd.set_option('display.max_columns', None) \n",
    "pd.set_option('display.max_colwidth', -1)"
   ]
  },
  {
   "cell_type": "code",
   "execution_count": 2,
   "metadata": {},
   "outputs": [],
   "source": [
    "import os, io, sys, logging, imp, json\n",
    "import time, pickle, requests, json\n",
    "from datetime import datetime, timedelta\n",
    "import pickle\n",
    "from os import listdir\n",
    "from os.path import isfile, join\n",
    "\n",
    "logging.basicConfig()\n",
    "log = logging.getLogger()\n",
    "log.setLevel(logging.INFO)"
   ]
  },
  {
   "cell_type": "code",
   "execution_count": 3,
   "metadata": {
    "collapsed": true
   },
   "outputs": [],
   "source": [
    "class Store:\n",
    "    store = None\n",
    "    \n",
    "    def __init__(self):\n",
    "        self.store = {}\n",
    "    \n",
    "    def post(self, req):\n",
    "        user_id = req[\"path\"][\"user_id\"]\n",
    "        name = req[\"body\"][\"name\"]\n",
    "        res = {}\n",
    "  \n",
    "        self.store[user_id] = name\n",
    "        res[\"status\"] = \"SUCCESS\"\n",
    "        res[\"name\"] = name\n",
    "        return json.dumps(res)\n",
    "\n",
    "    def get(self, req):\n",
    "        user_id = req[\"path\"][\"user_id\"]\n",
    "        res = {}\n",
    "        \n",
    "        name = self.store[user_id]\n",
    "        res[\"status\"] = \"SUCCESS\"\n",
    "        res[\"name\"] = name\n",
    "        return json.dumps(res)\n",
    "    \n",
    "    def delete(self, req):\n",
    "        user_id = req[\"path\"][\"user_id\"]\n",
    "        res = {}\n",
    "        \n",
    "        del self.store[user_id]\n",
    "        return json.dumps(res)\n"
   ]
  }
 ],
 "metadata": {
  "kernelspec": {
   "display_name": "Python 2",
   "language": "python",
   "name": "python2"
  },
  "language_info": {
   "codemirror_mode": {
    "name": "ipython",
    "version": 2
   },
   "file_extension": ".py",
   "mimetype": "text/x-python",
   "name": "python",
   "nbconvert_exporter": "python",
   "pygments_lexer": "ipython2",
   "version": "2.7.12"
  },
  "nikola": {
   "category": "",
   "date": "2017-09-16",
   "description": "",
   "link": "",
   "slug": "2017-python-jupyter-kernel-gateway-module",
   "tags": "",
   "title": "2017-python-jupyter-kernel-gateway-module",
   "type": "text"
  },
  "toc": {
   "base_numbering": 1,
   "nav_menu": {
    "height": "12px",
    "width": "252px"
   },
   "number_sections": true,
   "sideBar": false,
   "skip_h1_title": false,
   "title_cell": "Table of Contents",
   "title_sidebar": "Contents",
   "toc_cell": false,
   "toc_position": {},
   "toc_section_display": "block",
   "toc_window_display": false
  }
 },
 "nbformat": 4,
 "nbformat_minor": 2
}
