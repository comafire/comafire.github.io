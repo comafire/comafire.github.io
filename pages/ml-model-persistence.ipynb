{
 "cells": [
  {
   "cell_type": "markdown",
   "metadata": {},
   "source": [
    "# Model Persistence\n",
    "\n",
    "머신러닝 모델을 학습시킨 후, 모델 재사용을 위해 저장하고 로드하는 방법을 알아봅니다. \n",
    "\n",
    "## Scikit-Learn\n",
    "\n",
    "Scikit-Learn 에서는 학습 후 모델을 저장하기 위해 joblib 모듈을 제공해 줍니다. "
   ]
  },
  {
   "cell_type": "code",
   "execution_count": 1,
   "metadata": {},
   "outputs": [
    {
     "name": "stdout",
     "output_type": "stream",
     "text": [
      "data shape: np_data_xs=(100000, 10), np_data_ys=(100000,)\n",
      "train shape: np_train_xs=(70000, 10), np_train_ys=(70000,)\n",
      "test shape: np_test_xs=(30000, 10), np_test_ys=(30000,)\n",
      "model=LogisticRegression(C=1.0, class_weight=None, dual=False, fit_intercept=True,\n",
      "          intercept_scaling=1, max_iter=100, multi_class='multinomial',\n",
      "          n_jobs=None, penalty='l2', random_state=None, solver='sag',\n",
      "          tol=0.0001, verbose=0, warm_start=False)\n",
      "classification_report\n",
      "               precision    recall  f1-score   support\n",
      "\n",
      "           0       0.77      0.79      0.78     10004\n",
      "           1       0.77      0.72      0.74     10004\n",
      "           2       0.88      0.91      0.89      9992\n",
      "\n",
      "   micro avg       0.81      0.81      0.81     30000\n",
      "   macro avg       0.81      0.81      0.81     30000\n",
      "weighted avg       0.81      0.81      0.81     30000\n",
      "\n",
      "classification_report\n",
      "               precision    recall  f1-score   support\n",
      "\n",
      "           0       0.77      0.79      0.78     10004\n",
      "           1       0.77      0.72      0.74     10004\n",
      "           2       0.88      0.91      0.89      9992\n",
      "\n",
      "   micro avg       0.81      0.81      0.81     30000\n",
      "   macro avg       0.81      0.81      0.81     30000\n",
      "weighted avg       0.81      0.81      0.81     30000\n",
      "\n"
     ]
    }
   ],
   "source": [
    "%matplotlib inline\n",
    "import matplotlib.pyplot as plt\n",
    "import warnings\n",
    "warnings.filterwarnings(\"ignore\")\n",
    "\n",
    "import numpy as np\n",
    "from sklearn import datasets, model_selection, linear_model, metrics\n",
    "import os, joblib\n",
    "\n",
    "# 데이터\n",
    "np.random.seed(0)\n",
    "n_samples = 100000\n",
    "np_data_xs, np_data_ys = datasets.make_classification(\n",
    "    n_samples=n_samples, # 데이터 수\n",
    "    n_features=10, # X feature 수\n",
    "    n_informative=3,\n",
    "    n_classes=3, # Y class 수\n",
    "    random_state=0) # 난수 발생용 Seed 값\n",
    "print(\"data shape: np_data_xs={}, np_data_ys={}\".format(np_data_xs.shape, np_data_ys.shape))\n",
    "np_train_xs, np_test_xs, np_train_ys, np_test_ys = model_selection.train_test_split(\n",
    "    np_data_xs, np_data_ys, \n",
    "    test_size=0.3, shuffle=True, random_state=2)\n",
    "print(\"train shape: np_train_xs={}, np_train_ys={}\".format(np_train_xs.shape, np_train_ys.shape))\n",
    "print(\"test shape: np_test_xs={}, np_test_ys={}\".format(np_test_xs.shape, np_test_ys.shape))\n",
    "\n",
    "# 모델\n",
    "model = linear_model.LogisticRegression(solver='sag', multi_class='multinomial')\n",
    "\n",
    "# 학습\n",
    "print(\"model={}\".format(model))\n",
    "model.fit(np_train_xs, np_train_ys)\n",
    "\n",
    "# 평가\n",
    "np_pred_ys = model.predict(np_test_xs)\n",
    "cr = metrics.classification_report(np_test_ys, np_pred_ys)\n",
    "print(\"classification_report\\n\", cr)\n",
    "\n",
    "# 모델 저장/로드\n",
    "path_model = \"/tmp/model.joblib\"\n",
    "joblib.dump(model, path_model)\n",
    "model = joblib.load(path_model)\n",
    "\n",
    "# 재평가\n",
    "np_pred_ys = model.predict(np_test_xs)\n",
    "cr = metrics.classification_report(np_test_ys, np_pred_ys)\n",
    "print(\"classification_report\\n\", cr)"
   ]
  },
  {
   "cell_type": "code",
   "execution_count": null,
   "metadata": {},
   "outputs": [],
   "source": []
  }
 ],
 "metadata": {
  "kernelspec": {
   "display_name": "Python 3",
   "language": "python",
   "name": "python3"
  },
  "language_info": {
   "codemirror_mode": {
    "name": "ipython",
    "version": 3
   },
   "file_extension": ".py",
   "mimetype": "text/x-python",
   "name": "python",
   "nbconvert_exporter": "python",
   "pygments_lexer": "ipython3",
   "version": "3.5.2"
  },
  "nikola": {
   "category": "",
   "date": "2019-05-11",
   "description": "",
   "link": "",
   "slug": "ml-model-persistence",
   "tags": "",
   "title": "Machine Learning - Model Persistence",
   "type": "text"
  },
  "toc": {
   "base_numbering": 1,
   "nav_menu": {},
   "number_sections": true,
   "sideBar": true,
   "skip_h1_title": false,
   "title_cell": "Table of Contents",
   "title_sidebar": "Contents",
   "toc_cell": false,
   "toc_position": {},
   "toc_section_display": true,
   "toc_window_display": false
  }
 },
 "nbformat": 4,
 "nbformat_minor": 2
}
