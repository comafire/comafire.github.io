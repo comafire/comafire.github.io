{
 "cells": [
  {
   "cell_type": "code",
   "execution_count": 1,
   "metadata": {
    "collapsed": true
   },
   "outputs": [],
   "source": [
    "import numpy as np\n",
    "import tensorflow as tf"
   ]
  },
  {
   "cell_type": "code",
   "execution_count": 2,
   "metadata": {
    "collapsed": false
   },
   "outputs": [
    {
     "name": "stdout",
     "output_type": "stream",
     "text": [
      "['h', 'e', 'l', 'o']\n",
      "{'h': 0, 'e': 1, 'l': 2, 'o': 3}\n",
      "[[ 1.  0.  0.  0.]\n",
      " [ 0.  1.  0.  0.]\n",
      " [ 0.  0.  1.  0.]\n",
      " [ 0.  0.  1.  0.]]\n",
      "[0, 1, 2, 2, 3]\n"
     ]
    }
   ],
   "source": [
    "char_rdic = list('helo')\n",
    "print(char_rdic)\n",
    "char_dic = {w: i for i, w in enumerate(char_rdic)}\n",
    "print(char_dic)\n",
    "x_data = np.array([\n",
    "    [1, 0, 0, 0],  # h\n",
    "    [0, 1, 0, 0],  # e\n",
    "    [0, 0, 1, 0],  # l\n",
    "    [0, 0, 1, 0],  # l\n",
    "], dtype='f')\n",
    "print(x_data)\n",
    "sample = [char_dic[c] for c in \"hello\"]\n",
    "print(sample)"
   ]
  },
  {
   "cell_type": "code",
   "execution_count": 3,
   "metadata": {
    "collapsed": false
   },
   "outputs": [
    {
     "name": "stdout",
     "output_type": "stream",
     "text": [
      "4\n"
     ]
    }
   ],
   "source": [
    "print len(char_dic)"
   ]
  },
  {
   "cell_type": "code",
   "execution_count": 15,
   "metadata": {
    "collapsed": false
   },
   "outputs": [
    {
     "name": "stdout",
     "output_type": "stream",
     "text": [
      "4\n",
      "[<tf.Tensor 'split_2:0' shape=(1, 4) dtype=float32>, <tf.Tensor 'split_2:1' shape=(1, 4) dtype=float32>, <tf.Tensor 'split_2:2' shape=(1, 4) dtype=float32>, <tf.Tensor 'split_2:3' shape=(1, 4) dtype=float32>]\n"
     ]
    },
    {
     "ename": "ValueError",
     "evalue": "Variable RNN/BasicRNNCell/Linear/Matrix already exists, disallowed. Did you mean to set reuse=True in VarScope? Originally defined at:\n\n  File \"<ipython-input-4-9d4785a467af>\", line 12, in <module>\n    outputs, state = tf.nn.rnn(rnn_cell, X_split, state)\n  File \"/usr/local/lib/python2.7/dist-packages/IPython/core/interactiveshell.py\", line 2881, in run_code\n    exec(code_obj, self.user_global_ns, self.user_ns)\n  File \"/usr/local/lib/python2.7/dist-packages/IPython/core/interactiveshell.py\", line 2821, in run_ast_nodes\n    if self.run_code(code, result):\n",
     "output_type": "error",
     "traceback": [
      "\u001b[0;31m\u001b[0m",
      "\u001b[0;31mValueError\u001b[0mTraceback (most recent call last)",
      "\u001b[0;32m<ipython-input-15-5015b0ac1b5f>\u001b[0m in \u001b[0;36m<module>\u001b[0;34m()\u001b[0m\n\u001b[1;32m     11\u001b[0m \u001b[0mX_split\u001b[0m \u001b[0;34m=\u001b[0m \u001b[0mtf\u001b[0m\u001b[0;34m.\u001b[0m\u001b[0msplit\u001b[0m\u001b[0;34m(\u001b[0m\u001b[0;36m0\u001b[0m\u001b[0;34m,\u001b[0m \u001b[0mtime_step_size\u001b[0m\u001b[0;34m,\u001b[0m \u001b[0mx_data\u001b[0m\u001b[0;34m)\u001b[0m\u001b[0;34m\u001b[0m\u001b[0m\n\u001b[1;32m     12\u001b[0m \u001b[0;32mprint\u001b[0m \u001b[0mX_split\u001b[0m\u001b[0;34m\u001b[0m\u001b[0m\n\u001b[0;32m---> 13\u001b[0;31m \u001b[0moutputs\u001b[0m\u001b[0;34m,\u001b[0m \u001b[0mstate\u001b[0m \u001b[0;34m=\u001b[0m \u001b[0mtf\u001b[0m\u001b[0;34m.\u001b[0m\u001b[0mnn\u001b[0m\u001b[0;34m.\u001b[0m\u001b[0mrnn\u001b[0m\u001b[0;34m(\u001b[0m\u001b[0mrnn_cell\u001b[0m\u001b[0;34m,\u001b[0m \u001b[0mX_split\u001b[0m\u001b[0;34m,\u001b[0m \u001b[0mstate\u001b[0m\u001b[0;34m)\u001b[0m\u001b[0;34m\u001b[0m\u001b[0m\n\u001b[0m\u001b[1;32m     14\u001b[0m \u001b[0;34m\u001b[0m\u001b[0m\n\u001b[1;32m     15\u001b[0m \u001b[0;31m# logits: list of 2D Tensors of shape [batch_size x num_decoder_symbols]\u001b[0m\u001b[0;34m\u001b[0m\u001b[0;34m\u001b[0m\u001b[0m\n",
      "\u001b[0;32m/usr/local/lib/python2.7/dist-packages/tensorflow/python/ops/rnn.pyc\u001b[0m in \u001b[0;36mrnn\u001b[0;34m(cell, inputs, initial_state, dtype, sequence_length, scope)\u001b[0m\n\u001b[1;32m    224\u001b[0m             state_size=cell.state_size)\n\u001b[1;32m    225\u001b[0m       \u001b[0;32melse\u001b[0m\u001b[0;34m:\u001b[0m\u001b[0;34m\u001b[0m\u001b[0m\n\u001b[0;32m--> 226\u001b[0;31m         \u001b[0;34m(\u001b[0m\u001b[0moutput\u001b[0m\u001b[0;34m,\u001b[0m \u001b[0mstate\u001b[0m\u001b[0;34m)\u001b[0m \u001b[0;34m=\u001b[0m \u001b[0mcall_cell\u001b[0m\u001b[0;34m(\u001b[0m\u001b[0;34m)\u001b[0m\u001b[0;34m\u001b[0m\u001b[0m\n\u001b[0m\u001b[1;32m    227\u001b[0m \u001b[0;34m\u001b[0m\u001b[0m\n\u001b[1;32m    228\u001b[0m       \u001b[0moutputs\u001b[0m\u001b[0;34m.\u001b[0m\u001b[0mappend\u001b[0m\u001b[0;34m(\u001b[0m\u001b[0moutput\u001b[0m\u001b[0;34m)\u001b[0m\u001b[0;34m\u001b[0m\u001b[0m\n",
      "\u001b[0;32m/usr/local/lib/python2.7/dist-packages/tensorflow/python/ops/rnn.pyc\u001b[0m in \u001b[0;36m<lambda>\u001b[0;34m()\u001b[0m\n\u001b[1;32m    211\u001b[0m       \u001b[0;32mif\u001b[0m \u001b[0mtime\u001b[0m \u001b[0;34m>\u001b[0m \u001b[0;36m0\u001b[0m\u001b[0;34m:\u001b[0m \u001b[0mvarscope\u001b[0m\u001b[0;34m.\u001b[0m\u001b[0mreuse_variables\u001b[0m\u001b[0;34m(\u001b[0m\u001b[0;34m)\u001b[0m\u001b[0;34m\u001b[0m\u001b[0m\n\u001b[1;32m    212\u001b[0m       \u001b[0;31m# pylint: disable=cell-var-from-loop\u001b[0m\u001b[0;34m\u001b[0m\u001b[0;34m\u001b[0m\u001b[0m\n\u001b[0;32m--> 213\u001b[0;31m       \u001b[0mcall_cell\u001b[0m \u001b[0;34m=\u001b[0m \u001b[0;32mlambda\u001b[0m\u001b[0;34m:\u001b[0m \u001b[0mcell\u001b[0m\u001b[0;34m(\u001b[0m\u001b[0minput_\u001b[0m\u001b[0;34m,\u001b[0m \u001b[0mstate\u001b[0m\u001b[0;34m)\u001b[0m\u001b[0;34m\u001b[0m\u001b[0m\n\u001b[0m\u001b[1;32m    214\u001b[0m       \u001b[0;31m# pylint: enable=cell-var-from-loop\u001b[0m\u001b[0;34m\u001b[0m\u001b[0;34m\u001b[0m\u001b[0m\n\u001b[1;32m    215\u001b[0m       \u001b[0;32mif\u001b[0m \u001b[0msequence_length\u001b[0m \u001b[0;32mis\u001b[0m \u001b[0;32mnot\u001b[0m \u001b[0mNone\u001b[0m\u001b[0;34m:\u001b[0m\u001b[0;34m\u001b[0m\u001b[0m\n",
      "\u001b[0;32m/usr/local/lib/python2.7/dist-packages/tensorflow/python/ops/rnn_cell.pyc\u001b[0m in \u001b[0;36m__call__\u001b[0;34m(self, inputs, state, scope)\u001b[0m\n\u001b[1;32m    198\u001b[0m     \u001b[0;34m\"\"\"Most basic RNN: output = new_state = activation(W * input + U * state + B).\"\"\"\u001b[0m\u001b[0;34m\u001b[0m\u001b[0m\n\u001b[1;32m    199\u001b[0m     \u001b[0;32mwith\u001b[0m \u001b[0mvs\u001b[0m\u001b[0;34m.\u001b[0m\u001b[0mvariable_scope\u001b[0m\u001b[0;34m(\u001b[0m\u001b[0mscope\u001b[0m \u001b[0;32mor\u001b[0m \u001b[0mtype\u001b[0m\u001b[0;34m(\u001b[0m\u001b[0mself\u001b[0m\u001b[0;34m)\u001b[0m\u001b[0;34m.\u001b[0m\u001b[0m__name__\u001b[0m\u001b[0;34m)\u001b[0m\u001b[0;34m:\u001b[0m  \u001b[0;31m# \"BasicRNNCell\"\u001b[0m\u001b[0;34m\u001b[0m\u001b[0m\n\u001b[0;32m--> 200\u001b[0;31m       \u001b[0moutput\u001b[0m \u001b[0;34m=\u001b[0m \u001b[0mself\u001b[0m\u001b[0;34m.\u001b[0m\u001b[0m_activation\u001b[0m\u001b[0;34m(\u001b[0m\u001b[0m_linear\u001b[0m\u001b[0;34m(\u001b[0m\u001b[0;34m[\u001b[0m\u001b[0minputs\u001b[0m\u001b[0;34m,\u001b[0m \u001b[0mstate\u001b[0m\u001b[0;34m]\u001b[0m\u001b[0;34m,\u001b[0m \u001b[0mself\u001b[0m\u001b[0;34m.\u001b[0m\u001b[0m_num_units\u001b[0m\u001b[0;34m,\u001b[0m \u001b[0mTrue\u001b[0m\u001b[0;34m)\u001b[0m\u001b[0;34m)\u001b[0m\u001b[0;34m\u001b[0m\u001b[0m\n\u001b[0m\u001b[1;32m    201\u001b[0m     \u001b[0;32mreturn\u001b[0m \u001b[0moutput\u001b[0m\u001b[0;34m,\u001b[0m \u001b[0moutput\u001b[0m\u001b[0;34m\u001b[0m\u001b[0m\n\u001b[1;32m    202\u001b[0m \u001b[0;34m\u001b[0m\u001b[0m\n",
      "\u001b[0;32m/usr/local/lib/python2.7/dist-packages/tensorflow/python/ops/rnn_cell.pyc\u001b[0m in \u001b[0;36m_linear\u001b[0;34m(args, output_size, bias, bias_start, scope)\u001b[0m\n\u001b[1;32m    903\u001b[0m   \u001b[0;32mwith\u001b[0m \u001b[0mvs\u001b[0m\u001b[0;34m.\u001b[0m\u001b[0mvariable_scope\u001b[0m\u001b[0;34m(\u001b[0m\u001b[0mscope\u001b[0m \u001b[0;32mor\u001b[0m \u001b[0;34m\"Linear\"\u001b[0m\u001b[0;34m)\u001b[0m\u001b[0;34m:\u001b[0m\u001b[0;34m\u001b[0m\u001b[0m\n\u001b[1;32m    904\u001b[0m     matrix = vs.get_variable(\n\u001b[0;32m--> 905\u001b[0;31m         \"Matrix\", [total_arg_size, output_size], dtype=dtype)\n\u001b[0m\u001b[1;32m    906\u001b[0m     \u001b[0;32mif\u001b[0m \u001b[0mlen\u001b[0m\u001b[0;34m(\u001b[0m\u001b[0margs\u001b[0m\u001b[0;34m)\u001b[0m \u001b[0;34m==\u001b[0m \u001b[0;36m1\u001b[0m\u001b[0;34m:\u001b[0m\u001b[0;34m\u001b[0m\u001b[0m\n\u001b[1;32m    907\u001b[0m       \u001b[0mres\u001b[0m \u001b[0;34m=\u001b[0m \u001b[0mmath_ops\u001b[0m\u001b[0;34m.\u001b[0m\u001b[0mmatmul\u001b[0m\u001b[0;34m(\u001b[0m\u001b[0margs\u001b[0m\u001b[0;34m[\u001b[0m\u001b[0;36m0\u001b[0m\u001b[0;34m]\u001b[0m\u001b[0;34m,\u001b[0m \u001b[0mmatrix\u001b[0m\u001b[0;34m)\u001b[0m\u001b[0;34m\u001b[0m\u001b[0m\n",
      "\u001b[0;32m/usr/local/lib/python2.7/dist-packages/tensorflow/python/ops/variable_scope.pyc\u001b[0m in \u001b[0;36mget_variable\u001b[0;34m(name, shape, dtype, initializer, regularizer, trainable, collections, caching_device, partitioner, validate_shape, custom_getter)\u001b[0m\n\u001b[1;32m   1022\u001b[0m       \u001b[0mcollections\u001b[0m\u001b[0;34m=\u001b[0m\u001b[0mcollections\u001b[0m\u001b[0;34m,\u001b[0m \u001b[0mcaching_device\u001b[0m\u001b[0;34m=\u001b[0m\u001b[0mcaching_device\u001b[0m\u001b[0;34m,\u001b[0m\u001b[0;34m\u001b[0m\u001b[0m\n\u001b[1;32m   1023\u001b[0m       \u001b[0mpartitioner\u001b[0m\u001b[0;34m=\u001b[0m\u001b[0mpartitioner\u001b[0m\u001b[0;34m,\u001b[0m \u001b[0mvalidate_shape\u001b[0m\u001b[0;34m=\u001b[0m\u001b[0mvalidate_shape\u001b[0m\u001b[0;34m,\u001b[0m\u001b[0;34m\u001b[0m\u001b[0m\n\u001b[0;32m-> 1024\u001b[0;31m       custom_getter=custom_getter)\n\u001b[0m\u001b[1;32m   1025\u001b[0m \u001b[0;34m\u001b[0m\u001b[0m\n\u001b[1;32m   1026\u001b[0m \u001b[0;34m\u001b[0m\u001b[0m\n",
      "\u001b[0;32m/usr/local/lib/python2.7/dist-packages/tensorflow/python/ops/variable_scope.pyc\u001b[0m in \u001b[0;36mget_variable\u001b[0;34m(self, var_store, name, shape, dtype, initializer, regularizer, trainable, collections, caching_device, partitioner, validate_shape, custom_getter)\u001b[0m\n\u001b[1;32m    848\u001b[0m           \u001b[0mcollections\u001b[0m\u001b[0;34m=\u001b[0m\u001b[0mcollections\u001b[0m\u001b[0;34m,\u001b[0m \u001b[0mcaching_device\u001b[0m\u001b[0;34m=\u001b[0m\u001b[0mcaching_device\u001b[0m\u001b[0;34m,\u001b[0m\u001b[0;34m\u001b[0m\u001b[0m\n\u001b[1;32m    849\u001b[0m           \u001b[0mpartitioner\u001b[0m\u001b[0;34m=\u001b[0m\u001b[0mpartitioner\u001b[0m\u001b[0;34m,\u001b[0m \u001b[0mvalidate_shape\u001b[0m\u001b[0;34m=\u001b[0m\u001b[0mvalidate_shape\u001b[0m\u001b[0;34m,\u001b[0m\u001b[0;34m\u001b[0m\u001b[0m\n\u001b[0;32m--> 850\u001b[0;31m           custom_getter=custom_getter)\n\u001b[0m\u001b[1;32m    851\u001b[0m \u001b[0;34m\u001b[0m\u001b[0m\n\u001b[1;32m    852\u001b[0m   def _get_partitioned_variable(self,\n",
      "\u001b[0;32m/usr/local/lib/python2.7/dist-packages/tensorflow/python/ops/variable_scope.pyc\u001b[0m in \u001b[0;36mget_variable\u001b[0;34m(self, name, shape, dtype, initializer, regularizer, reuse, trainable, collections, caching_device, partitioner, validate_shape, custom_getter)\u001b[0m\n\u001b[1;32m    344\u001b[0m           \u001b[0mreuse\u001b[0m\u001b[0;34m=\u001b[0m\u001b[0mreuse\u001b[0m\u001b[0;34m,\u001b[0m \u001b[0mtrainable\u001b[0m\u001b[0;34m=\u001b[0m\u001b[0mtrainable\u001b[0m\u001b[0;34m,\u001b[0m \u001b[0mcollections\u001b[0m\u001b[0;34m=\u001b[0m\u001b[0mcollections\u001b[0m\u001b[0;34m,\u001b[0m\u001b[0;34m\u001b[0m\u001b[0m\n\u001b[1;32m    345\u001b[0m           \u001b[0mcaching_device\u001b[0m\u001b[0;34m=\u001b[0m\u001b[0mcaching_device\u001b[0m\u001b[0;34m,\u001b[0m \u001b[0mpartitioner\u001b[0m\u001b[0;34m=\u001b[0m\u001b[0mpartitioner\u001b[0m\u001b[0;34m,\u001b[0m\u001b[0;34m\u001b[0m\u001b[0m\n\u001b[0;32m--> 346\u001b[0;31m           validate_shape=validate_shape)\n\u001b[0m\u001b[1;32m    347\u001b[0m \u001b[0;34m\u001b[0m\u001b[0m\n\u001b[1;32m    348\u001b[0m   def _get_partitioned_variable(\n",
      "\u001b[0;32m/usr/local/lib/python2.7/dist-packages/tensorflow/python/ops/variable_scope.pyc\u001b[0m in \u001b[0;36m_true_getter\u001b[0;34m(name, shape, dtype, initializer, regularizer, reuse, trainable, collections, caching_device, partitioner, validate_shape)\u001b[0m\n\u001b[1;32m    329\u001b[0m           \u001b[0minitializer\u001b[0m\u001b[0;34m=\u001b[0m\u001b[0minitializer\u001b[0m\u001b[0;34m,\u001b[0m \u001b[0mregularizer\u001b[0m\u001b[0;34m=\u001b[0m\u001b[0mregularizer\u001b[0m\u001b[0;34m,\u001b[0m \u001b[0mreuse\u001b[0m\u001b[0;34m=\u001b[0m\u001b[0mreuse\u001b[0m\u001b[0;34m,\u001b[0m\u001b[0;34m\u001b[0m\u001b[0m\n\u001b[1;32m    330\u001b[0m           \u001b[0mtrainable\u001b[0m\u001b[0;34m=\u001b[0m\u001b[0mtrainable\u001b[0m\u001b[0;34m,\u001b[0m \u001b[0mcollections\u001b[0m\u001b[0;34m=\u001b[0m\u001b[0mcollections\u001b[0m\u001b[0;34m,\u001b[0m\u001b[0;34m\u001b[0m\u001b[0m\n\u001b[0;32m--> 331\u001b[0;31m           caching_device=caching_device, validate_shape=validate_shape)\n\u001b[0m\u001b[1;32m    332\u001b[0m \u001b[0;34m\u001b[0m\u001b[0m\n\u001b[1;32m    333\u001b[0m     \u001b[0;32mif\u001b[0m \u001b[0mcustom_getter\u001b[0m \u001b[0;32mis\u001b[0m \u001b[0;32mnot\u001b[0m \u001b[0mNone\u001b[0m\u001b[0;34m:\u001b[0m\u001b[0;34m\u001b[0m\u001b[0m\n",
      "\u001b[0;32m/usr/local/lib/python2.7/dist-packages/tensorflow/python/ops/variable_scope.pyc\u001b[0m in \u001b[0;36m_get_single_variable\u001b[0;34m(self, name, shape, dtype, initializer, regularizer, partition_info, reuse, trainable, collections, caching_device, validate_shape)\u001b[0m\n\u001b[1;32m    630\u001b[0m                          \u001b[0;34m\" Did you mean to set reuse=True in VarScope? \"\u001b[0m\u001b[0;34m\u001b[0m\u001b[0m\n\u001b[1;32m    631\u001b[0m                          \"Originally defined at:\\n\\n%s\" % (\n\u001b[0;32m--> 632\u001b[0;31m                              name, \"\".join(traceback.format_list(tb))))\n\u001b[0m\u001b[1;32m    633\u001b[0m       \u001b[0mfound_var\u001b[0m \u001b[0;34m=\u001b[0m \u001b[0mself\u001b[0m\u001b[0;34m.\u001b[0m\u001b[0m_vars\u001b[0m\u001b[0;34m[\u001b[0m\u001b[0mname\u001b[0m\u001b[0;34m]\u001b[0m\u001b[0;34m\u001b[0m\u001b[0m\n\u001b[1;32m    634\u001b[0m       \u001b[0;32mif\u001b[0m \u001b[0;32mnot\u001b[0m \u001b[0mshape\u001b[0m\u001b[0;34m.\u001b[0m\u001b[0mis_compatible_with\u001b[0m\u001b[0;34m(\u001b[0m\u001b[0mfound_var\u001b[0m\u001b[0;34m.\u001b[0m\u001b[0mget_shape\u001b[0m\u001b[0;34m(\u001b[0m\u001b[0;34m)\u001b[0m\u001b[0;34m)\u001b[0m\u001b[0;34m:\u001b[0m\u001b[0;34m\u001b[0m\u001b[0m\n",
      "\u001b[0;31mValueError\u001b[0m: Variable RNN/BasicRNNCell/Linear/Matrix already exists, disallowed. Did you mean to set reuse=True in VarScope? Originally defined at:\n\n  File \"<ipython-input-4-9d4785a467af>\", line 12, in <module>\n    outputs, state = tf.nn.rnn(rnn_cell, X_split, state)\n  File \"/usr/local/lib/python2.7/dist-packages/IPython/core/interactiveshell.py\", line 2881, in run_code\n    exec(code_obj, self.user_global_ns, self.user_ns)\n  File \"/usr/local/lib/python2.7/dist-packages/IPython/core/interactiveshell.py\", line 2821, in run_ast_nodes\n    if self.run_code(code, result):\n"
     ]
    }
   ],
   "source": [
    "# Configuration\n",
    "char_vocab_size = len(char_dic)\n",
    "rnn_size = char_vocab_size  # 1 hot coding (one of 4)\n",
    "time_step_size = 4  # 'hell' -> predict 'ello'\n",
    "batch_size = 1  # one sample\n",
    "\n",
    "# RNN model\n",
    "rnn_cell = tf.nn.rnn_cell.BasicRNNCell(rnn_size)\n",
    "state = tf.zeros([batch_size, rnn_cell.state_size])\n",
    "print rnn_cell.state_size \n",
    "X_split = tf.split(0, time_step_size, x_data)\n",
    "print X_split\n",
    "outputs, state = tf.nn.rnn(rnn_cell, X_split, state)\n",
    "\n",
    "# logits: list of 2D Tensors of shape [batch_size x num_decoder_symbols]\n",
    "# targets: list of 1D batch-sized int32 Tensors of the same length as logits.\n",
    "# weights: list of 1D batch-sized float-Tensors of the same length as logits.\n",
    "logits = tf.reshape(tf.concat(1, outputs), [-1, rnn_size])\n",
    "targets = tf.reshape(sample[1:], [-1])\n",
    "weights = tf.ones([time_step_size * batch_size])\n",
    "\n",
    "loss = tf.nn.seq2seq.sequence_loss_by_example([logits], [targets], [weights])\n",
    "cost = tf.reduce_sum(loss) / batch_size\n",
    "train_op = tf.train.RMSPropOptimizer(0.01, 0.9).minimize(cost)"
   ]
  },
  {
   "cell_type": "code",
   "execution_count": 5,
   "metadata": {
    "collapsed": false
   },
   "outputs": [
    {
     "name": "stdout",
     "output_type": "stream",
     "text": [
      "[<tf.Tensor 'split_1:0' shape=(1, 4) dtype=float32>, <tf.Tensor 'split_1:1' shape=(1, 4) dtype=float32>, <tf.Tensor 'split_1:2' shape=(1, 4) dtype=float32>, <tf.Tensor 'split_1:3' shape=(1, 4) dtype=float32>]\n",
      "[<tf.Tensor 'RNN_1/MultiRNNCell/Cell1/BasicLSTMCell/mul_2:0' shape=(1, 4) dtype=float32>, <tf.Tensor 'RNN_1/MultiRNNCell_1/Cell1/BasicLSTMCell/mul_2:0' shape=(1, 4) dtype=float32>, <tf.Tensor 'RNN_1/MultiRNNCell_2/Cell1/BasicLSTMCell/mul_2:0' shape=(1, 4) dtype=float32>, <tf.Tensor 'RNN_1/MultiRNNCell_3/Cell1/BasicLSTMCell/mul_2:0' shape=(1, 4) dtype=float32>]\n",
      "Tensor(\"Reshape_2:0\", shape=(4, 4), dtype=float32)\n",
      "Tensor(\"Reshape_3:0\", shape=(4,), dtype=int32)\n"
     ]
    }
   ],
   "source": [
    "from tensorflow.python.framework import dtypes\n",
    "\n",
    "# Configuration\n",
    "char_vocab_size = len(char_dic)\n",
    "lstm_size = char_vocab_size  # 1 hot coding (one of 4)\n",
    "time_step_size = 4  # 'hell' -> predict 'ello'\n",
    "batch_size = 1  # one sample\n",
    "\n",
    "# LSTM\n",
    "lstm_cells = []\n",
    "lstm_cell1 = tf.nn.rnn_cell.BasicLSTMCell(lstm_size, state_is_tuple=True)\n",
    "lstm_cell2 = tf.nn.rnn_cell.BasicLSTMCell(lstm_size, state_is_tuple=True)\n",
    "lstm_cells.append(lstm_cell1)\n",
    "lstm_cells.append(lstm_cell2)\n",
    "stacked_lstm = tf.nn.rnn_cell.MultiRNNCell(lstm_cells, state_is_tuple=True)\n",
    "\n",
    "X_split = tf.split(0, time_step_size, x_data)\n",
    "print(X_split)\n",
    "outputs, states = tf.nn.rnn(stacked_lstm, X_split, dtype=dtypes.float32)\n",
    "print(outputs)\n",
    "\n",
    "logits = tf.reshape(tf.concat(1, outputs), [-1, lstm_size])\n",
    "print(logits)\n",
    "targets = tf.reshape(sample[1:], [-1])\n",
    "print(targets)\n",
    "weights = tf.ones([time_step_size * batch_size])\n",
    "\n",
    "loss = tf.nn.seq2seq.sequence_loss_by_example([logits], [targets], [weights])\n",
    "cost = tf.reduce_sum(loss) / batch_size\n",
    "train_op = tf.train.AdamOptimizer(0.01).minimize(cost)"
   ]
  },
  {
   "cell_type": "code",
   "execution_count": 14,
   "metadata": {
    "collapsed": false
   },
   "outputs": [
    {
     "name": "stdout",
     "output_type": "stream",
     "text": [
      "Tensor(\"Shape_15:0\", shape=(3,), dtype=int32)\n",
      "Tensor(\"Shape_16:0\", shape=(2,), dtype=int32)\n",
      "Tensor(\"Shape_17:0\", shape=(1,), dtype=int32)\n",
      "Tensor(\"Shape_18:0\", shape=(1,), dtype=int32)\n",
      "[1, 2, 2, 3]\n"
     ]
    }
   ],
   "source": [
    "# print(X_split)\n",
    "print(tf.shape(outputs))\n",
    "print tf.shape(logits)\n",
    "print tf.shape(weights)\n",
    "print tf.shape(targets)\n"
   ]
  },
  {
   "cell_type": "code",
   "execution_count": 5,
   "metadata": {
    "collapsed": false
   },
   "outputs": [
    {
     "name": "stdout",
     "output_type": "stream",
     "text": [
      "WARNING:tensorflow:From <ipython-input-5-9ca40c4392e6>:4 in <module>.: initialize_all_variables (from tensorflow.python.ops.variables) is deprecated and will be removed after 2017-03-02.\n",
      "Instructions for updating:\n",
      "Use `tf.global_variables_initializer` instead.\n",
      "array([2, 2, 2, 2]), ['l', 'l', 'l', 'l']\n",
      "array([2, 2, 2, 2]), ['l', 'l', 'l', 'l']\n",
      "array([2, 2, 2, 2]), ['l', 'l', 'l', 'l']\n",
      "array([2, 2, 2, 2]), ['l', 'l', 'l', 'l']\n",
      "array([2, 2, 2, 2]), ['l', 'l', 'l', 'l']\n",
      "array([2, 2, 2, 2]), ['l', 'l', 'l', 'l']\n",
      "array([2, 2, 2, 2]), ['l', 'l', 'l', 'l']\n",
      "array([2, 2, 2, 2]), ['l', 'l', 'l', 'l']\n",
      "array([2, 2, 2, 2]), ['l', 'l', 'l', 'l']\n",
      "array([2, 2, 2, 2]), ['l', 'l', 'l', 'l']\n",
      "array([2, 2, 2, 2]), ['l', 'l', 'l', 'l']\n",
      "array([2, 2, 2, 2]), ['l', 'l', 'l', 'l']\n",
      "array([2, 2, 2, 2]), ['l', 'l', 'l', 'l']\n",
      "array([2, 2, 2, 2]), ['l', 'l', 'l', 'l']\n",
      "array([2, 2, 2, 2]), ['l', 'l', 'l', 'l']\n",
      "array([2, 2, 2, 2]), ['l', 'l', 'l', 'l']\n",
      "array([2, 2, 2, 2]), ['l', 'l', 'l', 'l']\n",
      "array([2, 2, 2, 2]), ['l', 'l', 'l', 'l']\n",
      "array([2, 2, 2, 2]), ['l', 'l', 'l', 'l']\n",
      "array([2, 2, 2, 2]), ['l', 'l', 'l', 'l']\n",
      "array([2, 2, 2, 2]), ['l', 'l', 'l', 'l']\n",
      "array([2, 2, 2, 2]), ['l', 'l', 'l', 'l']\n",
      "array([2, 2, 2, 3]), ['l', 'l', 'l', 'o']\n",
      "array([2, 2, 2, 3]), ['l', 'l', 'l', 'o']\n",
      "array([2, 2, 2, 3]), ['l', 'l', 'l', 'o']\n",
      "array([2, 2, 2, 3]), ['l', 'l', 'l', 'o']\n",
      "array([2, 2, 2, 3]), ['l', 'l', 'l', 'o']\n",
      "array([2, 2, 2, 3]), ['l', 'l', 'l', 'o']\n",
      "array([2, 2, 2, 3]), ['l', 'l', 'l', 'o']\n",
      "array([2, 2, 2, 2]), ['l', 'l', 'l', 'l']\n",
      "array([2, 2, 2, 2]), ['l', 'l', 'l', 'l']\n",
      "array([2, 2, 2, 2]), ['l', 'l', 'l', 'l']\n",
      "array([2, 2, 2, 2]), ['l', 'l', 'l', 'l']\n",
      "array([2, 2, 2, 2]), ['l', 'l', 'l', 'l']\n",
      "array([2, 2, 2, 2]), ['l', 'l', 'l', 'l']\n",
      "array([2, 2, 2, 2]), ['l', 'l', 'l', 'l']\n",
      "array([2, 2, 2, 2]), ['l', 'l', 'l', 'l']\n",
      "array([2, 2, 2, 2]), ['l', 'l', 'l', 'l']\n",
      "array([2, 2, 2, 2]), ['l', 'l', 'l', 'l']\n",
      "array([2, 2, 2, 2]), ['l', 'l', 'l', 'l']\n",
      "array([2, 2, 2, 2]), ['l', 'l', 'l', 'l']\n",
      "array([2, 2, 2, 2]), ['l', 'l', 'l', 'l']\n",
      "array([2, 2, 2, 2]), ['l', 'l', 'l', 'l']\n",
      "array([2, 2, 2, 2]), ['l', 'l', 'l', 'l']\n",
      "array([2, 2, 2, 2]), ['l', 'l', 'l', 'l']\n",
      "array([2, 2, 2, 2]), ['l', 'l', 'l', 'l']\n",
      "array([2, 2, 2, 2]), ['l', 'l', 'l', 'l']\n",
      "array([2, 2, 2, 2]), ['l', 'l', 'l', 'l']\n",
      "array([2, 2, 2, 2]), ['l', 'l', 'l', 'l']\n",
      "array([2, 2, 2, 2]), ['l', 'l', 'l', 'l']\n",
      "array([2, 2, 2, 2]), ['l', 'l', 'l', 'l']\n",
      "array([2, 2, 2, 2]), ['l', 'l', 'l', 'l']\n",
      "array([2, 2, 2, 2]), ['l', 'l', 'l', 'l']\n",
      "array([2, 2, 2, 2]), ['l', 'l', 'l', 'l']\n",
      "array([2, 2, 2, 2]), ['l', 'l', 'l', 'l']\n",
      "array([2, 2, 2, 2]), ['l', 'l', 'l', 'l']\n",
      "array([2, 2, 2, 2]), ['l', 'l', 'l', 'l']\n",
      "array([2, 2, 2, 2]), ['l', 'l', 'l', 'l']\n",
      "array([2, 2, 2, 2]), ['l', 'l', 'l', 'l']\n",
      "array([2, 2, 2, 2]), ['l', 'l', 'l', 'l']\n",
      "array([2, 2, 2, 2]), ['l', 'l', 'l', 'l']\n",
      "array([2, 2, 2, 2]), ['l', 'l', 'l', 'l']\n",
      "array([2, 2, 2, 2]), ['l', 'l', 'l', 'l']\n",
      "array([2, 2, 2, 2]), ['l', 'l', 'l', 'l']\n",
      "array([2, 2, 2, 2]), ['l', 'l', 'l', 'l']\n",
      "array([2, 2, 2, 2]), ['l', 'l', 'l', 'l']\n",
      "array([2, 2, 2, 2]), ['l', 'l', 'l', 'l']\n",
      "array([2, 2, 2, 2]), ['l', 'l', 'l', 'l']\n",
      "array([2, 2, 2, 2]), ['l', 'l', 'l', 'l']\n",
      "array([2, 2, 2, 2]), ['l', 'l', 'l', 'l']\n",
      "array([2, 2, 2, 2]), ['l', 'l', 'l', 'l']\n",
      "array([2, 2, 2, 2]), ['l', 'l', 'l', 'l']\n",
      "array([2, 2, 2, 2]), ['l', 'l', 'l', 'l']\n",
      "array([2, 2, 2, 3]), ['l', 'l', 'l', 'o']\n",
      "array([2, 2, 2, 3]), ['l', 'l', 'l', 'o']\n",
      "array([2, 2, 2, 3]), ['l', 'l', 'l', 'o']\n",
      "array([2, 2, 2, 3]), ['l', 'l', 'l', 'o']\n",
      "array([2, 2, 2, 3]), ['l', 'l', 'l', 'o']\n",
      "array([2, 2, 2, 3]), ['l', 'l', 'l', 'o']\n",
      "array([2, 2, 2, 3]), ['l', 'l', 'l', 'o']\n",
      "array([2, 2, 2, 3]), ['l', 'l', 'l', 'o']\n",
      "array([2, 2, 2, 3]), ['l', 'l', 'l', 'o']\n",
      "array([2, 2, 2, 3]), ['l', 'l', 'l', 'o']\n",
      "array([2, 2, 2, 3]), ['l', 'l', 'l', 'o']\n",
      "array([2, 2, 2, 3]), ['l', 'l', 'l', 'o']\n",
      "array([2, 2, 2, 3]), ['l', 'l', 'l', 'o']\n",
      "array([2, 2, 2, 3]), ['l', 'l', 'l', 'o']\n",
      "array([2, 2, 2, 3]), ['l', 'l', 'l', 'o']\n",
      "array([2, 2, 2, 3]), ['l', 'l', 'l', 'o']\n",
      "array([2, 2, 2, 3]), ['l', 'l', 'l', 'o']\n",
      "array([2, 2, 2, 3]), ['l', 'l', 'l', 'o']\n",
      "array([2, 2, 2, 3]), ['l', 'l', 'l', 'o']\n",
      "array([2, 2, 2, 3]), ['l', 'l', 'l', 'o']\n",
      "array([2, 2, 2, 3]), ['l', 'l', 'l', 'o']\n",
      "array([2, 2, 2, 3]), ['l', 'l', 'l', 'o']\n",
      "array([2, 2, 2, 3]), ['l', 'l', 'l', 'o']\n",
      "array([2, 2, 2, 3]), ['l', 'l', 'l', 'o']\n",
      "array([2, 2, 2, 3]), ['l', 'l', 'l', 'o']\n",
      "array([2, 2, 2, 3]), ['l', 'l', 'l', 'o']\n",
      "array([2, 2, 2, 3]), ['l', 'l', 'l', 'o']\n",
      "array([2, 2, 2, 3]), ['l', 'l', 'l', 'o']\n",
      "array([2, 2, 2, 3]), ['l', 'l', 'l', 'o']\n",
      "array([2, 2, 2, 3]), ['l', 'l', 'l', 'o']\n",
      "array([2, 2, 2, 3]), ['l', 'l', 'l', 'o']\n",
      "array([2, 2, 2, 3]), ['l', 'l', 'l', 'o']\n",
      "array([2, 2, 2, 3]), ['l', 'l', 'l', 'o']\n",
      "array([2, 2, 2, 3]), ['l', 'l', 'l', 'o']\n",
      "array([2, 2, 2, 3]), ['l', 'l', 'l', 'o']\n",
      "array([1, 2, 2, 3]), ['e', 'l', 'l', 'o']\n",
      "array([1, 2, 2, 3]), ['e', 'l', 'l', 'o']\n",
      "array([1, 2, 2, 3]), ['e', 'l', 'l', 'o']\n",
      "array([1, 2, 2, 3]), ['e', 'l', 'l', 'o']\n",
      "array([1, 2, 2, 3]), ['e', 'l', 'l', 'o']\n",
      "array([1, 2, 2, 3]), ['e', 'l', 'l', 'o']\n",
      "array([1, 2, 2, 3]), ['e', 'l', 'l', 'o']\n",
      "array([1, 2, 2, 3]), ['e', 'l', 'l', 'o']\n",
      "array([1, 2, 2, 3]), ['e', 'l', 'l', 'o']\n",
      "array([1, 2, 2, 3]), ['e', 'l', 'l', 'o']\n",
      "array([1, 2, 2, 3]), ['e', 'l', 'l', 'o']\n",
      "array([1, 2, 2, 3]), ['e', 'l', 'l', 'o']\n",
      "array([1, 2, 2, 3]), ['e', 'l', 'l', 'o']\n",
      "array([1, 2, 2, 3]), ['e', 'l', 'l', 'o']\n",
      "array([1, 2, 2, 3]), ['e', 'l', 'l', 'o']\n",
      "array([1, 2, 2, 3]), ['e', 'l', 'l', 'o']\n",
      "array([1, 2, 2, 3]), ['e', 'l', 'l', 'o']\n",
      "array([1, 2, 2, 3]), ['e', 'l', 'l', 'o']\n",
      "array([1, 2, 2, 3]), ['e', 'l', 'l', 'o']\n",
      "array([1, 2, 2, 3]), ['e', 'l', 'l', 'o']\n",
      "array([1, 2, 2, 3]), ['e', 'l', 'l', 'o']\n",
      "array([1, 2, 2, 3]), ['e', 'l', 'l', 'o']\n",
      "array([1, 2, 2, 3]), ['e', 'l', 'l', 'o']\n",
      "array([1, 2, 2, 3]), ['e', 'l', 'l', 'o']\n",
      "array([1, 2, 2, 3]), ['e', 'l', 'l', 'o']\n",
      "array([1, 2, 2, 3]), ['e', 'l', 'l', 'o']\n",
      "array([1, 2, 2, 3]), ['e', 'l', 'l', 'o']\n",
      "array([1, 2, 2, 3]), ['e', 'l', 'l', 'o']\n",
      "array([1, 2, 2, 3]), ['e', 'l', 'l', 'o']\n",
      "array([1, 2, 2, 3]), ['e', 'l', 'l', 'o']\n",
      "array([1, 2, 2, 3]), ['e', 'l', 'l', 'o']\n",
      "array([1, 2, 2, 3]), ['e', 'l', 'l', 'o']\n",
      "array([1, 2, 2, 3]), ['e', 'l', 'l', 'o']\n",
      "array([1, 2, 2, 3]), ['e', 'l', 'l', 'o']\n",
      "array([1, 2, 2, 3]), ['e', 'l', 'l', 'o']\n",
      "array([1, 2, 2, 3]), ['e', 'l', 'l', 'o']\n",
      "array([1, 2, 2, 3]), ['e', 'l', 'l', 'o']\n",
      "array([1, 2, 2, 3]), ['e', 'l', 'l', 'o']\n",
      "array([1, 2, 2, 3]), ['e', 'l', 'l', 'o']\n",
      "array([1, 2, 2, 3]), ['e', 'l', 'l', 'o']\n",
      "array([1, 2, 2, 3]), ['e', 'l', 'l', 'o']\n",
      "array([1, 2, 2, 3]), ['e', 'l', 'l', 'o']\n",
      "array([1, 2, 2, 3]), ['e', 'l', 'l', 'o']\n",
      "array([1, 2, 2, 3]), ['e', 'l', 'l', 'o']\n",
      "array([1, 2, 2, 3]), ['e', 'l', 'l', 'o']\n",
      "array([1, 2, 2, 3]), ['e', 'l', 'l', 'o']\n",
      "array([1, 2, 2, 3]), ['e', 'l', 'l', 'o']\n",
      "array([1, 2, 2, 3]), ['e', 'l', 'l', 'o']\n",
      "array([1, 2, 2, 3]), ['e', 'l', 'l', 'o']\n",
      "array([1, 2, 2, 3]), ['e', 'l', 'l', 'o']\n",
      "array([1, 2, 2, 3]), ['e', 'l', 'l', 'o']\n",
      "array([1, 2, 2, 3]), ['e', 'l', 'l', 'o']\n",
      "array([1, 2, 2, 3]), ['e', 'l', 'l', 'o']\n",
      "array([1, 2, 2, 3]), ['e', 'l', 'l', 'o']\n",
      "array([1, 2, 2, 3]), ['e', 'l', 'l', 'o']\n",
      "array([1, 2, 2, 3]), ['e', 'l', 'l', 'o']\n",
      "array([1, 2, 2, 3]), ['e', 'l', 'l', 'o']\n",
      "array([1, 2, 2, 3]), ['e', 'l', 'l', 'o']\n",
      "array([1, 2, 2, 3]), ['e', 'l', 'l', 'o']\n",
      "array([1, 2, 2, 3]), ['e', 'l', 'l', 'o']\n",
      "array([1, 2, 2, 3]), ['e', 'l', 'l', 'o']\n",
      "array([1, 2, 2, 3]), ['e', 'l', 'l', 'o']\n",
      "array([1, 2, 2, 3]), ['e', 'l', 'l', 'o']\n",
      "array([1, 2, 2, 3]), ['e', 'l', 'l', 'o']\n",
      "array([1, 2, 2, 3]), ['e', 'l', 'l', 'o']\n",
      "array([1, 2, 2, 3]), ['e', 'l', 'l', 'o']\n",
      "array([1, 2, 2, 3]), ['e', 'l', 'l', 'o']\n",
      "array([1, 2, 2, 3]), ['e', 'l', 'l', 'o']\n",
      "array([1, 2, 2, 3]), ['e', 'l', 'l', 'o']\n",
      "array([1, 2, 2, 3]), ['e', 'l', 'l', 'o']\n",
      "array([1, 2, 2, 3]), ['e', 'l', 'l', 'o']\n",
      "array([1, 2, 2, 3]), ['e', 'l', 'l', 'o']\n",
      "array([1, 2, 2, 3]), ['e', 'l', 'l', 'o']\n",
      "array([1, 2, 2, 3]), ['e', 'l', 'l', 'o']\n",
      "array([1, 2, 2, 3]), ['e', 'l', 'l', 'o']\n",
      "array([1, 2, 2, 3]), ['e', 'l', 'l', 'o']\n",
      "array([1, 2, 2, 3]), ['e', 'l', 'l', 'o']\n",
      "array([1, 2, 2, 3]), ['e', 'l', 'l', 'o']\n",
      "array([1, 2, 2, 3]), ['e', 'l', 'l', 'o']\n",
      "array([1, 2, 2, 3]), ['e', 'l', 'l', 'o']\n",
      "array([1, 2, 2, 3]), ['e', 'l', 'l', 'o']\n",
      "array([1, 2, 2, 3]), ['e', 'l', 'l', 'o']\n",
      "array([1, 2, 2, 3]), ['e', 'l', 'l', 'o']\n",
      "array([1, 2, 2, 3]), ['e', 'l', 'l', 'o']\n",
      "array([1, 2, 2, 3]), ['e', 'l', 'l', 'o']\n",
      "array([1, 2, 2, 3]), ['e', 'l', 'l', 'o']\n",
      "array([1, 2, 2, 3]), ['e', 'l', 'l', 'o']\n",
      "array([1, 2, 2, 3]), ['e', 'l', 'l', 'o']\n",
      "array([1, 2, 2, 3]), ['e', 'l', 'l', 'o']\n",
      "array([1, 2, 2, 3]), ['e', 'l', 'l', 'o']\n",
      "array([1, 2, 2, 3]), ['e', 'l', 'l', 'o']\n",
      "array([1, 2, 2, 3]), ['e', 'l', 'l', 'o']\n"
     ]
    }
   ],
   "source": [
    "# Launch the graph in a session\n",
    "with tf.Session() as sess:\n",
    "    # you need to initialize all variables\n",
    "    tf.initialize_all_variables().run()\n",
    "    for i in range(200):\n",
    "        sess.run(train_op)\n",
    "        result = sess.run(tf.arg_max(logits, 1))\n",
    "        print(\"%r, %r\" % (result, [char_rdic[t] for t in result]))"
   ]
  }
 ],
 "metadata": {
  "kernelspec": {
   "display_name": "Python 2",
   "language": "python",
   "name": "python2"
  },
  "language_info": {
   "codemirror_mode": {
    "name": "ipython",
    "version": 2
   },
   "file_extension": ".py",
   "mimetype": "text/x-python",
   "name": "python",
   "nbconvert_exporter": "python",
   "pygments_lexer": "ipython2",
   "version": "2.7.12"
  }
 },
 "nbformat": 4,
 "nbformat_minor": 0
}
