{
 "cells": [
  {
   "cell_type": "markdown",
   "metadata": {},
   "source": [
    "현재는 UTF-8 이 표준이 되었지만, 가끔 오래된 서버들은 아직 EUC-KR을 기본 인코딩으로 사용하는 경우가 많이 있습니다.\n",
    "\n",
    "이 경우 EUC-KR 또는 CP949 등의 예전 한글 인코딩 방식을 가지고 있는 서버에서 생성된 파일을 UTF-8 인코딩 기반 시스템에서 볼 경우 파일내 한글이 깨져 보이게 됩니다.\n",
    "\n",
    "<!-- TEASER_END -->"
   ]
  },
  {
   "cell_type": "markdown",
   "metadata": {},
   "source": [
    "이럴 때는 iconv 명령을 통하여 파일의 인코딩을 UTF-8 기반으로 설정할 수 있습니다.\n",
    "\n",
    "아래는 euc-kr 로 인코딩된 euc-kr.txt 파일을 utf-8 인코딩하여 utf-8.txt 파일로 저장하는 예제 입니다.\n",
    "\n",
    "```bash\n",
    "> iconv -c -f euc-kr t utf-8 euc-kr.txt > utf-8.txt\n",
    "```\n",
    "\n",
    "만약 파일이 인코딩된 방식을 알지 못한다면 file 명령으로 확인해 볼 수 있습니다. euc-kr 은 euc-kr 또는 iso-8859-1 로 나옵니다.\n",
    "\n",
    "```bash\n",
    "> file -bi euc-kr.txt\n",
    "text/plain; charset=iso-8859-1\n",
    "```\n"
   ]
  }
 ],
 "metadata": {
  "kernelspec": {
   "display_name": "Python 3",
   "language": "python",
   "name": "python3"
  },
  "language_info": {
   "codemirror_mode": {
    "name": "ipython",
    "version": 3
   },
   "file_extension": ".py",
   "mimetype": "text/x-python",
   "name": "python",
   "nbconvert_exporter": "python",
   "pygments_lexer": "ipython3",
   "version": "3.6.8"
  },
  "nikola": {
   "category": "",
   "date": "2019-08-17",
   "description": "",
   "link": "",
   "slug": "2019-iconv",
   "tags": "",
   "title": "iconv로 파일 인코딩 변환",
   "type": "text"
  },
  "toc": {
   "base_numbering": 1,
   "nav_menu": {},
   "number_sections": true,
   "sideBar": true,
   "skip_h1_title": false,
   "title_cell": "Table of Contents",
   "title_sidebar": "Contents",
   "toc_cell": false,
   "toc_position": {},
   "toc_section_display": true,
   "toc_window_display": false
  }
 },
 "nbformat": 4,
 "nbformat_minor": 4
}
