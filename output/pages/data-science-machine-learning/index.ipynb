{
 "cells": [
  {
   "cell_type": "markdown",
   "metadata": {
    "nikola": {
     "category": "",
     "date": "2019-02-10",
     "description": "",
     "link": "",
     "slug": "data-science-cookbook",
     "tags": "",
     "title": "Data Science Cookbook",
     "type": "text"
    }
   },
   "source": [
    "# Data Science - Machine Learning\n",
    "\n",
    "데이터 사이언스 - 머신러닝 관련 주요 예제들을 공유하는 공간입니다.\n",
    "\n",
    "\n",
    "## Data Preparation (EDA(탐색적 자료 분석, Exploratory Data Analysis))\n",
    "\n",
    "* [Data Description(데이터 서술)](https://comafire.github.io/pages/ml-data-description)\n",
    "* [Missing Value(결측치)](https://comafire.github.io/pages/ml-missing-value)  \n",
    "* [Descriptive Statistics(기술적 통계)](https://comafire.github.io/pages/ml-descriptive-statistics)\n",
    "* [Outlier(단변량 이상치)](https://comafire.github.io/pages/ml-outlier)\n",
    "* [Feature Selection(특징선택)](https://comafire.github.io/pages/ml-feature-selection)\n",
    "* [Feature Extraction(특징추출)](https://comafire.github.io/pages/ml-feature-extraction)\n",
    "* [Feature Transformation(특징변환)](https://comafire.github.io/pages/ml-feature-transformation)\n",
    "  \n",
    " \n",
    "## Model\n",
    "* Record Data\n",
    "  * Supervised Learning(지도학습)\n",
    "    * Regression(회귀)\n",
    "      * [Linear Regression](https://comafire.github.io/pages/ml-linear-regression)\n",
    "      * [Polynomial Regression](https://comafire.github.io/pages/ml-polynomial-regression)\n",
    "      * [SVM Regression](https://comafire.github.io/pages/ml-svm-regression)\n",
    "      * [Ensemble Regression](https://comafire.github.io/pages/ml-ensemble-regression)\n",
    "      * [DNN Regression](https://comafire.github.io/pages/ml-dnn-regression)\n",
    "    * Classification(분류)\n",
    "      * [Logistic Regression](https://comafire.github.io/pages/ml-logistic-regression)\n",
    "      * [SGD Classification](https://comafire.github.io/pages/ml-sgd-classification)\n",
    "      * [SVM Classification](https://comafire.github.io/pages/ml-svm-classification)\n",
    "      * [Ensemble Classification](https://comafire.github.io/pages/ml-ensemble-classification)\n",
    "      * [DNN Classification](https://comafire.github.io/pages/ml-dnn-classification)      \n",
    "  * Unsupervised Learning(비지도학습)\n",
    "    * Clustering(군집)\n",
    "      * [K-Means Clustering](https://comafire.github.io/pages/ml-kmeans)\n",
    "      * [Mean Shift Clustering](https://comafire.github.io/pages/ml-mean-shift)\n",
    "      * [Spectral Clustering](https://comafire.github.io/pages/ml-spectral-clustering)      \n",
    "      * [Anomaly Detection(다변량 이상치)](https://comafire.github.io/pages/ml-anomaly-detection)\n",
    "* Recommendation(추천)   \n",
    "  * [Collaborative Filtering(협업필터링)](https://comafire.github.io/pages/ml-collaborative-filtering)\n",
    "    \n",
    "* Graph-based Data\n",
    "* Ordered Data\n",
    "\n",
    "\n",
    "## Learning\n",
    "  * [Imbalanced Class(불균형 클래스)](https://comafire.github.io/pages/ml-imbalanced-class)\n",
    "  * [Split Train/Valid/Test(학습을 위한 데이터 준비)](https://comafire.github.io/pages/ml-split-train-test)\n",
    "  * [Model Persistence](https://comafire.github.io/pages/ml-model-persistence)  \n",
    "  * Tansfer Learning\n",
    "\n",
    "\n",
    "## Evaluation\n",
    "  * [Regressioin](https://comafire.github.io/pages/ml-eval-regression)\n",
    "  * [Classification](https://comafire.github.io/pages/ml-eval-classification)\n",
    "  * [Clustering](https://comafire.github.io/pages/ml-eval-clustering)\n",
    "\n",
    "\n",
    "## 주요 라이브러리\n",
    "  * DeepLearning\n",
    "    * Keras\n",
    "      * [Keras 10분만에 흝어보기](https://comafire.github.io/pages/ml-keras-10mins)"
   ]
  },
  {
   "cell_type": "code",
   "execution_count": null,
   "metadata": {},
   "outputs": [],
   "source": []
  }
 ],
 "metadata": {
  "kernelspec": {
   "display_name": "Python 3",
   "language": "python",
   "name": "python3"
  },
  "language_info": {
   "codemirror_mode": {
    "name": "ipython",
    "version": 3
   },
   "file_extension": ".py",
   "mimetype": "text/x-python",
   "name": "python",
   "nbconvert_exporter": "python",
   "pygments_lexer": "ipython3",
   "version": "3.5.2"
  },
  "nikola": {
   "category": "",
   "date": "2019-02-10",
   "description": "",
   "link": "",
   "slug": "data-science-machine-learning",
   "tags": "",
   "title": "Data Science - Machine Learning",
   "type": "text"
  },
  "toc": {
   "base_numbering": 1,
   "nav_menu": {},
   "number_sections": true,
   "sideBar": true,
   "skip_h1_title": false,
   "title_cell": "Table of Contents",
   "title_sidebar": "Contents",
   "toc_cell": false,
   "toc_position": {},
   "toc_section_display": true,
   "toc_window_display": false
  }
 },
 "nbformat": 4,
 "nbformat_minor": 2
}
