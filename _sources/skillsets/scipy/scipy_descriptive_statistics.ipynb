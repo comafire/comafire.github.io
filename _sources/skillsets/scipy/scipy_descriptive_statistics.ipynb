{
 "cells": [
  {
   "cell_type": "markdown",
   "metadata": {},
   "source": [
    "# Descriptive Statistcs\n",
    "\n",
    "기술 통계 "
   ]
  },
  {
   "cell_type": "code",
   "execution_count": 1,
   "metadata": {},
   "outputs": [
    {
     "data": {
      "text/html": [
       "<style>.container { width:100% !important; }</style>"
      ],
      "text/plain": [
       "<IPython.core.display.HTML object>"
      ]
     },
     "metadata": {},
     "output_type": "display_data"
    },
    {
     "name": "stdout",
     "output_type": "stream",
     "text": [
      "python ver=3.8.9 (default, Jun 27 2021, 02:41:12) \n",
      "[GCC 7.5.0]\n",
      "pandas ver=1.2.5\n",
      "numpy ver=1.19.5\n",
      "scipy ver=1.6.3\n"
     ]
    }
   ],
   "source": [
    "# 경고 메시지 출력 끄기\n",
    "import warnings \n",
    "warnings.filterwarnings(action='ignore')\n",
    "\n",
    "# 노트북 셀 표시를 브라우저 전체 폭 사용하기\n",
    "from IPython.core.display import display, HTML\n",
    "display(HTML(\"<style>.container { width:100% !important; }</style>\"))\n",
    "from IPython.display import clear_output\n",
    "\n",
    "%matplotlib inline\n",
    "import matplotlib.pyplot as plt\n",
    "\n",
    "import os, sys, shutil, functools\n",
    "import collections, pathlib, re, string\n",
    "\n",
    "rseed = 22\n",
    "import random\n",
    "random.seed(rseed)\n",
    "\n",
    "import numpy as np\n",
    "np.random.seed(rseed)\n",
    "np.set_printoptions(precision=5)\n",
    "np.set_printoptions(formatter={'float_kind': \"{:.5f}\".format})\n",
    "\n",
    "import pandas as pd\n",
    "pd.set_option('display.max_rows', None) \n",
    "pd.set_option('display.max_columns', None) \n",
    "pd.set_option('display.max_colwidth', None)\n",
    "pd.options.display.float_format = '{:,.5f}'.format\n",
    "\n",
    "import scipy as sp\n",
    "\n",
    "import seaborn as sns\n",
    "\n",
    "from pydataset import data\n",
    "\n",
    "print(f\"python ver={sys.version}\")\n",
    "print(f\"pandas ver={pd.__version__}\")\n",
    "print(f\"numpy ver={np.__version__}\")\n",
    "print(f\"scipy ver={sp.__version__}\")"
   ]
  },
  {
   "cell_type": "code",
   "execution_count": 2,
   "metadata": {},
   "outputs": [
    {
     "name": "stdout",
     "output_type": "stream",
     "text": [
      "<class 'pandas.core.frame.DataFrame'>\n",
      "Int64Index: 150 entries, 1 to 150\n",
      "Data columns (total 5 columns):\n",
      " #   Column        Non-Null Count  Dtype  \n",
      "---  ------        --------------  -----  \n",
      " 0   Sepal.Length  150 non-null    float64\n",
      " 1   Sepal.Width   150 non-null    float64\n",
      " 2   Petal.Length  150 non-null    float64\n",
      " 3   Petal.Width   150 non-null    float64\n",
      " 4   Species       150 non-null    object \n",
      "dtypes: float64(4), object(1)\n",
      "memory usage: 7.0+ KB\n"
     ]
    }
   ],
   "source": [
    "# Iris 데이터 셋의 컬럼 정보 살피기\n",
    "df_iris = data('iris')\n",
    "df_iris.info()"
   ]
  },
  {
   "cell_type": "code",
   "execution_count": 3,
   "metadata": {},
   "outputs": [
    {
     "data": {
      "text/html": [
       "<div>\n",
       "<style scoped>\n",
       "    .dataframe tbody tr th:only-of-type {\n",
       "        vertical-align: middle;\n",
       "    }\n",
       "\n",
       "    .dataframe tbody tr th {\n",
       "        vertical-align: top;\n",
       "    }\n",
       "\n",
       "    .dataframe thead th {\n",
       "        text-align: right;\n",
       "    }\n",
       "</style>\n",
       "<table border=\"1\" class=\"dataframe\">\n",
       "  <thead>\n",
       "    <tr style=\"text-align: right;\">\n",
       "      <th></th>\n",
       "      <th>Sepal.Length</th>\n",
       "      <th>Sepal.Width</th>\n",
       "      <th>Petal.Length</th>\n",
       "      <th>Petal.Width</th>\n",
       "      <th>Species</th>\n",
       "    </tr>\n",
       "  </thead>\n",
       "  <tbody>\n",
       "    <tr>\n",
       "      <th>1</th>\n",
       "      <td>5.10000</td>\n",
       "      <td>3.50000</td>\n",
       "      <td>1.40000</td>\n",
       "      <td>0.20000</td>\n",
       "      <td>setosa</td>\n",
       "    </tr>\n",
       "    <tr>\n",
       "      <th>2</th>\n",
       "      <td>4.90000</td>\n",
       "      <td>3.00000</td>\n",
       "      <td>1.40000</td>\n",
       "      <td>0.20000</td>\n",
       "      <td>setosa</td>\n",
       "    </tr>\n",
       "    <tr>\n",
       "      <th>3</th>\n",
       "      <td>4.70000</td>\n",
       "      <td>3.20000</td>\n",
       "      <td>1.30000</td>\n",
       "      <td>0.20000</td>\n",
       "      <td>setosa</td>\n",
       "    </tr>\n",
       "    <tr>\n",
       "      <th>4</th>\n",
       "      <td>4.60000</td>\n",
       "      <td>3.10000</td>\n",
       "      <td>1.50000</td>\n",
       "      <td>0.20000</td>\n",
       "      <td>setosa</td>\n",
       "    </tr>\n",
       "    <tr>\n",
       "      <th>5</th>\n",
       "      <td>5.00000</td>\n",
       "      <td>3.60000</td>\n",
       "      <td>1.40000</td>\n",
       "      <td>0.20000</td>\n",
       "      <td>setosa</td>\n",
       "    </tr>\n",
       "  </tbody>\n",
       "</table>\n",
       "</div>"
      ],
      "text/plain": [
       "   Sepal.Length  Sepal.Width  Petal.Length  Petal.Width Species\n",
       "1       5.10000      3.50000       1.40000      0.20000  setosa\n",
       "2       4.90000      3.00000       1.40000      0.20000  setosa\n",
       "3       4.70000      3.20000       1.30000      0.20000  setosa\n",
       "4       4.60000      3.10000       1.50000      0.20000  setosa\n",
       "5       5.00000      3.60000       1.40000      0.20000  setosa"
      ]
     },
     "execution_count": 3,
     "metadata": {},
     "output_type": "execute_result"
    }
   ],
   "source": [
    "df_iris.head()"
   ]
  },
  {
   "cell_type": "code",
   "execution_count": 4,
   "metadata": {},
   "outputs": [
    {
     "data": {
      "text/html": [
       "<div>\n",
       "<style scoped>\n",
       "    .dataframe tbody tr th:only-of-type {\n",
       "        vertical-align: middle;\n",
       "    }\n",
       "\n",
       "    .dataframe tbody tr th {\n",
       "        vertical-align: top;\n",
       "    }\n",
       "\n",
       "    .dataframe thead th {\n",
       "        text-align: right;\n",
       "    }\n",
       "</style>\n",
       "<table border=\"1\" class=\"dataframe\">\n",
       "  <thead>\n",
       "    <tr style=\"text-align: right;\">\n",
       "      <th></th>\n",
       "      <th>Sepal.Length</th>\n",
       "      <th>Sepal.Width</th>\n",
       "      <th>Petal.Length</th>\n",
       "      <th>Petal.Width</th>\n",
       "      <th>Species</th>\n",
       "    </tr>\n",
       "  </thead>\n",
       "  <tbody>\n",
       "    <tr>\n",
       "      <th>count</th>\n",
       "      <td>150.00000</td>\n",
       "      <td>150.00000</td>\n",
       "      <td>150.00000</td>\n",
       "      <td>150.00000</td>\n",
       "      <td>150</td>\n",
       "    </tr>\n",
       "    <tr>\n",
       "      <th>unique</th>\n",
       "      <td>NaN</td>\n",
       "      <td>NaN</td>\n",
       "      <td>NaN</td>\n",
       "      <td>NaN</td>\n",
       "      <td>3</td>\n",
       "    </tr>\n",
       "    <tr>\n",
       "      <th>top</th>\n",
       "      <td>NaN</td>\n",
       "      <td>NaN</td>\n",
       "      <td>NaN</td>\n",
       "      <td>NaN</td>\n",
       "      <td>virginica</td>\n",
       "    </tr>\n",
       "    <tr>\n",
       "      <th>freq</th>\n",
       "      <td>NaN</td>\n",
       "      <td>NaN</td>\n",
       "      <td>NaN</td>\n",
       "      <td>NaN</td>\n",
       "      <td>50</td>\n",
       "    </tr>\n",
       "    <tr>\n",
       "      <th>mean</th>\n",
       "      <td>5.84333</td>\n",
       "      <td>3.05733</td>\n",
       "      <td>3.75800</td>\n",
       "      <td>1.19933</td>\n",
       "      <td>NaN</td>\n",
       "    </tr>\n",
       "    <tr>\n",
       "      <th>std</th>\n",
       "      <td>0.82807</td>\n",
       "      <td>0.43587</td>\n",
       "      <td>1.76530</td>\n",
       "      <td>0.76224</td>\n",
       "      <td>NaN</td>\n",
       "    </tr>\n",
       "    <tr>\n",
       "      <th>min</th>\n",
       "      <td>4.30000</td>\n",
       "      <td>2.00000</td>\n",
       "      <td>1.00000</td>\n",
       "      <td>0.10000</td>\n",
       "      <td>NaN</td>\n",
       "    </tr>\n",
       "    <tr>\n",
       "      <th>25%</th>\n",
       "      <td>5.10000</td>\n",
       "      <td>2.80000</td>\n",
       "      <td>1.60000</td>\n",
       "      <td>0.30000</td>\n",
       "      <td>NaN</td>\n",
       "    </tr>\n",
       "    <tr>\n",
       "      <th>50%</th>\n",
       "      <td>5.80000</td>\n",
       "      <td>3.00000</td>\n",
       "      <td>4.35000</td>\n",
       "      <td>1.30000</td>\n",
       "      <td>NaN</td>\n",
       "    </tr>\n",
       "    <tr>\n",
       "      <th>75%</th>\n",
       "      <td>6.40000</td>\n",
       "      <td>3.30000</td>\n",
       "      <td>5.10000</td>\n",
       "      <td>1.80000</td>\n",
       "      <td>NaN</td>\n",
       "    </tr>\n",
       "    <tr>\n",
       "      <th>max</th>\n",
       "      <td>7.90000</td>\n",
       "      <td>4.40000</td>\n",
       "      <td>6.90000</td>\n",
       "      <td>2.50000</td>\n",
       "      <td>NaN</td>\n",
       "    </tr>\n",
       "  </tbody>\n",
       "</table>\n",
       "</div>"
      ],
      "text/plain": [
       "        Sepal.Length  Sepal.Width  Petal.Length  Petal.Width    Species\n",
       "count      150.00000    150.00000     150.00000    150.00000        150\n",
       "unique           NaN          NaN           NaN          NaN          3\n",
       "top              NaN          NaN           NaN          NaN  virginica\n",
       "freq             NaN          NaN           NaN          NaN         50\n",
       "mean         5.84333      3.05733       3.75800      1.19933        NaN\n",
       "std          0.82807      0.43587       1.76530      0.76224        NaN\n",
       "min          4.30000      2.00000       1.00000      0.10000        NaN\n",
       "25%          5.10000      2.80000       1.60000      0.30000        NaN\n",
       "50%          5.80000      3.00000       4.35000      1.30000        NaN\n",
       "75%          6.40000      3.30000       5.10000      1.80000        NaN\n",
       "max          7.90000      4.40000       6.90000      2.50000        NaN"
      ]
     },
     "execution_count": 4,
     "metadata": {},
     "output_type": "execute_result"
    }
   ],
   "source": [
    "# describe()을 통한 대략적인 데이터의 통계량 알아보기\n",
    "df_iris.describe(include='all')"
   ]
  },
  {
   "cell_type": "markdown",
   "metadata": {},
   "source": [
    "## 대표값\n",
    "\n",
    "데이터 분석을 위해서 데이터 특성을 이해하기 위해서는 데이터의 특성을 나타내는 몇몇 통계량을 구해봄으로써 데이터를 전체적으로 빠르게 파악해 볼수 있습니다.\n",
    "\n",
    "일반적으로 많이 쓰이는 대표값은 평균값(Average), 중앙값(Median), 최빈값(Mode) 입니다.\n",
    "\n",
    "* 평균값: 평균의 데이터의 중심을 나타내는 대표값으로 사용됩니다. 평균의 종류에는 산술평균, 가중평균, 조화평균, 기하평균 등 많은 평균의 종류가 있지만 간단하게 산술평균을 많이 사용합니다.\n",
    "* 중앙값: 중앙값은 데이터를 작은 순서로 나열했을때 중앙에 위치하는 값입니다. 데이터에 이상치(큰 값)가 포함되어 있더라도 강건(Robust, 값이 크게 흔들리지 않음)합니다. 데이터의 갯수가 짝수일 경우 중앙 값은 중앙 두 데이터의 평균을 사용합니다.  \n",
    "* 최빈값: 데이터를 계층으로 나누어 빈도수를 측정하였을때 그 빈도수가 가장 많은 값입니다. \n",
    "\n",
    "만약, 데이터에 이상치가 포함되어 있지 않고, 데이터의 분포가 치우치지 않았다면, 평균값, 중앙값, 최빈값 모두는 비슷한 위치에 존재하게 됩니다. 이때는 통계적으로 다루기 쉬운 평균값을 대표값으로 사용하는 것이 일반 적입니다.\n",
    "\n",
    "데이터가 이상치를 포함하고 있다면 평균값은 이상치에 민감하기 때문에 3가지 대표값이 서로 다룬 위치에 존재하게 됩니다. 이 경우 데이터의 도메인 특성에 따라 이상치를 제거하는 등의 방법을 통해 평균을 대표값으로 사용할 수 있습니다.\n",
    "\n",
    "![](https://i0.wp.com/upload.wikimedia.org/wikipedia/commons/c/cc/Relationship_between_mean_and_median_under_different_skewness.png?w=578&ssl=1)\n",
    "\n",
    "https://www.r-bloggers.com/2020/11/skewness-and-kurtosis-in-statistics/\n",
    "\n",
    "@최빈값의 활용: 과거 대칭방식의 암호해독시에 문서상에서 나타나는 알파벳의 최빈값과 암호화된 알파멧의 최빈값을 비교하여 해독의 기준점으로 많이 사용하였다고 합니다.  "
   ]
  },
  {
   "cell_type": "code",
   "execution_count": 5,
   "metadata": {},
   "outputs": [
    {
     "data": {
      "text/plain": [
       "Sepal.Length   5.84333\n",
       "Sepal.Width    3.05733\n",
       "Petal.Length   3.75800\n",
       "Petal.Width    1.19933\n",
       "dtype: float64"
      ]
     },
     "execution_count": 5,
     "metadata": {},
     "output_type": "execute_result"
    }
   ],
   "source": [
    "# 평균값\n",
    "df_iris.mean()"
   ]
  },
  {
   "cell_type": "code",
   "execution_count": 6,
   "metadata": {},
   "outputs": [
    {
     "data": {
      "text/plain": [
       "Sepal.Length   5.80000\n",
       "Sepal.Width    3.00000\n",
       "Petal.Length   4.35000\n",
       "Petal.Width    1.30000\n",
       "dtype: float64"
      ]
     },
     "execution_count": 6,
     "metadata": {},
     "output_type": "execute_result"
    }
   ],
   "source": [
    "# 중앙값\n",
    "df_iris.median()"
   ]
  },
  {
   "cell_type": "code",
   "execution_count": 7,
   "metadata": {},
   "outputs": [
    {
     "data": {
      "text/html": [
       "<div>\n",
       "<style scoped>\n",
       "    .dataframe tbody tr th:only-of-type {\n",
       "        vertical-align: middle;\n",
       "    }\n",
       "\n",
       "    .dataframe tbody tr th {\n",
       "        vertical-align: top;\n",
       "    }\n",
       "\n",
       "    .dataframe thead th {\n",
       "        text-align: right;\n",
       "    }\n",
       "</style>\n",
       "<table border=\"1\" class=\"dataframe\">\n",
       "  <thead>\n",
       "    <tr style=\"text-align: right;\">\n",
       "      <th></th>\n",
       "      <th>Sepal.Length</th>\n",
       "      <th>Sepal.Width</th>\n",
       "      <th>Petal.Length</th>\n",
       "      <th>Petal.Width</th>\n",
       "      <th>Species</th>\n",
       "    </tr>\n",
       "  </thead>\n",
       "  <tbody>\n",
       "    <tr>\n",
       "      <th>0</th>\n",
       "      <td>5.00000</td>\n",
       "      <td>3.00000</td>\n",
       "      <td>1.40000</td>\n",
       "      <td>0.20000</td>\n",
       "      <td>setosa</td>\n",
       "    </tr>\n",
       "    <tr>\n",
       "      <th>1</th>\n",
       "      <td>NaN</td>\n",
       "      <td>NaN</td>\n",
       "      <td>1.50000</td>\n",
       "      <td>NaN</td>\n",
       "      <td>versicolor</td>\n",
       "    </tr>\n",
       "    <tr>\n",
       "      <th>2</th>\n",
       "      <td>NaN</td>\n",
       "      <td>NaN</td>\n",
       "      <td>NaN</td>\n",
       "      <td>NaN</td>\n",
       "      <td>virginica</td>\n",
       "    </tr>\n",
       "  </tbody>\n",
       "</table>\n",
       "</div>"
      ],
      "text/plain": [
       "   Sepal.Length  Sepal.Width  Petal.Length  Petal.Width     Species\n",
       "0       5.00000      3.00000       1.40000      0.20000      setosa\n",
       "1           NaN          NaN       1.50000          NaN  versicolor\n",
       "2           NaN          NaN           NaN          NaN   virginica"
      ]
     },
     "execution_count": 7,
     "metadata": {},
     "output_type": "execute_result"
    }
   ],
   "source": [
    "# 최빈값\n",
    "df_iris.mode()"
   ]
  },
  {
   "cell_type": "markdown",
   "metadata": {},
   "source": [
    "**여러가지 평균**\n",
    "\n",
    "산술평균\n",
    "\n",
    "기하평균\n",
    "\n",
    "조화평균\n"
   ]
  },
  {
   "cell_type": "markdown",
   "metadata": {},
   "source": [
    "## 데이터의 분산\n",
    "\n",
    "**산포도(Dispersion)**\n",
    "\n",
    "산포도는 데이터의 흩어짐 정도를 나타냅니다. 같은 데이터의 대표값을 가지더라도 데이터의 산포도는 다를 수 있기 때문에 대표값과 더불어 데이터의 특성을 파악하는데 중요하게 사용됩니다. \n",
    "\n",
    "### 사분위수(Quartile)\n",
    "\n",
    "데이터를 정렬하면 최소값(Min), 최대값(Max), 범위(Range)를 알 수 있으며 대표 값 중에 하나인 중앙값(Median)을 통해 데이터 범위 내에 주요 데이터들의 위치를 알 수 있습니다.\n",
    "\n",
    "데이터의 분포를 파악하기 위해 데이터를 4등분하여 보는 것은 의미가 있기 때문에 데이터를 4등분하여 나타낸 것을 사분위수(Quartile)라고 합니다. 여기서 각 4등분 위치를 1사분위수(Q1), 2사분위수(Q2=중앙값), 3사분위수(Q3)로 나타내며 1사분위수에서 3사분위수까지를 사분범위(Interquartile Range)라고 합니다. \n",
    "\n",
    "숫자로는 직관적으로 분포를 파악하기 힘들기 때문에 상자수염그림(Boxplot)을 사용하여 시각화하여 판단합니다. \n",
    "\n",
    "**이상치(Outlier)**\n",
    "\n",
    "통계적 의미에서 이상치는 데이터의 분포에서 상당히 벗어난 값을 의미 합니다. 이 값은 비정상 적인 값일 수도 있지만, 새로운 관측치일 수도 있습니다. 이 부분에 대한 판단은 자신이 분석하고 있는 데이터의 도메인 특성에 상당히 종속됩니다. \n",
    "\n",
    "따라서, 이상치는 데이터를 모델링 하는데 있어 주로 하는 가정이 해당 데이터는 특정 분포를 따른다는 가정이기 때문에, 이상치를 포함한 데이터를 통한 모델링은 이상치에 강건한 모델링 방법이 아니라면 안좋은 영향을 주게 될수도 있지만, 다른 도메인에서 이상치는 가정한 정상 분포를 벗어나는 새로운 데이터이기 때문에 제거해야 할 대상이 아닌 탐지해야 할 대상이 될 수 도 있습니다. \n",
    "\n",
    "자신이 풀고자하는 문제 정의에 맞게 데이터에서 이상치를 제거하고 결측치로 생각하여 삭제 할지, 다른 값으로 채워 넣을지, 아니면 탐지하여 알람을 보낼지 선택하면 됩니다.\n",
    "\n",
    "이상치를 탐지하는 방법은 크게 이상치가 단변량(Univariate)이냐, 다변량(Multivariate)이냐에 따라 방법이 달라지게 됩니다.\n",
    "\n",
    "* 단변량 이상탐지는 값들이 1차원 상에 분포하기 때문에 주로 분포를 가정한 통계적 방법이 사용됩니다.\n",
    "  * Z-score\n",
    "  * Tukey Outlier\n",
    "* 다변량 이상탐지는 2차원 이상에 분포하기 때문에 주로 벡터 거리 기반 또는 트리 방법을 통한 클러스터링 방법이 주로 사용됩니다.\n",
    "  * DBScan Clustering\n",
    "  * Isolation Forest\n",
    "  * Robust Random Cut Forest\n",
    "\n",
    "**Tukey Outlier**\n",
    "\n",
    "Boxplot에서는 이상치(Outlier)에 민감하지 않은 분위수를 사용하기 때문에 이를 이용하여 통계적으로 이상치를 잘 검출할 수 있습니다. Boxplot 에서 이상치는 통계적 최소값인 Q1 - 1.5 x IQR 보다 작거나 최대값인 Q3 + 1.5 x IQR 보다 큰 값들을 가르킵니다. \n",
    "\n",
    "* IQR(interquartile range) = 3rd Quartile - 1st Quartile\n",
    "* Upper Bound = 3rd Quartile + (IQR * 1.5)\n",
    "* Lower Bound = 1st Quartile - (IQR * 1.5)\n",
    "\n",
    "![boxplot](https://cdn-images-1.medium.com/max/800/1*2c21SkzJMf3frPXPAR_gZA.png)\n",
    "\n",
    "질적변수에 속하는 명목척도, 서열척도의 경우 평균을 구할 수 없기 때문에 사분위수를 통한 데이터 탐색은 더욱 의미가 큽니다."
   ]
  },
  {
   "cell_type": "code",
   "execution_count": 8,
   "metadata": {},
   "outputs": [
    {
     "name": "stdout",
     "output_type": "stream",
     "text": [
      "Q1: 2.8, Q2: 3.0, Q3: 3.3, IQR: 0.50\n"
     ]
    }
   ],
   "source": [
    "# 사분위수 \n",
    "q1 = df_iris['Sepal.Width'].quantile(.25)\n",
    "q2 = df_iris['Sepal.Width'].quantile(.5)\n",
    "q3 = df_iris['Sepal.Width'].quantile(.75)\n",
    "iqr = q3 - q1\n",
    "print(f\"Q1: {q1}, Q2: {q2}, Q3: {q3}, IQR: {iqr:.2f}\")"
   ]
  },
  {
   "cell_type": "code",
   "execution_count": 9,
   "metadata": {},
   "outputs": [
    {
     "data": {
      "text/plain": [
       "Text(0.5, 1.0, '')"
      ]
     },
     "execution_count": 9,
     "metadata": {},
     "output_type": "execute_result"
    },
    {
     "data": {
      "image/png": "[encoded data removed]",
      "text/plain": [
       "<Figure size 432x288 with 1 Axes>"
      ]
     },
     "metadata": {
      "needs_background": "light"
     },
     "output_type": "display_data"
    }
   ],
   "source": [
    "# Boxplot를 이용한 시각화 \n",
    "df_iris.boxplot(column='Sepal.Width')\n",
    "plt.title('')"
   ]
  },
  {
   "cell_type": "code",
   "execution_count": 10,
   "metadata": {},
   "outputs": [
    {
     "data": {
      "text/plain": [
       "<AxesSubplot:ylabel='Sepal.Width'>"
      ]
     },
     "execution_count": 10,
     "metadata": {},
     "output_type": "execute_result"
    },
    {
     "data": {
      "image/png": "[encoded data removed]",
      "text/plain": [
       "<Figure size 432x288 with 1 Axes>"
      ]
     },
     "metadata": {
      "needs_background": "light"
     },
     "output_type": "display_data"
    }
   ],
   "source": [
    "# Seaborn를 이용한 Boxplot 시각화\n",
    "sns.boxplot(y='Sepal.Width', data=df_iris)"
   ]
  },
  {
   "cell_type": "code",
   "execution_count": 11,
   "metadata": {},
   "outputs": [
    {
     "data": {
      "text/plain": [
       "Text(0.5, 1.0, '')"
      ]
     },
     "execution_count": 11,
     "metadata": {},
     "output_type": "execute_result"
    },
    {
     "data": {
      "image/png": "[encoded data removed]",
      "text/plain": [
       "<Figure size 432x288 with 1 Axes>"
      ]
     },
     "metadata": {
      "needs_background": "light"
     },
     "output_type": "display_data"
    }
   ],
   "source": [
    "# Boxplot를 이용한 시각화 \n",
    "df_iris.boxplot(column='Petal.Length', by='Species')\n",
    "plt.title('')"
   ]
  },
  {
   "cell_type": "code",
   "execution_count": 12,
   "metadata": {},
   "outputs": [
    {
     "data": {
      "text/plain": [
       "<AxesSubplot:xlabel='Species', ylabel='Petal.Length'>"
      ]
     },
     "execution_count": 12,
     "metadata": {},
     "output_type": "execute_result"
    },
    {
     "data": {
      "image/png": "[encoded data removed]",
      "text/plain": [
       "<Figure size 432x288 with 1 Axes>"
      ]
     },
     "metadata": {
      "needs_background": "light"
     },
     "output_type": "display_data"
    }
   ],
   "source": [
    "# Seaborn를 이용한 Boxplot 시각화\n",
    "sns.boxplot(x='Species', y='Petal.Length', data=df_iris)"
   ]
  },
  {
   "cell_type": "markdown",
   "metadata": {},
   "source": [
    "### 분산(Variance), 표준편차(Standard Deviation)\n",
    "\n",
    "분산과 표준편차는 평균값을 이용해 산포도를 수치화 할 수 있으며, 통계 계산시에도 평균값과 함께 사용하기 유용합니다.\n",
    "\n",
    "* 편차(Deviation): 데이터가 평균으로부터 떨어진 정도, 데이터 - 평균\n",
    "* 분산(Variance): 편차 제곱의 평균, 편차의 평균은 항상 0 이 되기 때문에 분산을 이용함\n",
    "* 표준편차(Standard Deviation): 분산의 제곱근, 분산은 제곱값으로 수가 너무 크고, 단위가 변하기(예, $m$ -> $m^2$)때문에 표준편차를 이용함\n",
    "\n",
    "![](https://mechanicalbase.com/wp-content/uploads/2020/11/image.png)\n"
   ]
  },
  {
   "cell_type": "code",
   "execution_count": 13,
   "metadata": {},
   "outputs": [
    {
     "data": {
      "text/plain": [
       "Sepal.Length   0.68569\n",
       "Sepal.Width    0.18998\n",
       "Petal.Length   3.11628\n",
       "Petal.Width    0.58101\n",
       "dtype: float64"
      ]
     },
     "execution_count": 13,
     "metadata": {},
     "output_type": "execute_result"
    }
   ],
   "source": [
    "# 분산\n",
    "df_iris.var()"
   ]
  },
  {
   "cell_type": "code",
   "execution_count": 14,
   "metadata": {},
   "outputs": [
    {
     "data": {
      "text/plain": [
       "Sepal.Length   0.82807\n",
       "Sepal.Width    0.43587\n",
       "Petal.Length   1.76530\n",
       "Petal.Width    0.76224\n",
       "dtype: float64"
      ]
     },
     "execution_count": 14,
     "metadata": {},
     "output_type": "execute_result"
    }
   ],
   "source": [
    "# 표준편차\n",
    "df_iris.std()"
   ]
  },
  {
   "cell_type": "markdown",
   "metadata": {},
   "source": [
    "### 변동계수(Coefficient of Variation)\n",
    "\n",
    "변동계수(CV)는 표준편차를 평균으로 나눈 값으로 두 집단에서 데이터의 흩어짐 정도를 비교하는데 사용합니다.  \n",
    "\n",
    "![](https://toptipbio.com/wp-content/uploads/2017/04/Coefficient-of-variation-CV-formula.jpg)\n",
    "\n",
    "예를 들어 두 회사의 연도별 수익률에 대하여 어느 회사가 변동폭이 큰지를 비교할때 사용해볼 수 있습니다.\n",
    "\n",
    "![](https://exceltable.com/en/analyses-reports/images/analyses-reports11-1.png)\n",
    "![](https://exceltable.com/en/analyses-reports/images/analyses-reports11-2.png)\n",
    "\n",
    "https://exceltable.com/en/analyses-reports/coefficient-variation-in-excel"
   ]
  },
  {
   "cell_type": "code",
   "execution_count": 15,
   "metadata": {},
   "outputs": [
    {
     "name": "stdout",
     "output_type": "stream",
     "text": [
      "mean1: 5.84, mean2: 3.76\n",
      "cv1: 0.14, cv2: 0.47\n"
     ]
    }
   ],
   "source": [
    "# Scipy 를 통한 CV 계산\n",
    "# https://docs.scipy.org/doc/scipy/reference/generated/scipy.stats.variation.html\n",
    "mean1 = df_iris['Sepal.Length'].mean()\n",
    "mean2 = df_iris['Petal.Length'].mean()\n",
    "cv1 = sp.stats.variation(df_iris['Sepal.Length'])\n",
    "cv2 = sp.stats.variation(df_iris['Petal.Length'])\n",
    "print(f\"mean1: {mean1:.2f}, mean2: {mean2:.2f}\")\n",
    "print(f\"cv1: {cv1:.2f}, cv2: {cv2:.2f}\")"
   ]
  },
  {
   "cell_type": "markdown",
   "metadata": {},
   "source": [
    "## 데이터의 상관\n",
    "\n",
    "**상관계수**\n",
    "\n",
    "상관계수는 두 변수 사이의 통계적 관계를 수치적으로 나타낸 계수입니다. 두 변수 사이의 통계가 관계를 나타내는 지표로 -1 ~ 1 사이의 값을 가집니다.\n",
    "\n",
    "예로 기온와 아이스크림 판매량, 수입과 외식 횟수와 같이 어느 한 변수가 다른 변수와 증감 관계가 있는지 판단하여 결과를 이용하고자 할때 사용합니다. 하지만 해석에 주의해야 할점은 상관관계가 높은 것은 두 변수의 증감이 서로 밀접한 상관이 있다는 수치 일 뿐 두 변수가 원인과 결과 관계를 가진다는 의미는 아니라는 점입니다.   \n",
    "\n",
    "![](https://getcalc.com/formula/statistics/correlation-coefficient.png)\n",
    "\n",
    "https://getcalc.com/statistics-correlation-coefficient-calculator.htm\n",
    "\n",
    "* 1: 양의상관, 한 변수가 증가하면 다른 변수도 증가\n",
    "* -1: 음의상관, 한 변수가 증가하면 다른 변수는 감소, 한 변수가 감소하면 다른 변수는 증가\n",
    "* 0: 무상관, 두 변수의 증가 감소가 서로 상관 없음\n",
    "\n",
    "**산점도**\n",
    "\n",
    "상관관계를 산점도로 표시하면 좀 더 시각적으로 두 변수의 상관 관계를 파악해 볼 수 있습니다.\n",
    "\n",
    "![](https://cdn1.byjus.com/wp-content/uploads/2021/03/Correlation.png)\n",
    "\n",
    "https://byjus.com/maths/correlation/\n",
    "\n",
    "\n",
    "**Further Reading**\n",
    "* [NumPy, SciPy, and Pandas: Correlation With Python](https://realpython.com/numpy-scipy-pandas-correlation-python/)"
   ]
  },
  {
   "cell_type": "code",
   "execution_count": 24,
   "metadata": {},
   "outputs": [
    {
     "data": {
      "text/html": [
       "<div>\n",
       "<style scoped>\n",
       "    .dataframe tbody tr th:only-of-type {\n",
       "        vertical-align: middle;\n",
       "    }\n",
       "\n",
       "    .dataframe tbody tr th {\n",
       "        vertical-align: top;\n",
       "    }\n",
       "\n",
       "    .dataframe thead th {\n",
       "        text-align: right;\n",
       "    }\n",
       "</style>\n",
       "<table border=\"1\" class=\"dataframe\">\n",
       "  <thead>\n",
       "    <tr style=\"text-align: right;\">\n",
       "      <th></th>\n",
       "      <th>Sepal.Length</th>\n",
       "      <th>Sepal.Width</th>\n",
       "      <th>Petal.Length</th>\n",
       "      <th>Petal.Width</th>\n",
       "    </tr>\n",
       "  </thead>\n",
       "  <tbody>\n",
       "    <tr>\n",
       "      <th>Sepal.Length</th>\n",
       "      <td>1.00000</td>\n",
       "      <td>-0.11757</td>\n",
       "      <td>0.87175</td>\n",
       "      <td>0.81794</td>\n",
       "    </tr>\n",
       "    <tr>\n",
       "      <th>Sepal.Width</th>\n",
       "      <td>-0.11757</td>\n",
       "      <td>1.00000</td>\n",
       "      <td>-0.42844</td>\n",
       "      <td>-0.36613</td>\n",
       "    </tr>\n",
       "    <tr>\n",
       "      <th>Petal.Length</th>\n",
       "      <td>0.87175</td>\n",
       "      <td>-0.42844</td>\n",
       "      <td>1.00000</td>\n",
       "      <td>0.96287</td>\n",
       "    </tr>\n",
       "    <tr>\n",
       "      <th>Petal.Width</th>\n",
       "      <td>0.81794</td>\n",
       "      <td>-0.36613</td>\n",
       "      <td>0.96287</td>\n",
       "      <td>1.00000</td>\n",
       "    </tr>\n",
       "  </tbody>\n",
       "</table>\n",
       "</div>"
      ],
      "text/plain": [
       "              Sepal.Length  Sepal.Width  Petal.Length  Petal.Width\n",
       "Sepal.Length       1.00000     -0.11757       0.87175      0.81794\n",
       "Sepal.Width       -0.11757      1.00000      -0.42844     -0.36613\n",
       "Petal.Length       0.87175     -0.42844       1.00000      0.96287\n",
       "Petal.Width        0.81794     -0.36613       0.96287      1.00000"
      ]
     },
     "execution_count": 24,
     "metadata": {},
     "output_type": "execute_result"
    }
   ],
   "source": [
    "# pandas 의 corr() 를 이용하여 상관 계수 구하기\n",
    "df_corr = df_iris.corr(method='pearson')\n",
    "df_corr"
   ]
  },
  {
   "cell_type": "markdown",
   "metadata": {},
   "source": [
    "stats.pearsonr() 함수를 이용하면 상관 계수 r 및 p-value 값을 구할 수 있습니다.\n",
    "\n",
    "상관계수의 수치만 보고 애매할때가 있는데 p-value가 0.05보다 작을 경우\n",
    "\n",
    "* H0 명제 '두 변수간의 상관 관계가 없다'를 기각 \n",
    "* H1 명제 '두 변수간의 상관 관계가 있다'를 채택\n",
    "\n",
    "할 수 있으므로 두 변수의 상관에 대한 판단을 좀더 수치적으로 할 수 있게 됩니다."
   ]
  },
  {
   "cell_type": "code",
   "execution_count": 25,
   "metadata": {},
   "outputs": [
    {
     "data": {
      "text/plain": [
       "<seaborn.axisgrid.PairGrid at 0x7f18326d9400>"
      ]
     },
     "execution_count": 25,
     "metadata": {},
     "output_type": "execute_result"
    },
    {
     "data": {
      "image/png": "[encoded data removed]",
      "text/plain": [
       "<Figure size 720x720 with 20 Axes>"
      ]
     },
     "metadata": {
      "needs_background": "light"
     },
     "output_type": "display_data"
    }
   ],
   "source": [
    "# https://stackoverflow.com/questions/63416894/correlation-values-in-pairplot\n",
    "# stats.pearsonr() 함수를 이용하면 상관 계수 r 및 p-value 값을 구할 수 있습니다.\n",
    "# 상관계수의 수치만 보고 애매할때가 있는데 p-value가 0.05보다 작을 경우 \n",
    "# '두 변수간의 상관 관계가 없다'는 H0 명제를 기각하고 '두 변수간의 상관 관계가 있다'는 H1 명제를 채택할 수 있으므로\n",
    "# 두 변수의 상관에 대한 판단을 좀더 수치적으로 할 수 있게 됩니다.\n",
    "def pearsonr(x,y,label=None,color=None,**kwargs):\n",
    "    ax = plt.gca()\n",
    "    r,p = sp.stats.pearsonr(x,y)\n",
    "    ax.annotate('r = {:.2f}'.format(r), xy=(0.5,0.5), xycoords='axes fraction', ha='center')\n",
    "    ax.annotate('p = {:.3f}'.format(p), xy=(0.5,0.3), xycoords='axes fraction', ha='center')    \n",
    "    ax.set_axis_off()\n",
    "\n",
    "g = sns.PairGrid(df_iris)\n",
    "g.map_diag(sns.distplot)\n",
    "g.map_lower(sns.regplot)\n",
    "g.map_upper(pearsonr)"
   ]
  },
  {
   "cell_type": "markdown",
   "metadata": {},
   "source": [
    "**히트맵**\n",
    "\n",
    "데이터가 많은 경우 산점도를 그래프로 표시하는 것이 힘들 경우가 있습니다. 이때는 상관 계수값을 히트맵을 통해 시각화하여 좀더 빠르게 살펴볼 수 있습니다."
   ]
  },
  {
   "cell_type": "code",
   "execution_count": 26,
   "metadata": {},
   "outputs": [
    {
     "data": {
      "text/html": [
       "<style  type=\"text/css\" >\n",
       "#T_0a465_row0_col0,#T_0a465_row1_col1,#T_0a465_row2_col2,#T_0a465_row3_col3{\n",
       "            background-color:  #800026;\n",
       "            color:  #f1f1f1;\n",
       "        }#T_0a465_row0_col1{\n",
       "            background-color:  #fede82;\n",
       "            color:  #000000;\n",
       "        }#T_0a465_row0_col2{\n",
       "            background-color:  #aa0026;\n",
       "            color:  #f1f1f1;\n",
       "        }#T_0a465_row0_col3{\n",
       "            background-color:  #c00225;\n",
       "            color:  #f1f1f1;\n",
       "        }#T_0a465_row1_col0,#T_0a465_row1_col2,#T_0a465_row1_col3,#T_0a465_row2_col1{\n",
       "            background-color:  #ffffcc;\n",
       "            color:  #000000;\n",
       "        }#T_0a465_row2_col0{\n",
       "            background-color:  #b70026;\n",
       "            color:  #f1f1f1;\n",
       "        }#T_0a465_row2_col3,#T_0a465_row3_col2{\n",
       "            background-color:  #8b0026;\n",
       "            color:  #f1f1f1;\n",
       "        }#T_0a465_row3_col0{\n",
       "            background-color:  #c80723;\n",
       "            color:  #f1f1f1;\n",
       "        }#T_0a465_row3_col1{\n",
       "            background-color:  #fff9bd;\n",
       "            color:  #000000;\n",
       "        }</style><table id=\"T_0a465_\" ><thead>    <tr>        <th class=\"blank level0\" ></th>        <th class=\"col_heading level0 col0\" >Sepal.Length</th>        <th class=\"col_heading level0 col1\" >Sepal.Width</th>        <th class=\"col_heading level0 col2\" >Petal.Length</th>        <th class=\"col_heading level0 col3\" >Petal.Width</th>    </tr></thead><tbody>\n",
       "                <tr>\n",
       "                        <th id=\"T_0a465_level0_row0\" class=\"row_heading level0 row0\" >Sepal.Length</th>\n",
       "                        <td id=\"T_0a465_row0_col0\" class=\"data row0 col0\" >1.000000</td>\n",
       "                        <td id=\"T_0a465_row0_col1\" class=\"data row0 col1\" >-0.117570</td>\n",
       "                        <td id=\"T_0a465_row0_col2\" class=\"data row0 col2\" >0.871754</td>\n",
       "                        <td id=\"T_0a465_row0_col3\" class=\"data row0 col3\" >0.817941</td>\n",
       "            </tr>\n",
       "            <tr>\n",
       "                        <th id=\"T_0a465_level0_row1\" class=\"row_heading level0 row1\" >Sepal.Width</th>\n",
       "                        <td id=\"T_0a465_row1_col0\" class=\"data row1 col0\" >-0.117570</td>\n",
       "                        <td id=\"T_0a465_row1_col1\" class=\"data row1 col1\" >1.000000</td>\n",
       "                        <td id=\"T_0a465_row1_col2\" class=\"data row1 col2\" >-0.428440</td>\n",
       "                        <td id=\"T_0a465_row1_col3\" class=\"data row1 col3\" >-0.366126</td>\n",
       "            </tr>\n",
       "            <tr>\n",
       "                        <th id=\"T_0a465_level0_row2\" class=\"row_heading level0 row2\" >Petal.Length</th>\n",
       "                        <td id=\"T_0a465_row2_col0\" class=\"data row2 col0\" >0.871754</td>\n",
       "                        <td id=\"T_0a465_row2_col1\" class=\"data row2 col1\" >-0.428440</td>\n",
       "                        <td id=\"T_0a465_row2_col2\" class=\"data row2 col2\" >1.000000</td>\n",
       "                        <td id=\"T_0a465_row2_col3\" class=\"data row2 col3\" >0.962865</td>\n",
       "            </tr>\n",
       "            <tr>\n",
       "                        <th id=\"T_0a465_level0_row3\" class=\"row_heading level0 row3\" >Petal.Width</th>\n",
       "                        <td id=\"T_0a465_row3_col0\" class=\"data row3 col0\" >0.817941</td>\n",
       "                        <td id=\"T_0a465_row3_col1\" class=\"data row3 col1\" >-0.366126</td>\n",
       "                        <td id=\"T_0a465_row3_col2\" class=\"data row3 col2\" >0.962865</td>\n",
       "                        <td id=\"T_0a465_row3_col3\" class=\"data row3 col3\" >1.000000</td>\n",
       "            </tr>\n",
       "    </tbody></table>"
      ],
      "text/plain": [
       "<pandas.io.formats.style.Styler at 0x7f183290e2e0>"
      ]
     },
     "execution_count": 26,
     "metadata": {},
     "output_type": "execute_result"
    }
   ],
   "source": [
    "# pandas에서 구한 corr 테이블에 색을 입혀 간단하게 히트맵을 그려봅니다.\n",
    "df_corr.style.background_gradient(cmap='YlOrRd')"
   ]
  },
  {
   "cell_type": "code",
   "execution_count": 27,
   "metadata": {},
   "outputs": [
    {
     "data": {
      "text/plain": [
       "<AxesSubplot:>"
      ]
     },
     "execution_count": 27,
     "metadata": {},
     "output_type": "execute_result"
    },
    {
     "data": {
      "image/png": "[encoded data removed]",
      "text/plain": [
       "<Figure size 432x288 with 2 Axes>"
      ]
     },
     "metadata": {
      "needs_background": "light"
     },
     "output_type": "display_data"
    }
   ],
   "source": [
    "# seaborn의 heatmap() 를 이용해서도 나타날수 있습니다.\n",
    "sns.heatmap(df_corr, annot=True, fmt='.3f', cmap='RdYlGn_r')"
   ]
  },
  {
   "cell_type": "markdown",
   "metadata": {},
   "source": [
    "**순위 상관**\n",
    "\n",
    "데이터가 서열 척도 같은 순위 데이터일 경우 두 변수 간의 상관 관계를 나타낼때는 순위 상관계수를 이용합니다.\n",
    "\n",
    "스피어만의 순위 상관계수\n",
    "\n",
    "순위 데이터를 가지고 피어슨의 확률 상관계수를 계산하면 스피어만의 순위 상관 계수임\n",
    "\n",
    "![](https://slidetodoc.com/presentation_image_h/f9e4f49393e0bc2b8b63898bc5ab238c/image-2.jpg)\n",
    "\n",
    "https://slidetodoc.com/spearmans-rank-correlation-spearmans-rank-correlation-coefficient-measures/\n",
    "\n",
    "켄달의 순위 상관계수\n",
    "\n",
    "두 변수 X, Y에 대하여 소비자 1,2,3 이 각각 선호도 순위를 평가한 값에서 소비자 1,2,3중 두 소비자의 조합: (1, 2), (1, 3), (2, 3) 중 X, Y에 대한 순위의 크기가 일치하거나 일치하지 않는 쌍의 수를 이용하여 지표 계산\n",
    "\n",
    "소비자 1의 순위 데이터 (X1, Y1), 소비자 2의 순위 데이터 (X2, Y2) 라고 한다면,\n",
    "\n",
    "* 일치: X1 < X2 이고 Y1 < Y2, 또는 X1 > X2 이고 Y1 > Y2 일때\n",
    "* 불일치: X1 < X2 이고 Y1 > Y2 또는 X1 > X2 이고 Y1 < Y2 일때\n",
    "\n",
    "$$tau = \\frac{(n_{concordant} - n_{disconcordant})}{\\frac{n(n-1)}{2}}$$\n",
    " \n",
    "https://en.wikipedia.org/wiki/Kendall_rank_correlation_coefficient"
   ]
  },
  {
   "cell_type": "code",
   "execution_count": 32,
   "metadata": {},
   "outputs": [
    {
     "data": {
      "text/html": [
       "<div>\n",
       "<style scoped>\n",
       "    .dataframe tbody tr th:only-of-type {\n",
       "        vertical-align: middle;\n",
       "    }\n",
       "\n",
       "    .dataframe tbody tr th {\n",
       "        vertical-align: top;\n",
       "    }\n",
       "\n",
       "    .dataframe thead th {\n",
       "        text-align: right;\n",
       "    }\n",
       "</style>\n",
       "<table border=\"1\" class=\"dataframe\">\n",
       "  <thead>\n",
       "    <tr style=\"text-align: right;\">\n",
       "      <th></th>\n",
       "      <th>X rank</th>\n",
       "      <th>Y rank</th>\n",
       "    </tr>\n",
       "  </thead>\n",
       "  <tbody>\n",
       "    <tr>\n",
       "      <th>0</th>\n",
       "      <td>4</td>\n",
       "      <td>5</td>\n",
       "    </tr>\n",
       "    <tr>\n",
       "      <th>1</th>\n",
       "      <td>10</td>\n",
       "      <td>8</td>\n",
       "    </tr>\n",
       "    <tr>\n",
       "      <th>2</th>\n",
       "      <td>3</td>\n",
       "      <td>6</td>\n",
       "    </tr>\n",
       "    <tr>\n",
       "      <th>3</th>\n",
       "      <td>1</td>\n",
       "      <td>2</td>\n",
       "    </tr>\n",
       "    <tr>\n",
       "      <th>4</th>\n",
       "      <td>9</td>\n",
       "      <td>10</td>\n",
       "    </tr>\n",
       "  </tbody>\n",
       "</table>\n",
       "</div>"
      ],
      "text/plain": [
       "   X rank  Y rank\n",
       "0       4       5\n",
       "1      10       8\n",
       "2       3       6\n",
       "3       1       2\n",
       "4       9      10"
      ]
     },
     "execution_count": 32,
     "metadata": {},
     "output_type": "execute_result"
    }
   ],
   "source": [
    "df_race = pd.DataFrame(\n",
    "    [\n",
    "        [4,5],\n",
    "        [10,8],\n",
    "        [3,6],\n",
    "        [1,2],\n",
    "        [9,10],\n",
    "        [2,3],\n",
    "        [6,9],\n",
    "        [7,4],\n",
    "        [8,7],\n",
    "        [5,1]        \n",
    "    ],\n",
    "    columns=[\"X rank\",\"Y rank\"])\n",
    "df_race.head()"
   ]
  },
  {
   "cell_type": "code",
   "execution_count": 29,
   "metadata": {},
   "outputs": [
    {
     "data": {
      "text/html": [
       "<style  type=\"text/css\" >\n",
       "#T_a8db7_row0_col0,#T_a8db7_row1_col1{\n",
       "            background-color:  #800026;\n",
       "            color:  #f1f1f1;\n",
       "        }#T_a8db7_row0_col1,#T_a8db7_row1_col0{\n",
       "            background-color:  #ffffcc;\n",
       "            color:  #000000;\n",
       "        }</style><table id=\"T_a8db7_\" ><thead>    <tr>        <th class=\"blank level0\" ></th>        <th class=\"col_heading level0 col0\" >male rank</th>        <th class=\"col_heading level0 col1\" >female rank</th>    </tr></thead><tbody>\n",
       "                <tr>\n",
       "                        <th id=\"T_a8db7_level0_row0\" class=\"row_heading level0 row0\" >male rank</th>\n",
       "                        <td id=\"T_a8db7_row0_col0\" class=\"data row0 col0\" >1.000000</td>\n",
       "                        <td id=\"T_a8db7_row0_col1\" class=\"data row0 col1\" >0.684848</td>\n",
       "            </tr>\n",
       "            <tr>\n",
       "                        <th id=\"T_a8db7_level0_row1\" class=\"row_heading level0 row1\" >female rank</th>\n",
       "                        <td id=\"T_a8db7_row1_col0\" class=\"data row1 col0\" >0.684848</td>\n",
       "                        <td id=\"T_a8db7_row1_col1\" class=\"data row1 col1\" >1.000000</td>\n",
       "            </tr>\n",
       "    </tbody></table>"
      ],
      "text/plain": [
       "<pandas.io.formats.style.Styler at 0x7f1831dbe310>"
      ]
     },
     "execution_count": 29,
     "metadata": {},
     "output_type": "execute_result"
    }
   ],
   "source": [
    "# pandas 의 corr() 를 이용하여 순위 상관 계수 구하기\n",
    "# method = 'spearman', 'kendall'\n",
    "df_corr = df_race.corr(method='spearman')\n",
    "df_corr.style.background_gradient(cmap='YlOrRd')"
   ]
  },
  {
   "cell_type": "code",
   "execution_count": 30,
   "metadata": {},
   "outputs": [
    {
     "data": {
      "text/plain": [
       "<AxesSubplot:>"
      ]
     },
     "execution_count": 30,
     "metadata": {},
     "output_type": "execute_result"
    },
    {
     "data": {
      "image/png": "[encoded data removed]",
      "text/plain": [
       "<Figure size 432x288 with 2 Axes>"
      ]
     },
     "metadata": {
      "needs_background": "light"
     },
     "output_type": "display_data"
    }
   ],
   "source": [
    "# seaborn의 heatmap() 를 이용해서도 나타날수 있습니다.\n",
    "sns.heatmap(df_corr, annot=True, fmt='.3f', cmap='RdYlGn_r')"
   ]
  },
  {
   "cell_type": "code",
   "execution_count": 31,
   "metadata": {},
   "outputs": [
    {
     "data": {
      "text/plain": [
       "<seaborn.axisgrid.PairGrid at 0x7f18328c1af0>"
      ]
     },
     "execution_count": 31,
     "metadata": {},
     "output_type": "execute_result"
    },
    {
     "data": {
      "image/png": "[encoded data removed]",
      "text/plain": [
       "<Figure size 360x360 with 6 Axes>"
      ]
     },
     "metadata": {
      "needs_background": "light"
     },
     "output_type": "display_data"
    }
   ],
   "source": [
    "# stats.spearmanr() 함수를 이용 순위 상관 계수 r 및 p-value 값\n",
    "def spearmanr(x,y,label=None,color=None,**kwargs):\n",
    "    ax = plt.gca()\n",
    "    r,p = sp.stats.spearmanr(x,y)\n",
    "    ax.annotate('r = {:.2f}'.format(r), xy=(0.5,0.5), xycoords='axes fraction', ha='center')\n",
    "    ax.annotate('p = {:.3f}'.format(p), xy=(0.5,0.3), xycoords='axes fraction', ha='center')    \n",
    "    ax.set_axis_off()\n",
    "\n",
    "# stats.kendalltau() 함수를 이용 순위 상관 계수 r 및 p-value 값\n",
    "def kendalltau(x,y,label=None,color=None,**kwargs):\n",
    "    ax = plt.gca()\n",
    "    r = sp.stats.kendalltau(x,y)\n",
    "    ax.annotate('r = {:.2f}'.format(r), xy=(0.5,0.5), xycoords='axes fraction', ha='center')\n",
    "    ax.annotate('p = {:.3f}'.format(p), xy=(0.5,0.3), xycoords='axes fraction', ha='center')    \n",
    "    ax.set_axis_off()\n",
    "\n",
    "g = sns.PairGrid(df_race)\n",
    "g.map_diag(sns.distplot)\n",
    "g.map_lower(sns.regplot)\n",
    "g.map_upper(spearmanr)\n",
    "#g.map_upper(kendalltau)"
   ]
  },
  {
   "cell_type": "code",
   "execution_count": null,
   "metadata": {},
   "outputs": [],
   "source": []
  }
 ],
 "metadata": {
  "kernelspec": {
   "display_name": "Python 3",
   "language": "python",
   "name": "python3"
  },
  "language_info": {
   "codemirror_mode": {
    "name": "ipython",
    "version": 3
   },
   "file_extension": ".py",
   "mimetype": "text/x-python",
   "name": "python",
   "nbconvert_exporter": "python",
   "pygments_lexer": "ipython3",
   "version": "3.8.9"
  },
  "nikola": {
   "category": "",
   "date": "2019-02-24",
   "description": "",
   "link": "",
   "slug": "ml-descriptive-statistics",
   "tags": "",
   "title": "Machine Learning - Descriptive Statistics",
   "type": "text"
  },
  "toc": {
   "base_numbering": 1,
   "nav_menu": {},
   "number_sections": true,
   "sideBar": true,
   "skip_h1_title": false,
   "title_cell": "Table of Contents",
   "title_sidebar": "Contents",
   "toc_cell": false,
   "toc_position": {},
   "toc_section_display": true,
   "toc_window_display": false
  }
 },
 "nbformat": 4,
 "nbformat_minor": 4
}
