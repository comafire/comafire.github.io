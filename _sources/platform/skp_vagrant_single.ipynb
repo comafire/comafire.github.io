{
 "cells": [
  {
   "cell_type": "markdown",
   "metadata": {},
   "source": [
    "# vagrant_skp_single\n",
    "\n",
    "https://github.com/comafire/vagrant_skp_single"
   ]
  },
  {
   "cell_type": "markdown",
   "metadata": {},
   "source": [
    "SKP 배포 테스트를 위한 Single Vagrant VM 만들기  \n",
    "\n",
    "Vagrant VM 의 기본 계정인 vagrant 계정에 키를 통해 접속하기 위해 ssh key 를 생성합니다.\n",
    "\n",
    "ssh key 생성\n",
    "\n",
    "```bash\n",
    "> ssh-keygen -t rsa\n",
    "Enter file in which to save the key (/home/comafire/.ssh/id_rsa): skp@ubuntu\n",
    "...\n",
    "```\n",
    "\n",
    "배포 테스트에 사용될 skp 계정 생성을 위해 useradd.sh 에서 사용자 계정 및 공개키 파일 설정합니다. useradd.sh 스크립트를 vagrant 를 통해 VM 생성시 사용자 계정을 생성하게 됩니다.\n",
    "\n",
    "```bash\n",
    "USERNAME=\"skp\"\n",
    "PUBKEY=\"skp@ubuntu.pub\"\n",
    "\n",
    "...\n",
    "```\n",
    "\n",
    "이제 vagrant up 명령을 통해 VM 을 실행해 봅니다.\n",
    "\n",
    "```bash\n",
    "> cd vagrant_skp_single\n",
    "> vagrnat up\n",
    "```\n"
   ]
  },
  {
   "cell_type": "code",
   "execution_count": null,
   "metadata": {},
   "outputs": [],
   "source": []
  }
 ],
 "metadata": {
  "kernelspec": {
   "display_name": "Python 3",
   "language": "python",
   "name": "python3"
  },
  "language_info": {
   "codemirror_mode": {
    "name": "ipython",
    "version": 3
   },
   "file_extension": ".py",
   "mimetype": "text/x-python",
   "name": "python",
   "nbconvert_exporter": "python",
   "pygments_lexer": "ipython3",
   "version": "3.6.9"
  },
  "nikola": {
   "category": "",
   "date": "2019-06-22",
   "description": "",
   "link": "",
   "slug": "platform-vagrant-virtualbox",
   "tags": "",
   "title": "vagrant와 virtualbox를 이용한 가상 개발환경",
   "type": "text"
  },
  "toc": {
   "base_numbering": 1,
   "nav_menu": {},
   "number_sections": true,
   "sideBar": true,
   "skip_h1_title": false,
   "title_cell": "Table of Contents",
   "title_sidebar": "Contents",
   "toc_cell": false,
   "toc_position": {},
   "toc_section_display": true,
   "toc_window_display": false
  }
 },
 "nbformat": 4,
 "nbformat_minor": 4
}
