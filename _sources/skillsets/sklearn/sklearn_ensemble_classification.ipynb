{
 "cells": [
  {
   "cell_type": "markdown",
   "metadata": {},
   "source": [
    "# Ensemble Classification\n",
    "\n",
    "앙상블 기법은 모델의 예측 성능을 높이기 위해 여러 개의 기본 모델들의 결과를 조합하여 사용하는 방식입니다. 선형/비선형 데이터셋 및 분류/회귀 문제 모두에 사용할수 있습니다.\n",
    "\n",
    "앙상블 기법에서 모델을 학습시키기 위해 학습 데이터 셋을 구성하는 방식으로 Bootstrapping 방식을 사용합니다. 이는 흔히 말하는 '랜덤 복원 샘플링'입니다. 샘플에서 랜덤 복원 샘플을 통해 리샘플링한 다양한 학습 데이터 셋을 구성함으로써 아래 그림 처럼 전체적으로 평균, 분산 등의 통계적 특성은 같은 샘플이어도 그 안에 속한 샘플들은 각각 다양한 특성을 포함하도록 하여 강건한 모델을 학습시키는데 도움이 되도록 합니다.\n",
    "\n",
    "* Bootstrapping: \n",
    "![Bootstrapping](https://cdn-images-1.medium.com/max/2400/0*jW2hAGmYEFH0RP9W.)\n",
    "\n",
    "## Bagging methods\n",
    "\n",
    "데이터를 Bootstrapping 하여 만든 학습 데이터 셋에 대하여 각각 독립적인 모델을 학습 시킨 후, 각 모델이 예측 한 값의 평균(Average, 연속형 변수) 또는 다수 투표(Majority Voting, 범주형 변수)방식을 통한 Bootstrap Aggregating하여 예측하는 방식 (복수의 독립적인 모델을 사용하는 방식이기에 분산처리 가능하여 학습 속도가 빠름)\n",
    "  * 예: Random Forest, ...\n",
    "![Bagging](https://cdn-images-1.medium.com/max/1600/1*DFHUbdz6EyOuMYP4pDnFlw.jpeg)\n",
    "  \n",
    "## Boosting methods\n",
    "\n",
    "약한 학습기(weak learner)을 학습 시키고, 예측 오류를 최소화 하기위해 약한 학습기(weak learner)를 추가하는 식의 순차적 학습 방식을 통해 강한 학습기(strong learner)를 만드는 방법 (순차적으로 학습을 진행하는 방식으로 분산처리가 불가능하여 학습 속도가 느림)\n",
    "  * 예: AdaBoost, XGBoost, GradientBoost, ...\n",
    "\n",
    "![Boosting](https://cdn-images-1.medium.com/max/1600/1*C7CrBG1VNaa1x491eZ3fnw.gif)\n",
    "\n",
    "## Stacking methods\n",
    "\n",
    "모델링 알고리즘(SVM, RandomForest, XGBoost, ...)들은 각기 다른 장단점을 가지기 때문에 서로 다른 모델링 알고리즘을 조합해서 최고의 성능을 내는 모델을 생성하는 방법\n",
    "  * 예: StackNet, ...\n",
    "\n",
    "![Stacking](https://cdn-images-1.medium.com/max/1600/0*GHYCJIjkkrP5ZgPh.png)\n"
   ]
  },
  {
   "cell_type": "markdown",
   "metadata": {},
   "source": []
  },
  {
   "cell_type": "code",
   "execution_count": 1,
   "metadata": {},
   "outputs": [
    {
     "name": "stdout",
     "output_type": "stream",
     "text": [
      "python ver=3.8.9 (default, Jun 12 2021, 23:47:44) \n",
      "[Clang 12.0.5 (clang-1205.0.22.9)]\n",
      "python platform=('64bit', '')\n",
      "pandas ver=1.2.4\n",
      "numpy ver=1.19.5\n",
      "sklearn ver=0.24.2\n"
     ]
    }
   ],
   "source": [
    "# 경고 메시지 출력 끄기\n",
    "import warnings \n",
    "warnings.filterwarnings(action='ignore')\n",
    "\n",
    "%matplotlib inline\n",
    "import matplotlib.pyplot as plt\n",
    "import IPython\n",
    "\n",
    "import platform, sys\n",
    "\n",
    "rseed = 22\n",
    "import random\n",
    "random.seed(rseed)\n",
    "\n",
    "import numpy as np\n",
    "np.random.seed(rseed)\n",
    "np.set_printoptions(precision=3)\n",
    "np.set_printoptions(formatter={'float_kind': \"{:.3f}\".format})\n",
    "\n",
    "import pandas as pd\n",
    "pd.set_option('display.max_rows', None) \n",
    "pd.set_option('display.max_columns', None) \n",
    "pd.set_option('display.max_colwidth', None)\n",
    "pd.options.display.float_format = '{:,.5f}'.format\n",
    "\n",
    "import sklearn\n",
    "\n",
    "print(f\"python ver={sys.version}\")\n",
    "print(f\"python platform={platform.architecture()}\")\n",
    "print(f\"pandas ver={pd.__version__}\")\n",
    "print(f\"numpy ver={np.__version__}\")\n",
    "print(f\"sklearn ver={sklearn.__version__}\")"
   ]
  },
  {
   "cell_type": "code",
   "execution_count": 2,
   "metadata": {},
   "outputs": [
    {
     "name": "stdout",
     "output_type": "stream",
     "text": [
      "data shape: xs=(10000, 10), ys=(10000,)\n",
      "train shape: train_xs=(7000, 10), train_ys=(7000,)\n",
      "test shape: test_xs=(3000, 10), test_ys=(3000,)\n",
      "\n",
      "model=BaggingClassifier()\n",
      "acc=0.88667\n",
      "classification_report\n",
      "              precision    recall  f1-score   support\n",
      "\n",
      "           0       0.91      0.92      0.92       968\n",
      "           1       0.83      0.89      0.86       981\n",
      "           2       0.93      0.85      0.89      1051\n",
      "\n",
      "    accuracy                           0.89      3000\n",
      "   macro avg       0.89      0.89      0.89      3000\n",
      "weighted avg       0.89      0.89      0.89      3000\n",
      "\n",
      "\n",
      "model=RandomForestClassifier()\n",
      "acc=0.90067\n",
      "classification_report\n",
      "              precision    recall  f1-score   support\n",
      "\n",
      "           0       0.93      0.92      0.93       968\n",
      "           1       0.84      0.92      0.88       981\n",
      "           2       0.94      0.86      0.90      1051\n",
      "\n",
      "    accuracy                           0.90      3000\n",
      "   macro avg       0.90      0.90      0.90      3000\n",
      "weighted avg       0.90      0.90      0.90      3000\n",
      "\n",
      "Feature Importances: [0.024 0.025 0.023 0.024 0.197 0.127 0.235 0.024 0.158 0.164]\n"
     ]
    },
    {
     "data": {
      "image/png": "[encoded data removed]",
      "text/plain": [
       "<Figure size 432x288 with 1 Axes>"
      ]
     },
     "metadata": {
      "needs_background": "light"
     },
     "output_type": "display_data"
    },
    {
     "name": "stdout",
     "output_type": "stream",
     "text": [
      "\n",
      "model=AdaBoostClassifier()\n",
      "acc=0.81467\n",
      "classification_report\n",
      "              precision    recall  f1-score   support\n",
      "\n",
      "           0       0.89      0.76      0.82       968\n",
      "           1       0.71      0.84      0.77       981\n",
      "           2       0.87      0.85      0.86      1051\n",
      "\n",
      "    accuracy                           0.81      3000\n",
      "   macro avg       0.82      0.81      0.82      3000\n",
      "weighted avg       0.83      0.81      0.82      3000\n",
      "\n",
      "Feature Importances: [0.000 0.020 0.000 0.060 0.240 0.180 0.160 0.020 0.160 0.160]\n"
     ]
    },
    {
     "data": {
      "image/png": "[encoded data removed]",
      "text/plain": [
       "<Figure size 432x288 with 1 Axes>"
      ]
     },
     "metadata": {
      "needs_background": "light"
     },
     "output_type": "display_data"
    },
    {
     "name": "stdout",
     "output_type": "stream",
     "text": [
      "\n",
      "model=GradientBoostingClassifier()\n",
      "acc=0.88200\n",
      "classification_report\n",
      "              precision    recall  f1-score   support\n",
      "\n",
      "           0       0.91      0.90      0.91       968\n",
      "           1       0.81      0.89      0.85       981\n",
      "           2       0.93      0.85      0.89      1051\n",
      "\n",
      "    accuracy                           0.88      3000\n",
      "   macro avg       0.88      0.88      0.88      3000\n",
      "weighted avg       0.89      0.88      0.88      3000\n",
      "\n",
      "Feature Importances: [0.002 0.001 0.001 0.001 0.231 0.143 0.334 0.002 0.084 0.199]\n"
     ]
    },
    {
     "data": {
      "image/png": "[encoded data removed]",
      "text/plain": [
       "<Figure size 432x288 with 1 Axes>"
      ]
     },
     "metadata": {
      "needs_background": "light"
     },
     "output_type": "display_data"
    },
    {
     "name": "stdout",
     "output_type": "stream",
     "text": [
      "\n",
      "model=XGBClassifier(base_score=None, booster=None, colsample_bylevel=None,\n",
      "              colsample_bynode=None, colsample_bytree=None,\n",
      "              enable_categorical=False, gamma=None, gpu_id=None,\n",
      "              importance_type=None, interaction_constraints=None,\n",
      "              learning_rate=None, max_delta_step=None, max_depth=None,\n",
      "              min_child_weight=None, missing=nan, monotone_constraints=None,\n",
      "              n_estimators=100, n_jobs=None, num_parallel_tree=None,\n",
      "              predictor=None, random_state=None, reg_alpha=None,\n",
      "              reg_lambda=None, scale_pos_weight=None, subsample=None,\n",
      "              tree_method=None, validate_parameters=None, verbosity=None)\n",
      "[07:22:50] WARNING: /Users/runner/work/xgboost/xgboost/src/learner.cc:1115: Starting in XGBoost 1.3.0, the default evaluation metric used with the objective 'multi:softprob' was changed from 'merror' to 'mlogloss'. Explicitly set eval_metric if you'd like to restore the old behavior.\n",
      "acc=0.88967\n",
      "classification_report\n",
      "              precision    recall  f1-score   support\n",
      "\n",
      "           0       0.92      0.92      0.92       968\n",
      "           1       0.83      0.90      0.86       981\n",
      "           2       0.93      0.85      0.89      1051\n",
      "\n",
      "    accuracy                           0.89      3000\n",
      "   macro avg       0.89      0.89      0.89      3000\n",
      "weighted avg       0.89      0.89      0.89      3000\n",
      "\n",
      "Feature Importances: [0.025 0.024 0.024 0.025 0.194 0.150 0.239 0.025 0.113 0.181]\n"
     ]
    },
    {
     "data": {
      "image/png": "[encoded data removed]",
      "text/plain": [
       "<Figure size 432x288 with 1 Axes>"
      ]
     },
     "metadata": {
      "needs_background": "light"
     },
     "output_type": "display_data"
    }
   ],
   "source": [
    "import xgboost as xgb\n",
    "from sklearn import datasets, model_selection, ensemble, metrics\n",
    "\n",
    "# 데이터\n",
    "n_samples = 10000\n",
    "xs, ys = datasets.make_classification(\n",
    "    n_samples=n_samples, # 데이터 수\n",
    "    n_features=10, # X feature 수\n",
    "    n_informative=3,\n",
    "    n_classes=3, # Y class 수\n",
    "    random_state=rseed) # 난수 발생용 Seed 값\n",
    "print(f\"data shape: xs={xs.shape}, ys={ys.shape}\")\n",
    "train_xs, test_xs, train_ys, test_ys = model_selection.train_test_split(\n",
    "    xs, ys, test_size=0.3, shuffle=True, random_state=rseed)\n",
    "print(f\"train shape: train_xs={train_xs.shape}, train_ys={train_ys.shape}\")\n",
    "print(f\"test shape: test_xs={test_xs.shape}, test_ys={test_ys.shape}\")\n",
    "\n",
    "# 모델\n",
    "models = [\n",
    "    ensemble.BaggingClassifier(),\n",
    "    ensemble.RandomForestClassifier(),\n",
    "    ensemble.AdaBoostClassifier(),\n",
    "    ensemble.GradientBoostingClassifier(),\n",
    "    xgb.XGBClassifier()\n",
    "]\n",
    "\n",
    "for model in models:\n",
    "    # 학습\n",
    "    print(f\"\\nmodel={model}\")\n",
    "    model.fit(train_xs, train_ys)\n",
    "\n",
    "    # 평가\n",
    "    pred_ys = model.predict(test_xs)\n",
    "\n",
    "    acc = metrics.accuracy_score(test_ys, pred_ys)\n",
    "    print(f\"acc={acc:.5f}\")\n",
    "\n",
    "    cr = metrics.classification_report(test_ys, pred_ys)\n",
    "    print(f\"classification_report\\n{cr}\")\n",
    "    \n",
    "    try:\n",
    "        feature_importances = model.feature_importances_\n",
    "        print(f\"Feature Importances: {feature_importances}\")\n",
    "        plt.bar(range(len(feature_importances)), feature_importances)\n",
    "        plt.title(\"Feature Importances\")\n",
    "        plt.show()\n",
    "    except:\n",
    "        pass\n",
    "    "
   ]
  },
  {
   "cell_type": "code",
   "execution_count": null,
   "metadata": {},
   "outputs": [],
   "source": []
  }
 ],
 "metadata": {
  "kernelspec": {
   "display_name": "Python 3",
   "language": "python",
   "name": "python3"
  },
  "language_info": {
   "codemirror_mode": {
    "name": "ipython",
    "version": 3
   },
   "file_extension": ".py",
   "mimetype": "text/x-python",
   "name": "python",
   "nbconvert_exporter": "python",
   "pygments_lexer": "ipython3",
   "version": "3.8.9"
  },
  "nikola": {
   "category": "",
   "date": "2019-04-06",
   "description": "",
   "link": "",
   "slug": "ml-ensemble-classification",
   "tags": "",
   "title": "Machine Learning - Ensemble Classification",
   "type": "text"
  },
  "toc": {
   "base_numbering": 1,
   "nav_menu": {},
   "number_sections": true,
   "sideBar": true,
   "skip_h1_title": false,
   "title_cell": "Table of Contents",
   "title_sidebar": "Contents",
   "toc_cell": false,
   "toc_position": {},
   "toc_section_display": true,
   "toc_window_display": false
  }
 },
 "nbformat": 4,
 "nbformat_minor": 4
}
