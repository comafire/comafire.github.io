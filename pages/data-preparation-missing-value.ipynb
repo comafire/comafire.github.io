{
 "cells": [
  {
   "cell_type": "markdown",
   "metadata": {},
   "source": [
    "# Missing Value\n",
    "\n",
    "데이터를 수집해서 처리하다보면 결측치를 만나게 됩니다. 결측치가 포함된 모델은 성능에 안 좋은 영향을 미칠 수 있기 때문에 전처리시에 처리하게 됩니다. 보통은 프로젝트내 도메인 전문가의 조언대로 처리되지만, 없을 경우는 결측치의 원인과 종류에 따라 그 처리 방법을 각기 달리 해서 처리합니다. \n",
    "\n",
    "## Missing Value의 종류\n",
    "Missing Completely at Random (MCAR)\n",
    "* 완전하게 랜덤으로 결측치가 나타나는 경우입니다.\n",
    "* 완전하게 랜덤으로 나타난다면, 데이터가 큰 경우 랜덤 샘플링을 통해 완전한 데이터를 만들수 있게 됩니다.\n",
    "\n",
    "\n",
    "Missing at Random (MAR)\n",
    "* 결측치가 특정 변수와 관련되어 일어나지만 그 변수의 값과는 관계가 없는 경우입니다.\n",
    "* 예: 결측치가 발견되었는데, 데이터 수집 과정에서 설문 응답자가 다음 페이지가 있는지 모르고 응답을 종료한 경우 \n",
    "\n",
    "\n",
    "Missing not at Random (MNAR)\n",
    "* 결측치의 값과 결측 이유가 관련이 있는 경우입니다. \n",
    "* 예: 결측치가 발견되었는데, 데이터 수집 과정에서 설문 응답자가 해당 수집 변수에 대해 응답을 꺼려하여 응답하지 않은 경우\n",
    "\n",
    "## Missing Value 처리 방법\n",
    "Deletion\n",
    "* Listwise Deletion: 결측치가 발생된 행 전체 삭제\n",
    "* Pairwise Deletion: \n",
    "* Deleting Columns: 결측치가 발생된 열 전체 삭제\n",
    "\n",
    "\n",
    "Imputation\n",
    "* Record Data\n",
    "  * Categorical Data\n",
    "  * Continuous Data\n",
    "* Sequence Data\n",
    "  * No Trend, No Seasonality\n",
    "  * Trend, No Seasonality\n",
    "  * Trend, Seasionality\n",
    "\n",
    "## Missing Value 처리 기준\n",
    "\n",
    "'Multivariate Data Analysis' Pearson Education 책에서는 아래 방법을 추천하고 있습니다.\n",
    "\n",
    "* 결측치 비율 10% 이하: 어떤 Imputation 방법도 상관 없음\n",
    "* 결측치 비율 10% ~ 20%: MCAR일 경우 Replace, Regression 방법 추천, MAR 일 경우 모델기반 방법 추천\n",
    "* 결측치 비율 20% 이상: MCAR일 경우 Regression 방법 추천, MAR 일 경우 모델기반 방법 추천\n",
    "\n",
    "추가적으로 결측치 비율 10% 이하이고, 데이터가 빅데이터인 경우는 Deletion 방법도 고려해 볼 수 있습니다.\n"
   ]
  },
  {
   "cell_type": "code",
   "execution_count": 1,
   "metadata": {},
   "outputs": [],
   "source": [
    "# TBD.."
   ]
  }
 ],
 "metadata": {
  "kernelspec": {
   "display_name": "Python 3",
   "language": "python",
   "name": "python3"
  },
  "language_info": {
   "codemirror_mode": {
    "name": "ipython",
    "version": 3
   },
   "file_extension": ".py",
   "mimetype": "text/x-python",
   "name": "python",
   "nbconvert_exporter": "python",
   "pygments_lexer": "ipython3",
   "version": "3.5.2"
  },
  "nikola": {
   "category": "",
   "date": "2019-03-01",
   "description": "",
   "link": "",
   "slug": "data-preparation-missing-value",
   "tags": "",
   "title": "Missing Value",
   "type": "text"
  },
  "toc": {
   "base_numbering": 1,
   "nav_menu": {},
   "number_sections": true,
   "sideBar": true,
   "skip_h1_title": false,
   "title_cell": "Table of Contents",
   "title_sidebar": "Contents",
   "toc_cell": false,
   "toc_position": {},
   "toc_section_display": true,
   "toc_window_display": false
  }
 },
 "nbformat": 4,
 "nbformat_minor": 2
}
