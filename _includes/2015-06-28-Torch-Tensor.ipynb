{
 "cells": [
  {
   "cell_type": "markdown",
   "metadata": {},
   "source": [
    "## Tensor\n",
    "Tensor는 Multi-dimensional matrix 입니다. \n",
    "여기서는 Tensor에 대한 간단한 사용법을 다룹니다. \n",
    "상세 사용법은 추후 사용처가 생길때 마다 추가로 설명하겠습니다.\n",
    "\n",
    "Tensor 관련 상세 사용법이 궁금하신분은 [Torch 공식 Tensor Manual]\n",
    "(https://github.com/torch/torch7/blob/master/doc/tensor.md#torch.Tensor.dim) 을 참조하세요"
   ]
  },
  {
   "cell_type": "markdown",
   "metadata": {},
   "source": [
    "### Tensor 생성\n",
    "Tensor는 파라미터의 갯수를 늘려가면서 다차원의 matrix 를 생성할 수 있습니다."
   ]
  },
  {
   "cell_type": "code",
   "execution_count": 1,
   "metadata": {
    "collapsed": false
   },
   "outputs": [],
   "source": [
    "t2d = torch.Tensor(2,2)\n",
    "t3d = torch.Tensor(2,2,2)\n",
    "t4d = torch.Tensor(2,2,2,2)"
   ]
  },
  {
   "cell_type": "markdown",
   "metadata": {},
   "source": [
    "### Tensor 정보\n",
    "생성한 Tensor에 대한 type, size 정보를 볼수 있습니다."
   ]
  },
  {
   "cell_type": "code",
   "execution_count": 2,
   "metadata": {
    "collapsed": false
   },
   "outputs": [
    {
     "data": {
      "text/plain": [
       "torch.DoubleTensor\t\n",
       "\n",
       " 2\n",
       " 2\n",
       "[torch.LongStorage of size 2]\n",
       "\n"
      ]
     },
     "execution_count": 2,
     "metadata": {},
     "output_type": "execute_result"
    }
   ],
   "source": [
    "print(t2d:type())\n",
    "print(t2d:size())"
   ]
  },
  {
   "cell_type": "markdown",
   "metadata": {},
   "source": [
    "### Tensor Type\n",
    "Tensor는 아래와 같은 다양한 type 을 지원합니다. 하지만 numeric operation 은 오직 FloatTensor 및 Double Tensor만 지원합니다.\n",
    "\n",
    "* ByteTensor -- contains unsigned chars\n",
    "* CharTensor -- contains signed chars\n",
    "* ShortTensor -- contains shorts\n",
    "* IntTensor -- contains ints\n",
    "* FloatTensor -- contains floats\n",
    "* DoubleTensor -- contains doubles\n",
    "\n",
    "Tensor는 torch.Tensor() 함수를 이용하여 생성하는데 torch.setdefaulttensortype() 함수를 이용하면 default 생성 type 을 조정 할 수 있습니다. 기본 default type 은 DoubleTensor 입니다."
   ]
  },
  {
   "cell_type": "code",
   "execution_count": 3,
   "metadata": {
    "collapsed": false
   },
   "outputs": [
    {
     "data": {
      "text/plain": [
       "torch.FloatTensor\t\n",
       "torch.DoubleTensor\t\n"
      ]
     },
     "execution_count": 3,
     "metadata": {},
     "output_type": "execute_result"
    }
   ],
   "source": [
    "torch.setdefaulttensortype('torch.FloatTensor')\n",
    "print(torch.Tensor():type())\n",
    "\n",
    "torch.setdefaulttensortype('torch.DoubleTensor')\n",
    "print(torch.Tensor():type())"
   ]
  },
  {
   "cell_type": "markdown",
   "metadata": {},
   "source": [
    "### Tensor Type 변환\n",
    "생성된 Tensor 는 type 변환 함수를 통해 type 변환이 가능합니다.\n",
    "\n",
    "* ByteTensor: byte() \n",
    "* CharTensor: char()\n",
    "* ShortTensor: short()\n",
    "* IntTensor: int()\n",
    "* FloatTensor: float()\n",
    "* DoubleTensor: double()"
   ]
  },
  {
   "cell_type": "code",
   "execution_count": 4,
   "metadata": {
    "collapsed": false
   },
   "outputs": [
    {
     "data": {
      "text/plain": [
       "torch.DoubleTensor\t\n",
       "torch.FloatTensor\t\n"
      ]
     },
     "execution_count": 4,
     "metadata": {},
     "output_type": "execute_result"
    }
   ],
   "source": [
    "t2d = torch.Tensor(2,2)\n",
    "print(t2d:type())\n",
    "t2d_f = t2d:float()\n",
    "print(t2d_f:type())"
   ]
  },
  {
   "cell_type": "markdown",
   "metadata": {},
   "source": [
    "### Tensor 초기화\n",
    "Tensor 생성시 초기화를 zero(), fill() 함수를 제공합니다. Lua Table을 직접 파라미터로 하여 초기화도 가능합니다."
   ]
  },
  {
   "cell_type": "code",
   "execution_count": 5,
   "metadata": {
    "collapsed": false
   },
   "outputs": [
    {
     "data": {
      "text/plain": [
       " 0  0\n",
       " 0  0\n",
       "[torch.DoubleTensor of size 2x2]\n",
       "\n",
       " 1  1\n",
       " 1  1\n",
       "[torch.DoubleTensor of size 2x2]\n",
       "\n",
       " 2  2\n",
       " 2  2\n",
       "[torch.DoubleTensor of size 2x2]\n",
       "\n"
      ]
     },
     "execution_count": 5,
     "metadata": {},
     "output_type": "execute_result"
    }
   ],
   "source": [
    "print(torch.Tensor(2,2):zero())\n",
    "print(torch.Tensor(2,2):fill(1))\n",
    "print(torch.Tensor({ {2,2}, {2,2} }))"
   ]
  },
  {
   "cell_type": "markdown",
   "metadata": {},
   "source": [
    "### Tensor 복사\n",
    "Tensor간에 간편하게 복사가 가능한 clone(), copy() 함수를 제공합니다.\n",
    "clone() 함수는 Tensor 전체를 구조 변경 없이 복사하는데 사용하고, copy() 함수는 복사할 Tensor를 미리 생성하고 복사하기 때문에 Tensor의 구조 변경과 동시에 복사가 가능합니다."
   ]
  },
  {
   "cell_type": "code",
   "execution_count": 6,
   "metadata": {
    "collapsed": false
   },
   "outputs": [
    {
     "data": {
      "text/plain": [
       " 1\n",
       " 1\n",
       " 1\n",
       " 1\n",
       "[torch.DoubleTensor of size 4]\n",
       "\n",
       " 1  1\n",
       " 1  1\n",
       "[torch.DoubleTensor of size 2x2]\n",
       "\n"
      ]
     },
     "execution_count": 6,
     "metadata": {},
     "output_type": "execute_result"
    }
   ],
   "source": [
    "t2d = torch.Tensor(4):fill(1)\n",
    "t2d_clone = t2d:clone()\n",
    "print(t2d_clone)\n",
    "\n",
    "t2d_copy = torch.Tensor(2,2):copy(t2d)\n",
    "print(t2d_copy)"
   ]
  },
  {
   "cell_type": "markdown",
   "metadata": {},
   "source": [
    "### Tensor 변형\n",
    "size()함수를 통해 Tensor의 size뿐 아니라 구조도 변경이 가능합니다.\n",
    "transpose() 또는 t() 함수를 통해 Tensor의 차원간 변경이 가능합니다."
   ]
  },
  {
   "cell_type": "code",
   "execution_count": 7,
   "metadata": {
    "collapsed": false
   },
   "outputs": [
    {
     "data": {
      "text/plain": [
       " 1\n",
       " 1\n",
       " 1\n",
       " 1\n",
       "[torch.DoubleTensor of size 4]\n",
       "\n",
       " 1  1\n",
       " 1  1\n",
       "[torch.DoubleTensor of size 2x2]\n",
       "\n",
       " 1  2\n",
       " 3  4\n",
       "[torch.DoubleTensor of size 2x2]\n",
       "\n",
       " 1  3\n",
       " 2  4\n",
       "[torch.DoubleTensor of size 2x2]\n",
       "\n",
       " 1  3\n",
       " 2  4\n",
       "[torch.DoubleTensor of size 2x2]\n",
       "\n"
      ]
     },
     "execution_count": 7,
     "metadata": {},
     "output_type": "execute_result"
    }
   ],
   "source": [
    "t1d = torch.Tensor(4):fill(1)\n",
    "print(t1d)\n",
    "t2d = t1d:resize(2,2)\n",
    "print(t2d)\n",
    "\n",
    "t2d = torch.Tensor({ {1, 2}, {3, 4} })\n",
    "print(t2d)\n",
    "print(t2d:transpose(1,2))\n",
    "print(t2d:t())"
   ]
  },
  {
   "cell_type": "markdown",
   "metadata": {},
   "source": [
    "### Tensor get and set\n",
    "Tensor의 값을 편리하게 get하고 set할수 있는 다양한 기능을 제공합니다."
   ]
  },
  {
   "cell_type": "code",
   "execution_count": 8,
   "metadata": {
    "collapsed": false
   },
   "outputs": [
    {
     "data": {
      "text/plain": [
       " 1  2\n",
       " 3  4\n",
       "[torch.DoubleTensor of size 2x2]\n",
       "\n",
       " 1\n",
       " 2\n",
       "[torch.DoubleTensor of size 2]\n",
       "\n",
       "1\t\n",
       " 2\n",
       " 4\n",
       "[torch.DoubleTensor of size 2]\n",
       "\n"
      ]
     },
     "execution_count": 8,
     "metadata": {},
     "output_type": "execute_result"
    }
   ],
   "source": [
    "t2d = torch.Tensor({ {0,2}, {3,4} })\n",
    "t2d[1][1] = 1 -- set row 1, column 1\n",
    "t2d[{1,1}] = 1 -- set row 1, column 1\n",
    "print(t2d)\n",
    "print(t2d[1]) -- get row 1\n",
    "print(t2d[1][1]) -- get row 1, column 1\n",
    "print(t2d[{ {}, 2 }]) -- get row all, column 2"
   ]
  }
 ],
 "metadata": {
  "kernelspec": {
   "display_name": "iTorch",
   "language": "lua",
   "name": "itorch"
  },
  "language_info": {
   "name": "lua",
   "version": "20100"
  }
 },
 "nbformat": 4,
 "nbformat_minor": 0
}
