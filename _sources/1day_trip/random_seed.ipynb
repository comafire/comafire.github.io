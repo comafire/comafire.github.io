{
 "cells": [
  {
   "cell_type": "markdown",
   "metadata": {},
   "source": [
    "# Random\n",
    "\n",
    "Random Seed 고정\n",
    "\n",
    "데이터 사이언스 라이브러리들을 사용시 내부에서 사용하는 random 값들은 seed 값을 고정하지 않으면 재현이 불가능하기때문에 Seed 값을 고정해 주어야 합니다.\n",
    "\n",
    "주로 사용하는 라이브러리에 대한 Seed 값 고정 방법을 알아봅니다."
   ]
  },
  {
   "cell_type": "markdown",
   "metadata": {},
   "source": [
    "## Random"
   ]
  },
  {
   "cell_type": "code",
   "execution_count": 9,
   "metadata": {},
   "outputs": [
    {
     "name": "stdout",
     "output_type": "stream",
     "text": [
      "[2, 3, 0, 9, 7, 2, 1, 10, 5, 1]\n",
      "[2, 3, 0, 9, 7, 2, 1, 10, 5, 1]\n"
     ]
    }
   ],
   "source": [
    "import random\n",
    "\n",
    "rseed = 22\n",
    "\n",
    "random.seed(rseed)\n",
    "rvalues = [random.randint(0, 10) for x in range(10)]\n",
    "print(rvalues)\n",
    "\n",
    "random.seed(rseed)\n",
    "rvalues = [random.randint(0, 10) for x in range(10)]\n",
    "print(rvalues)"
   ]
  },
  {
   "cell_type": "markdown",
   "metadata": {},
   "source": [
    "## Numpy"
   ]
  },
  {
   "cell_type": "code",
   "execution_count": 21,
   "metadata": {},
   "outputs": [
    {
     "name": "stdout",
     "output_type": "stream",
     "text": [
      "[5 4 0 4 6 6 4 8 4 2]\n",
      "[5 4 0 4 6 6 4 8 4 2]\n",
      "[5 8 9 5 0 0 1 7 6 9]\n",
      "[5 8 9 5 0 0 1 7 6 9]\n"
     ]
    }
   ],
   "source": [
    "import numpy as np\n",
    "\n",
    "# 전역 Seed 사용\n",
    "# numpy 모듈 내부의 random seed 가 변경되므로 모듈 내 모든 함수는 같은 Seed 값을 참조합니다.\n",
    "rseed = 22\n",
    "np.random.seed(rseed)\n",
    "print(np.random.randint(0, 10, size=10))\n",
    "\n",
    "np.random.seed(rseed)\n",
    "print(np.random.randint(0, 10, size=10))\n",
    "\n",
    "# 로컬 Seed 사용\n",
    "# 로컬 Seed 값을 가지는 랜덤 값 생성기를 생성하여 사용, 전역 Seed 값 변경에 영향을 받지 않습니다. \n",
    "rng1 = np.random.RandomState(1)\n",
    "print(rng1.randint(0, 10, size=10))\n",
    "\n",
    "np.random.seed(rseed)\n",
    "\n",
    "rng1 = np.random.RandomState(1)\n",
    "print(rng1.randint(0, 10, size=10))"
   ]
  },
  {
   "cell_type": "markdown",
   "metadata": {},
   "source": [
    "## Scipy\n",
    "\n",
    "Scipy 라이브러리는 Numpy Random Seed 값을 사용합니다."
   ]
  },
  {
   "cell_type": "markdown",
   "metadata": {},
   "source": [
    "## Scikit-learn\n",
    "\n",
    "Scikit Learn 은 자신의 global random state 를 가지고 있지 않으며, 내부적으로 numpy 모듈을 사용하기때문에 numpy random state 를 설정해주면 됩니다.\n",
    "\n",
    "함수 중에 파라미터로 random_state 를 받는 함수들은 int 값으로 Seed 값을 설정하거나 미리 생성한 RandomState 객체를 전달하여 사용하게 할 수 있습니다.\n",
    "\n",
    "**random_state**\n",
    "\n",
    "Whenever randomization is part of a Scikit-learn algorithm, a random_state parameter may be provided to control the random number generator used. Note that the mere presence of random_state doesn’t mean that randomization is always used, as it may be dependent on another parameter, e.g. shuffle, being set.\n",
    "\n",
    "The passed value will have an effect on the reproducibility of the results returned by the function (fit, split, or any other function like k_means). random_state’s value may be:\n",
    "\n",
    "- None (default)\n",
    "Use the global random state instance from numpy.random. Calling the function multiple times will reuse the same instance, and will produce different results.\n",
    "\n",
    "- An integer\n",
    "Use a new random number generator seeded by the given integer. Using an int will produce the same results across different calls. However, it may be worthwhile checking that your results are stable across a number of different distinct random seeds. Popular integer random seeds are 0 and 42.\n",
    "\n",
    "- A numpy.random.RandomState instance\n",
    "Use the provided random state, only affecting other users of that same random state instance. Calling the function multiple times will reuse the same instance, and will produce different results.\n",
    "\n",
    "utils.check_random_state is used internally to validate the input random_state and return a RandomState instance.\n",
    "\n",
    "For more details on how to control the randomness of scikit-learn objects and avoid common pitfalls, you may refer to Controlling randomness.\n",
    "'''\n",
    "\n",
    "* https://scikit-learn.org/stable/glossary.html#term-random_state\n",
    "* https://scikit-learn.org/stable/modules/generated/sklearn.utils.check_random_state.html"
   ]
  },
  {
   "cell_type": "markdown",
   "metadata": {},
   "source": [
    "## Tensorflow2\n",
    "\n",
    "https://www.tensorflow.org/api_docs/python/tf/random/set_seed\n",
    "\n"
   ]
  },
  {
   "cell_type": "code",
   "execution_count": null,
   "metadata": {},
   "outputs": [],
   "source": [
    "import tensroflwo as tf\n",
    "\n",
    "rseed = 22\n",
    "tf.random.set_seed(rseed)"
   ]
  }
 ],
 "metadata": {
  "kernelspec": {
   "display_name": "Python 3",
   "language": "python",
   "name": "python3"
  },
  "language_info": {
   "codemirror_mode": {
    "name": "ipython",
    "version": 3
   },
   "file_extension": ".py",
   "mimetype": "text/x-python",
   "name": "python",
   "nbconvert_exporter": "python",
   "pygments_lexer": "ipython3",
   "version": "3.7.6"
  },
  "nikola": {
   "category": "",
   "date": "2020-01-31",
   "description": "",
   "link": "",
   "slug": "ml-random-seed",
   "tags": "",
   "title": "Machine Learning - Random Seed 고정하기",
   "type": "text"
  },
  "toc": {
   "base_numbering": 1,
   "nav_menu": {},
   "number_sections": true,
   "sideBar": true,
   "skip_h1_title": false,
   "title_cell": "Table of Contents",
   "title_sidebar": "Contents",
   "toc_cell": false,
   "toc_position": {},
   "toc_section_display": true,
   "toc_window_display": false
  }
 },
 "nbformat": 4,
 "nbformat_minor": 4
}
