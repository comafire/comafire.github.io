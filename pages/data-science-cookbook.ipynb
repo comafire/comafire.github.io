{
 "cells": [
  {
   "cell_type": "markdown",
   "metadata": {
    "nikola": {
     "category": "",
     "date": "2019-02-10",
     "description": "",
     "link": "",
     "slug": "data-science-cookbook",
     "tags": "",
     "title": "Data Science Cookbook",
     "type": "text"
    }
   },
   "source": [
    "# Data Science Cookbook\n",
    "\n",
    "데이터 사이언스관련 주요 예제들을 공유하는 공간입니다.\n",
    "\n",
    "* Data Preparation (EDA)\n",
    "  * [Data Description(데이터 서술)](https://comafire.github.io/pages/data-preparation-data-description)\n",
    "  * [Missing Value(결측치)](https://comafire.github.io/pages/data-preparation-missing-value)  \n",
    "  * [Descriptive Statistics(기술적 통계)](https://comafire.github.io/pages/data-preparation-descriptive-statistics)\n",
    "  * Outlier  \n",
    "  * [Feature Selection(특징선택)](https://comafire.github.io/pages/data-preparation-feature-selection)\n",
    "  * [Feature Extraction(특징추출)](https://comafire.github.io/pages/data-preparation-feature-extraction)\n",
    "  \n",
    "  \n",
    "* Model\n",
    "  * Record Data\n",
    "    * Supervised Learning\n",
    "      * Regression\n",
    "      * Classificaion\n",
    "    * Unsupervised Learning\n",
    "      * Clustering\n",
    "  * Graph-based Data\n",
    "  * Ordered Data\n",
    "    \n",
    "* Evaluation\n",
    "  * Classification\n",
    "    * Confusion Matrix\n",
    "  * Regression\n",
    "    * RMSE(Root Mean Squared Error)\n",
    "    * R-Square"
   ]
  }
 ],
 "metadata": {
  "kernelspec": {
   "display_name": "Python 3",
   "language": "python",
   "name": "python3"
  },
  "language_info": {
   "codemirror_mode": {
    "name": "ipython",
    "version": 3
   },
   "file_extension": ".py",
   "mimetype": "text/x-python",
   "name": "python",
   "nbconvert_exporter": "python",
   "pygments_lexer": "ipython3",
   "version": "3.5.2"
  },
  "nikola": {
   "category": "",
   "date": "2019-02-10",
   "description": "",
   "link": "",
   "slug": "data-science-cookbook",
   "tags": "",
   "title": "Data Science Cookbook",
   "type": "text"
  },
  "toc": {
   "base_numbering": 1,
   "nav_menu": {},
   "number_sections": true,
   "sideBar": true,
   "skip_h1_title": false,
   "title_cell": "Table of Contents",
   "title_sidebar": "Contents",
   "toc_cell": false,
   "toc_position": {},
   "toc_section_display": true,
   "toc_window_display": false
  }
 },
 "nbformat": 4,
 "nbformat_minor": 2
}
