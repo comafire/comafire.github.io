{
 "cells": [
  {
   "cell_type": "markdown",
   "metadata": {},
   "source": [
    "# Tasks \n",
    "\n",
    "lightweight thread "
   ]
  },
  {
   "cell_type": "code",
   "execution_count": null,
   "metadata": {
    "collapsed": true
   },
   "outputs": [],
   "source": [
    "function producer()\n",
    "    for i = 1:3\n",
    "        time = Dates.format(now(), \"HH:MM:SS\")\n",
    "        produce(\"produce: $time\")\n",
    "    end\n",
    "end\n",
    "\n",
    "println(\"start: produce\")\n",
    "t = Task(producer)\n",
    "schedule(t)\n",
    "\n",
    "println(\"execute other compute!!!\")\n",
    "\n",
    "println(\"start: comsume\")\n",
    "println(consume(t))\n",
    "println(consume(t))\n",
    "println(consume(t))\n",
    "println(consume(t))\n",
    "\n",
    "(line = consume(t); line != ())\n",
    "# while (line = consume(t); line != nothing)\n",
    "#     time = Dates.format(now(), \"HH:MM:SS\")\n",
    "#     println(\"consume: $time: $line\")\n",
    "# end"
   ]
  }
 ],
 "metadata": {
  "kernelspec": {
   "display_name": "Julia 0.5.0",
   "language": "julia",
   "name": "julia-0.5"
  },
  "language_info": {
   "file_extension": ".jl",
   "mimetype": "application/julia",
   "name": "julia",
   "version": "0.5.0"
  }
 },
 "nbformat": 4,
 "nbformat_minor": 0
}
