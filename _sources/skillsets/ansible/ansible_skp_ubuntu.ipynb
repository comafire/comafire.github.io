{
 "cells": [
  {
   "cell_type": "markdown",
   "metadata": {},
   "source": [
    "# ansible_skp_ubuntu\n",
    "\n",
    "https://github.com/comafire/ansible_skp_ubuntu"
   ]
  },
  {
   "cell_type": "markdown",
   "metadata": {},
   "source": [
    "Vagrant를 통해서 생성한 VM 에 Ansible을 이용해서 SKP 배포를 위한 기본 패키기 설치해봅니다. \n",
    "\n",
    "```bash\n",
    "> cd ansible_skp_ubuntu\n",
    "> ansible -i inventories/vagrant_skp_single all -m ping\n",
    "> ansible-playbook -i inventories/vagrant_skp_single main.yml\n",
    "```"
   ]
  },
  {
   "cell_type": "code",
   "execution_count": null,
   "metadata": {},
   "outputs": [],
   "source": []
  }
 ],
 "metadata": {
  "kernelspec": {
   "display_name": "Python 3",
   "language": "python",
   "name": "python3"
  },
  "language_info": {
   "codemirror_mode": {
    "name": "ipython",
    "version": 3
   },
   "file_extension": ".py",
   "mimetype": "text/x-python",
   "name": "python",
   "nbconvert_exporter": "python",
   "pygments_lexer": "ipython3",
   "version": "3.6.9"
  },
  "nikola": {
   "category": "",
   "date": "2019-06-22",
   "description": "",
   "link": "",
   "slug": "platform-vagrant-virtualbox",
   "tags": "",
   "title": "vagrant와 virtualbox를 이용한 가상 개발환경",
   "type": "text"
  },
  "toc": {
   "base_numbering": 1,
   "nav_menu": {},
   "number_sections": true,
   "sideBar": true,
   "skip_h1_title": false,
   "title_cell": "Table of Contents",
   "title_sidebar": "Contents",
   "toc_cell": false,
   "toc_position": {},
   "toc_section_display": true,
   "toc_window_display": false
  }
 },
 "nbformat": 4,
 "nbformat_minor": 4
}
