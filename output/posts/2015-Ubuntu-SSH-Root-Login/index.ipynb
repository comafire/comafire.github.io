{
 "cells": [
  {
   "cell_type": "markdown",
   "metadata": {},
   "source": [
    "## Root 계정 활성화\n",
    "일반 계정으로 접속뒤 아래와 같이 root 계정의 passwd 를 설정하여 계정을 활성화합니다.\n",
    "\n",
    "```shell\n",
    "> sudo passwd root\n",
    "```"
   ]
  },
  {
   "cell_type": "markdown",
   "metadata": {},
   "source": [
    "## SSH 인증 설정\n",
    "기본적으로 root 접속은 보안상 막혀있으므로 아래와 같이 풀어주고 SSH를 다시 실행시켜 줍니다.\n",
    "\n",
    "```shell\n",
    "> sudo vi /etc/ssh/sshd_config\n",
    "\n",
    "...\n",
    "\n",
    "LoginGraceTime 120\n",
    "PermitRootLogin without-password\n",
    "StrictModes yes\n",
    "without-password를 yes로 변경하고 ssh를 다시 시작합니다.\n",
    "\n",
    "...\n",
    "\n",
    "> sudo service ssh restart\n",
    "```"
   ]
  },
  {
   "cell_type": "code",
   "execution_count": null,
   "metadata": {
    "collapsed": true
   },
   "outputs": [],
   "source": []
  }
 ],
 "metadata": {
  "kernelspec": {
   "display_name": "Python 3",
   "language": "python",
   "name": "python3"
  },
  "language_info": {
   "codemirror_mode": {
    "name": "ipython",
    "version": 3
   },
   "file_extension": ".py",
   "mimetype": "text/x-python",
   "name": "python",
   "nbconvert_exporter": "python",
   "pygments_lexer": "ipython3",
   "version": "3.5.2"
  },
  "nikola": {
   "category": "",
   "date": "2015-01-01 00:00:00 UTC+09:00",
   "description": "",
   "link": "",
   "slug": "2015-Ubuntu-SSH-Root-Login",
   "tags": "",
   "title": "2015-Ubuntu-SSH-Root-Login",
   "type": "text"
  }
 },
 "nbformat": 4,
 "nbformat_minor": 1
}
