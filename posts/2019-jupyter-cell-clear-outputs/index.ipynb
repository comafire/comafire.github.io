{
 "cells": [
  {
   "cell_type": "markdown",
   "metadata": {},
   "source": [
    "# clear_output 함수\n",
    "\n",
    "Jupyter에서 프로그래밍을 할 때, 루프문을 통해서 지속 적으로 로그를 출력해야 할때가 있습니다. 루프 횟수가 작다면 그런대로 봐줄만 하지만, 조금만 횟수가 늘어나더라도 스크롤의 압박을 피할수는 없게 됩니다. 이럴때는 위해 노트북에서는 셀 출력창을 지워주는 함수가 있습니다.\n",
    "\n",
    "<!-- TEASER_END -->"
   ]
  },
  {
   "cell_type": "markdown",
   "metadata": {},
   "source": [
    "1 초마다 전체 작업의 수행률을 표시하는 간단한 프로그램을 작성해 보겠습니다. "
   ]
  },
  {
   "cell_type": "code",
   "execution_count": 1,
   "metadata": {},
   "outputs": [
    {
     "name": "stdout",
     "output_type": "stream",
     "text": [
      "Progress: 10%\n",
      "Progress: 20%\n",
      "Progress: 30%\n",
      "Progress: 40%\n",
      "Progress: 50%\n",
      "Progress: 60%\n",
      "Progress: 70%\n",
      "Progress: 80%\n",
      "Progress: 90%\n",
      "Progress: 100%\n"
     ]
    }
   ],
   "source": [
    "import time\n",
    "\n",
    "n = 10\n",
    "for i in range(n):\n",
    "    time.sleep(1)\n",
    "    print(\"Progress: {0:.0%}\".format(float(i + 1)/n))"
   ]
  },
  {
   "cell_type": "markdown",
   "metadata": {},
   "source": [
    "이제 clear_output 함수를 사용해서 흔히 사용하는 프로그래스 상태 로그처럼 보이게 해보겠습니다."
   ]
  },
  {
   "cell_type": "code",
   "execution_count": 2,
   "metadata": {},
   "outputs": [
    {
     "name": "stdout",
     "output_type": "stream",
     "text": [
      "Progress: 100%\n"
     ]
    }
   ],
   "source": [
    "from IPython.display import clear_output\n",
    "\n",
    "import time\n",
    "\n",
    "n = 10\n",
    "for i in range(n):\n",
    "    time.sleep(1)\n",
    "    clear_output(wait = True)\n",
    "    print(\"Progress: {0:.0%}\".format(float(i + 1)/n))"
   ]
  },
  {
   "cell_type": "markdown",
   "metadata": {},
   "source": [
    "Jupyter 에서 실행해보셨다면 의도한대로 중간에 진행율이 변경되는 것을 보셨을 겁니다. 이상 간단하지만 유용한 Jupyter Tip 이었습니다."
   ]
  }
 ],
 "metadata": {
  "kernelspec": {
   "display_name": "Python 3",
   "language": "python",
   "name": "python3"
  },
  "language_info": {
   "codemirror_mode": {
    "name": "ipython",
    "version": 3
   },
   "file_extension": ".py",
   "mimetype": "text/x-python",
   "name": "python",
   "nbconvert_exporter": "python",
   "pygments_lexer": "ipython3",
   "version": "3.5.2"
  },
  "nikola": {
   "category": "",
   "date": "2019-03-09",
   "description": "",
   "link": "",
   "slug": "2019-jupyter-cell-clear-outputs",
   "tags": "",
   "title": "Jupyter 노트북 셀을 API를 통해 반복적으로 지우기",
   "type": "text"
  },
  "toc": {
   "base_numbering": 1,
   "nav_menu": {},
   "number_sections": true,
   "sideBar": true,
   "skip_h1_title": false,
   "title_cell": "Table of Contents",
   "title_sidebar": "Contents",
   "toc_cell": false,
   "toc_position": {},
   "toc_section_display": true,
   "toc_window_display": false
  }
 },
 "nbformat": 4,
 "nbformat_minor": 2
}
