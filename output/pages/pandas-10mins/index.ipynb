{
 "cells": [
  {
   "cell_type": "markdown",
   "metadata": {},
   "source": [
    "# Pandas\n",
    "\n",
    "참조: https://pandas.pydata.org/pandas-docs/stable/getting_started/10min.html"
   ]
  },
  {
   "cell_type": "code",
   "execution_count": null,
   "metadata": {},
   "outputs": [],
   "source": [
    "import pandas as pd\n",
    "import numpy as np\n",
    "import matplotlib.pyplot as plt\n",
    "\n",
    "print(\"pandas ver={}\".format(pd.__version__))\n",
    "print(\"numpy ver={}\".format(np.__version__))"
   ]
  },
  {
   "cell_type": "markdown",
   "metadata": {},
   "source": [
    "# Series, DataFrame\n",
    "\n",
    "* Series: 1차원 데이터(리스트 형태)를 표현하는 구조\n",
    "* DataFrame: 2차원 데이터(테이블 형태)를 표현하는 구조"
   ]
  },
  {
   "cell_type": "code",
   "execution_count": 2,
   "metadata": {},
   "outputs": [
    {
     "name": "stdout",
     "output_type": "stream",
     "text": [
      "0    1.0\n",
      "1    3.0\n",
      "2    5.0\n",
      "3    NaN\n",
      "4    6.0\n",
      "5    8.0\n",
      "dtype: float64\n",
      "DatetimeIndex(['2013-01-01', '2013-01-02', '2013-01-03', '2013-01-04',\n",
      "               '2013-01-05', '2013-01-06'],\n",
      "              dtype='datetime64[ns]', freq='D')\n",
      "['A', 'B', 'C', 'D']\n",
      "[[-0.24875324 -0.74637377 -1.8905423  -2.83093815]\n",
      " [-0.84161378  0.7467383  -1.42163788 -0.51535809]\n",
      " [-0.56275031 -1.98035779 -0.78772683  2.37222896]\n",
      " [-1.0211662  -0.91041359 -1.09541084  0.41318597]\n",
      " [ 0.9608215   0.51908166 -1.70831879 -1.15418108]\n",
      " [-0.42120775  0.29764625 -0.06090697 -0.27875479]]\n",
      "                   A         B         C         D\n",
      "2013-01-01 -0.248753 -0.746374 -1.890542 -2.830938\n",
      "2013-01-02 -0.841614  0.746738 -1.421638 -0.515358\n",
      "2013-01-03 -0.562750 -1.980358 -0.787727  2.372229\n",
      "2013-01-04 -1.021166 -0.910414 -1.095411  0.413186\n",
      "2013-01-05  0.960822  0.519082 -1.708319 -1.154181\n",
      "2013-01-06 -0.421208  0.297646 -0.060907 -0.278755\n",
      "     A          B    C  D      E    F\n",
      "0  1.0 2013-01-02  1.0  3   test  foo\n",
      "1  1.0 2013-01-02  1.0  3  train  foo\n",
      "2  1.0 2013-01-02  1.0  3   test  foo\n",
      "3  1.0 2013-01-02  1.0  3  train  foo\n"
     ]
    }
   ],
   "source": [
    "# Series\n",
    "s = pd.Series([1,3,5,np.nan,6,8])\n",
    "print(s)\n",
    "\n",
    "# DataFrame by Numpy Array\n",
    "index = pd.date_range('20130101', periods=6)\n",
    "print(index)\n",
    "\n",
    "columns = list('ABCD')\n",
    "print(columns)\n",
    "\n",
    "data = np.random.randn(6, 4)\n",
    "print(data)\n",
    "\n",
    "df = pd.DataFrame(data, index=index, columns=columns)\n",
    "print(df)\n",
    "\n",
    "# DataFrome by Dictonary\n",
    "df2 = pd.DataFrame({\n",
    "  'A': 1.,\n",
    "  'B': pd.Timestamp('20130102'),\n",
    "  'C': pd.Series(1, index=list(range(4)), dtype='float32'),\n",
    "  'D': np.array([3] * 4, dtype='int32'),\n",
    "  'E': pd.Categorical([\"test\", \"train\", \"test\", \"train\"]),\n",
    "  'F': 'foo'\n",
    "})\n",
    "print(df2)"
   ]
  },
  {
   "cell_type": "markdown",
   "metadata": {},
   "source": [
    "## CSV Read/Write"
   ]
  },
  {
   "cell_type": "code",
   "execution_count": 3,
   "metadata": {},
   "outputs": [
    {
     "name": "stdout",
     "output_type": "stream",
     "text": [
      "     A          B    C  D      E    F\n",
      "0  1.0 2013-01-02  1.0  3   test  foo\n",
      "1  1.0 2013-01-02  1.0  3  train  foo\n",
      "2  1.0 2013-01-02  1.0  3   test  foo\n",
      "3  1.0 2013-01-02  1.0  3  train  foo\n",
      "     A           B    C  D      E    F\n",
      "0  1.0  2013-01-02  1.0  3   test  foo\n",
      "1  1.0  2013-01-02  1.0  3  train  foo\n",
      "2  1.0  2013-01-02  1.0  3   test  foo\n",
      "3  1.0  2013-01-02  1.0  3  train  foo\n"
     ]
    }
   ],
   "source": [
    "# CSV\n",
    "df = pd.DataFrame({\n",
    "  'A': 1.,\n",
    "  'B': pd.Timestamp('20130102'),\n",
    "  'C': pd.Series(1, index=list(range(4)), dtype='float32'),\n",
    "  'D': np.array([3] * 4, dtype='int32'),\n",
    "  'E': pd.Categorical([\"test\", \"train\", \"test\", \"train\"]),\n",
    "  'F': 'foo'\n",
    "})\n",
    "print(df)\n",
    "path_csv = \"/tmp/foo.csv\"\n",
    "df.to_csv(path_csv, index=False)\n",
    "\n",
    "df = pd.read_csv(path_csv, header=0)\n",
    "print(df)"
   ]
  },
  {
   "cell_type": "markdown",
   "metadata": {},
   "source": [
    "## JSON Read/Write "
   ]
  },
  {
   "cell_type": "code",
   "execution_count": 4,
   "metadata": {},
   "outputs": [
    {
     "name": "stdout",
     "output_type": "stream",
     "text": [
      "      col 1 col 2\n",
      "row 1     a     b\n",
      "row 2     c     d\n",
      "  col 1 col 2\n",
      "0     a     b\n",
      "1     c     d\n"
     ]
    }
   ],
   "source": [
    "df = pd.DataFrame([['a', 'b'], ['c', 'd']], index=['row 1', 'row 2'], columns=['col 1', 'col 2'])\n",
    "print(df)\n",
    "\n",
    "path_json = \"/tmp/foo.json\"\n",
    "# '{\"row 1\":{\"col 1\":\"a\",\"col 2\":\"b\"},\"row 2\":{\"col 1\":\"c\",\"col 2\":\"d\"}}'\n",
    "#df.to_json(path_json, orient='index')\n",
    "# '[{\"col 1\":\"a\",\"col 2\":\"b\"},{\"col 1\":\"c\",\"col 2\":\"d\"}]'\n",
    "df.to_json(path_json, orient='records')\n",
    "\n",
    "#df = pd.read_json(path_json, orient='index')\n",
    "df = pd.read_json(path_json, orient='records')\n",
    "print(df)"
   ]
  },
  {
   "cell_type": "markdown",
   "metadata": {},
   "source": [
    "# DataFrame 정보보기"
   ]
  },
  {
   "cell_type": "code",
   "execution_count": 5,
   "metadata": {},
   "outputs": [
    {
     "name": "stdout",
     "output_type": "stream",
     "text": [
      "                   A         B         C         D\n",
      "2013-01-01 -0.248753 -0.746374 -1.890542 -2.830938\n",
      "2013-01-02 -0.841614  0.746738 -1.421638 -0.515358\n",
      "2013-01-03 -0.562750 -1.980358 -0.787727  2.372229\n",
      "2013-01-04 -1.021166 -0.910414 -1.095411  0.413186\n",
      "2013-01-05  0.960822  0.519082 -1.708319 -1.154181\n",
      "2013-01-06 -0.421208  0.297646 -0.060907 -0.278755\n",
      "A           float64\n",
      "B    datetime64[ns]\n",
      "C           float32\n",
      "D             int32\n",
      "E          category\n",
      "F            object\n",
      "dtype: object\n",
      "<class 'pandas.core.frame.DataFrame'>\n",
      "Int64Index: 4 entries, 0 to 3\n",
      "Data columns (total 6 columns):\n",
      "A    4 non-null float64\n",
      "B    4 non-null datetime64[ns]\n",
      "C    4 non-null float32\n",
      "D    4 non-null int32\n",
      "E    4 non-null category\n",
      "F    4 non-null object\n",
      "dtypes: category(1), datetime64[ns](1), float32(1), float64(1), int32(1), object(1)\n",
      "memory usage: 260.0+ bytes\n",
      "None\n"
     ]
    }
   ],
   "source": [
    "df = pd.DataFrame(data, index=index, columns=columns)\n",
    "print(df)\n",
    "\n",
    "# DataFrame 컬럼 정보\n",
    "print(df2.dtypes)\n",
    "print(df2.info())"
   ]
  },
  {
   "cell_type": "code",
   "execution_count": 6,
   "metadata": {},
   "outputs": [
    {
     "name": "stdout",
     "output_type": "stream",
     "text": [
      "                   A         B         C         D\n",
      "2013-01-01 -0.248753 -0.746374 -1.890542 -2.830938\n",
      "2013-01-02 -0.841614  0.746738 -1.421638 -0.515358\n",
      "2013-01-03 -0.562750 -1.980358 -0.787727  2.372229\n",
      "2013-01-04 -1.021166 -0.910414 -1.095411  0.413186\n",
      "2013-01-05  0.960822  0.519082 -1.708319 -1.154181\n",
      "                   A         B         C         D\n",
      "2013-01-04 -1.021166 -0.910414 -1.095411  0.413186\n",
      "2013-01-05  0.960822  0.519082 -1.708319 -1.154181\n",
      "2013-01-06 -0.421208  0.297646 -0.060907 -0.278755\n",
      "DatetimeIndex(['2013-01-01', '2013-01-02', '2013-01-03', '2013-01-04',\n",
      "               '2013-01-05', '2013-01-06'],\n",
      "              dtype='datetime64[ns]', freq='D')\n",
      "Index(['A', 'B', 'C', 'D'], dtype='object')\n",
      "[[-0.24875324 -0.74637377 -1.8905423  -2.83093815]\n",
      " [-0.84161378  0.7467383  -1.42163788 -0.51535809]\n",
      " [-0.56275031 -1.98035779 -0.78772683  2.37222896]\n",
      " [-1.0211662  -0.91041359 -1.09541084  0.41318597]\n",
      " [ 0.9608215   0.51908166 -1.70831879 -1.15418108]\n",
      " [-0.42120775  0.29764625 -0.06090697 -0.27875479]]\n",
      "<class 'numpy.ndarray'>\n"
     ]
    }
   ],
   "source": [
    "# 데이터 살펴보기\n",
    "print(df.head())\n",
    "print(df.tail(3))\n",
    "\n",
    "# DataFrame 요소 살펴보기\n",
    "print(df.index)\n",
    "print(df.columns)\n",
    "print(df.values)\n",
    "print(type(df.values))"
   ]
  },
  {
   "cell_type": "markdown",
   "metadata": {},
   "source": [
    "# DataFrame 조작하기\n",
    "\n",
    "## Selection"
   ]
  },
  {
   "cell_type": "code",
   "execution_count": 7,
   "metadata": {},
   "outputs": [
    {
     "name": "stdout",
     "output_type": "stream",
     "text": [
      "                   A         B         C         D\n",
      "2013-01-01 -0.248753 -0.746374 -1.890542 -2.830938\n",
      "2013-01-02 -0.841614  0.746738 -1.421638 -0.515358\n",
      "2013-01-01   -0.248753\n",
      "2013-01-02   -0.841614\n",
      "2013-01-03   -0.562750\n",
      "2013-01-04   -1.021166\n",
      "2013-01-05    0.960822\n",
      "Freq: D, Name: A, dtype: float64\n",
      "                   A         B\n",
      "2013-01-01 -0.248753 -0.746374\n",
      "2013-01-02 -0.841614  0.746738\n",
      "2013-01-03 -0.562750 -1.980358\n",
      "2013-01-04 -1.021166 -0.910414\n",
      "2013-01-05  0.960822  0.519082\n"
     ]
    }
   ],
   "source": [
    "# 행 슬라이싱\n",
    "print(df[0:2])\n",
    "\n",
    "# 열 선택\n",
    "print(df['A'].head())\n",
    "\n",
    "# 열 다중선택\n",
    "print(df[['A', 'B']].head())"
   ]
  },
  {
   "cell_type": "code",
   "execution_count": 8,
   "metadata": {},
   "outputs": [
    {
     "name": "stdout",
     "output_type": "stream",
     "text": [
      "-0.248753240478704\n",
      "A   -0.248753\n",
      "B   -0.746374\n",
      "C   -1.890542\n",
      "D   -2.830938\n",
      "Name: 2013-01-01 00:00:00, dtype: float64\n",
      "                   A         B         C         D\n",
      "2013-01-01 -0.248753 -0.746374 -1.890542 -2.830938\n",
      "2013-01-02 -0.841614  0.746738 -1.421638 -0.515358\n",
      "2013-01-03 -0.562750 -1.980358 -0.787727  2.372229\n",
      "2013-01-01   -0.248753\n",
      "2013-01-02   -0.841614\n",
      "2013-01-03   -0.562750\n",
      "2013-01-04   -1.021166\n",
      "2013-01-05    0.960822\n",
      "Freq: D, Name: A, dtype: float64\n",
      "                   A         B\n",
      "2013-01-01 -0.248753 -0.746374\n",
      "2013-01-02 -0.841614  0.746738\n",
      "2013-01-03 -0.562750 -1.980358\n",
      "2013-01-04 -1.021166 -0.910414\n",
      "2013-01-05  0.960822  0.519082\n",
      "                   A         B\n",
      "2013-01-01 -0.248753 -0.746374\n",
      "2013-01-02 -0.841614  0.746738\n",
      "2013-01-03 -0.562750 -1.980358\n"
     ]
    }
   ],
   "source": [
    "# Label 을 이용한 선택 .loc()\n",
    "\n",
    "# 셀 선택\n",
    "print(df.loc['2013-01-01', 'A'])\n",
    "\n",
    "# 행 선택\n",
    "print(df.loc['2013-01-01'])\n",
    "\n",
    "# 행 슬라이싱\n",
    "print(df.loc['2013-01-01':'2013-01-03'])\n",
    "\n",
    "# 열 선택\n",
    "print(df.loc[:, 'A'].head())\n",
    "\n",
    "# 열 다중 선택\n",
    "print(df.loc[:, ['A', 'B']].head())\n",
    "\n",
    "# 행, 열 다중 선택\n",
    "print(df.loc['2013-01-01':'2013-01-03', ['A', 'B']])"
   ]
  },
  {
   "cell_type": "code",
   "execution_count": 9,
   "metadata": {},
   "outputs": [
    {
     "name": "stdout",
     "output_type": "stream",
     "text": [
      "-0.248753240478704\n",
      "A   -0.248753\n",
      "B   -0.746374\n",
      "C   -1.890542\n",
      "D   -2.830938\n",
      "Name: 2013-01-01 00:00:00, dtype: float64\n",
      "                   A         B         C         D\n",
      "2013-01-01 -0.248753 -0.746374 -1.890542 -2.830938\n",
      "2013-01-02 -0.841614  0.746738 -1.421638 -0.515358\n",
      "2013-01-03 -0.562750 -1.980358 -0.787727  2.372229\n",
      "2013-01-01   -0.248753\n",
      "2013-01-02   -0.841614\n",
      "2013-01-03   -0.562750\n",
      "2013-01-04   -1.021166\n",
      "2013-01-05    0.960822\n",
      "Freq: D, Name: A, dtype: float64\n",
      "                   A         B\n",
      "2013-01-01 -0.248753 -0.746374\n",
      "2013-01-02 -0.841614  0.746738\n",
      "2013-01-03 -0.562750 -1.980358\n",
      "2013-01-04 -1.021166 -0.910414\n",
      "2013-01-05  0.960822  0.519082\n",
      "                   A         B\n",
      "2013-01-01 -0.248753 -0.746374\n",
      "2013-01-02 -0.841614  0.746738\n",
      "2013-01-03 -0.562750 -1.980358\n",
      "                   A         B\n",
      "2013-01-02 -0.841614  0.746738\n",
      "2013-01-04 -1.021166 -0.910414\n"
     ]
    }
   ],
   "source": [
    "# Position을 이용한 선택 .iloc()\n",
    "\n",
    "# 셀 선택\n",
    "print(df.iloc[0, 0])\n",
    "\n",
    "# 행 선택\n",
    "print(df.iloc[0])\n",
    "\n",
    "# 행 슬라이싱\n",
    "print(df.iloc[0:3])\n",
    "\n",
    "# 열 선택\n",
    "print(df.iloc[:, 0].head())\n",
    "\n",
    "# 열 다중 선택\n",
    "print(df.iloc[:, 0:2].head())\n",
    "\n",
    "# 행, 열 다중 선택\n",
    "print(df.iloc[0:3, 0:2])\n",
    "\n",
    "print(df.iloc[[1, 3], [0, 1]])"
   ]
  },
  {
   "cell_type": "code",
   "execution_count": 10,
   "metadata": {},
   "outputs": [
    {
     "name": "stdout",
     "output_type": "stream",
     "text": [
      "                   A         B         C         D\n",
      "2013-01-05  0.960822  0.519082 -1.708319 -1.154181\n",
      "                   A         B   C         D\n",
      "2013-01-01       NaN       NaN NaN       NaN\n",
      "2013-01-02       NaN  0.746738 NaN       NaN\n",
      "2013-01-03       NaN       NaN NaN  2.372229\n",
      "2013-01-04       NaN       NaN NaN  0.413186\n",
      "2013-01-05  0.960822  0.519082 NaN       NaN\n",
      "2013-01-06       NaN  0.297646 NaN       NaN\n",
      "2013-01-01    False\n",
      "2013-01-02    False\n",
      "2013-01-03     True\n",
      "2013-01-04    False\n",
      "2013-01-05     True\n",
      "2013-01-06    False\n",
      "Freq: D, Name: E, dtype: bool\n",
      "                   A         B         C         D     E\n",
      "2013-01-03 -0.562750 -1.980358 -0.787727  2.372229   two\n",
      "2013-01-05  0.960822  0.519082 -1.708319 -1.154181  four\n"
     ]
    }
   ],
   "source": [
    "# 조건을 이용한 선택\n",
    "\n",
    "# 열 단위\n",
    "print(df[df['A'] > 0])\n",
    "\n",
    "# DataFrame 단위\n",
    "print(df[df > 0])\n",
    "\n",
    "# Boolean 리스트를 이용\n",
    "df2 = df.copy()\n",
    "df2['E'] = ['one', 'one', 'two', 'three', 'four', 'three']\n",
    "index = df2['E'].isin(['two','four'])\n",
    "print(index)\n",
    "print(df2[df2['E'].isin(['two','four'])])"
   ]
  },
  {
   "cell_type": "markdown",
   "metadata": {},
   "source": [
    "## Setting"
   ]
  },
  {
   "cell_type": "code",
   "execution_count": 11,
   "metadata": {},
   "outputs": [
    {
     "name": "stdout",
     "output_type": "stream",
     "text": [
      "                   A         B         C         D    F    G\n",
      "2013-01-01 -0.248753 -0.746374 -1.890542 -2.830938  NaN  NaN\n",
      "2013-01-02 -0.841614  0.746738 -1.421638 -0.515358  1.0  1.0\n",
      "2013-01-03 -0.562750 -1.980358 -0.787727  2.372229  2.0  2.0\n",
      "2013-01-04 -1.021166 -0.910414 -1.095411  0.413186  3.0  3.0\n",
      "2013-01-05  0.960822  0.519082 -1.708319 -1.154181  4.0  4.0\n",
      "2013-01-06 -0.421208  0.297646 -0.060907 -0.278755  5.0  5.0\n",
      "                   A         B         C         D    F\n",
      "2013-01-01 -0.248753 -0.746374 -1.890542 -2.830938  NaN\n",
      "2013-01-02 -0.841614  0.746738 -1.421638 -0.515358  1.0\n",
      "2013-01-03 -0.562750 -1.980358 -0.787727  2.372229  2.0\n",
      "2013-01-04 -1.021166 -0.910414 -1.095411  0.413186  3.0\n",
      "2013-01-05  0.960822  0.519082 -1.708319 -1.154181  4.0\n",
      "2013-01-06 -0.421208  0.297646 -0.060907 -0.278755  5.0\n",
      "                   A         B         C         D    F\n",
      "2013-01-01 -0.248753 -0.746374 -1.890542 -2.830938  NaN\n",
      "2013-01-02 -0.841614  0.746738 -1.421638 -0.515358  0.0\n",
      "2013-01-03 -0.562750 -1.980358 -0.787727  2.372229  1.0\n",
      "2013-01-04 -1.021166 -0.910414 -1.095411  0.413186  3.0\n",
      "2013-01-05  0.960822  0.519082 -1.708319 -1.154181  4.0\n",
      "2013-01-06 -0.421208  0.297646 -0.060907 -0.278755  5.0\n",
      "                   A         B         C         D    F\n",
      "2013-01-01 -0.248753 -0.746374 -1.890542 -2.830938  NaN\n",
      "2013-01-02 -0.841614  0.746738 -1.421638 -0.515358  5.0\n",
      "2013-01-03 -0.562750 -1.980358 -0.787727  2.372229  5.0\n",
      "2013-01-04 -1.021166 -0.910414 -1.095411  0.413186  5.0\n",
      "2013-01-05  0.960822  0.519082 -1.708319 -1.154181  5.0\n",
      "2013-01-06 -0.421208  0.297646 -0.060907 -0.278755  5.0\n",
      "                   A         B         C         D    F\n",
      "2013-01-01 -0.248753 -0.746374 -1.890542 -2.830938  NaN\n",
      "2013-01-02 -0.841614 -0.746738 -1.421638 -0.515358 -5.0\n",
      "2013-01-03 -0.562750 -1.980358 -0.787727 -2.372229 -5.0\n",
      "2013-01-04 -1.021166 -0.910414 -1.095411 -0.413186 -5.0\n",
      "2013-01-05 -0.960822 -0.519082 -1.708319 -1.154181 -5.0\n",
      "2013-01-06 -0.421208 -0.297646 -0.060907 -0.278755 -5.0\n"
     ]
    }
   ],
   "source": [
    "# 값 설정\n",
    "s1 = pd.Series([1,2,3,4,5,6], index=pd.date_range('20130102', periods=6))\n",
    "df['F'] = s1\n",
    "df['G'] = s1\n",
    "print(df)\n",
    "\n",
    "# 컬럼 삭제 \n",
    "df = df.drop(['G'], axis=1)\n",
    "print(df)\n",
    "\n",
    "# Label에 의한 값 설정\n",
    "df.at['2013-01-02', 'F'] = 0\n",
    "\n",
    "\n",
    "# Position에 의한 값 설정\n",
    "df.iat[2,-1] = 1\n",
    "\n",
    "print(df)\n",
    "\n",
    "# 배열을 이용한 값 설정\n",
    "df.loc[1:, 'F'] = np.array([5] * (len(df) - 1))\n",
    "print(df)\n",
    "\n",
    "# 조건을 통한 값 설정\n",
    "df2 = df.copy()\n",
    "df2[df2 > 0] = -df2\n",
    "print(df2)"
   ]
  },
  {
   "cell_type": "markdown",
   "metadata": {},
   "source": [
    "## Missing Value"
   ]
  },
  {
   "cell_type": "code",
   "execution_count": 12,
   "metadata": {},
   "outputs": [
    {
     "name": "stdout",
     "output_type": "stream",
     "text": [
      "                   A         B         C         D    F    E\n",
      "2013-01-01 -0.248753 -0.746374 -1.890542 -2.830938  NaN  1.0\n",
      "2013-01-02 -0.841614  0.746738 -1.421638 -0.515358  5.0  1.0\n",
      "2013-01-03 -0.562750 -1.980358 -0.787727  2.372229  5.0  NaN\n",
      "2013-01-04 -1.021166 -0.910414 -1.095411  0.413186  5.0  NaN\n",
      "                   A         B         C         D    F    E\n",
      "2013-01-02 -0.841614  0.746738 -1.421638 -0.515358  5.0  1.0\n",
      "                   A         B         C         D    F    E\n",
      "2013-01-01 -0.248753 -0.746374 -1.890542 -2.830938  5.0  1.0\n",
      "2013-01-02 -0.841614  0.746738 -1.421638 -0.515358  5.0  1.0\n",
      "2013-01-03 -0.562750 -1.980358 -0.787727  2.372229  5.0  5.0\n",
      "2013-01-04 -1.021166 -0.910414 -1.095411  0.413186  5.0  5.0\n",
      "                A      B      C      D      F      E\n",
      "2013-01-01  False  False  False  False   True  False\n",
      "2013-01-02  False  False  False  False  False  False\n",
      "2013-01-03  False  False  False  False  False   True\n",
      "2013-01-04  False  False  False  False  False   True\n"
     ]
    }
   ],
   "source": [
    "index = pd.date_range('20130101', periods=6)\n",
    "df1 = df.reindex(index=index[0:4], columns=list(df.columns) + ['E'])\n",
    "df1.loc[index[0]:index[1],'E'] = 1\n",
    "print(df1)\n",
    "\n",
    "# 결측치 제거하기\n",
    "print(df1.dropna(how='any'))\n",
    "\n",
    "# 결측치 채워넣기\n",
    "print(df1.fillna(value=5))\n",
    "\n",
    "# 결측치 위치보기\n",
    "print(df1.isnull())"
   ]
  },
  {
   "cell_type": "markdown",
   "metadata": {},
   "source": [
    "## Operation"
   ]
  },
  {
   "cell_type": "code",
   "execution_count": 13,
   "metadata": {},
   "outputs": [
    {
     "name": "stdout",
     "output_type": "stream",
     "text": [
      "              A         B         C         D    F\n",
      "count  6.000000  6.000000  6.000000  6.000000  5.0\n",
      "mean  -0.355778 -0.345613 -1.160757 -0.332303  5.0\n",
      "std    0.702963  1.049448  0.671351  1.721934  0.0\n",
      "min   -1.021166 -1.980358 -1.890542 -2.830938  5.0\n",
      "25%   -0.771898 -0.869404 -1.636649 -0.994475  5.0\n",
      "50%   -0.491979 -0.224364 -1.258524 -0.397056  5.0\n",
      "75%   -0.291867  0.463723 -0.864648  0.240201  5.0\n",
      "max    0.960822  0.746738 -0.060907  2.372229  5.0\n",
      "A   -0.355778\n",
      "B   -0.345613\n",
      "C   -1.160757\n",
      "D   -0.332303\n",
      "F    5.000000\n",
      "dtype: float64\n",
      "2013-01-01   -1.429152\n",
      "2013-01-02    0.593626\n",
      "2013-01-03    0.808279\n",
      "2013-01-04    0.477239\n",
      "2013-01-05    0.723481\n",
      "2013-01-06    0.907355\n",
      "Freq: D, dtype: float64\n",
      "2013-01-01    NaN\n",
      "2013-01-02    NaN\n",
      "2013-01-03    1.0\n",
      "2013-01-04    3.0\n",
      "2013-01-05    5.0\n",
      "2013-01-06    NaN\n",
      "Freq: D, dtype: float64\n",
      "                   A         B         C         D    F\n",
      "2013-01-01       NaN       NaN       NaN       NaN  NaN\n",
      "2013-01-02       NaN       NaN       NaN       NaN  NaN\n",
      "2013-01-03 -1.562750 -2.980358 -1.787727  1.372229  4.0\n",
      "2013-01-04 -4.021166 -3.910414 -4.095411 -2.586814  2.0\n",
      "2013-01-05 -4.039178 -4.480918 -6.708319 -6.154181  0.0\n",
      "2013-01-06       NaN       NaN       NaN       NaN  NaN\n"
     ]
    }
   ],
   "source": [
    "# DataFrame 통계확인\n",
    "print(df.describe())\n",
    "\n",
    "# 열 별 통계\n",
    "print(df.mean())\n",
    "\n",
    "# 행 별 통계\n",
    "print(df.mean(1))\n",
    "\n",
    "# DataFrame 연산\n",
    "s = pd.Series([1,3,5,np.nan,6,8], index=index).shift(2)\n",
    "print(s)\n",
    "print(df.sub(s, axis='index'))"
   ]
  },
  {
   "cell_type": "code",
   "execution_count": 14,
   "metadata": {},
   "outputs": [
    {
     "name": "stdout",
     "output_type": "stream",
     "text": [
      "   2013-01-01  2013-01-02  2013-01-03  2013-01-04  2013-01-05  2013-01-06\n",
      "A   -0.248753   -0.841614   -0.562750   -1.021166    0.960822   -0.421208\n",
      "B   -0.746374    0.746738   -1.980358   -0.910414    0.519082    0.297646\n",
      "C   -1.890542   -1.421638   -0.787727   -1.095411   -1.708319   -0.060907\n",
      "D   -2.830938   -0.515358    2.372229    0.413186   -1.154181   -0.278755\n",
      "F         NaN    5.000000    5.000000    5.000000    5.000000    5.000000\n"
     ]
    }
   ],
   "source": [
    "# DataFrame Transpose(전치, 열과행치환)\n",
    "print(df.T)"
   ]
  },
  {
   "cell_type": "code",
   "execution_count": 15,
   "metadata": {},
   "outputs": [
    {
     "name": "stdout",
     "output_type": "stream",
     "text": [
      "              F         D         C         B         A\n",
      "2013-01-01  NaN -2.830938 -1.890542 -0.746374 -0.248753\n",
      "2013-01-02  5.0 -0.515358 -1.421638  0.746738 -0.841614\n",
      "2013-01-03  5.0  2.372229 -0.787727 -1.980358 -0.562750\n",
      "2013-01-04  5.0  0.413186 -1.095411 -0.910414 -1.021166\n",
      "2013-01-05  5.0 -1.154181 -1.708319  0.519082  0.960822\n",
      "2013-01-06  5.0 -0.278755 -0.060907  0.297646 -0.421208\n",
      "                   A         B         C         D    F\n",
      "2013-01-03 -0.562750 -1.980358 -0.787727  2.372229  5.0\n",
      "2013-01-04 -1.021166 -0.910414 -1.095411  0.413186  5.0\n",
      "2013-01-01 -0.248753 -0.746374 -1.890542 -2.830938  NaN\n",
      "2013-01-06 -0.421208  0.297646 -0.060907 -0.278755  5.0\n",
      "2013-01-05  0.960822  0.519082 -1.708319 -1.154181  5.0\n",
      "2013-01-02 -0.841614  0.746738 -1.421638 -0.515358  5.0\n"
     ]
    }
   ],
   "source": [
    "# 축별로 정렬\n",
    "print(df.sort_index(axis=1, ascending=False))\n",
    "\n",
    "# 값별로 정렬\n",
    "print(df.sort_values(by='B'))"
   ]
  },
  {
   "cell_type": "code",
   "execution_count": 16,
   "metadata": {},
   "outputs": [
    {
     "name": "stdout",
     "output_type": "stream",
     "text": [
      "                   A         B         C         D     F\n",
      "2013-01-01 -0.248753 -0.746374 -1.890542 -2.830938   NaN\n",
      "2013-01-02 -1.090367  0.000365 -3.312180 -3.346296   5.0\n",
      "2013-01-03 -1.653117 -1.979993 -4.099907 -0.974067  10.0\n",
      "2013-01-04 -2.674284 -2.890407 -5.195318 -0.560881  15.0\n",
      "2013-01-05 -1.713462 -2.371325 -6.903637 -1.715062  20.0\n",
      "2013-01-06 -2.134670 -2.073679 -6.964544 -1.993817  25.0\n",
      "A    1.981988\n",
      "B    2.727096\n",
      "C    1.829635\n",
      "D    5.203167\n",
      "F    0.000000\n",
      "dtype: float64\n",
      "                   A         B         C         D         F\n",
      "2013-01-01 -0.248753 -0.995127 -2.885669 -5.716607       NaN\n",
      "2013-01-02 -0.841614 -0.094875 -1.516513 -2.031871  2.968129\n",
      "2013-01-03 -0.562750 -2.543108 -3.330835 -0.958606  4.041394\n",
      "2013-01-04 -1.021166 -1.931580 -3.026991 -2.613805  2.386195\n",
      "2013-01-05  0.960822  1.479903 -0.228416 -1.382597  3.617403\n",
      "2013-01-06 -0.421208 -0.123562 -0.184468 -0.463223  4.536777\n",
      "2013-01-01    2.582185\n",
      "2013-01-02    6.421638\n",
      "2013-01-03    6.980358\n",
      "2013-01-04    6.095411\n",
      "2013-01-05    6.708319\n",
      "2013-01-06    5.421208\n",
      "Freq: D, dtype: float64\n"
     ]
    }
   ],
   "source": [
    "# apply: 데이터에 함수 적용\n",
    "\n",
    "# 열별 적용\n",
    "print(df.apply(np.cumsum))\n",
    "print(df.apply(lambda x: x.max() - x.min()))\n",
    "\n",
    "# 행별 적용\n",
    "print(df.apply(np.cumsum, axis=1))\n",
    "print(df.apply(lambda x: x.max() - x.min(), axis=1))"
   ]
  },
  {
   "cell_type": "code",
   "execution_count": 17,
   "metadata": {},
   "outputs": [
    {
     "name": "stdout",
     "output_type": "stream",
     "text": [
      "0    6\n",
      "1    6\n",
      "2    6\n",
      "3    1\n",
      "4    1\n",
      "5    6\n",
      "6    6\n",
      "7    4\n",
      "8    6\n",
      "9    4\n",
      "dtype: int64\n",
      "6    6\n",
      "4    2\n",
      "1    2\n",
      "dtype: int64\n"
     ]
    }
   ],
   "source": [
    "# Histogramming: 데이터 값 세기\n",
    "s = pd.Series(np.random.randint(0, 7, size=10))\n",
    "print(s)\n",
    "print(s.value_counts())"
   ]
  },
  {
   "cell_type": "code",
   "execution_count": 18,
   "metadata": {},
   "outputs": [
    {
     "name": "stdout",
     "output_type": "stream",
     "text": [
      "0       a\n",
      "1       b\n",
      "2       c\n",
      "3    aaba\n",
      "4    baca\n",
      "5     NaN\n",
      "6    caba\n",
      "7     dog\n",
      "8     cat\n",
      "dtype: object\n"
     ]
    }
   ],
   "source": [
    "# 문자열 함수\n",
    "s = pd.Series(['A', 'B', 'C', 'Aaba', 'Baca', np.nan, 'CABA', 'dog', 'cat'])\n",
    "print(s.str.lower())"
   ]
  },
  {
   "cell_type": "markdown",
   "metadata": {},
   "source": [
    "## Merge\n",
    "\n",
    "상세 참조자료: https://pandas.pydata.org/pandas-docs/stable/user_guide/merging.html"
   ]
  },
  {
   "cell_type": "code",
   "execution_count": 19,
   "metadata": {},
   "outputs": [
    {
     "name": "stdout",
     "output_type": "stream",
     "text": [
      "          0         1         2\n",
      "0 -0.825634 -1.295592 -2.054984\n",
      "1  0.798575 -1.324423 -0.050040\n",
      "          0         1         2\n",
      "3 -1.688734 -0.229391 -0.468013\n",
      "4 -1.310736  0.913415  1.382516\n",
      "          0         1         2\n",
      "0 -0.825634 -1.295592 -2.054984\n",
      "1  0.798575 -1.324423 -0.050040\n",
      "3 -1.688734 -0.229391 -0.468013\n",
      "4 -1.310736  0.913415  1.382516\n",
      "          0         1         2\n",
      "0 -0.825634 -1.295592 -2.054984\n",
      "1  0.798575 -1.324423 -0.050040\n",
      "2 -1.688734 -0.229391 -0.468013\n",
      "3 -1.310736  0.913415  1.382516\n",
      "          0         1         2         3         4         5\n",
      "0 -0.825634 -1.295592 -2.054984 -1.688734 -0.229391 -0.468013\n",
      "1  0.798575 -1.324423 -0.050040 -1.310736  0.913415  1.382516\n"
     ]
    }
   ],
   "source": [
    "# Concat: 단순히 두 DataFrame을 연결만 하기 때문에 의도한 결과와 같은지 확인이 필요합니다.\n",
    "df = pd.DataFrame(np.random.randn(10, 3))\n",
    "a = df[:2]\n",
    "b = df[3:5]\n",
    "print(a)\n",
    "print(b)\n",
    "\n",
    "# 행 기반 연결\n",
    "print(pd.concat([a, b]))\n",
    "print(pd.concat([a, b], ignore_index=True))\n",
    "\n",
    "# 열 기반 연결\n",
    "b.columns = [3, 4, 5]\n",
    "b.reset_index(inplace=True, drop=True)\n",
    "print(pd.concat([a, b], axis=1))"
   ]
  },
  {
   "cell_type": "code",
   "execution_count": 20,
   "metadata": {},
   "outputs": [
    {
     "name": "stdout",
     "output_type": "stream",
     "text": [
      "          A         B         C\n",
      "0  0.081917 -1.950212  2.411885\n",
      "1  0.105589  0.168567 -0.053157\n",
      "2 -0.784855 -0.088158  0.295081\n",
      "          A         B         C\n",
      "0  0.081917 -1.950212  2.411885\n",
      "1  0.105589  0.168567 -0.053157\n",
      "2 -0.784855 -0.088158  0.295081\n",
      "3  0.105589  0.168567 -0.053157\n"
     ]
    }
   ],
   "source": [
    "# Append: 행 기반 concat 과 같습니다.\n",
    "df = pd.DataFrame(np.random.randn(3, 3), columns=['A', 'B', 'C'])\n",
    "print(df)\n",
    "\n",
    "s = df.iloc[1]\n",
    "print(df.append(s, ignore_index=True))"
   ]
  },
  {
   "cell_type": "code",
   "execution_count": 21,
   "metadata": {},
   "outputs": [
    {
     "name": "stdout",
     "output_type": "stream",
     "text": [
      "   key  lval\n",
      "0  foo     1\n",
      "1  bar     2\n",
      "   key  rval\n",
      "0  foo     4\n",
      "1  bar     5\n",
      "   key  lval  rval\n",
      "0  foo     1     4\n",
      "1  bar     2     5\n"
     ]
    }
   ],
   "source": [
    "# Join: SQL 에서 지원하는 방식과 유사\n",
    "left = pd.DataFrame({'key': ['foo', 'bar'], 'lval': [1, 2]})\n",
    "right = pd.DataFrame({'key': ['foo', 'bar'], 'rval': [4, 5]})\n",
    "print(left)\n",
    "print(right)\n",
    "print(pd.merge(left, right, on= 'key'))"
   ]
  },
  {
   "cell_type": "code",
   "execution_count": 22,
   "metadata": {},
   "outputs": [
    {
     "name": "stdout",
     "output_type": "stream",
     "text": [
      "     A      B         C         D\n",
      "0  foo    one -1.273316 -0.198317\n",
      "1  bar    one  2.053831  1.109291\n",
      "2  foo    two  0.480657 -0.367713\n",
      "3  bar  three -1.263757 -1.559587\n",
      "            C         D\n",
      "A                      \n",
      "bar  0.790074 -0.450296\n",
      "foo -0.792659 -0.566030\n",
      "                  C         D\n",
      "A   B                        \n",
      "bar one    2.053831  1.109291\n",
      "    three -1.263757 -1.559587\n",
      "foo one   -1.273316 -0.198317\n",
      "    two    0.480657 -0.367713\n"
     ]
    }
   ],
   "source": [
    "# GroupBy: SQL 에서 지원되는 방식과 유사\n",
    "df = pd.DataFrame({\n",
    "  'A' : ['foo', 'bar', 'foo', 'bar'],\n",
    "  'B' : ['one', 'one', 'two', 'three'],\n",
    "  'C' : np.random.randn(4),\n",
    "  'D' : np.random.randn(4)\n",
    "})\n",
    "print(df)\n",
    "\n",
    "print(df.groupby('A').sum())\n",
    "print(df.groupby(['A','B']).sum())"
   ]
  },
  {
   "cell_type": "markdown",
   "metadata": {},
   "source": [
    "## Reshaping"
   ]
  },
  {
   "cell_type": "code",
   "execution_count": 23,
   "metadata": {},
   "outputs": [
    {
     "name": "stdout",
     "output_type": "stream",
     "text": [
      "one  a    1.0\n",
      "     b    2.0\n",
      "two  a    3.0\n",
      "     b    4.0\n",
      "dtype: float64\n",
      "       a    b\n",
      "one  1.0  2.0\n",
      "two  3.0  4.0\n",
      "one  a    1.0\n",
      "     b    2.0\n",
      "two  a    3.0\n",
      "     b    4.0\n",
      "dtype: float64\n",
      "        A  B    C         D         E\n",
      "0     one  A  foo -0.675779 -0.063768\n",
      "1     one  B  foo -1.013232 -0.714525\n",
      "2     two  C  foo  0.375405 -1.900144\n",
      "3   three  A  bar -1.745550 -0.627609\n",
      "4     one  B  bar -0.782500 -1.501190\n",
      "5     one  C  bar -0.428608  0.362804\n",
      "6     two  A  foo -0.260621  0.178342\n",
      "7   three  B  foo -0.410908  0.884395\n",
      "8     one  C  foo -0.655849 -0.633740\n",
      "9     one  A  bar  1.275894 -1.099731\n",
      "10    two  B  bar -1.441008 -0.370465\n",
      "11  three  C  bar  0.028793 -0.169769\n",
      "C             bar       foo\n",
      "A     B                    \n",
      "one   A  1.275894 -0.675779\n",
      "      B -0.782500 -1.013232\n",
      "      C -0.428608 -0.655849\n",
      "three A -1.745550       NaN\n",
      "      B       NaN -0.410908\n",
      "      C  0.028793       NaN\n",
      "two   A       NaN -0.260621\n",
      "      B -1.441008       NaN\n",
      "      C       NaN  0.375405\n"
     ]
    }
   ],
   "source": [
    "# Stack\n",
    "index = pd.MultiIndex.from_tuples([('one', 'a'), ('one', 'b'),\n",
    "                                   ('two', 'a'), ('two', 'b')])\n",
    "s = pd.Series(np.arange(1.0, 5.0), index=index)\n",
    "print(s)\n",
    "df = s.unstack()\n",
    "print(df)\n",
    "print(df.stack())\n",
    "\n",
    "# Pivot\n",
    "df = pd.DataFrame({'A' : ['one', 'one', 'two', 'three'] * 3,\n",
    "                   'B' : ['A', 'B', 'C'] * 4,\n",
    "                   'C' : ['foo', 'foo', 'foo', 'bar', 'bar', 'bar'] * 2,\n",
    "                   'D' : np.random.randn(12),\n",
    "                   'E' : np.random.randn(12)})\n",
    "print(df)\n",
    "print(pd.pivot_table(df, values='D', index=['A', 'B'], columns=['C']))"
   ]
  },
  {
   "cell_type": "markdown",
   "metadata": {},
   "source": [
    "## Time Series\n",
    "\n",
    "Time Series 데이터를 다룰 때 필요한 편리한 기능을 제공합니다.\n",
    "\n",
    "상세참조자료: https://pandas.pydata.org/pandas-docs/stable/user_guide/timeseries.html"
   ]
  },
  {
   "cell_type": "code",
   "execution_count": 24,
   "metadata": {},
   "outputs": [
    {
     "name": "stdout",
     "output_type": "stream",
     "text": [
      "DatetimeIndex(['2018-01-01', '2018-01-01', '2018-01-01'], dtype='datetime64[ns]', freq=None)\n",
      "DatetimeIndex(['2018-01-01 00:00:00', '2018-01-01 01:00:00'], dtype='datetime64[ns]', freq='H')\n",
      "0   2009-07-31\n",
      "1   2010-01-10\n",
      "2          NaT\n",
      "dtype: datetime64[ns]\n",
      "DatetimeIndex(['2005-11-23', '2010-12-31'], dtype='datetime64[ns]', freq=None)\n",
      "DatetimeIndex(['2012-10-08 18:15:05', '2012-10-09 18:15:05'], dtype='datetime64[ns]', freq=None)\n",
      "DatetimeIndex(['2012-10-08 18:15:05.100000', '2012-10-08 18:15:05.200000'], dtype='datetime64[ns]', freq=None)\n",
      "ERROR: ('Unknown string format:', 'asd')\n",
      "DatetimeIndex(['2018-01-01 00:00:00+00:00', '2018-01-01 01:00:00+00:00'], dtype='datetime64[ns, UTC]', freq='H')\n",
      "DatetimeIndex(['2018-01-01 09:00:00+09:00', '2018-01-01 10:00:00+09:00'], dtype='datetime64[ns, Asia/Seoul]', freq='H')\n"
     ]
    }
   ],
   "source": [
    "import datetime\n",
    "\n",
    "# 다양한 방법으로 DatetimeIndex 생성\n",
    "dti = pd.to_datetime(['1/1/2018', np.datetime64('2018-01-01'), datetime.datetime(2018, 1, 1)])\n",
    "print(dti)\n",
    "\n",
    "dti = pd.date_range('2018-01-01', periods=2, freq='H')\n",
    "print(dti)\n",
    "\n",
    "# DateTimeIndex 로 변환\n",
    "print(pd.to_datetime(pd.Series(['Jul 31, 2009', '2010-01-10', None])))\n",
    "print(pd.to_datetime(['2005/11/23', '2010.12.31']))\n",
    "print(pd.to_datetime([1349720105, 1349806505], unit='s')) # Epoch Timestamp Sec\n",
    "print(pd.to_datetime([1349720105100, 1349720105200], unit='ms')) # Epoch Timestamp Millisec\n",
    "\n",
    "# DateTimeIndex 로 변환시 에러 처리\n",
    "try:\n",
    "    pd.to_datetime(['2009/07/31', 'asd'], errors='raise')\n",
    "except Exception as e:\n",
    "    print(\"ERROR: {}\".format(e))\n",
    "pd.to_datetime(['2009/07/31', 'asd'], errors='ignore')\n",
    "  \n",
    "# Timezone 설정\n",
    "dti = dti.tz_localize('UTC')\n",
    "print(dti)\n",
    "\n",
    "# Timezone 변경\n",
    "dti = dti.tz_convert('Asia/Seoul')\n",
    "print(dti)"
   ]
  },
  {
   "cell_type": "code",
   "execution_count": 25,
   "metadata": {},
   "outputs": [
    {
     "name": "stdout",
     "output_type": "stream",
     "text": [
      "2018-01-01    0\n",
      "2018-01-02    1\n",
      "2018-01-03    2\n",
      "2018-01-04    3\n",
      "2018-01-05    4\n",
      "Freq: D, dtype: int64\n",
      "2018-01-01 00:00:00    0.0\n",
      "2018-01-01 08:00:00    NaN\n",
      "2018-01-01 16:00:00    NaN\n",
      "2018-01-02 00:00:00    1.0\n",
      "2018-01-02 08:00:00    NaN\n",
      "2018-01-02 16:00:00    NaN\n",
      "2018-01-03 00:00:00    2.0\n",
      "2018-01-03 08:00:00    NaN\n",
      "2018-01-03 16:00:00    NaN\n",
      "2018-01-04 00:00:00    3.0\n",
      "2018-01-04 08:00:00    NaN\n",
      "2018-01-04 16:00:00    NaN\n",
      "2018-01-05 00:00:00    4.0\n",
      "Freq: 8H, dtype: float64\n",
      "2018-01-01    0.5\n",
      "2018-01-03    2.5\n",
      "2018-01-05    4.0\n",
      "Freq: 2D, dtype: float64\n"
     ]
    }
   ],
   "source": [
    "# 시간단위 샘플링\n",
    "idx = pd.date_range('2018-01-01', periods=5, freq='D')\n",
    "ts = pd.Series(range(len(idx)), index=idx)\n",
    "print(ts)\n",
    "print(ts.resample('8H').mean())\n",
    "print(ts.resample('2D').mean())"
   ]
  },
  {
   "cell_type": "code",
   "execution_count": 26,
   "metadata": {},
   "outputs": [
    {
     "name": "stdout",
     "output_type": "stream",
     "text": [
      "0.24.1\n",
      "Friday\n",
      "Saturday\n",
      "Monday\n"
     ]
    }
   ],
   "source": [
    "## Version 0.24.1 이상\n",
    "print(pd.__version__)\n",
    "if pd.__version__ >= \"0.24.1\":\n",
    "    # 시간 계산\n",
    "    friday = pd.Timestamp('2018-01-05')\n",
    "    print(friday.day_name())\n",
    "\n",
    "    # Add 1 day\n",
    "    saturday = friday + pd.Timedelta('1 day')\n",
    "    print(saturday.day_name())\n",
    "\n",
    "    # Add 1 business day (Friday --> Monday)\n",
    "    monday = friday + pd.offsets.BDay()\n",
    "    print(monday.day_name())"
   ]
  },
  {
   "cell_type": "code",
   "execution_count": 37,
   "metadata": {},
   "outputs": [],
   "source": []
  }
 ],
 "metadata": {
  "kernelspec": {
   "display_name": "Python 3",
   "language": "python",
   "name": "python3"
  },
  "language_info": {
   "codemirror_mode": {
    "name": "ipython",
    "version": 3
   },
   "file_extension": ".py",
   "mimetype": "text/x-python",
   "name": "python",
   "nbconvert_exporter": "python",
   "pygments_lexer": "ipython3",
   "version": "3.5.2"
  },
  "name": "03_de_pandas",
  "nikola": {
   "category": "",
   "date": "2019-03-01",
   "description": "",
   "link": "",
   "slug": "pandas-10mins",
   "tags": "",
   "title": "Pandas 10분만에 훍어보기",
   "type": "text"
  },
  "notebookId": 2469278771832403,
  "toc": {
   "base_numbering": 1,
   "nav_menu": {},
   "number_sections": true,
   "sideBar": true,
   "skip_h1_title": false,
   "title_cell": "Table of Contents",
   "title_sidebar": "Contents",
   "toc_cell": false,
   "toc_position": {},
   "toc_section_display": true,
   "toc_window_display": false
  }
 },
 "nbformat": 4,
 "nbformat_minor": 2
}
