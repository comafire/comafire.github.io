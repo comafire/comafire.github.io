{
 "cells": [
  {
   "cell_type": "markdown",
   "metadata": {},
   "source": [
    "# 안전하게 디폴트 python 버전 설정하기  \n",
    "\n",
    "python2 의 지원 종료가 다가오면서 python3 만 설치하여 사용하는 경우가 많은데, ubuntu 에서 디폴트 python 으로 python3 사용하려면 update-alternatives 명령을 이용합니다.\n",
    "<!-- TEASER_END -->"
   ]
  },
  {
   "cell_type": "markdown",
   "metadata": {},
   "source": [
    "sudo update-alternatives --install <link> <name> <path> <priority> 형식의 명령을 통해 안전하게 default python 을 선택하여 사용할 수 있습니다.\n",
    "\n",
    "```bash\n",
    "> sudo update-alternatives --install /usr/bin/python python /usr/bin/python3 1\n",
    "update-alternatives: using /usr/bin/python3 to provide /usr/bin/python (python) in auto mode\n",
    "> sudo update-alternatives --config python\n",
    "There is only one alternative in link group python (providing /usr/bin/python): /usr/bin/python3\n",
    "Nothing to configure.\n",
    "> python\n",
    "Python 3.6.9 (default, Nov  7 2019, 10:44:02) \n",
    "[GCC 8.3.0] on linux\n",
    "Type \"help\", \"copyright\", \"credits\" or \"license\" for more information.\n",
    ">>> quit()\n",
    "```"
   ]
  }
 ],
 "metadata": {
  "kernelspec": {
   "display_name": "Python 3",
   "language": "python",
   "name": "python3"
  },
  "language_info": {
   "codemirror_mode": {
    "name": "ipython",
    "version": 3
   },
   "file_extension": ".py",
   "mimetype": "text/x-python",
   "name": "python",
   "nbconvert_exporter": "python",
   "pygments_lexer": "ipython3",
   "version": "3.6.8"
  },
  "nikola": {
   "category": "",
   "date": "2020-02-01",
   "description": "",
   "link": "",
   "slug": "2019-python-alternatives",
   "tags": "",
   "title": "안전하게 디폴트 python 버전 설정하기",
   "type": "text"
  },
  "toc": {
   "base_numbering": 1,
   "nav_menu": {},
   "number_sections": true,
   "sideBar": true,
   "skip_h1_title": false,
   "title_cell": "Table of Contents",
   "title_sidebar": "Contents",
   "toc_cell": false,
   "toc_position": {},
   "toc_section_display": true,
   "toc_window_display": false
  }
 },
 "nbformat": 4,
 "nbformat_minor": 4
}
