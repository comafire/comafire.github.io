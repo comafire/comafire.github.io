{
 "cells": [
  {
   "cell_type": "markdown",
   "metadata": {},
   "source": [
    "# End to End Data Science (E2EDS)\n",
    "\n",
    "빅데이터 및 인공지능 시대가 도래함에 따라 기존에 데이터를 활용할 생각을 하지 않았던 많은 도메인에서 데이터를 활용하여 분석을 통한 지식과 인사이트를 추출하여 도메인 문제들을 해결하는 사례들이 점점 보편화 되어 가고 있습니다. 이에 점점 더 데이터를 수집, 저장 및 분석하는데 용이한 자동화된 플랫폼과 도구들이 나오고 있으며, 이를 이용해 개인이 처음부터 끝까지 데이터 사이언스 방법론에 따라 데이터 프로젝트를 진행(E2EDS)해 봄으로써 데이터 사이언스를 더욱 잘 이해하고 활용할 수 있게 되어가고 있습니다."
   ]
  },
  {
   "cell_type": "markdown",
   "metadata": {},
   "source": [
    "## 데이터 사이언스? (What is Data Science?)\n",
    "\n",
    "Youtube에 소개된 5분 스피치\n",
    "\n",
    "[![youtube](https://img.youtube.com/vi/X3paOmcrTjQ/0.jpg)](https://www.youtube.com/watch?v=X3paOmcrTjQ)\n"
   ]
  },
  {
   "cell_type": "markdown",
   "metadata": {},
   "source": [
    "## 데이터 사이언스 방법론 \n",
    "\n",
    "### Data Science Methodolgy 101\n",
    "\n",
    "Coursera 에서는 아래와 같이 Data Science를 진행할때 필요한 Methodology 와 Question 을 정리하였습니다. 실제 프로젝트 진행 시 여러가지 이유로 100% 아래와 같은 프로세스대로 진행된다고는 할 수 없지만, 아래의 프로세스와 질문에 대한 답을 생각해 본다면 프로젝트의 전체적인 흐름에 대한 관점을 정리할 수 있으며, 보다 요구사항에 부합하는 데이터 프로젝트를 진행 할 수 있습니다.\n",
    "\n",
    "![](https://miro.medium.com/max/1400/1*QaDjoT2jbziHwuUVdeWSbw.jpeg)\n",
    "\n",
    "* Business Understanding: 비지니스의 이해를 통해 풀어야 할 문제에 대한 정의와 프로젝트의 목표 및 결과를 설정.\n",
    "* Analytic Approach: 통계, 머신러닝 기술을 이용하여 프로젝트 결과를 위한 접근방법 정의.\n",
    "* Data Requirements: 데이터 모델링에 사용될 알고리즘에 따라 필요한 데이터의 요구 사항정의.\n",
    "* Data Collection: 데이터 모델링에 사용될 데이터 Raw Data 수집 방법 정의.\n",
    "* Data Understanding: 제공된 데이터에 대한 통계적, 시각적 방법을 통해 초기 데이터를 이해.\n",
    "* Data Preparation: Data Collection 을 통해 수집된 Raw Data 를 각 모델에서 필요한 입력 데이터 형태에 맞게 변형.\n",
    "* Data Modeling: Data Preparation 을 통해 제공된 훈련용 입력 데이터를 이용해 데이터 모델 훈련.\n",
    "* Model Evaluation: Data Modeling 을 통해 훈련된 모델을 이용해 테스트 데이터에 대한 모델 성능을 평가.\n",
    "* Build Data Product: 최종 선택된 데이터 모델을 이용하여 Data Product 을 구축.\n",
    "* Feedback: Data Product 사용자들의 Feedback 을 받아 전체 프로세스를 순환하면서 발전 시킴.\n",
    "  \n",
    "코세라 강의: https://www.coursera.org/learn/data-science-methodology\n",
    "\n",
    "블로그에 올라온 강좌 서머리 들\n",
    "* Data Science Methodology — How to design your data science project\n",
    "  * [Overview of Data Science Methodology](https://medium.com/ml-research-lab/data-science-methodology-101-2fa9b7cf2ffe)\n",
    "  * [Part-1 Data Science Methodology- From Problem to Approach](https://medium.com/ml-research-lab/part-1-data-science-methodology-from-problem-to-approach-e2d05e7afc6b)\n",
    "  * [Part-2 Data Science Methodology From Requirement to Collection](https://medium.com/ml-research-lab/part-2-data-science-methodology-from-requirement-to-collection-4964e1f31058)\n",
    "  * [Part-3 Data Science Methodology From Understanding to Preparation](https://medium.com/ml-research-lab/part-3-data-science-methodology-from-understanding-to-preparation-a666a8203179)\n",
    "  * [Part-4 Data Science Methodology From Modelling to Evaluation](https://medium.com/ml-research-lab/part-4-data-science-methodology-from-modelling-to-evaluation-3fb3c0cdf805)\n",
    "  * [Part-5 Data Science Methodology From Deployment to Feedback](https://medium.com/ml-research-lab/part-5-data-science-methodology-from-deployment-to-feedback-d37f5e0ec479)\n",
    "* [Data Science Methodology-101 - Steps to follow while being a Data Scientist to solve any specific problem](https://medium.com/@umaruninawab321/data-science-methodology-101-81a9aedcb9dc)\n"
   ]
  },
  {
   "cell_type": "markdown",
   "metadata": {},
   "source": [
    "## 데이터 사이언스 직군\n",
    "\n",
    "데이터 사이언스 기술이 발전함에 따라서 데이터 사이언스를 수행하는 사람들에 직군 또한 데이터 사이언티스트라는 직군에서 좀더 세분화되고 있으며, 이로인해 직군의 정의와 수행 범위과 변경되기도 하여 혼란 스럽기도 합니다만 대략 적으로 아래 소개된 글들을 통해 세분화된 직군들의 업무 정의 및 수행 범위를 파악할 수 있습니다.\n",
    "\n",
    "### 데이터 사이언스 직군의 변화에 대한 고찰\n",
    "\n",
    "[Machine Learning Engineer vs Data Scientist (Is Data Science Over?) vs Data Analyst vs Research Scientist vs Applied Scientist vs… ](https://towardsdatascience.com/mlevsds-3c89425baabb)\n",
    "\n",
    "번역: [머신 러닝 엔지니어 vs. 데이터 사이언티스트](https://medium.com/code-states/%EB%A8%B8%EC%8B%A0-%EB%9F%AC%EB%8B%9D-%EC%97%94%EC%A7%80%EB%8B%88%EC%96%B4-vs-%EB%8D%B0%EC%9D%B4%ED%84%B0-%EC%82%AC%EC%9D%B4%EC%96%B8%ED%8B%B0%EC%8A%A4%ED%8A%B8-7cff2ae6f253)\n",
    "\n",
    "![](https://miro.medium.com/max/1400/1*51rgXMpM7q0S_gHBKX-FvA.png)\n",
    "![](https://miro.medium.com/max/1400/1*sGlxcIB1KAPjSSoCEheXng.png)\n",
    "\n",
    "### Ops 적인 측면에서 바라본 데이터 사이언스 직군\n",
    "\n",
    "[What the Ops are you talking about?](https://towardsdatascience.com/what-the-ops-are-you-talking-about-518b1b1a2694)\n",
    "\n",
    "![](https://miro.medium.com/max/2000/1*SQP1pjIA1DeAWRAkTw6ODA.png)\n",
    "\n",
    "### 국내 기업 관점에서 바라본 데이터 분야 직군\n",
    "\n",
    "[데이터 분야의 직군 소개](https://github.com/Team-Neighborhood/I-want-to-study-Data-Science/wiki/%EB%8D%B0%EC%9D%B4%ED%84%B0-%EB%B6%84%EC%95%BC%EC%9D%98-%EC%A7%81%EA%B5%B0-%EC%86%8C%EA%B0%9C)\n",
    "\n",
    "![](https://camo.githubusercontent.com/85fbb8ad73ae8649610e1a67ead1395712600a92e38a7c7727ba7c4403d8826c/68747470733a2f2f7777772e64726f70626f782e636f6d2f732f77316a76736466306d7638667a346a2f53637265656e73686f74253230323031382d30372d323025323031312e35362e31392e706e673f7261773d31)\n",
    "\n",
    "\n"
   ]
  },
  {
   "cell_type": "markdown",
   "metadata": {},
   "source": [
    "## 데이터 사이언스 기술\n",
    "\n",
    "데이터 사이언스를 위해 필요한 기술들을 맵 형태로 정리해 놓은 글입니다.  \n",
    "\n",
    "[The Data Science Process - A Visual Guide to Standard Procedures in Data Science](https://towardsdatascience.com/the-data-science-process-a19eb7ebc41b)\n",
    "\n",
    "![](https://miro.medium.com/max/1400/1*o7DTEHgBknK2iBE9c-2Ing.jpeg)"
   ]
  },
  {
   "cell_type": "code",
   "execution_count": null,
   "metadata": {},
   "outputs": [],
   "source": []
  }
 ],
 "metadata": {
  "kernelspec": {
   "display_name": "Python 3",
   "language": "python",
   "name": "python3"
  },
  "language_info": {
   "codemirror_mode": {
    "name": "ipython",
    "version": 3
   },
   "file_extension": ".py",
   "mimetype": "text/x-python",
   "name": "python",
   "nbconvert_exporter": "python",
   "pygments_lexer": "ipython3",
   "version": "3.7.6"
  }
 },
 "nbformat": 4,
 "nbformat_minor": 4
}
