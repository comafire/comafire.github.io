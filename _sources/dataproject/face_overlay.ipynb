{
 "cells": [
  {
   "cell_type": "markdown",
   "id": "f177581a-9b96-4932-93eb-7d266c3b0d37",
   "metadata": {},
   "source": [
    "# Face Overlay"
   ]
  }
 ],
 "metadata": {
  "kernelspec": {
   "display_name": "Python 3",
   "language": "python",
   "name": "python3"
  },
  "language_info": {
   "codemirror_mode": {
    "name": "ipython",
    "version": 3
   },
   "file_extension": ".py",
   "mimetype": "text/x-python",
   "name": "python",
   "nbconvert_exporter": "python",
   "pygments_lexer": "ipython3",
   "version": "3.8.9"
  }
 },
 "nbformat": 4,
 "nbformat_minor": 5
}
