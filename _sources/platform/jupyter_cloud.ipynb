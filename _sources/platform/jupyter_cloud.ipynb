{
 "cells": [
  {
   "cell_type": "markdown",
   "metadata": {},
   "source": [
    "# Jupyter (Cloud)\n",
    "\n",
    "처음에는 Cloud 에서 제공하는 Jupyter와 유사한 인터랙티브한 개발 환경을 사용하거나 Jupyter 만을 간단하게 설치해서 사용해 보다가 개발 환경이 익숙해 지고 나면 다른 프로그램들을 추가로 설치하면서 배워나가시는 것을 추천합니다.\n",
    "\n",
    "Jupyter 개발 환경만을 구축하는 것은 설치 가이드를 따라하면 많은 시간이 들지는 않습니다. 하지만, 입문자나 리눅스 시스템에 익숙하지 않다면 설치에 많은 시간을 할애하기 보다는 주 목적인 데이터 사이언스에 시간을 먼저 할애하는 것이 맞습니다. 이럴 때 Cloud 벤더들이 제공하는 서비스 기반의 Jupyter 또는 유사한 인터렉티브한 기반 개발 환경을 이용하면 우선 데이터 사이언스를 배우는데 집중할 수 있습니다.\n",
    "\n",
    "* Google Colab: https://colab.research.google.com/\n",
    "\n",
    "코렙을 사용을 위한 튜토리얼은 아래 유투브 예 외에도 검색으로 많은 영상을 보실 수 있습니다.\n",
    "\n",
    "[혼자 공부하는 머신러닝+딥러닝] 2강_코랩과 주피터 노트북으로 손코딩 준비하기\n",
    "\n",
    "[![youtube](https://img.youtube.com/vi/0l0g7wk9wv4/0.jpg)](https://www.youtube.com/watch?v=0l0g7wk9wv4)\n"
   ]
  },
  {
   "cell_type": "code",
   "execution_count": null,
   "metadata": {},
   "outputs": [],
   "source": []
  }
 ],
 "metadata": {
  "kernelspec": {
   "display_name": "Python 3",
   "language": "python",
   "name": "python3"
  },
  "language_info": {
   "codemirror_mode": {
    "name": "ipython",
    "version": 3
   },
   "file_extension": ".py",
   "mimetype": "text/x-python",
   "name": "python",
   "nbconvert_exporter": "python",
   "pygments_lexer": "ipython3",
   "version": "3.6.9"
  },
  "nikola": {
   "category": "",
   "date": "2019-12-22",
   "description": "",
   "link": "",
   "slug": "platform-native-env-for-data-science-on-macos",
   "tags": "",
   "title": "macOS에서 Data Science를 위한 Native 환경 설정",
   "type": "text"
  },
  "toc": {
   "base_numbering": 1,
   "nav_menu": {},
   "number_sections": true,
   "sideBar": true,
   "skip_h1_title": false,
   "title_cell": "Table of Contents",
   "title_sidebar": "Contents",
   "toc_cell": false,
   "toc_position": {},
   "toc_section_display": true,
   "toc_window_display": false
  }
 },
 "nbformat": 4,
 "nbformat_minor": 4
}
