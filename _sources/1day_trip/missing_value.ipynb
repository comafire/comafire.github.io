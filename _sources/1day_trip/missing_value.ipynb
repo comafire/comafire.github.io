{
 "cells": [
  {
   "cell_type": "markdown",
   "metadata": {},
   "source": [
    "# 결측치\n",
    "\n",
    "Missing Value\n",
    "\n",
    "데이터를 수집해서 처리하다보면 결측치를 만나게 됩니다. 결측치가 포함된 모델은 성능에 안 좋은 영향을 미칠 수 있기 때문에 전처리시에 처리하게 됩니다. 보통은 프로젝트내 도메인 전문가의 조언대로 처리되지만, 없을 경우는 결측치의 원인과 종류에 따라 그 처리 방법을 각기 달리 해서 처리합니다. \n",
    "\n",
    "## Missing Value의 종류\n",
    "Missing Completely at Random (MCAR)\n",
    "* 완전하게 랜덤으로 결측치가 나타나는 경우입니다.\n",
    "* 완전하게 랜덤으로 나타난다면, 데이터가 큰 경우 랜덤 샘플링을 통해 완전한 데이터를 만들수 있게 됩니다.\n",
    "\n",
    "\n",
    "Missing at Random (MAR)\n",
    "* 결측치가 특정 변수와 관련되어 일어나지만 그 변수의 값과는 관계가 없는 경우입니다.\n",
    "* 예: 결측치가 발견되었는데, 데이터 수집 과정에서 설문 응답자가 다음 페이지가 있는지 모르고 응답을 종료한 경우 \n",
    "\n",
    "\n",
    "Missing not at Random (MNAR)\n",
    "* 결측치의 값과 결측 이유가 관련이 있는 경우입니다. \n",
    "* 예: 결측치가 발견되었는데, 데이터 수집 과정에서 설문 응답자가 해당 수집 변수에 대해 응답을 꺼려하여 응답하지 않은 경우\n",
    "\n",
    "## Missing Value 처리 기준\n",
    "\n",
    "'Multivariate Data Analysis' Pearson Education 책에서는 아래 방법을 추천하고 있습니다.\n",
    "\n",
    "* 결측치 비율 10% 이하: 어떤 Imputation 방법도 상관 없음\n",
    "* 결측치 비율 10% ~ 20%: MCAR일 경우 Replace, Regression 방법 추천, MAR 일 경우 모델기반 방법 추천\n",
    "* 결측치 비율 20% 이상: MCAR일 경우 Regression 방법 추천, MAR 일 경우 모델기반 방법 추천\n",
    "\n",
    "추가적으로 결측치 비율 10% 이하이고, 데이터가 빅데이터인 경우는 Deletion 방법도 고려해 볼 수 있습니다."
   ]
  },
  {
   "cell_type": "code",
   "execution_count": 1,
   "metadata": {},
   "outputs": [
    {
     "name": "stdout",
     "output_type": "stream",
     "text": [
      "        one       two     three\n",
      "0  1.871388 -2.563360  0.053417\n",
      "1  1.442962 -0.430126  1.311010\n",
      "2  0.465183       NaN  0.267957\n",
      "3  3.057069       NaN -1.796465\n",
      "4       inf       NaN -0.710739 \n",
      "\n",
      "one      0\n",
      "two      3\n",
      "three    0\n",
      "dtype: int64 \n",
      "\n",
      "one      1\n",
      "two      3\n",
      "three    0\n",
      "dtype: int64 \n",
      "\n",
      "       missing  percent\n",
      "one          1     20.0\n",
      "two          3     60.0\n",
      "three        0      0.0\n"
     ]
    }
   ],
   "source": [
    "import warnings # 경고 출력 끄기 \n",
    "warnings.filterwarnings(\"ignore\")\n",
    "\n",
    "import pandas as pd \n",
    "import numpy as np\n",
    "\n",
    "df = pd.DataFrame(np.random.randn(5, 3), index=range(5), columns=['one', 'two', 'three'])\n",
    "df.iloc[2:, 1] = np.nan\n",
    "df.iat[-1, 0] = np.inf\n",
    "print(df, \"\\n\")\n",
    "\n",
    "# 일반적으로 isna(), isnull() 함수를 이용, NaN 값 외 다른 결측치 값은 체크하지 못함\n",
    "print(df.isna().sum(), \"\\n\")\n",
    "\n",
    "# 결측치 값에 대해 정의가 되어 있다면, 해당 값을 찾기 위해서 isin() 함수를 이용\n",
    "missing_values = [np.nan, np.inf, -np.inf, 0]\n",
    "print(df.isin(missing_values).sum(), \"\\n\")\n",
    "\n",
    "# 결측치 비율 구하기\n",
    "df_missing = pd.DataFrame(df.isin(missing_values).sum(), columns=['missing'])\n",
    "df_missing[\"percent\"] = df_missing['missing'] / float(len(df.index)) * 100\n",
    "print(df_missing)"
   ]
  },
  {
   "cell_type": "code",
   "execution_count": 2,
   "metadata": {},
   "outputs": [
    {
     "data": {
      "text/plain": [
       "<matplotlib.axes._subplots.AxesSubplot at 0x172a3ff50>"
      ]
     },
     "execution_count": 2,
     "metadata": {},
     "output_type": "execute_result"
    },
    {
     "data": {
      "image/png": "[encoded data removed]",
      "text/plain": [
       "<Figure size 1800x720 with 2 Axes>"
      ]
     },
     "metadata": {
      "needs_background": "light"
     },
     "output_type": "display_data"
    }
   ],
   "source": [
    "# 결측치 시각화\n",
    "import missingno as msno\n",
    "\n",
    "# missingno 또한 NaN 값을 결측치로 다루기 때문에 정의된 결측치 값을 찾아 NaN 으로 치환 후 사용\n",
    "df_missing = df.isin(missing_values)\n",
    "df_missing.replace({True: np.nan}, inplace=True)\n",
    "msno.matrix(df_missing)"
   ]
  },
  {
   "cell_type": "markdown",
   "metadata": {},
   "source": [
    "## Missing Value 처리 방법\n",
    "\n",
    "### Deletion\n",
    "#### Listwise Deletion\n",
    "결측치가 발생된 행 전체 삭제"
   ]
  },
  {
   "cell_type": "code",
   "execution_count": 3,
   "metadata": {},
   "outputs": [
    {
     "name": "stdout",
     "output_type": "stream",
     "text": [
      "        one       two     three\n",
      "0  1.021990  0.947922 -0.224424\n",
      "1  0.749216  1.314831 -0.405020\n",
      "2 -0.529924       NaN  3.027018\n",
      "3  0.830085       NaN  1.484840\n",
      "4       NaN       NaN       NaN \n",
      "\n",
      "        one       two     three\n",
      "0  1.021990  0.947922 -0.224424\n",
      "1  0.749216  1.314831 -0.405020\n"
     ]
    }
   ],
   "source": [
    "import pandas as pd \n",
    "import numpy as np\n",
    "\n",
    "df = pd.DataFrame(np.random.randn(5, 3), index=range(5), columns=['one', 'two', 'three'])\n",
    "df.iloc[2:, 1] = np.nan\n",
    "df.iat[-1, 0] = np.nan\n",
    "df.iat[-1, 2] = np.nan\n",
    "print(df, \"\\n\")\n",
    "\n",
    "print(df.dropna(how='any'))"
   ]
  },
  {
   "cell_type": "markdown",
   "metadata": {},
   "source": [
    "#### Pairwise Deletion\n",
    "통계에 따라 선택된 결측치만 삭제, 통계적 지식이 필요하고, 주의하지 않으면 오류를 포함할수 있어 잘 사용되지 않음\n",
    "\n",
    "#### Deleting Columns\n",
    "결측치가 발생된 열 전체 삭제, 해당 열이 종속 변수와 상관 관계가 없는 경우만 사용"
   ]
  },
  {
   "cell_type": "code",
   "execution_count": 4,
   "metadata": {},
   "outputs": [
    {
     "name": "stdout",
     "output_type": "stream",
     "text": [
      "        one  two     three\n",
      "0 -1.024035  NaN -0.798513\n",
      "1  0.950509  NaN  1.289354\n",
      "2  1.340670  NaN -0.971474\n",
      "3 -0.851012  NaN  0.570161\n",
      "4       NaN  NaN       NaN \n",
      "\n",
      "        one     three\n",
      "0 -1.024035 -0.798513\n",
      "1  0.950509  1.289354\n",
      "2  1.340670 -0.971474\n",
      "3 -0.851012  0.570161\n",
      "4       NaN       NaN\n"
     ]
    }
   ],
   "source": [
    "import pandas as pd \n",
    "import numpy as np\n",
    "\n",
    "df = pd.DataFrame(np.random.randn(5, 3), index=range(5), columns=['one', 'two', 'three'])\n",
    "df.iloc[:, 1] = np.nan\n",
    "df.iat[-1, 0] = np.nan\n",
    "df.iat[-1, 2] = np.nan\n",
    "print(df, \"\\n\")\n",
    "\n",
    "print(df.dropna(how='all', axis=1))"
   ]
  },
  {
   "cell_type": "markdown",
   "metadata": {},
   "source": [
    "### Imputation\n",
    "#### Record Data\n",
    "##### Continuous Data"
   ]
  },
  {
   "cell_type": "code",
   "execution_count": 5,
   "metadata": {},
   "outputs": [
    {
     "name": "stdout",
     "output_type": "stream",
     "text": [
      "        one       two     three\n",
      "0 -0.599206  0.431637  0.251944\n",
      "1  1.282215  0.168440  0.370718\n",
      "2  0.546144  0.378908       NaN\n",
      "3 -0.834689  0.071709       NaN\n",
      "4       NaN       NaN       NaN \n",
      "\n",
      "mean: 0.0986159376704776\n",
      "        one       two     three\n",
      "0 -0.599206  0.431637  0.251944\n",
      "1  1.282215  0.168440  0.370718\n",
      "2  0.546144  0.378908       NaN\n",
      "3 -0.834689  0.071709       NaN\n",
      "4  0.098616       NaN       NaN \n",
      "\n",
      "median: 0.27367416999537\n",
      "        one       two     three\n",
      "0 -0.599206  0.431637  0.251944\n",
      "1  1.282215  0.168440  0.370718\n",
      "2  0.546144  0.378908       NaN\n",
      "3 -0.834689  0.071709       NaN\n",
      "4  0.098616  0.273674       NaN \n",
      "\n",
      "        one       two     three\n",
      "0 -0.599206  0.431637  0.251944\n",
      "1  1.282215  0.168440  0.370718\n",
      "2  0.546144  0.378908  0.000000\n",
      "3 -0.834689  0.071709  0.000000\n",
      "4  0.098616  0.273674  0.000000 \n",
      "\n"
     ]
    }
   ],
   "source": [
    "import pandas as pd \n",
    "import numpy as np\n",
    "\n",
    "df = pd.DataFrame(np.random.randn(5, 3), index=range(5), columns=['one', 'two', 'three'])\n",
    "df.iat[-1, 0] = np.nan\n",
    "df.iat[-1, 1] = np.nan\n",
    "df.iloc[2:, 2] = np.nan\n",
    "print(df, \"\\n\")\n",
    "\n",
    "# Mean(평균값)으로 채우기\n",
    "mean = df['one'].mean()\n",
    "print(f\"mean: {mean}\")\n",
    "df['one'].fillna(mean, inplace=True)\n",
    "print(df,\"\\n\")\n",
    "\n",
    "# Median(중앙값)으로 채우기\n",
    "median = df['two'].median()\n",
    "print(f\"median: {median}\")\n",
    "df['two'].fillna(median, inplace=True)\n",
    "print(df, \"\\n\")\n",
    "\n",
    "# Constant(상수값)으로 채우기\n",
    "df['three'].fillna(0, inplace=True)\n",
    "print(df, \"\\n\")"
   ]
  },
  {
   "cell_type": "code",
   "execution_count": 6,
   "metadata": {},
   "outputs": [
    {
     "name": "stdout",
     "output_type": "stream",
     "text": [
      "        one       two     three\n",
      "0 -1.089940  1.442847  0.792487\n",
      "1 -2.057239 -0.152834  0.181034\n",
      "2 -0.229568  0.042935       NaN\n",
      "3 -0.921464  0.284487       NaN\n",
      "4       NaN       NaN       NaN \n",
      "\n",
      "        one       two     three\n",
      "0 -1.089940  1.442847  0.792487\n",
      "1 -2.057239 -0.152834  0.181034\n",
      "2 -0.229568  0.042935  0.546355\n",
      "3 -0.921464  0.284487  0.496512\n",
      "4 -1.074553  0.404359  0.504097 \n",
      "\n"
     ]
    },
    {
     "name": "stderr",
     "output_type": "stream",
     "text": [
      "Using TensorFlow backend.\n"
     ]
    },
    {
     "name": "stdout",
     "output_type": "stream",
     "text": [
      "        one       two     three\n",
      "0 -1.089940  1.442847  0.792487\n",
      "1 -2.057239 -0.152834  0.181034\n",
      "2 -0.229568  0.042935  0.546354\n",
      "3 -0.921464  0.284487  0.496511\n",
      "4 -1.074553  0.404359  0.504097 \n",
      "\n",
      "Imputing row 1/5 with 0 missing, elapsed time: 0.000\n",
      "[KNN] Warning: 3/15 still missing after imputation, replacing with 0\n",
      "        one       two     three\n",
      "0 -1.089940  1.442847  0.792487\n",
      "1 -2.057239 -0.152834  0.181034\n",
      "2 -0.229568  0.042935  0.520896\n",
      "3 -0.921464  0.284487  0.498667\n",
      "4  0.000000  0.000000  0.000000 \n",
      "\n"
     ]
    }
   ],
   "source": [
    "import pandas as pd \n",
    "import numpy as np\n",
    "\n",
    "df = pd.DataFrame(np.random.randn(5, 3), index=range(5), columns=['one', 'two', 'three'])\n",
    "df.iat[-1, 0] = np.nan\n",
    "df.iat[-1, 1] = np.nan\n",
    "df.iloc[2:, 2] = np.nan\n",
    "print(df, \"\\n\")\n",
    "\n",
    "# 모델로 채우기 - MICE\n",
    "# Multiple Imputation by Chained Equations\n",
    "# 결측치가 포함된 데이터 입력 받아 몬테카를로 시뮬레이션을 반복하여 결측치를 채워넣는 방법 \n",
    "# pip install impyute\n",
    "# https://impyute.readthedocs.io/en/master/\n",
    "import impyute as impy\n",
    "\n",
    "df2 = pd.DataFrame(impy.mice(df.values))\n",
    "df2.columns = df.columns\n",
    "print(df2, \"\\n\")\n",
    "\n",
    "# 모델로 채우기 - IterativeImputer \n",
    "# pip install fancyimpute\n",
    "# https://github.com/iskandr/fancyimpute\n",
    "from fancyimpute import IterativeImputer\n",
    "\n",
    "df2 = pd.DataFrame(IterativeImputer().fit_transform(df.values))\n",
    "df2.columns = df.columns\n",
    "print(df2, \"\\n\")\n",
    "\n",
    "# 모델로 채우기 - KNN\n",
    "from fancyimpute import KNN\n",
    "\n",
    "df2 = pd.DataFrame(KNN(k=3).fit_transform(df.values))\n",
    "df2.columns = df.columns\n",
    "print(df2, \"\\n\")\n"
   ]
  },
  {
   "cell_type": "markdown",
   "metadata": {},
   "source": [
    "##### Categorical Data"
   ]
  },
  {
   "cell_type": "code",
   "execution_count": 7,
   "metadata": {},
   "outputs": [
    {
     "name": "stdout",
     "output_type": "stream",
     "text": [
      "   one  two three\n",
      "0    6    6     4\n",
      "1    6    4     8\n",
      "2    1    7   NaN\n",
      "3    4    0   NaN\n",
      "4  NaN  NaN   NaN \n",
      "\n",
      "  one  two three\n",
      "0   6    6     4\n",
      "1   6    4     8\n",
      "2   1    7   NaN\n",
      "3   4    0   NaN\n",
      "4  11  NaN   NaN \n",
      "\n",
      "mode=0\n",
      "  one two three\n",
      "0   6   6     4\n",
      "1   6   4     8\n",
      "2   1   7   NaN\n",
      "3   4   0   NaN\n",
      "4  11   0   NaN \n",
      "\n"
     ]
    }
   ],
   "source": [
    "import pandas as pd \n",
    "import numpy as np\n",
    "\n",
    "df = pd.DataFrame(np.random.randint(0, 10, size=(5, 3)), index=range(5), columns=['one', 'two', 'three'])\n",
    "df = df.astype(str)\n",
    "df.iat[-1, 0] = np.nan\n",
    "df.iat[-1, 1] = np.nan\n",
    "df.iloc[2:, 2] = np.nan\n",
    "print(df, \"\\n\")\n",
    "\n",
    "# NaN 자체를 하나의 Label 로 다루기\n",
    "df['one'].fillna(11, inplace=True)\n",
    "print(df, \"\\n\")\n",
    "\n",
    "# 최빈도 값으로 채우기\n",
    "mode = df['two'].mode()[0]\n",
    "print(\"mode={}\".format(mode))\n",
    "df['two'].fillna(mode, inplace=True)\n",
    "print(df, \"\\n\")"
   ]
  },
  {
   "cell_type": "markdown",
   "metadata": {},
   "source": [
    "#### Sequence Data\n",
    "##### No Trend, No Seasonality\n",
    "이 경우는 기존의 Record Data 와 같은 데이터형태 이므로 Imputation 방법을 활용하면 됩니다.\n",
    "\n",
    "##### Trend, No Seasonality\n",
    "데이터에 경향성은 있지만 주기성은 없는 경우는 interpolate(보간법)을 이용합니다. "
   ]
  },
  {
   "cell_type": "code",
   "execution_count": 8,
   "metadata": {},
   "outputs": [
    {
     "name": "stdout",
     "output_type": "stream",
     "text": [
      "0    0.0\n",
      "1    1.0\n",
      "2    NaN\n",
      "3    3.0\n",
      "dtype: float64 \n",
      "\n",
      "0    0.0\n",
      "1    1.0\n",
      "2    2.0\n",
      "3    3.0\n",
      "dtype: float64\n"
     ]
    }
   ],
   "source": [
    "# https://pandas.pydata.org/pandas-docs/stable/reference/api/pandas.Series.interpolate.html\n",
    "\n",
    "s = pd.Series([0, 1, np.nan, 3])\n",
    "print(s, \"\\n\")\n",
    "print(s.interpolate())"
   ]
  },
  {
   "cell_type": "markdown",
   "metadata": {},
   "source": [
    "##### Trend, Seasionality\n",
    "\n",
    "데이터가 경향성과 주기성이 모두 존재하는 경우는 해당 시계열 데이터를 Stationary 하게 만들어 주기적인 변화량을 예측하여 결측치를 채워 넣는 방법을 이용합니다.\n",
    "\n",
    "사용할 예제는 항공 승객데이터 입니다."
   ]
  },
  {
   "cell_type": "code",
   "execution_count": 9,
   "metadata": {},
   "outputs": [
    {
     "name": "stdout",
     "output_type": "stream",
     "text": [
      "============= ===============\n",
      "AirPassengers R Documentation\n",
      "============= ===============\n",
      "\n",
      "Monthly Airline Passenger Numbers 1949-1960\n",
      "-------------------------------------------\n",
      "\n",
      "Description\n",
      "~~~~~~~~~~~\n",
      "\n",
      "The classic Box & Jenkins airline data. Monthly totals of international\n",
      "airline passengers, 1949 to 1960.\n",
      "\n",
      "Usage\n",
      "~~~~~\n",
      "\n",
      "::\n",
      "\n",
      "   AirPassengers\n",
      "\n",
      "Format\n",
      "~~~~~~\n",
      "\n",
      "A monthly time series, in thousands.\n",
      "\n",
      "Source\n",
      "~~~~~~\n",
      "\n",
      "Box, G. E. P., Jenkins, G. M. and Reinsel, G. C. (1976) *Time Series\n",
      "Analysis, Forecasting and Control.* Third Edition. Holden-Day. Series G.\n",
      "\n",
      "Examples\n",
      "~~~~~~~~\n",
      "\n",
      "::\n",
      "\n",
      "   ## Not run: \n",
      "   ## These are quite slow and so not run by example(AirPassengers)\n",
      "\n",
      "   ## The classic 'airline model', by full ML\n",
      "   (fit <- arima(log10(AirPassengers), c(0, 1, 1),\n",
      "                 seasonal = list(order = c(0, 1, 1), period = 12)))\n",
      "   update(fit, method = \"CSS\")\n",
      "   update(fit, x = window(log10(AirPassengers), start = 1954))\n",
      "   pred <- predict(fit, n.ahead = 24)\n",
      "   tl <- pred$pred - 1.96 * pred$se\n",
      "   tu <- pred$pred + 1.96 * pred$se\n",
      "   ts.plot(AirPassengers, 10^tl, 10^tu, log = \"y\", lty = c(1, 2, 2))\n",
      "\n",
      "   ## full ML fit is the same if the series is reversed, CSS fit is not\n",
      "   ap0 <- rev(log10(AirPassengers))\n",
      "   attributes(ap0) <- attributes(AirPassengers)\n",
      "   arima(ap0, c(0, 1, 1), seasonal = list(order = c(0, 1, 1), period = 12))\n",
      "   arima(ap0, c(0, 1, 1), seasonal = list(order = c(0, 1, 1), period = 12),\n",
      "         method = \"CSS\")\n",
      "\n",
      "   ## Structural Time Series\n",
      "   ap <- log10(AirPassengers) - 2\n",
      "   (fit <- StructTS(ap, type = \"BSM\"))\n",
      "   par(mfrow = c(1, 2))\n",
      "   plot(cbind(ap, fitted(fit)), plot.type = \"single\")\n",
      "   plot(cbind(ap, tsSmooth(fit)), plot.type = \"single\")\n",
      "\n",
      "   ## End(Not run)\n",
      "\n",
      "<class 'pandas.core.frame.DataFrame'>\n",
      "RangeIndex: 144 entries, 0 to 143\n",
      "Data columns (total 2 columns):\n",
      " #   Column  Non-Null Count  Dtype  \n",
      "---  ------  --------------  -----  \n",
      " 0   time    144 non-null    float64\n",
      " 1   value   144 non-null    int64  \n",
      "dtypes: float64(1), int64(1)\n",
      "memory usage: 2.4 KB\n",
      "None\n",
      "          time  value\n",
      "0  1949.000000    112\n",
      "1  1949.083333    118\n",
      "2  1949.166667    132\n",
      "3  1949.250000    129\n",
      "4  1949.333333    121\n"
     ]
    }
   ],
   "source": [
    "import statsmodels.api as sm\n",
    "\n",
    "ap = sm.datasets.get_rdataset(\"AirPassengers\")\n",
    "print(ap.__doc__)\n",
    "\n",
    "df_ap = ap.data\n",
    "print(df_ap.info())\n",
    "\n",
    "print(df_ap.head())"
   ]
  },
  {
   "cell_type": "markdown",
   "metadata": {},
   "source": [
    "항공 승객 데이터의 time 데이터를 보기좋게 datetime 으로 변경하고, 5% 정도의 결측치를 랜덤하게 생성해넣겠습니다. 그래프에 value 와 missing 값을 동시에 plot 하였기에 비어 있는 구간은 value 의 값만 나타나게 됩니다."
   ]
  },
  {
   "cell_type": "code",
   "execution_count": 10,
   "metadata": {},
   "outputs": [
    {
     "name": "stdout",
     "output_type": "stream",
     "text": [
      "          time  value   datetime  missing\n",
      "0  1949.000000    112 1949-01-01    112.0\n",
      "1  1949.083333    118 1949-02-01    118.0\n",
      "2  1949.166667    132 1949-03-01    132.0\n"
     ]
    },
    {
     "data": {
      "text/plain": [
       "<matplotlib.axes._subplots.AxesSubplot at 0x1928b2550>"
      ]
     },
     "execution_count": 10,
     "metadata": {},
     "output_type": "execute_result"
    },
    {
     "data": {
      "image/png": "[encoded data removed]",
      "text/plain": [
       "<Figure size 432x288 with 1 Axes>"
      ]
     },
     "metadata": {
      "needs_background": "light"
     },
     "output_type": "display_data"
    }
   ],
   "source": [
    "%matplotlib inline\n",
    "import matplotlib.pyplot as plt\n",
    "import datetime, dateutil\n",
    "import random\n",
    "import pandas as pd\n",
    "import numpy as np\n",
    "\n",
    "# time format: 1.0: year, 1/12: month\n",
    "def get_datetime(time):\n",
    "    year = int(time)\n",
    "    month = int(round(12 * (time - year)))\n",
    "    delta = dateutil.relativedelta.relativedelta(months=month)\n",
    "    date = datetime.datetime(year, 1, 1) + delta\n",
    "    return date\n",
    "\n",
    "def set_nan(val, prob):\n",
    "    if random.random() < prob:\n",
    "        return np.nan\n",
    "    else:\n",
    "        return val\n",
    "    \n",
    "df_ap[\"datetime\"] = df_ap[\"time\"].apply(lambda x: get_datetime(x))\n",
    "df_ap[\"missing\"] = df_ap[\"value\"].apply(lambda x: set_nan(x, 0.05))\n",
    "print(df_ap.head(3))\n",
    "\n",
    "df_ap.plot(x=\"datetime\", y=[\"value\", \"missing\"])"
   ]
  },
  {
   "cell_type": "markdown",
   "metadata": {},
   "source": [
    "seasonal_decompose 함수를 이용하여 시계열 데이터를 trend, seasonal, residual 로 분해하여 얻어진 정제된 seasonal 값을 이용하여 결측치 값을 채워 넣습니다.\n",
    "\n",
    "freq 값은 결측치가 포함된 본 시계열 데이터가 가지고 있는 seasonal 주기에 가까울수록 에러가 적지만, 결측치가 데이터의 앞쪽에 있는 경우는 분해를 못하거나 인덱스 에러가 날 수 있으므로, 점진적으로 늘려가면서 제일 좋은 결과를 사용하면 됩니다."
   ]
  },
  {
   "cell_type": "code",
   "execution_count": 11,
   "metadata": {},
   "outputs": [
    {
     "name": "stdout",
     "output_type": "stream",
     "text": [
      "          time  value   datetime  missing_x  missing_y\n",
      "0  1949.000000    112 1949-01-01      112.0      112.0\n",
      "1  1949.083333    118 1949-02-01      118.0      118.0\n",
      "2  1949.166667    132 1949-03-01      132.0      132.0\n",
      "3  1949.250000    129 1949-04-01      129.0      129.0\n",
      "4  1949.333333    121 1949-05-01      121.0      121.0\n"
     ]
    },
    {
     "data": {
      "text/plain": [
       "<matplotlib.axes._subplots.AxesSubplot at 0x1929e5310>"
      ]
     },
     "execution_count": 11,
     "metadata": {},
     "output_type": "execute_result"
    },
    {
     "data": {
      "image/png": "[encoded data removed]",
      "text/plain": [
       "<Figure size 432x288 with 1 Axes>"
      ]
     },
     "metadata": {
      "needs_background": "light"
     },
     "output_type": "display_data"
    }
   ],
   "source": [
    "df_dm = df_ap['missing']\n",
    "df_dm.index = df_ap[\"datetime\"]\n",
    "\n",
    "freq = 1\n",
    "ts = df_dm.copy()\n",
    "for k, v in enumerate(ts):\n",
    "    if not np.isnan(v):\n",
    "        continue\n",
    "    de = sm.tsa.seasonal_decompose(ts[:k].values, model='additive', freq=freq)\n",
    "    ts[k] = ts[k-1] + de.seasonal[-freq]\n",
    "\n",
    "df_ap_new = pd.merge(df_ap, ts, on='datetime')\n",
    "print(df_ap_new.head())\n",
    "\n",
    "df_ap_new.plot(x=\"datetime\", y=[\"value\", \"missing_y\"])\n",
    "\n"
   ]
  },
  {
   "cell_type": "code",
   "execution_count": null,
   "metadata": {},
   "outputs": [],
   "source": []
  }
 ],
 "metadata": {
  "kernelspec": {
   "display_name": "Python 3",
   "language": "python",
   "name": "python3"
  },
  "language_info": {
   "codemirror_mode": {
    "name": "ipython",
    "version": 3
   },
   "file_extension": ".py",
   "mimetype": "text/x-python",
   "name": "python",
   "nbconvert_exporter": "python",
   "pygments_lexer": "ipython3",
   "version": "3.7.6"
  },
  "nikola": {
   "category": "",
   "date": "2019-03-01",
   "description": "",
   "link": "",
   "slug": "ml-missing-value",
   "tags": "",
   "title": "Machine Learning - Missing Value",
   "type": "text"
  },
  "toc": {
   "base_numbering": 1,
   "nav_menu": {},
   "number_sections": true,
   "sideBar": true,
   "skip_h1_title": false,
   "title_cell": "Table of Contents",
   "title_sidebar": "Contents",
   "toc_cell": false,
   "toc_position": {},
   "toc_section_display": true,
   "toc_window_display": false
  }
 },
 "nbformat": 4,
 "nbformat_minor": 4
}
