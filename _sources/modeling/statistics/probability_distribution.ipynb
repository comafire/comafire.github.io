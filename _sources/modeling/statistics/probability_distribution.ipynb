{
 "cells": [
  {
   "cell_type": "markdown",
   "metadata": {},
   "source": [
    "# Probability Distribution\n",
    "\n",
    "확률 분포"
   ]
  },
  {
   "cell_type": "code",
   "execution_count": 1,
   "metadata": {},
   "outputs": [
    {
     "data": {
      "text/html": [
       "<style>.container { width:100% !important; }</style>"
      ],
      "text/plain": [
       "<IPython.core.display.HTML object>"
      ]
     },
     "metadata": {},
     "output_type": "display_data"
    },
    {
     "name": "stdout",
     "output_type": "stream",
     "text": [
      "python ver=3.8.9 (default, Jun 27 2021, 02:41:12) \n",
      "[GCC 7.5.0]\n",
      "pandas ver=1.2.5\n",
      "numpy ver=1.19.5\n",
      "scipy ver=1.6.3\n"
     ]
    }
   ],
   "source": [
    "# 경고 메시지 출력 끄기\n",
    "import warnings \n",
    "warnings.filterwarnings(action='ignore')\n",
    "\n",
    "# 노트북 셀 표시를 브라우저 전체 폭 사용하기\n",
    "from IPython.core.display import display, HTML\n",
    "display(HTML(\"<style>.container { width:100% !important; }</style>\"))\n",
    "from IPython.display import clear_output\n",
    "\n",
    "%matplotlib inline\n",
    "import matplotlib.pyplot as plt\n",
    "\n",
    "import os, sys, shutil, functools\n",
    "import collections, pathlib, re, string\n",
    "\n",
    "rseed = 22\n",
    "import random\n",
    "random.seed(rseed)\n",
    "\n",
    "import numpy as np\n",
    "np.random.seed(rseed)\n",
    "np.set_printoptions(precision=5)\n",
    "np.set_printoptions(formatter={'float_kind': \"{:.5f}\".format})\n",
    "\n",
    "import pandas as pd\n",
    "pd.set_option('display.max_rows', None) \n",
    "pd.set_option('display.max_columns', None) \n",
    "pd.set_option('display.max_colwidth', None)\n",
    "pd.options.display.float_format = '{:,.5f}'.format\n",
    "\n",
    "import scipy as sp\n",
    "\n",
    "import seaborn as sns\n",
    "\n",
    "from pydataset import data\n",
    "\n",
    "print(f\"python ver={sys.version}\")\n",
    "print(f\"pandas ver={pd.__version__}\")\n",
    "print(f\"numpy ver={np.__version__}\")\n",
    "print(f\"scipy ver={sp.__version__}\")"
   ]
  },
  {
   "cell_type": "code",
   "execution_count": 2,
   "metadata": {},
   "outputs": [
    {
     "name": "stdout",
     "output_type": "stream",
     "text": [
      "<class 'pandas.core.frame.DataFrame'>\n",
      "Int64Index: 150 entries, 1 to 150\n",
      "Data columns (total 5 columns):\n",
      " #   Column        Non-Null Count  Dtype  \n",
      "---  ------        --------------  -----  \n",
      " 0   Sepal.Length  150 non-null    float64\n",
      " 1   Sepal.Width   150 non-null    float64\n",
      " 2   Petal.Length  150 non-null    float64\n",
      " 3   Petal.Width   150 non-null    float64\n",
      " 4   Species       150 non-null    object \n",
      "dtypes: float64(4), object(1)\n",
      "memory usage: 7.0+ KB\n"
     ]
    }
   ],
   "source": [
    "# Iris 데이터 셋의 컬럼 정보 살피기\n",
    "df_iris = data('iris')\n",
    "df_iris.info()"
   ]
  },
  {
   "cell_type": "markdown",
   "metadata": {},
   "source": [
    "## 확률과 확률 분포 (Probability and Probability Distribution)\n",
    "\n",
    "주사위를 실제 던져보기 전까지는 주사위의 어떤 수가 나오게 될지 알수 없지만 주사위를 던졌을 때 각 수가 나오는 가능성은 1/6 으로 예측 할 수 있습니다. 추측 통계에서는 결과 예측시 확률과 확률의 분포를 이용합니다.\n",
    "\n",
    "* 사상: 시행 (실험, 관측 등)에 의해 생긴 결과 (주사위 예에서는 던져서 나온 수)\n",
    "* 확률: 사상이 어느정도 일어나기 쉬운지를 수치화, 모든 사상의 합은 1 (주사위 예에서는 각 눈의 확률)\n",
    "* 확률변수: 시행해 봐야 결과를 알 수 있는 변수를 확률 변수라 정의\n",
    "  * 이산확률변수: 변수가 취할 수 있는 값이 이산형인 확률 변수 (예, 주사위, 동전 등)\n",
    "  * 연속확률변수: 변수가 취할 수 있는 값이 연속형인 활률 변수 (예, 키, 몸무게 등)\n",
    "* 확률분포: 확률 변수(전체 합 = 1)가 취할 수 있는 값이 어떻게 분포하고 있는지 나타냄\n",
    "\n",
    "![](https://tinyheero.github.io/assets/prob-distr/overview-prob-distr.png)\n",
    "\n",
    "https://tinyheero.github.io/2016/03/17/prob-distr.html\n",
    "\n",
    "**Further Reading**\n",
    "* [Probability Distributions in Python Tutorial](https://www.datacamp.com/community/tutorials/probability-distributions-python)"
   ]
  },
  {
   "cell_type": "markdown",
   "metadata": {},
   "source": [
    "**도수분포표 (Frequency Distribution Table)**\n",
    "\n",
    "도수분포표는 데이터를 계급으로 나누고 계급에 대한 빈도를 세어 표시하는 테이블입니다. 범주형 변수의 경우는 간단하게 구할 수 있지만, 연속형 변수의 경우에는 어떻게 계급을 나누어 표시해야 하는지에 대한 어려운 부분이 존재합니다. \n",
    "\n",
    "연속형 변수의 적장한 계급 수를 구하는 방법은 주로 Sturge’s rule 또는 Freedman-Diaconis rule 을 사용합니다.\n",
    "\n",
    "**Sturge's rule**\n",
    "\n",
    "![](https://miro.medium.com/max/324/1*E2cFPT9fMhdF74FVANGchQ.png)\n",
    "\n",
    "**Freedman-Diaconis rule**\n",
    "\n",
    "![](https://miro.medium.com/max/409/1*K04B59josTwu3Yp2acpfmA.png)\n",
    "\n",
    "https://medium.datadriveninvestor.com/how-to-decide-on-the-number-of-bins-of-a-histogram-3c36dc5b1cd8\n"
   ]
  },
  {
   "cell_type": "code",
   "execution_count": 3,
   "metadata": {},
   "outputs": [
    {
     "data": {
      "text/html": [
       "<div>\n",
       "<style scoped>\n",
       "    .dataframe tbody tr th:only-of-type {\n",
       "        vertical-align: middle;\n",
       "    }\n",
       "\n",
       "    .dataframe tbody tr th {\n",
       "        vertical-align: top;\n",
       "    }\n",
       "\n",
       "    .dataframe thead th {\n",
       "        text-align: right;\n",
       "    }\n",
       "</style>\n",
       "<table border=\"1\" class=\"dataframe\">\n",
       "  <thead>\n",
       "    <tr style=\"text-align: right;\">\n",
       "      <th>col_0</th>\n",
       "      <th>frequency</th>\n",
       "      <th>cumulative_frequency</th>\n",
       "      <th>relative_frequency</th>\n",
       "    </tr>\n",
       "    <tr>\n",
       "      <th>Species</th>\n",
       "      <th></th>\n",
       "      <th></th>\n",
       "      <th></th>\n",
       "    </tr>\n",
       "  </thead>\n",
       "  <tbody>\n",
       "    <tr>\n",
       "      <th>setosa</th>\n",
       "      <td>50</td>\n",
       "      <td>50</td>\n",
       "      <td>0.33333</td>\n",
       "    </tr>\n",
       "    <tr>\n",
       "      <th>versicolor</th>\n",
       "      <td>50</td>\n",
       "      <td>100</td>\n",
       "      <td>0.33333</td>\n",
       "    </tr>\n",
       "    <tr>\n",
       "      <th>virginica</th>\n",
       "      <td>50</td>\n",
       "      <td>150</td>\n",
       "      <td>0.33333</td>\n",
       "    </tr>\n",
       "  </tbody>\n",
       "</table>\n",
       "</div>"
      ],
      "text/plain": [
       "col_0       frequency  cumulative_frequency  relative_frequency\n",
       "Species                                                        \n",
       "setosa             50                    50             0.33333\n",
       "versicolor         50                   100             0.33333\n",
       "virginica          50                   150             0.33333"
      ]
     },
     "execution_count": 3,
     "metadata": {},
     "output_type": "execute_result"
    }
   ],
   "source": [
    "df_iris = data('iris')\n",
    "\n",
    "# 범주형 변수의 도수 분포표\n",
    "fdt = pd.crosstab(index=df_iris['Species'], columns='frequency')\n",
    "fdt['cumulative_frequency'] = fdt['frequency'].cumsum() # 누적도수\n",
    "fdt['relative_frequency'] = fdt['frequency'] / fdt['frequency'].sum() # 상대도수\n",
    "fdt"
   ]
  },
  {
   "cell_type": "code",
   "execution_count": 4,
   "metadata": {},
   "outputs": [
    {
     "data": {
      "text/html": [
       "<div>\n",
       "<style scoped>\n",
       "    .dataframe tbody tr th:only-of-type {\n",
       "        vertical-align: middle;\n",
       "    }\n",
       "\n",
       "    .dataframe tbody tr th {\n",
       "        vertical-align: top;\n",
       "    }\n",
       "\n",
       "    .dataframe thead th {\n",
       "        text-align: right;\n",
       "    }\n",
       "</style>\n",
       "<table border=\"1\" class=\"dataframe\">\n",
       "  <thead>\n",
       "    <tr style=\"text-align: right;\">\n",
       "      <th>col_0</th>\n",
       "      <th>frequency</th>\n",
       "      <th>cumulative_frequency</th>\n",
       "      <th>relative_frequency</th>\n",
       "      <th>cumulative_relative_frequency</th>\n",
       "    </tr>\n",
       "    <tr>\n",
       "      <th>Sepal.Length</th>\n",
       "      <th></th>\n",
       "      <th></th>\n",
       "      <th></th>\n",
       "      <th></th>\n",
       "    </tr>\n",
       "  </thead>\n",
       "  <tbody>\n",
       "    <tr>\n",
       "      <th>[4.3, 4.7)</th>\n",
       "      <td>9</td>\n",
       "      <td>9</td>\n",
       "      <td>0.06000</td>\n",
       "      <td>0.06000</td>\n",
       "    </tr>\n",
       "    <tr>\n",
       "      <th>[4.7, 5.1)</th>\n",
       "      <td>23</td>\n",
       "      <td>32</td>\n",
       "      <td>0.15333</td>\n",
       "      <td>0.21333</td>\n",
       "    </tr>\n",
       "    <tr>\n",
       "      <th>[5.1, 5.5)</th>\n",
       "      <td>20</td>\n",
       "      <td>52</td>\n",
       "      <td>0.13333</td>\n",
       "      <td>0.34667</td>\n",
       "    </tr>\n",
       "    <tr>\n",
       "      <th>[5.5, 5.9)</th>\n",
       "      <td>28</td>\n",
       "      <td>80</td>\n",
       "      <td>0.18667</td>\n",
       "      <td>0.53333</td>\n",
       "    </tr>\n",
       "    <tr>\n",
       "      <th>[5.9, 6.3)</th>\n",
       "      <td>28</td>\n",
       "      <td>108</td>\n",
       "      <td>0.18667</td>\n",
       "      <td>0.72000</td>\n",
       "    </tr>\n",
       "    <tr>\n",
       "      <th>[6.3, 6.7)</th>\n",
       "      <td>14</td>\n",
       "      <td>122</td>\n",
       "      <td>0.09333</td>\n",
       "      <td>0.81333</td>\n",
       "    </tr>\n",
       "    <tr>\n",
       "      <th>[6.7, 7.1)</th>\n",
       "      <td>17</td>\n",
       "      <td>139</td>\n",
       "      <td>0.11333</td>\n",
       "      <td>0.92667</td>\n",
       "    </tr>\n",
       "    <tr>\n",
       "      <th>[7.1, 7.5)</th>\n",
       "      <td>5</td>\n",
       "      <td>144</td>\n",
       "      <td>0.03333</td>\n",
       "      <td>0.96000</td>\n",
       "    </tr>\n",
       "    <tr>\n",
       "      <th>[7.5, 7.904)</th>\n",
       "      <td>6</td>\n",
       "      <td>150</td>\n",
       "      <td>0.04000</td>\n",
       "      <td>1.00000</td>\n",
       "    </tr>\n",
       "  </tbody>\n",
       "</table>\n",
       "</div>"
      ],
      "text/plain": [
       "col_0         frequency  cumulative_frequency  relative_frequency  \\\n",
       "Sepal.Length                                                        \n",
       "[4.3, 4.7)            9                     9             0.06000   \n",
       "[4.7, 5.1)           23                    32             0.15333   \n",
       "[5.1, 5.5)           20                    52             0.13333   \n",
       "[5.5, 5.9)           28                    80             0.18667   \n",
       "[5.9, 6.3)           28                   108             0.18667   \n",
       "[6.3, 6.7)           14                   122             0.09333   \n",
       "[6.7, 7.1)           17                   139             0.11333   \n",
       "[7.1, 7.5)            5                   144             0.03333   \n",
       "[7.5, 7.904)          6                   150             0.04000   \n",
       "\n",
       "col_0         cumulative_relative_frequency  \n",
       "Sepal.Length                                 \n",
       "[4.3, 4.7)                          0.06000  \n",
       "[4.7, 5.1)                          0.21333  \n",
       "[5.1, 5.5)                          0.34667  \n",
       "[5.5, 5.9)                          0.53333  \n",
       "[5.9, 6.3)                          0.72000  \n",
       "[6.3, 6.7)                          0.81333  \n",
       "[6.7, 7.1)                          0.92667  \n",
       "[7.1, 7.5)                          0.96000  \n",
       "[7.5, 7.904)                        1.00000  "
      ]
     },
     "execution_count": 4,
     "metadata": {},
     "output_type": "execute_result"
    }
   ],
   "source": [
    "# 연속형 변수의 도수 분포표\n",
    "# Sturges's Rule 에 따른 Binning \n",
    "n_data = df_iris['Sepal.Length'].count()\n",
    "n_bins = int(np.ceil(np.log2(n_data) + 1))\n",
    "bins = pd.cut(x=df_iris['Sepal.Length'], bins=n_bins, right=False)\n",
    "fdt = pd.crosstab(index=bins, columns='frequency')\n",
    "fdt['cumulative_frequency'] = fdt['frequency'].cumsum() # 누적도수\n",
    "fdt['relative_frequency'] = fdt['frequency'] / fdt['frequency'].sum() # 상대도수\n",
    "fdt['cumulative_relative_frequency'] = fdt['relative_frequency'].cumsum() # 누적상대도수\n",
    "fdt"
   ]
  },
  {
   "cell_type": "markdown",
   "metadata": {},
   "source": [
    "**히스토그램 (Histogram)**\n",
    "\n",
    "도수분포표를 통해 구한 계급 구간을 이용하여 히스토그램으로 데이터를 시각화 하여 살펴 봅니다. 히스토그램을 통한 데이터 시각화를 하면 좀 더 데이터 분포에 대하여 직관적으로 살펴볼 수 있습니다."
   ]
  },
  {
   "cell_type": "code",
   "execution_count": 5,
   "metadata": {},
   "outputs": [
    {
     "data": {
      "text/plain": [
       "<AxesSubplot:>"
      ]
     },
     "execution_count": 5,
     "metadata": {},
     "output_type": "execute_result"
    },
    {
     "data": {
      "image/png": "[encoded data removed]",
      "text/plain": [
       "<Figure size 432x288 with 1 Axes>"
      ]
     },
     "metadata": {
      "needs_background": "light"
     },
     "output_type": "display_data"
    }
   ],
   "source": [
    "# Pandas를 이용한 시각화\n",
    "df_iris['Sepal.Length'].hist(bins=n_bins, grid=False, edgecolor='black')"
   ]
  },
  {
   "cell_type": "code",
   "execution_count": 6,
   "metadata": {},
   "outputs": [
    {
     "data": {
      "text/plain": [
       "Text(0.5, 1.0, 'bins = 9')"
      ]
     },
     "execution_count": 6,
     "metadata": {},
     "output_type": "execute_result"
    },
    {
     "data": {
      "image/png": "[encoded data removed]",
      "text/plain": [
       "<Figure size 432x288 with 1 Axes>"
      ]
     },
     "metadata": {
      "needs_background": "light"
     },
     "output_type": "display_data"
    }
   ],
   "source": [
    "# Seaborn을 이용한 시각화\n",
    "sns.histplot(x=df_iris['Sepal.Length'],bins=n_bins)\n",
    "plt.title(f'bins = {n_bins}')"
   ]
  },
  {
   "cell_type": "markdown",
   "metadata": {},
   "source": [
    "## 이산확률분포\n",
    "\n",
    "확률변수가 취할 수 있는 값이 이산적인 확률변수\n",
    "\n",
    "**확률질량함수(Probability mass function)**\n",
    "\n",
    "확률변수 X 가 취할 수 있는 값에 대한 집합 $X = {x_1, x_2, x_3, ...}$ 일때, 확률변수 X가 $x_k$를 취할 확률\n",
    "\n",
    "$$f(x) = P(X = x_k) = p_k \\quad (k = 1, 2, 3, ...)$$\n",
    "$$f(x) = 0 \\quad (otherwise)$$\n",
    "\n",
    "**누적분포함수(Cumulative distribution function)**\n",
    "\n",
    "확률변수 X가 x이하가 될 때의 확률\n",
    "\n",
    "$$F(x) = P(X \\leq x_k) = \\sum_{x_k \\leq x}f(x_k)$$ \n",
    "\n",
    "**기대값(Expted value)**\n",
    "\n",
    "확률변수의 평균\n",
    "\n",
    "$$E(X) = \\sum_kx_kf(x_k)$$\n",
    "\n",
    "**분산(Variance)**\n",
    "\n",
    "$$V(X) = \\sum_k(x_k - \\mu)^2f(x_k)$$"
   ]
  },
  {
   "cell_type": "markdown",
   "metadata": {},
   "source": [
    "### 이산균등분포 (Discrete Uniform Distribution)\n",
    "\n",
    "사상이 일어나는 확률이 같은 분포, 확률변수가 x = {1, ..., n} 1,2,3, .. 값은 이산 값을 취할때,\n",
    "\n",
    "**확률질량함수**\n",
    "\n",
    "베르누이 분포에서 1이 나오는 확률을 p 라고 할때, \n",
    "\n",
    "$$f(x) = \\frac{1}{n} \\quad (x \\in {1, 2, ..., n})$$\n",
    "$$f(x) = 0 \\quad (otherwise)$$\n",
    "\n",
    "**기대값과 분산**\n",
    "\n",
    "$$E(X) = \\frac{n+1}{2} \\quad V(X) = \\frac{n^2 - 1}{12}$$\n",
    "\n",
    "![](https://www.researchgate.net/profile/Lakshmi-Padmaja-Dhyaram/publication/319013233/figure/fig3/AS:525690496917504@1502345789065/Uniform-Distribution-Types.png)\n",
    "\n",
    "https://www.researchgate.net/figure/Uniform-Distribution-Types_fig3_319013233\n",
    "\n",
    "**Further Reading**\n",
    "* [이산균등분포](https://ko.wikipedia.org/wiki/%EC%9D%B4%EC%82%B0%EA%B7%A0%EB%93%B1%EB%B6%84%ED%8F%AC)\n",
    "* [Discrete uniform distribution](https://en.wikipedia.org/wiki/Discrete_uniform_distribution)"
   ]
  },
  {
   "cell_type": "code",
   "execution_count": 7,
   "metadata": {},
   "outputs": [
    {
     "data": {
      "text/plain": [
       "[Text(0.5, 0, 'Distribution '), Text(0, 0.5, 'Frequency')]"
      ]
     },
     "execution_count": 7,
     "metadata": {},
     "output_type": "execute_result"
    },
    {
     "data": {
      "image/png": "[encoded data removed]",
      "text/plain": [
       "<Figure size 432x288 with 1 Axes>"
      ]
     },
     "metadata": {
      "needs_background": "light"
     },
     "output_type": "display_data"
    }
   ],
   "source": [
    "rv = sp.stats.randint(low=10, high=20)\n",
    "rvs = rv.rvs(size=100000)\n",
    "ax = sns.distplot(rvs, bins=50, kde=False,\n",
    "                  color='skyblue', hist_kws={\"linewidth\": 15,'alpha':1})\n",
    "ax.set(xlabel='Distribution ', ylabel='Frequency')"
   ]
  },
  {
   "cell_type": "markdown",
   "metadata": {},
   "source": [
    "### 베르누이분포\n",
    "\n",
    "확률변수가 취할 수 있는 값이 0/1 밖에 없는 분포, 가장 기본적인 이산형 확률분포\n",
    "\n",
    "**확률질량함수**\n",
    "\n",
    "베르누이 분포에서 1이 나오는 확률을 p 라고 할때, \n",
    "\n",
    "$$f(x) = p^x(1-p)^{(1-x)} \\quad (x \\in {0, 1})$$\n",
    "$$f(x) = 0 \\quad (otherwise)$$\n",
    "\n",
    "**기대값과 분산**\n",
    "\n",
    "$$E(X) = p\\quad V(X) = p(1-p)$$"
   ]
  },
  {
   "cell_type": "code",
   "execution_count": 8,
   "metadata": {},
   "outputs": [
    {
     "name": "stdout",
     "output_type": "stream",
     "text": [
      "f(0)=0.700, f(1)=0.300\n",
      "F(0)=0.700, F(1)=1.000\n",
      "E(X)=0.300, V(X)=0.210\n"
     ]
    },
    {
     "data": {
      "text/plain": [
       "[Text(0.5, 0, 'Distribution '), Text(0, 0.5, 'Frequency')]"
      ]
     },
     "execution_count": 8,
     "metadata": {},
     "output_type": "execute_result"
    },
    {
     "data": {
      "image/png": "[encoded data removed]",
      "text/plain": [
       "<Figure size 432x288 with 1 Axes>"
      ]
     },
     "metadata": {
      "needs_background": "light"
     },
     "output_type": "display_data"
    }
   ],
   "source": [
    "p = 0.3\n",
    "rv = sp.stats.bernoulli(p)\n",
    "print(f\"f(0)={rv.pmf(0):.3f}, f(1)={rv.pmf(1):.3f}\")\n",
    "print(f\"F(0)={rv.cdf(0):.3f}, F(1)={rv.cdf(1):.3f}\")\n",
    "print(f\"E(X)={rv.mean():.3f}, V(X)={rv.var():.3f}\")\n",
    "\n",
    "rvs = rv.rvs(size=100000)\n",
    "ax = sns.distplot(rvs, bins=3, kde=False,\n",
    "                  color='skyblue', hist_kws={\"linewidth\": 15,'alpha':1})\n",
    "ax.set(xlabel='Distribution ', ylabel='Frequency')"
   ]
  },
  {
   "cell_type": "markdown",
   "metadata": {},
   "source": [
    "### 이항분포 (Binomial Distribution)\n",
    "\n",
    "성공확률이 p인 베르누이 시행을 n번 했을 때의 성공 횟수가 따르는 분포\n",
    "\n",
    "**확률질량함수**\n",
    "\n",
    "연속된 n번의 독립적 시행에서 각 시행이 성공 확률 p를 가질 때, \n",
    "\n",
    "$$f(x) = nCxp^x(1-p)^{(n-x)} \\quad (x \\in {0, 1, 2, ... n})$$\n",
    "$$f(x) = 0 \\quad (otherwise)$$\n",
    "\n",
    "**기대값과 분산**\n",
    "\n",
    "$$E(X) = np\\quad V(X) = np(1-p)$$\n",
    "\n",
    "![](https://upload.wikimedia.org/wikipedia/commons/thumb/7/75/Binomial_distribution_pmf.svg/300px-Binomial_distribution_pmf.svg.png)\n",
    "\n",
    "https://en.wikipedia.org/wiki/Binomial_distribution\n",
    "\n",
    "**Further Reading**\n",
    "* [이항 분포](https://ko.wikipedia.org/wiki/%EC%9D%B4%ED%95%AD_%EB%B6%84%ED%8F%AC)\n",
    "* [Binomial distribution](https://en.wikipedia.org/wiki/Binomial_distribution)"
   ]
  },
  {
   "cell_type": "code",
   "execution_count": 9,
   "metadata": {},
   "outputs": [
    {
     "name": "stdout",
     "output_type": "stream",
     "text": [
      "f(1)=0.010, f(8)=0.044\n",
      "F(1)=0.011, F(8)=0.989\n",
      "E(X)=5.000, V(X)=2.500\n"
     ]
    },
    {
     "data": {
      "text/plain": [
       "[Text(0.5, 0, 'Distribution'), Text(0, 0.5, 'Frequency')]"
      ]
     },
     "execution_count": 9,
     "metadata": {},
     "output_type": "execute_result"
    },
    {
     "data": {
      "image/png": "[encoded data removed]",
      "text/plain": [
       "<Figure size 432x288 with 1 Axes>"
      ]
     },
     "metadata": {
      "needs_background": "light"
     },
     "output_type": "display_data"
    }
   ],
   "source": [
    "# 성공확률이 0.5인 동전던지기에서 10번 수행시 성공확률\n",
    "n = 10\n",
    "p = 0.5\n",
    "rv = sp.stats.binom(n=n,p=p)\n",
    "print(f\"f(1)={rv.pmf(1):.3f}, f(8)={rv.pmf(8):.3f}\")\n",
    "print(f\"F(1)={rv.cdf(1):.3f}, F(8)={rv.cdf(8):.3f}\")\n",
    "print(f\"E(X)={rv.mean():.3f}, V(X)={rv.var():.3f}\")\n",
    "\n",
    "rvs = rv.rvs(size=10000)\n",
    "ax = sns.distplot(rvs, kde=False,\n",
    "                  color='skyblue', hist_kws={\"linewidth\": 15,'alpha':1})\n",
    "ax.set(xlabel='Distribution', ylabel='Frequency')"
   ]
  },
  {
   "cell_type": "markdown",
   "metadata": {},
   "source": [
    "### 기하분포 (Geometric Distribution)\n",
    "\n",
    "베르누이 시행에서 처음 성공할때까지 반복한 시행 횟수가 따르는 분포\n",
    "\n",
    "**확률질량함수**\n",
    "\n",
    "성공 확률이 p이고, 확률변수의 값이 1 이상인 정수일때(기하분포는 첫성공 후, 연속 실패 가능성이 있기 때문),\n",
    "\n",
    "$$f(x) = (1-p)^{(x-1)}p \\quad (x \\in {1, 2, ... n})$$\n",
    "$$f(x) = 0 \\quad (otherwise)$$\n",
    "\n",
    "**기대값과 분산**\n",
    "\n",
    "$$E(X) = \\frac{1}{p} \\quad V(X) = \\frac{(1-p)}{p^2}$$\n",
    "\n",
    "![](https://upload.wikimedia.org/wikipedia/commons/thumb/4/4b/Geometric_pmf.svg/450px-Geometric_pmf.svg.png)\n",
    "\n",
    "https://en.wikipedia.org/wiki/Geometric_distribution\n",
    "\n",
    "**Further Reading**\n",
    "* [Geometric distribution](https://en.wikipedia.org/wiki/Geometric_distribution)"
   ]
  },
  {
   "cell_type": "code",
   "execution_count": 10,
   "metadata": {},
   "outputs": [
    {
     "name": "stdout",
     "output_type": "stream",
     "text": [
      "f(1)=0.500, f(8)=0.004\n",
      "F(1)=0.500, F(8)=0.996\n",
      "E(X)=2.000, V(X)=2.000\n"
     ]
    },
    {
     "data": {
      "text/plain": [
       "[Text(0.5, 0, 'Distribution'), Text(0, 0.5, 'Frequency')]"
      ]
     },
     "execution_count": 10,
     "metadata": {},
     "output_type": "execute_result"
    },
    {
     "data": {
      "image/png": "[encoded data removed]",
      "text/plain": [
       "<Figure size 432x288 with 1 Axes>"
      ]
     },
     "metadata": {
      "needs_background": "light"
     },
     "output_type": "display_data"
    }
   ],
   "source": [
    "# 성공확률이 0.5인 동전던지기에서 x번 시행시 성공할 확률\n",
    "p = 0.5\n",
    "rv = sp.stats.geom(p=p)\n",
    "print(f\"f(1)={rv.pmf(1):.3f}, f(8)={rv.pmf(8):.3f}\")\n",
    "print(f\"F(1)={rv.cdf(1):.3f}, F(8)={rv.cdf(8):.3f}\")\n",
    "print(f\"E(X)={rv.mean():.3f}, V(X)={rv.var():.3f}\")\n",
    "\n",
    "rvs = rv.rvs(size=10000)\n",
    "ax = sns.distplot(rvs, kde=False,\n",
    "                  color='skyblue', hist_kws={\"linewidth\": 15,'alpha':1})\n",
    "ax.set(xlabel='Distribution', ylabel='Frequency')"
   ]
  },
  {
   "cell_type": "markdown",
   "metadata": {},
   "source": [
    "### 포아송 분포 (Poisson Distribution)\n",
    "\n",
    "시행 횟수가 많고, 사상 발생의 확률은 아주 작은 이항분포, 단위 시간 또는 단위 공간 안에 어떤 사건이 몇 번 발생할 것인지를 표현하는 이산 확률 분포\n",
    "\n",
    "**확률질량함수**\n",
    "\n",
    "정해진 시간 안에 어떤 사건이 일어날 횟수에 대한 기댓값이 $\\lambda = np$ 일때, 그 사건이 x 회 일어날 확률  \n",
    "\n",
    "$$f(x) = \\frac{\\lambda^x e^{-\\lambda}}{x!} \\quad (x \\in {0, 1, 2, ... n})$$\n",
    "$$f(x) = 0 \\quad (otherwise)$$\n",
    "\n",
    "**기대값과 분산**\n",
    "\n",
    "$$E(X) = \\lambda \\quad V(X) = \\lambda$$\n",
    "\n",
    "$\\lambda$ 값이 커질 수록 정규분포에 가까워짐\n",
    "\n",
    "![](https://upload.wikimedia.org/wikipedia/commons/thumb/1/16/Poisson_pmf.svg/325px-Poisson_pmf.svg.png)\n",
    "\n",
    "https://en.wikipedia.org/wiki/Poisson_distribution\n",
    "\n",
    "**Further Reading**\n",
    "* [Poisson distribution](https://en.wikipedia.org/wiki/Poisson_distribution)"
   ]
  },
  {
   "cell_type": "code",
   "execution_count": 11,
   "metadata": {},
   "outputs": [
    {
     "name": "stdout",
     "output_type": "stream",
     "text": [
      "f(1)=0.271, f(8)=0.001\n",
      "F(1)=0.406, F(8)=1.000\n",
      "E(X)=2.000, V(X)=2.000\n"
     ]
    },
    {
     "data": {
      "text/plain": [
       "[Text(0.5, 0, 'Distribution'), Text(0, 0.5, 'Frequency')]"
      ]
     },
     "execution_count": 11,
     "metadata": {},
     "output_type": "execute_result"
    },
    {
     "data": {
      "image/png": "[encoded data removed]",
      "text/plain": [
       "<Figure size 432x288 with 1 Axes>"
      ]
     },
     "metadata": {
      "needs_background": "light"
     },
     "output_type": "display_data"
    }
   ],
   "source": [
    "# 평균 불량율이 2인 제품 생산시 불량이 1개(x = 1)발생할 확률\n",
    "p = 0.002\n",
    "n = 1000\n",
    "l = n*p\n",
    "rv = sp.stats.poisson(l)\n",
    "\n",
    "print(f\"f(1)={rv.pmf(1):.3f}, f(8)={rv.pmf(8):.3f}\")\n",
    "print(f\"F(1)={rv.cdf(1):.3f}, F(8)={rv.cdf(8):.3f}\")\n",
    "print(f\"E(X)={rv.mean():.3f}, V(X)={rv.var():.3f}\")\n",
    "\n",
    "# 포아송분포에서 실제 10000개 랜덤 샘플링 후 시각화\n",
    "rvs = rv.rvs(size=10000)\n",
    "ax = sns.distplot(rvs, bins=30, kde=False,\n",
    "                  color='skyblue', hist_kws={\"linewidth\": 15,'alpha':1})\n",
    "ax.set(xlabel='Distribution', ylabel='Frequency')"
   ]
  },
  {
   "cell_type": "markdown",
   "metadata": {},
   "source": [
    "## 연속확률분포\n",
    "\n",
    "확률변수가 취할 수 있는 값이 연속적인 확률변수\n",
    "\n",
    "**확률밀도함수(Probability density function)**\n",
    "\n",
    "확률변수 X 가 취할 수 있는 값에 대한 집합 $X = {x_1, x_2, x_3, ...}$ 일때, 확률변수 X가 $x_k$를 취할 확률\n",
    "\n",
    "$$f(x) = P(x0 \\geq X \\leq x_1) = \\int_{x0}^{x1}f(x)dx $$\n",
    "\n",
    "**누적분포함수(Cumulative distribution function)**\n",
    "\n",
    "확률변수 X가 x이하가 될 때의 확률\n",
    "\n",
    "$$F(x) = P(X \\leq x) = \\int_{- \\infty}^{x}f(x)dx$$ \n",
    "\n",
    "**기대값(Expted value)**\n",
    "\n",
    "확률변수의 평균\n",
    "\n",
    "$$E(X) = \\int_{- \\infty}^{\\infty}xf(x)dx$$\n",
    "\n",
    "**분산(Variance)**\n",
    "\n",
    "$$V(X) = \\int_{- \\infty}^{\\infty}(x - E(X))^2f(x)dx$$"
   ]
  },
  {
   "cell_type": "markdown",
   "metadata": {},
   "source": [
    "### 연속균등분포 (Continuous Uniform Distribution)\n",
    "\n",
    "사상이 일어나는 확률이 같은 분포, 확률변수가 x = $[\\alpha, \\beta]$ 사이에 연속적인 값을 취할때,\n",
    "\n",
    "\n",
    "**확률밀도함수**\n",
    "\n",
    "$$f(x) = \\frac{1}{\\beta - \\alpha} \\quad (x \\in [\\alpha, \\beta])$$\n",
    "$$f(x) = 0 \\quad (otherwise)$$\n",
    "\n",
    "**기대값과 분산**\n",
    "\n",
    "$$E(X) = \\frac{\\alpha + \\beta}{2} \\quad V(X) = \\frac{(\\beta - \\alpha)^2}{12}$$\n",
    "\n",
    "![](https://www.researchgate.net/profile/Lakshmi-Padmaja-Dhyaram/publication/319013233/figure/fig3/AS:525690496917504@1502345789065/Uniform-Distribution-Types.png)\n",
    "\n",
    "https://www.researchgate.net/figure/Uniform-Distribution-Types_fig3_319013233\n",
    "\n",
    "**Further Reading**\n",
    "* [연속균등분포](https://ko.wikipedia.org/wiki/%EC%97%B0%EC%86%8D%EA%B7%A0%EB%93%B1%EB%B6%84%ED%8F%AC)\n",
    "* [Continuous uniform distribution](https://en.wikipedia.org/wiki/Continuous_uniform_distribution)"
   ]
  },
  {
   "cell_type": "code",
   "execution_count": 12,
   "metadata": {},
   "outputs": [
    {
     "data": {
      "text/plain": [
       "[Text(0.5, 0, 'Distribution '), Text(0, 0.5, 'Frequency')]"
      ]
     },
     "execution_count": 12,
     "metadata": {},
     "output_type": "execute_result"
    },
    {
     "data": {
      "image/png": "[encoded data removed]",
      "text/plain": [
       "<Figure size 432x288 with 1 Axes>"
      ]
     },
     "metadata": {
      "needs_background": "light"
     },
     "output_type": "display_data"
    }
   ],
   "source": [
    "rv = sp.stats.uniform(loc=10, scale=10)\n",
    "rvs = rv.rvs(size=100000)\n",
    "ax = sns.distplot(rvs, bins=100, kde=True, hist=False,\n",
    "                  color='skyblue', hist_kws={\"linewidth\": 15,'alpha':1})\n",
    "ax.set(xlabel='Distribution ', ylabel='Frequency')"
   ]
  },
  {
   "cell_type": "markdown",
   "metadata": {},
   "source": [
    "### 정규분포 (Normal Distribution)\n",
    "\n",
    "평균값을 중심으로 대칭을 이루는 종 모양의 분포, 자연에서 일어나는 많은 수의 데이터들이 정규분포를 따르는 경우가 많기 때문에 통계학에서 \n",
    "가장 중요하게 다루는 분포입니다.\n",
    "\n",
    "**확률밀도함수**\n",
    "\n",
    "$$f(x) = \\frac{1}{\\sqrt{2\\pi\\sigma}}exp\\{-\\frac{(x-\\mu)^2}{2\\sigma^2}\\} \\quad (-\\infty < x < \\infty)$$\n",
    "\n",
    "**기대값과 분산**\n",
    "\n",
    "$$E(X) = \\mu \\quad V(X) = \\sigma^2$$\n",
    "\n",
    "**표준정규분포(Z Distribution)**\n",
    "\n",
    "표준졍규분포는 데이터의 평균값을 0으로 표준편차를 1로 변환하여 데이터의 척도에 상관 없이 사용할 수 있도록 표준화한 분포입니다. \n",
    "\n",
    "표준화변량 (Z-Score)\n",
    "\n",
    "$$Z = \\frac{x-\\mu}{\\sigma}$$\n",
    "\n",
    "표준화변량(Z-score)를 이용하면 평균과 표준편차가 다른 두 집단에 속한 데이터가 표준 정규 분포 상의 어느 확률 지점에 존재하는지 같은 기준을 통해 비교해 볼수 있게 됩니다. 예를 들면, 사내 어학연수 선발에서 토익성적만 있는 지원자와 토플성적만 있는 지원자 중 선발이 필요할 경우 직접적 비교가 어렵지만, 두 지원자의 점수를 Z-score로 표준화하여 같은 분포상에서 비교한다면 선발이 가능하게 됩니다.\n",
    "\n",
    "![](https://mathbitsnotebook.com/Algebra2/Statistics/zscore3.png)\n",
    "\n",
    "https://mathbitsnotebook.com/Algebra2/Statistics/STzScores.html\n",
    "\n",
    "**왜도와 첨도(Skew & Kurtosis)**\n",
    "\n",
    "표준분포의 모양이 정규분포에서 어느정도 벗어나는지를 측정하기 위한 지표\n",
    "\n",
    "왜도 (Skew)\n",
    "\n",
    "$$S_w = \\frac{1}{n}\\sum_{i=1}^{n}(\\frac{x_i-\\mu}{\\sigma})^3$$ \n",
    "\n",
    "첨조 (Kurtosis)\n",
    "\n",
    "$$S_k = \\frac{1}{n}\\sum_{i=1}^{n}(\\frac{x_i-\\mu}{\\sigma})^4 - 3$$ \n",
    "\n",
    "![](https://www.researchgate.net/profile/Attila-Bonyar/publication/298415862/figure/fig1/AS:340236723867648@1458130164255/Illustration-of-the-skewness-and-kurtosis-values-and-how-they-correlate-with-the-shape-of.png)\n",
    "\n",
    "https://www.researchgate.net/figure/Illustration-of-the-skewness-and-kurtosis-values-and-how-they-correlate-with-the-shape-of_fig1_298415862"
   ]
  },
  {
   "cell_type": "code",
   "execution_count": 13,
   "metadata": {},
   "outputs": [
    {
     "data": {
      "text/html": [
       "<div>\n",
       "<style scoped>\n",
       "    .dataframe tbody tr th:only-of-type {\n",
       "        vertical-align: middle;\n",
       "    }\n",
       "\n",
       "    .dataframe tbody tr th {\n",
       "        vertical-align: top;\n",
       "    }\n",
       "\n",
       "    .dataframe thead th {\n",
       "        text-align: right;\n",
       "    }\n",
       "</style>\n",
       "<table border=\"1\" class=\"dataframe\">\n",
       "  <thead>\n",
       "    <tr style=\"text-align: right;\">\n",
       "      <th></th>\n",
       "      <th>Sepal.Length</th>\n",
       "      <th>Sepal.Width</th>\n",
       "      <th>Petal.Length</th>\n",
       "      <th>Petal.Width</th>\n",
       "    </tr>\n",
       "  </thead>\n",
       "  <tbody>\n",
       "    <tr>\n",
       "      <th>1</th>\n",
       "      <td>-0.90068</td>\n",
       "      <td>1.01900</td>\n",
       "      <td>-1.34023</td>\n",
       "      <td>-1.31544</td>\n",
       "    </tr>\n",
       "    <tr>\n",
       "      <th>2</th>\n",
       "      <td>-1.14302</td>\n",
       "      <td>-0.13198</td>\n",
       "      <td>-1.34023</td>\n",
       "      <td>-1.31544</td>\n",
       "    </tr>\n",
       "    <tr>\n",
       "      <th>3</th>\n",
       "      <td>-1.38535</td>\n",
       "      <td>0.32841</td>\n",
       "      <td>-1.39706</td>\n",
       "      <td>-1.31544</td>\n",
       "    </tr>\n",
       "    <tr>\n",
       "      <th>4</th>\n",
       "      <td>-1.50652</td>\n",
       "      <td>0.09822</td>\n",
       "      <td>-1.28339</td>\n",
       "      <td>-1.31544</td>\n",
       "    </tr>\n",
       "    <tr>\n",
       "      <th>5</th>\n",
       "      <td>-1.02185</td>\n",
       "      <td>1.24920</td>\n",
       "      <td>-1.34023</td>\n",
       "      <td>-1.31544</td>\n",
       "    </tr>\n",
       "  </tbody>\n",
       "</table>\n",
       "</div>"
      ],
      "text/plain": [
       "   Sepal.Length  Sepal.Width  Petal.Length  Petal.Width\n",
       "1      -0.90068      1.01900      -1.34023     -1.31544\n",
       "2      -1.14302     -0.13198      -1.34023     -1.31544\n",
       "3      -1.38535      0.32841      -1.39706     -1.31544\n",
       "4      -1.50652      0.09822      -1.28339     -1.31544\n",
       "5      -1.02185      1.24920      -1.34023     -1.31544"
      ]
     },
     "metadata": {},
     "output_type": "display_data"
    },
    {
     "data": {
      "text/plain": [
       "Sepal.Length    0.31491\n",
       "Sepal.Width     0.31897\n",
       "Petal.Length   -0.27488\n",
       "Petal.Width    -0.10297\n",
       "dtype: float64"
      ]
     },
     "metadata": {},
     "output_type": "display_data"
    },
    {
     "data": {
      "text/plain": [
       "Sepal.Length   -0.55206\n",
       "Sepal.Width     0.22825\n",
       "Petal.Length   -1.40210\n",
       "Petal.Width    -1.34060\n",
       "dtype: float64"
      ]
     },
     "metadata": {},
     "output_type": "display_data"
    }
   ],
   "source": [
    "# Scipy 를 이용한 각 변수의 Z-score 계산\n",
    "#sp.stats.zscore(df_iris['Sepal.Length'])\n",
    "\n",
    "# Pandas에서 apply()에 zscore()를 전달하여 계산\n",
    "df_zscore = df_iris.drop('Species', axis=1).apply(sp.stats.zscore)\n",
    "display(df_zscore.head())\n",
    "\n",
    "# Pandas에서 Skew / Kurtosis 계산\n",
    "display(df_iris.skew())\n",
    "display(df_iris.kurtosis())"
   ]
  },
  {
   "cell_type": "code",
   "execution_count": 14,
   "metadata": {},
   "outputs": [
    {
     "name": "stdout",
     "output_type": "stream",
     "text": [
      "f(82)=0.071\n",
      "F(82)=0.650\n",
      "1 - F(82)=0.350\n",
      "E(X)=80.000, V(X)=27.040\n",
      "Top 10% point with ppf: 86.664\n",
      "Top 10% point with isf: 86.664\n",
      "중위 90% interval: 71.447 < x < 88.553\n",
      "상하위 5% interval with ppf: x < 71.447, 88.553 < x\n",
      "상하위 5% interval with isf: x < 71.447, 88.553 < x\n"
     ]
    },
    {
     "data": {
      "text/plain": [
       "[Text(0.5, 0, 'Distribution'), Text(0, 0.5, 'Frequency')]"
      ]
     },
     "execution_count": 14,
     "metadata": {},
     "output_type": "execute_result"
    },
    {
     "data": {
      "image/png": "[encoded data removed]",
      "text/plain": [
       "<Figure size 432x288 with 1 Axes>"
      ]
     },
     "metadata": {
      "needs_background": "light"
     },
     "output_type": "display_data"
    }
   ],
   "source": [
    "# 시험점수가 N(80, 5.2)(평균:80, 표준편차:5.2)인 정규분포에서 82점일 확률\n",
    "mu = 80\n",
    "std = 5.2\n",
    "# scipy 의 statistics 패키지를 이용하여 정규분포에서 원하는 값 계산\n",
    "# https://docs.scipy.org/doc/scipy/tutorial/stats.html\n",
    "rv = sp.stats.norm(loc=mu, scale=std)\n",
    "\n",
    "# 확률밀도함수(Probability density function)\n",
    "print(f\"f(82)={rv.pdf(82.0):.3f}\") \n",
    "# 누적분포함수(Cumulative distribution function): P(X <= 82): 82점 이하일 확률\n",
    "print(f\"F(82)={rv.cdf(82.0):.3f}\")\n",
    "# Survival Function (1-CDF): P(X >= 82): 82점 이상일 확률\n",
    "print(f\"1 - F(82)={rv.sf(82.0):.3f}\")\n",
    "# 기대값(Expted value), 분산 (Variance)\n",
    "print(f\"E(X)={rv.mean():.3f}, V(X)={rv.var():.3f}\")\n",
    "\n",
    "# 상위 % 를 가지는 값 구하기 \n",
    "# Percent Point Function (Inverse of CDF): P(X <= x) = 90% 일때, x의 값\n",
    "print(f\"Top 10% point with ppf: {rv.ppf(0.90):.3f}\")\n",
    "# Inverse Survival Function (Inverse of SF): P(X >= x) = 10% 일때, x의 값\n",
    "print(f\"Top 10% point with isf: {rv.isf(0.10):.3f}\")\n",
    "# 중위 90% 확률을 가지는 구간\n",
    "print(f\"중위 90% interval: {rv.interval(0.9)[0]:.3f} < x < {rv.interval(0.9)[1]:.3f}\")\n",
    "# 상위 5%, 하위 5% 점수 구간\n",
    "print(f\"상하위 5% interval with ppf: x < {rv.ppf(0.05):.3f}, {rv.ppf(0.95):.3f} < x\")\n",
    "print(f\"상하위 5% interval with isf: x < {rv.isf(0.95):.3f}, {rv.isf(0.05):.3f} < x\")\n",
    "\n",
    "rvs = rv.rvs(size=10000)\n",
    "ax = sns.distplot(rvs, bins=100, kde=True, hist=False,\n",
    "                  color='skyblue', hist_kws={\"linewidth\": 15,'alpha':1})\n",
    "ax.set(xlabel='Distribution', ylabel='Frequency')"
   ]
  },
  {
   "cell_type": "code",
   "execution_count": 15,
   "metadata": {},
   "outputs": [
    {
     "data": {
      "text/plain": [
       "[Text(0.5, 0, 'Distribution'), Text(0, 0.5, 'Frequency')]"
      ]
     },
     "execution_count": 15,
     "metadata": {},
     "output_type": "execute_result"
    },
    {
     "data": {
      "image/png": "[encoded data removed]",
      "text/plain": [
       "<Figure size 432x288 with 1 Axes>"
      ]
     },
     "metadata": {
      "needs_background": "light"
     },
     "output_type": "display_data"
    }
   ],
   "source": [
    "# 표준정규분포 (Z-distribution) N(0,1)\n",
    "rv = sp.stats.norm(loc=0, scale=1)\n",
    "rvs = rv.rvs(size=10000)\n",
    "ax = sns.distplot(rvs, bins=100, kde=True, hist=False,\n",
    "                  color='skyblue', hist_kws={\"linewidth\": 15,'alpha':1})\n",
    "ax.set(xlabel='Distribution', ylabel='Frequency')"
   ]
  },
  {
   "cell_type": "markdown",
   "metadata": {},
   "source": [
    "**Q-Q Plot (Quantile-Quantile Plot)**\n",
    "\n",
    "정규분포인지를 살펴보기 위한 다른 시각화 방식은 Q-Q Plot 입니다. Q-Q Plot 은 정규분포와 실제 데이터의 같은 Quantile 상의 데이터를 샘플링해 point를 찍어 봄으로써 두 분포가 유사한지를 시각화하여 판단하는 방식입니다. point 들이 직선을 이룬다면 두 분포는 같은 정규분포일 가능성이 높습니다.\n"
   ]
  },
  {
   "cell_type": "code",
   "execution_count": 16,
   "metadata": {},
   "outputs": [
    {
     "data": {
      "image/png": "[encoded data removed]",
      "text/plain": [
       "<Figure size 432x288 with 1 Axes>"
      ]
     },
     "metadata": {
      "needs_background": "light"
     },
     "output_type": "display_data"
    }
   ],
   "source": [
    "from statsmodels.graphics.gofplots import qqplot\n",
    "\n",
    "# q-q plot\n",
    "qqplot(df_iris['Sepal.Length'], line='s')\n",
    "plt.show()"
   ]
  },
  {
   "cell_type": "markdown",
   "metadata": {},
   "source": [
    "### 지수분포 (Exponential Distribution)\n",
    "\n",
    "어떤 사건이 발생하는 간격(시간)이 따르는 분포\n",
    "\n",
    "**확률밀도함수**\n",
    "\n",
    "단위 시간당 평균 $\\lambda$번 발생하는 사건의 발생 간격을 따를 때, \n",
    "\n",
    "$$f(x) = \\lambda e^{-\\lambda x} \\quad (x \\geq 0)$$\n",
    "\n",
    "**기대값과 분산**\n",
    "\n",
    "$$E(X) = \\frac{1}{\\lambda} \\quad V(X) = \\frac{1}{\\lambda^2}$$\n",
    "\n",
    "\n",
    "![](https://upload.wikimedia.org/wikipedia/commons/thumb/0/02/Exponential_probability_density.svg/325px-Exponential_probability_density.svg.png)\n",
    "\n",
    "https://en.wikipedia.org/wiki/Exponential_distribution\n",
    "\n",
    "**Further Reading**\n",
    "* [Exponential distribution](https://en.wikipedia.org/wiki/Exponential_distribution)"
   ]
  },
  {
   "cell_type": "code",
   "execution_count": 17,
   "metadata": {},
   "outputs": [
    {
     "name": "stdout",
     "output_type": "stream",
     "text": [
      "f(1)=0.271, f(3)=0.005\n",
      "F(1)=0.865, F(3)=0.998\n",
      "E(X)=0.500, V(X)=0.250\n"
     ]
    },
    {
     "data": {
      "text/plain": [
       "[Text(0.5, 0, 'Distribution'), Text(0, 0.5, 'Frequency')]"
      ]
     },
     "execution_count": 17,
     "metadata": {},
     "output_type": "execute_result"
    },
    {
     "data": {
      "image/png": "[encoded data removed]",
      "text/plain": [
       "<Figure size 432x288 with 1 Axes>"
      ]
     },
     "metadata": {
      "needs_background": "light"
     },
     "output_type": "display_data"
    }
   ],
   "source": [
    "# 한달 평균 2건의 교통사고가 발생하는 지역에서 한달 교통사고 발생 간격\n",
    "l = 2\n",
    "rv = sp.stats.expon(scale=1.0/l)\n",
    "\n",
    "print(f\"f(1)={rv.pdf(1):.3f}, f(3)={rv.pdf(3):.3f}\")\n",
    "# 1달안에 교통사고가 발생할 확률, 3달안에 교통사고가 발생할 확률\n",
    "print(f\"F(1)={rv.cdf(1):.3f}, F(3)={rv.cdf(3):.3f}\")\n",
    "print(f\"E(X)={rv.mean():.3f}, V(X)={rv.var():.3f}\")\n",
    "\n",
    "# 랜덤 샘플링 후 시각화\n",
    "rvs = rv.rvs(size=10000)\n",
    "ax = sns.distplot(rvs, bins=30, kde=True, hist=False,\n",
    "                  color='skyblue', hist_kws={\"linewidth\": 15,'alpha':1})\n",
    "ax.set(xlabel='Distribution', ylabel='Frequency')"
   ]
  },
  {
   "cell_type": "markdown",
   "metadata": {},
   "source": [
    "### 카이제곱 분포 (Chi-squared($x^2$) Distribution)\n",
    "\n",
    "추정과 검정에 사용되는 특수한 확률분포 중 하나, 분산의 구간 추정이나 독립성 검정에 사용\n",
    "\n",
    "![](https://upload.wikimedia.org/wikipedia/commons/thumb/2/21/Chi-square_distributionPDF.png/270px-Chi-square_distributionPDF.png)\n",
    "\n",
    "https://ko.wikipedia.org/wiki/%EC%B9%B4%EC%9D%B4%EC%A0%9C%EA%B3%B1_%EB%B6%84%ED%8F%AC\n",
    "\n",
    "**Further Reading**\n",
    "* [카이제곱 분포](https://ko.wikipedia.org/wiki/%EC%B9%B4%EC%9D%B4%EC%A0%9C%EA%B3%B1_%EB%B6%84%ED%8F%AC)\n",
    "* [Chi-squared distribution](https://en.wikipedia.org/wiki/Chi-squared_distribution)"
   ]
  },
  {
   "cell_type": "code",
   "execution_count": 18,
   "metadata": {},
   "outputs": [
    {
     "data": {
      "text/plain": [
       "[Text(0.5, 0, 'Distribution'), Text(0, 0.5, 'Frequency')]"
      ]
     },
     "execution_count": 18,
     "metadata": {},
     "output_type": "execute_result"
    },
    {
     "data": {
      "image/png": "[encoded data removed]",
      "text/plain": [
       "<Figure size 432x288 with 1 Axes>"
      ]
     },
     "metadata": {
      "needs_background": "light"
     },
     "output_type": "display_data"
    }
   ],
   "source": [
    "# Chi-squared distribution degree of freedom = 3\n",
    "rv = sp.stats.chi2(df=3)\n",
    "\n",
    "rvs = rv.rvs(size=10000)\n",
    "ax = sns.distplot(rvs, bins=100, kde=True, hist=False,\n",
    "                  color='skyblue', hist_kws={\"linewidth\": 15,'alpha':1})\n",
    "ax.set(xlabel='Distribution', ylabel='Frequency')"
   ]
  },
  {
   "cell_type": "markdown",
   "metadata": {},
   "source": [
    "### T 분포 (T Distribution)\n",
    "\n",
    "추정과 검정에 사용되는 특수한 확률분포 중 하나, 모분산을 알 수 없고, 표본 크기가 작을 때 정규분포 Z값 대신 T 분포의 T값을 이용해 추정 또는 검정에 사용 \n",
    "\n",
    "$$t = \\frac{\\bar{x} - \\mu}{\\frac{s}{\\sqrt{n}}}$$\n",
    "\n",
    "![](https://upload.wikimedia.org/wikipedia/commons/thumb/4/41/Student_t_pdf.svg/325px-Student_t_pdf.svg.png)\n",
    "\n",
    "https://en.wikipedia.org/wiki/Student%27s_t-distribution\n",
    "\n",
    "**Further Reading**\n",
    "* [Student's t-distribution](https://en.wikipedia.org/wiki/Student%27s_t-distribution)\n"
   ]
  },
  {
   "cell_type": "code",
   "execution_count": 19,
   "metadata": {},
   "outputs": [
    {
     "data": {
      "text/plain": [
       "[Text(0.5, 0, 'Distribution'), Text(0, 0.5, 'Frequency')]"
      ]
     },
     "execution_count": 19,
     "metadata": {},
     "output_type": "execute_result"
    },
    {
     "data": {
      "image/png": "[encoded data removed]",
      "text/plain": [
       "<Figure size 432x288 with 1 Axes>"
      ]
     },
     "metadata": {
      "needs_background": "light"
     },
     "output_type": "display_data"
    }
   ],
   "source": [
    "# T-distribution degree of freedom = 3\n",
    "rv = sp.stats.t(df=3)\n",
    "\n",
    "rvs = rv.rvs(size=10000)\n",
    "ax = sns.distplot(rvs, bins=100, kde=True, hist=False,\n",
    "                  color='skyblue', hist_kws={\"linewidth\": 15,'alpha':1})\n",
    "ax.set(xlabel='Distribution', ylabel='Frequency')"
   ]
  },
  {
   "cell_type": "code",
   "execution_count": 20,
   "metadata": {},
   "outputs": [
    {
     "data": {
      "text/plain": [
       "[Text(0.5, 0, 'Distribution'), Text(0, 0.5, 'Frequency')]"
      ]
     },
     "execution_count": 20,
     "metadata": {},
     "output_type": "execute_result"
    },
    {
     "data": {
      "image/png": "[encoded data removed]",
      "text/plain": [
       "<Figure size 432x288 with 1 Axes>"
      ]
     },
     "metadata": {
      "needs_background": "light"
     },
     "output_type": "display_data"
    }
   ],
   "source": [
    "# T-distribution degree of freedom = 30, 정규분포와 가까워짐\n",
    "rv = sp.stats.t(df=30)\n",
    "\n",
    "rvs = rv.rvs(size=10000)\n",
    "ax = sns.distplot(rvs, bins=100, kde=True, hist=False,\n",
    "                  color='skyblue', hist_kws={\"linewidth\": 15,'alpha':1})\n",
    "ax.set(xlabel='Distribution', ylabel='Frequency')"
   ]
  },
  {
   "cell_type": "markdown",
   "metadata": {},
   "source": [
    "### F 분포 (F Distribution)\n",
    "\n",
    "분산분석 등에서 사용되는 확률 분포\n",
    "\n",
    "확률변수 $Y_1$, $Y_2$는 서로 독립이고, 각 카이제곱분포를 따를 때($Y_1 \\sim x^2(n_1)$, $Y_2 \\sim x^2(n_2)$),\n",
    "\n",
    "$$F = \\frac{\\frac{Y_1}{n_1}}{\\frac{Y_2}{n_2}}$$\n",
    "\n",
    "의 확률분포를 자유도가 $n_1$, $n_2$인 F분포 $F(n_1, n_2)$"
   ]
  },
  {
   "cell_type": "code",
   "execution_count": 21,
   "metadata": {},
   "outputs": [
    {
     "data": {
      "text/plain": [
       "[Text(0.5, 0, 'Distribution'), Text(0, 0.5, 'Frequency')]"
      ]
     },
     "execution_count": 21,
     "metadata": {},
     "output_type": "execute_result"
    },
    {
     "data": {
      "image/png": "[encoded data removed]",
      "text/plain": [
       "<Figure size 432x288 with 1 Axes>"
      ]
     },
     "metadata": {
      "needs_background": "light"
     },
     "output_type": "display_data"
    }
   ],
   "source": [
    "rv = sp.stats.f(5, 10)\n",
    "\n",
    "rvs = rv.rvs(size=10000)\n",
    "ax = sns.distplot(rvs, bins=100, kde=True, hist=False,\n",
    "                  color='skyblue', hist_kws={\"linewidth\": 15,'alpha':1})\n",
    "ax.set(xlabel='Distribution', ylabel='Frequency')"
   ]
  },
  {
   "cell_type": "code",
   "execution_count": null,
   "metadata": {},
   "outputs": [],
   "source": []
  },
  {
   "cell_type": "code",
   "execution_count": null,
   "metadata": {},
   "outputs": [],
   "source": []
  }
 ],
 "metadata": {
  "kernelspec": {
   "display_name": "Python 3",
   "language": "python",
   "name": "python3"
  },
  "language_info": {
   "codemirror_mode": {
    "name": "ipython",
    "version": 3
   },
   "file_extension": ".py",
   "mimetype": "text/x-python",
   "name": "python",
   "nbconvert_exporter": "python",
   "pygments_lexer": "ipython3",
   "version": "3.8.9"
  },
  "nikola": {
   "category": "",
   "date": "2019-02-24",
   "description": "",
   "link": "",
   "slug": "ml-descriptive-statistics",
   "tags": "",
   "title": "Machine Learning - Descriptive Statistics",
   "type": "text"
  },
  "toc": {
   "base_numbering": 1,
   "nav_menu": {},
   "number_sections": true,
   "sideBar": true,
   "skip_h1_title": false,
   "title_cell": "Table of Contents",
   "title_sidebar": "Contents",
   "toc_cell": false,
   "toc_position": {},
   "toc_section_display": true,
   "toc_window_display": false
  }
 },
 "nbformat": 4,
 "nbformat_minor": 4
}
