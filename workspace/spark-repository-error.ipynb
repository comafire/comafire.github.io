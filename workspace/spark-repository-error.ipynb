{
 "cells": [
  {
   "cell_type": "markdown",
   "metadata": {},
   "source": [
    "spark submit 시에 아래와 같은 에러 나올때 대처법\n",
    "```\n",
    ":: problems summary ::\n",
    ":::: WARNINGS\n",
    "\t\tmodule not found: org.restlet.jee#org.restlet;2.3.0\n",
    "\n",
    "\t==== local-m2-cache: tried\n",
    "\n",
    "\t  file:/home/bdpuser/.m2/repository/org/restlet/jee/org.restlet/2.3.0/org.restlet-2.3.0.pom\n",
    "\n",
    "\t  -- artifact org.restlet.jee#org.restlet;2.3.0!org.restlet.jar:\n",
    "\n",
    "\t  file:/home/bdpuser/.m2/repository/org/restlet/jee/org.restlet/2.3.0/org.restlet-2.3.0.jar\n",
    "\n",
    "```"
   ]
  },
  {
   "cell_type": "markdown",
   "metadata": {},
   "source": [
    "문제는 해당 jar 의 maven 레퍼지 토리를 찾지 못해 일어나는 현상임\n",
    "repositories 옵션을 이용하면 추가 레퍼지토리 설정이 가능함\n",
    "\n",
    "```bash\n",
    "spark-shell --num-executors 5 --executor-cores 2 --packages com.databricks:spark-csv_2.10:1.4.0,com.databricks:spark-avro_2.10:2.0.1,com.lucidworks.spark:spark-solr:2.0.1 --repositories http://maven.restlet.org --jars jars/sqljdbc4.jar\n",
    "```"
   ]
  },
  {
   "cell_type": "code",
   "execution_count": null,
   "metadata": {
    "collapsed": true
   },
   "outputs": [],
   "source": []
  }
 ],
 "metadata": {
  "kernelspec": {
   "display_name": "Python 2",
   "language": "python",
   "name": "python2"
  },
  "language_info": {
   "codemirror_mode": {
    "name": "ipython",
    "version": 2
   },
   "file_extension": ".py",
   "mimetype": "text/x-python",
   "name": "python",
   "nbconvert_exporter": "python",
   "pygments_lexer": "ipython2",
   "version": "2.7.12"
  }
 },
 "nbformat": 4,
 "nbformat_minor": 1
}
