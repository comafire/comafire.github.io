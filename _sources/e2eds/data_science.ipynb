{
 "cells": [
  {
   "cell_type": "markdown",
   "metadata": {},
   "source": [
    "# Data Science\n",
    "\n",
    "> **Data Science 란 ?** \\\n",
    "\"정형, 비정형 형태를 포함한 다양한 데이터로부터 지식과 인사이트를 추출하는데 과학적 방법론, 프로세스, 알고리즘, 시스템을 동원하는 융합분야다.\" \\\n",
    "(https://ko.wikipedia.org/wiki/%EB%8D%B0%EC%9D%B4%ED%84%B0_%EC%82%AC%EC%9D%B4%EC%96%B8%EC%8A%A4)\n",
    "\n",
    "데이터 사이언스의 정의, 범위, 프로세스, 직군 등에 대하여 짧게 잘 설명된 Youtube 영상입니다. \\\n",
    "[What is Data Science? - IBM Technology](https://www.youtube.com/watch?v=RBSUwFGa6Fk)\n",
    "\n",
    "[![youtube](https://img.youtube.com/vi/RBSUwFGa6Fk/maxresdefault.jpg)](https://www.youtube.com/watch?v=RBSUwFGa6Fk)\n"
   ]
  },
  {
   "cell_type": "markdown",
   "metadata": {},
   "source": [
    "## Data Science의 범위\n",
    "\n",
    "데이터 사이언스는 데이터에서 인사이트를 추출하기 위하여 Statistical Data Analysis와 Machine Learning 및 Deep Learning을 포함하는 광범위한 분석 기법들을 사용합니다.\n",
    "\n",
    "[Machine Learning, Data Science and Artificial Intelligence](https://medium.com/geekculture/machine-learning-data-science-and-artificial-intelligence-a45a2ffe9639)\n",
    "\n",
    "![](https://miro.medium.com/max/1372/1*CYWu0xizXIzY1FF6PZOclg.png)\n"
   ]
  },
  {
   "cell_type": "markdown",
   "metadata": {},
   "source": [
    "## Data Science의 기술\n",
    "\n",
    "데이터 사이언스의 정의에도 나와 있듯이 광범위한 영역을 융합하여 인사이트를 추출하는 학문이다보니 이를 수행하기 위해 익혀야 할 스킬들도 상당히 다양합니다. 맵상에 모든 스킬을 익혀야만 데이터 과학을 할수 있는 것은 아니니 단계적으로 영역을 확장한다는 느낌으로 프로젝트에서 필요한 기술부터 차근히 익여 나가는 것을 추천합니다. \n",
    "\n",
    "[The Data Science Process - A Visual Guide to Standard Procedures in Data Science](https://towardsdatascience.com/the-data-science-process-a19eb7ebc41b)\n",
    "\n",
    "![](https://miro.medium.com/max/1400/1*o7DTEHgBknK2iBE9c-2Ing.jpeg)"
   ]
  },
  {
   "cell_type": "markdown",
   "metadata": {},
   "source": [
    "## Data Science 직군\n",
    "\n",
    "데이터 사이언스가 여러 도메인에서 사용되고 빅데이터 및 인공지능 기술 발전에 힘입어 기술또한 빠르게 발전하면서 데이터 사이언티스트의 직군 또한 초기 데이터 사이언티스트라는 하나의 직군에서 좀더 세분화되고 있습니다. \\\n",
    "이로인해 직군의 정의와 수행 범위가 시기 및 관점에 따라서 변경되고 있어 혼란 스럽기도 합니다만, 대략적으로 아래 소개된 글들을 통해 세분화된 직군들의 업무 정의 및 수행 범위를 파악할 수 있습니다.\n",
    "\n",
    "### Data Science 직군 변화에 대한 고찰\n",
    "\n",
    "[Machine Learning Engineer vs Data Scientist (Is Data Science Over?) vs Data Analyst vs Research Scientist vs Applied Scientist vs… ](https://towardsdatascience.com/mlevsds-3c89425baabb)\n",
    "\n",
    "번역: [머신 러닝 엔지니어 vs. 데이터 사이언티스트](https://medium.com/code-states/%EB%A8%B8%EC%8B%A0-%EB%9F%AC%EB%8B%9D-%EC%97%94%EC%A7%80%EB%8B%88%EC%96%B4-vs-%EB%8D%B0%EC%9D%B4%ED%84%B0-%EC%82%AC%EC%9D%B4%EC%96%B8%ED%8B%B0%EC%8A%A4%ED%8A%B8-7cff2ae6f253)\n",
    "\n",
    "![](https://miro.medium.com/max/1400/1*51rgXMpM7q0S_gHBKX-FvA.png)\n",
    "![](https://miro.medium.com/max/1400/1*sGlxcIB1KAPjSSoCEheXng.png)\n",
    "\n",
    "### Ops 적인 측면에서 바라본 데이터 사이언스 직군\n",
    "\n",
    "[What the Ops are you talking about?](https://towardsdatascience.com/what-the-ops-are-you-talking-about-518b1b1a2694)\n",
    "\n",
    "![](https://miro.medium.com/max/2000/1*SQP1pjIA1DeAWRAkTw6ODA.png)\n",
    "\n",
    "### 국내 기업 관점에서 바라본 데이터 분야 직군\n",
    "\n",
    "[데이터 분야의 직군 소개](https://github.com/Team-Neighborhood/I-want-to-study-Data-Science/wiki/%EB%8D%B0%EC%9D%B4%ED%84%B0-%EB%B6%84%EC%95%BC%EC%9D%98-%EC%A7%81%EA%B5%B0-%EC%86%8C%EA%B0%9C)\n",
    "\n",
    "![](https://camo.githubusercontent.com/85fbb8ad73ae8649610e1a67ead1395712600a92e38a7c7727ba7c4403d8826c/68747470733a2f2f7777772e64726f70626f782e636f6d2f732f77316a76736466306d7638667a346a2f53637265656e73686f74253230323031382d30372d323025323031312e35362e31392e706e673f7261773d31)\n"
   ]
  },
  {
   "cell_type": "markdown",
   "metadata": {},
   "source": []
  }
 ],
 "metadata": {
  "kernelspec": {
   "display_name": "Python 3.8.9 64-bit ('3.8.9')",
   "language": "python",
   "name": "python3"
  },
  "language_info": {
   "name": "python",
   "version": "3.8.9"
  },
  "orig_nbformat": 4,
  "vscode": {
   "interpreter": {
    "hash": "81b98c941daad6509d4c89342869ca88f891260205139ff875cb30be518b42c4"
   }
  }
 },
 "nbformat": 4,
 "nbformat_minor": 2
}
