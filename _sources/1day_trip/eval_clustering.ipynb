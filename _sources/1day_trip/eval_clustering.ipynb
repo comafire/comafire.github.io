{
 "cells": [
  {
   "cell_type": "markdown",
   "metadata": {},
   "source": [
    "# Clustering 평가\n",
    "\n",
    "* Adjusted Rand index\n",
    "* Mutual Information based scores\n",
    "* Homogeneity, completeness and V-measure\n",
    "* Fowlkes-Mallows scores\n",
    "* Silhouette Coefficient\n",
    "* Calinski-Harabasz Index\n",
    "* Davies-Bouldin Index\n",
    "* Contingency Matrix"
   ]
  },
  {
   "cell_type": "markdown",
   "metadata": {},
   "source": [
    "**작성 중..**"
   ]
  },
  {
   "cell_type": "code",
   "execution_count": null,
   "metadata": {},
   "outputs": [],
   "source": []
  }
 ],
 "metadata": {
  "kernelspec": {
   "display_name": "Python 3",
   "language": "python",
   "name": "python3"
  },
  "language_info": {
   "codemirror_mode": {
    "name": "ipython",
    "version": 3
   },
   "file_extension": ".py",
   "mimetype": "text/x-python",
   "name": "python",
   "nbconvert_exporter": "python",
   "pygments_lexer": "ipython3",
   "version": "3.7.6"
  },
  "nikola": {
   "category": "",
   "date": "2019-05-25",
   "description": "",
   "link": "",
   "slug": "ml-eval-clustering",
   "tags": "",
   "title": "Machine Learning - Evaluation - Clustering",
   "type": "text"
  },
  "toc": {
   "base_numbering": 1,
   "nav_menu": {},
   "number_sections": true,
   "sideBar": true,
   "skip_h1_title": false,
   "title_cell": "Table of Contents",
   "title_sidebar": "Contents",
   "toc_cell": false,
   "toc_position": {},
   "toc_section_display": true,
   "toc_window_display": false
  }
 },
 "nbformat": 4,
 "nbformat_minor": 4
}
