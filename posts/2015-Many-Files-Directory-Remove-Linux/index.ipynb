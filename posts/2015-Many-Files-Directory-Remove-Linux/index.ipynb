{
 "cells": [
  {
   "cell_type": "markdown",
   "metadata": {},
   "source": [
    "프로그래밍을 할때 실수로 디렉토리내에 많은 파일을 생성하게 하는 실수를 할 경우 해당 디렉토리가 rm -rf 명령으로 지워지지 않는 경우가 있습니다.\n",
    "\n",
    "이럴 때는 아래와 같은 명령으로 삭제가 가능합니다.\n",
    "\n",
    "```\n",
    "> ls -1 -f | xargs rm\n",
    "```\n",
    "\n",
    "신기하게도 ls 명령도 먹통이던 디렉토리에서 위 명령은 신속하게 파일을 지워줍니다.\n",
    "비결은 옵션에 있습니다. ls 명령은 내부에서 sort를 기본으로 하는데 파일이 많을 경우 이 작업에 많은 시간을 소요하게 됩니다.\n",
    "이 sort 옵션을 끄게 되면 신속하게 파일이름을 가져와서 xargs 를 통해 rm 명령을 수행해 파일을 지울수 있게 됩니다.\n"
   ]
  }
 ],
 "metadata": {
  "kernelspec": {
   "display_name": "Python 3",
   "language": "python",
   "name": "python3"
  },
  "language_info": {
   "codemirror_mode": {
    "name": "ipython",
    "version": 3
   },
   "file_extension": ".py",
   "mimetype": "text/x-python",
   "name": "python",
   "nbconvert_exporter": "python",
   "pygments_lexer": "ipython3",
   "version": "3.5.2"
  },
  "nikola": {
   "category": "",
   "date": "2015-01-01 00:00:00 UTC+09:00",
   "description": "",
   "link": "",
   "slug": "2015-Many-Files-Directory-Remove-Linux",
   "tags": "",
   "title": "2015-Many-Files-Directory-Remove-Linux",
   "type": "text"
  }
 },
 "nbformat": 4,
 "nbformat_minor": 1
}
