{
 "cells": [
  {
   "cell_type": "markdown",
   "metadata": {},
   "source": [
    "# Scikit-Learn 10mins"
   ]
  },
  {
   "cell_type": "markdown",
   "metadata": {},
   "source": [
    "다양한 머신러닝 알고리즘을 구현한 파이썬 라이브러리로 간단하고 일관성 있는 API 제공\n",
    "\n",
    "![](https://scikit-learn.org/stable/_static/ml_map.png)"
   ]
  },
  {
   "cell_type": "code",
   "execution_count": 2,
   "metadata": {},
   "outputs": [
    {
     "name": "stdout",
     "output_type": "stream",
     "text": [
      "python ver=3.8.9 (default, Jun 12 2021, 23:47:44) \n",
      "[Clang 12.0.5 (clang-1205.0.22.9)]\n",
      "python platform=('64bit', '')\n",
      "pandas ver=1.2.4\n",
      "numpy ver=1.19.5\n",
      "sklearn ver=0.24.2\n"
     ]
    }
   ],
   "source": [
    "# 경고 메시지 출력 끄기\n",
    "import warnings \n",
    "warnings.filterwarnings(action='ignore')\n",
    "\n",
    "%matplotlib inline\n",
    "import matplotlib.pyplot as plt\n",
    "import IPython\n",
    "\n",
    "import platform, sys\n",
    "\n",
    "rseed = 22\n",
    "import random\n",
    "random.seed(rseed)\n",
    "\n",
    "import numpy as np\n",
    "np.random.seed(rseed)\n",
    "np.set_printoptions(precision=3)\n",
    "np.set_printoptions(formatter={'float_kind': \"{:.3f}\".format})\n",
    "\n",
    "import pandas as pd\n",
    "pd.set_option('display.max_rows', None) \n",
    "pd.set_option('display.max_columns', None) \n",
    "pd.set_option('display.max_colwidth', None)\n",
    "pd.options.display.float_format = '{:,.5f}'.format\n",
    "\n",
    "import sklearn\n",
    "\n",
    "print(f\"python ver={sys.version}\")\n",
    "print(f\"python platform={platform.architecture()}\")\n",
    "print(f\"pandas ver={pd.__version__}\")\n",
    "print(f\"numpy ver={np.__version__}\")\n",
    "print(f\"sklearn ver={sklearn.__version__}\")"
   ]
  },
  {
   "cell_type": "markdown",
   "metadata": {},
   "source": [
    "## Scikit-Learn 주요 모듈\n",
    "\n",
    "https://scikit-learn.org/stable/modules/classes.html#\n",
    "\n",
    "* sklearn.datasets: 예제 데이터 세트 및 데이터 생성 기능\n",
    "* sklearn.preprocessing: 전처리 기능\n",
    "* sklearn.feature_selection: feature 선택 기능 \n",
    "* sklearn.feature_extraction: feature 추출 기능\n",
    "* sklearn.decomposition: 차원 축소 기능\n",
    "* sklearn.model_selection: 학습 데이터 분리 및 최적 하이퍼 파라미터 검색 기능\n",
    "* sklearn.metrics: 모델에 대한 성능 측정 기능\n",
    "* sklearn.pipeline: ML을 pipeline화 할 수 있는 기능\n",
    "* sklearn.linear_model: 선형 모델\n",
    "* sklearn.svm: 서포트 벡터 머신\n",
    "* sklearn.tree: 트리 모델\n",
    "* sklearn.ensemble: 앙상블 모델\n",
    "* sklearn.neighbors: 최근접 이웃 알고리즘\n",
    "* sklearn.naive_bayes: 나이브베이즈 알고리즘\n",
    "* sklearn.cluster: 클러스터링 알고리즘  "
   ]
  },
  {
   "cell_type": "markdown",
   "metadata": {},
   "source": [
    "## Scikit-Learn Quick Start\n",
    "\n",
    "간단하게 머신러닝 예제를 통해 Scikit-Learn 의 주요 모듈을 사용하는 방법을 익혀 봅니다.\n",
    "\n",
    "### Data Preparation\n",
    "\n",
    "Scikit-Learn 에서는 내장하고 있는 예제 데이터셋도 있지만, 여기서는 Scikit-Learn에서 제공하는 데이터 생성기를 통해 간단하게 생성한 데이터를 가지고 머신러닝 알고리즘에 맞게 데이터를 준비해 보도록 하겠습니다."
   ]
  },
  {
   "cell_type": "code",
   "execution_count": 3,
   "metadata": {},
   "outputs": [
    {
     "name": "stdout",
     "output_type": "stream",
     "text": [
      "data shape: xs=(1000, 1), ys=(1000,)\n"
     ]
    },
    {
     "data": {
      "image/png": "[encoded data removed]",
      "text/plain": [
       "<Figure size 432x288 with 1 Axes>"
      ]
     },
     "metadata": {
      "needs_background": "light"
     },
     "output_type": "display_data"
    }
   ],
   "source": [
    "from sklearn import datasets\n",
    "\n",
    "# Linear Regression 용 샘플 데이터셋 생성\n",
    "n_samples = 1000\n",
    "xs, ys = datasets.make_regression(\n",
    "    n_samples=n_samples, # 데이터 수\n",
    "    n_features=1, # X feature 수\n",
    "    bias=1.0, # Y 절편\n",
    "    noise= 10.0, # X 변수들에 더해지는 잡음의 표준 편차\n",
    "    random_state=rseed) # 난수 발생용 Seed 값\n",
    "print(f\"data shape: xs={xs.shape}, ys={ys.shape}\")\n",
    "plt.scatter(xs, ys, label='train', c='b')\n",
    "plt.show()"
   ]
  },
  {
   "cell_type": "markdown",
   "metadata": {},
   "source": [
    "Linear Model 인 LinearRegression 모델을 사용해 Regression 을 수행해 봅니다. 모델 학습 및 추후 평가를 위해 데이터 셋을 학습용과 테스트용으로 분리합니다."
   ]
  },
  {
   "cell_type": "code",
   "execution_count": 4,
   "metadata": {},
   "outputs": [
    {
     "name": "stdout",
     "output_type": "stream",
     "text": [
      "train shape: train_xs=(700, 1), train_ys=(700,)\n",
      "test shape: test_xs=(300, 1), test_ys=(300,)\n"
     ]
    },
    {
     "data": {
      "image/png": "[encoded data removed]",
      "text/plain": [
       "<Figure size 432x288 with 1 Axes>"
      ]
     },
     "metadata": {
      "needs_background": "light"
     },
     "output_type": "display_data"
    }
   ],
   "source": [
    "from sklearn import model_selection\n",
    "\n",
    "# 7:3 비율로 랜덤 샘플하여 Train/Test 셋 분리\n",
    "train_xs, test_xs, train_ys, test_ys = model_selection.train_test_split(\n",
    "    xs, ys, test_size=0.3, shuffle=True, random_state=rseed)\n",
    "print(f\"train shape: train_xs={train_xs.shape}, train_ys={train_ys.shape}\")\n",
    "print(f\"test shape: test_xs={test_xs.shape}, test_ys={test_ys.shape}\")\n",
    "plt.scatter(train_xs, train_ys, label='train', c='b')\n",
    "plt.scatter(test_xs, test_ys, label='test', c='g')\n",
    "plt.legend()\n",
    "plt.show()"
   ]
  },
  {
   "cell_type": "markdown",
   "metadata": {},
   "source": [
    "### Model Training & Evaluation\n",
    "\n",
    "학습 데이터를 이용해서 LinearRegression 모델을 훈련 시키고 평가까지 진행해 보겠습니다. "
   ]
  },
  {
   "cell_type": "code",
   "execution_count": 7,
   "metadata": {},
   "outputs": [
    {
     "name": "stdout",
     "output_type": "stream",
     "text": [
      "coefficient=[33.055]\n",
      "intercept=0.6014892183390894\n",
      "r_square=0.91883\n"
     ]
    },
    {
     "data": {
      "image/png": "[encoded data removed]",
      "text/plain": [
       "<Figure size 432x288 with 1 Axes>"
      ]
     },
     "metadata": {
      "needs_background": "light"
     },
     "output_type": "display_data"
    }
   ],
   "source": [
    "from sklearn import linear_model, metrics\n",
    "\n",
    "# 모델 - 파라미터 값들은 모두 기본 값으로 사용합니다\n",
    "model = linear_model.LinearRegression()\n",
    "\n",
    "# 학습\n",
    "model.fit(train_xs, train_ys)\n",
    "\n",
    "# 선형 회귀 모델링을 통해 얻은 coefficient, intercept 입니다.\n",
    "print(f\"coefficient={model.coef_}\")\n",
    "print(f\"intercept={model.intercept_}\")\n",
    "\n",
    "# 평가: 테스트 데이터에 대해서 R2 값을 구합니다. R2 는 1.0 에 가까울 수록 선형 회귀 모델이 데이터를 잘 설명하고 있다는 것입니다.\n",
    "pred_ys = model.predict(test_xs)\n",
    "r_square = metrics.r2_score(test_ys, pred_ys)\n",
    "# r2 값은 model.score 함수를 통해 구할수도 있습니다.\n",
    "# r_square = model.score(test_xs, test_ys)\n",
    "print(f\"r_square={r_square:.5f}\")\n",
    "\n",
    "plt.scatter(test_xs, test_ys, label='test', c='g')\n",
    "plt.scatter(test_xs, pred_ys, label='predict', c='r', alpha=0.5)\n",
    "plt.legend()\n",
    "plt.show()"
   ]
  },
  {
   "cell_type": "markdown",
   "metadata": {},
   "source": [
    "### Model Persistence\n",
    "\n",
    "한번 학습한 모델을 나중에 필요시 다시 사용하기 위해 모델을 저장하였다가 로드하여 사용해 봅니다."
   ]
  },
  {
   "cell_type": "code",
   "execution_count": 8,
   "metadata": {},
   "outputs": [
    {
     "name": "stdout",
     "output_type": "stream",
     "text": [
      "r_square=0.91883\n"
     ]
    }
   ],
   "source": [
    "import joblib\n",
    "\n",
    "# 모델 저장/로드\n",
    "path_model = \"/tmp/model.joblib\"\n",
    "joblib.dump(model, path_model)\n",
    "model = joblib.load(path_model)\n",
    "\n",
    "# 재평가\n",
    "pred_ys = model.predict(test_xs)\n",
    "r_square = metrics.r2_score(test_ys, pred_ys)\n",
    "print(f\"r_square={r_square:.5f}\")\n"
   ]
  },
  {
   "cell_type": "markdown",
   "metadata": {},
   "source": [
    "여기까지 Scikit-Learn 으로 모델링을 진행하는 주요 과정을 빠르게 살펴 보았습니다. 이후 부터는 Scikit-Learn 문서 및 상세 예제들을 통해 다양한 모델링 기법들을 익혀 나가면 됩니다."
   ]
  },
  {
   "cell_type": "markdown",
   "metadata": {},
   "source": []
  }
 ],
 "metadata": {
  "interpreter": {
   "hash": "074780be484a97690bb59ec71f684629e06fa9a846f324f8f10540b41bb15945"
  },
  "kernelspec": {
   "display_name": "Python 3.8.9 64-bit ('skp-n4e-jupyter-sts': pyenv)",
   "language": "python",
   "name": "python3"
  },
  "language_info": {
   "codemirror_mode": {
    "name": "ipython",
    "version": 3
   },
   "file_extension": ".py",
   "mimetype": "text/x-python",
   "name": "python",
   "nbconvert_exporter": "python",
   "pygments_lexer": "ipython3",
   "version": "3.8.9"
  },
  "orig_nbformat": 4
 },
 "nbformat": 4,
 "nbformat_minor": 2
}
