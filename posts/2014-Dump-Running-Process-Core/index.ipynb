{
 "cells": [
  {
   "cell_type": "markdown",
   "metadata": {},
   "source": [
    "실행되고 있는 프로세스의 core 파일을 얻어오는 명령입니다.\n",
    "\n",
    "core가 떠지는 동안 프로세스는 잠시 멈추었다가 수행됩니다.\n",
    "\n",
    "사용 예는 아래와 같습니다.\n",
    "\n",
    "```bash\n",
    "dev@MP1:/home2/dev:11 % ps -ef | grep ogw\n",
    "  dev  9306     1  0    4월 1 ?        0:00 ogw\n",
    "\n",
    "dev@MP1:/home2/dev:2 % gcore -p 9306\n",
    "gcore: core.9306 dumped\n",
    "\n",
    "dev@MP1:/home2/dev:5 % gdb ~/bin/ogw ./core.9306\n",
    "(gdb) bt\n",
    "#0  0x7f51e590 in _poll () from /lib/libc.so.1\n",
    "#1  0x7f5dd25c in poll () from /lib/libthread.so.1\n",
    "#2  0x00015cec in main () at main.c:37\n",
    "```"
   ]
  },
  {
   "cell_type": "code",
   "execution_count": null,
   "metadata": {},
   "outputs": [],
   "source": []
  }
 ],
 "metadata": {
  "kernelspec": {
   "display_name": "Python 3",
   "language": "python",
   "name": "python3"
  },
  "language_info": {
   "codemirror_mode": {
    "name": "ipython",
    "version": 3
   },
   "file_extension": ".py",
   "mimetype": "text/x-python",
   "name": "python",
   "nbconvert_exporter": "python",
   "pygments_lexer": "ipython3",
   "version": "3.6.8"
  },
  "nikola": {
   "category": "",
   "date": "2014-04-01 00:00:00 UTC+09:00",
   "description": "",
   "link": "",
   "slug": "2014-Dump-Running-Process-Core",
   "tags": "",
   "title": "실행되고 있는 프로세스의 Core 뜨기",
   "type": "text"
  }
 },
 "nbformat": 4,
 "nbformat_minor": 4
}
