{
 "cells": [
  {
   "cell_type": "markdown",
   "metadata": {},
   "source": [
    "comafire"
   ]
  }
 ],
 "metadata": {
  "kernelspec": {
   "display_name": "Python 3",
   "language": "python",
   "name": "python3"
  },
  "language_info": {
   "codemirror_mode": {
    "name": "ipython",
    "version": 3
   },
   "file_extension": ".py",
   "mimetype": "text/x-python",
   "name": "python",
   "nbconvert_exporter": "python",
   "pygments_lexer": "ipython3",
   "version": "3.5.2"
  },
  "nikola": {
   "category": "",
   "date": "2017-02-11 00:00:00 UTC+09:00",
   "description": "",
   "link": "",
   "slug": "about-me",
   "tags": "",
   "title": "about-me",
   "type": "text"
  }
 },
 "nbformat": 4,
 "nbformat_minor": 2
}
