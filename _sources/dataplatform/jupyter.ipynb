{
 "cells": [
  {
   "cell_type": "markdown",
   "metadata": {},
   "source": [
    "# Jupyter \n",
    "\n",
    "[Jupyter](https://jupyter.org/)는 웹 상에서 Python 코드를 작성하고 블록 단위(노트북 셀)로 바로 실행하여 결과를 확인해 볼수 있는 인터렉티브 기반 개발 툴입니다. 인터렉티브한 개발 환경 특성때문에 빠르게 코드를 작성하고 확인해 볼 수 있기 때문에 데이터를 탐색하고 분석하는데 적합하며, Python 외에 다른 인터렉티브한 언어들도 커널이라는 모듈 형태로 지원하고 있기 때문에 대표적인 데이터 사이언스 개발 툴로써 자리매김하고 있습니다. "
   ]
  },
  {
   "cell_type": "code",
   "execution_count": null,
   "metadata": {},
   "outputs": [],
   "source": []
  }
 ],
 "metadata": {
  "kernelspec": {
   "display_name": "Python 3",
   "language": "python",
   "name": "python3"
  },
  "language_info": {
   "codemirror_mode": {
    "name": "ipython",
    "version": 3
   },
   "file_extension": ".py",
   "mimetype": "text/x-python",
   "name": "python",
   "nbconvert_exporter": "python",
   "pygments_lexer": "ipython3",
   "version": "3.6.9"
  },
  "nikola": {
   "category": "",
   "date": "2019-12-22",
   "description": "",
   "link": "",
   "slug": "platform-native-env-for-data-science-on-macos",
   "tags": "",
   "title": "macOS에서 Data Science를 위한 Native 환경 설정",
   "type": "text"
  },
  "toc": {
   "base_numbering": 1,
   "nav_menu": {},
   "number_sections": true,
   "sideBar": true,
   "skip_h1_title": false,
   "title_cell": "Table of Contents",
   "title_sidebar": "Contents",
   "toc_cell": false,
   "toc_position": {},
   "toc_section_display": true,
   "toc_window_display": false
  }
 },
 "nbformat": 4,
 "nbformat_minor": 4
}
