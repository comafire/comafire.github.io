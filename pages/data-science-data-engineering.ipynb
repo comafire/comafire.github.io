{
 "cells": [
  {
   "cell_type": "markdown",
   "metadata": {
    "nikola": {
     "category": "",
     "date": "2019-02-10",
     "description": "",
     "link": "",
     "slug": "data-science-cookbook",
     "tags": "",
     "title": "Data Science Cookbook",
     "type": "text"
    }
   },
   "source": [
    "# Data Science - Data Engineering \n",
    "\n",
    "데이터 엔지니어링관련 주요 예제들을 공유하는 공간입니다.\n",
    "\n",
    "## Data Ingestion\n",
    "## Data Processing\n",
    "## Data Pipeline\n",
    "\n",
    "\n",
    "## Cheatsheets\n",
    "  * Pandas\n",
    "    * [Pandas 10분만에 흝어보기](https://comafire.github.io/pages/de-pandas-10mins)\n",
    "  * Apache Spark \n",
    "    * [Spark Dataframe 10분만에 흝어보기](https://comafire.github.io/pages/de-spark-dataframe-10mins)\n",
    "    * [Spark Dataframe 복잡한 데이터 포맷 다루기](https://comafire.github.io/pages/de-spark-dataframe-complex-data-format)"
   ]
  }
 ],
 "metadata": {
  "kernelspec": {
   "display_name": "Python 3",
   "language": "python",
   "name": "python3"
  },
  "language_info": {
   "codemirror_mode": {
    "name": "ipython",
    "version": 3
   },
   "file_extension": ".py",
   "mimetype": "text/x-python",
   "name": "python",
   "nbconvert_exporter": "python",
   "pygments_lexer": "ipython3",
   "version": "3.5.2"
  },
  "nikola": {
   "category": "",
   "date": "2019-03-01",
   "description": "",
   "link": "",
   "slug": "data-science-data-engineering",
   "tags": "",
   "title": "Data Science - Data Engineering",
   "type": "text"
  },
  "toc": {
   "base_numbering": 1,
   "nav_menu": {},
   "number_sections": true,
   "sideBar": true,
   "skip_h1_title": false,
   "title_cell": "Table of Contents",
   "title_sidebar": "Contents",
   "toc_cell": false,
   "toc_position": {},
   "toc_section_display": true,
   "toc_window_display": false
  }
 },
 "nbformat": 4,
 "nbformat_minor": 2
}
