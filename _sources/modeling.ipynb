{
 "cells": [
  {
   "cell_type": "markdown",
   "metadata": {},
   "source": [
    "# Modeling\n",
    "\n",
    "* Descriptive Data Analysis(DDA): 기술적 데이터 분석, 데이터의 형태를 기술 통계량을 통해 파악  \n",
    "* Exploratory Data Analysis(EDA): 탐색적 데이터 분석, 데이터에서 트렌드, 패턴, 변수간 관계 파악\n",
    "* Confirmatory Data Analysis(CDA): 확증적 데이터 분석, 통계적 추정과 가설검정\n",
    "* Predictive Data Analysis(PDA): 예측적 데이터 분석, 통계적, 머신러닝를 통해 y=f(x) 모델 도출 및 예측 \n",
    "\n",
    "\n",
    "Further Reading:\n",
    "* https://www.coursera.org/articles/what-is-data-analysis-with-examples\n"
   ]
  },
  {
   "cell_type": "markdown",
   "metadata": {},
   "source": [
    "Data Analytics vs Data Analysis ??\n",
    "\n",
    "https://www.bmc.com/blogs/data-analytics-vs-data-analysis/\n",
    "\n",
    "* Data analytics is the broad field of using data and tools to make business decisions.\n",
    "* Data analysis, a subset of data analytics, refers to specific actions.\n",
    "\n",
    "![](./analytics_001.png)\n",
    "\n",
    "(https://s7280.pcdn.co/wp-content/uploads/2021/01/key-3.png)"
   ]
  },
  {
   "cell_type": "markdown",
   "metadata": {},
   "source": []
  }
 ],
 "metadata": {
  "kernelspec": {
   "display_name": "Python 3.8.9 64-bit ('3.8.9')",
   "language": "python",
   "name": "python3"
  },
  "language_info": {
   "codemirror_mode": {
    "name": "ipython",
    "version": 3
   },
   "file_extension": ".py",
   "mimetype": "text/x-python",
   "name": "python",
   "nbconvert_exporter": "python",
   "pygments_lexer": "ipython3",
   "version": "3.8.9"
  },
  "nikola": {
   "category": "",
   "date": "2019-12-22",
   "description": "",
   "link": "",
   "slug": "platform-native-env-for-data-science-on-macos",
   "tags": "",
   "title": "macOS에서 Data Science를 위한 Native 환경 설정",
   "type": "text"
  },
  "toc": {
   "base_numbering": 1,
   "nav_menu": {},
   "number_sections": true,
   "sideBar": true,
   "skip_h1_title": false,
   "title_cell": "Table of Contents",
   "title_sidebar": "Contents",
   "toc_cell": false,
   "toc_position": {},
   "toc_section_display": true,
   "toc_window_display": false
  },
  "vscode": {
   "interpreter": {
    "hash": "81b98c941daad6509d4c89342869ca88f891260205139ff875cb30be518b42c4"
   }
  }
 },
 "nbformat": 4,
 "nbformat_minor": 4
}
