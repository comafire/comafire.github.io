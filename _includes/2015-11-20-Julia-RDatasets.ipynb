{
 "cells": [
  {
   "cell_type": "markdown",
   "metadata": {},
   "source": [
    "### Julia 에서 R 언어에서 자주 사용되는 Dataset 로딩하기\n",
    "데이터 분석을 배우는 과정에서 많은 경우 예를 위해 샘플 데이터 셋을 많이 이용합니다.\n",
    "Julia 에서는 통계 언어인 R 에서 많이 사용되는 데이터 셋을 RDatasets 패키지를 이용하여 편하게 로딩하고 사용할 수 있습니다."
   ]
  },
  {
   "cell_type": "markdown",
   "metadata": {},
   "source": [
    "RDatasets 패키지는 DataFrames 패키지에 의존성이 있어 같이 설치합니다.\n",
    "DataFrames 패키지는 Julia 에서 R 언어의 DataFrames 편리성을 사용할 수 있도록 만들어진 패키지입니다.\n",
    "\n",
    "* Rdatasets: https://github.com/johnmyleswhite/RDatasets.jl\n",
    "* DataFrames: https://github.com/JuliaStats/DataFrames.jl"
   ]
  },
  {
   "cell_type": "code",
   "execution_count": null,
   "metadata": {
    "collapsed": false
   },
   "outputs": [],
   "source": [
    "Pkg.update()\n",
    "Pkg.add(\"DataFrames\")\n",
    "Pkg.add(\"Rdatasets\")"
   ]
  },
  {
   "cell_type": "code",
   "execution_count": 2,
   "metadata": {
    "collapsed": false
   },
   "outputs": [],
   "source": [
    "using RDatasets, DataFrames"
   ]
  },
  {
   "cell_type": "markdown",
   "metadata": {},
   "source": [
    "RDatasets.packages() 함수는 통해 지원되는 데이터 셋을 리턴하며, head() 함수를 통해서 일부만 볼수 있습니다. "
   ]
  },
  {
   "cell_type": "code",
   "execution_count": 3,
   "metadata": {
    "collapsed": false,
    "scrolled": true
   },
   "outputs": [
    {
     "data": {
      "text/html": [
       "<table class=\"data-frame\"><tr><th></th><th>Package</th><th>Title</th></tr><tr><th>1</th><td>COUNT</td><td>Functions, data and code for count data.</td></tr><tr><th>2</th><td>Ecdat</td><td>Data sets for econometrics</td></tr><tr><th>3</th><td>HSAUR</td><td>A Handbook of Statistical Analyses Using R (1st Edition)</td></tr><tr><th>4</th><td>HistData</td><td>Data sets from the history of statistics and data visualization</td></tr><tr><th>5</th><td>ISLR</td><td>Data for An Introduction to Statistical Learning with Applications in R</td></tr><tr><th>6</th><td>KMsurv</td><td>Data sets from Klein and Moeschberger (1997), Survival Analysis</td></tr></table>"
      ],
      "text/plain": [
       "6x2 DataFrames.DataFrame\n",
       "| Row | Package    |\n",
       "|-----|------------|\n",
       "| 1   | \"COUNT\"    |\n",
       "| 2   | \"Ecdat\"    |\n",
       "| 3   | \"HSAUR\"    |\n",
       "| 4   | \"HistData\" |\n",
       "| 5   | \"ISLR\"     |\n",
       "| 6   | \"KMsurv\"   |\n",
       "\n",
       "| Row | Title                                                                     |\n",
       "|-----|---------------------------------------------------------------------------|\n",
       "| 1   | \"Functions, data and code for count data.\"                                |\n",
       "| 2   | \"Data sets for econometrics\"                                              |\n",
       "| 3   | \"A Handbook of Statistical Analyses Using R (1st Edition)\"                |\n",
       "| 4   | \"Data sets from the history of statistics and data visualization\"         |\n",
       "| 5   | \"Data for An Introduction to Statistical Learning with Applications in R\" |\n",
       "| 6   | \"Data sets from Klein and Moeschberger (1997), Survival Analysis\"         |"
      ]
     },
     "execution_count": 3,
     "metadata": {},
     "output_type": "execute_result"
    }
   ],
   "source": [
    "packages = RDatasets.packages()\n",
    "head(packages)"
   ]
  },
  {
   "cell_type": "markdown",
   "metadata": {},
   "source": [
    "데이터 셋 패키지가 총 몇개이고, 어떤 패키지 이름들을 가지는지 살펴 봅니다."
   ]
  },
  {
   "cell_type": "code",
   "execution_count": 4,
   "metadata": {
    "collapsed": false
   },
   "outputs": [
    {
     "name": "stdout",
     "output_type": "stream",
     "text": [
      "nrow: 33\n",
      "package: UTF8String[\"COUNT\",\"Ecdat\",\"HSAUR\",\"HistData\",\"ISLR\",\"KMsurv\",\"MASS\",\"SASmixed\",\"Zelig\",\"adehabitatLT\",\"boot\",\"car\",\"cluster\",\"datasets\",\"gap\",\"ggplot2\",\"lattice\",\"lme4\",\"mgcv\",\"mlmRev\",\"nlreg\",\"plm\",\"plyr\",\"pscl\",\"psych\",\"quantreg\",\"reshape2\",\"robustbase\",\"rpart\",\"sandwich\",\"sem\",\"survival\",\"vcd\"]\n"
     ]
    }
   ],
   "source": [
    "println(\"nrow: \", nrow(packages))\n",
    "println(\"package: \", packages[:, 1])"
   ]
  },
  {
   "cell_type": "markdown",
   "metadata": {},
   "source": [
    "데이터 셋 패키지 중에 R dataset package 인 \"datasets\" 데이터셋을 가져오고, 그중 head() 함수를 통해 일부만 출력해 보겠습니다."
   ]
  },
  {
   "cell_type": "code",
   "execution_count": 5,
   "metadata": {
    "collapsed": false,
    "scrolled": false
   },
   "outputs": [
    {
     "data": {
      "text/html": [
       "<table class=\"data-frame\"><tr><th></th><th>Package</th><th>Dataset</th><th>Title</th><th>Rows</th><th>Columns</th></tr><tr><th>1</th><td>datasets</td><td>BOD</td><td>Biochemical Oxygen Demand</td><td>6</td><td>2</td></tr><tr><th>2</th><td>datasets</td><td>CO2</td><td>Carbon Dioxide Uptake in Grass Plants</td><td>84</td><td>5</td></tr><tr><th>3</th><td>datasets</td><td>Formaldehyde</td><td>Determination of Formaldehyde</td><td>6</td><td>2</td></tr><tr><th>4</th><td>datasets</td><td>HairEyeColor</td><td>Hair and Eye Color of Statistics Students</td><td>32</td><td>4</td></tr><tr><th>5</th><td>datasets</td><td>InsectSprays</td><td>Effectiveness of Insect Sprays</td><td>72</td><td>2</td></tr><tr><th>6</th><td>datasets</td><td>LifeCycleSavings</td><td>Intercountry Life-Cycle Savings Data</td><td>50</td><td>6</td></tr></table>"
      ],
      "text/plain": [
       "6x5 DataFrames.DataFrame\n",
       "| Row | Package    | Dataset            |\n",
       "|-----|------------|--------------------|\n",
       "| 1   | \"datasets\" | \"BOD\"              |\n",
       "| 2   | \"datasets\" | \"CO2\"              |\n",
       "| 3   | \"datasets\" | \"Formaldehyde\"     |\n",
       "| 4   | \"datasets\" | \"HairEyeColor\"     |\n",
       "| 5   | \"datasets\" | \"InsectSprays\"     |\n",
       "| 6   | \"datasets\" | \"LifeCycleSavings\" |\n",
       "\n",
       "| Row | Title                                       | Rows | Columns |\n",
       "|-----|---------------------------------------------|------|---------|\n",
       "| 1   | \"Biochemical Oxygen Demand\"                 | 6    | 2       |\n",
       "| 2   | \"Carbon Dioxide Uptake in Grass Plants\"     | 84   | 5       |\n",
       "| 3   | \"Determination of Formaldehyde\"             | 6    | 2       |\n",
       "| 4   | \"Hair and Eye Color of Statistics Students\" | 32   | 4       |\n",
       "| 5   | \"Effectiveness of Insect Sprays\"            | 72   | 2       |\n",
       "| 6   | \"Intercountry Life-Cycle Savings Data\"      | 50   | 6       |"
      ]
     },
     "execution_count": 5,
     "metadata": {},
     "output_type": "execute_result"
    }
   ],
   "source": [
    "datasets = RDatasets.datasets(\"datasets\")\n",
    "head(datasets)"
   ]
  },
  {
   "cell_type": "markdown",
   "metadata": {},
   "source": [
    "데이터 셋이 총 몇개의 데이터 셋을 가지고 어떤 이름을 가지는지 출력해봅니다."
   ]
  },
  {
   "cell_type": "code",
   "execution_count": 6,
   "metadata": {
    "collapsed": false
   },
   "outputs": [
    {
     "name": "stdout",
     "output_type": "stream",
     "text": [
      "nrow: 50\n",
      "datasets: UTF8String[\"BOD\",\"CO2\",\"Formaldehyde\",\"HairEyeColor\",\"InsectSprays\",\"LifeCycleSavings\",\"Loblolly\",\"OrchardSprays\",\"PlantGrowth\",\"Puromycin\",\"Theoph\",\"Titanic\",\"ToothGrowth\",\"UCBAdmissions\",\"USArrests\",\"USJudgeRatings\",\"USPersonalExpenditure\",\"VADeaths\",\"WorldPhones\",\"airquality\",\"anscombe\",\"attenu\",\"attitude\",\"cars\",\"chickwts\",\"crimtab\",\"esoph\",\"euro\",\"faithful\",\"freeny\",\"infert\",\"iris\",\"islands\",\"longley\",\"morley\",\"mtcars\",\"occupationalStatus\",\"precip\",\"pressure\",\"quakes\",\"randu\",\"rivers\",\"rock\",\"sleep\",\"stackloss\",\"swiss\",\"trees\",\"volcano\",\"warpbreaks\",\"women\"]\n"
     ]
    }
   ],
   "source": [
    "println(\"nrow: \", nrow(datasets))\n",
    "println(\"datasets: \", datasets[:, 2])"
   ]
  },
  {
   "cell_type": "markdown",
   "metadata": {},
   "source": [
    "데이터 셋 중에 \"iris\" 데이터 셋을 가져와서 head() 함수를 통해 일부만 출력해 봅니다."
   ]
  },
  {
   "cell_type": "code",
   "execution_count": 7,
   "metadata": {
    "collapsed": false
   },
   "outputs": [
    {
     "data": {
      "text/html": [
       "<table class=\"data-frame\"><tr><th></th><th>SepalLength</th><th>SepalWidth</th><th>PetalLength</th><th>PetalWidth</th><th>Species</th></tr><tr><th>1</th><td>5.1</td><td>3.5</td><td>1.4</td><td>0.2</td><td>setosa</td></tr><tr><th>2</th><td>4.9</td><td>3.0</td><td>1.4</td><td>0.2</td><td>setosa</td></tr><tr><th>3</th><td>4.7</td><td>3.2</td><td>1.3</td><td>0.2</td><td>setosa</td></tr><tr><th>4</th><td>4.6</td><td>3.1</td><td>1.5</td><td>0.2</td><td>setosa</td></tr><tr><th>5</th><td>5.0</td><td>3.6</td><td>1.4</td><td>0.2</td><td>setosa</td></tr><tr><th>6</th><td>5.4</td><td>3.9</td><td>1.7</td><td>0.4</td><td>setosa</td></tr></table>"
      ],
      "text/plain": [
       "6x5 DataFrames.DataFrame\n",
       "| Row | SepalLength | SepalWidth | PetalLength | PetalWidth | Species  |\n",
       "|-----|-------------|------------|-------------|------------|----------|\n",
       "| 1   | 5.1         | 3.5        | 1.4         | 0.2        | \"setosa\" |\n",
       "| 2   | 4.9         | 3.0        | 1.4         | 0.2        | \"setosa\" |\n",
       "| 3   | 4.7         | 3.2        | 1.3         | 0.2        | \"setosa\" |\n",
       "| 4   | 4.6         | 3.1        | 1.5         | 0.2        | \"setosa\" |\n",
       "| 5   | 5.0         | 3.6        | 1.4         | 0.2        | \"setosa\" |\n",
       "| 6   | 5.4         | 3.9        | 1.7         | 0.4        | \"setosa\" |"
      ]
     },
     "execution_count": 7,
     "metadata": {},
     "output_type": "execute_result"
    }
   ],
   "source": [
    "iris = dataset(\"datasets\", \"iris\")\n",
    "head(iris)"
   ]
  },
  {
   "cell_type": "markdown",
   "metadata": {},
   "source": [
    "iris 데이터 셋(https://en.wikipedia.org/wiki/Iris_flower_data_set) 붓꽃의 4가지 속성에 따라 종을 분류해 놓은 데이터 셋으로 데이터 분석시 자주 예제로 쓰입니다."
   ]
  }
 ],
 "metadata": {
  "kernelspec": {
   "display_name": "Julia 0.4.1",
   "language": "julia",
   "name": "julia-0.4"
  },
  "language_info": {
   "file_extension": ".jl",
   "mimetype": "application/julia",
   "name": "julia",
   "version": "0.4.1"
  }
 },
 "nbformat": 4,
 "nbformat_minor": 0
}
