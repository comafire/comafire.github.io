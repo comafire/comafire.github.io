{
 "cells": [
  {
   "cell_type": "markdown",
   "metadata": {},
   "source": [
    "# 인프라\n",
    "\n",
    "## 컴퓨터\n",
    "\n",
    "데이터 프로젝트의 데이터 규모 및 분석 방법에 따라 컴퓨터의 사양은 다양하게 구성할 수 있을 것입니다. 초기부터 비싼 하드웨어 장비로 시작할 필요는 없습니다. 시작 단계에서는 노트북 한대로 충분합니다.    \n",
    "\n",
    "**운영체제**\n",
    "\n",
    "운영체제의 경우에도 호불호가 갈리지만 E2EDS 를 위해서는 리눅스 사용을 추천합니다. 데이터 프로젝트 진행시에는 많은 오픈소스 기반의 소프트웨어를 조합해서 사용하게 되는데, 대부분 오픈소스 소프트웨어들이 리눅스에 기반하기 때문입니다. 요즘은 가상화 기술이 많이 발전하였기 때문에 맥, 윈도우 기반의 노트북을 사용하고 있더라도 리눅스 기반의 가상화 머신을 준비해서 시작하는 것을 추천합니다.\n",
    "\n",
    "운영체제 가상화 툴은 윈도우/맥 모두 무료로 사용할 수 있는 Virtualbox를 이용해도 되고, 맥에서 좀더 편하게 이용하고 싶다면 유료인 Parallels 를 사용해도 무방합니다.\n",
    "\n",
    "윈도우에서 Virtualbox를 이용하여 Ubuntu 20.04 LTS 설치하기 (Youtube)\n",
    "\n",
    "[![youtube](https://img.youtube.com/vi/gj1sU2Qs9y4/0.jpg)](https://www.youtube.com/watch?v=gj1sU2Qs9y4)\n",
    "\n",
    "맥에서 Virtualbox를 이용하여 Ubuntu 20.04 LTS 설치하기 (Youtube)\n",
    "\n",
    "[![youtube](https://img.youtube.com/vi/NFRzHQZSJvU/0.jpg)](https://www.youtube.com/watch?v=NFRzHQZSJvU)\n",
    "\n",
    "\n",
    "**하드웨어**\n",
    "\n",
    "처음에는 가지고 계신 노트북 상에서 진행하는 것을 추천드립니다. 윈도우/맥 노트북이라면 가상머신으로 리눅스를 설치해서 사용하세요.\n",
    "\n",
    "추후 진행하려고 하는 데이터 프로젝트가 지속적인 서비스를 제공해야 한다면, 24시간 켜놓을 서버 용도로 따로 컴퓨터를 마련하는 것이 좋습니다. 쓰지 않는 구형 노트북이나 데스크탑을 활용해 보시는 것도 좋습니다.\n",
    "\n",
    "좀 더 투자해서 머신러닝에 특화된 제품(장비빨^^)을 찾으신다면 개인 레벨에서는 아래 장비를 고려해 볼만 합니다. \n",
    "\n",
    "* Lambda Lab (https://lambdalabs.com/)\n",
    "  * 요즘 딥러닝 노트북을 검색하면 많이 회자되는 회사입니다. 선택할 수 있는 하드웨어 사양은 System76보다 적습니다. A/S 는 단점입니다.\n",
    "* System76 (https://system76.com/)\n",
    "  * Linux용 기기를 전문으로 제작하는 회사입니다. 고사양 CPU/RAM/GPU(nVidia) 모두 지원하며 Linux와 하드웨어 호환성 걱정은 없지만, A/S는 단점입니다. \n",
    "\n"
   ]
  },
  {
   "cell_type": "markdown",
   "metadata": {},
   "source": []
  }
 ],
 "metadata": {
  "kernelspec": {
   "display_name": "Python 3",
   "language": "python",
   "name": "python3"
  },
  "language_info": {
   "codemirror_mode": {
    "name": "ipython",
    "version": 3
   },
   "file_extension": ".py",
   "mimetype": "text/x-python",
   "name": "python",
   "nbconvert_exporter": "python",
   "pygments_lexer": "ipython3",
   "version": "3.7.6"
  }
 },
 "nbformat": 4,
 "nbformat_minor": 4
}
