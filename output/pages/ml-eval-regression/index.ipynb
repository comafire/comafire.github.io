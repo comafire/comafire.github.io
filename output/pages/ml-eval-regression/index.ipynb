{
 "cells": [
  {
   "cell_type": "markdown",
   "metadata": {},
   "source": [
    "# Evaluation\n",
    "\n",
    "## Regression\n",
    "\n",
    "회귀 문제에서 데이터를 통해 생성한 모델이 좋은지 판단하기 위한 평가 함수에 대해서 알아봅니다."
   ]
  },
  {
   "cell_type": "markdown",
   "metadata": {},
   "source": [
    "### Mean absolute error(MAE)\n",
    "\n",
    "MAE 값은 예측 값과 실제 값의 차이의 절대값의 평균을 나타냅니다. \n",
    "\n",
    "\\\\[\n",
    "\\text{MAE}(y, \\hat{y}) = \\frac{1}{n_{\\text{samples}}} \\sum_{i=0}^{n_{\\text{samples}}-1} \\left| y_i - \\hat{y}_i \\right|.\n",
    "\\\\]\n",
    "\n",
    "예측 값이 배열 형태인 경우는 multioutput 옵션을 이용해서 MAE 값의 계산 방법을 조정할 수 있습니다. 기본적으로는 MAE 들의 평균 값을 리턴하며, 'raw_values' 값을 통해 변경 없이 리턴하거나, [0.3, 0.7] 가중치 배열를 통해 적용 비율을 달리 할 수 있습니다. "
   ]
  },
  {
   "cell_type": "code",
   "execution_count": 1,
   "metadata": {},
   "outputs": [
    {
     "name": "stdout",
     "output_type": "stream",
     "text": [
      "MAE=0.5\n",
      "MAE=0.75\n",
      "MAE=[0.5 1. ]\n",
      "MAE=0.85\n"
     ]
    }
   ],
   "source": [
    "from sklearn.metrics import mean_absolute_error\n",
    "\n",
    "y_true = [3, -0.5, 2, 7]\n",
    "y_pred = [2.5, 0.0, 2, 8]\n",
    "mae = mean_absolute_error(y_true, y_pred)\n",
    "print(\"MAE={}\".format(mae))\n",
    "\n",
    "# Multioutput\n",
    "y_true = [[0.5, 1], [-1, 1], [7, -6]]\n",
    "y_pred = [[0, 2], [-1, 2], [8, -5]]\n",
    "mae = mean_absolute_error(y_true, y_pred) \n",
    "print(\"MAE={}\".format(mae))\n",
    "\n",
    "mae = mean_absolute_error(y_true, y_pred, multioutput='raw_values') \n",
    "print(\"MAE={}\".format(mae))\n",
    "\n",
    "mae = mean_absolute_error(y_true, y_pred, multioutput=[0.3, 0.7]) \n",
    "print(\"MAE={}\".format(mae))"
   ]
  },
  {
   "cell_type": "markdown",
   "metadata": {},
   "source": [
    "### Mean squared error\n",
    "\n",
    "MSE 값은 예측 값과 실제 값의 차이의 제곱 값의 평균을 나타냅니다. \n",
    "\n",
    "\\\\[\n",
    "\\text{MSE}(y, \\hat{y}) = \\frac{1}{n_\\text{samples}} \\sum_{i=0}^{n_\\text{samples} - 1} (y_i - \\hat{y}_i)^2.\n",
    "\\\\]\n"
   ]
  },
  {
   "cell_type": "code",
   "execution_count": 6,
   "metadata": {},
   "outputs": [
    {
     "name": "stdout",
     "output_type": "stream",
     "text": [
      "MSE=0.375\n",
      "MSE=0.7083333333333334\n",
      "MSE=[0.41666667 1.        ]\n",
      "MSE=0.825\n"
     ]
    }
   ],
   "source": [
    "from sklearn.metrics import mean_squared_error\n",
    "\n",
    "y_true = [3, -0.5, 2, 7]\n",
    "y_pred = [2.5, 0.0, 2, 8]\n",
    "mse = mean_squared_error(y_true, y_pred)\n",
    "print(\"MSE={}\".format(mse))\n",
    "\n",
    "y_true = [[0.5, 1], [-1, 1], [7, -6]]\n",
    "y_pred = [[0, 2], [-1, 2], [8, -5]]\n",
    "mse = mean_squared_error(y_true, y_pred) \n",
    "print(\"MSE={}\".format(mse))\n",
    "\n",
    "mse = mean_squared_error(y_true, y_pred, multioutput='raw_values') \n",
    "print(\"MSE={}\".format(mse))\n",
    "\n",
    "mse = mean_squared_error(y_true, y_pred, multioutput=[0.3, 0.7]) \n",
    "print(\"MSE={}\".format(mse))"
   ]
  },
  {
   "cell_type": "code",
   "execution_count": null,
   "metadata": {},
   "outputs": [],
   "source": []
  },
  {
   "cell_type": "code",
   "execution_count": null,
   "metadata": {},
   "outputs": [],
   "source": []
  },
  {
   "cell_type": "code",
   "execution_count": null,
   "metadata": {},
   "outputs": [],
   "source": []
  },
  {
   "cell_type": "code",
   "execution_count": null,
   "metadata": {},
   "outputs": [],
   "source": []
  }
 ],
 "metadata": {
  "kernelspec": {
   "display_name": "Python 3",
   "language": "python",
   "name": "python3"
  },
  "language_info": {
   "codemirror_mode": {
    "name": "ipython",
    "version": 3
   },
   "file_extension": ".py",
   "mimetype": "text/x-python",
   "name": "python",
   "nbconvert_exporter": "python",
   "pygments_lexer": "ipython3",
   "version": "3.5.2"
  },
  "nikola": {
   "category": "",
   "date": "2019-05-25",
   "description": "",
   "link": "",
   "slug": "ml-eval-regression",
   "tags": "",
   "title": "Machine Learning - Evaluation - Regression",
   "type": "text"
  },
  "toc": {
   "base_numbering": 1,
   "nav_menu": {},
   "number_sections": true,
   "sideBar": true,
   "skip_h1_title": false,
   "title_cell": "Table of Contents",
   "title_sidebar": "Contents",
   "toc_cell": false,
   "toc_position": {},
   "toc_section_display": true,
   "toc_window_display": false
  }
 },
 "nbformat": 4,
 "nbformat_minor": 2
}
