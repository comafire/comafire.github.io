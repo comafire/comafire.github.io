{
 "cells": [
  {
   "cell_type": "markdown",
   "metadata": {},
   "source": [
    "# Keras Tuner - Beginner (TF2)\n",
    "\n",
    "TensorFlow2 공식 홈페이지에 나와 있는 코드들을 수행해 보면서 빠르게 TensorFlow2를 익혀 봅니다.\n",
    "\n",
    "https://www.tensorflow.org/tutorials/keras/keras_tuner"
   ]
  },
  {
   "cell_type": "markdown",
   "metadata": {
    "id": "Tce3stUlHN0L"
   },
   "source": [
    "##### Copyright 2020 The TensorFlow Authors."
   ]
  },
  {
   "cell_type": "code",
   "execution_count": 1,
   "metadata": {
    "cellView": "form",
    "id": "tuOe1ymfHZPu"
   },
   "outputs": [],
   "source": [
    "#@title Licensed under the Apache License, Version 2.0 (the \"License\");\n",
    "# you may not use this file except in compliance with the License.\n",
    "# You may obtain a copy of the License at\n",
    "#\n",
    "# https://www.apache.org/licenses/LICENSE-2.0\n",
    "#\n",
    "# Unless required by applicable law or agreed to in writing, software\n",
    "# distributed under the License is distributed on an \"AS IS\" BASIS,\n",
    "# WITHOUT WARRANTIES OR CONDITIONS OF ANY KIND, either express or implied.\n",
    "# See the License for the specific language governing permissions and\n",
    "# limitations under the License."
   ]
  },
  {
   "cell_type": "code",
   "execution_count": 2,
   "metadata": {},
   "outputs": [],
   "source": [
    "# 설치\n",
    "!pip install -q --upgrade pip\n",
    "!pip install -q -U keras-tuner"
   ]
  },
  {
   "cell_type": "code",
   "execution_count": 1,
   "metadata": {},
   "outputs": [
    {
     "data": {
      "text/html": [
       "<style>.container { width:100% !important; }</style>"
      ],
      "text/plain": [
       "<IPython.core.display.HTML object>"
      ]
     },
     "metadata": {},
     "output_type": "display_data"
    },
    {
     "name": "stdout",
     "output_type": "stream",
     "text": [
      "python ver=3.7.6 (default, Nov 21 2020, 22:51:13) \n",
      "[Clang 12.0.0 (clang-1200.0.32.27)]\n",
      "pandas ver=1.0.5\n",
      "numpy ver=1.19.5\n",
      "tensorflow ver=2.4.1\n",
      "tensorflow execuring eagerly=True\n",
      "tensorflow hub ver=0.11.0\n",
      "tensorflow GPU=False\n",
      "keras tuner ver=1.0.2\n",
      "senborn ver=0.10.0\n"
     ]
    }
   ],
   "source": [
    "# 경고 메시지 출력 끄기\n",
    "import warnings \n",
    "warnings.filterwarnings(action='ignore')\n",
    "\n",
    "# 노트북 셀 표시를 브라우저 전체 폭 사용하기\n",
    "from IPython.core.display import display, HTML\n",
    "display(HTML(\"<style>.container { width:100% !important; }</style>\"))\n",
    "from IPython.display import clear_output\n",
    "\n",
    "%matplotlib inline\n",
    "import matplotlib.pyplot as plt\n",
    "\n",
    "import os, sys, shutil\n",
    "\n",
    "rseed = 22\n",
    "import random\n",
    "random.seed(rseed)\n",
    "\n",
    "import numpy as np\n",
    "np.random.seed(rseed)\n",
    "np.set_printoptions(precision=5)\n",
    "np.set_printoptions(formatter={'float_kind': \"{:.5f}\".format})\n",
    "\n",
    "import pandas as pd\n",
    "pd.set_option('display.max_rows', None) \n",
    "pd.set_option('display.max_columns', None) \n",
    "pd.set_option('display.max_colwidth', None)\n",
    "pd.options.display.float_format = '{:,.5f}'.format\n",
    "\n",
    "import tensorflow as tf\n",
    "tf.random.set_seed(rseed)\n",
    "tf.keras.backend.set_floatx('float32') # keras default float type 설정\n",
    "\n",
    "import tensorflow_hub as tfhub\n",
    "import tensorflow_datasets as tfds\n",
    "\n",
    "import kerastuner as kt\n",
    "\n",
    "import seaborn as sns\n",
    "\n",
    "print(f\"python ver={sys.version}\")\n",
    "print(f\"pandas ver={pd.__version__}\")\n",
    "print(f\"numpy ver={np.__version__}\")\n",
    "print(f\"tensorflow ver={tf.__version__}\")\n",
    "print(f\"tensorflow execuring eagerly={tf.executing_eagerly()}\")\n",
    "print(f\"tensorflow hub ver={tfhub.__version__}\")\n",
    "print(f\"tensorflow GPU={'True' if tf.config.experimental.list_physical_devices('GPU') else 'False'}\")\n",
    "print(f\"keras tuner ver={kt.__version__}\")\n",
    "print(f\"senborn ver={sns.__version__}\")"
   ]
  },
  {
   "cell_type": "markdown",
   "metadata": {
    "id": "qFdPvlXBOdUN"
   },
   "source": [
    "## Introduction to the Keras Tuner"
   ]
  },
  {
   "cell_type": "markdown",
   "metadata": {
    "id": "MfBg1C5NB3X0"
   },
   "source": [
    "<table class=\"tfo-notebook-buttons\" align=\"left\">\n",
    "  <td>\n",
    "    <a target=\"_blank\" href=\"https://www.tensorflow.org/tutorials/keras/keras_tuner\"><img src=\"https://www.tensorflow.org/images/tf_logo_32px.png\" />View on TensorFlow.org</a>\n",
    "  </td>\n",
    "  <td>\n",
    "    <a target=\"_blank\" href=\"https://colab.research.google.com/github/tensorflow/docs/blob/master/site/en/tutorials/keras/keras_tuner.ipynb\"><img src=\"https://www.tensorflow.org/images/colab_logo_32px.png\" />Run in Google Colab</a>\n",
    "  </td>\n",
    "  <td>\n",
    "    <a target=\"_blank\" href=\"https://github.com/tensorflow/docs/blob/master/site/en/tutorials/keras/keras_tuner.ipynb\"><img src=\"https://www.tensorflow.org/images/GitHub-Mark-32px.png\" />View source on GitHub</a>\n",
    "  </td>\n",
    "  <td>\n",
    "    <a href=\"https://storage.googleapis.com/tensorflow_docs/docs/site/en/tutorials/keras/keras_tuner.ipynb\"><img src=\"https://www.tensorflow.org/images/download_logo_32px.png\" />Download notebook</a>\n",
    "  </td>\n",
    "</table>\n",
    "*"
   ]
  },
  {
   "cell_type": "markdown",
   "metadata": {
    "id": "xHxb-dlhMIzW"
   },
   "source": [
    "____\n",
    "## Overview\n",
    "\n",
    "The Keras Tuner is a library that helps you pick the optimal set of hyperparameters for your TensorFlow program. The process of selecting the right set of hyperparameters for your machine learning (ML) application is called *hyperparameter tuning* or *hypertuning*.\n",
    "\n",
    "Hyperparameters are the variables that govern the training process and the topology of an ML model. These variables remain constant over the training process and directly impact the performance of your ML program. Hyperparameters are of two types:\n",
    "1. **Model hyperparameters** which influence model selection such as the number and width of hidden layers\n",
    "2. **Algorithm hyperparameters** which influence the speed and quality of the learning algorithm such as the learning rate for Stochastic Gradient Descent (SGD) and the number of nearest neighbors for a k Nearest Neighbors (KNN) classifier\n",
    "\n",
    "In this tutorial, you will use the Keras Tuner to perform hypertuning for an image classification application."
   ]
  },
  {
   "cell_type": "markdown",
   "metadata": {
    "id": "ReV_UXOgCZvx"
   },
   "source": [
    "## Download and prepare the dataset\n",
    "\n",
    "In this tutorial, you will use the Keras Tuner to find the best hyperparameters for a machine learning model that classifies images of clothing from the [Fashion MNIST dataset](https://github.com/zalandoresearch/fashion-mnist)."
   ]
  },
  {
   "cell_type": "markdown",
   "metadata": {
    "id": "HljH_ENLEdHa"
   },
   "source": [
    "Load the data."
   ]
  },
  {
   "cell_type": "code",
   "execution_count": 2,
   "metadata": {
    "id": "OHlHs9Wj_PUM"
   },
   "outputs": [],
   "source": [
    "(img_train, label_train), (img_test, label_test) = tf.keras.datasets.fashion_mnist.load_data()"
   ]
  },
  {
   "cell_type": "code",
   "execution_count": 3,
   "metadata": {
    "id": "bLVhXs3xrUD0"
   },
   "outputs": [],
   "source": [
    "# Normalize pixel values between 0 and 1\n",
    "img_train = img_train.astype('float32') / 255.0\n",
    "img_test = img_test.astype('float32') / 255.0"
   ]
  },
  {
   "cell_type": "markdown",
   "metadata": {
    "id": "K5YEL2H2Ax3e"
   },
   "source": [
    "## Define the model\n",
    "\n",
    "When you build a model for hypertuning, you also define the hyperparameter search space in addition to the model architecture. The model you set up for hypertuning is called a *hypermodel*.\n",
    "\n",
    "You can define a hypermodel through two approaches:\n",
    "\n",
    "* By using a model builder function\n",
    "* By subclassing the `HyperModel` class of the Keras Tuner API\n",
    "\n",
    "You can also use two pre-defined `HyperModel` classes - [HyperXception](https://keras-team.github.io/keras-tuner/documentation/hypermodels/#hyperxception-class) and [HyperResNet](https://keras-team.github.io/keras-tuner/documentation/hypermodels/#hyperresnet-class) for computer vision applications.\n",
    "\n",
    "In this tutorial, you use a model builder function to define the image classification model. The model builder function returns a compiled model and uses hyperparameters you define inline to hypertune the model."
   ]
  },
  {
   "cell_type": "code",
   "execution_count": 4,
   "metadata": {
    "id": "ZQKodC-jtsva"
   },
   "outputs": [],
   "source": [
    "def model_builder(hp):\n",
    "    model = tf.keras.Sequential()\n",
    "    model.add(tf.keras.layers.Flatten(input_shape=(28, 28)))\n",
    "\n",
    "    # Tune the number of units in the first Dense layer\n",
    "    # Choose an optimal value between 32-512\n",
    "    hp_units = hp.Int('units', min_value=32, max_value=512, step=32)\n",
    "    model.add(tf.keras.layers.Dense(units=hp_units, activation='relu'))\n",
    "    model.add(tf.keras.layers.Dense(10))\n",
    "\n",
    "    # Tune the learning rate for the optimizer\n",
    "    # Choose an optimal value from 0.01, 0.001, or 0.0001\n",
    "    hp_learning_rate = hp.Choice('learning_rate', values=[1e-2, 1e-3, 1e-4])\n",
    "\n",
    "    model.compile(optimizer=tf.keras.optimizers.Adam(learning_rate=hp_learning_rate),\n",
    "                loss=tf.keras.losses.SparseCategoricalCrossentropy(from_logits=True),\n",
    "                metrics=['accuracy'])\n",
    "\n",
    "    return model"
   ]
  },
  {
   "cell_type": "markdown",
   "metadata": {
    "id": "0J1VYw4q3x0b"
   },
   "source": [
    "## Instantiate the tuner and perform hypertuning\n",
    "\n",
    "Instantiate the tuner to perform the hypertuning. The Keras Tuner has four tuners available - `RandomSearch`, `Hyperband`, `BayesianOptimization`, and `Sklearn`. In this tutorial, you use the [Hyperband](https://arxiv.org/pdf/1603.06560.pdf) tuner.\n",
    "\n",
    "To instantiate the Hyperband tuner, you must specify the hypermodel, the `objective` to optimize and the maximum number of epochs to train (`max_epochs`)."
   ]
  },
  {
   "cell_type": "code",
   "execution_count": 5,
   "metadata": {
    "id": "oichQFly6Y46"
   },
   "outputs": [],
   "source": [
    "tuner = kt.Hyperband(model_builder,\n",
    "                     objective='val_accuracy',\n",
    "                     max_epochs=10,\n",
    "                     factor=3,\n",
    "                     directory='/tmp/my_dir',\n",
    "                     project_name='intro_to_kt')"
   ]
  },
  {
   "cell_type": "markdown",
   "metadata": {
    "id": "VaIhhdKf9VtI"
   },
   "source": [
    "The Hyperband tuning algorithm uses adaptive resource allocation and early-stopping to quickly converge on a high-performing model. This is done using a sports championship style bracket. The algorithm trains a large number of models for a few epochs and carries forward only the top-performing half of models to the next round. Hyperband determines the number of models to train in a bracket by computing 1 + log<sub>`factor`</sub>(`max_epochs`) and rounding it up to the nearest integer."
   ]
  },
  {
   "cell_type": "markdown",
   "metadata": {
    "id": "cwhBdXx0Ekj8"
   },
   "source": [
    "Create a callback to stop training early after reaching a certain value for the validation loss."
   ]
  },
  {
   "cell_type": "code",
   "execution_count": 6,
   "metadata": {
    "id": "WT9IkS9NEjLc"
   },
   "outputs": [],
   "source": [
    "stop_early = tf.keras.callbacks.EarlyStopping(monitor='val_loss', patience=5)"
   ]
  },
  {
   "cell_type": "markdown",
   "metadata": {
    "id": "UKghEo15Tduy"
   },
   "source": [
    "Run the hyperparameter search. The arguments for the search method are the same as those used for `tf.keras.model.fit` in addition to the callback above."
   ]
  },
  {
   "cell_type": "code",
   "execution_count": 7,
   "metadata": {
    "id": "dSBQcTHF9cKt"
   },
   "outputs": [
    {
     "name": "stdout",
     "output_type": "stream",
     "text": [
      "Trial 30 Complete [00h 00m 12s]\n",
      "val_accuracy: 0.8644166588783264\n",
      "\n",
      "Best val_accuracy So Far: 0.8923333287239075\n",
      "Total elapsed time: 00h 03m 31s\n",
      "INFO:tensorflow:Oracle triggered exit\n",
      "\n",
      "The hyperparameter search is complete. The optimal number of units in the first densely-connected\n",
      "layer is 448 and the optimal learning rate for the optimizer\n",
      "is 0.001.\n",
      "\n"
     ]
    }
   ],
   "source": [
    "tuner.search(img_train, label_train, epochs=50, validation_split=0.2, callbacks=[stop_early])\n",
    "\n",
    "# Get the optimal hyperparameters\n",
    "best_hps=tuner.get_best_hyperparameters(num_trials=1)[0]\n",
    "\n",
    "print(f\"\"\"\n",
    "The hyperparameter search is complete. The optimal number of units in the first densely-connected\n",
    "layer is {best_hps.get('units')} and the optimal learning rate for the optimizer\n",
    "is {best_hps.get('learning_rate')}.\n",
    "\"\"\")"
   ]
  },
  {
   "cell_type": "markdown",
   "metadata": {
    "id": "Lak_ylf88xBv"
   },
   "source": [
    "## Train the model\n",
    "\n",
    "Find the optimal number of epochs to train the model with the hyperparameters obtained from the search."
   ]
  },
  {
   "cell_type": "code",
   "execution_count": 8,
   "metadata": {
    "id": "McO82AXOuxXh"
   },
   "outputs": [
    {
     "name": "stdout",
     "output_type": "stream",
     "text": [
      "Epoch 1/50\n",
      "1500/1500 [==============================] - 3s 2ms/step - loss: 0.6073 - accuracy: 0.7875 - val_loss: 0.4231 - val_accuracy: 0.8441\n",
      "Epoch 2/50\n",
      "1500/1500 [==============================] - 2s 1ms/step - loss: 0.3821 - accuracy: 0.8623 - val_loss: 0.3635 - val_accuracy: 0.8700\n",
      "Epoch 3/50\n",
      "1500/1500 [==============================] - 2s 1ms/step - loss: 0.3334 - accuracy: 0.8787 - val_loss: 0.3634 - val_accuracy: 0.8671\n",
      "Epoch 4/50\n",
      "1500/1500 [==============================] - 2s 1ms/step - loss: 0.3102 - accuracy: 0.8862 - val_loss: 0.3436 - val_accuracy: 0.8762\n",
      "Epoch 5/50\n",
      "1500/1500 [==============================] - 2s 1ms/step - loss: 0.2918 - accuracy: 0.8925 - val_loss: 0.3253 - val_accuracy: 0.8859\n",
      "Epoch 6/50\n",
      "1500/1500 [==============================] - 2s 1ms/step - loss: 0.2721 - accuracy: 0.9008 - val_loss: 0.3142 - val_accuracy: 0.8866\n",
      "Epoch 7/50\n",
      "1500/1500 [==============================] - 2s 1ms/step - loss: 0.2591 - accuracy: 0.9032 - val_loss: 0.3073 - val_accuracy: 0.8879\n",
      "Epoch 8/50\n",
      "1500/1500 [==============================] - 2s 1ms/step - loss: 0.2423 - accuracy: 0.9071 - val_loss: 0.3241 - val_accuracy: 0.8860\n",
      "Epoch 9/50\n",
      "1500/1500 [==============================] - 2s 1ms/step - loss: 0.2293 - accuracy: 0.9127 - val_loss: 0.3216 - val_accuracy: 0.8858\n",
      "Epoch 10/50\n",
      "1500/1500 [==============================] - 2s 1ms/step - loss: 0.2248 - accuracy: 0.9147 - val_loss: 0.3188 - val_accuracy: 0.8875\n",
      "Epoch 11/50\n",
      "1500/1500 [==============================] - 2s 1ms/step - loss: 0.2121 - accuracy: 0.9201 - val_loss: 0.3363 - val_accuracy: 0.8838\n",
      "Epoch 12/50\n",
      "1500/1500 [==============================] - 2s 1ms/step - loss: 0.2111 - accuracy: 0.9198 - val_loss: 0.3165 - val_accuracy: 0.8914\n",
      "Epoch 13/50\n",
      "1500/1500 [==============================] - 2s 1ms/step - loss: 0.1974 - accuracy: 0.9261 - val_loss: 0.3319 - val_accuracy: 0.8904\n",
      "Epoch 14/50\n",
      "1500/1500 [==============================] - 2s 1ms/step - loss: 0.1910 - accuracy: 0.9285 - val_loss: 0.3374 - val_accuracy: 0.8905\n",
      "Epoch 15/50\n",
      "1500/1500 [==============================] - 2s 1ms/step - loss: 0.1825 - accuracy: 0.9309 - val_loss: 0.3352 - val_accuracy: 0.8930\n",
      "Epoch 16/50\n",
      "1500/1500 [==============================] - 2s 1ms/step - loss: 0.1755 - accuracy: 0.9341 - val_loss: 0.3331 - val_accuracy: 0.8920\n",
      "Epoch 17/50\n",
      "1500/1500 [==============================] - 2s 1ms/step - loss: 0.1698 - accuracy: 0.9346 - val_loss: 0.3291 - val_accuracy: 0.8940\n",
      "Epoch 18/50\n",
      "1500/1500 [==============================] - 2s 1ms/step - loss: 0.1684 - accuracy: 0.9370 - val_loss: 0.3462 - val_accuracy: 0.8937\n",
      "Epoch 19/50\n",
      "1500/1500 [==============================] - 2s 1ms/step - loss: 0.1628 - accuracy: 0.9386 - val_loss: 0.3641 - val_accuracy: 0.8930\n",
      "Epoch 20/50\n",
      "1500/1500 [==============================] - 2s 1ms/step - loss: 0.1577 - accuracy: 0.9404 - val_loss: 0.3552 - val_accuracy: 0.8908\n",
      "Epoch 21/50\n",
      "1500/1500 [==============================] - 2s 1ms/step - loss: 0.1511 - accuracy: 0.9444 - val_loss: 0.3538 - val_accuracy: 0.8947\n",
      "Epoch 22/50\n",
      "1500/1500 [==============================] - 2s 1ms/step - loss: 0.1470 - accuracy: 0.9446 - val_loss: 0.3521 - val_accuracy: 0.8941\n",
      "Epoch 23/50\n",
      "1500/1500 [==============================] - 2s 1ms/step - loss: 0.1384 - accuracy: 0.9472 - val_loss: 0.3713 - val_accuracy: 0.8924\n",
      "Epoch 24/50\n",
      "1500/1500 [==============================] - 2s 1ms/step - loss: 0.1362 - accuracy: 0.9489 - val_loss: 0.3653 - val_accuracy: 0.8973\n",
      "Epoch 25/50\n",
      "1500/1500 [==============================] - 2s 1ms/step - loss: 0.1304 - accuracy: 0.9506 - val_loss: 0.3791 - val_accuracy: 0.8938\n",
      "Epoch 26/50\n",
      "1500/1500 [==============================] - 2s 1ms/step - loss: 0.1306 - accuracy: 0.9515 - val_loss: 0.4075 - val_accuracy: 0.8904\n",
      "Epoch 27/50\n",
      "1500/1500 [==============================] - 2s 1ms/step - loss: 0.1310 - accuracy: 0.9509 - val_loss: 0.3909 - val_accuracy: 0.8954\n",
      "Epoch 28/50\n",
      "1500/1500 [==============================] - 2s 1ms/step - loss: 0.1216 - accuracy: 0.9550 - val_loss: 0.3806 - val_accuracy: 0.8981\n",
      "Epoch 29/50\n",
      "1500/1500 [==============================] - 2s 1ms/step - loss: 0.1154 - accuracy: 0.9577 - val_loss: 0.3932 - val_accuracy: 0.8951\n",
      "Epoch 30/50\n",
      "1500/1500 [==============================] - 2s 1ms/step - loss: 0.1108 - accuracy: 0.9569 - val_loss: 0.4137 - val_accuracy: 0.8935\n",
      "Epoch 31/50\n",
      "1500/1500 [==============================] - 2s 1ms/step - loss: 0.1118 - accuracy: 0.9592 - val_loss: 0.4026 - val_accuracy: 0.8919\n",
      "Epoch 32/50\n",
      "1500/1500 [==============================] - 2s 1ms/step - loss: 0.1091 - accuracy: 0.9591 - val_loss: 0.3924 - val_accuracy: 0.8959\n",
      "Epoch 33/50\n",
      "1500/1500 [==============================] - 2s 1ms/step - loss: 0.1039 - accuracy: 0.9599 - val_loss: 0.4264 - val_accuracy: 0.8932\n",
      "Epoch 34/50\n",
      "1500/1500 [==============================] - 2s 1ms/step - loss: 0.1049 - accuracy: 0.9603 - val_loss: 0.4296 - val_accuracy: 0.8938\n",
      "Epoch 35/50\n",
      "1500/1500 [==============================] - 2s 1ms/step - loss: 0.1038 - accuracy: 0.9603 - val_loss: 0.4194 - val_accuracy: 0.8942\n",
      "Epoch 36/50\n",
      "1500/1500 [==============================] - 2s 1ms/step - loss: 0.0979 - accuracy: 0.9631 - val_loss: 0.4275 - val_accuracy: 0.8982\n",
      "Epoch 37/50\n",
      "1500/1500 [==============================] - 2s 1ms/step - loss: 0.1032 - accuracy: 0.9608 - val_loss: 0.4372 - val_accuracy: 0.8936\n",
      "Epoch 38/50\n",
      "1500/1500 [==============================] - 2s 1ms/step - loss: 0.0962 - accuracy: 0.9641 - val_loss: 0.4205 - val_accuracy: 0.8978\n",
      "Epoch 39/50\n",
      "1500/1500 [==============================] - 2s 1ms/step - loss: 0.0886 - accuracy: 0.9671 - val_loss: 0.4362 - val_accuracy: 0.8986\n",
      "Epoch 40/50\n",
      "1500/1500 [==============================] - 2s 1ms/step - loss: 0.0906 - accuracy: 0.9654 - val_loss: 0.4635 - val_accuracy: 0.8926\n",
      "Epoch 41/50\n",
      "1500/1500 [==============================] - 2s 1ms/step - loss: 0.0894 - accuracy: 0.9665 - val_loss: 0.4796 - val_accuracy: 0.8920\n",
      "Epoch 42/50\n",
      "1500/1500 [==============================] - 2s 1ms/step - loss: 0.0842 - accuracy: 0.9688 - val_loss: 0.4591 - val_accuracy: 0.8997\n",
      "Epoch 43/50\n",
      "1500/1500 [==============================] - 2s 1ms/step - loss: 0.0841 - accuracy: 0.9687 - val_loss: 0.4661 - val_accuracy: 0.8971\n",
      "Epoch 44/50\n",
      "1500/1500 [==============================] - 2s 1ms/step - loss: 0.0844 - accuracy: 0.9680 - val_loss: 0.4779 - val_accuracy: 0.8964\n",
      "Epoch 45/50\n",
      "1500/1500 [==============================] - 2s 1ms/step - loss: 0.0760 - accuracy: 0.9721 - val_loss: 0.4896 - val_accuracy: 0.8946\n",
      "Epoch 46/50\n",
      "1500/1500 [==============================] - 2s 1ms/step - loss: 0.0773 - accuracy: 0.9722 - val_loss: 0.4855 - val_accuracy: 0.8982\n",
      "Epoch 47/50\n",
      "1500/1500 [==============================] - 2s 1ms/step - loss: 0.0756 - accuracy: 0.9720 - val_loss: 0.5148 - val_accuracy: 0.8907\n",
      "Epoch 48/50\n",
      "1500/1500 [==============================] - 2s 1ms/step - loss: 0.0842 - accuracy: 0.9678 - val_loss: 0.5309 - val_accuracy: 0.8943\n",
      "Epoch 49/50\n",
      "1500/1500 [==============================] - 2s 1ms/step - loss: 0.0748 - accuracy: 0.9728 - val_loss: 0.5081 - val_accuracy: 0.8953\n",
      "Epoch 50/50\n",
      "1500/1500 [==============================] - 2s 1ms/step - loss: 0.0730 - accuracy: 0.9732 - val_loss: 0.5079 - val_accuracy: 0.8957\n",
      "Best epoch: 42\n"
     ]
    }
   ],
   "source": [
    "# Build the model with the optimal hyperparameters and train it on the data for 50 epochs\n",
    "model = tuner.hypermodel.build(best_hps)\n",
    "history = model.fit(img_train, label_train, epochs=50, validation_split=0.2)\n",
    "\n",
    "val_acc_per_epoch = history.history['val_accuracy']\n",
    "best_epoch = val_acc_per_epoch.index(max(val_acc_per_epoch)) + 1\n",
    "print('Best epoch: %d' % (best_epoch,))"
   ]
  },
  {
   "cell_type": "markdown",
   "metadata": {
    "id": "uOTSirSTI3Gp"
   },
   "source": [
    "Re-instantiate the hypermodel and train it with the optimal number of epochs from above."
   ]
  },
  {
   "cell_type": "code",
   "execution_count": 9,
   "metadata": {
    "id": "NoiPUEHmMhCe"
   },
   "outputs": [
    {
     "name": "stdout",
     "output_type": "stream",
     "text": [
      "Epoch 1/42\n",
      "1875/1875 [==============================] - 2s 910us/step - loss: 0.5968 - accuracy: 0.7862\n",
      "Epoch 2/42\n",
      "1875/1875 [==============================] - 2s 892us/step - loss: 0.3693 - accuracy: 0.8639\n",
      "Epoch 3/42\n",
      "1875/1875 [==============================] - 2s 898us/step - loss: 0.3220 - accuracy: 0.8808\n",
      "Epoch 4/42\n",
      "1875/1875 [==============================] - 2s 880us/step - loss: 0.2989 - accuracy: 0.8913\n",
      "Epoch 5/42\n",
      "1875/1875 [==============================] - 2s 1ms/step - loss: 0.2748 - accuracy: 0.8984\n",
      "Epoch 6/42\n",
      "1875/1875 [==============================] - 2s 922us/step - loss: 0.2639 - accuracy: 0.9012\n",
      "Epoch 7/42\n",
      "1875/1875 [==============================] - 2s 907us/step - loss: 0.2474 - accuracy: 0.9075\n",
      "Epoch 8/42\n",
      "1875/1875 [==============================] - 2s 900us/step - loss: 0.2396 - accuracy: 0.9114\n",
      "Epoch 9/42\n",
      "1875/1875 [==============================] - 2s 918us/step - loss: 0.2315 - accuracy: 0.9120\n",
      "Epoch 10/42\n",
      "1875/1875 [==============================] - 2s 913us/step - loss: 0.2251 - accuracy: 0.9154\n",
      "Epoch 11/42\n",
      "1875/1875 [==============================] - 2s 887us/step - loss: 0.2129 - accuracy: 0.9205\n",
      "Epoch 12/42\n",
      "1875/1875 [==============================] - 2s 1ms/step - loss: 0.2022 - accuracy: 0.9244\n",
      "Epoch 13/42\n",
      "1875/1875 [==============================] - 2s 1ms/step - loss: 0.1928 - accuracy: 0.9268\n",
      "Epoch 14/42\n",
      "1875/1875 [==============================] - 2s 952us/step - loss: 0.1821 - accuracy: 0.9310\n",
      "Epoch 15/42\n",
      "1875/1875 [==============================] - 2s 972us/step - loss: 0.1766 - accuracy: 0.9340\n",
      "Epoch 16/42\n",
      "1875/1875 [==============================] - 2s 1ms/step - loss: 0.1759 - accuracy: 0.9340\n",
      "Epoch 17/42\n",
      "1875/1875 [==============================] - 2s 1ms/step - loss: 0.1719 - accuracy: 0.9345\n",
      "Epoch 18/42\n",
      "1875/1875 [==============================] - 3s 1ms/step - loss: 0.1627 - accuracy: 0.9371\n",
      "Epoch 19/42\n",
      "1875/1875 [==============================] - 2s 1ms/step - loss: 0.1579 - accuracy: 0.9386\n",
      "Epoch 20/42\n",
      "1875/1875 [==============================] - 2s 1ms/step - loss: 0.1529 - accuracy: 0.9429\n",
      "Epoch 21/42\n",
      "1875/1875 [==============================] - 2s 1ms/step - loss: 0.1492 - accuracy: 0.9442\n",
      "Epoch 22/42\n",
      "1875/1875 [==============================] - 2s 1ms/step - loss: 0.1409 - accuracy: 0.9456\n",
      "Epoch 23/42\n",
      "1875/1875 [==============================] - 2s 1ms/step - loss: 0.1419 - accuracy: 0.9475\n",
      "Epoch 24/42\n",
      "1875/1875 [==============================] - 2s 944us/step - loss: 0.1383 - accuracy: 0.9472\n",
      "Epoch 25/42\n",
      "1875/1875 [==============================] - 2s 992us/step - loss: 0.1338 - accuracy: 0.9482\n",
      "Epoch 26/42\n",
      "1875/1875 [==============================] - 2s 984us/step - loss: 0.1322 - accuracy: 0.9498\n",
      "Epoch 27/42\n",
      "1875/1875 [==============================] - 2s 982us/step - loss: 0.1251 - accuracy: 0.9515\n",
      "Epoch 28/42\n",
      "1875/1875 [==============================] - 2s 986us/step - loss: 0.1214 - accuracy: 0.9540\n",
      "Epoch 29/42\n",
      "1875/1875 [==============================] - 2s 964us/step - loss: 0.1183 - accuracy: 0.9543\n",
      "Epoch 30/42\n",
      "1875/1875 [==============================] - 2s 947us/step - loss: 0.1206 - accuracy: 0.9536\n",
      "Epoch 31/42\n",
      "1875/1875 [==============================] - 2s 921us/step - loss: 0.1161 - accuracy: 0.9571\n",
      "Epoch 32/42\n",
      "1875/1875 [==============================] - 2s 949us/step - loss: 0.1050 - accuracy: 0.9605\n",
      "Epoch 33/42\n",
      "1875/1875 [==============================] - 2s 959us/step - loss: 0.1107 - accuracy: 0.9580\n",
      "Epoch 34/42\n",
      "1875/1875 [==============================] - 2s 942us/step - loss: 0.1057 - accuracy: 0.9608\n",
      "Epoch 35/42\n",
      "1875/1875 [==============================] - 2s 935us/step - loss: 0.1086 - accuracy: 0.9591\n",
      "Epoch 36/42\n",
      "1875/1875 [==============================] - 2s 937us/step - loss: 0.1017 - accuracy: 0.9615\n",
      "Epoch 37/42\n",
      "1875/1875 [==============================] - 2s 932us/step - loss: 0.1009 - accuracy: 0.9624\n",
      "Epoch 38/42\n",
      "1875/1875 [==============================] - 2s 993us/step - loss: 0.1029 - accuracy: 0.9619\n",
      "Epoch 39/42\n",
      "1875/1875 [==============================] - 2s 988us/step - loss: 0.0955 - accuracy: 0.9626\n",
      "Epoch 40/42\n",
      "1875/1875 [==============================] - 2s 956us/step - loss: 0.0966 - accuracy: 0.9642\n",
      "Epoch 41/42\n",
      "1875/1875 [==============================] - 2s 1ms/step - loss: 0.0942 - accuracy: 0.9650\n",
      "Epoch 42/42\n",
      "1875/1875 [==============================] - 2s 1ms/step - loss: 0.0913 - accuracy: 0.9661\n"
     ]
    },
    {
     "data": {
      "text/plain": [
       "<tensorflow.python.keras.callbacks.History at 0x193726dd0>"
      ]
     },
     "execution_count": 9,
     "metadata": {},
     "output_type": "execute_result"
    }
   ],
   "source": [
    "hypermodel = tuner.hypermodel.build(best_hps)\n",
    "\n",
    "# Retrain the model\n",
    "# hypermodel.fit(img_test, label_test, epochs=best_epoch) -> test 이미지로 학습하도록 오류가 있어 train 이미지로 수정\n",
    "hypermodel.fit(img_train, label_train, epochs=best_epoch)"
   ]
  },
  {
   "cell_type": "markdown",
   "metadata": {
    "id": "MqU5ZVAaag2v"
   },
   "source": [
    "To finish this tutorial, evaluate the hypermodel on the test data."
   ]
  },
  {
   "cell_type": "markdown",
   "metadata": {},
   "source": [
    "> 예제에서 보여준 학습 방식은 save and load 예제에서 나온 checkpoint callback 을 활용하는 것이 더 명확하고 간편합니다."
   ]
  },
  {
   "cell_type": "code",
   "execution_count": 10,
   "metadata": {
    "id": "9E0BTp9Ealjb"
   },
   "outputs": [
    {
     "name": "stdout",
     "output_type": "stream",
     "text": [
      "313/313 [==============================] - 1s 1ms/step - loss: 0.5073 - accuracy: 0.8956A: 0s - loss: 0.5020 - ac\n",
      "[test loss, test accuracy]: [0.5072923302650452, 0.8956000208854675]\n"
     ]
    }
   ],
   "source": [
    "eval_result = hypermodel.evaluate(img_test, label_test)\n",
    "print(\"[test loss, test accuracy]:\", eval_result)"
   ]
  },
  {
   "cell_type": "markdown",
   "metadata": {
    "id": "EQRpPHZsz-eC"
   },
   "source": [
    "The `/tmp/my_dir/intro_to_kt` directory contains detailed logs and checkpoints for every trial (model configuration) run during the hyperparameter search. If you re-run the hyperparameter search, the Keras Tuner uses the existing state from these logs to resume the search. To disable this behavior, pass an additional `overwrite=True` argument while instantiating the tuner."
   ]
  },
  {
   "cell_type": "markdown",
   "metadata": {
    "id": "sKwLOzKpFGAj"
   },
   "source": [
    "## Summary\n",
    "\n",
    "In this tutorial, you learned how to use the Keras Tuner to tune hyperparameters for a model. To learn more about the Keras Tuner, check out these additional resources:\n",
    "\n",
    "* [Keras Tuner on the TensorFlow blog](https://blog.tensorflow.org/2020/01/hyperparameter-tuning-with-keras-tuner.html)\n",
    "* [Keras Tuner website](https://keras-team.github.io/keras-tuner/)\n",
    "\n",
    "Also check out the [HParams Dashboard](https://www.tensorflow.org/tensorboard/hyperparameter_tuning_with_hparams) in TensorBoard to interactively tune your model hyperparameters."
   ]
  }
 ],
 "metadata": {
  "colab": {
   "collapsed_sections": [
    "Tce3stUlHN0L"
   ],
   "name": "keras_tuner.ipynb",
   "provenance": [],
   "toc_visible": true
  },
  "kernelspec": {
   "display_name": "Python 3",
   "language": "python",
   "name": "python3"
  },
  "language_info": {
   "codemirror_mode": {
    "name": "ipython",
    "version": 3
   },
   "file_extension": ".py",
   "mimetype": "text/x-python",
   "name": "python",
   "nbconvert_exporter": "python",
   "pygments_lexer": "ipython3",
   "version": "3.7.6"
  }
 },
 "nbformat": 4,
 "nbformat_minor": 4
}
